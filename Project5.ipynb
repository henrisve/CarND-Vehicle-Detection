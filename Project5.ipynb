{
 "cells": [
  {
   "cell_type": "code",
   "execution_count": 163,
   "metadata": {},
   "outputs": [],
   "source": [
    "#Functions from lesson:\n",
    "import matplotlib.image as mpimg\n",
    "import matplotlib.pyplot as plt\n",
    "#%matplotlib notebook\n",
    "%matplotlib inline\n",
    "import numpy as np\n",
    "#import pickle\n",
    "import cv2\n",
    "from scipy.ndimage.measurements import label\n",
    "import glob\n",
    "from skimage.feature import hog\n",
    "from sklearn.svm import LinearSVC\n",
    "from sklearn.preprocessing import StandardScaler\n",
    "# for scikit-learn >= 0.18 use:\n",
    "from sklearn.model_selection import train_test_split\n",
    "from moviepy.editor import VideoFileClip\n",
    "from IPython.display import HTML\n",
    "import pickle\n",
    "import time\n",
    "import random\n",
    "import os\n",
    "def load_pickle(file):\n",
    "    with open(file+\".pckl\", mode='rb') as f:\n",
    "        return pickle.load(f)\n",
    "    \n",
    "def save_pickle(filename,obj):\n",
    "    print(\"saved as\", filename + \".pckl\")\n",
    "    with open(filename+\".pckl\", mode='wb') as f:\n",
    "        pickle.dump(obj, f)   \n",
    "\n",
    "def convert_color(image, color_space='RGB2YCrCb',copy=False):\n",
    "    if color_space != 'RGB':\n",
    "        if color_space == 'HSV':\n",
    "            return cv2.cvtColor(image, cv2.COLOR_RGB2HSV)\n",
    "        elif color_space == 'LUV':\n",
    "            return cv2.cvtColor(image, cv2.COLOR_RGB2LUV)\n",
    "        elif color_space == 'HLS':\n",
    "            return cv2.cvtColor(image, cv2.COLOR_RGB2HLS)\n",
    "        elif color_space == 'YUV':\n",
    "            return cv2.cvtColor(image, cv2.COLOR_RGB2YUV)\n",
    "        elif color_space == 'YCrCb':\n",
    "            return cv2.cvtColor(image, cv2.COLOR_RGB2YCrCb)\n",
    "    elif copy: \n",
    "        return np.copy(image)   #??   \n",
    "    else:\n",
    "        return image\n",
    "\n",
    "\n",
    "def get_hog_features(img, orient, pix_per_cell, cell_per_block, \n",
    "                        vis=False, feature_vec=True):\n",
    "    # Call with two outputs if vis==True\n",
    "    if vis == True:\n",
    "        features, hog_image = hog(img, orientations=orient, \n",
    "                                  pixels_per_cell=(pix_per_cell, pix_per_cell),\n",
    "                                  cells_per_block=(cell_per_block, cell_per_block), \n",
    "                                  transform_sqrt=True, \n",
    "                                  visualise=vis, feature_vector=feature_vec)\n",
    "        return features, hog_image\n",
    "    # Otherwise call with one output\n",
    "    else:      \n",
    "        features = hog(img, orientations=orient, \n",
    "                       pixels_per_cell=(pix_per_cell, pix_per_cell),\n",
    "                       cells_per_block=(cell_per_block, cell_per_block), \n",
    "                       transform_sqrt=True, \n",
    "                       visualise=vis, feature_vector=feature_vec)\n",
    "        return features\n",
    "\n",
    "# Define a function to compute binned color features  \n",
    "def bin_spatial(img, size=(32, 32)):\n",
    "    # Use cv2.resize().ravel() to create the feature vector\n",
    "    features = cv2.resize(img, size).ravel() \n",
    "    # Return the feature vector\n",
    "    return features\n",
    "\n",
    "# Define a function to compute color histogram features \n",
    "# NEED TO CHANGE bins_range if reading .png files with mpimg!\n",
    "def color_hist(img, nbins=32, bins_range=(0, 256)):\n",
    "    # Compute the histogram of the color channels separately\n",
    "    channel1_hist = np.histogram(img[:,:,0], bins=nbins, range=bins_range)\n",
    "    channel2_hist = np.histogram(img[:,:,1], bins=nbins, range=bins_range)\n",
    "    channel3_hist = np.histogram(img[:,:,2], bins=nbins, range=bins_range)\n",
    "    # Concatenate the histograms into a single feature vector\n",
    "    hist_features = np.concatenate((channel1_hist[0], channel2_hist[0], channel3_hist[0]))\n",
    "    # Return the individual histograms, bin_centers and feature vector\n",
    "    return hist_features\n",
    "\n",
    "\n",
    "\n",
    "# Define a function to extract features from a list of images\n",
    "# Have this function call bin_spatial() and color_hist()\n",
    "def extract_features(imgs, color_space='RGB', spatial_size=(32, 32),\n",
    "                        hist_bins=32, orient=9, \n",
    "                        pix_per_cell=8, cell_per_block=2, hog_channel=[True,False,False],\n",
    "                        spatial_feat=True, hist_feat=True, hog_feat=True):\n",
    "    # Create a list to append feature vectors to\n",
    "    features = []\n",
    "    import sys\n",
    "    # Iterate through the list of images\n",
    "    \n",
    "    for i,file in enumerate(imgs):\n",
    "        \n",
    "        file_features = []\n",
    "        # Read in each one by one\n",
    "        image = mpimg.imread(file)\n",
    "        # apply color conversion if other than 'RGB'   \n",
    "        feature_image = convert_color(image,color_space,True)\n",
    "        if spatial_feat == True:\n",
    "            spatial_features = bin_spatial(feature_image, size=spatial_size)\n",
    "            file_features.append(spatial_features)\n",
    "        if hist_feat == True:\n",
    "            # Apply color_hist()\n",
    "            hist_features = color_hist(feature_image, nbins=hist_bins)\n",
    "            file_features.append(hist_features)\n",
    "        if hog_feat == True:\n",
    "        # Call get_hog_features() with vis=False, feature_vec=True\n",
    "            hog_features = []\n",
    "            for channel in range(feature_image.shape[2]):\n",
    "                if hog_channel[channel]:\n",
    "                    hog_features.append(get_hog_features(feature_image[:,:,channel], \n",
    "                                        orient, pix_per_cell, cell_per_block, \n",
    "                                        vis=False, feature_vec=True))\n",
    "            hog_features = np.ravel(hog_features)      \n",
    "            # Append the new feature vector to the features list\n",
    "            file_features.append(hog_features)\n",
    "        features.append(np.concatenate(file_features))\n",
    "        ss=sys.getsizeof(spatial_features)\n",
    "        sh=sys.getsizeof(hist_features)\n",
    "        sho=sys.getsizeof(hog_features)\n",
    "        print('\\r', f\"ss: {ss}, sh: {sh}, sho: {sho}, it: {i} / {len(imgs)} tots: {sys.getsizeof(features)} \", end='')\n",
    "    # Return list of feature vectors\n",
    "    return features\n",
    "    \n",
    "# Define a function that takes an image,\n",
    "# start and stop positions in both x and y, \n",
    "# window size (x and y dimensions),  \n",
    "# and overlap fraction (for both x and y)\n",
    "\n",
    "\n",
    "def confirm_car(img,svc,orient, pix_per_cell, cell_per_block,\n",
    "                spatial_size, hist_bins,color_space,hog_channel,\n",
    "                spatial_feat=True, hist_feat=True, hog_feat=True)\n",
    "\n",
    "    imgs=[img]\n",
    "    f=extract_features(imgs, color_space, spatial_size,\n",
    "                        hist_bins, orient, \n",
    "                        pix_per_cell, cell_per_block, hog_channel,\n",
    "                        spatial_feat, hist_feat, hog_feat):\n",
    "        \n",
    "        \n",
    "                # Scale features and make a prediction\n",
    "    test_features = X_scaler.transform(f).reshape(1, -1))    \n",
    "\n",
    "    #test_features = X_scaler.transform(np.hstack((shape_feat, hist_feat)).reshape(1, -1))    \n",
    "    test_prediction = svc.predict(test_features)\n",
    "\n",
    "    return test_prediction\n",
    "\n",
    "        \n",
    "        \n",
    "     #       X = np.vstack((car_features, notcar_features)).astype(np.float64)                        \n",
    "    # Fit a per-column scaler\n",
    "    #try:\n",
    "\n",
    " \n",
    "# Define a single function that can extract features using hog sub-sampling and make predictions\n",
    "def find_cars(img, ystart, ystop, scale, svc, X_scaler, orient, pix_per_cell, cell_per_block, \n",
    "              spatial_size, hist_bins,color_space,hog_channel,one_row=False):\n",
    "    \n",
    "    # 64 was the orginal sampling rate, with 8 cells and 8 pix per cell\n",
    "    window = 64 #Should this still be 64??\n",
    "    \n",
    "    #To better fit with the analyse function thing, (it shows where the start should be)\n",
    "    ystop=int(ystop+window*scale)\n",
    "    \n",
    "    \n",
    "    box_list=[]\n",
    "    \n",
    "    #draw_img = np.copy(img)\n",
    "    img = img.astype(np.float32)/255\n",
    "    \n",
    "    img_tosearch = img[ystart:ystop,:,:]\n",
    "    ctrans_tosearch = convert_color(img_tosearch, color_space=color_space)  \n",
    "    \n",
    "    imshape = ctrans_tosearch.shape\n",
    "    if scale != 1:\n",
    "        ctrans_tosearch = cv2.resize(ctrans_tosearch, (np.int(imshape[1]/scale), np.int(imshape[0]/scale)))\n",
    "        \n",
    "    #if hog_channel[0]:\n",
    "    ch1 = ctrans_tosearch[:,:,0]\n",
    "    if hog_channel[1]:\n",
    "        ch2 = ctrans_tosearch[:,:,1]\n",
    "    if hog_channel[2]:\n",
    "        ch3 = ctrans_tosearch[:,:,2]\n",
    "\n",
    "    # Define blocks and steps as above\n",
    "    nxblocks = (ch1.shape[1] // pix_per_cell) - cell_per_block + 1\n",
    "    nyblocks = (ch1.shape[0] // pix_per_cell) - cell_per_block + 1 \n",
    "    nfeat_per_block = orient*cell_per_block**2\n",
    "    \n",
    "\n",
    "    nblocks_per_window = (window // pix_per_cell) - cell_per_block + 1\n",
    "    cells_per_step = 1  # Instead of overlap, define how many cells to step\n",
    "    nxsteps = (nxblocks - nblocks_per_window) // cells_per_step\n",
    "    if one_row:\n",
    "        nysteps=1\n",
    "    else:\n",
    "        nysteps = (nyblocks - nblocks_per_window) // cells_per_step\n",
    "    \n",
    "    # Compute individual channel HOG features for the entire image\n",
    "    \n",
    "    if hog_channel[0]:\n",
    "        hog1 = get_hog_features(ch1, orient, pix_per_cell, cell_per_block, feature_vec=False)\n",
    "    if hog_channel[1]:\n",
    "        hog2 = get_hog_features(ch2, orient, pix_per_cell, cell_per_block, feature_vec=False)\n",
    "    if hog_channel[2]:\n",
    "        hog3 = get_hog_features(ch3, orient, pix_per_cell, cell_per_block, feature_vec=False)\n",
    "    \n",
    "    for xb in range(nxsteps):\n",
    "        for yb in range(nysteps):\n",
    "            \n",
    "            ypos = yb*cells_per_step\n",
    "            xpos = xb*cells_per_step\n",
    "            # Extract HOG for this patch\n",
    "            hog_feat1=[]\n",
    "            hog_feat2=[]\n",
    "            hog_feat3=[]\n",
    "            if hog_channel[0]:\n",
    "                hog_feat1 = hog1[ypos:ypos+nblocks_per_window, xpos:xpos+nblocks_per_window].ravel() \n",
    "            if hog_channel[1]:\n",
    "                hog_feat2 = hog2[ypos:ypos+nblocks_per_window, xpos:xpos+nblocks_per_window].ravel() \n",
    "            if hog_channel[2]:\n",
    "                hog_feat3 = hog3[ypos:ypos+nblocks_per_window, xpos:xpos+nblocks_per_window].ravel() \n",
    "            hog_features = np.hstack((hog_feat1, hog_feat2, hog_feat3))\n",
    "            \n",
    "            \n",
    "            xleft = xpos*pix_per_cell\n",
    "            ytop = ypos*pix_per_cell\n",
    "\n",
    "            # Extract the image patch\n",
    "            subimg = cv2.resize(ctrans_tosearch[ytop:ytop+window, xleft:xleft+window], (64,64))\n",
    "            # Get color features\n",
    "            spatial_features = bin_spatial(subimg, size=spatial_size)\n",
    "            hist_features = color_hist(subimg, nbins=hist_bins)\n",
    "\n",
    "            # Scale features and make a prediction\n",
    "            test_features = X_scaler.transform(np.hstack((spatial_features, hist_features, hog_features)).reshape(1, -1))    \n",
    "\n",
    "            #test_features = X_scaler.transform(np.hstack((shape_feat, hist_feat)).reshape(1, -1))    \n",
    "            test_prediction = svc.predict(test_features)\n",
    "            \n",
    "            if test_prediction == 1:\n",
    "                xbox_left = np.int(xleft*scale)\n",
    "                ytop_draw = np.int(ytop*scale)\n",
    "                win_draw = np.int(window*scale)\n",
    "                box_list.append([(xbox_left, ytop_draw+ystart),(xbox_left+win_draw,ytop_draw+win_draw+ystart)])\n",
    "                #cv2.rectangle(draw_img,(xbox_left, ytop_draw+ystart),(xbox_left+win_draw,ytop_draw+win_draw+ystart),(0,0,255),6) \n",
    "                \n",
    "    return box_list##draw_img, \n",
    "\n",
    "\n",
    "\n",
    "\n",
    "# Here is your draw_boxes function from the previous exercise\n",
    "def draw_boxes(img, bboxes, color=(0, 0, 255), thick=6):\n",
    "    # Make a copy of the image\n",
    "    imcopy = np.copy(img)\n",
    "    random_color = False\n",
    "    # Iterate through the bounding boxes\n",
    "    for bbox in bboxes:\n",
    "        if color == 'random' or random_color:\n",
    "            color = (np.random.randint(0,255), np.random.randint(0,255), np.random.randint(0,255))\n",
    "            random_color = True\n",
    "        # Draw a rectangle given bbox coordinates\n",
    "        cv2.rectangle(imcopy, bbox[0], bbox[1], color, thick)\n",
    "    # Return the image copy with boxes drawn\n",
    "    return imcopy\n",
    "\n",
    "#Add a heatmap based on the boxes\n",
    "def add_heat(heatmap, bbox_list,heat=1):\n",
    "    # Iterate through list of bboxes\n",
    "    for box in bbox_list:\n",
    "        #print(box[0][1],box[1][1], box[0][0],box[1][0])\n",
    "        # Add += 1 for all pixels inside each bbox\n",
    "        # Assuming each \"box\" takes the form ((x1, y1), (x2, y2))\n",
    "        heatmap[box[0][1]:box[1][1], box[0][0]:box[1][0]] += heat\n",
    "\n",
    "    # Return updated heatmap\n",
    "    return heatmap# Iterate through list of bboxes\n",
    "\n",
    "#keep just the parts where we have more than one box\n",
    "def apply_threshold(heatmap, threshold):\n",
    "    # Zero out pixels below the threshold\n",
    "    heatmap[heatmap <= threshold] = 0\n",
    "    # Return thresholded map\n",
    "    return heatmap\n",
    "\n",
    "def decrease_threshold(heatmap,heat=1):\n",
    "    # Zero out pixels below the threshold\n",
    "    heatmap[heatmap > 0] *= heat #-= heat\n",
    "    heatmap[heatmap < 0] = 0\n",
    "    # Return thresholded map\n",
    "    return heatmap\n",
    "\n",
    "def draw_labeled_bboxes(img, labels):\n",
    "    # Iterate through all detected cars\n",
    "    all_bbox=[]\n",
    "    for car_number in range(1, labels[1]+1):\n",
    "        # Find pixels with each car_number label value\n",
    "        nonzero = (labels[0] == car_number).nonzero()\n",
    "        # Identify x and y values of those pixels\n",
    "        nonzeroy = np.array(nonzero[0])\n",
    "        nonzerox = np.array(nonzero[1])\n",
    "        # Define a bounding box based on min/max x and y\n",
    "        bbox = ((np.min(nonzerox), np.min(nonzeroy)), (np.max(nonzerox), np.max(nonzeroy)))\n",
    "        all_bbox.append(bbox)\n",
    "        # Draw the box on the image\n",
    "        cv2.rectangle(img, bbox[0], bbox[1], (0,0,255), 6)\n",
    "    # Return the image\n",
    "    return img,all_bbox\n",
    "\n",
    "def get_heatmap_accuracy(y_start_stop, svc, X_scaler, orient,pix_per_cell, cell_per_block, \n",
    "                         spatial_size, hist_bins,color_space,hog_channel,scale = 1.5):\n",
    "    images = sorted(glob.glob('test_images/test*.jpg'))\n",
    "    bimages = sorted(glob.glob('test_images/btest*.jpg'))\n",
    "    totalcorr=0\n",
    "    for index in range(len(images)):\n",
    "        image = mpimg.imread(images[index])\n",
    "        bimage = mpimg.imread(bimages[index])\n",
    "        draw_image = np.copy(image)\n",
    "        bimage=np.copy(bimage[:,:,0]).astype(np.float32)/255\n",
    "        bimage[bimage>100]=255\n",
    "\n",
    "        # Uncomment the following line if you extracted training\n",
    "        # data from .png images (scaled 0 to 1 by mpimg) and the\n",
    "        # image you are searching is a .jpg (scaled 0 to 255)\n",
    "        image = image.astype(np.float32)/255\n",
    "        \n",
    "\n",
    "        hot_windows = find_cars(image, y_start_stop[0], y_start_stop[1], scale, svc, X_scaler, orient, \n",
    "                      pix_per_cell, cell_per_block, spatial_size, hist_bins,color_space,hog_channel)\n",
    "\n",
    "        window_img = draw_boxes(draw_image, hot_windows, color=(0, 0, 255), thick=6)                    \n",
    "\n",
    "        heatmap = np.zeros_like(image[:,:,0])\n",
    "        heatmap = add_heat(heatmap, hot_windows)\n",
    "\n",
    "        heatmap_img = apply_threshold(heatmap, 1)\n",
    "        heatmap_binary=heatmap_img\n",
    "        heatmap_binary[heatmap_binary>0]=255\n",
    "        shape=np.shape(heatmap_binary)\n",
    "        totalcorr+=sum(sum(heatmap_binary==bimage))/(shape[0]*shape[1])\n",
    "\n",
    "    totalcorr/=len(images)\n",
    "    return totalcorr\n"
   ]
  },
  {
   "cell_type": "code",
   "execution_count": 9,
   "metadata": {},
   "outputs": [
    {
     "name": "stderr",
     "output_type": "stream",
     "text": [
      "WARNING:py.warnings:/usr/local/lib/python3.6/dist-packages/skimage/feature/_hog.py:119: skimage_deprecation: Default value of `block_norm`==`L1` is deprecated and will be changed to `L2-Hys` in v0.15\n",
      "  'be changed to `L2-Hys` in v0.15', skimage_deprecation)\n",
      "\n"
     ]
    },
    {
     "name": "stdout",
     "output_type": "stream",
     "text": [
      "()\n",
      "data/vehicles/augmented/car13798.png\n"
     ]
    },
    {
     "data": {
      "text/plain": [
       "Text(0.5,1,'Not Car HOG')"
      ]
     },
     "execution_count": 9,
     "metadata": {},
     "output_type": "execute_result"
    },
    {
     "data": {
      "image/png": "[encoded data removed]",
      "text/plain": [
       "<matplotlib.figure.Figure at 0x7f2abc70cf98>"
      ]
     },
     "metadata": {},
     "output_type": "display_data"
    }
   ],
   "source": [
    "#Get images etc for the report\n",
    "# Divide up into cars and notcars\n",
    "#images = glob.glob('data/*/*/*.png')\n",
    "#print(len(images))\n",
    "cars = glob.glob('data/vehicles/**/*.png')\n",
    "notcars = glob.glob('data/non-vehicles/**/*.png')\n",
    "\n",
    "#for image in images:\n",
    "#    if 'GTI' in image or 'Extras' in image:\n",
    "#        notcars.append(image)\n",
    "#    else:\n",
    "#        cars.append(image)\n",
    "\n",
    "carIndex=np.random.randint(len(cars))\n",
    "notcarIndex=np.random.randint(len(notcars))\n",
    "print(np.shape(cars[carIndex]))\n",
    "print(cars[carIndex])\n",
    "\n",
    "carExampleImage=mpimg.imread(cars[carIndex])\n",
    "notExampleImage=mpimg.imread(notcars[notcarIndex])      \n",
    "\n",
    "#Then some images and thier Hog features,\n",
    "\n",
    "_, carhogimage = get_hog_features(carExampleImage[:,:,2], 9, 8, 8, vis=True, feature_vec=True)\n",
    "_, nothogimage = get_hog_features(notExampleImage[:,:,2], 9, 8, 8, vis=True, feature_vec=True)\n",
    "\n",
    "f, ((ax1, ax2), (ax3, ax4)) = plt.subplots(2, 2, figsize=(10,10))\n",
    "f.subplots_adjust(hspace = .4, wspace=.2)\n",
    "ax1.imshow(carExampleImage)\n",
    "ax1.set_title('Car', fontsize=20)\n",
    "ax2.imshow(carhogimage, cmap='gray')\n",
    "ax2.set_title('Car HOG', fontsize=20)\n",
    "ax3.imshow(notExampleImage)\n",
    "ax3.set_title('Not Car', fontsize=20)\n",
    "ax4.imshow(nothogimage, cmap='gray')\n",
    "ax4.set_title('Not Car HOG', fontsize=20)"
   ]
  },
  {
   "cell_type": "code",
   "execution_count": 10,
   "metadata": {},
   "outputs": [],
   "source": [
    "#Get features\n",
    "#Try using a Genetic algorithm or something to find this\n",
    "### TODO: Tweak these parameters and see how the results change.\n",
    "        \n",
    "def get_feature_and_train(color_space = 'YUV', # Can be RGB, HSV, LUV, HLS, YUV, YCrCb\n",
    "                                    orient = 11,  # HOG orientations\n",
    "                                    pix_per_cell = 16, # HOG pixels per cell\n",
    "                                    cell_per_block = 4, # HOG cells per block\n",
    "                                    hog_channel1 = False, #2#\"ALL\" # Can be 0, 1, 2, or \"ALL\"\n",
    "                                    hog_channel2 = False,\n",
    "                                    hog_channel3 = True,\n",
    "                                    spatial_size = (16, 16), # Spatial binning dimensions\n",
    "                                    hist_bins = 16,    # Number of histogram bins\n",
    "                                    spatial_feat = True, # Spatial features on or off\n",
    "                                    hist_feat = True, # Histogram features on or off\n",
    "                                    hog_feat = True, # HOG features on or off\n",
    "                                    sample_size=-1,\n",
    "                                    y_start_stop = [400,660]):# Min and max in y to search in slide_window()\n",
    "    print(\"1\")                                \n",
    "    cars = glob.glob('data/vehicles/**/*.png')\n",
    "    notcars = glob.glob('data/non-vehicles/**/*.png')\n",
    "\n",
    "    hog_channel = [hog_channel1,hog_channel2,hog_channel3]\n",
    "    t1=time.time()\n",
    "    if sample_size > 0:\n",
    "        cars=np.random.choice(cars,sample_size, replace=False)\n",
    "        notcars=np.random.choice(notcars,sample_size, replace=False)\n",
    "    print(\"2\")   \n",
    "    car_features = extract_features(cars, color_space=color_space, \n",
    "                            spatial_size=spatial_size, hist_bins=hist_bins, \n",
    "                            orient=orient, pix_per_cell=pix_per_cell, \n",
    "                            cell_per_block=cell_per_block, \n",
    "                            hog_channel=hog_channel, spatial_feat=spatial_feat, \n",
    "                            hist_feat=hist_feat, hog_feat=hog_feat)\n",
    "    print(\"3\")   \n",
    "    notcar_features = extract_features(notcars, color_space=color_space, \n",
    "                            spatial_size=spatial_size, hist_bins=hist_bins, \n",
    "                            orient=orient, pix_per_cell=pix_per_cell, \n",
    "                            cell_per_block=cell_per_block, \n",
    "                            hog_channel=hog_channel, spatial_feat=spatial_feat, \n",
    "                            hist_feat=hist_feat, hog_feat=hog_feat)\n",
    "    print(\"4\")   \n",
    "    X = np.vstack((car_features, notcar_features)).astype(np.float64)                        \n",
    "    # Fit a per-column scaler\n",
    "    #try:\n",
    "    print(\"5\")   \n",
    "    X_scaler = StandardScaler().fit(X)\n",
    "    #except\n",
    "    # Apply the scaler to X\n",
    "    print(\"6\")   \n",
    "    scaled_X = X_scaler.transform(X)\n",
    "    print(\"7\")   \n",
    "    # Define the labels vector\n",
    "    y = np.hstack((np.ones(len(car_features)), np.zeros(len(notcar_features))))\n",
    "\n",
    "    print(\"8\")   \n",
    "    # Split up data into randomized training and test sets\n",
    "    rand_state = np.random.randint(0, 100)\n",
    "    X_train, X_test, y_train, y_test = train_test_split(\n",
    "        scaled_X, y, test_size=0.2, random_state=rand_state)\n",
    "\n",
    "   # print('Using:',orient,'orientations',pix_per_cell,\n",
    "   #     'pixels per cell and', cell_per_block,'cells per block')\n",
    "   # print('Feature vector length:', len(X_train[0]))\n",
    "\n",
    "\n",
    "    #Train classifier\n",
    "    print(\"9\")   \n",
    "    # Use a linear SVC \n",
    "    svc = LinearSVC(C=1.2)\n",
    "    print(\"10\")   \n",
    "    t2=time.time()\n",
    "    svc.fit(X_train, y_train)\n",
    "    t3 = time.time()\n",
    "    total_time=t3-t1\n",
    "    print(\"11\")   \n",
    "    #print(round(total_time, 2), \" to run all\")\n",
    "    #print(round(t3-t2, 2), 'Seconds to train SVC...')\n",
    "    # Check the score of the SVC\n",
    "    score=svc.score(X_test, y_test)\n",
    "    heat_score=get_heatmap_accuracy(y_start_stop, svc, X_scaler, orient, \n",
    "                      pix_per_cell, cell_per_block, spatial_size, hist_bins,color_space,hog_channel)\n",
    "    #print('Test Accuracy of SVC = ', round(score, 4))\n",
    "    #print(\"heatmap accuracy: \", heat_score)\n",
    "    # Check the prediction time for a single sample\n",
    "    t=time.time()\n",
    "    return svc,X_scaler, score, heat_score ,total_time, t3-t2"
   ]
  },
  {
   "cell_type": "code",
   "execution_count": null,
   "metadata": {},
   "outputs": [],
   "source": [
    "\n",
    "\n",
    "\n",
    "    # Check the training time for the SVC\n",
    "    #t2=time.time()\n",
    "    #svc.fit(X_train, y_train)\n",
    "    #t3 = time.time()\n",
    "    #total_time=t3-t1\n",
    "    #print(round(total_time, 2), \" to run all\")\n",
    "    #print(round(t3-t2, 2), 'Seconds to train SVC...')\n",
    "    # Check the score of the SVC\n",
    "    #score=svc.score(X_test, y_test)\n",
    "    #heat_score=get_heatmap_accuracy(y_start_stop, svc, X_scaler, orient, \n",
    "    #                  pix_per_cell, cell_per_block, spatial_size, hist_bins,color_space,hog_channel)\n",
    "    #print('Test Accuracy of SVC = ', round(score, 4))\n",
    "    #print(\"heatmap accuracy: \", heat_score)\n",
    "    # Check the prediction time for a single sample\n",
    "    #t=time.time()\n",
    "    #return score, heat_score ,total_time, t3-t2\n",
    "\n",
    "table=[]\n",
    "row=[\"color_space\",\"orient\",\"pix_per_cell\",\"cell_per_block\",\"hog1\",\"hog2\",\"hog3\",\n",
    "     \"spatial_size\",\"spatial_feat\",\"hist_feat\",\"hog_feat\",\"score\",\"heat_score\",\"mean\",\"train_time\",\"total_time\"]\n",
    "table.append(row)\n",
    "\n",
    "color_space = 'YUV' # Can be RGB, HSV, LUV, HLS, YUV, YCrCb\n",
    "orient = 11  # HOG orientations\n",
    "pix_per_cell = 16 # HOG pixels per cell\n",
    "cell_per_block = 4 # HOG cells per block\n",
    "hog_channel1 = False #2#\"ALL\" # Can be 0, 1, 2, or \"ALL\"\n",
    "hog_channel2 = False\n",
    "hog_channel3 = True\n",
    "spatial_size = (16, 16) # Spatial binning dimensions\n",
    "hist_bins = 16    # Number of histogram bins\n",
    "spatial_feat = True # Spatial features on or off\n",
    "hist_feat = True # Histogram features on or off\n",
    "hog_feat = True # HOG features on or off\n",
    "y_start_stop = [400,660]\n",
    "sample_size=2000\n",
    "for color_space in ['HSV','YUV','HLS']:\n",
    "    for orient in [11,12]:\n",
    "        for pix_per_cell in [12,16]:\n",
    "            for cell_per_block in [2,4]:\n",
    "                for hist_bins in [16,20]:\n",
    "                    for hog_channel1 in [False,True]:\n",
    "                        for hog_channel2 in [False,True]:\n",
    "                            for hog_channel3 in [False,True]:\n",
    "                                _,_,score, heat_score ,total_time,train_time=get_feature_and_train(color_space, orient,  pix_per_cell,cell_per_block, hog_channel1,hog_channel2,\n",
    "                                            hog_channel3,spatial_size,  hist_bins, spatial_feat,hist_feat, hog_feat,sample_size)\n",
    "                                row=[color_space,orient,pix_per_cell,cell_per_block,hog_channel1,hog_channel2,hog_channel3,\n",
    "                                     spatial_size,spatial_feat,hist_feat,hog_feat,round(score, 4),round(heat_score, 4),\n",
    "                                     round((score+heat_score)/2, 4),round(train_time, 4),round(total_time, 4)]\n",
    "                                table.append(row)\n",
    "                    print(\"hog done\")\n",
    "\n",
    "    print(\"color done\")\n",
    "\n",
    "from IPython.display import HTML, display\n",
    "import tabulate\n",
    "\n",
    "display(HTML(tabulate.tabulate(table, tablefmt='html')))"
   ]
  },
  {
   "cell_type": "code",
   "execution_count": null,
   "metadata": {},
   "outputs": [
    {
     "name": "stdout",
     "output_type": "stream",
     "text": [
      "1\n",
      "2\n",
      " ss: 96, sh: 480, sho: 96, it: 10064 / 27760 tots: 87624 "
     ]
    }
   ],
   "source": [
    "#Train with good parameters we found above!\n",
    "\n",
    "color_space = 'YUV' # Can be RGB, HSV, LUV, HLS, YUV, YCrCb\n",
    "orient = 11  # HOG orientations\n",
    "pix_per_cell = 16 # HOG pixels per cell\n",
    "cell_per_block = 2 # HOG cells per block\n",
    "hog_channel1 = True #2#\"ALL\" # Can be 0, 1, 2, or \"ALL\"\n",
    "hog_channel2 = True\n",
    "hog_channel3 = True\n",
    "spatial_size = (16, 16) # Spatial binning dimensions\n",
    "hist_bins = 16    # Number of histogram bins\n",
    "spatial_feat = True # Spatial features on or off\n",
    "hist_feat = True # Histogram features on or off\n",
    "hog_feat = True # HOG features on or off\n",
    "y_start_stop = [400,660]\n",
    "\n",
    "color_space = 'YCrCb' # Can be RGB, HSV, LUV, HLS, YUV, YCrCb\n",
    "orient = 9  # HOG orientations\n",
    "pix_per_cell = 4 # HOG pixels per cell\n",
    "cell_per_block = 4 # HOG cells per block\n",
    "#hog_channel1 = True #2#\"ALL\" # Can be 0, 1, 2, or \"ALL\"\n",
    "#hog_channel2 = True\n",
    "#hog_channel3 = True\n",
    "#spatial_size = (32, 32) # Spatial binning dimensions\n",
    "#hist_bins = 16    # Number of histogram bins\n",
    "#spatial_feat = True # Spatial features on or off\n",
    "#hist_feat = True # Histogram features on or off\n",
    "#hog_feat = True # HOG features on or off\n",
    "\n",
    "#        colorspace='YCrBr',\n",
    "#        orient=9,\n",
    "#        pix_per_cell=4, \n",
    "#        cell_per_block=4, \n",
    "#        hog_channel='ALL',\n",
    "#        spatial_size=(32, 32),\n",
    "#        hist_bins=32,\n",
    "#        spatial_feat=True,\n",
    "#        hist_feat=True,\n",
    "#        hog_feat=True\n",
    "svc,X_scaler,score, heat_score ,total_time,train_time=get_feature_and_train(color_space, orient, pix_per_cell,\n",
    "                                    cell_per_block, hog_channel1,hog_channel2, hog_channel3,spatial_size, \n",
    "                                    hist_bins, spatial_feat,hist_feat, hog_feat,sample_size=-1)\n",
    "#Now svc is a great model, so save it\n",
    "print(f\"score: {score}, heat score: {heat_score}, tot time: {total_time}, train time: {train_time}\")\n",
    "\n",
    "\n",
    "            \n",
    "            \n",
    "save_pickle(\"model_ycrbr\",{\"svc\":svc,\n",
    "                     \"X_scaler\":X_scaler,\n",
    "                     \"orient\":orient,\n",
    "                     \"pix_per_cell\":pix_per_cell,\n",
    "                     \"cell_per_block\":cell_per_block,\n",
    "                     \"spatial_size\":spatial_size,\n",
    "                     \"hist_bins\":hist_bins,\n",
    "                     \"hog_channel\":[hog_channel1,hog_channel2,hog_channel3],\n",
    "                    \"color_space\":color_space\n",
    "                    })"
   ]
  },
  {
   "cell_type": "code",
   "execution_count": 2,
   "metadata": {},
   "outputs": [
    {
     "name": "stdout",
     "output_type": "stream",
     "text": [
      "96.0\n",
      "96\n",
      "96\n",
      "96\n",
      "96\n",
      "96\n",
      "96\n",
      "96\n",
      "96\n",
      "96\n",
      "96\n",
      "96\n",
      "96\n",
      "96\n",
      "96\n"
     ]
    },
    {
     "data": {
      "image/png": "[encoded data removed]",
      "text/plain": [
       "<matplotlib.figure.Figure at 0x7f5e9b63de48>"
      ]
     },
     "metadata": {},
     "output_type": "display_data"
    },
    {
     "data": {
      "image/png": "[encoded data removed]",
      "text/plain": [
       "<matplotlib.figure.Figure at 0x7f5e32f11ef0>"
      ]
     },
     "metadata": {},
     "output_type": "display_data"
    },
    {
     "data": {
      "image/png": "[encoded data removed]",
      "text/plain": [
       "<matplotlib.figure.Figure at 0x7f5e32e49588>"
      ]
     },
     "metadata": {},
     "output_type": "display_data"
    },
    {
     "name": "stdout",
     "output_type": "stream",
     "text": [
      "0.960684678819\n"
     ]
    }
   ],
   "source": [
    "#try the classifier with just images before video\n",
    "images = sorted(glob.glob('test_images/test*.jpg'))\n",
    "%matplotlib inline\n",
    "index=np.random.randint(len(images))\n",
    "image = mpimg.imread(images[index])\n",
    "\n",
    "draw_image = np.copy(image)\n",
    "\n",
    "# Uncomment the following line if you extracted training\n",
    "# data from .png images (scaled 0 to 1 by mpimg) and the\n",
    "# image you are searching is a .jpg (scaled 0 to 255)\n",
    "image = image.astype(np.float32)/255\n",
    "y_start_stop = [400,660]\n",
    "scale = 1.5\n",
    "\n",
    "\n",
    "\n",
    "dist_pickle=load_pickle(\"model\")\n",
    "svc = dist_pickle[\"svc\"]\n",
    "X_scaler = dist_pickle[\"X_scaler\"]\n",
    "orient = dist_pickle[\"orient\"]\n",
    "pix_per_cell = dist_pickle[\"pix_per_cell\"]\n",
    "cell_per_block = dist_pickle[\"cell_per_block\"]\n",
    "spatial_size = dist_pickle[\"spatial_size\"]\n",
    "hist_bins = dist_pickle[\"hist_bins\"]\n",
    "hog_channel = dist_pickle[\"hog_channel\"]\n",
    "color_space = dist_pickle[\"color_space\"]\n",
    "scale = 1.5\n",
    "print(64*scale)\n",
    "hot_windows = find_cars(image, y_start_stop[0], y_start_stop[1], scale, svc, X_scaler, orient, \n",
    "              pix_per_cell, cell_per_block, spatial_size, hist_bins,color_space,hog_channel)\n",
    "\n",
    "window_img = draw_boxes(draw_image, hot_windows, color=(0, 0, 255), thick=6)                    \n",
    "for window in hot_windows:\n",
    "    print(window[1][0]-window[0][0])\n",
    "    print(window[1][1]-window[0][1])\n",
    "plt.imshow(window_img)\n",
    "plt.show()\n",
    "#Do the heatmap stuff\n",
    "heatmap = np.zeros_like(image[:,:,0])\n",
    "heatmap = add_heat(heatmap, hot_windows)\n",
    "plt.imshow(heatmap, cmap='hot')\n",
    "plt.show()\n",
    "heatmap_img = apply_threshold(heatmap, 1)\n",
    "\n",
    "plt.imshow(heatmap_img, cmap='hot')\n",
    "plt.show()\n",
    "\n",
    "\n",
    "\n",
    "bimages = sorted(glob.glob('test_images/btest*.jpg'))\n",
    "bimage = mpimg.imread(bimages[index])\n",
    "draw_image = np.copy(image)\n",
    "bimage=np.copy(bimage[:,:,0]).astype(np.float32)/255\n",
    "bimage[bimage>100]=255\n",
    "heatmap_binary=heatmap_img\n",
    "heatmap_binary[heatmap_binary>0]=255\n",
    "shape=np.shape(heatmap_binary)\n",
    "print(sum(sum(heatmap_binary==bimage))/(shape[0]*shape[1]))"
   ]
  },
  {
   "cell_type": "code",
   "execution_count": 12,
   "metadata": {
    "scrolled": false
   },
   "outputs": [
    {
     "name": "stderr",
     "output_type": "stream",
     "text": [
      "WARNING:py.warnings:/usr/local/lib/python3.6/dist-packages/skimage/feature/_hog.py:119: skimage_deprecation: Default value of `block_norm`==`L1` is deprecated and will be changed to `L2-Hys` in v0.15\n",
      "  'be changed to `L2-Hys` in v0.15', skimage_deprecation)\n",
      "\n"
     ]
    },
    {
     "name": "stdout",
     "output_type": "stream",
     "text": [
      "1.0\n",
      "1.5\n",
      "2.0\n",
      "2.5\n",
      "[ 300.  350.  400.  450.  500.  550.  600.  650.  300.  350.  400.  450.\n",
      "  500.  550.  600.  300.  350.  400.  450.  500.  550.]\n",
      "[ 1.   1.   1.   1.   1.   1.   1.   1.   1.5  1.5  1.5  1.5  1.5  1.5  1.5\n",
      "  2.   2.   2.   2.   2.   2. ]\n",
      "[ 0.          0.          0.13684516  0.06448347  0.          0.          0.\n",
      "  0.          0.          0.          0.55404065  0.09978187  0.          0.\n",
      "  0.          0.          0.          0.39990629  0.          0.          0.        ]\n"
     ]
    },
    {
     "data": {
      "text/html": [
       "<table>\n",
       "<tbody>\n",
       "<tr><td>start</td><td>scale</td><td>match              </td><td>false                </td><td>boxes</td><td>time              </td></tr>\n",
       "<tr><td>300  </td><td>1.0  </td><td>0.0                </td><td>0.0                  </td><td>0    </td><td>3.087430477142334 </td></tr>\n",
       "<tr><td>350  </td><td>1.0  </td><td>0.0                </td><td>0.0                  </td><td>0    </td><td>5.605781078338623 </td></tr>\n",
       "<tr><td>400  </td><td>1.0  </td><td>0.13684515812649203</td><td>0.013209909960979744 </td><td>6    </td><td>7.86411190032959  </td></tr>\n",
       "<tr><td>450  </td><td>1.0  </td><td>0.06448347192803078</td><td>0.0032469067881950833</td><td>2    </td><td>9.77288031578064  </td></tr>\n",
       "<tr><td>500  </td><td>1.0  </td><td>0.0                </td><td>0.0                  </td><td>0    </td><td>11.403167247772217</td></tr>\n",
       "<tr><td>550  </td><td>1.0  </td><td>0.0                </td><td>0.0                  </td><td>0    </td><td>12.792498588562012</td></tr>\n",
       "<tr><td>600  </td><td>1.0  </td><td>0.0                </td><td>0.0                  </td><td>0    </td><td>13.972275018692017</td></tr>\n",
       "<tr><td>650  </td><td>1.0  </td><td>0.0                </td><td>0.008333333333333333 </td><td>1    </td><td>14.843976736068726</td></tr>\n",
       "<tr><td>300  </td><td>1.5  </td><td>0.0                </td><td>0.012499999999999999 </td><td>1    </td><td>1.4767813682556152</td></tr>\n",
       "<tr><td>350  </td><td>1.5  </td><td>0.0                </td><td>0.06559700873536704  </td><td>5    </td><td>2.8169989585876465</td></tr>\n",
       "<tr><td>400  </td><td>1.5  </td><td>0.5540406541373418 </td><td>0.06572961369554893  </td><td>16   </td><td>3.981203079223633 </td></tr>\n",
       "<tr><td>450  </td><td>1.5  </td><td>0.09978186672295859</td><td>0.02673298249989609  </td><td>3    </td><td>5.055677652359009 </td></tr>\n",
       "<tr><td>500  </td><td>1.5  </td><td>0.0                </td><td>0.012705345178420766 </td><td>1    </td><td>6.000500202178955 </td></tr>\n",
       "<tr><td>550  </td><td>1.5  </td><td>0.0                </td><td>0.0                  </td><td>0    </td><td>6.806067705154419 </td></tr>\n",
       "<tr><td>600  </td><td>1.5  </td><td>0.0                </td><td>0.0                  </td><td>0    </td><td>7.472218036651611 </td></tr>\n",
       "<tr><td>300  </td><td>2.0  </td><td>0.0                </td><td>0.0                  </td><td>0    </td><td>0.9333665370941162</td></tr>\n",
       "<tr><td>350  </td><td>2.0  </td><td>0.0                </td><td>0.037546750103889116 </td><td>3    </td><td>1.7910196781158447</td></tr>\n",
       "<tr><td>400  </td><td>2.0  </td><td>0.3999062876375991 </td><td>0.07952697390874121  </td><td>9    </td><td>2.6143481731414795</td></tr>\n",
       "<tr><td>450  </td><td>2.0  </td><td>0.0                </td><td>0.0                  </td><td>0    </td><td>3.355299234390259 </td></tr>\n",
       "<tr><td>500  </td><td>2.0  </td><td>0.0                </td><td>0.0                  </td><td>0    </td><td>3.9780704975128174</td></tr>\n",
       "<tr><td>550  </td><td>2.0  </td><td>0.0                </td><td>0.0                  </td><td>0    </td><td>4.539463043212891 </td></tr>\n",
       "</tbody>\n",
       "</table>"
      ],
      "text/plain": [
       "<IPython.core.display.HTML object>"
      ]
     },
     "metadata": {},
     "output_type": "display_data"
    },
    {
     "name": "stdout",
     "output_type": "stream",
     "text": [
      "saved as scaletable1.pckl\n"
     ]
    },
    {
     "data": {
      "image/png": "[encoded data removed]",
      "text/plain": [
       "<matplotlib.figure.Figure at 0x7f2abc00db00>"
      ]
     },
     "metadata": {},
     "output_type": "display_data"
    }
   ],
   "source": [
    "#try the classifier with just images before video\n",
    "images = sorted(glob.glob('test_images/test*.jpg'))\n",
    "\n",
    "\n",
    "dist_pickle=load_pickle(\"model\")\n",
    "svc = dist_pickle[\"svc\"]\n",
    "X_scaler = dist_pickle[\"X_scaler\"]\n",
    "orient = dist_pickle[\"orient\"]\n",
    "pix_per_cell = dist_pickle[\"pix_per_cell\"]\n",
    "cell_per_block = dist_pickle[\"cell_per_block\"]\n",
    "spatial_size = dist_pickle[\"spatial_size\"]\n",
    "hist_bins = dist_pickle[\"hist_bins\"]\n",
    "hog_channel = dist_pickle[\"hog_channel\"]\n",
    "color_space = dist_pickle[\"color_space\"]\n",
    "\n",
    "\n",
    "\n",
    "#draw_image = np.copy(image)\n",
    "bimages = sorted(glob.glob('test_images/btest*.jpg'))\n",
    "bimagesimages=[]\n",
    "for imgpath in bimages:\n",
    "    bimage = mpimg.imread(imgpath)\n",
    "    bimage=np.copy(bimage[:,:,0]).astype(np.float32)/255\n",
    "    bimage[bimage>100]=255\n",
    "    bimagesimages.append(bimage)\n",
    "\n",
    "ylen = bimagesimages[0].shape[0]  \n",
    "table=[]\n",
    "table.append([\"start\",\"scale\",\"match\",\"false\",\"boxes\",\"time\"])\n",
    "for scale in np.arange(1,3,0.5):\n",
    "    t1 = time.time()\n",
    "    print(scale)\n",
    "    #ystart=random.randint(300,ylen-100)\n",
    "    \n",
    "    #scale = random.uniform(0.5,2)\n",
    "    \n",
    "    for ystart in range(300,ylen,50):\n",
    "        y_start_stop = [ystart,ylen]\n",
    "        \n",
    "        nWindows=0\n",
    "        heatscore=0\n",
    "        heatscorefalse=0\n",
    "        bflag=False\n",
    "        for i, image_a in enumerate(images):\n",
    "            image =  mpimg.imread(image_a).astype(np.float32)/255\n",
    "            bimage=bimagesimages[i]\n",
    "            try:\n",
    "                hot_windows = find_cars(image, y_start_stop[0], y_start_stop[1], scale, svc, X_scaler, orient, \n",
    "                          pix_per_cell, cell_per_block, spatial_size, hist_bins,color_space,hog_channel,one_row=True)\n",
    "            except:\n",
    "                bflag=True\n",
    "                break\n",
    "            heatmap = np.zeros_like(image[:,:,0])\n",
    "            heatmap = add_heat(heatmap, hot_windows)\n",
    "            heatmap[heatmap>0]=255\n",
    "            shape=np.shape(heatmap)\n",
    "            #how much of what we want is good\n",
    "            truehotindexes = np.array(bimage[y_start_stop[0]:y_start_stop[0]+int(64*scale),:]>0)\n",
    "            hotindexes = np.array(heatmap[y_start_stop[0]:y_start_stop[0]+int(64*scale),:]>0)\n",
    "            deno =(sum(sum(truehotindexes)))\n",
    "            if deno!=0:\n",
    "                heatscore += sum(sum(truehotindexes&hotindexes))/deno\n",
    "            #how much false positive?\n",
    "            heatscorefalse += sum(sum(np.logical_not(truehotindexes)&hotindexes))/(sum(sum(np.logical_not(truehotindexes))))\n",
    "            t2 = time.time()\n",
    "            total_time=t2-t1\n",
    "            nWindows += len(hot_windows)\n",
    "        if bflag:\n",
    "            break\n",
    "        #if nWindows > 0:\n",
    "        heatscore/=len(images)\n",
    "        heatscorefalse/=len(images)\n",
    "        table.append([y_start_stop[0],scale,heatscore,heatscorefalse,nWindows,total_time])\n",
    "\n",
    "#window_img = draw_boxes(draw_image, hot_windows, color=(0, 0, 255), thick=6)                    \n",
    "from mpl_toolkits.mplot3d import Axes3D\n",
    "import scipy.linalg\n",
    "Xdata=np.array(table)[1:,0].astype(float)\n",
    "print(Xdata)\n",
    "Ydata=np.array(table)[1:,1].astype(float)\n",
    "print(Ydata)\n",
    "Zdata=np.array(table)[1:,2].astype(float)\n",
    "print(Zdata)\n",
    "#data=np.array((Xdata,Ydata,Zdata))\n",
    "#print(data)\n",
    "\n",
    "#X,Y = np.meshgrid(np.unique(X), np.unique(Y))\n",
    "\n",
    "#XX = X.flatten()\n",
    "#YY = Y.flatten()\n",
    "# best-fit quadratic curve\n",
    "#A = np.c_[np.ones(data.shape[0]), data[:,:2], np.prod(data[:,:2], axis=1), data[:,:2]**2]\n",
    "#C,_,_,_ = scipy.linalg.lstsq(A, data[:,2])\n",
    "\n",
    "# evaluate it on a grid\n",
    "#Z = np.dot(np.c_[np.ones(XX.shape), XX, YY, XX*YY, XX**2, YY**2], C).reshape(X.shape)\n",
    "\n",
    "fig = plt.figure()\n",
    "ax = fig.add_subplot(111, projection='3d')\n",
    "surf = ax.scatter(Xdata, Ydata,Zdata)\n",
    "\n",
    "from IPython.display import HTML, display\n",
    "import tabulate\n",
    "\n",
    "display(HTML(tabulate.tabulate(table, tablefmt='html')))\n",
    "save_pickle(\"scaletable1\",{\"table\":table})"
   ]
  },
  {
   "cell_type": "code",
   "execution_count": 10,
   "metadata": {},
   "outputs": [
    {
     "name": "stdout",
     "output_type": "stream",
     "text": [
      "[ 300.  305.  310. ...,  460.  465.  470.]\n",
      "[ 0.2  0.2  0.2 ...,  3.9  3.9  3.9]\n",
      "[ 0.  0.  0. ...,  0.  0.  0.]\n",
      "[ 0.04153646  0.040625    0.02981771 ...,  0.06817946  0.          0.03370001]\n"
     ]
    },
    {
     "data": {
      "application/javascript": [
       "/* Put everything inside the global mpl namespace */\n",
       "window.mpl = {};\n",
       "\n",
       "\n",
       "mpl.get_websocket_type = function() {\n",
       "    if (typeof(WebSocket) !== 'undefined') {\n",
       "        return WebSocket;\n",
       "    } else if (typeof(MozWebSocket) !== 'undefined') {\n",
       "        return MozWebSocket;\n",
       "    } else {\n",
       "        alert('Your browser does not have WebSocket support.' +\n",
       "              'Please try Chrome, Safari or Firefox ≥ 6. ' +\n",
       "              'Firefox 4 and 5 are also supported but you ' +\n",
       "              'have to enable WebSockets in about:config.');\n",
       "    };\n",
       "}\n",
       "\n",
       "mpl.figure = function(figure_id, websocket, ondownload, parent_element) {\n",
       "    this.id = figure_id;\n",
       "\n",
       "    this.ws = websocket;\n",
       "\n",
       "    this.supports_binary = (this.ws.binaryType != undefined);\n",
       "\n",
       "    if (!this.supports_binary) {\n",
       "        var warnings = document.getElementById(\"mpl-warnings\");\n",
       "        if (warnings) {\n",
       "            warnings.style.display = 'block';\n",
       "            warnings.textContent = (\n",
       "                \"This browser does not support binary websocket messages. \" +\n",
       "                    \"Performance may be slow.\");\n",
       "        }\n",
       "    }\n",
       "\n",
       "    this.imageObj = new Image();\n",
       "\n",
       "    this.context = undefined;\n",
       "    this.message = undefined;\n",
       "    this.canvas = undefined;\n",
       "    this.rubberband_canvas = undefined;\n",
       "    this.rubberband_context = undefined;\n",
       "    this.format_dropdown = undefined;\n",
       "\n",
       "    this.image_mode = 'full';\n",
       "\n",
       "    this.root = $('<div/>');\n",
       "    this._root_extra_style(this.root)\n",
       "    this.root.attr('style', 'display: inline-block');\n",
       "\n",
       "    $(parent_element).append(this.root);\n",
       "\n",
       "    this._init_header(this);\n",
       "    this._init_canvas(this);\n",
       "    this._init_toolbar(this);\n",
       "\n",
       "    var fig = this;\n",
       "\n",
       "    this.waiting = false;\n",
       "\n",
       "    this.ws.onopen =  function () {\n",
       "            fig.send_message(\"supports_binary\", {value: fig.supports_binary});\n",
       "            fig.send_message(\"send_image_mode\", {});\n",
       "            if (mpl.ratio != 1) {\n",
       "                fig.send_message(\"set_dpi_ratio\", {'dpi_ratio': mpl.ratio});\n",
       "            }\n",
       "            fig.send_message(\"refresh\", {});\n",
       "        }\n",
       "\n",
       "    this.imageObj.onload = function() {\n",
       "            if (fig.image_mode == 'full') {\n",
       "                // Full images could contain transparency (where diff images\n",
       "                // almost always do), so we need to clear the canvas so that\n",
       "                // there is no ghosting.\n",
       "                fig.context.clearRect(0, 0, fig.canvas.width, fig.canvas.height);\n",
       "            }\n",
       "            fig.context.drawImage(fig.imageObj, 0, 0);\n",
       "        };\n",
       "\n",
       "    this.imageObj.onunload = function() {\n",
       "        fig.ws.close();\n",
       "    }\n",
       "\n",
       "    this.ws.onmessage = this._make_on_message_function(this);\n",
       "\n",
       "    this.ondownload = ondownload;\n",
       "}\n",
       "\n",
       "mpl.figure.prototype._init_header = function() {\n",
       "    var titlebar = $(\n",
       "        '<div class=\"ui-dialog-titlebar ui-widget-header ui-corner-all ' +\n",
       "        'ui-helper-clearfix\"/>');\n",
       "    var titletext = $(\n",
       "        '<div class=\"ui-dialog-title\" style=\"width: 100%; ' +\n",
       "        'text-align: center; padding: 3px;\"/>');\n",
       "    titlebar.append(titletext)\n",
       "    this.root.append(titlebar);\n",
       "    this.header = titletext[0];\n",
       "}\n",
       "\n",
       "\n",
       "\n",
       "mpl.figure.prototype._canvas_extra_style = function(canvas_div) {\n",
       "\n",
       "}\n",
       "\n",
       "\n",
       "mpl.figure.prototype._root_extra_style = function(canvas_div) {\n",
       "\n",
       "}\n",
       "\n",
       "mpl.figure.prototype._init_canvas = function() {\n",
       "    var fig = this;\n",
       "\n",
       "    var canvas_div = $('<div/>');\n",
       "\n",
       "    canvas_div.attr('style', 'position: relative; clear: both; outline: 0');\n",
       "\n",
       "    function canvas_keyboard_event(event) {\n",
       "        return fig.key_event(event, event['data']);\n",
       "    }\n",
       "\n",
       "    canvas_div.keydown('key_press', canvas_keyboard_event);\n",
       "    canvas_div.keyup('key_release', canvas_keyboard_event);\n",
       "    this.canvas_div = canvas_div\n",
       "    this._canvas_extra_style(canvas_div)\n",
       "    this.root.append(canvas_div);\n",
       "\n",
       "    var canvas = $('<canvas/>');\n",
       "    canvas.addClass('mpl-canvas');\n",
       "    canvas.attr('style', \"left: 0; top: 0; z-index: 0; outline: 0\")\n",
       "\n",
       "    this.canvas = canvas[0];\n",
       "    this.context = canvas[0].getContext(\"2d\");\n",
       "\n",
       "    var backingStore = this.context.backingStorePixelRatio ||\n",
       "\tthis.context.webkitBackingStorePixelRatio ||\n",
       "\tthis.context.mozBackingStorePixelRatio ||\n",
       "\tthis.context.msBackingStorePixelRatio ||\n",
       "\tthis.context.oBackingStorePixelRatio ||\n",
       "\tthis.context.backingStorePixelRatio || 1;\n",
       "\n",
       "    mpl.ratio = (window.devicePixelRatio || 1) / backingStore;\n",
       "\n",
       "    var rubberband = $('<canvas/>');\n",
       "    rubberband.attr('style', \"position: absolute; left: 0; top: 0; z-index: 1;\")\n",
       "\n",
       "    var pass_mouse_events = true;\n",
       "\n",
       "    canvas_div.resizable({\n",
       "        start: function(event, ui) {\n",
       "            pass_mouse_events = false;\n",
       "        },\n",
       "        resize: function(event, ui) {\n",
       "            fig.request_resize(ui.size.width, ui.size.height);\n",
       "        },\n",
       "        stop: function(event, ui) {\n",
       "            pass_mouse_events = true;\n",
       "            fig.request_resize(ui.size.width, ui.size.height);\n",
       "        },\n",
       "    });\n",
       "\n",
       "    function mouse_event_fn(event) {\n",
       "        if (pass_mouse_events)\n",
       "            return fig.mouse_event(event, event['data']);\n",
       "    }\n",
       "\n",
       "    rubberband.mousedown('button_press', mouse_event_fn);\n",
       "    rubberband.mouseup('button_release', mouse_event_fn);\n",
       "    // Throttle sequential mouse events to 1 every 20ms.\n",
       "    rubberband.mousemove('motion_notify', mouse_event_fn);\n",
       "\n",
       "    rubberband.mouseenter('figure_enter', mouse_event_fn);\n",
       "    rubberband.mouseleave('figure_leave', mouse_event_fn);\n",
       "\n",
       "    canvas_div.on(\"wheel\", function (event) {\n",
       "        event = event.originalEvent;\n",
       "        event['data'] = 'scroll'\n",
       "        if (event.deltaY < 0) {\n",
       "            event.step = 1;\n",
       "        } else {\n",
       "            event.step = -1;\n",
       "        }\n",
       "        mouse_event_fn(event);\n",
       "    });\n",
       "\n",
       "    canvas_div.append(canvas);\n",
       "    canvas_div.append(rubberband);\n",
       "\n",
       "    this.rubberband = rubberband;\n",
       "    this.rubberband_canvas = rubberband[0];\n",
       "    this.rubberband_context = rubberband[0].getContext(\"2d\");\n",
       "    this.rubberband_context.strokeStyle = \"#000000\";\n",
       "\n",
       "    this._resize_canvas = function(width, height) {\n",
       "        // Keep the size of the canvas, canvas container, and rubber band\n",
       "        // canvas in synch.\n",
       "        canvas_div.css('width', width)\n",
       "        canvas_div.css('height', height)\n",
       "\n",
       "        canvas.attr('width', width * mpl.ratio);\n",
       "        canvas.attr('height', height * mpl.ratio);\n",
       "        canvas.attr('style', 'width: ' + width + 'px; height: ' + height + 'px;');\n",
       "\n",
       "        rubberband.attr('width', width);\n",
       "        rubberband.attr('height', height);\n",
       "    }\n",
       "\n",
       "    // Set the figure to an initial 600x600px, this will subsequently be updated\n",
       "    // upon first draw.\n",
       "    this._resize_canvas(600, 600);\n",
       "\n",
       "    // Disable right mouse context menu.\n",
       "    $(this.rubberband_canvas).bind(\"contextmenu\",function(e){\n",
       "        return false;\n",
       "    });\n",
       "\n",
       "    function set_focus () {\n",
       "        canvas.focus();\n",
       "        canvas_div.focus();\n",
       "    }\n",
       "\n",
       "    window.setTimeout(set_focus, 100);\n",
       "}\n",
       "\n",
       "mpl.figure.prototype._init_toolbar = function() {\n",
       "    var fig = this;\n",
       "\n",
       "    var nav_element = $('<div/>')\n",
       "    nav_element.attr('style', 'width: 100%');\n",
       "    this.root.append(nav_element);\n",
       "\n",
       "    // Define a callback function for later on.\n",
       "    function toolbar_event(event) {\n",
       "        return fig.toolbar_button_onclick(event['data']);\n",
       "    }\n",
       "    function toolbar_mouse_event(event) {\n",
       "        return fig.toolbar_button_onmouseover(event['data']);\n",
       "    }\n",
       "\n",
       "    for(var toolbar_ind in mpl.toolbar_items) {\n",
       "        var name = mpl.toolbar_items[toolbar_ind][0];\n",
       "        var tooltip = mpl.toolbar_items[toolbar_ind][1];\n",
       "        var image = mpl.toolbar_items[toolbar_ind][2];\n",
       "        var method_name = mpl.toolbar_items[toolbar_ind][3];\n",
       "\n",
       "        if (!name) {\n",
       "            // put a spacer in here.\n",
       "            continue;\n",
       "        }\n",
       "        var button = $('<button/>');\n",
       "        button.addClass('ui-button ui-widget ui-state-default ui-corner-all ' +\n",
       "                        'ui-button-icon-only');\n",
       "        button.attr('role', 'button');\n",
       "        button.attr('aria-disabled', 'false');\n",
       "        button.click(method_name, toolbar_event);\n",
       "        button.mouseover(tooltip, toolbar_mouse_event);\n",
       "\n",
       "        var icon_img = $('<span/>');\n",
       "        icon_img.addClass('ui-button-icon-primary ui-icon');\n",
       "        icon_img.addClass(image);\n",
       "        icon_img.addClass('ui-corner-all');\n",
       "\n",
       "        var tooltip_span = $('<span/>');\n",
       "        tooltip_span.addClass('ui-button-text');\n",
       "        tooltip_span.html(tooltip);\n",
       "\n",
       "        button.append(icon_img);\n",
       "        button.append(tooltip_span);\n",
       "\n",
       "        nav_element.append(button);\n",
       "    }\n",
       "\n",
       "    var fmt_picker_span = $('<span/>');\n",
       "\n",
       "    var fmt_picker = $('<select/>');\n",
       "    fmt_picker.addClass('mpl-toolbar-option ui-widget ui-widget-content');\n",
       "    fmt_picker_span.append(fmt_picker);\n",
       "    nav_element.append(fmt_picker_span);\n",
       "    this.format_dropdown = fmt_picker[0];\n",
       "\n",
       "    for (var ind in mpl.extensions) {\n",
       "        var fmt = mpl.extensions[ind];\n",
       "        var option = $(\n",
       "            '<option/>', {selected: fmt === mpl.default_extension}).html(fmt);\n",
       "        fmt_picker.append(option)\n",
       "    }\n",
       "\n",
       "    // Add hover states to the ui-buttons\n",
       "    $( \".ui-button\" ).hover(\n",
       "        function() { $(this).addClass(\"ui-state-hover\");},\n",
       "        function() { $(this).removeClass(\"ui-state-hover\");}\n",
       "    );\n",
       "\n",
       "    var status_bar = $('<span class=\"mpl-message\"/>');\n",
       "    nav_element.append(status_bar);\n",
       "    this.message = status_bar[0];\n",
       "}\n",
       "\n",
       "mpl.figure.prototype.request_resize = function(x_pixels, y_pixels) {\n",
       "    // Request matplotlib to resize the figure. Matplotlib will then trigger a resize in the client,\n",
       "    // which will in turn request a refresh of the image.\n",
       "    this.send_message('resize', {'width': x_pixels, 'height': y_pixels});\n",
       "}\n",
       "\n",
       "mpl.figure.prototype.send_message = function(type, properties) {\n",
       "    properties['type'] = type;\n",
       "    properties['figure_id'] = this.id;\n",
       "    this.ws.send(JSON.stringify(properties));\n",
       "}\n",
       "\n",
       "mpl.figure.prototype.send_draw_message = function() {\n",
       "    if (!this.waiting) {\n",
       "        this.waiting = true;\n",
       "        this.ws.send(JSON.stringify({type: \"draw\", figure_id: this.id}));\n",
       "    }\n",
       "}\n",
       "\n",
       "\n",
       "mpl.figure.prototype.handle_save = function(fig, msg) {\n",
       "    var format_dropdown = fig.format_dropdown;\n",
       "    var format = format_dropdown.options[format_dropdown.selectedIndex].value;\n",
       "    fig.ondownload(fig, format);\n",
       "}\n",
       "\n",
       "\n",
       "mpl.figure.prototype.handle_resize = function(fig, msg) {\n",
       "    var size = msg['size'];\n",
       "    if (size[0] != fig.canvas.width || size[1] != fig.canvas.height) {\n",
       "        fig._resize_canvas(size[0], size[1]);\n",
       "        fig.send_message(\"refresh\", {});\n",
       "    };\n",
       "}\n",
       "\n",
       "mpl.figure.prototype.handle_rubberband = function(fig, msg) {\n",
       "    var x0 = msg['x0'] / mpl.ratio;\n",
       "    var y0 = (fig.canvas.height - msg['y0']) / mpl.ratio;\n",
       "    var x1 = msg['x1'] / mpl.ratio;\n",
       "    var y1 = (fig.canvas.height - msg['y1']) / mpl.ratio;\n",
       "    x0 = Math.floor(x0) + 0.5;\n",
       "    y0 = Math.floor(y0) + 0.5;\n",
       "    x1 = Math.floor(x1) + 0.5;\n",
       "    y1 = Math.floor(y1) + 0.5;\n",
       "    var min_x = Math.min(x0, x1);\n",
       "    var min_y = Math.min(y0, y1);\n",
       "    var width = Math.abs(x1 - x0);\n",
       "    var height = Math.abs(y1 - y0);\n",
       "\n",
       "    fig.rubberband_context.clearRect(\n",
       "        0, 0, fig.canvas.width, fig.canvas.height);\n",
       "\n",
       "    fig.rubberband_context.strokeRect(min_x, min_y, width, height);\n",
       "}\n",
       "\n",
       "mpl.figure.prototype.handle_figure_label = function(fig, msg) {\n",
       "    // Updates the figure title.\n",
       "    fig.header.textContent = msg['label'];\n",
       "}\n",
       "\n",
       "mpl.figure.prototype.handle_cursor = function(fig, msg) {\n",
       "    var cursor = msg['cursor'];\n",
       "    switch(cursor)\n",
       "    {\n",
       "    case 0:\n",
       "        cursor = 'pointer';\n",
       "        break;\n",
       "    case 1:\n",
       "        cursor = 'default';\n",
       "        break;\n",
       "    case 2:\n",
       "        cursor = 'crosshair';\n",
       "        break;\n",
       "    case 3:\n",
       "        cursor = 'move';\n",
       "        break;\n",
       "    }\n",
       "    fig.rubberband_canvas.style.cursor = cursor;\n",
       "}\n",
       "\n",
       "mpl.figure.prototype.handle_message = function(fig, msg) {\n",
       "    fig.message.textContent = msg['message'];\n",
       "}\n",
       "\n",
       "mpl.figure.prototype.handle_draw = function(fig, msg) {\n",
       "    // Request the server to send over a new figure.\n",
       "    fig.send_draw_message();\n",
       "}\n",
       "\n",
       "mpl.figure.prototype.handle_image_mode = function(fig, msg) {\n",
       "    fig.image_mode = msg['mode'];\n",
       "}\n",
       "\n",
       "mpl.figure.prototype.updated_canvas_event = function() {\n",
       "    // Called whenever the canvas gets updated.\n",
       "    this.send_message(\"ack\", {});\n",
       "}\n",
       "\n",
       "// A function to construct a web socket function for onmessage handling.\n",
       "// Called in the figure constructor.\n",
       "mpl.figure.prototype._make_on_message_function = function(fig) {\n",
       "    return function socket_on_message(evt) {\n",
       "        if (evt.data instanceof Blob) {\n",
       "            /* FIXME: We get \"Resource interpreted as Image but\n",
       "             * transferred with MIME type text/plain:\" errors on\n",
       "             * Chrome.  But how to set the MIME type?  It doesn't seem\n",
       "             * to be part of the websocket stream */\n",
       "            evt.data.type = \"image/png\";\n",
       "\n",
       "            /* Free the memory for the previous frames */\n",
       "            if (fig.imageObj.src) {\n",
       "                (window.URL || window.webkitURL).revokeObjectURL(\n",
       "                    fig.imageObj.src);\n",
       "            }\n",
       "\n",
       "            fig.imageObj.src = (window.URL || window.webkitURL).createObjectURL(\n",
       "                evt.data);\n",
       "            fig.updated_canvas_event();\n",
       "            fig.waiting = false;\n",
       "            return;\n",
       "        }\n",
       "        else if (typeof evt.data === 'string' && evt.data.slice(0, 21) == \"data:image/png;base64\") {\n",
       "            fig.imageObj.src = evt.data;\n",
       "            fig.updated_canvas_event();\n",
       "            fig.waiting = false;\n",
       "            return;\n",
       "        }\n",
       "\n",
       "        var msg = JSON.parse(evt.data);\n",
       "        var msg_type = msg['type'];\n",
       "\n",
       "        // Call the  \"handle_{type}\" callback, which takes\n",
       "        // the figure and JSON message as its only arguments.\n",
       "        try {\n",
       "            var callback = fig[\"handle_\" + msg_type];\n",
       "        } catch (e) {\n",
       "            console.log(\"No handler for the '\" + msg_type + \"' message type: \", msg);\n",
       "            return;\n",
       "        }\n",
       "\n",
       "        if (callback) {\n",
       "            try {\n",
       "                // console.log(\"Handling '\" + msg_type + \"' message: \", msg);\n",
       "                callback(fig, msg);\n",
       "            } catch (e) {\n",
       "                console.log(\"Exception inside the 'handler_\" + msg_type + \"' callback:\", e, e.stack, msg);\n",
       "            }\n",
       "        }\n",
       "    };\n",
       "}\n",
       "\n",
       "// from http://stackoverflow.com/questions/1114465/getting-mouse-location-in-canvas\n",
       "mpl.findpos = function(e) {\n",
       "    //this section is from http://www.quirksmode.org/js/events_properties.html\n",
       "    var targ;\n",
       "    if (!e)\n",
       "        e = window.event;\n",
       "    if (e.target)\n",
       "        targ = e.target;\n",
       "    else if (e.srcElement)\n",
       "        targ = e.srcElement;\n",
       "    if (targ.nodeType == 3) // defeat Safari bug\n",
       "        targ = targ.parentNode;\n",
       "\n",
       "    // jQuery normalizes the pageX and pageY\n",
       "    // pageX,Y are the mouse positions relative to the document\n",
       "    // offset() returns the position of the element relative to the document\n",
       "    var x = e.pageX - $(targ).offset().left;\n",
       "    var y = e.pageY - $(targ).offset().top;\n",
       "\n",
       "    return {\"x\": x, \"y\": y};\n",
       "};\n",
       "\n",
       "/*\n",
       " * return a copy of an object with only non-object keys\n",
       " * we need this to avoid circular references\n",
       " * http://stackoverflow.com/a/24161582/3208463\n",
       " */\n",
       "function simpleKeys (original) {\n",
       "  return Object.keys(original).reduce(function (obj, key) {\n",
       "    if (typeof original[key] !== 'object')\n",
       "        obj[key] = original[key]\n",
       "    return obj;\n",
       "  }, {});\n",
       "}\n",
       "\n",
       "mpl.figure.prototype.mouse_event = function(event, name) {\n",
       "    var canvas_pos = mpl.findpos(event)\n",
       "\n",
       "    if (name === 'button_press')\n",
       "    {\n",
       "        this.canvas.focus();\n",
       "        this.canvas_div.focus();\n",
       "    }\n",
       "\n",
       "    var x = canvas_pos.x * mpl.ratio;\n",
       "    var y = canvas_pos.y * mpl.ratio;\n",
       "\n",
       "    this.send_message(name, {x: x, y: y, button: event.button,\n",
       "                             step: event.step,\n",
       "                             guiEvent: simpleKeys(event)});\n",
       "\n",
       "    /* This prevents the web browser from automatically changing to\n",
       "     * the text insertion cursor when the button is pressed.  We want\n",
       "     * to control all of the cursor setting manually through the\n",
       "     * 'cursor' event from matplotlib */\n",
       "    event.preventDefault();\n",
       "    return false;\n",
       "}\n",
       "\n",
       "mpl.figure.prototype._key_event_extra = function(event, name) {\n",
       "    // Handle any extra behaviour associated with a key event\n",
       "}\n",
       "\n",
       "mpl.figure.prototype.key_event = function(event, name) {\n",
       "\n",
       "    // Prevent repeat events\n",
       "    if (name == 'key_press')\n",
       "    {\n",
       "        if (event.which === this._key)\n",
       "            return;\n",
       "        else\n",
       "            this._key = event.which;\n",
       "    }\n",
       "    if (name == 'key_release')\n",
       "        this._key = null;\n",
       "\n",
       "    var value = '';\n",
       "    if (event.ctrlKey && event.which != 17)\n",
       "        value += \"ctrl+\";\n",
       "    if (event.altKey && event.which != 18)\n",
       "        value += \"alt+\";\n",
       "    if (event.shiftKey && event.which != 16)\n",
       "        value += \"shift+\";\n",
       "\n",
       "    value += 'k';\n",
       "    value += event.which.toString();\n",
       "\n",
       "    this._key_event_extra(event, name);\n",
       "\n",
       "    this.send_message(name, {key: value,\n",
       "                             guiEvent: simpleKeys(event)});\n",
       "    return false;\n",
       "}\n",
       "\n",
       "mpl.figure.prototype.toolbar_button_onclick = function(name) {\n",
       "    if (name == 'download') {\n",
       "        this.handle_save(this, null);\n",
       "    } else {\n",
       "        this.send_message(\"toolbar_button\", {name: name});\n",
       "    }\n",
       "};\n",
       "\n",
       "mpl.figure.prototype.toolbar_button_onmouseover = function(tooltip) {\n",
       "    this.message.textContent = tooltip;\n",
       "};\n",
       "mpl.toolbar_items = [[\"Home\", \"Reset original view\", \"fa fa-home icon-home\", \"home\"], [\"Back\", \"Back to  previous view\", \"fa fa-arrow-left icon-arrow-left\", \"back\"], [\"Forward\", \"Forward to next view\", \"fa fa-arrow-right icon-arrow-right\", \"forward\"], [\"\", \"\", \"\", \"\"], [\"Pan\", \"Pan axes with left mouse, zoom with right\", \"fa fa-arrows icon-move\", \"pan\"], [\"Zoom\", \"Zoom to rectangle\", \"fa fa-square-o icon-check-empty\", \"zoom\"], [\"\", \"\", \"\", \"\"], [\"Download\", \"Download plot\", \"fa fa-floppy-o icon-save\", \"download\"]];\n",
       "\n",
       "mpl.extensions = [\"eps\", \"jpeg\", \"pdf\", \"png\", \"ps\", \"raw\", \"svg\", \"tif\"];\n",
       "\n",
       "mpl.default_extension = \"png\";var comm_websocket_adapter = function(comm) {\n",
       "    // Create a \"websocket\"-like object which calls the given IPython comm\n",
       "    // object with the appropriate methods. Currently this is a non binary\n",
       "    // socket, so there is still some room for performance tuning.\n",
       "    var ws = {};\n",
       "\n",
       "    ws.close = function() {\n",
       "        comm.close()\n",
       "    };\n",
       "    ws.send = function(m) {\n",
       "        //console.log('sending', m);\n",
       "        comm.send(m);\n",
       "    };\n",
       "    // Register the callback with on_msg.\n",
       "    comm.on_msg(function(msg) {\n",
       "        //console.log('receiving', msg['content']['data'], msg);\n",
       "        // Pass the mpl event to the overriden (by mpl) onmessage function.\n",
       "        ws.onmessage(msg['content']['data'])\n",
       "    });\n",
       "    return ws;\n",
       "}\n",
       "\n",
       "mpl.mpl_figure_comm = function(comm, msg) {\n",
       "    // This is the function which gets called when the mpl process\n",
       "    // starts-up an IPython Comm through the \"matplotlib\" channel.\n",
       "\n",
       "    var id = msg.content.data.id;\n",
       "    // Get hold of the div created by the display call when the Comm\n",
       "    // socket was opened in Python.\n",
       "    var element = $(\"#\" + id);\n",
       "    var ws_proxy = comm_websocket_adapter(comm)\n",
       "\n",
       "    function ondownload(figure, format) {\n",
       "        window.open(figure.imageObj.src);\n",
       "    }\n",
       "\n",
       "    var fig = new mpl.figure(id, ws_proxy,\n",
       "                           ondownload,\n",
       "                           element.get(0));\n",
       "\n",
       "    // Call onopen now - mpl needs it, as it is assuming we've passed it a real\n",
       "    // web socket which is closed, not our websocket->open comm proxy.\n",
       "    ws_proxy.onopen();\n",
       "\n",
       "    fig.parent_element = element.get(0);\n",
       "    fig.cell_info = mpl.find_output_cell(\"<div id='\" + id + \"'></div>\");\n",
       "    if (!fig.cell_info) {\n",
       "        console.error(\"Failed to find cell for figure\", id, fig);\n",
       "        return;\n",
       "    }\n",
       "\n",
       "    var output_index = fig.cell_info[2]\n",
       "    var cell = fig.cell_info[0];\n",
       "\n",
       "};\n",
       "\n",
       "mpl.figure.prototype.handle_close = function(fig, msg) {\n",
       "    var width = fig.canvas.width/mpl.ratio\n",
       "    fig.root.unbind('remove')\n",
       "\n",
       "    // Update the output cell to use the data from the current canvas.\n",
       "    fig.push_to_output();\n",
       "    var dataURL = fig.canvas.toDataURL();\n",
       "    // Re-enable the keyboard manager in IPython - without this line, in FF,\n",
       "    // the notebook keyboard shortcuts fail.\n",
       "    IPython.keyboard_manager.enable()\n",
       "    $(fig.parent_element).html('<img src=\"' + dataURL + '\" width=\"' + width + '\">');\n",
       "    fig.close_ws(fig, msg);\n",
       "}\n",
       "\n",
       "mpl.figure.prototype.close_ws = function(fig, msg){\n",
       "    fig.send_message('closing', msg);\n",
       "    // fig.ws.close()\n",
       "}\n",
       "\n",
       "mpl.figure.prototype.push_to_output = function(remove_interactive) {\n",
       "    // Turn the data on the canvas into data in the output cell.\n",
       "    var width = this.canvas.width/mpl.ratio\n",
       "    var dataURL = this.canvas.toDataURL();\n",
       "    this.cell_info[1]['text/html'] = '<img src=\"' + dataURL + '\" width=\"' + width + '\">';\n",
       "}\n",
       "\n",
       "mpl.figure.prototype.updated_canvas_event = function() {\n",
       "    // Tell IPython that the notebook contents must change.\n",
       "    IPython.notebook.set_dirty(true);\n",
       "    this.send_message(\"ack\", {});\n",
       "    var fig = this;\n",
       "    // Wait a second, then push the new image to the DOM so\n",
       "    // that it is saved nicely (might be nice to debounce this).\n",
       "    setTimeout(function () { fig.push_to_output() }, 1000);\n",
       "}\n",
       "\n",
       "mpl.figure.prototype._init_toolbar = function() {\n",
       "    var fig = this;\n",
       "\n",
       "    var nav_element = $('<div/>')\n",
       "    nav_element.attr('style', 'width: 100%');\n",
       "    this.root.append(nav_element);\n",
       "\n",
       "    // Define a callback function for later on.\n",
       "    function toolbar_event(event) {\n",
       "        return fig.toolbar_button_onclick(event['data']);\n",
       "    }\n",
       "    function toolbar_mouse_event(event) {\n",
       "        return fig.toolbar_button_onmouseover(event['data']);\n",
       "    }\n",
       "\n",
       "    for(var toolbar_ind in mpl.toolbar_items){\n",
       "        var name = mpl.toolbar_items[toolbar_ind][0];\n",
       "        var tooltip = mpl.toolbar_items[toolbar_ind][1];\n",
       "        var image = mpl.toolbar_items[toolbar_ind][2];\n",
       "        var method_name = mpl.toolbar_items[toolbar_ind][3];\n",
       "\n",
       "        if (!name) { continue; };\n",
       "\n",
       "        var button = $('<button class=\"btn btn-default\" href=\"#\" title=\"' + name + '\"><i class=\"fa ' + image + ' fa-lg\"></i></button>');\n",
       "        button.click(method_name, toolbar_event);\n",
       "        button.mouseover(tooltip, toolbar_mouse_event);\n",
       "        nav_element.append(button);\n",
       "    }\n",
       "\n",
       "    // Add the status bar.\n",
       "    var status_bar = $('<span class=\"mpl-message\" style=\"text-align:right; float: right;\"/>');\n",
       "    nav_element.append(status_bar);\n",
       "    this.message = status_bar[0];\n",
       "\n",
       "    // Add the close button to the window.\n",
       "    var buttongrp = $('<div class=\"btn-group inline pull-right\"></div>');\n",
       "    var button = $('<button class=\"btn btn-mini btn-primary\" href=\"#\" title=\"Stop Interaction\"><i class=\"fa fa-power-off icon-remove icon-large\"></i></button>');\n",
       "    button.click(function (evt) { fig.handle_close(fig, {}); } );\n",
       "    button.mouseover('Stop Interaction', toolbar_mouse_event);\n",
       "    buttongrp.append(button);\n",
       "    var titlebar = this.root.find($('.ui-dialog-titlebar'));\n",
       "    titlebar.prepend(buttongrp);\n",
       "}\n",
       "\n",
       "mpl.figure.prototype._root_extra_style = function(el){\n",
       "    var fig = this\n",
       "    el.on(\"remove\", function(){\n",
       "\tfig.close_ws(fig, {});\n",
       "    });\n",
       "}\n",
       "\n",
       "mpl.figure.prototype._canvas_extra_style = function(el){\n",
       "    // this is important to make the div 'focusable\n",
       "    el.attr('tabindex', 0)\n",
       "    // reach out to IPython and tell the keyboard manager to turn it's self\n",
       "    // off when our div gets focus\n",
       "\n",
       "    // location in version 3\n",
       "    if (IPython.notebook.keyboard_manager) {\n",
       "        IPython.notebook.keyboard_manager.register_events(el);\n",
       "    }\n",
       "    else {\n",
       "        // location in version 2\n",
       "        IPython.keyboard_manager.register_events(el);\n",
       "    }\n",
       "\n",
       "}\n",
       "\n",
       "mpl.figure.prototype._key_event_extra = function(event, name) {\n",
       "    var manager = IPython.notebook.keyboard_manager;\n",
       "    if (!manager)\n",
       "        manager = IPython.keyboard_manager;\n",
       "\n",
       "    // Check for shift+enter\n",
       "    if (event.shiftKey && event.which == 13) {\n",
       "        this.canvas_div.blur();\n",
       "        event.shiftKey = false;\n",
       "        // Send a \"J\" for go to next cell\n",
       "        event.which = 74;\n",
       "        event.keyCode = 74;\n",
       "        manager.command_mode();\n",
       "        manager.handle_keydown(event);\n",
       "    }\n",
       "}\n",
       "\n",
       "mpl.figure.prototype.handle_save = function(fig, msg) {\n",
       "    fig.ondownload(fig, null);\n",
       "}\n",
       "\n",
       "\n",
       "mpl.find_output_cell = function(html_output) {\n",
       "    // Return the cell and output element which can be found *uniquely* in the notebook.\n",
       "    // Note - this is a bit hacky, but it is done because the \"notebook_saving.Notebook\"\n",
       "    // IPython event is triggered only after the cells have been serialised, which for\n",
       "    // our purposes (turning an active figure into a static one), is too late.\n",
       "    var cells = IPython.notebook.get_cells();\n",
       "    var ncells = cells.length;\n",
       "    for (var i=0; i<ncells; i++) {\n",
       "        var cell = cells[i];\n",
       "        if (cell.cell_type === 'code'){\n",
       "            for (var j=0; j<cell.output_area.outputs.length; j++) {\n",
       "                var data = cell.output_area.outputs[j];\n",
       "                if (data.data) {\n",
       "                    // IPython >= 3 moved mimebundle to data attribute of output\n",
       "                    data = data.data;\n",
       "                }\n",
       "                if (data['text/html'] == html_output) {\n",
       "                    return [cell, data, j];\n",
       "                }\n",
       "            }\n",
       "        }\n",
       "    }\n",
       "}\n",
       "\n",
       "// Register the function which deals with the matplotlib target/channel.\n",
       "// The kernel may be null if the page has been refreshed.\n",
       "if (IPython.notebook.kernel != null) {\n",
       "    IPython.notebook.kernel.comm_manager.register_target('matplotlib', mpl.mpl_figure_comm);\n",
       "}\n"
      ],
      "text/plain": [
       "<IPython.core.display.Javascript object>"
      ]
     },
     "metadata": {},
     "output_type": "display_data"
    },
    {
     "data": {
      "text/html": [
       "<img src=\"data:image/png;base64,iVBORw0KGgoAAAANSUhEUgAAAtAAAALQCAYAAAC5V0ecAAAgAElEQVR4Xuy9CfQeRZn2XSwJAcIWIIEEkkCAsIckZCGEVR10VHx1ZsR9Bj+XGV5GOO8MCuinMCOHw+io4zKMfjguzAFR3HBUEGEAASGGVYEAYQlbgIQgYUtCgO/5NW/FTufp7qqu6n66//+rPDnBPN3V1Vfd3X3VXdd93xsZNSEgBISAEBACQkAICAEhIAScEdjI+UgdKASEgBAQAkJACAgBISAEhIARgZYRCAEhIASEgBAQAkJACAgBDwREoD3A0qFCQAgIASEgBISAEBACQkAEWjYgBISAEBACQkAICAEhIAQ8EBCB9gBLhwoBISAEhIAQEAJCQAgIARFo2YAQEAJCQAgIASEgBISAEPBAQATaAywdKgSEgBAQAkJACAgBISAERKBlA0JACAgBISAEhIAQEAJCwAMBEWgPsHSoEBACQkAICAEhIASEgBAQgZYNCAEhIASEgBAQAkJACAgBDwREoD3A0qFCQAgIASEgBISAEBACQkAEWjYgBISAEBACQkAICAEhIAQ8EBCB9gBLhwoBISAEhIAQEAJCQAgIARFo2YAQEAJCQAgIASEgBISAEPBAQATaAywdKgSEgBAQAkJACAgBISAERKBlA0JACAgBISAEhIAQEAJCwAMBEWgPsHSoEBACQkAICAEhIASEgBAQgZYNCAEhIASEgBAQAkJACAgBDwREoD3A0qFCQAgIASEgBISAEBACQkAEWjYgBISAEBACQkAICAEhIAQ8EBCB9gBLhwoBISAEhIAQEAJCQAgIARFo2YAQEAJCQAgIASEgBISAEPBAQATaAywdKgSEgBAQAkJACAgBISAERKBlA0JACAgBISAEhIAQEAJCwAMBEWgPsHSoEBACQkAICAEhIASEgBAQgZYNCAEhIASEgBAQAkJACAgBDwREoD3A0qFCQAgIASEgBISAEBACQkAEWjYgBISAEBACQkAICAEhIAQ8EBCB9gBLhwoBISAEhIAQEAJCQAgIARFo2YAQEAJCQAgIASEgBISAEPBAQATaAywdKgSEgBAQAkJACAgBISAERKBlA0JACAgBISAEhIAQEAJCwAMBEWgPsHSoEBACQkAICAEhIASEgBAQgZYNCAEhIASEgBAQAkJACAgBDwREoD3A0qFCQAgIASEgBISAEBACQkAEWjYgBISAEBACQkAICAEhIAQ8EBCB9gBLhwoBISAEhIAQEAJCQAgIARFo2YAQEAJCQAgIASEgBISAEPBAQATaAywdKgSEgBAQAkJACAgBISAERKBlA0JACAgBISAEhIAQEAJCwAMBEWgPsHSoEBACQkAICAEhIASEgBAQgZYNCAEhIASEgBAQAkJACAgBDwREoD3A0qFCQAgIASEgBISAEBACQkAEWjYgBISAEBACQkAICAEhIAQ8EBCB9gBLhwoBISAEhIAQEAJCQAgIARFo2YAQEAJCQAgIASEgBISAEPBAQATaAywdKgSEgBAQAkJACAgBISAERKBlA0JACAgBISAEhIAQEAJCwAMBEWgPsHSoEBACQkAICAEhIASEgBAQgZYNCAEhIASEgBAQAkJACAgBDwREoD3A0qFCQAgIASEgBISAEBACQkAEWjYgBISAEBACQkAICAEhIAQ8EBCB9gBLhwoBISAEhIAQEAJCQAgIARFo2YAQEAJCQAgIASEgBISAEPBAQATaAywdKgSEgBAQAkJACAgBISAERKBlA0JACAgBISAEhIAQEAJCwAMBEWgPsHSoEBACQkAICAEhIASEgBAQgZYNCAEhIASEgBAQAkJACAgBDwREoD3A0qFCQAgIASEgBISAEBACQkAEWjYgBISAEBACQkAICAEhIAQ8EBCB9gBLhwoBISAEhIAQEAJCQAgIARFo2YAQEAJCQAgIASEgBISAEPBAQATaAywdKgSEgBAQAkJACAgBISAERKBlA0JACAgBISAEhIAQEAJCwAMBEWgPsHSoEBACQkAICAEhIASEgBAQgZYNCAEhIASEgBAQAkJACAgBDwREoD3A0qFCQAgIASEgBISAEBACQkAEWjYgBISAEBACQkAICAEhIAQ8EBCB9gBLhwoBISAEhIAQEAJCQAgIARFo2YAQEAJCQAgIASEgBISAEPBAQATaAywdKgSEgBAQAkJACAgBISAERKBlA0JACAgBISAEhIAQEAJCwAMBEWgPsHSoEBACQkAICAEhIASEgBAQgZYNCAEhIASEgBAQAkJACAgBDwREoD3A0qFCQAgIASEgBISAEBACQkAEWjYgBISAEBACQkAICAEhIAQ8EBCB9gBLhwoBISAEhIAQEAJCQAgIARFo2YAQEAJCQAgIASEgBISAEPBAQATaAywdKgSEgBAQAkJACAgBISAERKBlA0JACAgBISAEhIAQEAJCwAMBEWgPsHSoEBACQkAICAEhIASEgBAQgZYNCAEhIASEgBAQAkJACAgBDwREoD3A0qFCQAgIASEgBISAEBACQkAEWjYgBISAEBACQkAICAEhIAQ8EBCB9gBLhwoBISAEhIAQEAJCQAgIARHohmzg1V5r6FK6jBAQAkJACAgBISAEghDYqNeCOhjiJwuchiZYBLohoHUZISAEhIAQEAJCIBgBEehiCEWgg03MrQMRaDecdJQQEAJCQAgIASEweAREoEWgB2+FvRGIQLdiGjQIISAEhIAQEAJCwAEBEWgRaAczqf8QEej6MdYVhIAQEAJCQAgIgTgIiECLQMexpMBeRKADAdTpQkAICAEhIASEQGMIiECLQDdmbEUXEoFuxTRoEEJACAgBISAEhIADAiLQItAOZlL/ISLQ9WOsKwgBISAEhIAQEAJxEBCBFoGOY0mBvYhABwKo04WAEBACQkAICIHGEBCBFoFuzNiKLiQC3Ypp0CCEgBAQAkJACAgBBwREoEWgHcyk/kNEoOvHWFcQAkJACAgBISAE4iAgAi0CHceSAnsRgQ4EUKcLASEgBISAEBACjSEgAi0C3ZixFV1IBLoV06BBCAEhIASEgBAQAg4IiECLQDuYSf2HiEDXj7GuIASEgBAQAkJACMRBQARaBDqOJQX2IgIdCKBOFwJCQAgIASEgBBpDQARaBLoxYyu6kAh0K6ZBgxACQkAICAEhIAQcEBCBFoF2MJP6DxGBrh9jXUEICAEhIASEgBCIg4AItAh0HEsK7EUEOhBAnS4EhIAQEAJCQAg0hoAItAh0Y8ZWdCER6FZMgwYhBISAEBACQkAIOCAgAi0C7WAm9R8iAl0/xrqCEBACQkAICAEhEAcBEWgR6DiWFNiLCHQggDpdCAgBISAEhIAQaAwBEWgR6MaMrehCItCtmAYNQggIASEgBISAEHBAQARaBNrBTOo/RAS6fox1BSEgBISAEBACQiAOAiLQItBxLCmwFxHoQAB1uhAQAkJACAgBIdAYAiLQItCNGVvRhUSgWzENGoQQEAJCQAgIASHggIAItAi0g5nUf4gIdP0Y6wpCQAgIASEgBIRAHAREoEWg41hSYC8i0IEA6nQhIASEgBAQAkKgMQREoEWgGzO2oguJQLdiGjQIISAEhIAQEAJCwAEBEWgRaAczqf8QEej6MdYVhIAQEAJCQAgIgTgIiECLQMexpMBeRKADAdTpQkAICAEhIASEQGMIiECLQDdmbEUXEoFuxTRoEEJACAgBISAEhIADAiLQItAOZlL/ISLQ9WOsKwgBISAEhIAQEAJxEBCBFoGOY0mBvYhABwKo04WAEBACQkAICIHGEBCBFoFuzNiKLiQC3Ypp0CCEgBAQAkJACAgBBwREoEWgHcyk/kNEoOvHWFcQAkJACAgBISAE4iAgAi0CHceSAnsRgQ4EUKcLgRoQePnll83atWvNpptuajbeeGPT+2DUcBV1KQSEgBDoHgIi0CLQrbBaEehWTIMGIQQSBHrPY0KcX3rpJbNq1aqEPNMg0iNGjDCbbLJJ8keEWgYjBITAcEVABFoEuhW2LwLdimnQIISAeeWVVxLizN+0NWvWJAQaUm3/WJgg1PaPCLWMRwgIgeGEgAi0CHQr7F0EuhXToEEMYwQgx0g2IM80SDMk2hLoLDSWTHOM9URDovFQQ6pFqIexMenWhcAwQEAEWgS6FWYuAt2KadAghikCkGGIsiXDlhAXEWgR6mFqLLptISAEEgREoEWgW/EoiEC3Yho0iGGIAFrnBx54wOy4445m1KhR6+mafQh0HqG++eabzbRp0xKPtjzUw9DAdMtCYIgiIAItAt0K0xaBbsU0aBDDCAEbKAiB/v3vf2+mTJliRo8evR4CIQTadnTTTTeZgw46aD0dtf3NEmoblGiDFYfRNOhWhYAQ6CgCItAi0K0wXRHoVkyDBjFMELDEGBKNXAMCvdtuu5mtttqqNgINSU63fkGJEOi0hlqEepgYpG5TCHQQARFoEehWmK0IdCumQYMY4gikvc4QZ6t1hkBPmjTJbL311tEJNBKOAw88MAksLGp5hDqdOk+EeogbqG5PCHQIARFoEehWmKsIdCumQYMYwgjkBQpyy3/4wx/MrrvuarbZZpuBEegs9C6EOr0IGMJTp1sTAkKghQiIQItAt8IsRaBbMQ0axBBEIJuerh/pvOOOO8yECRPMtttuuwGBJq1dSMGUW265xey///6JNCOkcR80m5+a/8Yjnc5FLUIdgrDOFQJCwAcBEWgRaB97qe1YEejaoFXHwxiBPMlGFpI777zT7Lzzzma77bZrLYHu56G2hNqS634a6hDyP4xNR7cuBIRACQIi0CLQrXhIRKBbMQ0axBBCIBsoWEQk6yTQt956q9l3333NyJEja0cXIs192+BI7jmroRahrn0adAEhMCwQEIEWgW6FoYtAt2IaNIghgICr1zl9q3fddZcZN26cGTNmTHQPdJMEup+XOi35sITayj7wWItQDwGj1y0IgQEgIAItAj0As9vwkiLQrZgGDaLjCEAW0SxnKwqW3daiRYuSQirbb7/9BgQ6r5R3WZ/299tuu83svffeZrPNNnM9pbbjrIfaXkCEujao1bEQGPIIiECLQLfCyEWgWzENGkRHEXAJFCy6tbvvvjshzzvssEN0D3SbCHQ/D7XN9mF/S0s+yF0tD3VHHwoNWwjUjIAItAh0zSbm1r0ItBtOOkoI9COBeJ1ffvnlhOxVIXz33HNPEkCIFzrdbOq7Kn3afm6//Xaz1157JWXC296yqfOeeOIJM378+PWKu4Rg0fb71/iEgBBwR0AEWgTa3VpqPFIEukZw1fWQRcAnULAIhHvvvTfJAT127NhhTaCzGP3ud78z06dPT/7ZEmdbfhxPtTzUQ/bR0o0JgVIERKBFoEuNpIkDRKCbQFnXGCoI4Cl99tlnzapVq5LqgaFe0ToJNFUO99hjD7P55pt3Dv6FCxeaGTNmJPmmadZDbTXm/JsIdeemVQMWAlEQEIEWgY5iSKGdiECHIqjzhwsCNlAQecHKlSvNnnvuGXzrixcvNltttVWSiSPdYkg4ukyg8UDPnDlzHYHOAt2vWqIl1PyNlzp0cRM8uepACAiBWhAQgRaBrsWwfDsVgfZFTMcPNwSygYLLly83f/zjHxN9cWi77777zJZbbml22mmn6ASaMuG777672WKLLUKH2fj5EOiDDz7YmQSXEWpItfVmN34zuqAQEAJRERCBFoGOalBVOxOBroqczhsOCEDMsoGCEOinnnrKTJ06NRiC+++/P5FYUI0wtgd6OBFoFw91v2qJwROoDoSAEGgcARFoEejGja7fBUWgWzENGkQLEcgLFIQ8L1u2LMmxHNoeeOCBJE8zGSdiE+g77rjDTJ48OfFwd635eqDL7q+fhxpCna2WWNaPfhcCQmDwCIhAi0AP3gp7IxCBbsU0aBAtQqCsouCKFSsMOuh99tkneNQPPvhgkqptwoQJ6/WFROSRRx4x2267bfKnSjluEej86XEh1FVTEwYbhToQAkKgEAERaBHoVjwiItCtmAYNoiUIuFQUfPrpp83SpUvNvvvuGzxqCDRe0F122SXpC2KHV/rJJ580u+66q3nuuecM1yPXNFk/INPkjXYh1HfeeaeZOHGiGT16dPA4m+4gtge6bPzgTsuWH2dxY9Pmqfx4GYr6XQg0g4AItAh0M5ZWchUR6FZMgwYxYASygYJFAWfPPPNM4h3eb7/9gke9ZMmSJB0bBJrUeGTOgCiTfm7t2rXrguggdmT+gEzjneY3S6gh1f3KdYtAV5+eNKG2/91PQ61MH9Ux1plCoCoCItAi0FVtJ+p5ItBR4VRnHUTApoyzOYbLSBFE9qGHHjL7779/8N3SD9eDAJMTGl01pb3L0thlCTWBjhRksZIP+rvrrrsSYk6avK61pj3QLvgwJ+DO31begXfa/pGH2gVFHSMEwhEQgRaBDreiCD2IQEcAUV10FgGkEZDPNCkquxkKqSC9OOCAA8oOLf0dD/Tjjz+e6KAh5FaaUUagsx3381Bzb6THI8NHPw916eAGeAAEetasWQMcQfmlLaG2R0KqRajLcdMRQiAUARFoEehQG4pyvgh0FBjVSccQKAsULLoddMmknzvwwAOD7hoifvPNNyee42nTpq2X89iXQPcj1MhBIM4vvvhiskhIa6jbTqi7QKCzmFtCzcKFBRYynHS1RHmogx4XnSwE1iEgAi0C3YrHQQS6FdOgQTSIgEugYNFwnn/++URucdBBB1UaNUTr4YcfNo8++qgZO3ZsQrJIN5duoQSavhYtWpSkx4M4Ww81+ml01G0n1F0k0Hb+wJYc3NiHzfZhf0t7qJn3MrlQJQPTSUJgiCMgAi0C3QoTF4FuxTRoEA0gkA4UDElR9sILL5i7777bTJ8+3XvUa9asScjVqFGjkkIspMNbvXq12W233aITaMaIfAMC3c9DjQccMt1GQj0UCHTWPvqlzhOh9n6EdIIQYOG5kWDIR0DgNGQdItANAa3LDBQB30DBosEiiSBAb8aMGV73RAEWvMJ77rln4nmmPfbYY7USaDTQSETKGh5qS6jxUkP0Byn56DKBBjsyoJTtUFhCbYNXmaO05EMe6jKr1e/DFQERaHmgW2H7ItCtmAYNoiYErNcZTy8EEalEqPOCdHMUKZk5c6bTqCFIixcvNqS/I/AQ77Nt5JOGkO++++7RPdD33HOPGTdunBOBLvJQW0JNNg9yUJPpI30PTiB4HtRlAs2OAgsldO0+TYTaBy0dO5wREIEWgW6F/YtAt2IaNIgaEEgHCi5fvjzJn7zXXnsFXwmCRIDewQcfXNoXcg+O3XHHHROZRpa8k4EDTfWUKVNqIdB4uiG8oa2fh7pOQt11Ao18JjTItJ/kw3qo+Rv5R+hiMNQudL4QGAQCItAi0IOwuw2uKQLdimnQICIjAOFjK92mp0M+wR90x6GNfm+77bbSNGvIM8jGQMGVPBmF9YyTsSHdYgQREui4ww47JF7j2M0SahuUCCYQalspMdRD3WUCzQ4F3v9QAp2dszShtnZtiXS6WmLsuVZ/QqBtCIhAi0C3wiZFoFsxDRpEJATy0tNBnpctW5YUKgltVAEk/dzs2bP7dsXvSDzwDlLuG3KT1yjZjbQDXXSXCHT2fmIT6i4TaCQ5SHZi5AkvstV+Hup+1RJD7V3nC4G2ISACLQLdCpsUgW7FNGgQERAoChQk0wR6YwhtaCPP78KFC82cOXM26AqPLAFkaK1JIVfWIPWMLSstieWBpqrhmDFjyoYR/XcINfmybelxZC8+HuouE2hkO+QJj1Gp0mdi8gg1CzgK9digRMk+fFDVsW1EQARaBLoVdikC3Ypp0CACEEinp6ObfinqILbkXUZOEdoghwsWLDBz585d1xVjgDShtcbzuMUWWzhdBgK9YsWKDaQlMQg0XlDI8yAIdPbmiwg1so/NN998vVNEoJ3Mp/AgEepwDNVDOxEQgRaBboVlikC3Yho0iIoIQBIoXIFXuCi3MzIJipfE8ApyzRtuuMEccsghyajRvBIoCBEkGJBtdNcG4e6nzR5qBNqFUI8ePXpdlg9yZbe9lHfeHBMUarXvrnbQxHHYFI3FjG08M3in0xpqeaibmA1dIwQBEWgR6BD7iXauCHQ0KNVRwwhkAwWLPvyksHvggQeiBXZdf/31Zt68eUkhFDy9++yzTyVPb5422y4MQiC97777ElKPjKPtzXqobVAi0g8yiNi0eVkPdZvvB+nKQw89FEUuVOd9pgm1/e9+GmoR6jpnQX1XQUAEWgS6it1EP0cEOjqk6rBmBPICBYsuC6mBUPrm5s3r87rrrkvIKdknkIWMHDmy0l0j34CEQ8DTbbgR6Cx4SGQI+LSEGg01Hup0lo+2EruuEOh+BovdsZhhAcDihWI66WqJEOy24l7pAdRJnURABFoEuhWGKwLdimnQIBwR4OOOZMNWb3P9mLOtTlq3supwLsPAm/3b3/42Ib277LJLEKHIC26MQaDRZEOASGXXtZbVQIMHuHeBUDPORx55ZINFUZfmgDzWVLHEfrKSDxHqLs3k0ByrCLQIdCssWwS6FdOgQZQg4BIoWNRF1fLbWa8wnjnyO5Oq7rDDDguet7zgRhHo3xVqoMEnneUDHXpbPNQrV65MbCRGysRgA6vYAaXqJ0yYkBDo7DNggxP5dxaw6fLj8lBXBFyneSEgAi0C7WUwdR0sAl0Xsuo3FgKugYJF1/Mtv53tC6kGgYJk1yDl3I033phooENbXnBjjCBCNN+QSqogdq35ZuEoItQ2y4frbkUoVhBoUibGKNoTOpaq55OKceLEiYn9FLV0pg/+G4zTHmqbOq/qOHSeEOiHgAi0CHQrngwR6FZMgwaRg4BPoGARiBDg22+/3an8drYfMmWwpQ1xtmTUBhGGTpwIdH8EfQl0tpd+hHrLLbdcLyixLkLNnFKivcsEmkJA5DIHM59mCbWVWHFu2kMtQu2Dpo7NQ0AEWgS6FU+HCHQrpkGDyCDAhxjdst0iDiU76KZvueWW3OqB/SYAEoBuGk0ruZ0322yzdYfFItB4K5csWbJB1boYHmhSqeExJ5tF11oogc4j1FZDzY5EXYSaa1BhMlscp0tzQBrB3Xff3Tmfed69iVB3ada7M1YRaBHoVlirCHQrpkGDSCFgAwVvvfVWs8cee5RuI7uAh2b5pptu6ls9sN/5kHckG+PGjUs8cVkCH4tA56XXE4Eu1kC7zHnRMdZDbQk1Gvm0hpq0eVUXbQSGsmuRLc8eOuYmz2e3hvHHTh8oQt3kLA7da4lAi0C3wrpFoFsxDRpED4FsoCBesN122y0pAR3aIOXolm3xkyKPGRULCRYkPd0222zT99BYBDovvZ4l0Fy8KpHDsz1q1KhkEdC1FtsDXXb/MQn1UCDQt912WxIEmd51KcOwyu9pDbU930o++Js/PoWJqoxB53QPARFoEehWWK0IdCumYdgPwhLGdHo6CPSuu+6aS2J9QKN/Us8VBf4h80D7SRAU5IG/81pMAk0hln7p9dBt28Asn3u1x4pAV0HttXOshAgyjJf6hRdecPZQk9ubP+yedLWx+7PvvvtWzm9e9b6zhJr/n9VQi1BXRXfonCcCLQLdCmsWgW7FNAzrQVCGG/JqyaL1uEJmSaVFFoUYrYj0QpTIPIDuc+eddy69XCwCXZSfOpRA40WnwAv5fLvWmvZAl+FTRKixT7Tm1m6pLgnppqx7V9vNN9+c6PIp8z3I1s9DDYFmccvY5KEe5OwM7toi0CLQg7O+1JVFoFsxDcNyEHwc0SbzB/KRlSqQixb5wZgxY6Lg04/0MgYqFEJ6DjzwQGfNZywCjWeTDB/Tp0/f4B5FoGdFmfc6OulHqG1QItdDU91lDzTxAuyKQFDb1FwIdb93SZvuQWMJR0AEWgQ63Ioi9CACHQFEdeGNgEtFQYglVfS233577/77nZAlvZAcAgUh6HiefbaGYxHoogIvoQT64YcfTjx1Lh71KABH7KRtHuiyW7OEGs8zpdlZGFEKmz9ZD3VZX234feHChWbGjBlez8Qgxg3utHS1xKyHWoR6EDNT7zVFoEWg67Uwx95FoB2B0mFREMgGChaR1nvuuSchILEKgaRJL3l68Tyj8+Qavo2+CEisGuBnr1dU4EUEur0e6CJ7WbZsWZL6kPSBNssHhBoPNWQae0tLPnxtr4njWcAcfPDBwfbdxFjT10gTavJxs0BlAYncg8WklXyEPrdN35eutz4CItAi0K14JkSgWzENw2IQ/QIFi26c4DoycMTKIgHpnT17tlm0aFEiGyHLRlWNJwGJc+bMCfbQrV69OvGCQ1ayLZRAP/LII8n4xo8f3zn76poHOg0wBJrsKmSQsS3toUZv33ZC3WX8Lebk4ibGgDSUeKjTMRZZDbUIdbdeESLQItCtsFgR6FZMw5AfhNU6ZwMFi24cDzFeu1hBcL/5zW8SDxQliglODPlo3nDDDWbWrFnBGlFIMinD6EsE+k8ILFiwwKvoTZseIIgbBBniltd4DjjGZvmA6LXJQ91l/C3m7DLxfPG8Z73UaclHtvw4i86Qd0ObbHGojkUEWgS6FbYtAt2KaRiygygLFCy68QceeCDJQxvqQWUMpHSjqiBp7HzLE/cbIzmlZ86cWZjqzmVS6yTQ5LOmsVjoWusygUMDjTRn0qRJzrAXEWpkH9hsk6Suy/hb0B977LHE87zLLrsUzgPYi1A7m2orDhSBFoFuhSGKQLdiGobkIPgopWUIvgQA0ovHuOwDWAQeEgnySUNAyLRx6KGHRsEagkHmjKoSEDuIohLjoRKOLhPoLksI8jyfPobXj1Cjm7ZBiXUT6qFAoLF/3jm+C/B+mT7Skg/eSb7vMp+517HlCIhAi0CXW0kDR4hANwDyMLtEiNc5DRV5jPlQUUylSkOLSiDi1KlTk2wesTJnMBYI3rRp04ILTRSVGA8l0K4euCrY1n3OcCfQWXwtobZBiUg+6iTUXcbfYhcrC00eoYZU28BEEeq638XVvQAAACAASURBVAjr9y8CLQLdrMXlXE0EuhXTMGQG4RsoWHTjBMFRZMVnK5z+8HyTAg+N6f7777+uHHFMAk2e3HTfVSeQ+4OszJ07d4MuRKC7mYVj6dKlSZBq1YWfiy3lEWqb5SPUQz0UCDQ7WJtvvnmSDSVms4TaVk2l72y1RBHqmIhv2JcItAh0vRbm2LsItCNQOqwQAT4qyCUgfcgaYuRexYNKf0XBWNlBkf2ArBakroJ4pz9ksVLPcU0qtZECb9SoUUGWwUcYPTUp8bItlEA3QeSCbr7g5C4TuEF4/mMT6i7jb82KGIrRo0dHS4OZZ64i1HW9BfL7FYEWgW7e6vpcUQS6FdPQ6UFYyQaSCzS96fRdITcGASSPK0VOyhpjwGPNti2e4a233nqDU2KlnqPjW265xey9997OlQuLPr6Mi+DGbAPLtJerDIPs7yLQvojFOX4QBDo7cp4Hnh2b5YOFJZIPVw/1UCDQZPHhfmMVYnK1DhFqV6SqHycCLQJd3XoinikCHRHMYdhVOlDQVmCbMmVKFCToj4IUZSWRIZoECo4cOTIhtXnlh/H0km85RnniW2+91ey1114JKQlpfGxFoDdEsMsEro3Bm0WEGpKJpza9W9Nl/K01kXWH2IcqhZJCnul+ixlLqu1vVvLB37a4S8xrDvW+RKBFoFth4yLQrZiGzg2iX6Ag+W+p/rXnnntGuR+X/lasWGHuuusuA2kvyxcdK3MGN0fuZq4J8QhtedrsUA90jGwQofdW9fwuE7guFLDpR6jRC9ssHzxTFB3qciMOgnfCNtts06rb6BeUSO7pbLXEVg26ZYMRgRaBboVJikC3Yho6NQi8zmlyZz1XZL1gyxjPbIy2fPnyJPUcWTSyjTGwRcv1DjzwQCctcqzMGYzl9ttvT6QqVEoMbSLQGyIoAh1qVX7nW0JNlg8WpTx7Y8aMWUeosx5qv94HczSLAFJgxnhG67yDPEKdrZZY5xi61rcItAh0K2xWBLoV09CJQfCiJ2sE5JmWDRSE7EKikVHEaHzIkXHss88+63VHdg0CBdmeRR/tGvFO5gzKd4cG/jEYrk+QYj+tte+910WgqxT08B17Xcd3mUDHSp9WF7Zl/fKMo/EnSDadNo/nxmqou0Co77jjjiQAOUbhpDLMYv6eJdQEZ1OYZ8cdd0y81DYPtet7L+bY2tKXCLQIdCtsUQS6FdPQ+kHwUoc483HNy7CBN5jANT68MVq//uj//vvvT67hq20kcwZknK3q0IbmmjRlMbaH6yLQLiWlQ3Go6/wuE2iCadHjl0mK6sIutF9S8LHDMmPGjHVdpT3UPJfkoW47oWaRS/xEjOc9FNOQ83Ek4JxIB1Mj+bB5qPk7RtajkDE2fa4ItAh00zbX93oi0K2YhlYPwrWiIPpnmwUjxg2l++OjzpYsY4E8V6kAiFcNOUho4B/3hneLEtl45EKbCPSGCIpAh1pV9fNJn4h9U2kzr0Go8YraLB8E+0JU2+ShJk6B3bDNNtusOhgtOBM5zcqVK9cRaLCn8S60/91PQz2UPdQi0CLQLXg0DQ/ga0+jmhDIINAvULAIJD6i5F5Fkxyj0d+DDz5oJk6cmHzQkUxQlrfqh4HMGXikYgT+3XnnnUmuaV8veD9c6iLQyGlIXxYrrWCMOXXto8sEmgIeeGfHjRvnerutOg7JwKJFi5JKm64tS6ixO+uhhlSjQ6763LqOIXscC2ZSWlZZbFe9Zh3nuewkgb8l1OCMDZLd52//9m/rGNLA+xSBFoEeuBEyABHoVkxD6waRFyhYNFC2dUkdddBBB0W5Hwg0W8lo/g444IBgLWPMwD+84RAkAq1CWz8CDZbIRPgY2mAuX92pCHTozFQ7n0UfuxyxK+BVG43/WXiW77nnnqCFcD9CjSfYZvloglAT88C7KEbaSn8U451RJZ/7tddeay655BJz7rnnxhtIi3oSgRaBboU5ikC3YhpaM4iyQMGigVK4AWKZ1k5WvTE+4mzB4g2bP3++YYsytMUM/CNFFkGMMYo0ZAk0hTggYchN0DfaQC67TQ4J4U9ZuWYR6FCLqXZ+UxXwqo2u/CyCdMlww6I1ZuP9YG0ZD3WaULM4jPGMp8e7cOHC5F0Uu9+YmLj0VSWv+K9+9avEA/35z3/e5RKdO0YEWgS6FUYrAt2KaWjFIFwCBYsGCtmFpFKsJKSxZYknG+kBuYxjEHLGE1O3jIcOzzAkOrRZAk2AJgsQ9N5sPdttWbv1nc7dawO5INGWUKNBTW+TZ7WToeNs8vwuSzi6TqDZ/WABR8aaOls/Qp3WUIcS3y7bUBr3KkGpP/3pT5NdhH/6p3+qcwoH1rcItAj0wIwvfWER6FZMw8AH4RooWDRQgo/wGs+aNavS/UAg8ezifbYEMgYht4OJqVuG4POxJ7VUaINAoxvnXslbyx+IcFkhFQg1ZAcyzR8ICVvjllDj5UsHH4WOs8nzu0x+yBJDesMYi6smMbfXwm4gbbGy6bjeQ2xC3WUbSmPGYoaFss+75oILLki8/Z/4xCdc4e/UcSLQItCtMFgR6FZMw8AG4RsoWDRQPKfoDufMmeN9P3y0IZAECRI0aAkkgX9VCXl2EDF1y4sXL05IUqjOFfyvvvrqJO0ZW+bpog/gadMGugBKX8g8LKFmKx4JCMGXkGqu0ZXWZfKD/IHFVQx5zyDmCxuimmI2/3rTY7GEGiLImJB8+Hiou2xDaayr2NN5552XPPt///d/3/S0NXI9EWgR6EYMrewiItBlCA3d36sEChahQX833nijOeSQQ5xBg/SR+g6dH17nLIGsSsj7DQDvNqQmhmeQjxpeoZBcvxBkvOJolY844ojkg5duvgQ6e89IOCimQkAbpBoyTt5qG8jV5uwEXSY/VQiP8wPTwIGkj0Q61a8CaAOXz71ENm2eJdQ2y0dW8tFlG0qDwG4X3meflJlf/vKXE2fE8ccfP8gpq+3aItAi0LUZl0/HItA+aA2NY22gIFuDkDbSscVqeSnZ+vVv883yIeRjnY2Wr0LIi+4DTSDk0WcrNK8/tunRHFfFDmkFWTbwDpNyat68eRtcKpRAU4CBP6Tuo0Ggua71UGMHaUKdJfCxbKJKP10mP+xOoI+PkaGlCnah5+DxJQ5hr732Cu2q1vOzhJodlnSWDxbfsXavar2Rks5JKQgZ9ql6es455yQ7Wscdd9wgh17btUWgRaBrMy6fjkWgfdDq/rGQJogr5BTPL14bKurFaq4EmspafBj23HPPXBkEYyWSvB+5rDJePDkQxlDZBdcmUAziz4fNp6U97nzgyD6Qh1lsAp0dJ/3jbbTFMJDN2C1ycBpk+q8uE2jsjF2OGDnCfWwr1rG28h3PZpcahDqdsQYJiJUvsbMVGpQ4KCyqlCT/zGc+Y44++mjzlre8ZVDDrvW6ItAi0LUamGvnItCuSHX/ODyQBKZB4iBLyCb4Nz4ysVoZgYa446GDuEEgKbZQ1Mr68xl3DNmFvR7eeyQQVCN0bRBWvM54etGXWoJaF4GGGCPjcCVC2IYlIMwP47MBiXi/miQgItCuVhX/OBa32MGUKVPid95Qj7zjFixYkLzbeA7QUOOhtgvELhHqKiXJP/7xj5t3vvOd5qijjmoI8WYvIwItAt2sxeVcTQS6FdNQ6yDyAgXJN0zquZiV6ooIL0FtfAyQUHBNl8pkMQl0qOwiPUnILiCYZMxwaRBSPEncd1b2UUSgId1Viasvgc7eBzsVVu6B9MNukUOq68jbm75+lwk0UiF2OXw0qy421NQxXU5/aDFioX7zzTevl1Iz66HuCqEmkJqMKD5BwCeeeKI54YQTKgV0N2VnIdcRgRaBDrGfaOeKQEeDspUdFQUKEihEGrSYnqY8MmiLg5BbFnmAa4tJoKvKLvqNlTRfLADK5C8sXiDbYJ1XTZF7JPAyu6CAPIcQ6NhaVqs5tR49NOCuRV1c59se12UCTbAqwaU+du6LT53Hd7kAj8WF54bKo0U55HEeWPkSC0R2lKw9t8lDzUKAsuo+kiqCB88444wkMHsoNhFoEehW2LUIdCumIfog0hUFIWb9vL18KCFZrlv8LoPMEl6baYJz8aL4BqrFJNC+XuOi+yXNF4sTUu7lNTy4SDaQqey99965nmR03qT+y3qa20ag0/dpi7qkK8uR7cMSEP7bZYchD7uuE2h2GXyCvlyeraaOIXML+uHJkyc3dcno1+HZI8MNpbxdWx6hZiehaQlTesw8CxSn8nme3vWud5mvfvWrUXcXXXFs4jgRaBHoJuys9Boi0KUQde6AdKBgHnnmptA6QqIhd7FamvBCrviI8SH2Dbaz44lJoF29xi5YoB+H4Obpx7l3JBtkwBg3blxhl3UR6CbTkWFzSHTSOaiReaSrJLrgao/pMoGukjXBB5u6j2W3BAJatDisewyh/bNbgpSGAkVVW1sIdZVn4dhjjzUXXXRRlIDpqvjVeZ4ItAh0nfbl3LcItDNUnTjQei1toGCR1wKys3Tp0qgVxyC8c+fOTbJUoKVEtoA3smqLSaDxGscKmkSSAsnIeunAnQBD0oC53vsNN9yQpNvKbtGGeqCbJNDZ+QUHiuNYQg0ZSVdJJINJUatCGqraWOzzKNiDNj6d0zz2Nersj3cCtlcmT6pzDKF9s5gj5iGmhAEbtjsuVvJhgxLr9FBXeRZe//rXmyuvvDLJVT8Umwi0CHQr7FoEuhXTEDyIKhUFIViksov5kbnuuusSLSEfFryvVQPgLCAxCTReYzJNxNiahmTg5UoHYEKoCZLko0UOXdd7p/jMzJkz+xZSCdFA85GH6MfcYahqqMhd0lUSmYd0DupsgFQV0lB1bLHPY9cF7y0e+C42nhPeJ64Bsm28R2I7kGzVWY7cEmpINc8a8rQ6CHWVZ2H+/PlJEKWPbrqN85g3JhFoEehW2KsIdCumIWgQkBPIm4vXOX0hCA2e4pBtznR/aCcJ3EF3GKNYCX3HJNAxs45kAzDJnYvnsSivdd4kk25r+vTpycIj3UI90G0i0Nl7x2bTOajZGbDkg79vueWWzhbB6DqBZqeGxV9V2VXQyyzSyYMoR14Xoa5KoMne4aObjgR9I92IQItAN2JoZRcRgS5DqL2/V/E6p++GbU50gj6BNv3QgPyg+4TE8wcy6JNyqQjhvAwVVWYlZtYRFgt8pMlgwlYxenIWImV5rfuNmw8kUfZZzGzebldPdrbvQZCIKvPCOdyrJdTIPpB/4AG1leW65EmrUviiKm51nMeuVOwKpXWMs6hPbIlndJDVFLOE2uZVZ4HI7ovLc807fuHChV6LSc45/PDDk0WoCHTTlteO623UjmEM/VGIQHdzjl0DBYvuDgkCH3vkA1UbJI1ME5Ad/rBtSKq6KkSy3xjQB8+ePdvpY1N2D5b02tLWZccX/Y7GGdIM0eNjGCJX4QOJXjqrCx5OBDqLNV753XfffV2aMchHukqiC/kImd+Qc3keGHuI9j/k+qHnEmzLYo5UfF1toTnQ67hvnAtpDXWaUKOh7rdI7JfPumxslkDjgR6qTR7o4pkVgW7I8kWgGwI60mXS6enosijLRtkleaHfdtttXt4N2yfj4EOLLMKWpOY3vB5Tp06NRh7y9MFl99bvd0gvnqkYafuoaojGEq8zZZtD2k033dR30RFKoCH3zFGdOtCQ+y46N7ttnSYfzGFbc/ZyT10n0ATBQv5jlLyvyz7K+u1CNUUXQk2sAPbErp5rE4F2RWroHicC3dDcikA3BHSEy/Bi5IUKsQohznYoaGwhb+Qg9mk2WI6PLFukac8JhBxZQ6wAqjx5g8947bFkBeHDCsGv2vAIQZ5J/4fnGW97aBOB3hDBMt2nTTFmi7rgvbcp87C9QW5dVym9HGpDMc8nLgIMY8UxxByba19dLAbTj1CTyYUFIwTaVcZEP8ccc0wi/RiqTR7o4pkVgW7I8kWgGwI68DIQN7y922+/fRTyzHDoEw8vVfBcGySUSmt5wXKQB3IjxyoikUcuXcebPi407zWSF4Ikx4wZk8gJwCJGhgtkL/vss4+hsl+6hXqgyUSANzEGya+Cd8g5ZQQ62zeFP2zKPDzvMYu6+N4HNsLCMpaMyff6ocej6ef5Dd1ZCR1HyPnItXhe8/K0h/Td1LkQYe6DoE406WkZU57kg7EhE3nve99rrrnmmqaG2vh1RKBFoBs3un4XFIFuxTTkDiIdKIgeeN68eVEH7JrlArJ97733JoFzpL3LIwdoqidMmJAQzBgtj1xW6ZtMGXyQIKu+DY8WAZecC4GGrBGUWKWv7LXzZC8i0LN8pyk53lZJtISahQSpBdNFXer0UEOg2eUoy3Vd6eYaOGnx4sUJVizWu9qGQi5rsGcxSFAn7xnroYYg45XOI9SkITz55JPNpZde6jR9HHfSSSclO5sf+tCHzKmnnrreed/+9rfNKaeckrzXaSeeeGJy3CCbCLQI9CDtb921RaBbMQ19BwFpRbLB33zwqVg3CAINAcGzTEU9cigXkQ9SuRF8xAc4RiMQBm93jIIAfHj4uPh4ZO3CgQ8ZWm+bKSNmEZq8ewwl0HUUk4gxpy59+Hqgi/qEUGPDllDjrU4XdYntKUbGxM5EVwk0C2W8z7GeYZf5jn0MzznNkr7Y/TfVX1ExpCyhRrKBvAwHB0VUfvzjH5cOk3cMuyWXX355EgROQacLL7xwvbgJCDR9Uxq8LU0EWgS6FbYoAt2KaVhvEHmBgjFTutkLFnmgGQeyEYLlIJ1ofssa6ezQTsbyXuHNI6NBDE21b+EYiBbX534omJJeONAXW6s+ZDwPOwg0WTyy9ygCXc0DXWajLIrSVRIhImyJWw91aApG5pPAzdB+yu6jrt/ZaSGAMNYuUl3jLOp3KKTi4/7YNeOPS+YgdtcgwniU2a1kEXfEEUeYI488MpHpZSVi9I9T5owzzjCXXXZZAufZZ5+d/H3aaaetg1cEehAWHHZNaaDD8HM+WwTaGapGDiwKFIyZ0q2MQOP5piAE6cLYPkSD59L4+EJEYgUgxdRU+xSO4WPEVjZEqJ8njiIlZLiIUcUxL/BSBLoeAp21Ywg182k91OCerpKYLXBT9hwgycEufM8r67ep31kEU0QlVhxDU+NOX4dFPzsL7Jp1uRFngW3iRHBtfCcuvvhic9ZZZ5nf/OY35qqrrkoI9fe+9731KqfSH8dBuM8777yk+/PPPz+Ji0l7myHQEGre6Xirv/jFLw68zLs80MXWIALt+rQEHicCHQhgxNPLKgrmVawLGUI/DzREAvLMS3vnnXf26h7SyfZ4rA8Xmmq2Fl2832UDxevIFidFS/Iac0CQJN5nSFCeF9GHjJeNCy83Hm5wS7dQAs09MB9IT7rWYko4fO89XdQF2Q+L2nQO6rLFZNcJNDIsnrmsPfriOMjjh0ImEfCrEgx5xRVXmKuvvjohumXNhUATfM3uGJKkr3/96+aiiy5KJCKDbCLQItCDtL911xaBHvw0uFYUJCMFpC6mtjJNoBkHBNNW1eu35VeGFhH8nOdLvPP6hcjTVww9JjpY9J15lRet1hsNN9H7RVpvFzJehpX9Pc/LLgLdjAe6bJ5I95guO45dpAl1Nr0Yga/kBy8j2mXXHdTvXS9FDm68x5ijWFKyQc1FlWDIn/3sZ4kD5LOf/WzpsF0kHNlFPUHUPA+DbCLQItCDtD8R6Fag/1oquXSgYBFpi12kBAisrpqUTxA5iCp5nKtWeiNtGlvXsYJ3YmqqCarDu9yvKAEfKsg/CxQXb3cZGfcxLwol7Lrrrhtc1+5IVJ0L5hRJDWSua22QHugyrHhebUU5mw3B6qeRPfCcskhzzdtbdr2mf8ce2RGJEbjb9Njt9YZCICT3QpwFzz+SGteGh5iiUaeffnrpKSwOkWXgteadTRDhBRdcsF5sB+9G6xAhMPGcc85JJCGDbCLQItCDtD8R6AGjX6WiYMyAOnv7vAjxtkIebYq2EGjQBbMIgBDGaBBePB4xNNX9Spfj5YWkQ4oICHTVrRaRcd/7zkv9F0qgKTYCfiLQvjPidzxBiFY/jV4VO8P+8X4ig6gzZZ7fSN2O7nohGO6ShSMyMpfFsBsqgzmqSln1b33rW4nsiNR0Lu0Xv/hFkvaOd+EHP/hB88lPftJ8+tOfNgcffLA59thjE/3zJZdckuyo8C4+99xzo+S/dxlb3jEi0CLQIfYT7VxJOKJB6dwRLzc+ujY9nesHNs9T6XzhzIF4Hwgy4SODTtaVPBZdD48JL+JYBQzwJDG+GGWFIZSQAz4MNGQY/H88LxAe13ngXPTFaEVnzJhRFf515+XJVGIQaBYHRZrv4MHX1EGbPdBlt0ysAhpivNRo5ZE0WQ81Xl0fOyu7Vh2/d70QDJhg9zzXXdZxcx9VtNxf+9rXkjSEg87VXIdt2j5FoEWg67Qv575FoJ2hinKg1bVCon3LccfUA+Mpg5BD0iCUsXLhkvYOosoWcIyGlhHSgS45tOFlJsUY25TkiSVSH8lGlWwD/bzZVcdXF4FmkQbJF4GuOjPVzoP880zxfA+6qEuVO+h6HmvueSjouLkP3n8svvD8urbPfe5zyW7iu9/9btdTOnecCLQIdCuMVgS6mWlwDRQsGg3b8WwLh5TYZRwQR3RteJ1tdb0qAYP9xkp1PvTB6KhjNDwwkPsYQYl43CkIACEHB1LUVQ30ynqzQ+4Vkst2c/YjGeqBhkBDJPKCJkPGXPe5XfZApwl0Fidb1MVqqJECkeEgXSWxbmzL+u96FhHuD+cAWYQo6d7lViUn95lnnmkOO+ww87a3va3Lt144dhFoEehWGLcIdP3T4BMoWDSaUDkDpI8PCwSSwBGCU2JW+mPsBK8QWEX1wBgtZlAipAVyg3eG7d2QrXTIKZ46vNmhLS9QUgQ6HNvQualyvg/5h1Cni7rwjKarJMbMuON6L13PIsJ9DgUZCvdRJaUgpbjf/va3m9e//vWuU96540SgRaBbYbQi0PVNQzZQsGo2BTvCkBRxy5YtS7zNEOd0QF5eDuKqqHAdKmdNnTq1ahfrnUcQDbihKa3amAe02VQnQ0KDdya04c2GaMyePTu0qyTQr9/OQiiBRrLCgqlf1pHgQdfcgQ8JrXko3t2HjJ05RzdtgxKZQ1vUBS91jDiFshsiXWaXs4hwf12vBmnniADjyZMne2VE+djHPmY+8pGPJNUHh2oTgRaBboVti0DXMw1VAwWLRlPFG8sHGeKMrKJfDumYhUoYOzmkIdGUkY3RIL1gOXHixErdQXS5R1KK4Xmmyta8efMq9ZU+CSKOHGTOnDnBfeVVbxSBHvoe6DLjwc7SVRKxCZuDmr+rSpCKrssCYObMmZVTWZbdUxO/DwUvOjhV8aQTPEgKuy7GPrjahgi0CLSrrdR6nAh0fHghbWh30e3ygQuRCqRH50smbZYJxpFXGCRPf1sVFTxn6KvRF8doBPvhhcML49tsoCTn2jyq/Sov+vbL8RAZyHgML0+eNCeUQGOHfIBjZAqpglHIOSFe3JDrxji3zrFDqK1+mr9pVj+NpzpG7ukiDXcMfJrog8Utdh+669fEWIuugSfdJ70mfb3nPe8xX/rSl6LFoQwag37XF4EWgW6FXYpAx5uGdKAgHhCC9GJqGF3JZFqyUJZlIkZgYhpB9M8Qfa4bo0HGyXjhk9WD+0f6QUYQciCnC0LEItBcgxzaItAxZnnDPuokofWM+E+9Njl2FpfpKokQ6HSVxCoEssnx1zUXQ2ERADZV5DTon88///wogdd1zU9ovyLQItChNhTlfBHoKDBuUFEQzwE64JhR4C4ZLvigIlnA842MomyLNzQwMYse+k2877GKd7jcc3oMVvfLwgX8sx65WASaa8bqa/HixUngGJk40i3UA423EjtkO75rrcskbpBjJ7g1XSURzbT1UGNjLoR6kOOPZadD4R7AospC4M/+7M/Mr371q87nwC6yBRFoEehY74qgfkSgg+BL9LlslfMnndc5dnAeoyzLcEHwHpIMUsi55k2OmWeZMcYsce1yz+nZgziweCi6/1ikNyaBzpsDm72lqgRIBDrs2a56dpvIG1k9bEAii1sWlpZQkz6vn221afxDYQ6q3oMl0L6Zfg4//PCEeJc5T0LGNehzRaBFoAdtg8n1RaCrT0NRoGDs4DxGSYDe8uXLN8hwAdGChPGhRDbik9OZwMSRI0eu0whXR+O1M2NW6KM/AhK5L7KH5DXmgft44oknEs93kde/jQQ6L7tKKIHmfKREtvJi6Nw2eX6XSVybx87zaQk1MRI8K5ZQ898Qaiopxsgu06S9ZK/V5jnwwaXKfcyfPz/Zeaq68PYZ36COFYEWgR6U7a13XRFo/2nIpqfrV1EwdnAeo+wXoMcHEW83xVUoHOD70kQrzDmUso7RYhYYsYuGoqwebFlTjjud27roPtpIoJG84Bm0gY52/CLQysIR45ksWnhSyMUSalvUhZ0cAvAoYOT7PqlzvD59VyGePv03dazvffBtIk2nCHRTM9TO62zUzmENvVGJQPvNqWtFwbzUZH5XW/9oskpAeG2AHgF2eC/JeIEXqUojPzJb/WTpiNHQIFPJLJYHqyirB79RaY+iLWPHjnUafhsJdF56wlACja2SjcB3C9gJyJoP8iUONQ/Hq/uujt1WSaRAEHppFufpoi4Q6q60rs5BFl/f+2AOkXBAoIdykwe6eHZFoBuyfhFod6BtUBcvqX5e53RPsbXF9M2WK/2S1ggPN+OBPIcUVyBTBV5jnywXRYihBSdyPEZ+ZK6DN4zsI9yzbeDPwgE5C5INH8lKWwk0esVssZjQIEIRaPdnO+aRvqQn5rVj9GXHj/2lqySy27P11luvk3wg/Wpr6/ocgGuV51cEuq0W2ey4RKAbwlsEuhxoV69zuqfY2mL6ZouVynKQVDzGbPmHbrH6ZrkoQytmfmSuhdd9yZIlibabZiUifMj32GMPp6wCcNv4aAAAIABJREFU6TG3kUBzf2QL6Ueg8eiHzHFXiURXx42tdXnsRePn2U4XdWHnylZJJHVeyEK+7L3i83sV4unTf1PHVgkC5tvwute9Lol9GMpNHuji2RWBbsj6RaCLgbbb6Pxd5nVO9xRbW8xHgXRnkC1yD6dzG4eYSllmjyp9xySpeMDwNuNpJohy0aJFG5Qj9xkjYwO/EFJqrxfrPvvZip1vAiMhKWPGjEny+/qSlK6Sua6OeygT6OxzBsFL56DGZtM5qAeVBaIK8fR5hzR1rE3JOX36dOdLssA57rjjzLXXXut8ThcPFIEWgW6F3YpA958Gl0DBogl0LXriYgQUEsHzDGnmBRlLHsG18zJ7uIwr75hYxJL+SYuHnpyUW8g58ESHaDF/+9vfJvi55MMtwyDWfWYrTLJVTmAoXna80qQfI0Uh949d+lSecyWiz65aay666TGz5uVXzHEzx5vttxzs9nyXM0G4Yl5mX4P4PcR7i/cznYOaRaq1VWw5RpVEF0yqEE+Xfps+hvc+7z6fnPrsKJ5wwgnm8ssvb3q4jV5PBFoEulGDy7uYCPSGyPAR4SWMJ8PH65zuKZY0Ag8xxU4oCoIXMlb5aDvW2KW36TcWsaQvPshsR5IlBMlGqOeY6oEE1cX4mMe6z3Qgpw2MJG0fmVUg0+l7xi7TJAUvH3YBUSHgK4uPK5m76t6nzE9ufby3sNjIHDZljHn7QTsN9P0kAj0Y+GOmPszaKs8cdoq9uhZ1qYICMi92qqZNm1bl9Nacg2SPDD3p+I+ywbFb95nPfMb85Cc/KTu007+LQItAt8KARaDXnwafQMGiCST1GkSHDBFVGuSdMttEwuN1JWAHYo8Hdd68eVW67HtO7NLbMQk0GPIhhCTGKJnN2CBmpOiKsb0ci0CzW2GJss1lTWCkzTNetGiALOCdhnjjqbZ5fSEp9OGaheOux58137z+4d41jXlnzwM9Z/K20WysSkeuxL9K33Wf0+Wx40UmC0cd1SuxVbv4YyeNd1q6SmLo4tjOK+9M5G42bqLu+a6rf55nFtf77LOP8yXYqfzKV75iLrjgAudzunigCLQIdCvsVgT6tWmoEihYNIFII4ryFxedi+6X3MYECU6cOHE9r2Is0mavH7v0dgwCzSIGrztjoxw5GUdipWKD3OCZipFBINZcIOFA27799tsnOw1WXoJNQjpc5SYcb/P6QqohEpyPNxuiQq7povboH1eZta+8aiZuN/j8v10moV0ee5PyByQK6SqJLPgsoUauVpVQI/siiNvHc9uKj3FmEDg3WFAXFZHKjhsHwYUXXmjOO++8Nt5StDGJQItARzOmkI5EoE2SDo4Ph2+gYBHu/dKvlc0TBAgyhUeSXM9sc2ZbLNJm+41dejuUQNvCMDvuuGOSWg9PfMy0eHhk8UyVkcmyuQq9T9s/njjyZhN8ld1ydvFAF40Te+aDSll3CDVY2iAv/o7hhXfBqcoxXSahXR47OyHkVj/ooIOqTFvlc7D1dJVE3kuQaEuoIdeuhLqK57bywGs8kWeWP0jXXNtVV11lfv3rX5t/+7d/cz2lk8eJQItAt8JwhzOBDg0ULJpAX88uHy7Kf+MZxeuap9GNTaDxAvHBRNYQq1Udo9V7pwvDQPogJHPnzo0yPPTUbIn65I7Ou3BoRg+2Z1kwQXCxRSpJplsogaavNJmzWRNsQKIN8kLuQZCXq6c7ykSUdNJVEhoShNcErmXXaIt+GBwh0dZDnS7qwuKv6PnFc0sMCrs5XW7sYLIb6ZOj/+c//3kiwTn77LO7fOulYxeBFoEuNZImDhiuBDpGoGDR/LCVTgS1iyfHpmfD0zBu3LjCaa9KTvM6hbjzwo0lkeA6vsQSTyl6bzCzem873ti6b7y9fFjRCoe2qhk9ILIsWrg3tpn5UEIWpkyZUiuBzt4vuy6WoEA68Mpbjx9ZT1w9fqE49jtfBLoOVMv7bKt+mGclXdQFop+ukpjeUcKmKbJUNf6kHKVmjkC+gYPDp0rsD37wA0NxrE996lPNDHJAVxGBFoEekOmtf9nhSqB5AceUbGQnkxcfHuWiYByuT7AL5MU1PVtsAh27ciA4+BBLSDMp21g4TJ48uS9pi3nPlLjlwxojj3aVjB4QZe6X9HT8gaTyoWTHIrtVG9sDXfbCSW+hQ1bAyGb4iOGxL7t++veuEuiYWSx88Ip1LM8jmRyQkLW5gTPPjF0A8h6zVRIt2c4uSNt8P/3GBhHmPrMFloru47vf/W4S9/B//s//6drteo1XBFoE2stg6jp4uBJoq3muC1f6x9s5e/bsvpfgQ0WgoNX6unr7fMipy73FrhzINUm1x8KhTGPLNqstTc62bF6LSaAhr2yJ9tOXu+CVPsb1Pu053K8lJ3zsbcsrZtM0gU7fW3oLHckHH2XGbAu6xAjCLMK7qwS660U8uhqAB+62SiLPE4SaRTk7Km3X++c9B0i8kFURTO7azj333KTw0kc/+lHXUzp5nAi0CHQrDHe4EmhesLx062pFxBTPAlHiaH2LiGO/sfmStrL7iy2R4HplmS5sij5IGZ6usup6MQk0ixa2RNMEtgyjvN+5TyQ6ZeO3EhV2JfrdLxIOPGnZaPtBEujsPWfLOPP/0wGJMfJqp68pAl3VKsPOw6uLLp93U1cbBJodFIgkzxUB3Tgo0lUSY9trHViRmYeiUWWyvvS1v/CFLyRSsPe97311DKk1fYpAi0C3whhFoOubhizxg7SjfaXxgSrz0PYbWcwsErb/mASVPsmagba3X8VAK2GYMGFCUhzFxfMec3zkSeW6fFxDG3NBlbAib6zNKjJ27NhciQoEGi9vNugpNoEmTd0//AjttTGff8c+ZtftNq8MQbrqHAQldpGMrhJocGGXI2ZQbuVJqnAiXlwW+AQyd7UtXbo08UDznNuWV9QFD3XbAmjtmCmiwk4ZBZVc22c/+9kk4Prtb3+76ymdPE4EWgS6FYY7XAk0XlBesnW2NPGDZECe0fn6bMllx4cshI9bTE1qTILKePMC9aznHS+sjwc45viYg5133jnZ2g1tLBS4l7yUeAQyERyZzirS75ocRyBp3QT6nF8tNt+/ZWkv6bkxb5+2k/nUm6oV+el3DwSj4u1jIYAXk8WTrTpHwKbLQindb1cJdJN5lEPtt9/5QyGDhYt2GHtNV/RkF8naKwG0bchIQ3wMkin+uLbTTz/dvOUtbzHHHHOM6ymdPE4EWgS6FYYrAl3fNNhsFHgS8DISKBia/YGMGWzR8ZKP1WISVMaUHSOLFYqh8DeeaV/Pe8zxMQ62RH0+Snk4kxIPcpz1tOM55uPHBxoPdVnO6byiO7E90D/7/RPm7MsWJ7fzj6+fYt5RU7nufjl9sVcbkNhvZyKLcZcJNMHDLtl3Yj2/MfsZChksqmiHkZOli7q0ISMNWZx4V/nslp188snm+OOPN/Pnz49pFq3rSwRaBLoVRikCXd80XHvttQl54gVIhoUYXg0kCFQn9PHglt1hTILKtdI6Y7yRVjaBbMPXE0l/MceHR5gtUar+hbZ+nnY8W2zh2zl3uV+8tmTiyJbsjU2gud9bH3nG9IoNmhm7hktYXPGzWRFsyXEwAh8bkNhPQ95VAj2oQiSuc1F2XJXiHWV9Nv37Qw89lMiqyK9epWGv6SqJ6KlxfNgUj1V2VKqMg8U+GTh8Ap4JHjzllFPM9OnTq1yyM+eIQItAt8JYhyuBttUH65oECBGeWLJRxCBrdpwxJQi2z5gElT7xwCFTQe/MxwzPu89HIDsnMceHV4cPIdlPQls2JR4eLOaHYECf/jkP3WY2cKsOAh16zzHO59lDKmALunCflpxArNFTd5VAt6UQSdV5YjeEnZMup4AjQBuSS9xBjIZ9kjXJeqj5b3ZU0lUSY1wn2weOB4or+exavv/97zf/8i//4lX+u46x192nCLQIdN025tS/CLQTTM4HpTNM8KKdN29eJa9r3gUXLVqUkLOYpNy38EkZGBBo7p2teryqvpKNfgT6kEMOiYLjvffem3g/Y3xcrVSFfMlEzLNoQrLhq0/PK/s+VAl0dn6zAV7YC4svsGTh5eLFL7PJpn7Hc8kijbF3sSE1Y9coWxWzS/dCqkh26HyC73zuz6eoi0+/2WPZySIuokwClj7vHe94h/n2t79t2O0byk0EWgS6FfYtAh1vGqxcwWaYWLBggVM+ZJ8RxCSA9roxc0sTxU92CjCIVUo35vjIOw3hrbq9m54rPnBE+uPxYrHA/VaR6eCNJXVYtnjFcCHQWfvHi0uAJmnHeKbs9jmSDxYnbSbUXSfQpIBj8Uuwc1dbleC7kHtlRwWZh5UosSBkkW5zUFfNmY5EzCXNZ3rsb3rTm8x///d/e6dHDbn/QZwrAi0CPQi72+CaItDh0wDRQapA9DdyBRvgV0fKuZgE0N45RJ+0WyGeYjCABD766KOJ15DgFx8ZQ9EsxMx9jXcKEkYmjtBGECGeUiobhhDyWAT62VVrzUcv/L15+OkXzZlv3sscPXWHzkohrIQjvX0OQSEtoK04B0Hx8c6FzrfL+W0the0ydo6pUj7ate+mjmMHgB0m3xz7scZnJUo2ywe7kmlCXZY33o6DRSTBqD45q4844ghDhdSqpD0WBnX3IwItAl23jTn1P1wJtPXuOYFUcBBBQ2jVIGVoX9Mvu7x0biHXxNvJyzEkFV72+qFEH48Lsg0+DKTYs/lLfQoAFGECwScoxvXDU9QXY4N0heJHpD8BiWQVCSHPjBWvPRIQFl/p5uuB/u8/PGH++Zf3mjVrXzUTx2xufvrRgztPoLNz2a+Ec7qgS8giMOS5tOd2pRR23r2ixed5JlC5qw2ZG893zEDrECwg0CySbVEXnmuXIkQsIg8++GCvHReybxCb0eZdmhAs7bki0CLQMewouA8R6OoQ2jy/eCD7aWrZ4kdLGDPlHJ5uXo7pIgHV7+C1M/GkolX21e5yLh8GyDPlsa1XN6aXl2uEEvw0PixAIFlEt1dpfAwJFOQjiFyDfkI9XcgUIPZZ3awvgb5v2fPmfd+5NSmU8rYDx5nTjtljyBHo7JxZcmIDEnk2bD7fQRTI6DqBdsmhXOW5afIcnk8WADHfuzHHny1CxHvEBiRis9YJUyWQVgQ65kx1t6+Nujv0bo1cBNp/vvCCoUWG+KBRy8trG7PqnR0lEgk8RDE1itlsEi6IQO7wmj7++OMJ8UtHikNS8RbHCmTJy7fsMs7sMSELEFtFEdLMH9JMxSjKgn4Sac60adPWG64vgebkx1euMk88u8YcMH4rs3GPTFb5CNPPyp4c5MYHnzY7bjnSTNtl68Y9WlXHzbNhsyWwuGs6ny82gv2zM9HFxvuFFuvZHQQGVbJXDGKc9pppm2U3igU+hJp36+zZs53jKnhfHHbYYfJAD3IyW3JtEeiGJkIE2g9oPpDkOUaeAIkt2iqLWbTDjpItVnSWMaPk8ZTjQXZNNZeWrfQLnAshqf1mI6YUBp02HxrfLWo+ZnjW01UUY80vNsWCLFt8owqBzuJXlYj+14JHzB1Ln+vZtzEfOXSimbz9Fn4PSuDRVcedvSzPiiXULFQIILUFXarsuJTdFtfA/rMpCcvOa8vvVYqQtGXsdhy8z5DTuRTsadvYGY8t6sI7gQWg6yKQ98Xhhx+eEOih3iThKJ5hEeiGnoDhSqDti8oVZl5ObG/idcW75FIdKmbOYTtOouTxUlCYJVbz8ZTbXMdcP0/jzEeYrfVJkyZFGWLM6ou+Hnx2G9A6k10hGxEfqygL2/7YSj8CjXcqpFUlohf87lFz+6Mre96vjcxH508yk3qa6iZb1XEXjZFnmMWKLTkOUWHL3BZ0iRF4BYFmkZYtitMkdiHXgvyzexQjyDZkHCHn8r4A/xjzGTKO0HPtM8Ai0AYksuvJws9KPlgQWicO7yqCCF0J9KWXXmpOOumk5F39oQ99yJx66ql9h/zDH/7Q/OVf/mWym4Umuw1NBFoEug12iDeup5gcng1PqsvtQ2LQ1aFV88lrzLY8OrxYwXTMErprih3EShFHn3hSCYTjpZzXwMmWJC/LdcxCA3KCVztG8/WQF13TZ2x8uLg2+vZ+uw2xFkgQaMh4tnoYmA+KQD+3eq1ZuOQZs8PoEWa/nZvPxVwHgc7aBYSDxaj1UPP/XYK7iuwLgsMCsqsEGgcBntuY76wY7wCfPpB88Y4adECpz5izx/LsE/sxa9as9X7i39O7KiwIyd2NtxrvMySYLBxlDdKMl/7yyy9P5Ghc58ILL9xg5wR7fvOb32z4Vn71q18VgS4DtiW/ywPd0ESIQBevH6zHFcmEr1cmVsaHtCkwHuQEMT/QkDcKs+QVHuDliWyFxQABk2W5jhkfL/ZY1cx8PORljw1jg7CWSWD4KEGQ2YrPW1jEysnNB5FFDKkE022QBLoMR/v7Sy+/kpQG32zTjV1PcTquCQKdHUg2uItgLhuQiLypzO7pD0LOIo1sNF1ssav4DQKDKunfBjHOomtCcPEkU8m2qPGOQFr2/e9/31x99dXJe+Stb32rOfroo5M/ecHm5NY/44wzzGWXXZZ0f/bZZyd/n3baaetd7uSTTzZveMMbzOc+9znz+c9/XgS6bYaSMx4R6IYmSgS6P4G2LyY8vqQX8ymnaqcuthaYfvNyBoeYSxERJLsBL2Wf8tTITBgnZDtGi1m+nDy3eFXyJDDMO4UY2DLFi1WUZ5jjbM7rkPtEHkImk+zHMhaB9k2F5Xovy55dbb5x3UNm9dpXzAdmTzB7jB3temrpcYMg0NlBsXC0cg9sBs+sJdS8D/rFP2D3LNJi7hCVghXxAMgYNh0rh3vEoTl3VSX9m3PnDR2I7fHey8q6ii7P4gcCDDH+n//5H3PllVcmtohnObugu/jiiw0SjvPOOy/p8vzzzzfk28fLbBue/LPOOssg4TjyyCNFoBua+xiXEYGOgaJDHyLQGxJoPIJ4XPlY4kV18Tz1g9pXb+swXQn565fyzOXcvGP6FWeBvPHvEGiIpE9ADt5bzotFImIF63H/ReSejxaSDfTtEOyyXKqxitogd8HesvrCWEGEdRHoGx542vz41sfNqJGbmP13Hm3+asb4EDNc79w2EOj0gPptnbMjYwMS7fPRdQKNTSNjYUeqq61ttlMFRxbVODayueGL+oJwf/GLXzTf+9731h3GO43vV1bOUkagkTPhwaYsOPI1Eegqszi4c0SgG8J+OBNo9KW8KNKNFTsfESQSfBxDmqtcwOcaeXpZnz6yx2alJhA6iCQf0ioLCDTaENVYMpMyiYnPveeReyvV8fG0x8p3zUeOwKd+ekd+KyPyRfePjhJpSNVFYFHfQ90DXXTvEOp0+WbmiYUXOxaQn65KOJoug+3z7LoeOxQIdJV0iEhXvvOd75hvfetbpVCVSThYCPLut7m0+ZbxPbzkkktaIeNQEGHxFItAlz4CcQ4QgX6NQKN/pIIVpDqbbaEq0rGlDIwjb7u/6hg5D6mJLQpii8PgPc7TRJddCzJKur1YqbzwxEDmY2wrQ+4h0Zbg2HzWSDvKgiPLFh5luOT93lUCzf0MJQ101fnjPFu+Gf0z9m/lHuxiQax9yjGHjCP0XJ41nvuigOLQa9R9/lAg0FWCUa+55hrzy1/+cj0ZRh7WfO9wFlxxxRVJzm8W7xdccEFu/nJ5oOu22rj9i0DHxTO3NxHo1yLxbaAaEckhHr800FmyFmNKIfjkRSbBfqxG1gBeqBA5PA9l2t+y68bWacfSGjNupCWQZbzjYMm8Q3b65bMuu89YBWPy5jTRYz/+jPn90mfNrInbmnFbb1Y2pA1+72pAVVdJEOSZRSjb3jb1GM8DW+hW7oHGONY7xtsgSk5gt4eMPC5pOmNfO1Z/XbWd9P1jOzhgILmuDU0zO07nnHOO0ym/+MUvDEGCBCx+8IMfNJ/85CfNpz/96cTDfOyxx67Xhwi0E6StOUgEuqGpGO4Emm14vKVozWKXfuUliA46ZlUyXnZ8IObOnRvNQiCCpK9i8UB2itCPe2yddiypBIBZ7zj3aiuWQRiqNDDDs1i1LLi9JosXiO6cOXPWG8azq14y7/nmQvN8L6XcDqNHmu/+9UFJdUGfVgeBfqVH7L95/cPmniefT4qs7Dl2S58hOR3bVRLEAo0/2SBVZFH8O/bH80EQog1IJK9v6DPnBKrDQezCjR8/PsmP3dXWVdtJ443zhe+HTyajH/3oR8l7HBI81JskHMUz7PeVGOrWUuP9DWcCDYGCvFTxPrpMCR9KyKlPIEhZv3gl0a/Nmzev7FCn3/FyEHzCti3SlRgtr7Je1b5jpgPEGwhJYMs9dNEUK8tK3qJo+XOrzbt7BDpJENd7I/7owzPNiE380sXVkRP3d0v+aD71s7t7GPYqOvYqFH7zvQdWndrc87pKglyID88wsQw2wwdByxBWWxyjKPNLdKAzHfIuIPWZa1XSusdTpf+u2k76XpGZobH3yaX/X//1X0n60H/8x3+sAlunzhGBFoFuhcEOZwLtWkil6kTlVZir2p897/rrrw8m0BBI8hzzwiW/NX/HSjuXl9e46n3H8vRCVAnW48N06KGHButSkb6Ao29Z8CwO9EEKqUMOOWQDiC659RFz5d1PmbdPG2cO2b04qBXP8Ms9Upsm2XUQ6MXLnjd///07Ev3zrEnbmrPfFj/ncVdJEPINJGFlecbTE838pwMSWdSnC7o0WRCEdIrIT6hw18WWV4Cka/dC0B7fJ593yze+8Y2kSuEJJ5zQtdv1Hq8ItAi0t9HUccJwJtB8qCBVdbU6Av4YayiBhtiTNs1W2GNrmQ9/rLRzeWnZquJMaWQ+jD4fk+y1WCCQWYRARMiKT37VvHHHSlNYtKtgF3llW/yPr1xtPvaDO8zKF18yn3rTnmb+lNfINnr5WEGxaRx+3yvz/dDTq8yRe44xW262adWpzT1vOBHoLAi8k9gp4blkG5+5t3IPPNV1ZFSxY7Cypip576MbQYUOXQuQVOi60VMIRmVh5SMP+9KXvmQmTZpkPvCBDzQ61kFcTARaBHoQdrfBNYczgeZlC4muq9UR8BdKoAmgIygPXTZeLlrsrBmx7xtPL3PFx6FKw5uDjhoiiWaZTAMxCLRPWfCicccg0Jfc/oT58lUPmE033sjs2yu9/YW/2LdWAl1lHnzO6SqBrrL1XoYLz5MtNw6xRuJh5R7EbZQtrsr6X29h1FtYo9/Gk9nFZgODp0+f3sXhrxszTgN2Hnyq31JNkPv+q7/6q07fu8vgRaBFoF3spPZjRKDrI9BFW/MhE1vFA81Y0P7iHc56JGNnzYgd6FiVqHLPZBVgJ8Dec8w82gSf0rePTjFv3vPm1NUDvWTFi+Zj3/+DWdWrCnjSUbuZP99vrAh0yENW8VxiCrAxZBB1NSRSllCzm4Lcwmb4CCW+SJxI8ThIHXYIbjwvFF6aNm1aSDcDPxfZGnPJLqFr+9SnPmXe+MY3mje96U2up3T2OBFoEehWGK8IdH0EOnbAnzUYXwKNfAHJBt4MZBBZj1XsrBmxFw5VCtJAMpBsWJmKveeYshrGBbY+kfJ1EWj6JVvHiy+9kmTssO3WW29N8nGPHPmnf2vFi6dkEF31QDdBoNPQ8Y7BBm1AIgtkZB4QanaYfOe9q/ZiMeG5Z4ctZuD2IJ4XdsyYR59c/P/wD/9g3vve95ojjjhiEENu9Joi0CLQjRpc3sVEoOsj0GDuS3ZdjIIsHKSxc9m6xUtKFgskG3m5XWNnzYh938hOIPnZ1GB5WLGNToAkxDFbECKmPtt3XEVzG+qBzusbjyI5r32JlIsd1nlMVwk0NsEirarcKBRTFq8EMVoPNf8/HZBYVtClLs186H25no/338q1XM9p43EsAiin7lPQ5u/+7u+SvM7kcR7qTQRaBLoVNj6cCTQfFzRzdbY6CDQZG2bOnJlo5PIaMgq2MtF4I18oOjZ21ozYBBpCDCEoKyqQFB7pfXgIvMorBpNX9a+KDcSsNBlCoJ/pBQ6e+tNFhkDCU98wxczZbbt1t9PVLfmuEugq2ROq2J7rOTz/tqALf0OgbUAiqeqyAYnkDUf+0GTmD9d7cTkOSQvpJWNVQXW5Zh3HVClo89d//dfmrLPOShbMQ72JQItAt8LGRaC7R6AhF3zk8ryKfESQbBDB7VJZEVKJ3CGm5yLmwoEMIeTXLcoSYu8BLzue6jzvfF7RkioPoyuxd+k7hED/etFy869X3J8EEO62wxbmy3+137pLMq/g5qNpJR0ezbdoi8t9uh4jAu2KlN9xPCdW7sGuji05juSDzBsQ6BkzZtSa6cNvxH5H430nZgIdd5cb+biR2/kU9yJ4kFR2IdmKuoKZCLQIdCtsVQS6ewSa3L54GfoFDJFajQAUNICuxRBikkpr1DEJdLr8dr+HBkLABwcPNWnqilrMAEcXYu/6kIcQ6Id6AYQnXXyHWdMLIHzf7Anm3QdPWI9AgwtEyaXd/cRz5sRejme8+RBxMnoMonWVQCOZ4nmiGEnbG3OcDkhEyoXEiQUohNrVZtp0n1VKYLdp/HYsVdIJvvnNbzY//vGPE+nHUG8i0CLQrbDx4Uyg+YDgkamzQYwokOGiV3YdB4E+FD1JFzvgow2JpLF96bMFGzvojzHEJNB8FPEqZbdlmT8WC+hOkWy4ZCCIea94xfFCx/B2hRBo8H76hZfMylVrzcTtRq1na+xE+KQl+9yv7zM/uuXxxI7eesA4c/ob93A1y6jHLViwwMyePTtqn010ViV/bxPjcrkGzxPyMIKNWZTybmRHxwYkjhgxwqWbgR6TV0p9oIOqcPEq0qujjz7a/OY3v+nkwscXIhFoEWhfm6nleBHoegm0i17Zd2IhRQQpEaVNYyvW/tuECX/yPrr2W0e2kJgEul+aPZvvFS+ZTyn2mPcKyUDzGkNz2A8vFkUEQyLVgcSwYPJdiPkS6BsffNp8/MfWtpUwAAAgAElEQVSLEtM569ip6wqyuNpSrOO6SqDZAaJVeQ5jYRfST9rzz2IzXdCFZ8fmn4ZYlwUkhoyj6rlVKkFWvVad51UJ5pw/f77BueL7jqjzPurqWwRaBLou2/LqVwS6XgK9cOHCxDsaMwsC5Xb5QPMRo8gIf5Bs+OjlskYSk/DSd8z+smn20DnaLc6ddtrJy95jji3PM+49oD54oWNHvzx+/PhETgFZZ4sdWQ5kmj8uNuVLoBn78ufWJNfccavNqtxKlHO6KuEYSgQ6O5Es6NIFXdjlsvmnscs2ELem0whGMfY+nfDd8NWii0DXNRvd63ej7g25myMWga6XQONJYIvfRV7gakEUROHDxXYxHzE8oKHeoJiE15LUWNIVyOR9992XBE6yWKBKF4uStITFFbuYBBrvHOMhRWBoS+OPJIX7ZVGEhx1PIOQEUstiwm5To+e2GRXyPIJVtJSh9xLj/K4SaOyBzBYsfLrYfHBHL40tQqqxS4IQrT3yvhsEoW5bFpSqNsA8ENTtiiHvhsMOO0we6KqAD7HzRKAbmtDhTKCBmI9AnQ0tG4U2QrzD2fHhVeSjhbY11oc6NoEmV/WcOXOiRPOT25VFAxpMPhQQ1pAFQ6x7xRNOyizSBIY2q5VHssGCgQUC94tUxRLofh5BvOCQGMg8iymbO9aWeLYE+uWNR5oX1rxsxm09OK+yD0Y+RM6n37qPrVKCue4x+fRfFXeeS55Tm+GD4EQkZlby4ZMFxme82WO7rEFP34vvPFgCzfdmODRJOIpnWQS6oadABLpeAg2BISI/r4iJzzTzkoSwURiF8tExizXEIpX2fmJqvyGIZB7Bk490xdUrk4dtrHuNWcHx2muvTVLNQThYcNl7LCLQ2fujgIclMJBwSDREZuT2u5hTf/mQWdWrUvj3R042b5/mL3vxsdMYx/oSiBjXjNHHcCXQWexY9GGD1kON/CNd0MUnyNlnXrq+A2Dv1df+wZsKhGigh0MTgRaBboWdD3cCTaQ5xLSuRjETdLo+FaX6jcUGzUGy+MMWaSzvM9eLRSrTH4CiXNWueLMli5wBjzPVF2O0WPealpaEjAvvMQuO6dOnb5CGz4dAp8eATTM+7O/6pa+Yi+9ZYzbpSQv2HLuF+fp7pgV58EPu1eVcxo4GdNasWS6Ht+oYFrho06to89twI77EzXXMyI3SAYksEK3cA091tqCLa7/Z47qOf1UCzUL5rW99a/IeGQ5NBFoEuhV2LgJdL4GmohTb6jvssEPl+WabnsBBPJN8mPlI8MGhSEqsFjvdHgUZkFpUzSWLRwXs8KrieUa2EiutWSwCHaMEutV0QzAIAsq2qgTa9kNqw1FjdjKnXHK/WfHCGvOR6VuZPbZYlcg90hXpQr36seyQfrpMoEmriM2PGzcuJiSN9VUXge5n1+mARLv7gk1a+VGVm37wwQcTLfbYsWOrnN6ac3zngZSaf/M3f2Ouuuqq1txDnQMRgRaBrtO+nPsWga6XQFNamgj1Kh9UiAQfBCLLCSjjw0CDdEG4Yko4YmqWGSPBk6SXs2N2NsjegXhTyEDBR3Dy5MmJBhiPJJrqGC0WgUbzCcnHc+zbuCfILX+z0MBzNG/evFoINJXJtuilwHv5lVfNiE02Tq6RDQAjINNm96i66PHFIO94EehYSPr340vc/K/Q/4x0QRd2Tqw9Qqh9ArDvv//+RHsd4rCIdU9V+6li/zhVPv7xj5uf//znVS/bqfNEoEWgW2Gww51AWw9fXZOBXhnviq/cAmkJXlc+JFSSS29xUu0Mzyw66FgtpmaZMVUNnqQwCYF0FE2xspeYxU8YWywCzUcfiQTppnwa512z4Bbz/ft6oR6bbmY++edTzeP33FYLgWZ87FQUVaXkg4033Wb34JlIF9CoS686FAl0lz2gVYibj927Hmvt0er5WexBim1Bl6L0jci90Fp3uRofenEcCD7vFRby55xzjvnBD37gCnOnjxOBFoFuhQGLQL+W5aCuhmeA7XGf0r4QGYgP1Qb7bUWS5owANrJwxGqx81Vni72UjZOPJt565CpkoEhH7ccsfhKTQLOIQVozc+bMsttb9ztbrWQUufflHc0FtyxLdMlHTd3BzB+9rG/FypUvrDL3Pfmc2WH0ZpUyaLgQ6Ozgs3pVFm8sZiAlTeT7bQuRc57U1IEsmJEglJWUr9J33efwHkR61TbtOeMi442VfPD/0wGJ6Yw89957b+J9Do05qRvrov5xnvDcEkPi2giy/ta3vmW+/e1vu57S6eNEoEWgW2HAItD1EmgKK+BRcJFbQBzYgoRkIdnI27rES8vHBM90rMYLmHzSPtulRde2xV740JU1Phh4XPB6sijop8eN5TW2BDpGjmo7bvK1ljUrx2HuWCAsWrba/L+X3NnT+xpzwpG7me2efWBd2r+1L79ifv/YSjNh283NZX9Yau56/DkzasTG5m/nTzLbbjHCrF77inl+9VozZsuRZZdNyDq7H7ZqZekJfQ7gPm02BYgMshwr94hlL+nLdplAd1lCwMKJLA4+C8Iq9hR6Du9TFtq8A/kbAm31/OzOUYo8Rtaj0HFWPZ8dKpwJfANcG1l8LrnkEnPuuee6ntLp40SgRaBbYcAi0PUSaLJIoJXdfffdC+ebbUq8thAdSGRRVDpkBi90jBLSdlB8OPF4Vy1Okr05PCjoviFaRY2PIFpgFgNFXruYBDqW3hupA7iVeez44DO32bLjD694ISHDe4wdbdJjglj/etEyM6Ln+X3jvjuYl3qEem1Pv/zhQyearUeNMN+8/mHz9AsvmcP22M4ctVdxcKol0E+s2sSc+Yt7zGabbmL++a17mfHbjKr0/rH5fq3cA7u1cg9ITAy5hwh0pakJPqmKdCD4ohE6YIFn5R4sUO0OAO8eFnttCpB1uV3kVEiBfAo0/epXv0reIZ///OddLtH5Y0SgRaBbYcTDnUDz0cDzUlcjAJD0TZDTvGa39Qm6cwl+iVkBz44JDzCa6iKtrA9GZdlH0gGSeGTLPJkxCfQNN9yQkN6QYixgge3guS/KDmJLchMMWaSDT4/pjV+53qx4nrRzG5lTXre7ebFXAGXi9pubOZO3Mw+teNF8+4aHzbabj+gtsjYyJx4xuXBamAcyt3xz4VPmf+59KgkkfP/sCebdB08wj69cbS666TEzaczm5tgDx5mNe1Ij38Z2uk1PBomx6cms3KNKerK2SglcsOmyBtemyqwSFOuCTRPHkHcfD7TNiQ4ZhVDbkuODDpB1wYBdHgrCkH3Itf30pz81yFfOPPNM11M6fZwItAh0KwxYBLpeAg05xivS72WY1v3ass0uRhGzgIe9XsyCL/TJyxz5Rj+vsv1QZz2yRfcek0DHCphk4VWUHSRdkrtsYZIe06V3PGHOuexeM3Wn0eZf37Gv2XSjV/9UWKXnjf7BzUvNgz0ifewB48z+47dyItC3PrnWfOHKB8wmPY585pv3MgdM2Np84id3md8/+mxC1M/o/dvMidu4mF/hMcyt9QZCBJjjtNzDxRsIgWZh4iKNCR5w5A7Yerf3G7nr2rtjN4EdCx/tbe2D8rwAOz3s4NkFuc2HbiVIeKvTAbJU+2xb4/lZvnx5odMlO+YLLrggkbN84hOfaNvt1DIeEWgR6FoMy7dTEeh6CTQvNbwJZJVINzwkeH352KYrz7nMX4z8w9nrxCr4YvvNS98HqbLlpX2KTcQk0KTqilHkJS87CB/tbEnusnldsGBBkg4v+0G3OyQuxLPfNRgHgagsZh57ppf/uUeWx271WjnvM35+j7nxwT+aTXus+uxj9y4l42X3kP0dHNBzWrkHNm+zKSD3yCMvItC+SMc5nvnBXtgR6moj+w/OirzS4ekdE97N2KgtNw6xDt2VioEbThfGxnfBtZ133nnJ83TiiSe6ntLp40SgRaBbYcDDnUDjRYSk1NXwFqNnSweE2FRtvOirpFuqkv2h7P7KJBdl52d/J5gKLxDbqbbZoiF8oH211jEJNF5j5iPvI+t6r/2yg+Dh4iOeLcld1mceqY9JoLNjeObFl8yldy4zu2w7yhw6pVirXjZ+l99tNgXrDbTkhUUk5MXKPbpMoLucBaJK8JrLvDd5DPnn999//9zFWXYsPF/pgi5o+K3co4mMM/2wQfZH3AyyL9f25S9/OZGIHX/88a6ndPo4EWgR6FYYsAh0vQQ67S2GGPCBhVSHEDhL0sqC13wMjHFBYmJV8GLRgEdkwoQJicacQEEanvgqXp6YBDq0SmIa1/S40ALjXS8LiOw3L3mkPpRAt5nQIffA0wahBjsWNDbXL1KCmPbt8yyEHJv2+If0M4hzeVeRhg8C2tXGs33QQQdVesdwz9kCQwQh2gwfOASq7gT54EngOe94CiC5NnJA45h45zvf6XpKp48TgRaBboUBi0DXS6CttxjiiGQDTTDBeiEvYggpHsu5c+dGsyGCn/AK+8gqii5u819DiLhv8mCHlB6PSaBDqiRm79mOy3rXkYZUqb6YR+oh0PypEozHWNtCoNf0so088ezqRD6y2aavVUPMNiv3YAsbUm2zuEBgiopnRHsIInTUZQJNwCvPbVZuFgGWxrrgvYh2PuT9agdrM85YTT/2iQTJSj5Cd7DyQCH1KQ3ng2v7zGc+Y44++mjzlre8xfWUTh8nAi0C3QoDFoGul0DjZUPfSktX1wuZ/NiFRRhL1YqJefcBoeTDg7cdj1ZIHmKuQYomFgwxPowxU/Zdd911iefeluSu4l3n/uoi0G0IanulpzP9/657KMkgMr4nFyGfNYGLec1m4cCTb+Ue/JslLui5qy4oQp47l3Nt1pMu5iHmWeW5jZke0wWzmMfUWYocG2SRYW2ShW26oEuMFI5g8fDDDyfpINPytzKMTjnlFHPccceZo446quzQIfG7CLQIdCsMebgTaF6KkNw6Gn2zFU0Q4eGHHx7VixbTI8u9L1myJNn2DPESWwythhXv+5w5c5z1iEVzECv1HNfAI05ebtJbhTQ8UhQwgOix3RpC7vMK2bh4oB9fucp8b+FSM7Ln2X33wePNdr1iK7a1gUCT6/qfejmox2w5opeeb605/ZgpZsvNNi0k0NksHLZ4BuQF2QceaZvtgp2TEOxDbCB7bozCNTHH49NXlfRpPv03cWydBDo7/mzFTpvCEbvEYVB1kVelHDzBgyeccELyvh0OTQRaBLoVdi4CXQ+BJggEosY2NAT60EMPjTrfsQk0nieIr4/urt8NQSq5b/SCSBlilRvHiz9jxowohTp8y4z3u0+bu5uPKIuj0JYnK3Eh0Jfe8aS5+ZFnzAtrXjFv2X+smbvbduuG05a8xL9ZvMJcd98KM3u3bc3RJcVfXIIIWZzZ7B5odwn4ssFfdW2tu8xxldLpLv02cQwLEwLYYlY4bWLc6Ws0SaCz92ZTOLLzZjX9dteExbrrIo8AbHYwfALMCR4844wzOq1f97EVEWgRaB97qe1YEej4BJogEF6CVJLiRRib7GIMsfuE5BNAgz67arPZRZCq8DEpKyDjc51Yqee4ZkjO62xJbjyl8+bN87mV5NhXegVNelW810kZ8mQlLgT63iefM//wo7vMY39cZWb0cjmf+64D1vXbFgLtA5ALgU73x5wgP7CEmkVNWu5RVVbjM2Z7bJcJdJX8w1UwqvOcQRLo7H3hTLAZPpB+sFNiF3lFhaOqxC28613vMl/72te8MnfUOQ919y0CLQJdt4059T/cCTQfXyKeYzQ+3Gzh0l86lVJsslsHgYb048nzyT1qMUsXhCESHA8gZBpCQ3XFGC1m5gwygqAvhGT5NMgs5Jv7477Yoq0yt0/0JBcnfu/2pBz3P711bzNvyvZJ6juwz8pKXAj0iy+9bN7w5RvM5iM36ZX9ftVcePx0s/P/LdXNQo7tZJcKlz5Y1HmsL4HOjoXn0BIXvKo2NRnkxccTWOUesS12cULlQVWuHXqOXYDE2jUKHU+V89tEoLOLPN6vNiARZ4XNiY6OOh0ki46e95NP3Mixxx5rLrroomhZlKpg3+Q5ItAi0E3aW+61RKDjEGg8DEgDiJwm40R6u64KySozjth9upQc7zcmFgtINvC08+G1943EgT5jBSTFzJyBl9BmeCjD2f6eV5K7yjz85NbHzBevuC8pYLLfzlubLx93YK4u24VAs4A57aeLzG8f+KPZp1e98GvH7b/OA11EoBf0iqg8+dxq8/qpO5hRIzZxhSLKcQQWXn//08ki4vA9enmge6XJbYMAM9+xKhHa1GQQRObRlnaGUMeWe9xxxx2JF9A3z3kUUAM7ofodOmjiA7ra2kqgs3janOh2ocf/twGJODMmTZrktQh73eteZ6666qpKGYC6ONci0CLQrbBbEehwAo38gcCPvGwTVUhWmXHQ5yGHHOKsqyvrj48npNfHY8zLH49bv7zH/LZ06dJoKbFiZs5gl4B0gq4aw6KS3FXm9v7lz5sTL7zNrOoF15189BRz7LSdEwKNfCZb8tuFQDO3kOinnn8pCSBMZ7gguwp9Zj3QNz30jDm1R7pf7n2437D3jua0Y/YoM5Gov9/9xHPmWzc8bDbq/W/aLlubd80cvx6BZr5nzpwZ9ZoWJ5tJAUKdzqTAjkSo3KPLBJpdI7AJkXFFnzCPDnkGyKfexfzhNkjWvjeJH+H9xCKP57csIHH+/PkGOVmo/XrAPdBDRaBFoAdqgPbiItDVCTQvPbyZNoVZXhqj2GSXubvxxhsTD12sFyYvbjwfLh5jqwPGw4xko5+eD/0z6ZhiFWXII5hVHiJy9UKWINFFzaUkdxUCzTWfXbW2F/T3shm39WtltfMCG/HGoifPfkDJvPHMi2vNpDGbF3qPIdB/eOpVc8eKV8z83ceY+T1vL+3Xi5abs3+1ONFiz9h1G/Ovf7F+qfkquPqcc//yF5LUdi/3SM+8XtDj/5q2UyMEOjtG8EXmYT2BPE82u0eVSnS2TH2VXOA++NVxbJUKeHWMo2qfodKfqteNfR5yLnYBCERnkYe+f9SoUesKumBb2YBECDSLTtdAxdhjbro/EWgR6KZtru/1hjuBBhS2eH0bLzVID3pHZBtFL67YZJexxgyqoz9XwguZgyTwQrc64H7YgQ/kDYIdo3FNsPbRBeZd16XqomtJ7qoEOju2vMDGfgQa2cNFNz1qbn/0WfNkrzjJe2fvYt7eI6AJ4X/yeUPRkv3G97xWG21k7rznPvMv1/eyAqx51YzZYmQi70Cu8dLLr5hzf7PEPPbMavO/D59kdt1u8xjT5NyHHSvlxA+csPV6iwDuuS4PdNkAeRdYnSo2bAO/INXYfFnjnYCUqShIrKyPQf1epQLeoMba77o4NFhok62nyw1PMu9N65DhWUkHJKKlRobEH54VdgwOO+wwZwJ96aWXmpNOOik590Mf+pA59dRT14PrP/7jP5KARBaTXOMb3/hGtJ3EWPMiAi0CHcuWgvoRgfYj0LzMqBRlvavZLfd+kxGb7HKNmEF19OdCeNFHWg9bWcXCdAnzIAP9vyezNc5CBZ1gaCM3MvOGDrpf8ynJHYtA591fPwK9rEeaz1/wqPn5HU+YrXr5lDfvEeLz3nugwav7tWuWJET6L6bvbP5snx3NonvvM+//4WNmTc/TPKJXvOTSE+eYHUaPrAzhw0/3cl/30tHtNXZLM3Ni+Fz0G0gRgcZr/90bH0mqGr67J/vYa9zoZDFw2yMrzRa9IEo04LG8cOCIHdvgOhZVVqfKDka/HacuE2gkV5BQYji62JgfJGWU8u5yQ4bCIiBPtoFdIrXhXk8//fRkB4V/+9znPmeOPPLIwnckzxaSu8svvzzJ+Y/c5cILL1yPIPOet46KSy65xPz7v/+7gXS3qYlAi0C3wh5FoE2SNYMXUFnj4wLR4cVGqjZX+URekYyy6xX9HlMTzHXKCK8tVY1nxCVACo8J8pZY3iD6grT7Zs7ohyGBdXgI+1X68i3JHYtA52UGyRJoCOQ1i59KvMw/vGWpeaH3925jtjBnv21vc939K8z5Nz7as09jDpsyxmy/5Uhz0+LHzM/vXmnW9rTGm22ysfnZ381er9CKrw3+6xX3m7U93fTql14x//uIyck1YrciAn3HY8+a7y54xGw5clOz09YjzUd6VQ1/2cuDjSSl53A3Hz50opnaI9V1NCQCabkH7wHsMa1TxQMKQXHxVtcxxpA+ieXgHmMUUwoZR9VzyQ2OPCvWrlfVcYSe5xsIidSDCoTveMc7kkBCvmUQ6Q9/+MMbpLWjoiv5oi+77LJkmGeffXby92mnndZ32JDr7373u+aXv/xl6G1FPV8EWgQ6qkFV7UwE2o1AW+8rEfbjx/8p4MkF97wUZS7n5h0TUxPMNfIIL2QGckfzWTSwFY43LlYmBd/AvyJs+5Uthzhwn74luWPp210J9OmXLDJkz9i05022uuXdtt8i8b6Szu7im3ukukeyj566vbn0zmVmo9XPmaXPv2JG93LQ8m9zJvul7svi+J/XP2SWrFjVu97G5sQegS6qKFjVvosI9FPPrzH/3vOyc49v7hWNmd9bKLCQ+O0DT/eIgzEfmLuLmdaThDTRWHhbuQfvB7SpkJm99947yUrTtcbiEe89Oz1dbGDP4jhW3MWgMPAl0NjhMccckwRQ0ljkXX311Yknnmwe6XbxxRcn3uTzzjsv+efzzz8/iaf56le/ut5xSDi+8IUvJM6lK6+80uy5556DgqPvdUWgRaBbYZAi0MUEmtU8cg1kG67e1+zEhhTuyDOSmJIGrmHT0aUJL15piDpbur5eKbTSpCKbPXt2FDt3DfxzuRgZU0aMGLGOKLB4YJGDR9q3JDceHcrnlkXJl40rL7Ve1gN9/Pm3GWQU6JvPOnaqmTVpfRkFxJKS3gQH/ujWpWbxo8vMtJ4e+q2zpvQdwooeIX185WozYdtR66WSyxsv/SMVGbfVyJ6MYo1Zueolc9Au2yQEPlYr00AzBv5s3ysNDuEjIPPKu5eb0ZttYo7oVTlkcdF04z0BgWPRSGo87B8SjXca2Qf21vbGew5ZSr+dmbaPnfEha3jooYdap9f1xc6XQLOIe9/73meuueaa0ku5Emjb0QUXXJB4q7/zne+U9t3kASLQItBN2lvutUSgTfKxw/OYbTZgzhbOcJVsZPuJKT+wfVfJZVxkcMhT0FVDBmm2mmJear4y44UE8SGYO3du2aFOv7sE/jl11DuIjyzEi4WBLcmNd72KPOSGG25IdIRVbcOOOc/DniXQix5/zvzHtUvM1LGjzUcPm5gQ6Vsefsb8V08TTUYOZAzkVP7LngZ6RC/P9D33LzFjRo/qS4pW9ojn9xY+mpDRMT0y+v5eMCK4ENhHS+dmzmL7wFMvmAt751JO8aBeFo8/32+sK/ylx5UR6NIOBngA0ipsCSKKlt5m92BIVu6BvjR0wVXHLfJcUNCjLL6hjmvH6JNdAGQo7AB0ufkSaJw7J598spNO2VfCwXcRu8WW29REoItno3kXQpuso8GxiED3J9C8MPDykk4o9INCZSlyesasBhfTI4u58aJkKw8CzXjRE6arKfqaJB45yCW5qmM0SlKjvQ6dC8aCp4375Q+5b9lZqKpZBTPyFeelMHS99zwbyUtjl+732P/4XSLfeGHNK+Yd08YlBVreesBOZkmP5D7yxDJzxO7bmIm7/El2xNx86md3m8t7uuGdemn03rTvjglx/sCcCebqe1eY2x59LSDvfx04zkzs6av7tQcTAt3TzPb62nW7Ub0+xpodt3otJV9o6zKBZtel33PDYjwt98DebLo89PixAh9DsGdnhrHkBdeG9N3EubyzydmOBr3LzZdA41w466yzzA9/+MPS28ZRAj5XXHFFsgPH4h8v83777bfuXPqzko2f/exn5swzz1wnDym9QEMHiECLQDdkasWXEYFen0BDLpYsWZJ4YCFWMfK5lmV9qGIIsfvkvq+77rpkq3ns2LFJ8EnoRz1WgB349NMtV8GNc5hf9J4QmKJUfC7987FDaxi6RZ+3IHIh0Mg6lqxA1vFqL/PG2CQl3djRI8x/3vCIWbO6p4/ca2vzoaP2WXc7SB7e8JUbe1KPjXrBgC+bU16/hzl0ynbmvOsfTgIRX1r7qnnDPjuYo/bK10xjL3f1iqFcdfdThqIopMb72FG7JVKQ0MZHHklNHYVUQsdWdn42BVm/421aMpvdg8UqWWFYZOPtC7WlsjHm/c4zRtqysvzoVfuv+7yhUIq8Si5rnpWvf/3riZ7Zpf3iF79IPNa8Wz74wQ+aT37yk+bTn/50Eq9CSXBS3P36179O7BB7RB+dJtgu16j7GBFoEei6bcypfxHoPxFodMDolfHChBKrNPgxyZ/tN3afeGLxnuGRqCJl6GdsMQl0VrfsZNx9DkIniVQFXeq0adOqdrPuPAJ3WGix9R3S8iQqLgR6+XNrktRypHCbsuOWiWf9O71Ubz/7/ZNm9ZqXzJunbmM+dsyfPEwQuL/93h/MH3oZLabsuIX5z/dNS3TDf/PdW83zPTkHgXrHHriTOb4XkFck4+B+v9ErhnL7I88kOuS/O3yymdsrihLaupzP14VAZ/FhvkgjiZwILzXzY+Ue6KibknsUlX0PndMmzgc/AuimTOmv929iDKHXqGL7yDLwPkOih0sTgRaBboWti0CbJPcppazJhMDWFR7YmA1tIR9B30C8ojHgRUV3G9onH2u82Wx/4gmjolWsFpNAp3XLVcdnS3JbGQjynNAWKx+3K4FGn3xXTweNpzev+Akluq+5Z7l5rifp2HrkRmb6hC3MV96zflnstb0gw6XPrEokHCN66e1oNz74dJIGj9La/8+8XRN9dVm7tUee//mX95qRvT7IivG+no46tFkSsdnOeyYBiwRKMs4uNOyBHYkQTTz3b+UePJfEYFi5R78qdLFwQSbFwtK1xH2s68bqp+ulyMGB7EXEQ/gs7hIBT4wAACAASURBVJFjkHXji1/8YiwoW9+PCLQIdCuMVATaJKmP2NLPK0sdOlH0jScxm1IopF/6xHNF1oiqjZc1WTb4aFI9DU/GvHnzqna3wXkxCXTI/SZV73r5YfE+M8ds9fLfMTxVsXJ850lymGPmyRKyr179oEF/DAE+uSeZmNxLYUcQIB7gsb3MGMhu3vS1Gw1e6TUvv2p23GJTM37rEea7H5wVbV7THT3yxxfNN697OAlehNAff0iqCMfa1WajNc+ZVzfvlQ93IOO2Xwjktb+7zVy9oldNsecZ33rUpuak3r12oZUVwahyD2SJsfIEMn0QhGg91KE7H+nxsIiDPEPWu9hYIOMEiPmebRoH5pp3wQEHHOB8aXTKOH8++9nPOp/T9QNFoEWgW2HDItDGEL2N3quurVIqfPFijOHxtEZDtDnEijKuVRoeLl66BJRYzWNMwsuYYvZHpDmBWGizfZpNz8ciAcIMwXzyyScTj3uM3KbIXpD7hGrl84IkIdDcg7XNf7n8PnPTQ88knlnSuJ3QK8O9YMkfzdqXjTlizzHmmF5A4Lv/8xZDto5RIzY2c3bdwvzFftuaWXtPMtff/7TZoyfZgHT//+x9B3gc1dn12aLeZUm2LDe5V9x7AWNwTDG9EzoJkMAf0ggQUr6EFggJBEghtAChhG6aAYMLGPfeZclyVbd6X+3u/54rj7xar7SzuyNZgrnfw8MXNOXOzN2Zc8897zlGtvUHy1EgkeDTByYdD1Zx1CFs0wuw1B2Fs890OAedofuUBNCrNhBAx6NBgmL6SJHiLRKY0h1aRwBoz+vmZNBT7sHxwbFN0Eu5RyjMNyeZXH0zIu3zZDyr7p6kyHsWjBXfG2+8oYqh2wpDORnPoqPPaQJoE0B39BjTdXwTQEOxw/xod1QzErBpfSTbEgyLyg8w9cTskzfjbiTgNRpABzMJaSuSmx8bTiCMqNYPJhGySaKn6wUYxkoMt9baSkf0BtAbBTz/5sPdqG5wqmPQRs4pz3SeFPylxEYoQH3eP9cL++xSLPVfz05H34QI/N/yUuwsqIJNJhBv3DReJBFtF/tRG71JpBlTRDoRbKqfpTJPAPRzwj73gMXlROO0O1r9vBhH7pD+9U44sR+ahCNt4AjklderPvjTYnfUbzfQ47KolMVYoRbg6j0v7xV1v2SoOd5JBGhyD7rWBNIPOsFQ3tQdQ2B4vzjJZuuuQTDsO8kcvus4KdfbXnjhBaWbZ/Hfd6WZANoE0F1irJsAuuMBNItbqLEO5KXob3AEAwI1X2taaPkqkjQqVU/ru5GAPNAJQ3uR3HwevH9G+MUGmjJZUt2A6/6zEaUisbhz3iBcPqlZM9xWUagngF60tQD/+vogHCLNoH0cC/6sgqAlVRtjJCyFModTJIXvjv9tFz1zOXpEh+HWKUmY2DsaN7x7REB3kyoWfPKyUSr8hAA7p7hG6ak1ME85yKPCckcIe8248Hu+N7hFI+1vTLb6u0vOtft9WEtz0DTkbLh6jm75Mx1DXpE4bgL/haN7Yrz4SHu2YAqpAupbB24cqAWZ0V2hhEGTezAIie4emtyDWur2Gr3lCT4pEemOrbsHwfCec2LPb0Ugq2N0yeDKwU033dQdH1tQfTYBtAmggxo4Ru9kAuiOB9B8KZJVYMCCUS1QEKhFkbfna21Uqp4ngKYPdCAsWFv3Ry+LryeSmwCDgHzEiOPWbsE+l0Aj1T/dWYg/fLRHnS5dCuPeuqU5uKYtlxFPAP2r93ZhR161AF8Xbj9tAFJjw6WALxt9BAA/euEIxIlWmO0bceT49Yd70CjIek5mDH48NQV7ayPx5LIDmNQvAb+aPwg2AdI/f2cn1uSWK8/nn88bKLHYSSrF8ImluRKm0qTkGP9v7gBdxYSB3L+NIvl4XxxCGPQyXoA8iw8926FSScDcvgtnzZ5o+LkD6Wcw255sAO3ZZ03uwfHOdxAnJprcg//2lntQ0sWaClrZdcfGwmqSA93Vx5r3nOCZ7+pA5H6PPvqoepddeeWV3fGxBdVnE0CbADqogWP0TiaA7ngAzRciX+6BFIb4e85ctuWSpT9/Tn5EuR3ZGX9R5EaFgmh9NxKQ88PCSUN7LL7eSG4jJzSMbmbRUnus3WcCmpn4N29YKs6UwJFrX9ig0v5+dGomrpnWXARKAM0wFm9XFU8AzcTB//t4r0oNfOSCESLZ8G2dl1VUg7ve3alYZa46/HmByDgkddG7zXzsG1WIWitAO0HA92CxwLtR3DcIyFmU2E+0x9FyDM2lw9+Y1Pt3styLtkrBlwi3F47peVw3LQdgTPl/hZ0uLCrGFbNHYOqA0G3x9PbLiO26EoD2vh5K1TS5B//N8abJPQiaCaBZY0DpR3ds3d3HmvecRAELRQOp9WDQyZw5c5SH83elmQDaBNBdYqybALo5hY9Ao6Mal1JZ4U57K6MaC4kIutoD5fxg8qPIRvbbX4GRUZ7G2jUaCcj9Me6BRHJTK8oJBRPjQm30DSc4bUs36hAt8rlPr1IglJKIl2+YiESJ2qb8IlkYXq21ZUvIZ8hleS1cgxMif4w+z/nwZznYKomCC4fGYK6w0L4A9LPi4fyMSEIopaDGuKzWoVhsul68ffMEPCmOH5SCzB+Rih/MDN7txfMeEzwv33tUmXKcOqQHoiSAxbPtzK/CO5vyUV5WgnnjBuMsPxHhpeJZveVIFTJ7RBleHBnM2OjKANr7eliErMk9WE9BhpoSDuqgg03mDOaeGbVPd7fh430IphDy7rvvxoUXXogzztBfqGvUPT9ZxzEBtAmgT9bYa3VeE0B3PIAmACKQnTBhgmHP3B8o598pLyBw0usVTUs2Am2jPp4EE/QzNcJqqy3WWCuKDCSS28gVAT7X3r17t+lcwP7d8NImKYarU+D0pesnIsajeFAbEL58rglwqLGmC4dWHEabMb3FYTw3pSrcvy27Q04en1x+AF9ll0qaYa0C+nS+YIjKCvlvlHGUCEh95frxiBB5R6jtG0k6XJp1VB3mjOEpimEm201rPno9J4pue8muQuzJOYAb5k/0WTzI6/pKZCrZRbXIKqqSyYhbOY7ct2DwSS827E4A2vNZ8p7SUYYTQf4+CKb5/5Ohptwj1Kj6UMeNnv1JUqSkpBgWBKXnnEZvE0wh5B133IFbbrkFlMt9V5oJoE0A3SXGugmgOx5AE8AQCDHlz6hGuQKLfnyBcsaQ09WBDGsgBUHBOEq0dz1GhYzwHL5YY37kyQCzOCqQ5Eiy91zupaQl1MZnQMauvfRGyjU2i/xieK849GwjEISMOEGMBnQ1BxEWE/EZcoWEbCGZdq04TFt+5wSFzO5/1x0RdtuOi8eni62dW1nd1VeVoqa+EeOHZSqtc3vt+VWHpEjxgABlG5LpHy0OGSU1DkySIr9fnjnQL/Ot515uE1b8g22FNA/BBWN7YVR6HJ6XCPG8ynrESP9oVxdmcWHDlm0YOmJ0K5ZeOz4dPJ6TvsbJRGSZgPF+yVGKRT9f5CAJAsBZSMliyZPRuiuA5r3iO4qFtfw9ceWDY5BjjnIP2ihq442Fif5WQU7Gve/uLiK8Z5xI8/eshT3puY8333wz7r333oDCV/QctytvYwJoE0B3ifFpAuiOB9D8GPHDOm3aNMOeuS9QTjaRHxEy3gTP2rK/3pMGWhDn77hGeSTzPN6sMZec2V9qBckAB9L8sfeBHIupYfTRDjW9zTNshx7flHSQvedqgKcPNPvmywv4tWzgqwP1KnjkXnHOoL/dNrGjW71P4qGlILBnfBT+fdUYvL4hD4fFGo6SjEwfftAPLt6LVVJYyGLCP547VOms+Y+eVEI99419zz1apyQcAwT4Eog9LkWLBPwsjrxtdn/Ffv7lo82ITUrF6cN6nKCD5mSBYF8Lj6HWm64ke4WR5nWfK0B6goB+SlkKKhsUi+5v8qCn73q26c4Amr9X1lT4WjHiGNTkHpyAchWEgJoTx6ioKD23psO34WSWq20E+N21UZbHe6t58+u5jquuugqPP/64IcFQes7XFbYxAbQJoLvCOOTHmGTQd7rxFvAD0VGNxzc65Y8ggwzv1KnNLg5kpAkoWYHOorZgGCJ/et5A70+gFm/tHZ+AmRpHgkotkpv672A+lizS4URj/PjxgV7SCdvzOATPXDoOpXHplmOQsg0+S14bl801fX57z5Ps9M/f3o4VOVUKmF4xMkpAjSQUusPw9uZCcdxwwy6x7wSn/9uYr7YZIWz4Q+cPP6HLtLqjdIMOId72ctrGtKFj0uGo9FiRTrTPavu7J7TS+7torRkG870RKbhmal/sya/AP5bsxMC+vZQe+/ppfVXs+HtbCpEkzPj5wlwTcJeKZru3eFxTdsIY8k93Fitm+xyxxqPbyFsb87C7sAZJUnR5kyQkan0l2DZqQuB9fd0ZQFPCxVUZf3INvs84CdXixjlmNbkHAbW//f2NiWD/vmPHjm5dBMnrDkbHTf3zK6+8EhBrHew97ir7mQDaBNBdYiyaALqZ0etIAM0HbaQnMo/nCcqp/2WKGPXL7UkJ/A046nnT09NDOobnOfQ4VPjrk/Z3DfSSnSEDxg99oAy7diwjNem877zngTBGvq6ZS7dkn1jERQsrDTDrAdA83urcMjz4abbSKV82NgVD411YnlWMFQfrsbccAkRt4hM9AK9tKBDw6VL64ztOCzzFskCkFo99kasKIicKSL12arOPdbCNDPFfv9yHNAmBKa93COs9DNV1Dfj74s2wxafiglN6YpC4g7wthYVkrsk+XzK+F0aK9IOOHTuk6JAyEOqnN4pMhsCYwJ8Sjj8vyVFFiuXCwN8yq58C428IqD4iDDxBNr2zjW7dGUBzQs5CZ3/Fxt73jGNUk3sQVHPseso9Oirh1bsfJAD42wk1FdToMRHI8ajj5rskkDTI+fPn47PPPguKTAikb11pWxNAmwC6S4xHE0B3TwDNwbNy5UploM+PFwFlqMV6ZFPJpIYqR9AGNhkhAsJAPgZt/Sgo4aBLCDXCWiR3sD8gMmYE90yMC7Xxg0f2jc8h2MYJAcFLfKIUbPUZJPrjcFVMx6YB6DqxmvtiTwnCxTv59GEpJ1jLUe9MDTTZ1dPE3YIOF2zPLduNpXvLlLRjXoYbceK2UW+NxoIxfZCUELiWlcErT0nRoV360Vfs7v6fhLeE0iizoO6aspLpUlBIdlkL/PFcIWBc+Kc7S2SCYFGgnU4mlH5wIklPa4bIkIkuFEBe53Civ8hDdkmcOR0/mGQ4V5IamwNcRCcuLLZdNL23CiNPxp1FjZEy8ThNtgnVsq87A2ijYshJRmjsNMc2JR6a3KMjwS1X4FgL4S8wJpTx2tH7UhJGSVogtSuzZ89W78aTxfx39D3xdXwTQJsA+mSMuxPOaQLo5ltCUNWRzWgGmv1dsWKFWrIcPHhwUJIN7+s1Agx6HpOaREpK+PEMpXGCQMBLJmvGjBmhHErta2RRZ3Z2tmJ+gg1v0Ao+yfx/mVOJCkQr1pT+0Erbe8xi8cPtRfhsV7GK7r5qcm9MH5isgGKuAGcW+xFwE0Tzvw1Ni2kBggeOFGCx7NcvvacKSnlp9UEcKhHWNsmFYXFNqu+cMJFF18PoE6B/KUCegHeBeFqT+bWU5cJaXQhn2iggInBWlyCa0eQsgCR76QtA87kVSfEgZRhkkrnPk8v2K0Y6NsKGH586QOmdX1pzWMk7zhQ5yAy5R+p5C1tOwF8vk5AXVh9CuUg/5g7l35Pw2c4ikX9UKP31heN6qYRGzRUkXe5rW17bbQ3C7gygOyKGnBMcrh5pYS5c/SE41AC1njGn9wfPImiuwoVKJOg9X0dsF4wMZdasWeC1ByPb64hr6IxjmgDaBNCdMc78nsME0N0PQJPdodyCxYk00DeqUX9HiUQgFeDtndsIfbAWyc2kLQJ8I5xMvPXjody/YO8ZgQXBN5l1rh7QXeOVtXmITUxSIPj7U/oiNS6iBUB/vrtEhY9Qv3y9WMxN7JeIvy3LlcK5anGvsOM3Zw3xaY9HeQ/145mZmQJ661TxHYvqGAf+E0kz5Pl5bo4pNm3pnSBH+yBTp0ybOQJ172I8S62w4qv/JmlEDrhShsIx/gbQm5lSEl92fXrudVsA2ntfAup90q9BUgzJe7VDiib/JxINFkBS4nGhsNn0wn5f7htTG8lcM/2QoJu+12yr9pWpiQnv61WTM1SYzD+/OqCYbA2YE7TT2q9enou237cVQBvx+2rvGXNCyDGnAWpuq0WNc8yFIvfQq+HWMwZP1jYkCkiI6C3M5HuEDLQJoE/WE+ua5z05HkRd8150aK9MAN18e8lKdmQ9JRnoUGOtNc9jplURdLFq3ghGVhtgtHbj8megrhZtDdBQGG3vSG5eu2fRZCg/CiNdUWgXyI8dGWS9jQCRy81kf2lTR6DKwsitB0qQVRuFyf0TMSWzmT3VGGiC2PUHK5SEgxpfviB/KVHcOcI6HyqrxyjR8z5z1SkneDV7RgOTtX1tfZ6SNswXhpYsrGdjvwikCagJcjSnhec2VWGzRIgTeD9+ychWINpSlY+wtU+DCNQdl4H16VdisRTz0Qrv+1My2mdwm2TVxynFu16stV4A7X2/yTQvFka5Qnylz5YAFvb3uW8OorLeKf84cNWkDAwRdn6DyEG2CtiekZmkAHO2yFIIuulKQob9z0v2KUBN0Pz/RCfOe82JB+0IzxieqphrE0DrHe3tb6eNOQJqjjm6zmiTOP6uAmFVjZKgGHNlwR0lUBZdA9As2P4uNZOBbv9pmwC6k34NJoDuHADNVD5qbgMt0NGGgQYq+IHRPI+NloW0lYYX7FAMVt6gOYqQCafmmR9RAkneQyPCAow8VqCTDs1+j8VOnkx/1oE8/Oz9bDhgV8D27gVDWwA0J3e8B95ggmEiBNFOAdcsnnvovGE4XQCeZ/ME0PzYPi4Fe6+ua2Zpn7x8NIYIgGTAi3fTnBayDhXhnk+PINrmhsNixwNnZ2J0/7RW49hasAWWikNw9Z2Gd7KalNa41tEkDHC6uH3EthzaUlME+653gbBoOAbMRfiW/8DSUA3HqEvh6n08ZChYAO1rnDL+nPKXZJG4XCfMvdwqdQ9iRPZR3+TG3WcOknsHCWSpkf/twkjpb15FA9ZKUeYIYbFHy8SEuu+XRTudIBITMvD0qqYLybtbChAtAS4XjktvmVR0dwlHRzPQ/t4lnnIPvgc4ydQAtT+5R0dIUPz11+i/B8qi83fKVUgC7+9SMwG0CaC7xHg3AXTnAOhQUvnIzGgV5p6gywhW23MQUi5BcNlWal2gAzYYdratSG4jrQCNPBadM/hhZ7Gkv8aVA04qfNnvLd9+AL9fnIvY6Ahhma14+5Zme8J8kV3c+eY2xX7eI/7OBHiUEWwRacJd7+5CmcglSJdSMvFr+fsCr+hr3k8GYbDwcsnuYvz2wyylN5ZTIE1kDwSA/Pd0YWOvEYkDC/K0RpeL16QwcW9xrbKRm9YvBhcPsaNaxiOvmdppghsWhmngPk+2e1/s5gg2GZTiKfmw7f0EtqIdQFMdXKmjYDu8WrHPLmGuHRNubDkvJwzUghphM8iDUhLD4kA6c5BV/vuKA+p+UpLyQ3Hn2FNYrYoLaYF3hvhOn3aMmSdIZv95S8jc89q08JdFWwuw5XAlGkUKQ+00fafZTADt71eg/+98F7EIUfOf5u9Wk3uwcNdb7tGd7712VwKdBFCONm/ePBB4f5eaCaBNAN0lxrsJoJsfA1kvvrA7qvEFRx2vXm0b+8EPBv2BmVJHyQaX1D3b6tWrlSY4WFbb+1oZ4MHiROpljWiBgEtNntJeJLeRjLtRx6L9HD/k7cWl89o4mSAQaCvaPK+gEA98ug8Hq4HbTs3E2aN7qUfw5oYj+NvSHBmbbpEhNKkCw/sXDlVezcvEYYIFc/2SIpXFG502/u+cocqlQ2ueAPplKbB7Z7OkVIpuOEy2ZYJfvmh9e8aFi79yuNJRD0yJbtl3p1jEvSMsKwE9mVjKIrRGdlADNvz/tcIwAuq23ACsRTth37MIsNrgGH4h7FkfwlIn13DK90U/Pazl2ATQ1PjTUq0jGsEzCw77JkUpgLxd5BwMmCFQ5kTiLLnOFdlH8eXuo4gVdv4HM/uqSYunfzQt86hJ5z2/XiYevJds3RnEdfW+Eyxq7h4sLKbcTCtG5LuREo6TzaCHOl4DfQYkVy6//HJ8/fXXoZ66W+1vAmgTQHeJAWsC6M4B0IGGilCnSxaOzB4ry32B5LVr1yqWzt/Spt6BRkcIBiSQrTSiEVyy/3379m33cHojuY0CveyMUcfiNbK1xdrz2lgYxInT0KFD2yySotSCYJfyHM+2O78SP/nfNlXURokBQR59j2+Z3Q9//CRb/W/atK3dXy4MqhvXTOmD28WRQmsayGVh0lFhq+lSQfnGLNHxPr50v/JE7iFBIyniw0xgTqBI6zceb56wsYVVjaiRorszBJRr1nreD9OzMIzn03yAyVCfEPtcJ8WKAqAREc8Zovwjk1b+b4/mF0BTN+1yihTEmAQ86stXihyGRYKzBiWr4sdnvqZ22qEmLbyn1E4vkUJOAuc5g5MxTYA2WXky255OHYECICN+Z0Ydo7v1XZvEEVTzvcXJP39jBNXd1Ykj0GeQn5+P22+/XflAf5eaCaBNAN0lxrsJoDsHQFOCQZClx9+THwMWmRF4tsdssqiO0bvURRvRKDEgs8PCNiOaZzx1W8cLJJLbKNBrJIBuT/ZCPScnTkyGbKswk5ZpqmCtugJk34cPb50OSPY6v6waL6w6jFfXi8xAMOf5Ei7yfxI4QokBZQnlwqje/f5uxRQ/cuEIZS3nC0B7PwMCRxYW7hf2mvskiU6YIPuXIg1Rfshysr9fMaaVrEPPuKipq8favfmoq65CsrW2lY5Vj0dvewDaUlOMsHX/gMVRC8e460UKcmKaop4++tsmS2QdZN8p87h8Ym8l/XhMgllYmMgExPuEree9926BAiB//ejMv3fnvvN3whoJStw4ieOkjv7zBNOUexi1StfRzyPQZ8CVrd/97nd47733OrprXer4JoA2AXSXGJAmgO4cAK035U/zBR49erRfsE0XDjKWRoUTtMWCBjtQ/UlCAo3k7ooAmhIbyn/ox+3ZeC9p48fnyA+4r8bitBe/OQCLALFLRiUirKFcyXy0RtnGoq35OHS0BueOScMH24pQLYA7Q6QHTBacPyLVZ/AHwQSdMCokge/UfuGoqSxX1lhorBbZxEeiQa6Hc+g5cEefGD9eJazrXe/uliJAp4rzZty3pm+mlR0lIP17RElCYK82gTXZXLK1nBhcNiEdfWItil0nsCEjr+lYCXB82Za1B6Bth9fCvv11VYjoTB0p8o+rgh2eAe3Hyca/Vx5UrPMgkblcJ/HivlqgACigTnTwxt2577w1nv3nOKP2n2OOpABX6bRiRMo9AnH36ODb3urwgT4Drm499dRTePXVVzuzmyf9XCaANgH0SR+E7IAJoJsfA1+4lE10VPPniUzGhNswaICgS48sgyw19cpcJjei8WNDUOsJ4kI5bluSEAI8WtwFGsndFQG09yTBU8tNvXN7jOvH2wvwjYBNumjM6BuNQdF1Sq6jtdW5pfjtol2KJZ4yIFHFXNPn+M2N+WqTH8zsp0C0d/tgWyH+8MlexVYvGJaI60ZFqFUFZ/52VGUtQw96IKcNh3PAqa12pTb4zrd2qpCUs0elit90X8VKa+3Bxdki6WiQwjkX7pTkP0pHfDUGrawUf2Ve18VSYDcmQ+Qax5onsCHA4f3RihE127J2GWjxnQ5b989mBnr8jXD1kIlBJzWy0GT900Qz7iuxkM++O+twAwVvnXTbdZ+mvf7zvarJmbjCFxsb2wKo9ayK6O5ECBsGM34o43vttdfw7LPPhnDm7rerCaDbf2amjV0njWkTQDff6I4G0HRfoHzDV+SzZtvGNDsu9+tlRygLocyjLYYz0CFEpoaSBMpCjGi+JCEERwT+ZB8DjeTuigCaGkQ+P9rSabp1FtFRiuEvFKJA2MznyUDL225ieiTinZWYNmFMy61fu78M972/UwFoFrf9XgoE35Bit7c35SvHiJtn9MP3RnoAaNETW49m48Ut1XhiXY0KS5nePw6/mBoLe3IGfvTaFpRU1WNSksRxXzoCth6tte4sTHzo02wVNsLgkee+P7bVMHhRUvxWizY6QuQddATxlIp4bkjXizXHtpsswJ9SB7LtlD6wGJGFkFr7Zq84k+QfRWZUAyLcjWos83fCyVebLhyupmbttC3ciGFq2DE4CWaxsBER8YZ1SueBggFvOg/dKZsFcu95rZSOaYCa735N7sF/nyy5RyDXoN3UpUuX4osvvsATTzzRKfe5q5zEBNAmgO4SY9EE0J0DoOkXTK2yd+AGda9ZWVmKeeTSdiDNqKhs7ZxkhNlPOn4Y0Xht/EhphXEE6AT9LPRJTT2ROfV3zq4IoDWWnRpn6p1pZ+evaNLzOvkxf2rpPknEK4Hd1YinrpmG+GMpefzbJzsKcVgkHLRPYxEfC93eE/eHCAG5547p2YoJtRbvgl2s4mobHPjdvmEocCVgbP+e6BPtRH1EMh77Yp8Cs+F2C16/cSIyEltr58mu/viN7apw7tqpGbhSgkfYGFDyHyk+PCK2dowQH5MRp7TBehsTEBm7TUA/sV8CrpbEPzb+939LsR49rOlicZ2ck6z05n0FKD9ajAGpzR7AZKjJGOqdWOrtl9HbBQOAjO5DsMfrzn3nNXPySi/kiRMnBnwLuK8m9+C/OQHmu7izx10w/ucfffSReu889NBDAV93d97BBNAmgO4S49cE0J0DoL1DSgiOyEoTVBKwBlM17k8WEugA49ImpRVG2YdR90oWmpIQLZKbsoZgNdtdEUBT8sJrpJ1UMJMgPqM7Xt+CemHmSyvr8MjlEzFIwk20xnGiBanwrYyhpQAAIABJREFUv9GzmFHTdgHQPxEZRZ/E404U1sKtsOcsgaU0R5wtwnD7wVnYWJsmwFMY47OGS8JejhQJOsSzOF4VB/oqgiN7XCM+0a2cJQ6U4ykBwDznkLRY3D0/MJcWss///IpAGRgsbhaUnrDRWeQfci3UF9NZ5MpJvbFaAkzosVwpQOaO+SORYKlT+mkyhgTRmtwjmN9LoL+HQLcPBcQFei6jt+/Ofee9CAZ8tnUP6eahsdMcd1oiJydzRhVs+zo3z7t7925ldam3vfnmm6CM7L777tO7y7diOxNAmwC6SwxkE0A3PwZ+QLiU11HN05GCL0pNxsDirmCZtfZkIcFcB6UIZLUnTDieChfMcbR9aC/FlztBIO8vtd2hLI8aGRxjBBjndbE4lEz7tGnTgv64Uqrx8je56BXeiLsvmtqqOM8bQL8qwSaUR1CHfLEk4J0x3KMQ0OkAQTT9lq3lubh+xzhkN3JVQ/yhF45ArNizxUkC30AB6GR99bb9BSV44OM9aJQkwgWj++BKYZBrGprwngSmREgQy3nChNMar6VRSlK6D26bHe7EAer5fyXyEOqnmbLoCc5ZmEjme6QAaHoyLxL99jrRfpeUluOH80aq2HI2bdldK0YkY9peqIbeazNyO74/+Ls26vdjZN/8HYsAlAVp3bHvvLZgwKe/e6KNOxILGqDmfaLMiGCaco+2PM/1HNt7G7r20FWD70m97aWXXlIT7J/+9Kd6d/lWbGcC6PYfo/63+7diOJy8izABdPO972gATa0sC1n40iXooqwhJeVEF4RARkIwSX/tHZ8fIX5EjdJwkpmlZINaZy2SO5Dr89521apVmDp1ql9tsZ5zhAqgCeD4HLW4YW/7OT198NxGk88wpfCFbw7i65yjYp+Wgfkj01ox0HslcpqsLYvYfjJ3gG8phQBYS/kB5FZZ8OzGGvSwNyA2KQV02EgWG7ZrJfgjEABt3/k2DuUXoKwpAsNmng+7owqv7XLiw6xqpcW+XiKyzxwUC0f1UeyqjkF67R70OfQBcbtYzV0nhX7NseR6WpnopBdtyUN5SSFuWTARkR566WoB7SxQpF3f7EGJqK2qaHFZIDOoyT0CCSvS0ye923RnAO3Xe1vvTThJ2/F3qKV8dmQX+J3gqiEBNeUerHPQ3D1O8DwPsCNku+kr71lI7O8Q//jHPxSgv+WWW/xt+q36uwmgTQDdJQa0CaA7B0BzqZ8vRwIvSjaM+Mgz6Y8MSHte0YEMMgIAFkFNmTIlkN18bkumkACTwMaodDD6vFLjaATrEwqbzYkQdYf0nKUcxVPnHeyN48czJycHKf2H4vbXtyJG2NhaCTB564eT1fK05yoFNckkkH05QXif/0BhKVbuOIR1pXaxn4tWCYS3zO4PUWOoxuOySPGTHcUSIGLD6UN7nLAiYt/+BizVBbAIWnbGin1d8U68c7QfXqsaKxZ8Ntw6Ix1zS17DU3vi8U19P1Uk+EjG10gNq0PtsItQnDBGBbVokpHdBdUqAXFK/wQVWuLd2mITCZ6/obuHMNoLhfXW4rPdjeLIcWQLyhpsKGiIUGykZ1GYEeNFz3M1Ukag53xGbtNRDK6RfWzvWGSJ+T40qgBab7858dDYaU6C+T7QAHWg73gCc9ZUeIcptdeXxx57TDnsXH311Xq7/K3YzgTQJoDuEgPZBNDNj4HAlh/Ajmg8LkNPeA4u9ftzZ9DbB0Z8c2m7rRQ8vcfRtmP/CFKnT58e6K4t23vauPHFTu23UZpq2lS1FYUdaIeDjUEn68SESDLO1ONyouArACXQ/mj686EjxwiAFjBY2yg2cXF46IKRrRjoQI5LPfFP39ohns4uccwIx4DkaPx6wWAFvP/0WQ4coj3+xRkD8b4Ehrwh1njE1IzzZpR1q1ZfIbKQHXALeN684RvsOdqE0+ILsCv9fIQl9MS0VIkYX/kwfrJ3HCqbbKi3J+C3vddh4LDRuP/gGGQVizWjuG/8Us51qKwev/1wjwommdQ/ET+fN7DlVJSFbDxUidgwt0hQDp+gBV0vWuxPxN+a/WS4CdMB2cK2vAxr/iblytE442eoDUtGYYl4TtdWolRkRKUNErWeloT+6akdWozYnVlcMrisfzCqgDiQcWrEtgSvlMkZZcEZTJ/47qMMQwPUnJRocg/KjfxN5DxTQ/We//7771fflAsvvFDvLt+K7UwAbQLoLjGQTQDdsQCaxWWUMdCiji/UQJbn/A0Q6ov50fYO8fC3X1t/5weAMokZM2YEdQjvSG5er5GaanrsUuJghG9rMGy2VgjJCYHGLlHnTdYo1A83P7wsCqV1W7nIGA6W1qpY7YLKegxNiWzF1LL47i9f5qrJ088EgLZlJ0dLurc25QnDDBXXPUPiux84bzjelTCUtzeLFZ7snyFFiDzfxsOVqsjvR3P6K/9nX42x3796ewuctRXol2jHn64WH2lhoHflV6Fu1b8RU5GNVyrHYliyBddn5KN00IW4fZlLWeIVi875n1eOwYHSOjyweK9iuQeI88YfFx6PLqc93w45lou2fT1q8b0ZrbX4LulvbkmtFDNa0V/21VrYmqdgrToi9LgDJeN+jOd3QuQqTeKRnaL01V/uKYZVrO8uGGSDTfyjudSusYRGFiPyt8jxHkgRWFA/tA7YKRj9bQd0I+hDBsPeBn0ynTuSkNDkHnxPaBH3HHscg95ECsOX+L2gJabedu+992LhwoWYP3++3l2+FduZANoE0F1iIJsAumMANMEJU+rIEpPVoXaObCwBoFGtraCSUI4frDbYVyS30ZpqyksIVANdGvV1P8hmEwjrCazhh5DV8VxJ8C6EJCPNiUyoEyNPAM3+VkqoyS/e3g7qfgf3iMR9Zx8Hmq+sPYL3xamCjVIGapp9tR15Vbj1ta3C9jpx9uheuHmmRMMLYKaTxyOf5whIr1OaaMpFyOqmSfLgfcJQ+5JV8Pi0nbv7vT0SkOJCH0lDfFRiw7ccqcTDwma76ytxSY/9uDp5t+iipaAwKgGNp1yLZ7c2gv7SLHZkP/m7+HB7EXKlePAiCVnpay2FtWQ3XMmD8fb+cGyTPrvl+DOSazFfAHSBTBaOyHkHpcQoGz9fzVJdCPu+JXDF98XuqAl4Tbyy4yPtagLC+3dY7Pf2FtdKAWMP3DS9DxZtPoKV2SUYlejEpJ62FjBN/+lQVoe6swziZEkgQnlXee5LgEoAylWvrtr4/vCUe2i6fQJqvtNYM0J5GLMA9LY777wTN9xwA2bNmqV3l2/FdiaANgF0lxjIJoA2HkBrgRpkHAis6DzBDxSLXIxkp3wFlYQ6qIIB0Fokt3f8OD8YjBs3QlPN66LPKz2kg7XB87w3etlssoo8L32ryfR7O6aQYeIkKZDKeV/PyNsBhaDv7ne3I7LhqBgxiw3ceb3gypisdqVrx18/z4JForl/MjkaUydPo5jZ56Mvr6xS2vtTRrcOxyHr/OTy/Qpcct97xJqupwDosDop0qvcD7eAUXd87xOOuU5kFATg84YkoU/xMizbW44nDw+E1R6OGb2lsPFUstdWceAQsBvRnJBJ5thn0aKzEeFkj/M2wFJ3FGWTfooN4ZMRY3dLEeRhDBkxGk+v2I860YL3EKD/41MH+B3etOF7fX2essi7UAA6ddcE+HQt6Seg/5zRaSqOnGmCRVWN+N2Cgag5VoxI9o9AJlgNK8EPPd27owwimAI2vw+jEzeglIqTWRYsd4fGiSR/8xqg5tihxIOgmpMAPRN7XucPf/hD3HXXXW2HDnWHmxFEH00AbQLoIIaN8buYALr5nmp2YaHeYQJlWlkxTMOzuM9oizj20yj9rec1BwKgec/ai+TmRIJMLzV6RjQW7vEDST/gUBs16Sw4as/XVU/wC0GXESsL/IBSW60FQfDevr8uGxs3b8AFA1yYEJWPxql3tFz24dVvKweMgWFlaBpxEdzRyT5vSXvAiPKGZXuPCisdiSYBmM8u3YEeNdn4Q6+vkZQ+CI3TfwKE+77XlsojsG/9L2rtiXjhYBpKE0fjBpF+EIS3ai7Rjzhq5DgCpr1Bvkguwlc+ClvuUiAyUVjoQWg48+EWS7JBw0fhb8typeDRonTbPz09U7flI++fNtlZI1rwxbuKFZgmC75IgmgoJRnWMwY3Tu/bsp23hpWTJ2pYqXXXk1DXWU4QoY59X/tzHHPFLFQpUkf0Tc8xWYfAsZ6Zmaln8y63DVe5WETMlSjNTpW6af7DMdjWysg111yDRx55RBEL36VmAmgTQHeJ8W4CaOMANCUVmo8nl4M9Gz/GBIBGOVLw2Fy2pD1eqPKBYAC0nkjuUDXV3j8QWuxxedP73gbzQyIzzmr3tthsyjIIjMkmMkihrWZUemOL3GXkABWCgkjxPxbdrmX7m3CVintL7wlwDhDN8bHWtO8rLN6eB6ctCgvmnYGIyGifXdS7NP/7j7KQv3836gTI3xm/DNMkOrxx1l3N/fDVhP0O2/KKsOBVcGZMlb7NadlKFZIKQI20utH30PtSEHgA68pj8VxBJoYN6Idbzjge4mKpykPYqsflODVoGvI9OIed18rTd29RNbLEuo9+0IGkH3p3mfrtSPGsJpNN15FSCZTpIdpsX2Ey2r6aZZnGbpIV1Nhpjgnv1YjuDKC7ooY4kN81V8EClT8EcvzO2JYrRdTk092Hq3d8v/MfPhvWfWhjj+8sbexddNFFePHFF1UCqr+2ePFi/OQnP1Fywptvvhl33313q13+8pe/4Nlnn1VMOFfcnn/++YDkJP7Ob+TfTQBtAmgjx1PQxzIBdOgAmuwBC8D4AudSvq/lN6PZWPbaKPYzUACth5nVjhkIo+1vELMYk8w+GZlQG2UZXCr1BscEf3yWBEPUq/urnNfs50KV5nBCkrVyEU6JOCxMrRWu0ZehITIVRZVSTGgV8BctEzIPBpdeyS+uEhcW+W9XnxKHy/qUwZ08BO6Y1hHpegE0megXv9yGBGcx/th/GxKnXAVX6vD2b7OjTslI3NHiZ+7RtyW7i/H8qsOwuZ34XfoqjIyrw22rk1BlT0adNQr3XTpbJQ8SyFLj3CvWjjBnbQtY76paYv6+tSV3MoWexYj8zXfnQjzKHygJ665MJokEMrd8P3TXlpubq1bXCF69G8cWwTTHH3/T//rXv5Tu+d1338WiRYv8vhP5/eGz/fzzz9XKKImc1157rRX5snTpUuWzT4BOf+lly5bhjTfe6JK30wTQJoDuEgPTBNDHHwM/3IE2Ai1KNuiyQXa0rVRBo9lY9tMo8OYNoGlj19Z1BBrJbSSApq90enq6WtYMtfmSg+hh1b3Pa1T8ORmn/Uuew7DERliaGhUb+8K+eKVRTo8LwzVe4ScsIvzP6sMiPXLhmpS9uLx3MWCPgmPSDxQA11pRWRW+3JyNeZNGIjXOS17hdTEsuItw1SIsQhh3cdcItj0psotVueUKIN/cvxgLbSvxtz1JWFGXicioGNx14QwV2c3iQlrXMd77D+cOa0lg5O+QkxijtcTURbvl/3rFRwZ7aS378ffMCawGqPkHgh8CHRanBpsuGnLHgjwAr4NMe1cuwmvv0ig/YdPDxAZ5izp8N0o4tHTN9k7GicJXX32FTz/9VAFoThpOP/10nHnmmZg5c6ZPlyK6K/3+979X+7A99NBD6t/33HOPz1Nxhe7222/HypUrO/y6gzmBCaDbv2tmEmEwoyqIfUwAffymBQqgqbtj0RAlFHpAnZFgkr0meKc7BK3PjGptpf1pyXuBRnIbec28VrIz1KSG2igHYVEgWUQ2SjH43xitnpbm5YPczsm83TPa6xdB106xaXM43RjbJ74VyFJRymuXY1JskQDhCNRmzsdjy/KQJM4TJVV1uPP0gcqaraxOAGdqtGiW3fhI3CycArYvrH8PkTbRGtujTwDQP31zG7IKKpCSEIunLx+t4rw7ulFf/PhSYdPE3YM2e0mRwqjvWoTsXVuQMmQKFtWdIrKMaiwX1ntgSjQam9z4l1jcaS4b/B0e3PC5yD3S4UqT4keLgHlhs2EPHvhmF9eA7iVsl05IVwy4kY3PjywoJ5gsGubKhrbk3p7O3sg+hHKs7laE532tvO/UCffufWLhayj3pTP35beE7x7q7fU2stArVqzA8uXLFbtMwEtpxmWXXdbqEG+99RYo4aBEg+3ll19Wnv9PPfWUz1MRPFNKct999+ntSqduZwLo9m+3CaA7aTiaAPr4jSYDSZDjr3EbOmpQykCWTK+XrJFgkn002iaOx/Tlj6yx7HyhBhrJbeQ1k5UkeA41Ap3X6SkH0bTrfJaBFigGUhz6/uY8/PXLHLGNs+P2uQMlsKRny1Ajq8TCRi6ham1Nbqly3BjXOxb96Jn8yV7Ui8vE5AGJOHd0T1X8Zz+4Evadb8EtRXqOKT+COy69ZX+O08ue3YCmxgbYIiLxt0tH+dYRN9WrEBJP5trfb0D7Ox02KgXUx0fZT3TaaKhs3iwsGuHL71fyEkt1Ed5PvhErDtQpKzumKs4fkYpbZvVrmVA0Fu1F3YonEZuYAofcl6TqbOGNLWgaei6axlzRpuNIe33+OqcUn0ohIbn5WYOTcebwE5fJ9V5zW9tpBZssxOPKhMZOE1x7JiMSYHe1FowHcVe6Bk/9cFfqVyB9oYc45RXapF7PvgTQlKN5rniQ5PAeY4EA6FdeeUUBa4JyIzz39VxHoNuYALr9O2YC6EBHVJDbmwD6+I3TA6AJWinZIONMR4hAlmqNBJPstS/QFeQwaNnNO+2PzBSZX70su/f5jbxmOn5Q/xwIQ9zW/aDjBdkqDTgQPOu1jvI8prd7RlvnI5id+egKSRiUWG7Z6LY5mbjj9OOWW21p5LkfAdj6A2V44FOxYxNP58gwu4rcXjAyFSN2PQG3AFRrTREap9x+gvXclzvz8cqq/fjeuP64TJhX7/FqLdgC26FVAm7T0DTs3GYgrbOxb8+sPIhtR6owJiMOP5x5HARbyvcjfNOL6kiNY6+F/fBq8XveA1dCH9SNvQE5R+uVVzNDYLz75CjYjUNLn8Mb1aegvq4WV0SvExeSQrhShqPhVGHE2ipsbKfflcLevyeJi05JX7xwbK82PaV1XrrPzdpKw+OzpcaYgJr/5jjjRJAMtWdBWCjnDnXf7u5iwRhv3ksj3g2h3stg9+c7iati7RUtex6bv7/Zs2efAKB9nV+vhGPJkiW44447FHjuyvfSBNAmgA72d2bofiaA1g+gWcRBHS7dG4JhQY0Ek+y1EdHb3oOJYSUEy2Qe+FHih5XgMthlaCOvmRpBMsTUm4fa+LEi4CGIoe4zkImQ57k13fSkSZPa7ZJLgNusP69AlWh+CaBfvXEyRmccd2rRnqWt1zC8uTFPWOYkkRo0L0c7hEHOyS/Fw0vzVDJhRkKksnWLCrfiZ4Py0L/oSxUi4phwo5J/eLYWb+KRw7Bmdy7WF9sxuk+iSBjiFYiM3P6a6J3tsNQeRdNI2uGlwEqwK+EkbtFSW8Sr2Zk594TiRJ6D+uVfvb8bvURbXVDVgD+dP7wlhIXWdLZ9Xyq22Nl/jjoGvZ7dYlfnCdJZREggkC7XpLV6kSYtWfIpVlYkIKapHJn1O3F2XDZq+s3Du86Z4uEcoUBwuP241psphNaSXTKZiJViSv1JbqGOI8/99cZJ85lwYkpAzRUMuspocg9/RatG9tfzWN3dxYLuR7yPwbyXO+qeBnpcEjMs9NP7rtUANOs5/DWSLTz2F198oXTiLCJ89dVXlZWn1qh7vuSSS5TUo6tr4U0AbQJof2O+U/5uAmj/AFrZcgmYZJU6wWSwSXgEk+0V6AXzwI0EqDw/lwPppcqKcIJoThZCSWczsn/8SPLes5AwlMal9rVr16rim1A/FGSHec/02BOuEznGy2sOYZ6k8p0jyYAMF7EyP1uaVmT6rywyshCphguPXjwafeLtcG95A+XFefigYQKq4/rjaLVDkggF4Mq4HJUWgeculiRCYZAJeNcfrFDpexUiq+DfZw2IQ/7BfRjt2oEntwIpEun9Ze1g9O8RjeE9Y3F5xlFhh7/BEWtvfNJwCk5JcmBKxWJYJPLacjRLNMhj4E7IEHB9SetbLrZzEInGf3c1ScFghdjeJeLqyRktExECcvuWl3hhaBp7jU8ATj34C1IIyXbt1AyM6d08oSDA3LRjN9ZUJqC8pgGJ4W5U1DuRXyOx4GJD1yD67+um9WmlY7bt+UjSCD9XxY+NU34Md1Lng2gWFdL+cPhwP+4lHneSEyfPYkQt7pkMNZfyg53YBfr7oIyJk0FKtLpjo6ROm4R0x/5r716SF3olgVzZmDt3rgqr0tM+/vhjMLmQ+91444349a9/jd/+9rfg5P+8887DGWecoepAtPcrxwIdPrpiMwG0CaC7xLg0AfTxx0AwxA+aZ+N/o16WrECoYHL16tUKaBmpgTQSoPK6yUCzMG7gwIGGFOQYOWngJIbL36FU2nMSRCkI2Sp+KEJlrIKR0Ww9UoH7P96D6DAbHrxAdMmiZdYA9OKSJOwurEKcFPs9fplosp3l2PT5f7G9MR2TowuRMOMGHCwowk/f3Svpem6MjqnAf8bL/z/xB/hkn0MV7zG6e7QUyY2Uf8b0ikZ87WFMql2Ot4p6I6sc2AEC6BjUSfHe/QuHIdzixNUvbZeobrHLkxrDV8bvRgaK0VhZiKboXmjoPRWbbaOVb/IwccywSDBK2DaxtxKQ7ew1FqVp0/HnJRINXlaPH83przyk9TTa3X2yo1hNGE4fmiJx483FmxprThvBBtFIM3ac5958qBJxkVKgJxpyphJS/qE1elJbCzbLsowTZaNvQHXiMKTKPp0FQNkPI7yUCWK50kWGmow2l/M1uUdH6lEJ/AmsuqsNXDAFeHrGaGduwxoIOrjo/T5QZ08faL5jv2vNBNAmgO4SY94E0G0DaDJDBM8EkyygC7V564tDPR73NxJAcxmX18siKKOq2TlpYJR3KCy2dp8YbMKPi2fCo957SIBKBpvL5vRs5rGM0FMH4+/98OIsrBE2mgV0P5jVHxeMa5Zq8FmOmzQVO/IqFUNMqUKJ+ED/9tVlAlqrEZPQA/dfMRvWnCVYtOkQsgsrcG2/UvFRtsIx7lo8u8uOV9cJEJJrHSBFhyw2nDc4AWs2bsbSfVUYH5mPq2aPwlM5qVgrkdxJUWH4+RmDMLFfAi56Zj3KhbW2CSP+74szEWerxxOrJKinoh71btHsxkRgRK9YFY/dE6Ww72Dhotjdif56VfwCPPbFPgHfNgVaH71ohK7HQj34q+uOqKjvq4S9ZsiJJ4DWbOxWSgHgypwyjO8XLw4kMWpykSLn8Ww1FSVYv3oFXNKnZdX9IIQ1FkqhJQsGT2hNYlcp4B9R+oC+ros5BqD5GzLKS5ljliBJk3twsqbZnLEo0YjflHZt3d0GjnUafGcZEbKk93kbvR2/D2SD9U76SAYwypuyjO9aMwG0CaC7xJg3AfSJAJofLtoi8R9/SXSBPERNX6xX46bn2EYAaF6vFslNlosMrx5bPj398+XqoWc/X9scOiTBIdLXQJeZCTy0VQSCGwIPLvlyiTxUPXUwOvSV2UeFsc1GuOiYH7xgJAYJKGxrMlRW04j73t+BBnHfSE+Mwm/OGoLifZvxN3Hz4H+7Y8BhRKQNxs6YqUiNj8Kr6/MEkAI3z+irNM5iIY2rn16CCEsT6lxW/GlBOpaWpQqbW4FDwjiPEzu9i8enI0L68oZor6f0TxR3kDRx/yjHKwJuD4pTRpPc80jRG5NZvmlGPwHeNtj2fyWOGkfg7DcHRdZU3LNot0hHnLhoVCKuGFAjxYISaEG9s2cTz2pLbQncERKEc0yrbRGttaW+DK4kKai0hTX/fdtbyC+rRfoZP9JtXccCQcpXympFsy2LSBbx7eBk4J7vDUGGMPwtjQmKG55V53QOPEP02bODHY4n7NfRYSScrGlhGjyXlk5HhprSJr3Ay9cFd3cbONam8L0QqIuOYQ/fgAMRQOuRgmmnosyONnNdVWZhwC1p8xAmgDYBdEeOL93HNgH08VtFoMUlVBaY8WNEPZre5TQ9N7yt9Ds9+7a1TagA2js8hEuhlDUY4bXMPhvJupMlo6SGlep6G+UoLLLhx9VT+sGCRC6Pe64sWPI2wbrrPbjTRksS4MW6bN2CDcgpFWBMAB1LzcSxxmc5bdp0HCithV3+1jcpSk0Y9uSXY//ROuUdTZb2yz0leGuduFwIqB2fmao8odnoMHHdtL6IkP9eUefAGxvyERduweatm5FdaUG83YnHLx8LR0w6/itMNW3khgh4HyqyjDPFSs6zHZX+PblsP/YUViNRLOoSwppwS/peDO6VIgWBEikuhYeejR7VFXWNyNzxtDiCFKIhogeW9rpRdNk2zBiYJM4hArp3vQt73ga4YnvCIZITphiGrxEfWrHRYxx408gLm5ntw+tRUVqC+Lm3Kw22nlCXD7YVKlafCiwC561HKkUjHSvgOUrJPbRmKduHMHEHOYQ0rKlIxrAZ52GYaMGNaAS3dHUJVVevty8sQNQCUCh74YoKdcCc/AZajMjJKfcJtb5Ab9+N3k5bKaQTR3dtgQJoThr++te/4vXXX++ulxx0v00A3f6tM23sgh5age1oAujj94usDkEudYDByAT83XkWaDCt0MhlxlA0xlokNz/4mmURmWguD/uKk/V3fb7+Tl0fK72NYN2p06SNIIsc9TSCGXpHM17dO/5bK5L0lKrYPrtXuUZY6ivQNOduQCzX9LRQJzF06CBQzd65BX2GjsYKCRjhC/D8senK/5mTHE928ZCkEz4hWmcGstw8sy+2HK5URYMxETZVyEeHjseW7MMSAdrqOJluzBmSBIHsuPfzYiWZeOSC4TgiDHSVsMbzhoml2jH5hOf1Nkm/mCZYUt2IlAMfId5ZJp50NQJ0L5bCQh+RyeLYEfHl78QJIwoFcYUfAAAgAElEQVTrjkbgJddZqKyuwgUDLThn1iSEf/2I8qu21oq+euodSkYRvuEZuG2iASeonnwrbAe/Bna+r+zekvuPUsWMzj7TYJGCRVdSJlyiufbV6oSN3ySseoJMSPrIxOOfXx1AnRRislDyiknHwjUEqNuyP4Mtdzl+e3giauKk0DAqUVjqwcpSz7NZxBbQWrwbruTBJ1gDtjUmNN9nhvF0duNKCH/P7AOBPFdZCKY5ESYr64+dpqSJjLYRUrXOvnaeL1AHi5PRR3/nDBRAr1+/XgWiPP/88/4O/a37uwmgTQDdJQa1CaCPPwYWqZGVNBLgej5kI6OoteO2lRzob3C1Fcnti5n1d6z2/s4KcRZfGsEM0SmAmlD6b7fXNNcUWvBR7+yr+MpXQaJ14wuwHNmgQJWTADpcHzMZKoB+afVBvLc5H/W1Nbh57nAp5qsTJtWNBRK0Qp30utyjSn88SeQVWqttdCqWOU6AH5nnPNEq94pyIdkutnBiRffEsgNYvJMFem5cOsiKG743WUJc9uF/G/JU8WFkmBWXi03e/5vrezLCe8hzREuaIMGX5cBKlOZuRnRkOCIHzkBY9mI5Tw84Rl0uOuioln5ZD3wNW/4GrLRPx+MbHQirLcKomHLcc3pfsbBLQP72ZXjwsBRKJfbGr86UQtXir2GtPISmwQuapR3WMDhzlqIwdycGRFSqc9iOrBOGerJEnNejccJNurTLxWKrV1LjQGaPKMV+s1nzNyFszyK4YMMfi2aixN5TsfUE0K0SGqUQMfybx2SyUK2kJo0zfq5LSnIyAbT374GTLo2dpusMQbRWjOjL5aG7+yiT+AjEwSKUd1pH7RsogGYC4SeffNJmmmBH9bMrHNcE0CaA7grjkEvE/qP3ukRPO74TlHBQZ9hRjWyokfII9pN2bIzy1hsC4i+S2xczG8r9oHyCgNcIbSKLZljY2R7Dx+dHCQ6lNyyGbKvQisll/FurlQbxErZUiM5aEvMQoT/qOVQAfc+7O5BTUoPyiircfe4YZW0XIQV54/rG46VVhxABB6oagWtEnkFAy5Yj0dQvrTmiHCxuEr1z31g37AIOLY3C2IoEpSp1Aj6QqO848Yru2XgEkyZOxKrsQvzqgxyU1zaJhR7Jdgt+d9Zg7CmqRYLomqMkoGVoWjQ2itvFOikyPCSuGnOGJOO3orveKPridXsPq5WEy6LWIbFeYrEFYDaNvkyAr9jPiVTDIsyyXQoc3aJlrhx6Kf6xYj/qC/ZgQlw5zpk8FM4hZ+GZr5uBPV86l4r2msWDbLb9K2A78JWSazgcjSgXJjU1QZbjw6NVCqHFJnZ+UrDoGC9e1yxebH8GBVvO57CKXGN/2jx8eChcMflnpZUjfIe4h4gWO7/P2djqysSglBj1t1aNAHrlo6KJkWJDuS4FoD0mCW2duqvGYfMVTxCtFSPyHaAVI3Jlhr8D/u75GzVq5SmUd0Yw+7K+hPUqgUpXgjlXR+zDZ0RGORANNMEzV/j+9Kc/dUSXuvQxTQBtAuguMUBNAH38MRB8EUR3VDMySU/rI1+6tPvSY3GlJ5I7FKcLX/fNSNkKGWUuT7flcsDrI2Cn1tmfHVewBYm+rjEgAC0SCEveRimwi4e75ylKMrJL/JD/tjQH1royPHrNnBaQTKDz3OebkFssOmQxnZjdLwKpok/n0vySnCoFdMk+Mwr7tN4uAdAfKhcKiz0STcPPU11tEs34VpEOTeobjbAtL+NAUxIu2zFdALlsLyg6MVqkC4JmS0TzTNePaGGm5w1LwctSQJgmThf1YnX39g8mYllWiXLpqBFW+vy0IgzI/0Q5cDT1noSwrA/lTBKYkjJMWOIG+adOUg0Xojy6Pypy1iE9vA72gVKsJyCUkdpPSAEkwftdZw5uYdXDV/1VAHIMrEU74bBFoVRAfvL48+BKF8mGsNJkqd1RKcJI+3DV8HoonASFr/27cgl5cP9QHI4ZpXTid56eiSFhJcrqzi1yEDX7aKNZqvJgLdym0g/dif11vRK6Sxw233FaMSJlH5wUcawRPIdiEanrJnXQRnwPTpgwwVBnkg7qqs/D8ttDFn2iTHT1tnfeeUe5CdHL+bvWTABtAuguMeZNAN15ANqoIBDPgaNXIqE3kttIYMl+kg3mR5m66lAbr4Eg2ldQBZerd+3apTtynBIWfrSoSQ+1BQKgLVmfNvsVS3OOuQwgkDvWPI+j/Mc3rEJMUhpiUzOURtclzGyeyFju/Swf+8ubkCEhK3TRuGGm2M7J35PKtsJaJXHVIndwx/USNl1Y9n3LsK9AWHuRgFjLckV3XIP1PS/DY1vDVfHglrwqUO5QKnKHWNFQ02N5xsBEbJF4bsZfT+qXiIfOH4ZCocCXizaboJrWcGGNFUreYNv3Bey5YrMnrK6DaYMNYjQdniCSjPk+WVtLZR4Or18Ee1MN0kfPhav3BHX11sNrJAhliSQq9kNdTB/kScFo/1kS3iKTgROaaK1tWZ+oYsWmoWeLRtlLq14vTPPqvyn99D+rZmFtY38l1bh7/uBW3tGhPnfv/bsLgPbuNwttuTrG3wOBNFlpyj34m+0ujG6gFnBGP/tQj6flDXA1UW975ZVXlKTtF7/4hd5dvjXbmQDaBNBdYjCbALrzALTR7C577k8i4ZmiSD2wv2I+FupRPxmI00V7A5mgllZxZE1DbWTNqIOmNENrvD6C/vz8fKV39nd92n6BFiS21/eAALTEW1sPrVGpga5TrgQSjye/acfhR3H54newtbgBY3uG4fQzFiqLtzABq+uFdb5zixQK2sMU2PnTGT3w6yWFKK0HpveLwR/OHYqEOCkakw7bdy+CUxjh/JydyBg/D/a9nyhW1jHpthYm92BpHVaIrR4BM51BquodKip8moDo2IgwzO1jRYy7urlo0Mt5g/fEUiue0CoOPAyOMVeI9OV4PLmve2Y9+I3IPD6TScQWAfm9pS8/kMLAcc2bCjDmcerEUYI2g1xZ8dUsMhEI2/GmXIvEdkclo4nnFTmJTZh9t+jX6dxhETaf0eE1AsZ3FDUI8I84UaoR6oD02p+TO0ol9Ba5Gnz6kA7H1THKywieyUprchRKobSEPz3FiCF1IoSdA9UPh3CqDtlVCw/SvM/1nOSZZ55RtSW33Xabns2/VduYALr9x2m6cHTScDcB9PEbTUBCJqCjmpGsp9ZH2jdRruDtMsG/a/7HLBoia6sneEFvoZ7ee0Rmi2xWqIl/PB+dGWhlR1cPNk3PTRAdqOUgATclHwzJCbXpAtAsNaBkgBKH4l2qQNHdo7VbA49DeQrv2dtbCySy2qJSBe85eyT69ohD/c7F+PXODKwsFHNn0QRfOLaX8ma++73dcMjYtcvhfzk1Fv0ixJ6u9Ask1ebCHpOEiqLDSBg2E3UjL8fqQhsKqptU9HYfsXjTGm3r3pFCxs3i6BEjOusDAqwz4mw4zbYNl6RJOEv6OHzumojV+8pxkYSpDBdGm42+zfzHlSBMvg6dMLcNW/U32Ip3ilZ7pPJhbso8HTsPFcFpjcTgnqI9b2oEi1nbAtAQhjls63+FYRapiOzv6jMVtj0fKPmHRUoEHadcLYBfJiaUy9BXOk6i322tg1dCfea+9qdGn2yuUZPPjuhjW8dsK8mPrjdacSQnB/RO1wC13sjpzriO7g6gOW64QknHIL3t8ccfVyto1157rd5dvjXbmQDaBNBdYjCbALrzADRBG5kGIxmqtpw9+LGjtRM/5oGkChIEkIEyysvWSN03CwhZ/MePDO8j2XfabtHj2Z9Nl/ePzciJQrsAWgCzdee7sFTlwzX8XAHNQ3z+7jkJWL58uQrEYJzvU59sxI79eYgWFvg3l84UL+Yw5Gz4An/aJDKL+EQ02WPx5GWjJDjEgSue3wQC4EEp0Xj4ghHItEo4yTdPoNodLVZsO1FviURsQjKKB16MJfXCUMux6JW8cLiwxWR9xR2Dja4eL64+jEMCnqsbmhBrc2AGtuKK/lU45E7DdRsHyjK/C3Gy/zuiiyZADdv0vNI8E0A3jRZHDj1NCh1pJ2dxNSqpx9r1a/DPzQ4UN0UhVSZbszITMDG+CmOlKKylyf2htZybxZ2ivVbgWM7rjuqhJia2vYvF/UO05cLsO8Zeo5xIwjaJq4qAbVfSQFXs2NGtOwNoPUl+HKOMFyc7zdUgTmA1ME3nIj0T9I56Bt0dQPO+kmDxXF3zd68efPBBpZm+5BKROn3HmgmgTQDdJYa8CaA7D0Az5pcvSiN9Yn05e/A8ZPAINAO15KOOkx9IWs8Z0Yy0xeO9o1sAATO11WTVgw18MXKi0C6ALtsP27bXxcJNYqMF+LnGXwOI7MFyaBUQkwZ3xiTly8yJEJ/b3LlzFRCpEQC7M68CvYUlTo2xKz/mgoo6vLbuMLKPNuD7UzIwZ7CAR2n0QGZwCIsAMyUCnMEkYeufwc6CGhQ0xWBC6ceIjYrEjv7X45OjaWIsEYbJ6cIuu9fA5qxH08B5cLGgURpBEv2f6cJBQH1aeBbiGvKRnzID170jPtzirdwzPgKv3iBaTZFJhAuAdtsilB6a4SjtNV5DVpGAbptFRXJbyciLdvqTd/6DVwsycLDGihEZyaL3Dsf5/Z2YOem457Nt/3LYeM8iYtE49roTXVKEjaZvs5vFmclic0gd9Pp/KWs8i+i+G6f/rN2iQSPGOp8fJ3ZG6OqN6E8gx6DUio40ZJj1Nq0Yke8LTm45+dMANf//zmzdHUCTtAg0Bp4phAsWLMBZZ53Vmbe6S5zLBNAmgO4SA9EE0J0HoI0Gp+y5J8PrGclNLZ1eazvPgcjlWr7IA2FC2hvIRhZOUhtM1plsM1naUD7S/hw9AvlxtgugG6ph3fKKFNdVwTVwrgLM1q2SHFZxWBhYB+rFR3nTvhJUWOPxz2/yMHJAL/xq/tBWCYW19Q3448dZ2CvWdRP6JuBn4ibhzfZZ87fAdng1nD0lRbHfTGw+WIafvSuAUhjw06L34/7xlUorXIsoVG96C1ElIqGoLkJDnBTYJfeFfcJVSk/ZwuQLsIXY+mmR27wflHe8Lj7SRVJ0eNaoVIzpHY/+TWJ/Vn0QroyJEobSq93bxqCTVbkSxiJCiwUjUzFQGHO2mpyVeHnVAexo7IVqe7LosJswPsWFu84Xhw8JhWEjm8zgFQaqOE75vtJP20TTbSvdi6ZBZ4ru+cSlb6sAbpvIZZz9Z8HVY6jPvlkqj4jP9BoVmKJNIgJ59p7bclWD9QOBRs0Hez4j9ws1Clv5hosMQZN7UPrBIkStGNHIRFdf193dAXQwHuI/+9nPcM0112DOnDlGDoVucSwTQJsAuksMVBNAH38M/AjwA9hRjcuelHFQr2tUI0Al8CHzQ8kGP1r0XQ5U0qD1h0wIlxI1nXGo/fQVWBLMMblcTL03PzSzZ88OOWI94MlMraQDluY0W5pJap5n86uBFhBLVliTSlj2fKxCPRrEIm6TfQIGjJqMx78pxvrsfERExeCn8wZh7rDj0dp5pdW447WNSJWQlKKmSPznhsnKVaKl0bdYXCdcEjpiFc1v46Qf4uO9tXjksxw4BQgPCq/AS5dLip9Yslmq86W48AO4xd3CWrwDjti+KEydgcL6cKUJV3HQCbFIKVqJLw84UBE/DAumj1fWemSkL3lWCvWOhaxcO7UPBoiH8oJRaaor5SInYby45lXt/Zw3iJc047bZFoxMawHQ6j9IP+n3/AeZKFjcThwpqcC9541D/2MezSwctGd/Ki4dGcpPWmmpJfiGtnYWAfqNU28PZljJfXtSxPRiXSmez42TblEhLZbqApVGyeTDQLTT/G2TlfVnoRhURzt4J6OjsOno4VmMSDcPLciFYVXBvp/aug3dHUAHU4DK4sE777wTkyZN6uDR0fUObwJoE0B3iVFpAujOA9CeGl6jHj4BKj/aZI09I7mDPT5lEjxmmwVcAR6YmmV+LEMBFZzU0COVkwPeQyM+GAEx7QLubCv/oqQXlBA4ZzKZTmQLx5pfAO19zwRQl2Wvx54joiVNGY9BPePF07kKzy/fg8SEODx84SgBl8fDQhqqy/H0f/+Hb8qTJAykFNdcJRIG0fp6NrvorBkc4hIWmExzneQBPfhJFvJlXFzVIxunL7wKVpkA2MXJwy1yB7LFTjLiiQOO4/BjcdCVh3dj64av8e+SkXCL88aC8YPwo9MGqQTDy5/biApx6nDLttdM6YO0+EgsHNNTRZGvFI9nAuhzR/cUf2kpdPRqlHDsLKhWrPIwsdCjDtu7fbitEEv3FMMmsovfXzxJgXHKWZgq2DshQu1Lycv2Q0fh2v0JxkccgbXPRDiFhfbbZBVAOYl4FDvSG9tSflAFthBA0/oubMO/lTbcKR7XzqHnNB9W7pnaV+QvbbXuDKDp105pWSirOu3df0pbNJaVK0mUlmlyj2BWyjzPFUwIid+x0skbBCP/ue666/DAAw8YtlrYyZcc0ulMAN3+7TNdOEIaXvp3NgH08XvV0Qw0C/uoCabdmlGNkga6UzDByoi4bH7cKAuhRMKIFqrzCAEzP+50pyA7yusNJK2rrWsIaDVAGF7b8ofkUOKkIeyoc/ZdzYVsx1ogAJpjjDpu6kYX5UVj2e4C2KSY7pl5dmwujcSpMyaLxri193Fjjeh5l/0RVQ4rqq0xSDjjrhP9eYVFtQhL7hYGVWNNyXLbsz5C0ZH9SMsYoArqnCkjlPWcY8L1ONgQK8C9AqPSYzEk7XhsOa3mVi5+DY+WzoJTQk0m9kvGgsxwYcBrYN//BXbIPCI9TiK3007B4OkLlUf1l3tKkC9x4rWikT5zeAoGUIsdaKNTibC/hyrdKC45igljx6g48SeW5kqwigNjpJ/XDXVgU7Eb/9kmkeXyXBYOi8G8UwaI94ZFOYew2DLJB3i3ipQjbNurSq9NrbZbW0UQwGwt3y/pkz1VbLil/IAEzrwkYDlcsd1NY78Pa8ke2He9o55541hxPOA99tFojciVklbploHeg5O0PVev+BvTawMZSjf5G+DvWgPUPBaTEclQE1gHyk4HE0ISSv87Yt9gxs6ll14KWtl1R8lQqPfQBNAmgA51DBmyvwmgOw9Ac4mcxTpMzAq1aRZuBOVpabIcboAdG/tkZB95vFD8lrkvvbOp5+ayL5l2RvZOmTIl1NunlpcDkqoIsLLSZ1i0tu6U1k4aBNDTp0/3++HXYsa5nM0CyGtf3Ij9+cVCJltx/8gjiEzqhymz57U6Tr0UCFoEHDuKsvHamhyU2XtiaP8MnH1MNtHejbCWZMG+8y1UZa9G7MDJSt5xEL3wQulohPcaBpEyI1ySB49WN+J0SR+cPShZBbKErfsn3Llf4eH88VjuGIGFYzNw02kjEfbBj8QqbpvokKtR3mOCkLZxaPzeo2ridlQY4mUStEIwfeqQHq0lJjqflk0CWWwHVsBhCceu2JkYPm4aCmqc+MsXuQKM7Wgoy8dD6cuxqiIZL9dOgyU8CvOG9sC5woB/ILZ/y/aWIkoY6zvnZiJFAl88m33HW8qRhAyzY+QlotluY9mbqw0ygbBISIuz/xwV6672lVAai3hNO0ZcJFrp0ZJSuF18p9crlpr/m40Wi2wtaX7CWtvody0uJ67U497lOm9Hp27GFR5Ky06GNR2tQzmh5aSSK2CaJI0MtR5AH0wISafeXB0n47uIdQ2BOCadc845ePfdd4MupNbRrS67iQmgTQDdJQanCaBbPwYWv3RUoxTBCAbV08KNHzyj/Ix53bx+Mr5GyCR4vGDs4shQ0ZeWRUmUkmhpaASg1DpOmzYt5EdEBozg3AipyqpVqzB16lSfNl6Hy+ok0c+Bfglh2LFtK9LT01sYo62HK/DIonUYHF6KX0+LwPrKFEydNr3lOK+uPYQ31h/BsJ4xuH1WH7zx+VdIcojXcHwmbl0o0dg6GrXDB796AwN7CsMs0oXX6qZie6kNdaK/pv2bEKbYcKgcyTHhKtXwvgVDlD776Nq3cPnuGaJYiIJLmNdnzu+J8G/+gviqXKQ2HYEjfRJ2J8/FC3tjUFxvQ5/0NFwwLgMj+vVsM72O7K5VivacaeLjfcw6jw4iJQLgUwXwxm2j7VwVnGUHUVVZjsTeg9Aw/kYsyrViu8SdnxOzB1Pc29DY5MDnMeehPqoX5g1PVTKPx7/MFZlHgzDWLtwyq5/cs+OMOm8TUxnDNr8kceHRcIy/oRWLTEbeKsAdYn3n7DfjBHmMpXQfwnYyuCVOeUxTvsN7wWMRkDfOEIcP0ZR7A2jb7vdgP7JB3efGCTe2ksvoeHSdugkTTenaE6qcItROa8WIBNNkqAmOKd0imOa/fRUj8p1FGz4jV/ZCvY5A9+e7iJMFhk7pbXTsWblyJSIijsvJ9O7b3bczAbQJoLvEGDYBdOvHQJDLl3hHNALA9evXK7AVbPOO5DbSjo194geLH1MjWF4eL9D+8f63VQzJ57J69WrF9obaNEu8NpO/hD1UVnMCktwSjQ2rrc1TrlmzRk04Wn3cRV5QUFSAZzdUorKuATGN5bjtzNFIS01Rml5qhZXDBMea6H15nlWr17QC4pc/uw6Rsh2L9+6fl4rSLR9ijyMNc6xbMXjcqRLZLSyqR/Lf/qO1OFJer8CjJwO7bu1qTBnRXyX3bT8KvCFOGjz3ZRN6YU9RLV5Ze1j9b2qM/3zRSOwSnfIDop/OLqlDuFjOUc/8/QlpeHf1ToS76vDHyeI0Mf1S3PrCCqwpkPpIWFXyYWKkDb+bGqbAOJfj+Y/m7EGQGv7Vgyr8xCWsLkGnMywOb2/KV17WqXHhuKhvLcL3foymynxUlpWiR3KS8ol2SkQ4LfNsEvdNuYUraZD8t9Na6ZFzxKHk7c0F6BNvw+UJ2xEhRYFNg0UX7ZmMSGcR9pT2eR7Nvu010YfvU8WEjnHiIS2+0Sc0OpJwDFB7Ls82TCzyVEiLgG4Hiw/lb94som3nO7Afi21vHH+97+OGOpAN2p8rO/wtdLXobr4zKVEjmOa/CfC1YkRtbJFAaC+50qBb1KGHoayLFoKBBE7NmjVL1YYEKnnp0AvppIObANoE0J001No/jQmgOw9AEwCSrZwxQ1iuAFtbkdwBu0n4OS+lIWvXrjWE5eWpAukfQa1WzERZiq8WiN64vUul9IUf3ba03pYsccrYt0wO4Rbv5mvh7ukVK01AJWEeZFLXyP1ioIEn+LBuewO5Bw/gn4cGYKVIDui9PH9kLwxMjRbbukL0SY7FDbMHK8mE1jg5oL7b1lSritieEfD90XbZNjESD5wzEPFZ74h0YCusR7MEcIukZfAC0egKIyqNoPzDbUWIFEkGMeL5pxy3lPN2KCAgt0sBX0yEXU0WP9xehCWb98ImIPXUIeJCIT7KL6w5gjrRH/eWc//x3GH4jwSs7BBf6kaR0dx26kCRfKTiumeWS9y46xiAtiA6TOzp+jqR74jG7Mx4jE10qNUR6lrTopzotf0ZWKvzlKWfc8CpqBx/K17eUiX9EEZcmGi6ehDI1xfsgeOrJ9FDxoBj/M1wx/dGmDC+VtFHk/1tmCkadAaqcJLTWCUgVhxLjoFisudhold2W+xw9p0OpwBw3ktLxSEV++1Lv2yTZ01wDnu4aMNvatuOj8+cOnimGoqcw8pwHLHTg8SjszFSnmOAqwyqMV788DqlS3f1kroHL+Ae4CugQzfnxH78+PEhu9t0aCfl4Fx909hpbWxR3kVwbcRqUkf3v63j812kFVXq7YMJoPXeqe/edmYRYSc9cxNAt77RHclA80zBAMD2IrkDKobTMaZCAfm+Ds+PHVlof77SlHrQko8sWGxs6+V3z+MGc/989YvyEIbQEDT4apasxbDmLGmWOUjBnZuyA60xXXDTS5IuKEVjfadhbXmyWj7W9KNcUnZ/9WelMf7wgA1Plk1RmmAyRT3CxMFCvIzHxNfj+nPmYHDfDAVUCSI5cZk4vD/Cd7+r2FCXBJyUxAxCNM0fSJwKeLMe+BoRqx6T/yFFfClD0XjGg81YrcmFj3YUCdvtwG5hkDPFxeOqyb0RKyDZn8WXq3Q/fv3Kl0i1lKPImoofnD0T935Zppjv8X0TcfupA1Qy4aNL9qmY79+cNVgY7gjsL67E3xZvwX4p+qtxhWOAJCDm1YUjLbIJlZHpePm68YrBPlxYityCEtQf3IymvE0Yn+pGH3nErqk/wp7GFNXf0b3jlK3dB+LCseNIhUoinD9Nwl2ORXCHf/WwAstk7Btm/lIxvuFrnhTJh/hbDzqjxYWDVoNh9N2We+UYcrbEfE8RHfjbauLBSUfj5Ftbs9K8eQKwraXZKnTFLYWDPseDpCCGbf6PbCsstUxaVFS4VyOAjinbiTQcVd7TvrbR8RM8KZtwjHAVpTuxmZzsU4rFdwdt4DTtNBlqsrnd6VooWaN8g4XSehrf07TzNBloPXfru7eNCaA76ZmbALprA2h/kdwshuOHm/pFo5pRIJX98Qfw+SEg+8IPoZ7wF6P65rdYUkCyJU/0q6IBdvcSRxJP9rC6ELa1UmgXK6l+wqauiTpd9Z0A+kh5Hf782V6UFezHLcmbUNlrOu5dGyaezy7EC5gdHVOGA1U2nJ5UgFvOmobnsiJxSHTSZ45IQ2rdQUzoFwt7zmfYVSsJeuJxPHTi6WhEGOoaGpFbKjHwsU1IWve4SCGqUJ5+GjbUJCFatJOnjJ2IeqcFr6/PU4wyHeIuHp+OqydnNAPoCeMkjORFsbrLUVHXRdFDxFKuSiUX9nXl4eV33sfO6hj0jnHjtisvwUe5TdhxsAh2kUJce+pISTKMwAurDmF3YY0INoBb54gftrTVEowypX8CUqNtcK57Dg9n90VBQ6Swxxl4WOQgLkk1/MU7u5RMQ2qk0DtS7OgacnBdv3IcTpiI+IRm9wW6MOSWNuD/xAeaEokoOPDvG49LdThZsR4RNlcCUViQZz2aLXZzzyjQqyoVM4gAACAASURBVNwxZvy0ZfiTbWYIjJs+zvLcwtY+LeBbQliYSDjxZgHTO0SLfQBNQyRaXdjttppyMZFn4UyVyZNINRjcQpba2Wu82NudfcJuR/ZuRc89LyE6XphusbxrnCVMuTTVH/pc00O8izZ/k6wu2m3VLb47aCGYmZnZqhiRzLQm9+jqOuFAkyA1AM2amu9iMyUc7T91E0B30q/CBNCtbzQ1wGQ2OqoFAgD1RHJ3hDVeIH30d5/aA/hk1ql3JuNMD2s9jJFRfSNLzPAISi/aaxZx3iAT7cqYAvfA05o3FYBn3fEOLCW74RryPawvtKngGRYBfbz1MJ7+QgognTZMGdgDV03pizv/t1UKCZswJiMec3q7MaDsG8ztH4XDmZfgz8sOIUU0w5QwXJhRi4GDBuLpD9dgR3EDMu1HMSOhHNsTTsXSA/UorGxAgrhR/OPCAegXWYctOUewv7AETvFnni2x1337D8Znu4rx1PL9CrBOz0zE/QuHY8umDZg6IBbhK/+s5AbuyEQ8HnYTqosOwiZA8rZJ8cht6oGDAkJmjBuL+N5DRHKch5wlzyLaVYN/lEnBYG0i0pLiUC1Mc4TdghE9o8VqrgSHqtxidReJpy4fjQxrKaqP7MHfc5JR4YpEsminZw9OxiOf5yjP5wOltVIsGKH++9+vGCP6bguqig+hrLRMCgCbUN5owQubSuGSQsJh0dX4/Q8ub+W33eo5yQQnbNt/lYdz06hLJYnQY4XA64GygJD+165ECZOJ74vwdU8rZtsVlw7HtJ+0+fjDl9+vdOO0B2w65SplCWipK0WT6K+d/aSI08NPmgc5lLMLvbJeQaxYRbuSBii7PMaLh219Rf4qjPhI6We6MfaQ/n53gf69OwNoyje4ykUbPq0RYNKSU5N78F3DSZpWjOid5Bno/TJ6+0CDbPiNYgKhCaCNfhLfjuOZALqTnqMJoLsegA4kktufFCGYYWQUSOW52yrW02K5yRq1aEZ1dNaovulyRKH/86ciFxD3BUZIN839nWhoE4/3kkVpUlTGAixKVKjP/HrjDjy4rkkSACGFcRH419Xj8Ocle5EnxX20ePulxHSzyI9x2DlF1fhawkdY+HeOWLEl1RzEEVtP/Hd9vvJBThNJRXmjVUjPSGTXNets+WI8b2gkpg4WPbW1GFuy94m8w4LTpk1Faq8Mleb3q/d24cDROsTI+X4sTHHtkSxMG52JhK//qHTbTQNPx1PlM1GdtULsjiNxQUI23gw7X3kkj8mIwzkShGItkoLBNU9gbXUafn9IpBiRwvK6LEhO7SVMug1DxTlkw/4SFDgiER4l8eILRigPZqYNbs+rRK+ESBXJ/YMZ/fCcMNdZRTWIk/0oAaHu+0dzBiCtQTyXpRiPzTHxh6iTWPH9792PfbWRGOfahXpx4IjtO0YBn4CK2xh6In7dEPDr3SwixQhfKRIYYdadGVMFGF/Z5qizb38TtsItquiRhYIW0YiHC5tNeY1TViUYWOPZGEAUZ6lDqkhYXCxElMkKLfHsWZL8aBGGXnTfugJfdPwOjN6kOwNoPTHYLEbkaphWjEhGmmCaDDXDY/RM3o2+557HC9SHmytoCxcuBAuYv4vNZKDbf+omgO6kX4UJoDsfQLfnGay5UFALx2Qwfy92vUxqIMPJKJDKc/oKZqFekZo/Fv2wwCyQZlTf9LqNWFf+FZay/UCMWJwxQMUjgVDrN11LaLFFLSaLEn+1KAt0xIgJt+PpK8fi7Y1HJMK6XOmgf3P2MAUgf7NolwKYfZIicdf8IeJfbMfadetRHdMbb24qQnF5BQbXbUduQxxynCkiz7CLqMGCCBF0zIk5jN7JCbjruotRkCfsqjgTJCSlCq6TLcSl4s1s4LN99QhvrMT3MyUhsDgKg4cOx/wBsp27QkkbjtY2Ye83i5BZv1MBxJcc8ySMRBICxTLvonFSBCcSCPv211FeeBi37xmFiqYwXDjYjku+dzpWZB/F9p07UHG0EOUOKZrL6IurTx2j5CMJAqIPiiSld3wERgvjfqow0Lb8DeKZvAk5MadgRVUfDJZCymmZSWDxHuO52ZTbhqT+USZh2fUBSpwyYZj9CxytqFbAhw4nGuDh0ry1tlitBLiFRfZslsq8YyC3UQoQb/Tpv0w5CFllV8qwE6O6ZaJkkdh1d4wUscrx6QftjpTgFGGbKcUIX/cPmWiEq0JDB/XUHo0AmjrcVgWwMmEhc03Q3TTs3BP114EM/g7ctjsDaBYqU8YRiBc+ASjBNBlqTnxVhL0A6oAnawY9k0BtBNnvG264AUuXLjWoB93rMCaANgF0lxixJoBu/Ri41Ee2oqNai9OCAALvRrkDl/ICieTWCwQDuR6jQCrP6ak1JrPOQkF+uDyL7jqtb7SME/BEazOnPVqfpaD4/FIm4KbbQuSJYJ/X9PXXXyv5BgsSyZSWiv55/dqVGCrpfgMmn4UGlw3b8qrQU6za+iZL6Ij4Ht/7/g5xzBBWUjTCtwobe8+7O1FQXoMR6fFKuzwkLQ7xuYtx/zeVKHdGqeMmOMtRKcV8SXYHRiQ4cOvcIXDU12CfLRMxiT2RUbkZtv0r0CjpgZt6LESPkjU4UC/WdWVhiB52GuZKWEqGuGqsz/n/7H0HeFzV2fRsU++9d8uyLPdecMHGBgzGYHonkC+ENBK+UL4kBP6EJISEJIRAQokJvYMxuBfcq+Qm2apW772XLfrnPfIaSZZkyVordrIvjx4b6+7de8+9e3fOnHlnKlBSVoIp0X6IoO1bncYTycUt2JJRrVw8VkwIxjg29VmrpakB9XU1CAoOo5uIHlvSq3C8uBbm+lIsDgPigzywrdoLH6fWq2ZI8ZO+d2Z4V1Q3wahBQKcTnUhaq2Gc/pDyTJbSUEvucOjv6u8So53Z4s6JB8fAw4j6mmqMHccmwtMlE0XrcjzK0pBQ/D6tADl+BNmaiG98wXX5O1XToEx0zMGTYUqiDGSQJey0YsR5zKb45WwQ7WU3yWutQlYai8gmL/gmzfD0/sWKTORI/p4uKlZd7hlJN7wU6lIG0CLfkJW4qKio8xpqkUPIs1eeSzJZE3mH1RFjpJoRk5OT1eS7L5/rvk6qoKAAjz76KL76ipOz/8KyA+iBL7qdgR6hD4UdQPcc6AsNoOWLSh6UvQMLxENWmgEFWA4lklse/rKMZwtvZOtI2BJAW4NZ5JxlciBLp6NHj+4zdGQwt/xwjk2s6XRZG9l45gbjrIex/1jWsMZN7hXRIMokQa6bfNlKaY99ANAjWJLrzEk3AT5n+wp/nVGJQ/l1WBqlwecHsrEhv5NsrgbhziYsHBuOHy4eDcec9diamocDtV5wdffEbY2rsL0pDC0WAxumYjHPvwn7i41IbSVDShb5Go9TCNQ3oaOlCQ2xV8O7IhkFhflYp5mN0PGLMDfWW0Vjb9iyiYEspTBrnRA342o8/HkOmui4MdpPj8kxQfAhi3yvVwo0DUUwJaw4y5lC3Dm2M3XQhROAxRWrYKKLx0s10+CZMB85tSY8sohyEe5D6lRlExpPbMQkXS60XozGHntzz6CS057rVUwy/M2GbHSYLQhy1eP6KLPSlVtLfJ53n6pFIuO8Z1R+DH3y66pXodxrGvJH33+GnXajhMKBSYoacxsbBhnZ7TV4UKUtP0698jsMSKFOXDTMbLYcSsnkUFZUgk99wORC2uZR+qNCVkQrLecpshI2F16MdSkDaFn5kZU7W0Vay76sshCRoMmkyLr6caGSGofqgiLBMc899xw+/PDDi/F2uuDHZAfQdgB9wW+ywbyBHUCPLIAWpsHacCbvLCBAOrAFjImTxmAZCOtR29p2TvY7ULLeYO6p7tsIQy4es1LyBXcm5nioOzq9/WBjs/vavW738yqQA1ymN0//LvYw+vl8PLll38J4CXgW1kskKaLltgJoTeF+aHK3q6hps4Cw7rrp7gcmsdE7f4+NxY74Ld0rauCO0c7NuH1WDPy0rTBY2hDakYOOTg284+fA3dKA1uwdaKwuRYC5FDpHV+xsCkWmmUwnfZGnEPz6lWzD/hpX1DqFIqZmF2Y75sLZLxztS55VgK613YiNX76HBjbsJTjV4pjXYryyv4r3oRkeBjPmxrHxMUGPUdmvox4EDl6e0IZPU42HFnEj6XX8Tl/9QCUVrin3wTH/a+HjyUZJyjZifR1xPD0Tv9/XDCrJcfUoZ9w9J+5sycTp/VVSE/4MAbTYLHs5aXFTjOUMgJZ7/A9bmAZIS7zmdjN+EFuBwH2/QoHRC1WjbkbY5KvQWN+lbxXJkCdBrK8vl+N9fIesnTYcf1c1ChrJXA/Vhk4BaE6iQtJeVpMECY1pn/O/CkAbUlbRN7qIUeArYQmZfJ53/4V72aUMoEtKaCfJ52hYGJdDbFxy70mjtnX1Q97H2owosg9bNSMOdfyl72LVqlV44403bHzGl8bu7ADaDqAvijvVDqBHFkCLb6dINETH2T2SW8DlufTO/d0ww2Fl+9qnMNq9g0HO92aV5VU5Z0lfHKzH6UDvNRxwr6nMgJapcwKMLBPvxJ79h84LQFvTIGXCI+ck4S8xnp10X+hEp39CF0gUjS6BZV+NbGfOj1/OGvpFNzXWo5ZOAlqfCLjHTIdLXFdMt7D37YfIiDKMo4PR23UJt8HH2wtBx14EqP0VCUT9rMeQUVSJolYDNp2sgLmRYL4jEyGOrUzja8atYdUo1/hhc9gPFaCcR4AMsqMtOXvhFhCJHIcx+J+3U9BCF5BlQfW4e+FESk0MWLf2UzSTEY9xacVCrwoFCKXRz+JLENytxFpOT92yKWQadulm4BilKrJ86Ft7BFvz2nGC7LivtwcmhvvQP3rUgLfR0YIqZBeWYXy4L1LzyxFPR5Ixwe605NPgDQa5iN2f6McfnB2KxtyDeOVoBzpcAjEl0gfLJTiGfs5g82NTO5lpk0fXmHI53pqKKJ+5sz5jbfXQVaQqR44+EwiHcOPn5OQoLbyfph76/O2MLE+ie8s0SBS4Q/KrKlCF2ejomPWN5d4Qdn9BNx0qgLugBzPEnfdOgBziy4e0uRAd1mZEkX2IdMsq9xjKymHvNx3q+O/cuRNffvklXnrppSEd/3/KxnYAbQfQF8W9bAfQPS+D6J/lIXmhSsBWZGSkisyWZbjExETFaAynbA2g5WF+vhpl63kIc5Ofnw+x4pNzldQsW1SfsdnnuePzGTfRHornrIyPfHlKZR7YjJjanXBkI6AlbAY6RzH97hwl46NSH9Pz8PruXEp2XfHUtUlKP9u9dMckZjqLq/9m1MStREWrDh6HX4ZrewWM1OE2JN6OWrLJmeVN2HPoIOqp4TSYGjFBn4dYNyOmGApw3G0OqkzOaPSbgCtmT0O4tzPyM4+iqiAdo+JGwbFkP04VlcM5fDKCxs2nlESLNYey4aGhF3ZNJm53lpQ+RwLo75wFoLsfqzhwHCqoU/9Unr4frpo2rK/2g5u7F26YHIG7mDTYV8lYCAPtlfoG3BuysKMtBu81TSHg98HKiUEMWfFQNn+FtW1KRy7ykPyaVrxBdw89GyWjDDW4c36S8obWFezqAvvCILNZsr21GfXUpFc0mdDcQicUstMSl2xtFhN9tuiVoSWwnf3IsDTL/abJsZHQQK23lrIeE8NdzJFdE6SLqQ4e2M8UzOkXdVpif+Mln0mRVgQFfZO+OVJjKytRVrmHtRlRJmwykRqKc8xQAfTGjRvVSuEf/kBryv/CsgPogS+6XQM9Qh8KO4DuOdAXGkCnpaUpFky0dd1B2HAu9/kAwYHer7fMZKjHJmMo5ylyFLF3k8bJ85VK9H5vSeuTZr3eGvKhHqNsv3/HFsyM8+7S+LoFDrgLAbsy4ZHJlUhwukttsg9sRCQBtBOt3iyM/O5MoNuCtegKIVpiCQCxSjms4FnG6ckvM5SemL2EbB4MwSOLY3seRxtZ1IK9SuNsCZmCzRlVePdAIeaGO2JGqAue2lykdM1xvk7oZFDI10X0qKYOQoJIZrhVwEVnxkqfXKR1xtDBow1XLaMmO38HPt97kkyxBT76DqwYZYCFTX7assPUT0ShY/R1ONQRgaIM+kc3b0d4ZzHaxcOYiX8aMrr9LVsbqV+WVEEHuo00lOdizYFMVHZ6YmFiGB1HmLy4YFyPcSti6Iwjo7v3UNv83qFieDbn4vdj85BW0YGPTfPg5RuAa2nvNyn87HQ2GcN9WaWoPrYe86kFp2KEgSdj6PaRwvEzoz3hJnxR4oasEym40iMPE6OC0EE9dwM/d7KCYG0WS6hYA7fORhjYpCl6ZeW+cT5FX+qyA58pCYfLmMWKaRZHFLFA7OS1E1cTmGivxwbWi63k/qxZ+wwCQyOUd3UnQ2MuperT/eTfcALWZkS5v8Sb2uocIwy16KgHWmEcKoD+/PPPVQDV008//W8403//W9oBtB1A//vvQh6BHUCPHIAW8CVgVx6m0lRnK/2crQG0SC4klOB8liSloU60waJ1Dg8PV4Nry+MTPbU19W+4H6DC9/8X0ZReSNOYsqhjc2FfZfWMFmZJtM69vwhP0tItjJ7MHg7cV9i0b2Qb7U3Q7fkTTY5b6cgQhOoJD1LDSxcNZ52K3nZ3MuCt/YX4x6585eX8wNxI3D2ja8z6KgtB41Uv7lPbmoi4f7ksHi9sy4WThil/ZF+nGPLwSuMskRErGcXSkA606d1xlROdXTTFiIxLhLPOhCbaz31yjCsD/F2YQwuWuWWomGwLk/JUZDn9k03TvgM948pRm0tg3oL2cXfC5PONBEPuXRmHge5hOca07DwcObANoxzrMHfyBILwRerUDrKB8itJTKRThwTENHeY0Ea3j5+GHMXoqEh8XhWO2OgoTGXKoYEgu8/iuDqIawaPT1IhTTFL6PjxEvXaviga+z94bW8JAmqT0aJzx0/DM1Az+QdYn9HFkF+V6A89gXZ9cRbMp7ZTf+4NbeikM8l1Q2EPZX/aogNoPPgeXOgprEtaQd9wyjjEoo/Mfcf0759ltzfce7e/17eRqf+C11bcWpZz8hFAL/Jzle7EZ6g5shYBvl5sGl1+UTLkA52DtXlTVhYuphIJlpWdFh219EhY5R7dmxFlMijPtWnT+OwYZL377rsKpD/22GODfMV/1mZ2AD3w9bQz0CN0v9sBdM+BFhZBJAe2Lmsktyz7S7NLD6/YYb6ZLQGqHIqY+ndvihvs4cmXhTRE9pal2PL4hsuOdz+XsrcfRGgQ47gZqmESAN2H5Zj1uoknd3/XTJhpf39/Bb56lOhrJbSDIRrZ7V54MGMS2owmTInwRkKwF+aN8kGMnyu2plcQEAOLxvjDoT+wyB3LF+39bx9VWmAJJHnj7kn4MLkYyYf24v7Oz2ChPdyzHTdT/+uKK2OpwyYXnVHVzj90BO1a/Op6AsTC9eikFjyvpgPtDj6IdKauuPoYu1k7VKOgaKsFRHWS7Ra/ZN3JL5SswTzmOlg0XQ4SwpzL50SOx1pWRr43oK4uSMO/Nh0CcwOxMFyPmUvowsH6/GgZrfAa6LrRSbs/V6w/UYlghq/88upR0PJ6CKvY3YWj9z0oQFFYe1djNbXgZSox0HDwFWjbankenmiitOWNfB9UluRiuuEUlkwZg+3t8fiabL8c9+W09Jsby8jt0yXnI17C3dnpAbXT8jo5/9MR79rSI2jc9wYnnQxPGX+T8r7WcvIhlnjGSfcNmJQ42M/XYLY7xjH96HCpYvbHBLkpS0Sx59Onf04Nti+9qK89q5GzsyIdDZv/yCAeJjPSTlCtyFxC1a905iI6B7nnZNXRCqitzYhyj4k2X56550pF7X46r732mlqF+/73v38RneXIHYodQA881nYAPUL3oh1A9xzoCwGgRQcsD3kJDhHTf0m+Gkr63rluheE01vW1b7GbE/Z4sE1/8uUgFny9tcHWfdsSQEvggNjgnQ873vtcU7Z8hqm+zWz8G4PO0LMjvcVdIysrS103q8OG2ock3REcK9kHAVRGRoYCz30xYJpKSiWqMvFxeRD+vLsLvEkc9y2zE5hU6IArxgSgIDcTB4+lITzIlyzUXCWTkO3SShtVGEu03ze6aLGQS6HWeAzt3HzoViFfvKPqdyLg1Mc42haMV10egHtgNH6yOIbJhwY89lkaGprb0NLWjluoDgl00+HzzBZUUBN97eRoLPehjnj/X3lSZLWnfw/NPgnIrLEoMHuGvaRbiJZhIK1Fx3Co3hPO9IoeO+tKZLRR9kG+W4JRBEzKMVtZaeufmaV1+NvaA6hvMyMhIhiPX9vl5FFFL+zVZEplIrB8fKAKmRHbaHldU0MdKtN2IGbsVIK5EAJlgg+Gzrg66qHnRpLi+C5DW0yUjNxAjbRMQhx2Pwct3U+0BNPm0KlKjtHuGoYGalT9Osk6U0ZxoqoDnxwu47FacLNfPpIMxTDFLlXv0bus7KEAanH2EO20XGNhEIWdFsbZkPaRClQRuzxZvShM3gBfNmq6RE/l5KMM+pOfKEmIWAGqAB5xXaE7i5bR4ibKYS4EUBVZzBt76fbB2YWw7BJYYzjyL5UsKU2WxskE84Hf+GvLecvKWFrKPkyYxM9Ar3jycz17Lobfy2fUqmu/GI5nMMdgbUa0yj2EtJEgGLm/5PvhXPXCCy+oVb577733XJv+R/7eDqDtAPqiuLHtAPrCAei+IrmlsU7YOltaLtnSNUNG48SJEwrgD6a5USYcsr2cqzDPfdnw2RJAi7xE2GCRwQy3+jsuawOkOIiI1KaH9yu9nXW7/wwNmU5L1DxYyMxKqqKMlbDQGWzm23iiHLNjfck0e6lxMZGxzT2VjZ+tPolqJvotC2uHb+wUgmd/BHk44f1PP1ZOE42tHbh+yUI2zwXg1U0p+DKjCW5kp35+dQL9j78JNpHzFmY8+ehxtLkGY1o0wXvZ11iV4YgKpyg00oXi1qmh6jWnqprpzlGJsQxGmRPjgxOFVXhuUzZlHybF/j40MwBl9c1MIHTHqDA//P1ALdLKJEVRh8evHKXiucXTWn/wH9hdqsXxohqYHT0ZyOKCVNrWiVbkOjpgSIKhVdttZafl/0Wf/ct1Oer8Qhji8oP5USpAZqAyJb8Fc/p6ePj4o2Puo9ha6ohs+kAHu+lxNZ1CNpY4YG+xSTUTJpJlvXJsABz2PE8ZSxZBIv2fZz5My70JCtRLMIowwSJPkeTAwrp22skVI/rUewosCrsuDLGASy0nO+KcYvHt6RYi5yPsoUx+rdrpxOL34N5SBH0rnU9iFqGDdnUZ2bmqka2/iadojR1S/olOPd+XLLlx6v8M9xbu8/UyOZGmyzCOt0xIdNkbYcjmyoM0Ss74nnKhkTTJndk1mEx9+eJ4b+XRLr0Fl2LJBFaeV0NNNb1YztUaNiXPD2GoRTLWPRmxr2fqs88+q6RsN9/ctaLz31Z2AG0H0BfFPW8H0BcGQPcXyS2WS/KFbCvTfzl60c8JSyohJbaofiUJvXY+WBs+WwLo85WX9DUufR2XXBtro6dMCM7S+DLWW7f3L2wIFLlGJ8wLf6FYavnC8/Xzx42vHFB6XgeyyG/eNwWeTjpspr1cdkUTQo0FuDqwGrqYeYoRtdYONjNmFlXAw9kBy5deiRpqlB//LBWFLQ509nDEo8vGYUG8L2oYNuLGpL9mMrTyni+d1CO/tp3/pseHD0yhM0ULGdZSgl497p3kCXcPurtQvnGmCBItO/+E59NcccphNK6ZmYS0wmoUVbPxryEXD7tuwt9bFqItYDw6mJ746JJYMr5afJxciJC6ZMS2Hse+ctmlA0ICfHDcm+wtd76MWttxdMroXjKO8iNM2zrKMwrooBFOQLcsKUCNafdxFZAtkgyx0vMmKHbd9zxaS0/C280ZbWTFX8tyh5+bA6pzDiGmPRMbGkKRq42m3Z03vjUrXLHl4u+tK9pPcBj+jVyC8gnHbU+ppjgNJwHtC57sshbktg4pr3IloQ3msFkwx10B3akt0OdtVw4eHRPvHtDSTtkLHv4AnkdfRbvWBR0+8Wib8TAqqOWWiXG/QI4NoQ6HXlErGJKSaE7gBIRl7KDbCa/TUHXXg/6sywoCJxfiAy5suzR7PvMRVy3a6U7iEI7vL5uJopwMTHErg7YunymMVw/ZA3vQx3IBNhTZmIx7j1WiC/A+F2qXssLRXbIkEimxyLOy03JfWFc/rFaMTz75JBYvXoxly5ad87DWr1+PH/3oR0p69cADD+Dxxx/v8ZodO3bg4YcfVqtZ77//Pm688cZz7vPfvYEdQNsB9L/7HlTvbwfQPS+DsGYCfodTA0Vyi+m/fAGLxthWJab64nYxmKW/wbyngDOxYRJGpL+SBhYBmgkJCWdrf3u9yJYAeqjykoHOVx3XTMY1MzgDzj5opz5ZGiADAwPVBKfPrnmLCdqjDNuoyoBl1FXUDAfRri+XOkY3eMfNwE2vHVRyA9Eyv3HPRLgT8L6+p1DJNSobO3D7tDDoGQiyPbMa7SYzgTFt3gwapJ0qwAv7agmiDHhwkhNW7z6CLZWecHNywN/umq50z2mlTbC0NWKiRyumTJqARX89qMJFRAv85j2TEOXrwnMwo/TwV3CoTkc4WTnz+NvPgGgNmVjDtv8HMwFlR2MN9It/gZeOdaKckghD0T48GJaPiuoavItlCPZ2w5LEAHyY0a501Ba+yY9m+yCACYYO7bXwiZ+B5EqtOhdxyRCgbS1hWrWMFO9k06GFTZVGnqdIT1wd2HhIMHdmO7KjlU1GvMrxOVXVgghvJ8T4u+K6UIavpLyNev+p8ExaguIGE1IK65FYtQH5DUB2swOavBNx6+x4jA8d2NVCl7uN1na7YQ4nUCZTfKYIoqXRr9ODTZsErzpKVHQlDPzh8ZnG3Q6L3+izbx0CctE0Q7TiKtZ7FzR0/Wj0TECp0ygUFxcra0OrHr4v5wVNC+81AmkB+uLUUZifjc+371es/I1LF3H1of/P0V2DMAAAIABJREFU3GA+u4Paho4hH7z7GtI7AhCuq8Et11+P4vQUjKvbqGLWLZwcGuc8MqhdXQwbyXNIAo0EXF6KJasbQqzIM7yv6h5j/8tf/lIRJbIqdtddd2HFCsqDBigBzdIQvmnTJjXJkEbF9957T60WWkvAu+j/xRJv+fLldgB9Kd5EvY7ZroEeoYtoB9A9B3q4APpckdyih5YHpsgQbFUC+mJjY20ia5BjkkAI+fIXINlXnesce79mOOmBvfclcpGQkBAF8Idbe3bvxlzHE9SHnkSrexQOaCZhdMKYPrXMZ70X2VzdAUZG1+SgtSRN2dQ5TrkdWc4TsYlNgRP8dUhiIIgLAZU0donrxOhAN9W4JlZvWzOrFPgdS5nFHMo9/rA5G1+wsU5Hje8tk4PhaanF7oJmJgH6YN7oQMos2ph4SHeFVhMeXDIB3q6O+NXaDGylrd2iBD88fU2CAvwHcmvwxlfboKHm9qGQbIxdQnkC5QJS+RWUnex7BXGN+6HvNClZQ2XCXThsjkJ0y3HEl3wOszs1x9GXw8T0wxqLG15NacLXuc00vNPix/NDsWRC5DktBPW7fk9XjxaCzXYCMUZZd2Pb5TiEmbY2Ih7MrcLnu4+hsAkIIIMfF+SFFWO98cHeHKQ3GeCs1+HnV7GBk24SYgtXeXwzPqmOhldYAq6bEHROOcig7xF6NeuK9tKRxU2Fn/Rg7mUnwlpTK65hiqVpzPUwR8w5a9fChMpnxgp4+tJOn3mRTCTIdm/YuBbZ5XVo7bDgymkJSBo/ddCHfN4bilZ9/0uoqeRqhbcf2iY9gLz0w5hY85WaIFgYimOccMd5736kXyje+vI8tRWBMNLHL2SEyMUE6J6rZEVHQlQE7ArolUmDMNFLly7F9OnTz1rFkP6Yp556Chs20BGG9dvf/lb9+cQTT5z1VqKnvuaaa+wA+lwX4RL4vR1Aj9BFsgPongN9vgB6sJHcoqOUpTlphLNVWcNZbKUBzM3NVSyHANXuZfVCFoZeJCODjR0XH2hhPga7/UDjYgUp0mwz3Nq3cxvmNK5Bk8Yd5vx9cJh6JxxGXQ7tMTLMtEYzT7kf8OwnHri9kRZ1f1bNhMa8vTAGTIBz4lIY469BSfI6rDuWz8YyT1xz1TUI9KZ+uZnJhARM4vRR1tBGqzE6RxBDXU7wG0fW9emvMrCBUgcxdXj6mtFICHJnwEq+aqC7hwEkIqvJbjZgUlyYitsuYJDI2uQchpW0wtc/BNdM7DrOj1NKsDklA50EfNcnOOHKxWTJudNcMrzvHqIfNcHrFc6ZmN64EanN3khnDHidxhPzgk0Y46OHrjIVmvJjCgB3+sUjb9qTeHQ9l/YJoYNcOhmx3TXqNRo3VDWbsNCvAaERscqmz1qil5aJhWiMFZNJ7+PdOdWKZb6BrhBuLXT3SPuYrwlEtUMEXt92HAVtbIpkyuIc3icTAvR4em0mLHTWaDNa8PDl0Wqi8e8sbXkqDIdfZ2S6Z5duesYPug6HkwRtTbbSNKcVNaiVC6s+36qdtsZAi2xF7tuQxiNwqzxM+cgM5OpjsXrnITixifLGpZfD229gP3KbjQEngJrGUjZBBlKnboFYwY2L8ldSF6UBlzTNS6SEQJCVMFtJ2Eb6tK1SDSFBBlv33XefAsbSSLhlyxaITEMA+KOP0k2oW3388cfqd+LaIfXWW29BemZefJFppr3KDqAHO/oX/3Z2AD1C18gOoHsO9PkAaKsWWNgnSRkcyDBfmpDKysr6Xa47n8s+lKa/wey/r0bHc3khD7RfCT+ZPHmyTTSe0jAkHfdnWcYN5sR6bSPsTEx7Klyz18CTgSIar3AurdPnuaWcjV4MJqGVm2Vc/006mqJDXMI/RCavDBqCKrfpXPp38EDy53/BkRYGn5DVnDFnMSa71yN1wytIa/LAuGnzkTBzGeooaTCxiU+0vXLPvX2gCEWUaUhX3o8uj1F+0R+kMMCk3YhoTSXmh2vhFxp9xk+4vqYcq79crQDm3FG+SJzHgBSWNJCt2lsAPZ+g982OpNaY2L3drP5drOOE4Z4a7IC044ewo9wJjSYt7ggohGNdJu7zzyQD66xszzpFO002umza4/j1AVo78lhDqDV+go2Fxwpr8ZOPUwnS65CgL8OvwlNgnv8EvANCuq4xz1tpbulQIcD6a7LtP/44TclARrHZ8LPJx5VFnobBL+aIuTCeXIe/lY1BvUc8fIOjMcWlmhHd/lib3YJIH2fcPoVMswODSc7hO30et8DgX8Jzckh+RblrGCfeRZ11knqtLv0L6IupvdY6INVjAUITpvYrJZDPUE1FCdz2PodGLTXqDHBpnfUIXD18OP4ZcDBTG00HEaXTHsGShlT5zA9kGziChzPktxJnnqSkpHOujAx5xyP0AnH7kWswFFnfLbfcomK8RboyUNkB9AhdxIvsbewAeoQuiB1Anz3QsgQ72BL2YCiR3KKPFss3eeDbqgbb9DfY95PjE1BnbXSUpUJhuYXhGEgX3d/+bRENbt13d8eLwZ5PX9uJhODrr79WrgmJnm30EH5ZbWYJn6nYUw2T48yT2EwW1M3yq65AASYBhpYxy8+wdKIhFHbZncvhHmyCa8jcgbX7mTjJcI+rli6Dy4kP8MauHHjq2lDvHEHrqe8QyOqQlUm2l//FxY9FPZ0zsiqaEU7AKEBV3DzWHC5AfU01LvOtwzId47TJCpro3CCgVMNjMe59GW0aF3ixgdE064dnnabojj8iIy0ge3yYuwLBrWzYmz/KDz/9NI1a7Q6UV9divks+luu5SuDZAEvwJDV50DYU0sliEsxcyj9MZjW1pBELE/zp7OCMjWyKfG4TGeaWaoQ7tuLlyO2oiLgG9Y1NaHePVM2UMsmxNjz9c08+/rw1lwC4kw2PBuy6gRrxU5uotyVDTWeMptoKvLC/FlpnL5RVVuMXjDT3JVNrdfOwyj2sJ2gF0qoRkUy7RGSLHGXQrKnFDH3ah8p1w5RAf2tOlPotuq5oK9MVU6t0y6elF9btDUffgoZR4Bpq40+4XYagsXMG1uLyc6VP/YD7PIFml3AU+l+O1mLaRpashRNXfTRRs6CfeOuAk/D+jlUkLrrCvbD4j+W162lVN9Bn5Vwa3OF8zkbiteINL245tljhGonj7f0eQqjI5GoojeWiVf7www/P+Ty2Szj+HVf03/+edgA9QtfADqDPD0ALwBTgJNq1oURyC9MgGmN5ja1qME1/Q3kvaXSUB7qwG/J3YafEMul8m3RsGX4iftrSbd+fPnsw5ykrBmKHJ+c4a9YsxjjroClmAxlZxs6I2WpZHgREcOkpE9Emr6J/XDnlDWzmm3wvdc/UsZceQ3XeMbya440mvTemx/hj6YQI6Ch50Oi7lsEt1bn47INXUWl0RmB4HFZcdxMbMI9g6+EMMfJAcEQMQv19MDU2EI30bPb0pkSjpAKrk/PgFxiKawlu/Vto0WbqgElAvSyxS4hHzlZkFpaiMXAGEkfF0J+5pz1cMT2B/7Y9V/lGS2OjMNs3T+kKyUguqMOqPQVICHTBXeM94FN1QFm5maUxspsXsDQ6vnewhK83IszbGddPDEZtSwcB8SmUV9XgobBTmBjuBR2bBuVkWmOuRIVjNOrKCP5NDtTYesPJ3QtPrC9GMXXc350XhdtpsafCT4RpPa3P3nGiELtS83HdzNEYG9F3I51VO221ywP1yE4H/gqdMNn0NjaTGR5MKTu5vX+i7ILX12JEx8Kn+n2Z4fAbZNMzFTjvmPFDyjf4Ghl7hr1Iw52GkwituHdQ5320wRMxsXHn9igXEC4+4hLrzYmUpuYUdMmvoY0pnpXOsShwn4ogrjp4u1ADHjeXl2MQlo08Joedom/llIw65nb6YFvH9lxjIhNk+ZyLDOJSLJmgT51K7+3ToTaX2jnI2Mu9PRRr00WLFikC4Fx++KKZFuJDZB4i9xApnaQY9rXaYJdwXGp3Tv/HawfQI3Qt7QD67IEWYNU9Za33FvJQEjcI6YSWL52hRHKL56cwxrb0XBVALuBW2FRblDAi0gAl59nCIArROw/HYsuW4Sei1ZQvjfM9V6tDinS8y756xIJTp9xZRm9lj2g4+9MlRUA0UwStaXOaU9ug5Y8ATDOjrjsJvnR7/4qqDke8VRULl4hJqKglUxtkQqtFi+wWJwQxHnnJuFDGYbehNj+VgSefMjREg2TXhdieVYmcZiccqmOKnsaC2S5FtGRzhCdx99iEsTy2CXS5IMAqTWFIyD7VqGiJubyrwY3ALb+4BJ/lUdpAcDcxzAPz6ehhpkyisqmdMeEMqhbnjA+OI5kOFhL/LU4P238yBw7U23av9LJGlNa3YwL3YSYQe3ZjNjXPGjy2NE41Or65r0jZ5wmD/W3GjfcubUkydEff4XEZyGBPYFMm2Xe6TZiCp6Cjthh1na7IcZ8Bg5OrYqblp4HSEWmci/J1VuBNfmRS2cNze4CbWQAHGoph2PtnlFl8kEMNdej8+1SzobLJk28QMs3idHFWUd/uwNcJ+BUdsimpf5mO4cBLlLRQv857wSgeynSoENZZW5fLMJQrGHtNS8LTNeRmNk4ABITLuGkrKGuhJEYkHBpayWn2vICOthaUuE1AVfACpZ0W2VJfzh7W9zcc+BtXDkqo03anF/aPBh2KIp8J+czbsi/DFs+hwe5DAPRQYrAHu9+R2k5W/OT5OpRwrblz50LclwbDuq9du1bZ1MlKzre+9S387Gc/g9jgyaRDmGwZv+vpxCLyQnGRkWerOJtczGW3sRv46tgB9AjdvXYAPTQAbY12Fna2d5PdYC6Z1R9aHl62qv6a/s53/wJmhNUWxkIaW4bL7NjSJWQ452pl0wWoCQjvwYwTOIpH8ru5LshtdcHcMB2uaPlK+QErZpMNdarYeAU2t5kNrpQelMPt8N8ZPW3E+rYkZHvOUC4b40M98dt16dhB7W8wG++WRXc5cjhXHEYzHTtinJqhj5uH4+1B+CKrAxtzRPsMRGgr2JTXiAazAd+981a4uLorOzhd6ofKJ1ga1xTrzQY/SQ8sqDfjk/oEegpPwOQINgJGe9DdowbHS1tokWchWxzIZsUKfMC4b9EfS6Lhhw/0ZOqqmzvIMBcTbFuU1V41vaY/TuE5sm6bFooHL4tSkds5DGSR0I0Inz70uWTsdVlrgXa6dfgnwEA2tdPJGxoC6c7ARGqdW1VoSIt7DOo4iUjLSMcLuWxQ1TnimjhHTA82DKkp9cx9zWvWenIjnt3biDaXUHjQseThhVHQ0SbO6dDLbIg8AXPAWGqW76a+PaLnx4HHpKH8QzU/SnNn9+L1FGZatMgCnrWURUj4iCV4IjQEqA4HX4KFCYPSaNpxGT11xZGF28i96T/teji7dbmeDFRirafPWk/LOO+uQBXeU9bSsolT+UXzuEz0qW5JWKkajyVkQ54/1lRECe+ROOczxcZWAfad1K6L93VfJRMb/YlPOPZ6GBPp90uwLcBJmptHjeoZIHOuc7hYfn+pA2hZ4RMHkYCAgEEPqQBoWUUb7rN50G94kW1oB9ADXxA7gB6hG9YOoM8e6P4Y6O6R3OfreCGsrgC3GTPoP2yjKigoUA9Sid8ebokeUhhjYbqk8c8WZUuXkPNJcrQmQgr4EMbZyqbLecoKgrK/Ihir3voXvJRFr+POKtRRz/tz1y/472bqomfAMv5WBaJEC2thEMWRA9uxK78JPn5BuHG0AxyCE5VrhCTuSYPgipf3o40gVh5k7943CTpTC975+jgEHAU6tOGqBQvgGTMZVfWNeH7DCViaqjDTkIsqnS9mjh2FqRPHK6mI9sRn0JUeQScBj3kCm9dEYkLfagPDXCx6FzpzOKJh3H1IdK6Hc+pbWFUcilTDOKRXmdiw56aCRtanVaCE8on7+PexIV3gTvTRedUtCKUs47kNWUp/LX+fG+eDV3bRQYQqhR8visE1475Z1TARZDtmfqk8k80xi2FO6mpc7FEE03rqybXV2bD4cPJFNlVirI0iKSBYEx/q1WU+bBpMZLCHG50/tLgpnvIIjQO2l7FR0pPHPDeaLP3AaYXynh0c3/foLPIFI8H9XA1KYvLY0lFwKEuBZe/fYaor4kTJDUayxNlRt2P1gXT461px89RwOAT2AxY55obkV6mrroZR9NFiade9CJaVrEPiuGn3Z+aKgALDGV8okOtEJxd93IJzfmyELQYBuLDOJiYhWmRiZC0y5+JfLT7VwnIrqcfpkntZJBe9nT3OxU5bX6/LWqeOV8P3MI2+RtnxCTCXH1taa55zAGy4waUOoGUlTL5PZGVmMCX3wGWXXWYH0IMZrP/SbewAeoQuvB1Anz3QRqNRadK6f2kJIyvgUgBYD9ZniNdJHn7S2DF7NoGQjUp8mWV5ThxAhlMyQRA5iOxHvqT7M/Yf6nvIcqCw2bbwbh7qZEEmLJKwJRMCYdi6MzbC4Mi/WbXdpoYyfLAzFacqmzC/fTsWdWwmU8dgidjFKs5agGAnAVSnRo+38zxgcgtBLS3gbrhuJUIspdiXchhlrTqGnEzBD9eUoJ66Y4mb/uTWYLSVZWNVgR+JPwdoCcqXxrog48RRpJwqgaNBj6TIYEyZNqvLXYTgzUArOFCrq2mqIJBuJNCZDRPjouHQFRahpWZbwyY4CwGQxT0Ya7ftQE5xGaa7V+OdxkloM3grDe1ShqFIA6Azw1qa2KgorLLIO255LRkN1DVPYBCJyB4k1lvu+e+QcRawLROB6VFearzESk8aBzNK6jC34GXM8utib9uvY5rfaQ1z73uihS4iIiWJ0FAzzm06GVSD9ibotz6F3xUmYENVgNITv3TbRIymZd9fP92CzadaCaQdsYxjs5Tx3DIWcs/0J5ESZ5F36F4ik59cpjDePycSJ0ob4WhpQdbhXchnbHe8hxG3UPe9rsiRoSX07GZK5J0R1Rh12S3oJCut4xhD2GnruFLvrD/8L2VLByb3Gad/l0id8e2icyYjbY68jKfKrycJVLG+hgmI+hOf4kR5G7ym3gi/MbLNwKUtO8bXiJVfqGLIu+vOz/Xa7r9Xzh4EvwKoZYIo/QECxM5ip0+/SFt+HPrj7/O6MnGRwL3TJ+ZM4t1QbNSGcowXettLHUBLX4dIdAZrzWkF0LKy999adgZ64CtvB9Aj9MmwA+iBAXR/kdzDuTy2TOaT4ygtLYVoq2NiTpv0DvHg5IEsD3EBzTJBEP2zpKrZytbKlt7NQ5ksyJgISJYJQV9ym76kJTIW7a1NcMkleCZwUlQswZI0GXa4BENDSYU2ei4yMtOxCbMQGMQmv5mJqNn1T3xQ6AUnD1rs+QVg+ryrcPBUJQLNpYgvW4sQV46x0Re50bdhLCUe/m6O2Lp1A9LySlDX1IppsQxP8QlCdUWRCtaY5lSIBZ4En/V0RPEfjaKgJfhX5SiEWUpwp2YtNMFsmiNDqqdcIrusHr8unwmDsREBTiY8tGw2vjjVJcmYR8/oz46WUk5SraKyAwmW75wRjkc+SUUbNcgCjsV3OqWQHsY+TrhzOtnZXhppAdr/ZFpgkLsBVUfX42G3TdB4EPhd+RyRPG3relUTwfO33zmKagLchaP9cDd9rF/bTWs9CpPvjGxUoTHeAWFod/TGL66Oh1tnEz786F28XxGh/KYfXj4Lo5mTU1tyCg11tTB4BZ/RTnf3+pVj35xOHTnZ83mMOt+VXaMCa6Rh0pUThvL6VqY8AtPjAjDLeBCr0xuR2+aKKR4NuG/xFASUboaOkhwz5Rjts/+Xp8LJjZmOLCn/hJZWfsbElXSzmEDnldXQU6IhqxHGCXfDEjiu5xlTH51yJAVfHK+Eb/ho3DY9QtkTSsn9ZJ206fJ30TM6CyYmIspqhtJod49aH+LntvfmVna6tjQPNfW8d6nV70s7Lf7P8r6dPG8psVETcuB8nx/DPOxhv/xSB9BizSm6Y0+66Qym7ABa2lIu0Y7RwVxgG2xjB9A2GMTB7MIOoPsH0ANFcg9mbPvbxtYAWpxABPyezxJsXwytfJmKw4g0D9qi5AtC2MTBLlEO9J6DjUIXXaf4Y8skoD/mW5hp8V4V1m6gki+smhNf49P9mWjTOuEG7zwlF2iPXABt4FhGQJPNTfkY7xR4oc3BGxPGJGLBgsXYtHkdjudXwLG5GHdEN8PPywNtM34EcQFxdffEsSMHsfXAYQT4eOO6pUsU2Hrq7Q3YVevNv1vwy+CDmB/QTC20G57KjkdKM9lYSiR+Hl+AOY45lFDcqgJJSnWBeDIjlhrjCExmI+DSpGBGhVepWOzLCWBF6vDkmgwCaJOytPvpFXH4w8YsHGJzYYJXJ26M7cTyBbRPc6CrRLfvJQFaumPvweQaiM865yO/th3jAx2xyL+B7C1XO04zsN3HTkDtgbxavl+6alqUmPH7Z0dgHxMSW9s7kODchMS4GKSUtpLh9lahMDJB6dzzIvZQwuHkGYDJS+6gljcf+pTXVQBNS/gCFHtNR3VNrVppEVAo95IAju7H+0+6iuzKqVFMuj8nCmlko8NoCTgpwgvfneyCT9ZxbMv0cPDwx8zEGIzLX4WKTl/E60rgvuQJ2vdRyqNQr+QuiotKV0OiLnsj9GK7x381MlzHwmbO3rU2tRz7T+TCgw4qKyaGIIZ686+zqplC2YjpkZ6Y7d+ukgzFIhDUz3dcoKhsLeU+BmqcOw1OaB5/H6rbtD3Yafkcyvh1X0WT54c0Cw/oKSyyEjLt4j4iseiq+fEiqUsdQMtzqnsAz7mGVUgdSR48dIjOQf+lZQfQA194O4AeoQ+GHUD3DaBFKiDd0daGM1teDlsD6PNNNxSmWVhYAZHdO8Dl30WyIt6qtijZl4CdoTTJ9Pe+g2HbhaWWHzl+Z4JXDZvJlNevR89kRXFSEd34GeZH3A9EouFDPeppIGn1ID7B+O2NJyuVVVyctx5XJIXQlq0dB/PqEOutw8SGLWT9GlHvPw0hsV2uJV98tRr5VY0MVGnHzUlu8I2bho+2H0JVYzti6PccOyrxjIuLOFmYMzbhf45E43Czjwo8uXlaBG4b64aS3e/g4wIXHGkPoeWeHr+LSsaEYGd6Qj9IucEqFUqSE8wERPdxbGD0wFv7C+meoVVa7LvI/grbnVVQjE8P5iEuLBDXT49lGmI7Xt1wCKayk7jX7yTiJ82Hecx1PYa9eesfsCW7ES5ow7ylN6A9cIpy4xiI/BG9dUphHcellhIRE8NcIjApzBOvbM9GS3MTfnr1OMSHeON4SQPWpVYwYdANVycFKpmKsrbzoI6fzKk2fyfZdZ5bRaoCnKYZD8LMpjcTEbnIFeSeb6ivhRsnF34BgWqCZiTA3UMALdKVSWx4zC+vQWVVNcbERsHDxREZdBtZta8QrZxEeFLGcjK/FM6mOspdvHDH3AQsSyIjK82kBOBKwsV7QezrtIw911edhIbHZfEfc2aM2sjoyxj7ujqgoaUdn6z+FDGeWiy4bD7anQPwKll3YfwryMQ/NN0bjrTcS6l24EQnGpMuX3mW7aAtPmvKl1ruY1oyGsfdqhh0NSfopp2WyaWUjJn8yOddvO8HkoBpSw/DcOxtvkpDXfYSmOOW2OJwh70POS8BkpeyC4c8h4T9P5clnXWw5Prdeeed2LFDrCP/O8sOoO0A+qK48+0A+uzLIJIDYWGFvRyOfVt/F9jWAFo0kKJfHopmWZZtJZREWObeDZG2ttqzpc2enKdcm77YdgE9wnYLGFBR46ZW6LY/Q+0twZk4Glz1RyU50DB6WdjE1LK2M9psTcUJWtL9RQEoCQ+xRM1TIKqDPsgCRutbTSomu50NhMvHByGcDPTLO/JUgEYrgdR9c2PgRb1zSVGu8vONjI5HY0Mtkg8nw5cR1RMmTkdZSQHe37gDeibOiT3d9+ZFEjDS4o6gzLD1l9TdelFH24JHii6DgWzwH25MUu/7wbaDKK5gaImhEbMSIhHqRKjoSvATGAI/stdOtMXTOHZpo6U2p5UgNTMHXq6OuHXhFDhpTDDIOFC3DIa7GOf9n1rCb8/dC03yG3DTm+j/fDXMY1f2uGU3rnkPx3NLYaTme/nihUgcc+4Viec2ZVGH3IxKThLumRWmUhCLyqowSZuNueNi4RnNxlROTn7xxUk1SWjk7/93cSzt+3oxmnTSMGx4tEt7bDbB4h1J68DvftO4SE26fs9fYGqpRXHEDSgxdq0iWFc63B01cNhFiUlbLXXic2Eed4v6fQWPK5sad6vcQ1xHZFIU7u2E+AA3JBLQL2a8usOxd2gtl8oGxAXoiKbkQryfT5dYhxl5H3yYUsY48w5E+7rghrAG1G/4HaUplPl4R6N98v34/EgZCiivGh3giqumjkZmXgHWUE4DOm9Mi/FV8hpbl6Y2l0D3HXUvidyEmqI+36K7drqurk7ZBwoL2pudtr5YMdvH3lL/a4q7EmZpbrwISj6jYudmS1ejkT6toUaRi7zuxz/+MdatWzfSh3rRvJ8dQA98KewM9AjdqnYAffZACyMjX5IXSmYlAFoCPGy1/6GkGwoQkK5vAd39+e4KABXnDFt9KQ3Heq731RHgL1/4vS23pPFTvoikeUrYHDW20vy18WfQMm5boqkts35M7WkYtOJZTOCb7b0AXmMXwduLUoB0ukuwEUwaBcXb15h0C90ryiHM84xoSg1ifcl+imaYygUCaqkPtqeg5OR+uOotuPuaK1Bj1OODTbuVl/LchHDMnLPwzOFr6XzQkpeCd9ItaNB64CrvEozvPKkYTuPlTyt/aW2VJN4FoDRqhWJOIyLjsLuoHS8zDKWATXIuBi1+d0OSkj3IkruwsJ8eLsF7J1sR5eWAP66IR0iAL3QnV6M2YxfcDWROZz2kGtUMW3+hGiJJh8M4/+c8Lp4I3R10R95WISjmKILMCXeeSfPTVGUgZfMH2FRH1j5gDG6f6MuURBfVeDdQfXmsDP/Ylcc0RWc/Ja8lAAAgAElEQVQ2K+rgQPcRj9ZCjLOcxPU++Sgf+wD2tkfhUHYp6srzOenQ4ZGV89nI6U6LODZNUjYiSXpwoIVc4X6Ub/wDw2sqEebnpdxQTPOeUG+vLdgD/ZE36eThorY3U1oh94CVnTZVZCG+9BPoPQLpbUvm+IpfnzlsmfB8ebwMeVWtkLAZsfyThs9pkXwPXrubErk6cPwvKDREoqSa2uBlP4EHGWsrMy1/NpB5/teBErLdZJ+p+f7hVGeUfvFr7DSPQZvXKCy7fCH8KvfTZm8dPHh/mOgbnmMOxKcE1Z38T8DzDDZp9lcWSia056uPJvts4MqEtrkcxvF3wuI3esBrJoBM7id55vVmp921DIxxpMWeMPFcJdFQQmQWZxJ+Ti6GskrQbOUY9O84p6FGkcuK3jPPPINPPqEd4X9p2QG0HUBfFLe+HUCffRnkoSxL9xeq9u3bh+nTpw8pgGWgYxFGVkCqNAAOVNYAGGnEktCE/twNBIjIQ12O0RYlemrRXIoTx3CrL7mKVYoiwLl3wIomh41i+17uimIOGkdf52jo6LIApr/Vu0Sifclz8CvdqsBBJy3FOhll3THuDoJcT7UEL8yoyB0eZoqfsI57qeXVURc7M7ATunX/q5hhP29PuI+/FukOY7F6VwoMZFYTwnyx9Iqru063mVHTW5+hdKMN/oy5tlz+JJx2PwsNrd4EyHaQEe7wiIRjawWaLA54Y81m1fAnsdlXX70C33n3qGqUc3bQ4qdLRuHabtZyy18+QBlBh/J5fmiyG6Kd2xBZuwsBzRlwdHSg/d7tlB4QOPPcJFHPHJAIfe7XSncsNnQC7CGeyGR8TVO+rVwZpMRuDvVFyG/RQR85B6FNxxRzbJr8LQLy4K5Ia7KcvUtkDX/fma+AabRjEwNTmKbXXo7rLJsR71SPN53uQAWdSjqKj2C+ewnG+mnhNvkmWNhUZ9j2lPKMliY906wfIbWgAm+spwczx+/e8HKMn38DsjrD8PnRMsS6mbCyYZVaZTBNeaBn5LqMKr2cjfv/CVPpceR5zkSLV4JipyWK3hoxLsfe0VCO/NT9yCK4TW/34xjrcPuUQDhSCvHqCQ063ELhG5mEe2d1TRykodLM+0AA9Z6carLtTQTeHkgMcsPqTduQZ/KEnqsDks64uGMbGgqO4VijGwKSFiI6cRry0/bBkr8P0XEJ0Ixm6mOvMvPZs2HLBjaG1mEeGfuJk2f2/5ERVryPXipteSoMR95goArdT2TFYep31PXWFR9U6Y+W4K5VAGsJgJayfj6t7LQlbQ3cSnl/uPqhbdr34B0YNiwHouF+9vt6vRyraIhtJTe7EMd4rn2KBEUmAIMN5JLG6FdffRVvvvnmuXb9H/t7O4Ae+NLaGegRuvXtAPrsgRbwLGDzQtWBAwdUEuFw7PC6H5uwRyJdGCjdULYRhlaWac8FZIVhk2OcOXOAL+8hDM5QrecG2nVvuYoAajn3vqQoaj9kmrUn6edMfa0l8XoVWKH/gtZkZNIkatpIZtD31OeAgEIm27XP/wWBh4fws3SvKEN+dSuSQtyVHdzeUzXYSacHYSmvCm7GtFN/RWtlAcrAxqzlv4bBNxL79u6kHrYVc+jz7enV5etanJsJx/0vIIApg1oGjZimfltFgusy18FicMOLxKYflvjA290Vv1vsj3U7dqsEQCe6YTxwx+1syqvBM+uz4UZw9+wNYwisT4eZ8Dj+sDEDq1Or4Oqgx1v3TlLuD83VpWhPXYPaVgvcG9IhLKI052kWPsFwkZMwfE1wzOY8C5vBzHFLledwJ5f6TdMfOuM5LM2J5hNr8JuK2ThmjsJ9vmm4xpeRw7TT0woAJ4A2UVLRySbK3tXS2kbpylE0GNis5uqB6SGO8C3gcjMT91Z3TEH6wU1wsrTjPu0X8IqaTH3z9xSgM3z9KxWuIsdiXPyMss5be7xc/e6KBH8sGxeI39GzWjysJcXwB/NCqD+n24UwpOcoWVWxstMy4XJ3d0Mx5TY1eUexwL0M4VSAlEx7lOntodR565Wm+fWdOYp59XB2oEVeBFcBWpWMR2rl5GBEng6Vkc+L9EuczC9DWpuw2MCysf4Y5daGjzZ+jTIjg3cYv34PQXjInl+iyZFJjNTLey16GDrXnnHx1RWleGvdVvhTftPYbsSDd9wGYwfH8yCBN9936pQZcOhsgwO9qsVH2igTGnH06F6U6jjsf5GTkSZ6Wa9Q11mXuRb6HLqncLsOykssgUldr2CkeGF5LQMbHc5yqpFocFmxMnOSURh5I8o6XOBRl05nmSLo4xfDOXKyzVbRznX9+vu9NOSKFO1c5MH57n8kXjfUKHKxQRX2+R//oNXlf2nZAfTAF94OoEfog2EH0GcP9IUG0D0S8GxwneVLRLyWp0xho1wfJcBB4sOTkpIGZZVka6/qoVjPnWs4ZIlZGglF7y3AXCKIhX3qbm92rn1oig5BS51oTbuB6X4Pwb/pBDTZm5DlPgtftE1EMJnf5eMDlfZZNLxuZlqp0cosuVqP9TUE2rT/WjEpHAlF7+Nf6VqUe02EP9m5u2gPJ7reTgIqWaYX3bUst8r1SYoOhuHURgXozaOupBY5UB1mw9Y/4baDsShsd+YrtAqkfiu6Djm6GEyijtvNLwRbM6roTd2VLrgk0Z+x3Z5MB6zHsT0bMK3jIBzCx8Fn2q0K6PUokQFsfVpZHLaxgS8j7CZ4O3YiIeVJAiay0mQWO1aSxSL7LJ7HIps4UwROmVnp+PnX9XAnoOzk5OIdl+cVoOx0Y7gKfZLN1ImbGYOtqcpkWuJHaDZ2IscQh3qNH1p84vFGcpUCYKIZv5lezCrQprwRtXtWYVQHgRgnAipghTpw0Z5rCfBExmKOv0Yx4dKg9+6BYjWWt9O/WuQS4vt8gI2bwsY/SjcRHzbwDVQijdGxIVECTyyRc9WmAnhzMk/gwy174d5WDOfOFjLclZw8/RyFnQFs1NQili4a+QyaKahrY6Oju2oUlAnUbjYpSs2K8cYcynpO0ulj9YEsBDlbcOflE9FMYC+pju5stpT3+YipjoX0oxYLv3tmhsEj7W28ecKkVjjGTJmHK9mM2r0ELH/85VeoaGjDxOhAzJ+/GEdS9mLLEYJ51vykKMwIpgXd8Y9Q0u7IoRsLl+mU3vQuMvnKq5p6ayldxhquPDCGnuNsnMzglkAGCp38nKEqu1Cj8UZj0j0ICgnrsRdZlTHQq9rCplojQ3xkpUImOZTlo72lGakRd8Pdw1Mx+/1pp8/1WRzu74UYEEmaPNsu1Rqqi8jmzZuxc+dOPP88P4//pWUH0ANfeDuAHqEPhh1Anz3QFxpA9w7wGO6lFsmF7LN3J7oAFknuE5sq0TsPBWTastFxsNZzgxkH0XsLcJblTgEo0ug52KXPHvunw0L2qTwFAMQSzcJVh3cPlZD1I7ihHvbmyaEq+jqDgK/s6GZMJlD1Kd2FLKdx9EAORMTVjzL0w4C/fZ0HV4IlAdrfWxCF5rpKfLR+M92+WjE+KhTBUaOVJltLfa9emhTJwkrjoGnm97vY8e2/w80H45Da5k/43Il7GPLxeHAyjAt+gdTqTjyx+iSlHx0I8XLCYlrS3TY9TDHTL246Cc+8r9Bk8MfDvvtIef4Jp8rIjrNhMiZ2tNKzSmlq86Cl/Zi4MYgWtr62iiDo13AsOwgtx69u/P/AEDcXOykrqq+rwrXBDXCfRVaTWmfxc3700xOoYiDKZe07MJc/Yx0YX+5LwEvWV2KwzUzjk2S79rpiPJGViEIEIiGQ9nlTxuAfe8pU+MiiscG4d2Y41lFT/v7+fDjWZeGXPpsQMW4Otctk4/spM6lcmZCcKUo5zLk7kFtQCN/gKHhPWNblQy1SBko55L16FINbHDb+VDXUadoa0HEVAcdp7W5TQx3eWv0VmtvaMcaNqwkEYFvK3bC3qBVOlDjdyOs/JY4NgbzPxFdaWGn583NpAmRdN4G+vZRxPPXxQaYmamFw88K3ZkeqFQBJeJQxG8OAGBPlHidK68koO3DlgI4cdc14Zx+T52idqOFk5DuXRaKGjYirmaYo53odJ24u+k46ljSwuddHvf/J1BR8tf8EA3w6ceXk0RgfE4b1H/8DJxqd4UJLvjtvuhGup+PDu/tOK5lNe0PXqoLErYtcR8JgwrmyxMmd46bHVeR3M0N+6id/H37RSepe0dXkwBS1gPcpwX13mQgBtMOu3zMhkTaG/F37rJ+ohl5rKqKMi9V3WqwhbdXjMdBzQcJj5HmQmJg4mMfHRbnNUAH0mjVrlGzl17/+Rtd/UZ7YBTwoO4C2A+gLeHsNftd2AD3yAFoa9MRz9Vz+w4O9igL45SHcXXIh/yastAApYWuHCjJtCaCFJZZlc1sknYmEQyYLYr0nYzicL2lxB5EYb9HFyn4OMYRDvHtFDnHnjFDF+K6it7CGWuDQpuO4z0I2znsUfZeDoL/8cXgRJKSVNuAoQ0gmhHtgrHsrDiUfwteHUwkymjDRux2L7n8GJU1mHM4qwJiiDxFlqMX/lS3EiQ5//DihHktb1uCdkmDsMsyCiXZ3jwfsR1R0HMzULr+0I19Z0gmQdWIDoeiw72DQiWhw3/zgPdSU0yYNNbhrVhQy/K/EZ5u2EjMx5TApDJPmXaNuH3ECcXFxZwJit8ATykcc1nxP+TubGiqwrXMq3i/xg6O5CTOZZHjPJEoo6FOcTd11dmUz/rYtGzV1BIGoRZi2Cn+7bQIcstcTfPlCQzcMi0sAyjL24SdlS+BN6UG9IQCvRWzAhkpfNDoFY9kNd1MzbMDzmzIZHFOGDoLth4LSEcvcCPP8J8524OBxv72/CF/SW3k2md7vL4hWk4uyr36DlLwqJOkKERsZTskJJSSURugOvwltZZpKZTSPWfHNx4YTFJksaHi+0jxqlAZEAkdr1ddVc0JRg+BQ6q8dHLEjuxq7+dPKFYMZARr4aptBEh1lZHrjg71wu4TMnPxEubgYR6/AkdIOHK7Vo8rkxGZIB9xNhllA9ht7C1UjaRx9uG+c3MUwC5tO3lhdx60MfzlV1cJGQm/FdO/KoVsL7yGuWWDeKB82F3qjtooNrOknEBYcgnDeD7nZTJ3khCc2XiaMOrz+7rvq/xuNwF1XLaD7Ryi+otwlh/tdRBeRCZQdGY78S0XHi6bcOPHes/TSOjL++uwNqNQGom3cnQh0O+1cwklJJ5nrjsseP+sRpGFKpqahkJ+DWBXN3r36SkW80Oy0+N/LBD0hIWGwj8uLbruhAuj3339fNRA/8URXQ+1/Y9kBtB1AXxT3vR1An30Z5ItJWN0LVcIeSDKeLaKt5Rh7Sy5kyV70zqJ1Fp/j8ylbAmhhwIU57u2cMdTjErZLwLNYbs2gxrjPItOmYROVLF1bG+L63I5RylX73se7lTFo9h2HG6ZEICbET7kxiK2ZhIAIM/g6AbQA1mjnFtwWQ9/n7DJsbqCrhZs37iIbLIEdUuJaYTj0Kgpq2/BBAdlZehffElCEoOufwV8PNChAZWppwHTfdjy9z0zwY4Y7mrFuzGbl3rHNeyX8QmMxK8wJWpFSENBLLPVD7x1DTYtReRs/Qrs3kUNIgp1xzSMoI/AJNjLhb+mvcDQ7D+t2UZrCCdPcEA1mL38A27ZtxKGcMoTScu+ma5crkKiKDXaGrU+qiUEnWek0QxL+erABltZGXO6ai4mRAVivm48UgsecWrLkfElVYytCtDVw0nXinysCkcxxiDZmI8FXi9aCw3CqPIb3LEuw3XEekxmTsLz0z2SH+X5M9+u48g/KYSN/8z/wYhFlF8wrmeFcjOeq5zCsxEklIU6lA4a1pFnzrjcOKza3mtfghZuS+BodnnnlLVoUtkJL7e8vkqrgMI+uKmT093zxGpI7wrHEJQujVvxfz8kCJzIC+Do9GfwiSYMlKYq1tgTT45xgWpoCSyixCCXDr6fufH8u9cO0BZwW6a3izJ9dnw5XjREFdOO4IaAS46vWYLd5NAqaDJh1xUqMIRtc3tChro8LNerlbDh9g17TFPIojfQtU0PVKsbqo+Vq/yJFCfLosuyT54xMdE9xkiJ6e5nErZzI1Q2+7s2PPqaGnXaF/Lf7ViyFF3Xs7embUM8JiW/SYhTlZWP3kWOIDPSno888lDcZ8SYnHb6uBk782FA6i5PCDf+H/Y1+ZN/rMeHGJyj/96bjytdqQmFmPL2wz+J1fSq/SFlZ+rnq4LiLza1kms28L4yiiT/PkmfSSLDT4sgjz5f4+LPDbc7z0Ef8ZUMF0KtWrVLP/B/96EcjfqwXyxvaAfTAV8Iu4RihO9UOoM8e6AsNoEWPLKynsDO2KivgFYZWfKxlSVMs3c63bAmgzzfopfuxy5ekxI0LCBdNdX8Nk1pqcbV5Oyn6NCgnB/RhuyZfPrr1j+JokydWl9GeLmAcY6odkOTRATc3BnNQ0iE/0uQpjWPiaTyaLguyjP/ZkVLkcoleEv1WTgrGKHr8bmLASvrJNMxp2YTYziI4B8RAZ2yAUyyt4cZcr0B4BWUYArCumxCIb7+VgtqmNoQ5tuDnsacwfWw8LAym6BSPagKmKgZv1LZ0KAazqcOMzWymcyErvpiNdFZJg5ax0Dqyh+bQGbCMXoYOamcPbPscpuZazGSMuJN/NP78z7foBW1Q733DFQtQa3ZFSVYyOgiUF0ybxNhvarU9wxXzmZ6ViWY2P04IdYU+YDT+vCUHJ0tqkV/TxmNgKh9jrGMM1bgzIA9btbNxqEoHg8aMnyVUYlb+S3Bto7RBHB7ICHfc9K5y99BykiKBG50+sdBKml/qh0pDLRKC52vm4isyzNKseTNZ2m/PJcA9XXJ9/rg5B8kF9WoMnlwWr877N58dREN1GRydnPDENePh4h2EGo7jr9/bBFcjQ1O0QYghM+3dmIGV0Sb4TLq2R2KeNmcL9GkfyXSHbiL3oT14qooYr+MExZdg/f5p9H9O+xAWkXsk3qwixHfTaUN0z0khHlgSpUfWV3/Ge0WU/Diz6TMkXgFkT28fFDaY1fWNoie0THzknpnIMBdPeoNb7RDFoWQZQ2MmUMOeyiCZPadquV83suy+qK0spv47Ey6BsTCT0X/n00/VfSDa6XuvuxIuKS/jXyc1aDAbMCUxHguWsCG2W8lqybuHipXcR+z4FjDa/PAXf8OmnGblvLFo+kRMj2Vgzf6X6JntCs+ASDjN6pLP5KcdgIeXN7xDR6noeK3Em0tgTC+G+XyfJfI6q8WgPJ8EWMvqm1XuMZxmatmf/JxPCutwzsdWrz2fIJgXX3xRhVLdf//9tjqMS24/dgBtB9AXxU1rB9AjD6BtmcxnPXoBvGFhYWo5U5rqnAgyhlO2BNDnE/TSHUyJDZ6AcNFxy+RGGPz+fF+1ya+TgT4hPmawTH+QISVc2qUWVDyFJVDFREcCC/2QhS0uL8rGWzWJaCcIvXp8KMYRJMmXu7yX/Aj7F+zUBkefMGg8QwiyHBXDuJZaXmEcrxobQHmFGa/Qtk3Hpe02pvo9NbEBbUm3kb3VK8ZxEu3MmjtM1MW2UqrgqFIB9yan4KO9GQhxNhKYe+LaZdcx8rmeQKuSUgA9tlNG0kEW9jqyzXfFNDNVrqmLMRW97xBq/77t2Jmaj+gAd+Q4jUUhA01KKiox07tBAb2bVvQMTum+68LaVrxHQBZAYDmdNm2atkY4lSWjqbkFT2WGg6neSjf++Dw/XNP2BfRsUhOgJrKK1tE3qHOWpj9radiEaNjNIBuxl5v1A2SYQvBdsutynr+9LpHe1j3dKET/LKEnwkJLM6eU/L8kGErgiQTZSImn82/WZSrXjPp2rhRoynCgpB2xjg346aJIhI9fcOYYtBlf0Y3iK04G6CAy/g60hM7GX7flwpGrDe0MzPnx6Fq0pbyHt6tGocU5BNcvXUwdvCubAru02CIX2E93mkMNXGHgCsdkTjbGeJqxMbUURyuMcHF2xF0zIzBOcwp6xmk3eifBadqdqGi2qImXrGrIpEs08zJBkOZMkXZ8d24Y/Pb9Frnldai1OCNu+WN0Gelg4+9JhAQHIyg0CjWbnsdbGZ3wpLe3lqEy999xl5J5fLl1O+8zLZYtuhzO7rzXeD968h6SidjxIwfw1cEMtZpx9ZR4TIgJxvovP8QxThxdOfm4h8DcvTYNbTv+Cgd6ZWvmktE/bWM4hNtsyJvakp1WiZS8LtJncCnW+fhYP/fcc4ogufXWWy/FU7bJMdsBtB1A2+RGGu5O7AD67BGUB7zo+S5USde4xLb29iw+3/cTULlt2zbFaktTnbWB7Hz3J6+zJYC2OmcMtdHHquOWNEjROIqO+5whLwSy2qyNyv+2M4ZBJlym15Qdh5bMm7g57HG9AqlOkzE3yg3xhkrU6hgBrXc/I8XoPmZi41Zz+Eusqh6DUpcxuGx0EOYnhilm36opb+sw4o9fHiZ4Y3hKYgSWT+hiLcU5Q/qvbiBgEheHf3FZfw9dHL57WRTGBjhiy9db0NDcisXzLoOvfxD1znkg3lbMZD5Zb2G7w5zb8WcHWlVxMiBMdu+kwL6ur0hJNLQxU4Cb8ggjddXCxv92fRbaW5txMq8Yk9xrMTc+CAsX9h3HLPKSNrobuLj11LjK+8lnY9eJAryw9RQt5DS4Pt4FAbzv/Lia4ubihDp+bH74YaqSv9zDxkFx3zhTBM+qsY2NfIcL6/Gb9ZlqkiJSh9/fcP5NYPJeRXTLqKcf9r+2HkUNnVrCHZtx48wEXDazm9SH0g8d3VY6dZRwSJIe2fCTjPc+Xtygor/jDVU4vvkt/KFwNBr0/rhsbDh+vChOMcHrjuSjo74Cty6YiNZOg9KlC4gXYL2GoSzHeD5i33cZ5TNTsl/AhtbRyGt3Q8LE2Vg5d/xZWv33DhWpSZVILu6dHoyGNT/D63l+lPoASaNHYfm1XZObBuq0tZw4UQiDjes/Q0Ejo8JnTEZMXCJ27dqKlNxKJQ+6fFw0pk7vchmxlnhKZ6UfUx7fcQkToHPzxd83HmaWTivPzwf3zo5CSOFafLrnJHLNPlg0ORHjp8+nX3gWJxpfcjUhno4x9KruphsfzjOlv9cOh52WYCXpr5B+iEuxzsfH+umnn8a8efOwfPnyS/GUbXLMdgBtB9A2uZGGuxM7gB55AG3LYBGxSBO9s9g5LViwYFhNdd1HQrxGRWc81ObDvu7HoSQlWl8vQFn0zsFk4MS72lr9OY4M+DkoPQYdAXStSY8XWsi6hY5WEgzRFItnrzTKCRCShq7uTYl6eulmFlbg/YpQuNAuzM2LoIoS5PTiahyp0iAmwANxTo0ICAqBh2+gslTT0Slhz5ET2FLIIB4C2BsmBiuZwr1vHlGODO50btj+kzkKOHYv1cB26AjyyqtxyugHN/oUPz2lHdPy/kH3BR3M9F8207N6oNLQPcGw81nF8ppjF3UlC0oROJ6qMeJgURMinFoR5NiBiCjKIro3Fp7esclkxIeff66SD2fGh/Ce6hnZLGzfH786irw2J7WvJ5LqUO+RqOQWX2VyHPUGZNbR+s/JQTHQr99FIN9H5XP/j392UjHQ88g+P5xIrTInP5YwAl6Hb2LJ1UtFcnPyM2hLDytApzyMxXGjD0Y+k44X7+48ztRGHR64YjJ8yPgPpU5m5+KJDcXQGxwR6euMP65Mwkub0pBVWgNvXz96OUciuno7mrJ2o8R/LkInXqECdkTmIeEqM6N9YDr+Kf64uwo+ZIvTDWOxcrQzAvxoedegJww2KCmOG7ctr22Gr4tOTaaLj2/HW9uO8LyYghjsx9WBG5Bx4ghW7z6qki/vuHoh/IO6bOas2umsjGP4Yg8nh/y3GxZMVddU7t/un1ndqa0wnVwDenrAY953CerdsS2zhisQzkrmUVNRgpc+3YwgV1o2Bk3Bj5ckKuvDwyWt6GAfyISrvwOHQOqLCcK1XEWwMIjoLLeToQzwObYdKjstDcoCQrs/I2x4OBd8V9KvItI08bEfbD322GNYuXIlFi1aNNiX/MdtZwfQA19SuwZ6hG55O4A+e6AvNAMtoQvyHsN96EsDjThtCDsrYSKzZ8+22V2zf/9+5Sst7O9wa7BJidb3EZAmTiVyXr114rLkKT7a/TYRyk6aK2jHxdQ137guFo2v0dCey9jahH8UR6ChQ6Mate5kE+DB/FqsS60QWSxumhSCMWSL5do0U3vs1lIM4+F38FFNLCro9XzD5Ai+zpmSjTxU1jWiuLwKV0dqML55J70wPJEXuBhXOKfDJW8zjnYEQzvxDoyNi1aOC7e+dohBGFyCF03s92fSdY2NZRs2Esibcd3iBfBjnHj+Jz/Ds+XTEKijjMRvOpvnmBpIKYAwyiZGi4tvc/fanlWFjScqleZVbNW0FUyg28vmPQJuS9B4BpR8H9riQ9AzdKPTgc4a8x4DpHFsgKosL8ZrqzcjgJrwumYjHnngbiXH2EKddzZBpF9nHXZVO7OprQ21pafw/0L2Iix+Mp6vX0iJRRsqa+tRTmuIRsopVsQ7YcXEEKUnF5DYu05VNauUx6mOJXDf9n/q1yaG3ZipT1ZFQN1s1sPY3oKAA8/S7cNPuUpIAmKnB1015v5vF5gTqp/NcJo6SmlS36cFXxTM425TzPtg6kjyXmxMYfQ3becuX3QVVwMKUUlWWxxApnh3qNjvao0XnKhD/9ZUP/jufgovV09inDftBcddjnvm0pGCJQE7ciiykrAuJRuHy02YFOmDxfE+OJhVgg+TGUTDCcoof2fcmugEv4y3carWCOdxyxE8dh6OUXIh4zd18hR4efvhy7VfIIuJhC30114+YwzGTZyuLO32Hc+gr3gops2ch6ryEmV15+7po4C1taxA2rz/71iV7kDJDZnxCeOxeBZjuLtVB7XTsoLSoXdmZL0frqQsKf2LP+GzbH5myDxfNnkM5sy5HA7bf8Nr1QY3n2A2bz7cZwLiYMZ6qNvIhPC3Ct8AACAASURBVFkkYGKVJ88R6VGQZ4L8iHZaPOHlmXC+zdJDPR5bby/suRAqsnI42PrBD36A73znO2wenTXYl/zHbWcH0ANfUjuAHqFb3g6gzx7oCw2gbeGLLI10AsRFFyzgRCQX8kAdjq1b95GQznDZtzheDLfkS0J034OJ2xVGSSQu8t4Sudy7BCQIuB/oy0NHb2UNG6E6CSwKJjyC3SUWhBH4zojyUTZjlfToFdcFR70OX2dWMV2QzCeBj4SnSEjJZ0fKVCNYIq3Aricw7T2mH+3PxvYTJQgL8sf3o0vRcuRTrMy+Eg0WJ4zSleJj778xMjwGDVO+B8cw6tFdXPEWJRy7yFKuICMt2umUg7uxNjlLJQ5OivTHkkVLULv+GfwyIxJNGmfMiQ/9/+xdBXiUV9o9M5NM3N2JExI0uFtxKFBaKtSoe/+Vdncr2+3utivVrZcKFUoLlOLubiEEkkCAhCTE3W0mM/95bzpsoAECpGz3//M+Tx4kM998cuf7zj33vOfgvjFkWtuIy5ZzIrrcZ39IhQcbAUvLaI03MYpNWfSSPrW2xWWhK5d3HbzoPf0WbdcyqKOuVQmIJvEAvkQZK/OwdAmBXR33oQdlKwzy2EGg/uXuDNU8GebjonTdiels5Gw4hMe9k6AJGYw1NhOwYc8hONTn4X+CaA84+tfUCXuc05PLioI0jQmYFveZ1iypFVcHrA61pKoZw8ehefBT0CV9g9KcU/isegDqvXtjum4neuoy1bGYyUCLfZ5h6DM8z10g79cWHlPuJCLdEc24YeATymFESmQsZSUFcPP04Xj+aW/AW59/RecVLUpqm+Ea2hNn66wRzeZQ1JYh2l2HPt274QxlNTL58XfWo4aa4XdT7dX4bPDth98w0KWcjYgLDuaolQ1x2ghgGI+w68IeS+VSYvIlLQkNBKz9A+3Ru24PEvdvw/6GQCpJbHDr5AnKok7GWgNDSmTM5J3NwOJNu5Vm+pZJ4+Ho7IrXPltAdp3e1NQ6P3rLZJV2mZuVjvIKNtJFdlNaZpE+yfdE7mOFZ0/hq82H2UxqA4NPTzw55qduFUnHUuDq7Ycg7xbnkeNJ+/EDmW1apGB0z1AM7NUDe374EDvqAmGPRtx9+51wsb8yZv9a7yHy/rbYaZngy3UQi8yOuvd1xL62dxtXY8MnzYPPP//8f3X6YnvPz8Ve1wmgOwH0tY6hDnl/J4Bu+zTKA//nqsLCQkgAwNX4IsuDUdhm2T9Z9rPonTuSMZbj7si0RFmmFGeQizX+WR6O4ssscg+J5b1YZ357UhIFQEtynjCx79neh7ImJg5SXHr/4CAEnmXEdRrT1/xGIGDAdBDvKAAtQHYok+WMBKZvbDqtvInzKhsJjvhg5g5uonevbKOrYyOqy4vhGRINT2cysWXJOLjmE9yXN01Zl5no9nvU9684pInDstpusGPIxo3DByA0Ivo8FjYn6zS+2bBbaV5nBDegR9U2fNA0ETn6UBhLaCVnV4h6PRnBabcphlGS8FqXnIfPdmfiRNJeBGhK8XSXbGD8X5Wut3WJbZuAU7ONKwzDniED3cr5RTTJ8tMqgdDqwAdKM95kYLPa0Cdh8o7F2m27sDi5CkVk2UO9nBjmEoTBXVxUwp/ILpojbmCy43coTFgBO2MF3AlUjUwYVLHfOQegI6g3BAxCsVtvBahl5UQmfRYnGvsz9COmXEZYZAG+VowK13Lbx2pdsAg3wDZsMLqEdMGsSB00RSlM0PuBUoIw5bKiqS+D9eY/kmF3VJ8lvtAS8GIY+lt1rJIK+e3S75FB8C9BJnNumvUT6cqGjWtx6AxXLfR2yLKOZFOhFVJyStHL3x4xwT4qIEVKnDUEpHnampFwMguplbSyC/dCBJsaD3ElYw1XMvQEt9KMKm4bYsEn6YUyluKDXZFf2YA6rmxIA6dVbQF++Po9nKi1R4O1G4bHBMPWwRWnz5zCmcpmTqo8MG3KdLX/cv0t9dWi75RVohtt/e6/5SaG35TikxWb1djsEeiK6VNbfLCluVKlO3Lwrjqaj3QmWY7t6oEYhtzI5MXyI6+VVSwv/yDqq01sGrXheaI2nEy3gWMgtnsffhf1+GLtduWAUu0QgttG9EQoj+E/XcJOy8Rc7i/CQlvYaZmodcTE/3ocn/SHyHfiSiw+b7/9drz11ltX9fy4Hsd0PT6jE0B3AujrMc4u+xmdAPr6A2hpfJEb55V6l4rWT/TOsnwpQSKtGZeOZIzljIj+WPavraX3yw6qC15wucY/YcxEsiHOIdHR0ZdlktpscCT7KG4DYslmqi6k64aAqQgsoifz8fwalRb30EAyskxf+7B8ABrISsYPnYhJvVrAkSy/W3TJqxhIceRshWJaJ3f3wcHMctUoViXg3ptNX2N7o4Feu6Lj9aFLhNuhN3H7/mCcaPTENJcMvBKbjW/KYkDJsUo2HNUtgOyhF5Ly61BgsMXoGF/0ZcpdZVmxevAH7Pi1kla8lxWEYr+RyD2bjtQ6V4JrDbWzDMUIdFbhGGJ31rqMtK4rW/4HAjoTbE119Ftm0h4TAi0l9myLE/MQ4qzDDd1oYdZa0kBNq/Xefylta3OP22AKaFna1x1dCF36JtXs1zD8OaTwPISf/Bi5JhckGkPh2e8mOmZ4Qa9hnnMzf34E342738dXRypV8+DMkAZE3Ei5CL2w9SsZdsLYcE1jbUsSoPhzi0SGqxICHNJzi7AzuwFdrIoxM9oWTt3Gwmb9b2hFuIONeozyxiSUhk3HrBHx55w3VES1TBSkQbQ8C1b73qa/8Q6CaDY92jqjafRLMPv1Vscj9n6vff4dPY6tyTAb8OTM0XBN+0411gkjb3YNUSC1vKxIgfB/bsxA/pnj3EcTIoL8ERYazlCdQLUisTSRVn0EpCL9ERBsKU0FbQoppfgik5MUsw6z4/k+2u+JH3Qu3UxkteC+ISFq1UOaD4tpNSd/ry3Lw469+xQj32/AcCxPzMHaPQno5VzN89iIKQO6c5LhizNZtBikXGQEJVp29o7Iy8mEl7e/YqSFff583S7QuhqBbGqcc/MtKglxIdlwcS+ReHkfZ7LFZOzNvAZGB78fpSaizG8psdVMqHJAVqWRjLkGD3Bfxf1EJpOyYiPOMNLYuo5yIT9ua1Ic485/ZNav9F7Q0a+XpFW5b4it2/Xwne7o/Rdpikwor4RMmT59OhYsWNBhTegdfUzXY3udAPrSZ7lTwnE9RiE/oxNAt32iBazKg/7nqKuxdbPoggXUCnN3YR0+fFglDkqyXkfU0aNHlTWUsDrXWsIUJSYmon///j/ZlLBHAtZFwyg2fO2pCwG0pjQd2oMfKj1sTfwjOFjI2wfBdH8mugl4EfbNnQDKj8vvuRvexucnbcn2OcM9egjmDumCU4U1WEJwJKDhjnhv2OtMaNLaMVCjhflLza3AB2wk09voceugCPTjdj/fm608osUt49E+BH5Hv0CNzgnanrcSUzojM+sMlmw7oMDHrVMmoZlg8q0t6bAyGVBRU4vpISY4cun5YKk1ksjO32h1AP38tTgU9oQCSJ8nEXAyKtzNwQ6joih7oG3e3MHBisUU/2Qv7utEspy2hUegzdgMU8hQyjPO10Q+8d0x7GMwiLDrb8yKY4Pbv33BNQVJsDrMQAbx+pVEQokWl6ougH7V4zCz8TDdZSh0PWahSwqBNp0r2B+JpnH/ANisqN/6RwViDUN+Q7DaCyez8/Dd9iNw4v66+YWz2S6Y/spkYJd/BI/GXAz2aoRx/Kvn+TLLx8l5PMwEyHquqEygz3KAvgHVtTU4nX4Cg3EM/cI8GWv+fJuNa5rqPFjtYPAHAbWmMhtm/qmVRkTGlhvGvgId9ePa0pPYaT0Ye/LM6B3mi9HhjtAdng8N2eZm+n83x9NLl+E7huz9SMwoREFpJeKMZLkZ115s0CNq0pOq8XPjiSLso2+zieNpPCU40iyYdHgfNiekorsxGRM9i9FAlr2x74MqyVJqUUIukyqrlYzjQfpcO3MsfETLQ5F7SMPqHIJbS209WYxvD+aiqLgQ7mz5uzFSj/FjJ0D02csP0IpOAL2HLaZOnEJ9tBtdR5pgp9eqCVwC5UAFlPEMjO8HT0ox1qYUcQJYqSQkE7pxX91rkLv5A2wv90B4TG/0Hzz6nMRDJjIyeT3a5M0wFk6IWLJS48mAoAXcn7Nku3sGOLUE+PwC68yZM+oedeE98WLa6V8aOy3+9tIAfiUuIuPGjcPGjRs75N78C7yk7dqlTgB96dPUCaDbNYyu/UWdALrtc/hzAugrdaWQRhl5UFxMFyxHICBUlgHb0g1fzShJTk5WoNbFhXnL11htRY3LJi1NkFca+nIhgNYyyhkM7QB1vts9bsGaYqawEUhNdz7Jhqy+aPSKU6yfgE6d2YitxzKQ12iLsd184c/l9S/2ZdOqzECP41rMwWp01eXgWNAcnNaGIs7bFoWZTBl081eBGWE/OnX8c+NpdVbquST/2IguTLQzKmBbWW9UXr9d2ZAmdnASuywlPsMf0KqukqAyWFOIud312F4TjGdXEfxTuuBqqmD89Ua4DpkLg0dXLEutRAH3yZXgTdIRZ/byRbiXIxYcOKtAjUVrG+XjiMK8LDZT5SE0PFJpYi0194sEHMuhxEFjwisTgjCSNmXnqrGKson31Hky9roLZjYdCkiz2vcutEkLUKF1h61nCLQzP6Sk46iSRwhQ1eYzya/sDLS1xQTDDKth5LiRcglhKgUMy3mY0t2bWnJXLDmch1R+vqm+AncMDkMkGd1aMrCFlELIeRdf5JVHcrHhCM8Bt/XE+B7oQq36rxYnEdM2knWtx9wedgjx91XaaRnbrVddRM5hve8dBcrNNvSqlgRKsVyjTZ7slxVDUcy2HL/0/TaMJ/BnSVCI1Z43eCxNPO45atKhO/oN1uw8gN1V3tA6uOH+oHyE6cvQGDoe5d791DmtYpiMaOPF23sGrQoFVP9z3pdwYEJgOVcSHg/KgqeXD1IDZqGwuITyqh40E3HDSU7OxI1Emk8lHEd8p52ppRYpxx8mRFKCUYLvVm9AerUVim2CmBZph+lx7pjQnd7jlFpYGGYjJRrxtNqLjo7FjrQiJJZy3sPJ8gPDQhHp3+KhbRlvuRX1+IbgV1hiYcu9K5Pw1or9MDK1sU7vhYdunsxY9koU7fkKKYUGdBt3N7T2btgvchNOMmP9HBXI/2DXWbLXevXdeI77KjKRdalFvNbNbDZkENQFsqJrvE1c1dtF9iUM/qVCqa7U2eOqduQq33Q1LiJiYScrjh3R4H2Vu/0ff1sngL70JegE0NdpiHYC6LZP9M8JoEX/LDd+AcSXKrnxnzzJ5VsCO9EFX+qGKSySsBiS8NURJWElYiF3LWmGlv1oS7ecm5uL7Oxs1Vh4paz5TyQc4vN86BP6++qx2/8+rDzdCB3dJ2b4FKKvfSE+dX2CDXAEbdaVuL+7NbR+PO8/AlvZx4TsCupXC+FkKMFDzd/CyKX8t4v6oMmddnfVFXj+xl4q6jiP7K+AUW9NJc7U2yu/5ygvW6w8XoUNdKmQ5W+RfEhUs3gglxYXYM+B/fByd6VryDBUEzSVJG1Al3Q2rWmbsSXwUbx02AZ1HA/+mmJ84/g2Nhh6Y6e5B2O6fWHnGYxHR0WiO8GopaTpcTt/9M11ZArZ1GVni/cWLkMtxdwSeuLfY5RaOZF9da3L4vJ8KkNFKnB/SCFM/ShZ8GZjosVCTzyZTWQdf9RNCwDVbHoRppLT1JAShE5+W+mYVRHk65c/yCY9H2qa1wsUVYBbySD4f2KbZ9C7QlwdHMjKS8k53UsGXNL0hD0XKcFHnESIlCLIzRb38f9wbAmb1vbC0YrR1zc8rFxT/rL2lHJ8kKa9Z0YHo7aqQsk9hKmT8ShgWv4Uy0Bd6jI2jOaiudtMMsn1sEr6mvroCDRHT4F+28stEpUuI9h42B0mF34emwzl/4R1BvdbyrDjTSw7dAbHjbQc1Nng7i4V6DJgGhbuP4NTRXVMm7THrTNuOk+LLO9btvIHekhXwktTgQeim1DmPxwfbTmhGlLDaBM35xY6p7AqCLBFc+zs6qEaMlMpKRoe6YFudHyRZtIVh06DfYLKeWPAgCEMb7HHYTLIErrTI8AZZzNPobqmGpFsMpQ49qWU5SRRWlNNH/GhviYG8jQjN+cMjhXWoXcwtdOTp4GCJl4hTUtyZVMdFvywDOmVZtj5xeDRcT3QsO9TvJtQDxPdN6Kiu+GO8cNaLjN3vlncPHhtVxwtoC95NYbSjWRouBtSC2vx/ZFCtTLTnfsuzi//6RINtGU8tHdffknstNwHpQICWvmlX+ZAhg4dqgiT/8amyfZeo8u9rhNAX/oMdQLoy42gDvp9J4Bu+0TKTba1LVQHnW61GQEC0gh4sThq9VDn54veWdiV9nSYSyOQ3ITl9R1RHR03bgG9lkmBnANpgrwaFmXP7t10qaAeWJIFCQgzM+lCQJeF6Og46J09kJRVCqsjX6CXVRZMDt54uW4W7dfKUZadgmf8k1QoyfeVUaghW3pTtF7pjCsNWtg20yZr/1sEKzX4a/UklDTZoDvT2x4PISN9cBsW18VDazbgPuuNCKVmF2T0BID0P3UXbPTWin0dSbnF3QMDCXxc8DUbvjIp82im9vSBwFwE9r4BGlrs6VKWUA5BfWmPe7GyqTdyMlIxu+RdBLNN78XKKTBSl7uh2J0expRD2GjwqwHOaonay96sGrry0w7C+fRyeNgx9jv+f/D2qgNkG4HEajdkGlzZQGai5lsDe+LYdzx/QD8jWWOCZLMLrd+G0B2DYPK8aqyBtjiV0d2cGBxYiREuJXCKoNXeoCf//TLur9XetxnPnQgzo6ZNdL8QPbPu1DoFtkw+tM1jk2JayhEUU9fZowfdRxzdcIIMrCTuCSgUlvoNRoSLX3INZRrPxXAikLsP2vJ05aAhMhLRYot2+2RRjdIZe1NKYCn5PlqaruRPGxsbBZ7k3LSZvMnjkiZDqyNfkXnOUiy1YfSfzvOZliX0nLQjiEA6GwGr4VafgX5eJtTbeOPVrEj4OlpxJcCI38yZCSs7B6wnA1vKYBVpEnRnI19xYQ6BLz+frhnF+dn4aPkWBaBD3AnEZ9+G0yeOYeG2w6qZ785xgxAcer4LRj6B75drdyi98UwGrsTE9iF7nIM0njep+6lHlsAWWcEQJljsBWWciUxDEgfHU6JhJpv+yrwFcNWbUMR9nda/GwJDwpDTaIPyBjMGEQAL2y/aaHU+mSp5ascSrM+RMcIxFRSPp6f0Ve40X+w9q/ZFmGvRVBvZnyAPYzn34g3+5X5OVjgWxvD7NzSiRZPfEV7xV3vPkvuoBFJd7UqZ3I+E0BAtskjr5N8yORNGWybNPzdIFScluQcKWdGekv0bNmxYJ4D+uS9Mey7GL/g1nQD6Ol2cTgB9/QH05ZrqpBlGGGUBzj4+LSzZ5UpcLqSR5lJLmZfbRuvfC/MtD5K29NZXsh3LawVAiwZaJgXyYIqIiLjqh9ORTYsQX7tVsac57gPwUbKGy8tAd289AyhmqDCKmopi2Jafgk35CewtdcRO6j/7N+7GaJcCHHKdiMUVEbCtpF2eKYVNb00o6fMUUkro60uAYizNRiazqp18QpQUw2vjE1hZ0xUHyuyUa8dM3W4MNOzFFkMcdtmOwFl9JBKqXRDj66i0xsKcSglDeTi7HPq6QjwcVQ0/q2oYRr0EXdoqFQKikgUpPxC3BE3RcWjzDmF9JqOh86yRWOsFJzaJjQh3wZPmBTAVpBJEGbkMT222jR3dPXiYjOUQJ4rkCh2SaSu3o8oHe3MaFQssLKHos18b74VBxYtUupxijAc8dr6VHT/bev1vUZ57CjcX3k3nD3f4Eah/c19/aGwusBEkyK0rz8dre6tQUG3EE32s0TP5b+o6mPz74GzITMxbuV05i0R52eMONrRJiYWcMKdOzm7KlSIxpxIjKlegN06qZj0Tmz3hHEQWmdeOjY4CoA9QF+3P6PM4OlpcrGQSZoldlwmnxSZPwNQ5UMfj069lRLU0HBoYDjL2z2y0pIMI9d/12YdxxnUIwobf2uL6Qvs/3SY6elD/rfWNw+q6GBw4U4YBdNoYd8MklVr4zYFcnlsNnTcccFtfTkjYjHqKINmBOtyQMPqxcwKRT1Deq2cvuLp7Y+Omtdh/uhBGNoSOjQvC0GGjcfJ4EjYfOoZIBqaMGT0OtTVVbCaljIevl/qO2mlhfnVcKXhgaAtz/+nubLWqEM5o8TvZ1HghfvjhRzZcJDDTx0/AiZwSzD9IK0cC3zC+576hoWpynZKRi/y8XKYZ9kLi8ZM4VanB8O4RSmKyj9dmDYG5aLZ7BTlTiuOrrt2uffvh7e6CAfSdln2ooy94MB1NWveIyPm+MMTlau4TV/oeue9J70RHrbxdb3ZaPKClUVvu3e0pC4CW++j/5+pkoC999TsB9HX6dnQC6OsPoC8VBiIWdyLvEMnGlTTwdTTglX2Qz28vgL/ccN21a5ey3BOZSXvZlott8+j6L9G7fhcdN7TIsu2Kj087QWcgY4l8zO2mwYGwR7E8tRrO9Tl42PwdXK2ZzCeRxGSMRYqQ5T0WnyeUwJS1DzP8ShBvdQbv2z6AzFo9qivLcXcfd/SJjVZNWPXUvnoe/QjlZ1OxuJa+2C5+mJ37CqybKvGnhtnwsm1GYfAU6nd7wa0xG8l71qHeMRi9h00mEBNwdRQeOevRRVtMCUEI9cIM/7hMNHJ9XTVKG7Rs6mISnCkV9ofeJ2tYSeeIKnoru6LWxgeGhlpUa11R2u0ebCtxQEqxgSyvA/XR9Qo8u9vQco9R29MHxtABo4JShx/oUMGmyq5TVdCM7qT4RReon6bsBGTSvu3eolugsXNR7h8743fCuvgYjPH3wxQ2+tyl2EXLv3e2nVGfIY1wL/euhqYqD82hI5BXXIZ5q+iGwVdHeFLCMOtmJB/cge8TMpW85d7JI+Ab0EVty3rrn5T+WoQGTaNeaAl4ESeU9A3UUucinfujcfTCw4w+Fxs4sWUro/TDl2BSyRIuKPlOCYMogFp6DGTsCjstE0p9+WlYZWwkyI9XzZYoOYmm9S+hgX7bynJv3CtqclGcnoj5CWQh6TU91yUBfgEhaBr6LN1LWiQpAh4/2ZWltMCjoj0wOtpLAeQdaQTe3KW5EwefY5hF46y8pRlM8+36rbAmwJw9cazyon7t0y8Vq1vDsfXwjaPg4x9Cn+h6FSoTTU27/O4IJxmiMZYJnDD3r9Fa0ZP/Fms88fw2NdZj2bq1KKtpwPRRg3leQ+jqwpUDV3cymtYo5LZEc28gg9zFWUuphxmH0guxg82ULpzA3jcsDDEB/24qleMT2cz8HxnoO/oFqlWDBYsX4XQJpR68NveOH4gu4V0pOapGYUE2nUACYefgqNhpi++0ADwB0vJdvx7MtKy8yT2lo3o/Wg+r1uy0MNRSHc1Oi+e9EAoyVttTnQC65Sx1AuhOAN2e78vP/ppOAN32Kf45JRxtaYLl/yTSVdw2LuWDfLEB0dGAV5oWZYnc39//msegPHws6YFXu9Rq2Qk5Tzu2bIR9eTJBmi2c+96MBAZBFB7diKHejfDUVONju7koMjmj5kwC7jIsQjd3AsLgx5Cqi8QIak+FkRO7NWMmU/SyltKNIQ5vVAxHWnahAl7PTIpTtnfzdmXSMaMeE53OcNuUYkRNVjZx2rN7odv2Kj6pHogMuzgERfXE3EFBOLXoOXxV0GKLN3LwQIzt30sxgCV5fEhqGmDjzcQ6suPnFVlPpUGmHKKtEqcJAZsgeEYTwSolCWZXekUz1rs5ZBhKyirwzLITcNIZVNrcMyMDEMHwD5d9jPRmU6Wwus0xLd7AUtqs3dDTJg51ZfyXGZWO4bAhk23lHY33DZOxqtADc2J0uLPgVSV5EL1004zPz71fnEdeWHlCsdyz+vixYbJlfAg7K02DfhoGejDevDe17R4nF+P7g2eQYgxAvbUrbhrYFb3iW5xC5LhkX0wMO1ENjFIE1PqNf8Dn5d2RVsNY9ZBB/Ax/LNydhhPFDQjzdWdanjtu5v9dqszcjnnXW6infv29pilIqqSTSYQrZg8IVWzf6eQEBJz4FO4k/5vDR6OZKY/arF3YuW0dNlYGwsrIGHNqiyfpjyC3/wvYxWj2YIbmxPcfqoCpJDOKvERsD79fvpRscRV1w8DtI3uha2wvLD2Sj0Tq6rtTvyz7eiFbvOiHJXTnEGmLFo/Mphe5zo7NhRmqMVRAq8g2pBob6lRjoJ29EzanFSMhqxLDGHs+KMwdqccSsHDHMa5EMFKe4/lW+ls3NdRz5eqwOsaY2N5MwKRVIOUm3dgUWJR7ll7mJTjTYIf6BjpruDcj1l2LUjOdYIrM6BbgjhkM+TEKGOYMyE40QSxhtg8zpl0MaR6cOoKx9UH4+JtvlWOHj5MVHrrjtnONshYgLU3D14udlpU6Wc260j6KSw6gi/zy52Cnr1TDLRNFifAW16X/z9UJoC999TsZ6Ov07egE0G2faLlRyYPg56rWjXDyWWIbJyyK2NRdjbyrIwGvHLP4qwqL1F5ruYudJ9H4SfKiPHyk+eVaSh7KBkMT3vtyAdmyJjjqjBjdpye8KHPxM56lLpgsq3sojgXPwZKDWfAq3IO5niloMFnjnzaPKtmDtuos/tDfWoHP02wsJEkId30z9hxORrWdL2KDPQk4nNk8Vosvd6TCrTQRTs2VeCzgFHLiHsHqIg/FBE70JkijxrbEORYezvawJcN5fOPn+LqKoJnODyO4VD8u0gFrdh3E3kyyidTLPnDzdNg7/rvJMzVxD1ITtmOMG63LRj+tUvVal/bsPmiKj1MXTPs/uiRo8o/QWWIJX2KGsc99ik2Vc/L+9kx8cyiXmlwrvNMtDT5nlsKqgfHfbJqzdguCdsJfz7GB1tv+Au3JdWSelWxxSQAAIABJREFUGYFs1lLLHAqdf3dl+/byssPYdLICTtbN+CJwFQKoyW4OvwHG/o+ct1+ila2i20iYqw46yk7MZI9nLauhNtegQOVHt/dEsD2bDgnUc8w++CZdz369UMyeMgGueTsVUBYdeuto8vRiMuq09+uR9gYMZOAPM4jGc/CdSDxxEqsOnkJ2kwNivBjyERiCR4Z3wWp6daeX1jIZ0BY303dZnC4spT3NYJZj36KM4PDZ4glw9+1CP+YaPNZTj8ryMlSY7eDs4oohIZTCsFFTVgS0ZOQLE9fg05IYNFvZ417nBAT7+eL9I40oNLnCaONGtngk/AJDz6VZika4rrIE23bvgoujA7WpBONcFZEmSPFLzmcQz7PjI5gcyAncji2Mf6/ixGowXT3c6fV9Bu4eXqqxUM6nuHMIsy665qdHh6OAoTTzd6XDaO2EOeOHKua3dRVRb/3Jiq1gICHG9wjG4KGjsH79ajYpFqse0bvHxCOyKxsnCYgTkk/Ahs2vAaGRBPctTiLiFGNP8P3K6lQGkdSRyW7CLXHO6BbigzqtPc5WGRDH74Gj1oC0E8lK/hESFg1ZHfnHF9/DmeC/inHtz959s9J/X1gWRlr+bH0ftcg8OoqdlvumeMfLZP961oXaaTlOkRBdqXZaNNyyIicsdHtKCJbZs2dDVvT+P1cngO4E0L+I8d8JoP+zAFocNkTPJsEo1yJt6CjAazkbAnzlIREcTIBxFSUPFGlEFOAcFxen4rcHEzxcbVniiYVl+/sXi+FAUFJLDeyvb4hEnm0U5u/PQ019I2bQAiyWIMCFvskOu+kRTKlFte8g/Dm/H4rzzqIPjuNJ32PYHTAXS3Pd0FRfg5H22RgzYjjsXb245G1S9l8NBBXffvku8pjOdov1LgILX3zm+BBON7IRrTwHc5sWIsalEblD/4Y8gyOishfDMW83DpXboDZ0Iga4V8MheztezSBAdfFHCdnh4f37oWuXYKQc2opkMpArC9xRa9QwlMSET8bbILbfqH+fHjLTemGeqZUWr2bDWKYMUn6iO76MGuo1DIkJh2EAvZvJXD+//Dg2kaEUCcQTTjtwr/cpaEqOo96zB84GTkeeucUCTpw+/I6+o5r2auBMeca9sA8fxOZCMp5k1ie/tk41qzWYtHhhiAMmEJidLKjEsdQU1YgY5qKBccivmPTnp0JkivYvQr/iZUzu0+K2ul/jbLVGNat9dmcvspO0DEz4BLqcg3TBGIrmnnfSAi+xJXFQ9N9+fdDc/2F1vMJqf0S2v5nSiMHBNrgxsB5m9zDUmW2Qmribv6PNoNEekR5WuG38cGxKPI3daXkoZ3R6ry7edD7xxzg204nUISW/Cn6mAkSkvqvcJP7ePAdneM1ifOwxwJHsPWUhn1KmUcuxEutmwvgwO6Xz93RxgFP2RhWQY4yaQmmCE6w3kQ0/YYXjtY6qIfLRW6bCQdOId7eeps2fG6IDvVRQyYX1Axnow60Y6IxTKfh84yEVdhJOacuddOeQ75aEk8hYk1CVRLpqSFT6IDLs/tpy7F34N6yt8Fdgt29sDCZOmKrsCjfv2Q8/D07QGLEuko36ek4igsLULqxcvQL7Gfoj254zqieiY3ri3TUJOFVuQvcuTFQcEkwm+d+phvKeVQwIOpBZoRo77+zjSQlMKd7fk0cmGvB2scNvx0UpfXEdJTSy6iATlYP7d+BAWjYGRAejLwNg2lMWIG0B1pb3XKt2Wvzl5f5yseTS9uxbR7zmatlpcTuSe2x75Xpiafr4449jw4YNHbHb/7Xb6ATQnQD6FzF4OwH0fw5Ai2+zaJfFjaK9DMTFBk1OTo5iekJCWpZ/r7XEXkkeCldi8G/5THmf2Cy1TkxsMz2wHTspYKCZDH0BwYM0oUn6mgRYHDx8CAM0KYj3MGK3zxwsLaITAsFGlH0tA0lscYqSgkyGTcR6adGtWw+8sDYT5aWFiEYmXgk8gFWec7EqSwcrMry3e57G4ABr/OAyB3uz69EnxB2z9Hths42JdhrS1rQ+M4x6EetqIrD9dBls8g7gUcftyrv5HzZPoMaoRXDVITzpugcmWqbV95oL/ZY/UouqQ2JuNZY39EGu1h9nTYyWZnR2pDmLLnpabCnzQhNZYElPDKTf7nu396JlGoNr6NEs3stW9CfW8PXSZCe2bBrRQdP7WEdPZgHTxt53K33y/M1H8NkhMo8Epn/13YEx1kdhkqa8OGqaa4pgDB2J2mYrGLf9A6mUqfg2F8GuxzQ49pkFp6YCJg9uhplNgPOOGZkmWAE/myb8686BcK5Iwz9W0UFCdK2GWjwXRD/objci0Wsa/rQ6DVrKMIZYn8SzHjtxNv732EJf61jam4l0QZUEEUlqoDRKkhbVMNTEetdrqumwOXKC2j8p8UqW1D5hToX1vK1fAI7mVmExJSFO1mbMsE2Am7kKnv1vJmvthdfnL8SBEup86eXdO9gF94/piVg2G36yOwunuXIg+uwnB7rA006LJjsv5JVWIS/9OKL4fctr5HmmhluC9GJ12XjSejlKPQfgjCP9wuk93domz/rECtSnrkFavRvcBt2BwOAIVK5+Ea/nRJGB1aEhcCienxStbOoWrlqvwPfttIPzoc7booEWxlWcNj5asYMNqGaG+7jiRkZ072VzotjESaOgWPyJDONckaGvWPkiPsv2RhNdXu6ceRMCQsIxb8E3yKefOeXVuH/CALLSMcpHOo/yjOAfQfSufbvhTPeWvv2GIDk5BV8eNyLcz4Pva8Svx4QzAtwK27ZvRGZBGcYMjEdgl0ilvXZl46u9XndOby1AV8vQn1nhWuSUVmNjDpsErW0wu38w+oeen4jZjq/xeS+xgGjLpNjyy6thp0XKcDmLzyvdv2t9/ZWw01cqQRHN9EsvvYQffuBq2//j6gTQnQD6FzH8OwF025dBbu4irfg5Sm6w27ZtU6yDeEHr9f9efr7azxOZhAAAYbI7osTgX1wOJI3wSkosoWRZVXSJrTvLBUAPGjToiuQpcp7kYbt58zpsPVEAR70GD980iW4FXmrJ3YpJc4K6skNvxbycQDQXJONOu/3oShD3D+NsFBFsNFDvOcK3GQuPNxBY6ZR/8rxxehyqdKVjRQNCS7Zikl8NrCoy8ELRcHpF1yPX7I4XtZ/DztmT7h1uqIi+GSOGj1HsqrCELsWHEXjkDZTp/fE37QOwz9ujWL8/eW7GmYF/xmfHrZVE4kGrNfAlsJG0u6eWnFCsrTDoDk3FyCVrrWNzWpVRBw11ro4EisO6+hFMBaFbIp0iqgpUsqFtb3oJUzet38c0QAGe3t2gZeoeCOwNbEg0u0fAavWT2F3uCkdut5c3gQ59f8V1QstmQTOZZVPgABgH/w9e+HIDtmWLbEWDNyf58tRZIzThZdjQk1pPFwrTtPdQT9bXmuPRxlAJ8/JH8c+87qg0sdlOV4/fBvIYej6NV486KJ9i0RBH6/Lxdn9qgAnmxUHjXFF/LY15kKTDVqUpSWNTY7VKC7S8XhrUpDlRmgTFBlBSF+czlEWa9mqoUbi1b4DyQ7ZUZdJKbE84ps5Z3Ng58PZrmTS+t/2MAoOyvSdGhio/bnG0kVAgCesR/b34HEsse2F5FW4ufgc+bi68VoVomvwOmrX682zy7BlU4uOoYbJiF+qTDbBqJtDc9WdsrApASr0HRk2+ndphV+zfu41ezpmw5lwrPtgNUyffiOqqcur+D8LLww2xPfopL+fKygp6LsfBRM37t5TciExI9kckKPHBHI+7tmLd0Sx093fCTcN4fsrPopluIFZkzaV+WLGUnuVVbMgEHpkxFi7unnjnq0W0qjPBx0GHx++6Q3lVG5iieiQpkStaAUirtcHWtBL0CHTBLMo28rMz8MGqnUo77cQkwyfvvVNtO/1ksvquRUTFIaO0nvtWQycOF3UOJdb+q31ZKnzG3aoR40JtyZybcCA5DW6UL00dPxE2tv+ONr+S+4W81sJOW77v8n/yd5GQXc7Z49ChQ+jTp891aVi80uOyvF4IBbFdlF4QkWDIfd8i9xAXka5du7ZbgiKA+91338U333xztbvzf+J9nQD60pexUwN9nYZ5J4Bu+0T/XABaQLk80MUxYMSIEeoh0REl7h0CFgS4dkSJP67c7K9ke8XFxYpRF0boQlupffv2oV+/fu0+XsU8/9iM9OHX31Bf20zXAjPuGdcXYZGxWJOUw4d+CiYFNyOy71glhdCt/Q1ZagFERXjT/knk1FIeQTbyf6gp3UVtqDCUTrpm9HZtxNBQJ8XWe1cnQ5+5VTG7C0ojcbTRHzG2ZbjLIwUp5Vb4HDfSNzkOgyO9cGMPPwV4cuiY4KY3w9neFgfPVmHtxg0Y2nwQEzyLsCriT9iRRdaV5OsIgkHx4F1xNF+FZ2TkFqFHUyIy6NVcrnGHia4gsxyPIqnOQy2Z67yiMGdoFPoc/A2+LgzG0VpX9IwIwa39qGWmB7OZ4MgUNJD2d7P4d066HFqcK6w3PIPGymJ8ne0KK2ql5zRT5uEXR2/nE5R6RCj3iRO+0/Hk6jwm6qkOdvx5WgxGsqHSes1TaCZQa6RsIyn0EegcqfGmIwBd2uC8/ikwRwRnNP4IHn0/PNw8kFDphIUEfyK7EPb0j1OiyZ+bVRS6aIJvjQ+ATdUZWG+nswUnBsp32vdH32kJbdFwvFuCXC4xUE9wBUE+RywBJXDFlUy5uHaYOIEQCYimPFM1OeYbHQmyqcf+sTFUmN1gN3sF/uQ7ZhmP0lgnJcywBLwYKVWZXvstWXYGn3jHqglG6/2S8SfyKnH1SD5yADvSufLACdTc/r6I0NPBpctwTl7YFMrKITj+dC0bInnNZw/rjm7d45V7RUpBrdKEPzx1KH2ZIwhsG5CbX4APD9cwjdHAwBkdhoUz+ISBJNK099L788kQ6xg004wnbxoDL78gHGfDY3ZeAeJ79eEqlStOn6Iun4mYosWurarE37/+QWmsGwxmPHf/baiprsRHC5eglhOhO8f0QVS33mrMWpxLKsqK8O6iNaCEHT38HTB75s1IPXoQX+9IUccys184ZRktoSpi0aejR3Edt/0lVwgknfAO+kP7OeqwaOliJPP4msi6j4/1QZ++QxQovBpf99bD4ErZaUnkk/vKf0tdyE7LPVv8+0VG1B7faZHCfffdd5g3b95/yyH/LPvZCaA7AfTPMrCudKOdAPr6AWhhdEXvLJo3SeEbMGBAhzEnAl6F5ZAmxI4oAQ7CmEiDzuVK6TnZdCigW5IF22LUDxw4oIJj2qNVlO2JtlPAoXgeSxjF9zvZ1GUuwK2BZSiIvgvvJOtUnLIAg2fHScywCakHt8AhZwfPQTeUhc+kzrhagTpxTJBgio930OmghilzdHN4YFAgjmbkY0VKCQI0JXi0cR6carNRaR8MJ69gBXxSgm7HJ5nuSokwtiu9gKmzFYeFg9SMOhL8PDEqFF/vz1FSAy0jwv8xpQu8vbzx+R4yxASVvXwoqdicR9cGOikQyA+1TcerVvOwg0rsD2pGwFVTg/fsPobO3gUbdMNg3/1GjIiPRVPySvx1XTp9kK2pr3bC83dPhz59LTadMaDKdwDG9Qo75zWtrg0Z1PfXH8FXx0UMYsKTDptwF9P0TC5BlH90RbKR2lcnShnghr9vSEeElwP+MbNbi9MC31ubmYAVJX4IDemCHj4257yVbcqOw9dcBOuYCXAK6KqAtwDQ749Qb84JjTSiSTCH2NpV1TMKnUB27mB6Z5dsxNnEtTjd5IlYjh+PwXfR5WInrA59DDOlJYYRz6kwE5m0aLMJPNnQafaK+ckwExtBSTHUkc233spUQcpBmrsMQzMbKKXE+u1DWrU1UTs9JtpTXR9LyQqKfMdkhedcgxkZ8d2HErD8lBFaO2eMjHDDxBAzGm29VEOp2MaJ53Lr0pSlY8nCeUipc0ONtRuG0wHDwyuAPuNFSM0rRa+IQAwfNpaTzTIYDUb+jul8bC5d8PXHSK0kRc9o7oenDIU/Ae+nBD4ppXTbMbBRtUsgmziBN+kbLtVcX4Vliz5DYrkefm7OeGD2TajKTsLbK/erdEQ/Nwc8dncLW1xeUqj03Z7efjh8aDcOU488uEcUQiO6YeO6FdhztgYu9ACX0JX7br9NXbOdZPjleg9momB5cT7KSosRyqZAva0d9uzeipWHyTBzzI6O8cXYsRMpk9qL7/eyIZVBMvfcNI0+1+c3ue3auQVrk7KVfd8tw+haQ/tDmbAIgJYJmPzIpOVqGqIvBNSWiXRr/bSFnRZ3n/8mAH3hIJcJQFBQkLp3X8hOt3Uf3bp1K1fkNuPtt9++3G35//TvOwF0J4D+RQzwTgB9fQC0gFFpqpOGF1lKvhJA2Z6BIg8vYaFjYn4KRNrz/gtf097tyUNNGmGkZJn8Yt318qBoj1xFtpeVkYb56/fQz4D60MnDVJOUpiAJ1vvehZkx29W2/nijicvktYwuts7GrXFO2NAYy5Q40QHTb5iWcjH0z5Wl/FpKAATsFhSX4NOtaWRt3XH7wBDFWAojnVPegNrSHNxb/wXCdMU46jwC2T43oF8XdwQFhzBJr1Z5EIuuVwImXtt4mo12JiUteHh4CN7akoFdZCelAe4+Nmk9NiJUSWmsGSP92+RgbK0PJ7urU24fwx2y8br7D6gVX9/qsSqh8AZdIia6UW/OgA9T+FgiKYPyt168chmScqq5tO+MmVNnMHykCgsO5KgJw4BQN8yk5VjremtLupIFaMzNeLCfO+b2dkaTgz+OHktWUhp5SF+sHl14FIfY9CYNbR/d3uNceInFW1kmZ/Jwl1UFi7dy64nQRsaYb2W8uAO1BY9ROmFdk4fXFm0EbY7hEtILv50aD/2GZ1HNCaSZx+ww4ina10VBv+IRtb9mMspN0z6iVrptJwVNUSqsd/+TFL0Ndhq5+mB9Awb5a9AlZxXm5wfB2icKUf4e5xr6ZDIn37cLtbHa9I04sWcN5pd34+d3xczBcdQku/G85bCJr0pZFz41OkwBabEfbCaDbpP0JXJOHMTnuUFwdHLBXXRAcKZ05OVPvuNY11CCY40b4yMQ1CUcJgaw1NAjOcZwHM3p23Cg3BEeMUMQO+o2+ouX4W9frYCnvQ47SxzhRd/mWT19UJm+H9kM7cmqt2USeRXucj2K+DG3wCpkAKq+fxqvp9Najr7cwT5eeOiee5F5+jg+37Bfsd23DY8j291XXVaRTsnyfoCfNxZu2IVqssbThU3uP4yOJQXYfoquMXzPHf0DyM7TVYTHJy4h7g6MtmcE+oYtm9X/jR85WvUZvPfF12qMV3HV5+4xvRHFhsQMyjwSU9PQs2sUwhkrnplxgvZx9ue8vWU/RDJlmXz/JHr9GlfbLmSn5d/SRNi3b1913+koZ4+ruV9e7XtaM+jt0U6vWrVKXedXXuEKz2Vq3bp1eOoprjBxJe/+++/H7373u/PeIfepu+66S1mMSr+KMNtX0/Nyuf34OX7fCaA7AfTPMa6ueJudALrtUyY3Z9GuXWtZ2FkBt8LOWtgwuWnFxsa2HUF8FR9aUVEBafyTbXZEtWd7cgMWRl0AmsghLsU2Xe54LfpHOe8STiGSC3ngj+rqgzFkxDKO7saBHWvQ06ECsYMnojx4PCr2fonQir10NzDje89HsKvEnjLhJtxB0rwHH/JfJ5YihYluIQ7N6Ota/xN2fPOJYmxKzYddQQKectpEua4H/ooHUFnXRLeFJkwLNtJmzB0OLozV5vK0s70NG96qaauWhjBnM6YOiadFXTmeW04fZlsdBvlp8NykbtT4Uqe66jF839gfb+bFopKBJyLleC7gCIJqkpDiMhqfHyyEXX0BguiM8bDvSRjGMFiETXZWyYuV5MIw7FnUNzYQoLCpkMyvNNpJMMbBrHJ1nt++OQ59qJu1lHgTz2PIh4B8aUqTeGe5NpJmebk0ydmfHEJ6SZ167z/JTA8Jd//JEJLrIyDaAo70zbUIbkqDg38MrMOHMUK6SUV2O/BH7Oz+ueG00rY62unxu3ERyE9YjY93MyZaa4M5UWzupDe3jn7aGoJOM5MBm6a+1+KH3VYRyOpS6dddegaPZA2nhtQJNcXZeMVtFXYzfbHIayCmjB4BL0e9kmzI97b1ZE7kJhJM0rN6ByIL1yCj3gGNXWcgrM8YNmTuwztrGT9u5YsGtyhOikIpAbHBd8vE37kWowOBiWBoD/XixuHPKqtBYcM/SGzAGYMb7fDc8dDsGWxyzcH8DXvZSMhGSLsy3O/OCR+15I39GU/u35tuGlZYQ5u5A2dKMaKrL0aOHIfUXcvxFZMNyzSuOEubvgibCnSzKcOwuC70DI9ATO4PSD+bjZwmR8ROeQKu/hG0w9uM1UmMf+aEbFCYByZPnIrU5MP4Yes+Ngu646ZpM6icMaKBQSsuri3hHBuOF/GHk0v+/Z6BbPSkxtoyaXCj3vzJUWGqgbB17duzDasSM6lz19J+cSqj6m3xymffqZdIUM7v72mxr5MGysqKMjZYhiu5R+uS6y/3ERkzMiG3RK/LJOxafZsFFEqvhZARYrUpn6X2rZ3a6Y64R3bENi4lQWmtnf7iiy/U2JbvszS6vvrqq5f8eDk/shq5ceNGdX6EpV+4cKH6Xljq/fffV+fwww8/xLfffqsaEwVE/zdUJ4C+9FXq1EBfp1HcCaAv8szuAAAtNzFJypLlRmGGWzMk4lIhNziLNvNaL7do6cQLWli3jijZnsTMikNIWyW/t3iwtidFS5gikYO0dbytwbOAw9zsdHy2dhd5WKa7TR4OH79g/Pnjr5U8wUD299m7Z8KJwKVk93w0nE1EqE0NKgb8BhsLHOByYhFG255AvVs0/lgxCXpjLcGdEW/c1le5YghLLYEVE2O9FTOdm3MWbvv/BlcHW1SwGesV7UPQ0nHCviQJLwQeQVLIffj4aCNDLRoxLcoO8U7lCEj9SC1diwtGpd9wvEuHhaqyQgy2Po2Z/iVomvAmrPe8zmjuw8j1GQ390MfgUn0a+s1M3KMOuC52NpZl2aCgrAozfIrIXorLxjTYLJhGmzUf5bbRNPlftJf7N2ss5+j1TekqKU6ggrhdvDUtGA8tOIJqoxXevLXPOUAtSXyyKiCTqfa4uwg4f2drOro6N+GRURGUN7Qd6tJ6HGi2/Bnm7P3UwDbjRNhc2AT0UOy0PNwF8KezCe1UMVcIqEWWJMHdlBAsp0zApjYX/Rp242anVKR7jsTqLC2CfL0xfvItPwFgF447OQevrj+l7N88UIm/2nzJBkh6g9Nar9kzRn3XbG1tz4uJF2nPX9cSVPNPcZV4wXcv7Gz0qIiYhRqzHsG7fkfwao91RW4I6jMBo/rGKYnEa9+tY6S5DoV1zfjz3KkEZjrsSTiEmroGjG7eBau6ImTWWcNz9JNwCYpFbtZpjoNd0HN/hKG+LcYGWUXlWH2WMiN+/++ZOJQSi1arQ/XlKPnhGbyTQ2cP+lIX2neFCydh8XaFOFlG7bG4c4yIRlcXo7IZrNO7qUa9qopSfLOK7D7vLXdMGAWt3h6ffPsd6piq2NCswf1jeyOSbHFJUT7vB+lkFEPh4unHRsBKxbDLSorIk15ek6ZWHCQ2/Wmy7r6Ue6zdsAbJZ0sxLj4KvfoMUo2QNpR46AmeRQ/9+vxvUdHI42Mz72/unY066q3fWbwW7P3EEE4QpXnyUiWMtKwMCKC+0PHkSthjua9aJu4Wn/q2tNMyXizM9JVsvyPun+3dRns13HJ8smr58ccfK9ZdJsVjx47FpEmT0L9//5/0luzdu1e5daxfv17tigVw//73vz+3a+PHj1evkeZuWW3y9fWFrDZdq+ymvcd+La/rBNCdAPpaxk+HvbcTQP88ALq+vl7d5CXJry0vZQGf4phxYbPd1V5YaXiSVCthuTuiZElY0g1FdnFhXU3cuIUNvdDvVB5ydbXV+Hb5SuWgcPPIeC4Pxym3CinRaMpy+huff42iWhOdA4Bf33UTfZWt8D79eJurizA5yhEjBjJspK5EJdmZbZ1haqjB30x3M57bCqNiA1RinnjkLkqgXpkAQhIJp/bwRRPlGVkJ6+BTeQSucRNwTENrwcQdGFJD5samDittp2BbQ6SylhupPYqhdpnIIjDZbohCNLXEN5h2soGvEBUGHXw9PGksQTnCOPpP0wHD6sD7yhGjWaQZfL8VWVQByNKAZhj+7weZHKfu0DxYH/5Mva65y0gYJr7xE0nD25SLfEyWWSrMyx7xlK8sy3OFjpB6cIg93rmbTDB16JaJ1HksH4G7VuzvKJcwBXDZ/4I4cSvay+nO0k2EjXlNk6ivZBjMpUpYWC2t9gQsN476E0qtfNTD90BGKebTOs2VfsFvzYqFv4ej8h4uJ6v/+bbjaMzYhQc0yxHgosfrNeNQYnZW9m8PTRygNLwSKiKA3pFMdgwnCcKKn6vaEjSUZCFDE4xAb1e4NBbweHQw2HmryZwA+Au/ayJLeHXdacoRDNQAW+H3EyKUNOFd6raFtZ+gP4oJjfTU5aShaTR9t8Vzm2Dx88VLkFlmUBKam26knp6NhPO3pyqd8LAgPWaEGmFyj6I9oQ/sGWctbO+uXVtoD1eKMYP6KdnRpo1rsfl4vkoTjPO0QiQBtLXWhFOUmHTxccWwku9RVG9SkeyeM16FiQ2WGzesxD4G7wihescwJjf2GYj1G1bTSaOYPth63DXrJjLbLVIX+R6q3gNqmndllMGWzhqPzxwHFzZ7/lPAboMZrnzpb++9Tb3HaDRwIkgXGOqZxXd6XUoxz7EjpvF7UMrI8TcXbyKIp86d8o8/PXqP+t4dT01kM2Ud7wN96SJShoz00wjjfcuLk1rxt5637iCbGNlwysnoU3T0kMnHN2s2qsbF2yaOZshRQJvDSECw6H4FTMufMlYt2mmZBF2sBOgJ+SCNd5fyzf+5fKc74t7aehvtBdCW93zwM347AAAgAElEQVTwwQcq1OaWW27Bpk2bIDINOdbPPuO9o1UtWbJE/e6TTz5R//vVV18pL35x8LCUyAnlNZZJiLDb8pr2ECIdfR6udHudAPrSZ6yTgb7SEXWVr+8E0G2fOAF2TbSDupqSB4IwgLJcphi5NkrYMnkIyM2wI0q0h7LN+Pj4jtgcm/jqlWZbGv8sJedEfEjl+ARYt6ch0PJe0e2JzKM1I2px2jjOJegvth5TD2JfNi09dOcc1JLdSjxyCO6uLowl7qP8btPTTyE4MFi5Ewij9hU1wTYEDaJ3lkCLY1ymX7ptP0KM6ejjawuvnhPg5umtmDdhVVLZVPgZG/xkCXpaDx+CaE/6D2cjmV7NAth+NTaMgRK0oGPjmPXu1/kqM7LD52DeEboplJ7CQ37p8EMpniu5QbHhVVoXPNf0DryashhW4oWd1oPhFNQdN9ifgl3RYTpFnGmxa6NMQUPbOQ1TEM30RG6a9TXjuM/369avfkJFb4PMpGEU/af9fjpxSeLxPbU4WYGTYZRZbE5lMx89qPUw4rmhzugf4a9AbFtR8Mr27+gCHhPDUBhgYgoect440S+9R9nOaZpqOAH4G907LtOMSjCrO7maxxHMCcHIcw4Wz3y9E4ep3W40W6Ortw3lBM0YFKjHzYNj4Z78mZJMaDjREQ3yd3ke2N8QBDtKHZ64eQLsXLzw1zXH6ZFcgWqm3NlTOP67CZEYF+OtUh/tN3PSwUhzM+O/DSPZiMiyyIhkbPkwkVJKtO8nCmrU37v6MsaaHshy7aN9HBlaYqdix2UcyDX3pAb48Z5aFf3+3bFKJWWYTVs5G50Z1ZQmiFWcrEicXP4PfHKGzil6Z4xho93ECVOwffsGrD2ax9cCj80YTTu9ltAhGdfL6fGccCoHtfkn4cyY9XsnDFJOHO/O/xJnKw2qCXB2Vzt0c6MGPGQgreg0bDTswpjtWmzavp3SFxuMGjlWsb8vvDefKZNaFHIC+atZLZ+zacMqAvFcTBo7EoFB4comz9nVDe6evioC/C+fLiL7Skk9gfjz996svNQ/XLwcJXUmarZDMHBwq9Ae7nNDXS3e/eZ7lNY3M3TGDnfdcitOHk/CvA2JTFcExkS6Y/Kkaer4xP3DSm/NFQNrLFu9EtklNZg2pDcimHy4dcsGrEuWSSo1//x+yXm6XKlJNNlpAdPyIyBZJFMC5ESiYWGPLf7yMkmyXOvLbVuNB55ry73mlyb1uFIA/frrr0PyA+64445LHnongG7PyPi/+5pOAH2drm0ngG77RF8tgJbOf/FkFib4UkyKgFNZhpPmjY4oAfvC8nZUR7oAE7HbswByYYzk39IZLlKMK10SvXDCYCZQ1Oz/UAWFFHS5Ee+tO8RmPWBcrC9Gj56AhUsWISG3VkklHp0yWMUIyzK8pM2JblMa+b6ndVpFeSlucU6GT3AU/p7qhsqaOuQWl+PpG6LRM9QXaQRLZysayCS6qLAI8d41sOFPgJU05LUs77PZkE4FT48ms+Zogy/3n0VmMX2Cu7uhX9JzMOckENzWQefKcBJa2r1u+xhT98xwQj3+YPoIlQQUv629A0nVLtRjm3CX1WY84pEI2/pCwMkXzT1mE2yuoY8uPYoD+6Oo769V/Lakuz0yrItyChF22CrhU5joRmEc8OhP9cCyHE2GOKOgHGUetKXLzsPbu4sJFjWI99Hi6WF0deA1ulgjpy7le5ViqGLAJYCFEd2tS5tJl4zE+QT8PdDcjTZ5tMOD9RV6+5JpXfcpg0aKuaRM2BXi74uYugTk1uvwUIwReVWSFFgNX30NJjpnwdbZAxmVWjiN/4NiKiuyjuGFpQk4UuulZA32BLjBPDc96WFcX1eDh5rmI8yxWTUeNk37EHXlhaha/yq8nKxgNfSpc5KXg1xp+PZQnjrWW/r6Y0BIi6xEQKKe7CYVPPiG2mPxmb6ljz8iCayXJObhIIG7gWDrFgLogUwErOSAFPeWoNoUBKd8gKM1Lqhl3HuPGb9VKyOf0Is3m2E9onu+a0Qs4nr2U44WK5LyccLgTQ9oelpTQ/zypFDY2bf4Yc//diGSC+lJzoH9wISBbNzTYOG6LShr0qKLiw733jyLumpaMbay+luzbhUjuksQ5m6Ne8hApybTcWVbkpKiSKT2Mw/Qg5slSYVNZM8l8OV02jEkpJ5En5hIWtn1UmD4s42JfL2GkwQNnr73LtSx4XHD1k18pwbjR4/hZMdEAJtPi7wuCrinHD2Ez7cmK3e/AcFOmDWdn30sAV9vP8bQInpRT2+x2mtdp44fxeebDysHnTkjxdKvpcnxSsrSvCpgWuRIkqIpQFruqwIer5Uh/aWw07IfEgQjTZDtrb/85S9KcjF9+vRLvqVTwtHeM/p/83WdAPo6XddOAN0xANriRiF/ivb0cv7OIrcQ9vlyDV7tHQYCcCVUQKzxOqKE7RGtnejrhN22LJteys3hUp8rgQHCGgkjL+fo4IoPcSw9G6NcSxARP5JNgePIOlepjn4Jg/iSTS0pRYx05sP94Ql9ERjWDe8yKCOPYHgwrcRm0kJNypruDhqyoQqcOD+MTRn1CPZwwK/72aDBKRSvbc0iSDEjxN1ONUtJVRAYiT2aMJCnCJDWphYhigmA47t5qWY6sUYT/2FbBow8X/IMGkqzsNPQDQ7O7uhz63Oos/FRr/OnttfTqg4nGB/98lZ6YBOcW5saMNUmCbO1m/Gebg5BdzDm9PVBuG0lnM0MEKGP86aMOiw8mMvgDQ2jm91wNxu7LleSTJi/8R0UG23Rg3r6esoe/pRgi3Lqn++OMsG723AVetOWflFcLDTlGfTHZty3rRP11lMv6nihS1qgmGqzLSUNkynlsG9pRLOUsLvyc2EktPq92A6uehz5pZWwtrHBEqc7kXaKzjMOVRjtWYW5OZNRWtMAN+tm3G67B7c6HILZOw6aMS/AviaT8pvfY28+8LFpKpIaA7ha4UJHEAJPPg1sKeXoYZ2FOfYHUBQyDavynWGdvQu3m1cz6NABzZyYNPd/RHlPbzt4GCszzGT77TDN5jDGNW/DVnM/rMixZ+KjFR68deZ5wR+asgwc3PgtFpfTQ90rGg+NiFAuLeKwks3wG3s04HkG6zgzAL2xO4FnyAg6jlgpt5hFW/bBm5Ou2dOmqknli/O+U4E9O8rdEUDnjH5M7ZvKaPJCrgwU24WijvKRAONZBNEtQyQr0oT36oLVoKIF5TRnvmNEPCpr67GryAoNGhvcMyRM7YuAXVsCyfT0DFSWFzO45aTycg53s8YjdzGu/HQKPl57AM2cUM3s1wUDB40877rV1lRh3uJlSgY1o18Y+jGCe/OWdVhDhw6pKYxDHzV6nJJ5ZKafgKsb9ewMLNpJWUoN92fEsOEqCVT8rdOobZfJ7s0DwtF/4DB1HrbuP4yIQB8MGTISJZSUyFjw8mUH5jWWEBnSgGiZvMt9VUgHAdHt8U2+3MfLvaj1j+X11xoxfrnPld/LREGkRxIE0976wx/+gKlTp2LcuHGXfItsW3psxPJOVjqFWJHwldZN5u+9955y9LA0ES5duhSLFi1q7678R1/XKeG49OnvBNDXaXh2Aui2T/SVMNDC1grAFIB4OTcKy6eJvliYFWnc6IiS/RXWYfDgwR2xOWV9JMuL0vwoDy/5U5ZVr7bS0tLU++WntLgA/1ywArZNZXzOsqFp9lBKCgbxQXyCm9cotrmSzVK79+2Fl7sL+tGKq4Cpgq+xiU6cFqpI+b1yY4xye1i1+DNY17Pxye4EMiPvhWdgGLwPvQaH5mrk+Y7GPwrjlWQjwNWWDHM4nRWqGAqRwwYqDR4Z4o9AOnSAYNESoiHbfHsLfY3555hoL0xyPIkVa1ZgS20opQNReCCEXtf1B1AfdyuKXXvCk/sjtexIAVYzoMOvLg2/cd6EpZVRyPYYhhqNI6Z2dYK3thZp+RUoYJR0kI8b1pyqVVZkYrknbOe5YgOhNi+BfskBSqpgqTOph/D4crpY8Hz18jRhWJQ3JhTOQyOZ2drBz8KHTihi02b26a5AuqU0FVkqaEXYb7PeSQWrGHvdRTeJthMr9cvupy6CkeGUkxhG/VGlGFpKdMyvrDulEgMfG9HlPBeQcy+qL6M2OklJQIx6F9RtehWutQSoDGl5dq+1mrzYUZrx1FBvTPUpRxFTH4vKq+GUvwdhhWvpTJIHDdMTy0f8BYVWgXA4uRTv50ejwSUM9wyixzTlOm+tT0FSVglXFKzwtNUSROpLUR13J/I9hyCI1nY4sQprqhkgQ8eMKeULYOsXjZdT2ZzpEkiJgglPdGPCJm2ND7lPYViODiOqViC0ioEl9Wz4632HmoyAaYl/XpaIBp0jDDpbPDucQRfaRryf2EjbuQY12RJpSesSzfD7DP3JrjDCnlKgG0bfAF+rasZ470Q+Y8cL4Aof+oRPoF/1TXFuasiJz/nmLetxKKMII+NEWjGS9oWVmEfPcg3j2l2tmjA9yh7OtBBMYaiKHZnvseOnoCAnC/mF+YjuGquA7YG92/HdfgbYUHrSN8hZscUChL/ZTE2rgxXm3MgmVb7XSHcWS2rggX0t75GH7a0DWwJUJO1w95kq+pYDT908XnlNty7xZP9icwIcGN7y4IzxcKfv9asfz1e66UY2Mf7qppFqEmyJGA+hbMWerilXWyLtEJApaX1COMjEXgC1sNOXsla8ms+zyDssEeNyT7WUhRC50pW3S+2HPDdkJbKtPpOLvU9s6e677z5OVM6XYLX1+jVr1uDpp59W9/K5c+fiueeew4svvqgY72nTpili5M4771REidyXxYnjSpNnr+Y8d8R7OgH0pc9iJ4DuiFHWjm10AuiLnyS5wV2uxKZJ5Alyg78SOYY4XIiGWNiBjiqJy+4oAC0Pjx07dijJhtzgr9UtRCyYhDGSc1RfW4PXvl7KMA4jAh3NeJI39yOH9+GbvSeVR9YcNk/1pAtA65JmMAG+ol+dHOfNyGcvFcm8OTkHdaW5uCHMHrMmjkV9Xiqyt36qgLEbP+9wzG+RxfjtgSHO8DLk4ttTWhwpoKsGl7pnN6/GMKtUHPS9FTuM4gnsSo9ld9Q3GSgVaaY0wEYxussYnrKNPrqayhw8XP8hYl1NeK9uDE56jEGkC32Xh4dDS9CniimIOLESe+uDsbTIH/aaBjzqnw6dd1e8dpSsYmOTspibGEhXCLJpAT5k0miVF+TV0rQnzXzaomSlRzZGTYY5eLCSJmxNK8Krq5LpekFrMLLOYhnXx60BL02OhJtvCKzX/o+yz5P3Nd3wN4DNilLCPuu3/JESlBpqsHMUcDa5hsIg7HIbJSBcpR66dlHNkBIjLrps2Lljd0Y53t9xhuBJh1Cyor+nPvmyJSBEjoUw7T027iVkVxJ8EkByBUGi0S3VXFcO44632ENZggxP2st5RSLy7LdwrM9RzisNA5+CXUhfZdX4xd5MFDSzwZDvf7qfA/zsjHgzEchnE2pYbRKetl8PbQP3mdplDQE9CIDXO03H6hIf+Ovr8JTLLtRqHfBy9VToPCOgp2/1K7ZfMiTRmtrqF1qs6uiYkl1QhO313I9RtyM+3F+lL769NYM+0S0Soj9N6aqux3quYDTwz0l0drEyNyGf4NbHLxB2Dk4KxL63ah/KjHTlMLrBjxOdQb4m5KYnUydsxk2jBrGZOPy8YJxCHse/+DnyGZO7e6N/gD2WfL8Q+wuoUecJm97Tj8l/g+FKWUMNg4EcHF04karDYgImCU25edxIxf5+SsbxTHkT6shU3z0sht+pAShms2ByagrCqRkPpPvLiZQjavLYtVtPMug6/OvzL5VOWt7z0Ph4RFLXvIFNjDtoKzkk3BMTxk1SLLW81mJb9/GCBUgraYI9V1R+fdtkylUc8NoXEjEOhDgzYvzulojxKy2Lt/XF3GTkHiVuQBZrRdm+pRFRmpWv1U3iQnZaPs8SLX65iPH2HKv0mZw+ffqiTkdtbePBBx/EM888c15vSns+6//aazoB9KWvaCeAvk4jvhNAX/xEXw5Ay8PcknZ2pQDz7Fk2lPGG3JZDx9Ve+o4C0LJfcmOXDv+RI0deczyvbO94ciL2kdEOCQxQUcdMEUF+fi7CIqIVg7aRD+l19KsVBnoSo4HF+3krmbkNKXnoHUhG7cbp6qHdOpZ4+4kCfLb9JMG9HR4ZHYXu/s60ejuN/Kw0uJrK8ezUftD7dVVuAlb732cD215kaQPxgdUcONSexWNVb8CRjWvPlk6CbUg/ug1U4RXzO3CqOI4Mv0mo6PMEugZ6KiCz93QRXA68gcF127l0bsSz1r9jSps1isgCvhq0D8YJr+P7tEacpn3bHmppbcmy/nFiJPwO/R0vZ8WirNkGDt6hcHO0J/jV4YVJ0fjh8Fm8vvmMakK7u5sOQyN9EJH8JmxLqTslq25yJ0B19FauGPVsFfwL9dpJDPworSWbTKlCP4aAvHNri+uK9eYXlUxDdMvSBCiAV5X44qathIasti5nvzq/0kBoGPn8xYcZt93i0sGY8C0vQZt/GM1Bg7DA4W56UdNrmk2Zvx8fgVFk6H+OsgCj5gOfwjZzE4NWrJEY/SuCZhcEOZgQ0y2WKZM1KvAkivpl0cW/tJorHNTGl1Mz+w8fukCQqV9IN5Aiox1uD6uH/5TnKBGqhl11Bmz3vUnrPx3+3DAbNfaBlOLY4Jl+7GBlOiIcWo5Jv/xB9f3UMP3QMP6fdE/xhuzPh0fo/2wbh/H943BDjBd2M0Tnu4Rc1TQ3hmmVU7tT886lhUxO2kQG5GFvxZWh7cgppg8y49WtHV3RdGY/9tKtpNBgh3KdJ3y9vfDchCgEU2ZkKbGXE5cQb7LHwsCeSk/DgbwmtWohITrefiHYs28nkkrMCHDU4qFbb6ITyPkNyzt3bMKKIzlKr/z4jFHw9g3C3+Z9hRK6c8iY+8NdNzI0xU25jtTQss7V3ZsOMyexfMcByqC4cjJpqooff2He9/Cy16C4jrKhe2dQyuSiIsbzCksQ37uPcvg4dTIVfj6+8CH7LHHhr3y9Bk48pQLE//IIpUwXeERfbtwIMJaVL7HRvNC552LvlT4Qi02egG+ZsFuCfzoqYtwCqi9kp6+GmZZ9lOdHa2/my52XOXPm4LXXXlNa8P/P1QmgOwH0L2L8dwLoi18GuSG3vlFaXik3UZEkCMAWK6CruTlLQ4y8X6zsOqo6AkCLdk50cTIhEGanPUuF5/ZfmEphLOk0YSk5fwaex79/ugBl9FnWEpTNGd6TWlAm7jE4w4nsa2SwHxrrq7F03UZlMTdjwjg4MPXtd+9+BU9urqgO+N1t4+Hh6YOEg7tRwYdrXGwPZJzJhpVnCNzdXBHuaU/QZMYfljEdjeC1hkzcC5OioDPU4JMlK1FKe617fTMRY1eBpuHPwXrn3+mscRJmShX+4v0aCnT+8Kg5iRdq/oocowveNMyAwac3xvWJxKQ4srlkUXUbn4eWzhpyfEtDXsTu3Zsxwi4DN1Jnuzf2JXyR7kDv41qUUepgT3Z0di96TactxvcVkXCh7tctIBoTewYooC/eyLM+Poiz5S12fTN6+TI90BVuK++FFRlRGyO9oL3odGJPCcHUD2iv1sJwZ+fk0YItA820mXt6DBPw2GSnqq6UQPeIYk/N7uFtDilN8XGy0HmUeJDdp3/wZYvsrc2SO9V1Eib3f1z/RfbZjKJKNk9O7QVfHsMBBrtkltZjJB0XLozBvuj2OU6sd7yqGHPD0N9edH/FM1tbmIzTNXpqzEtUE2mMu44Jfl4tUdEcI1aU4timLMGmU+XYpe2Lkd3D6P7gwYlGBeZvZaOdqQ5dQkLx4Chhi+kffOwo7BsKEBfogRyHWDpiNKErQbirWMC0Kk3BMVhx4pHuFI+vC9lcalWP+8pe5/Vw5uoFNfQ3fYQShsfsO1MGSWKUxX4BtiOjPLGSDhxb0kpgw3H4v+ydBXjU1/a118RdiSfEIQR3d3cpDqWlUApUkFuHKnUvLW2p0UKR4u4S3CXBQoS4u+sk39onDDdQoKSl8r9fzn14LiWTmfn5Ovus/a65PX1V3Hn1EU9m9HfbjuBSgTWDMZ24f00wheE38rvVR2ZeIfafDEarAC842Jgj6FAQLRzG6NKlB+85hnj1qyX06Vcijb7mwY1dGPhTh/aoBK645KFn62aqepzMxkKF2bN1UBPJBYuX0m7B05mC/+WHB7HR2QyLlq9BYn4FujDme8igW5vTBMG3ePlKRGaWw8vGADMmjEVqchw+WXdQRZHXtzfE9IeriBD5udmcPDB8iL0CR+mdPhORiB7N6qEJUXw1GbKqJ9YGocnUtDBR/b4jDYi6EJfq3mmxzj2o6rQuZlz3uTXxTosFJSmJNhw2Zd/vGDFiBH766acHunJ5v5/9b3pdrYC+99GorUD/TWdrrYC++46+k4DW0S7EiiDi94/eiJOTk1nxLFDJUg9q/FkBLUuK4uUWH7fwq2vyfprIfdA//zP9xIwJ7vEqKk3tbzbnSBX0bVa+aGNWS9AvTRwILdPnPtodhsxc2iuc2Hhpp6dEkTRV6pZfl/26CsHJxXC31MOTE8cgisvhX+8iVotCoJ55KSZPfLhK6BcwOZBNXYIgC0nIQVBYBlraFKCTSyUjsPOx9EgYLFjD9UASpnd0Q6b3EJxc+wkcNTlo7WKArF4fcam7HJ755+Bw5HWczzHHtxgBffcWaFzXXqW3CTZv+YlouBsV4PHuDIQhQUITvgdGJz5Dhb0/rrV4BYuOJiM1t1hVHy3oge1hnYio1FyEFLGKTctAC1aMPxvJKiQruNKE9wmr5WtJEpHQjC/GNGbEsrVqwhP8XQnF3gske5wqcEY/f3OMbemmPIuFPGcaN2pIjNidY6+lwW/rxRTFXR7Vwu03CXO3nGtEwxmc/VY13pW3elwdu1sG38twy0zoR+2nYLfHPOMXEZJSgo4mMZjdvS6S6w5mtHmkqr66WJvi2d5V53JKQrRasne04/uVcYJww06ie2/9cCL1TkryIDF39GuLiL7bEIGy7egFbIksJzPdHPUcTDHWqwgnE8sVds5CQzFvsJxWIJ5b1m4ok+o7R1J8NBYeY2CHngktP1zRYHV4674D2HOBdhrK3Wnd6iGgZVc1QRYutHllPoxP8TsROVje9klUWrqq91l8OAZRGYxzLy4lv3ojWuiFI8WhA4JsRmA9j51U6Vt62qA7xW8jToyE7CK8bmGaF5WVY1onLwSSZ72X6ZqHrqWgox9tEI1cGdudhWtGDbHoWKqiw8i+syU7Wzdy8wswb+1ZaA0t4ONkpYS4TC6rj6ADu7AtJAl+FLGTRz+EXBJp3lmxE4YkoJRzsvFonw5woGWknEz0IqLtJH47KS4ap0jraeDrjYCGzRkAE4lPNx6CvWkV/3nBk5MVg33b7h0qkXMIMXkS7Z2ekog6Tq6KzlH1O4dVNdzX1gBPPjJRYfS+3nKUDbtMO+wh9I0/htMUf7PYvX6PYlTTe6YUK3SYPPFVi59a7jfi/f29hu/f+ywdJu/26rTO5nG36rSOg12TanK/fv0g3mahkvz/PGoFdK2A/lec/7UC+v4FtFQMpDor3c1/lp4hvF65gcp7PahRE8F7+2fq2NXiN9SxqWvyfvpc6kdeiqoqlneYhRKHJkRnhfC9bFWoRFJ8FM4EX0R9b09itZqqRqkfj5PFS+HrzCX06R09lB9z9/GzTDrTQ4e2fPhTTGspaOzZyCQP7mtXgrFoxxk2xVSQXmGFiaPGsNKXRi90Ct9HH3MoMuy4rC++X8PDFFIU2ske/fH5OfpAyzR4qE0VnWAJI22Dk4tUMt1TvRvCp0knJVilOc5JmwJtUQ42J1kjixb4oU2dFdruI4rdXGIPpIFxWidPJYquEskWymjvNl4kLrBJMZ7EhpLji+GQHAQ9z474NModJzLMkU7/qxGpFEaGRsp2oZIQA+ugdz1rhGVoEZmWzyCMLIzgZ7V2KGegyUmE6nnjyZ2MBKfYlrCXt9obQFuQgQaxy2FBsVfc7hmY1ev2G5zgdjYyvrk9TFXjB1M4Tmrngad/vajEzmeM//Z3pE3hxtC/+CvRdUv4X2RDNyQruOVjvzkVFT+aeLugAk+8ltadx6MUPS2j8XrDVCS0fRXvM7JbfMASyDGTMdi6wBEavTHd5gwCLfKIzXuM2LyeN99bkxbKVEZaSFitLGtNJrV/P/UzEbNROusDj6M0jAma0YmNtuEFxkjh5KR/zho4Zp/DspJuOGvajnSKfIwqWo22+qHIsm6EwhZPwEWbAJvgxcggsSSn2TS4BbRRE901jOc+xkREkuPwWAtbNO0+EmvPJeIIbRj19JPwVMn3Kq1S69UV2tZPVBE9Tp7F5ijSRYihm9XJGc6aTLx5vAwR6UWIIonFj/vTi9aL+f186e3Pg4GZtfLcyzkplJZRROJpSwownzYIey7MZPAce9c5CJb65bjkNBgJrv3QigLcsjRVWVXEQiJL+yfPhWBDAsNFLE3JxNbi3WENUMF47qXrNyIhtwzjuzZD/YbNiK0r5oSM5zwnLELaeP9n9hawwuxuqcGUh4YilNfMiqPXlAe9q5cZucxDbk5QZZ+LfeNnhsaEppdhcDNXdO3aB+e4yvPzkXAiGYFW7mYYN3K0CoOJDJOkR1MmZ/rjwpljiKeFoz0pPfZsJDx4YA82BccTzwe0ZBPjKDYxpiXHY/O+Q7C1NMGgfkwF5TV8ryECV5qrRTxL7PdfNXQR42L3EMEuvSg67/QfrXhX/673i8nTNULWpHGva9euKuykJgz+v2o//pPvWyugawX0P3n+3fzsWgF998MgD3BdZ7YstUnCmzTUyRLgnx1y45YkMaFbPKghglcYoTWtisfHx0P+3F71qYmA1sSfhj6T9yrNnVDa+QWs3bEbh6NY1eMDVdeZX30780vKVXVPQi4eaedOQWqFRUt/QUx2GWOKNTHoDvgAACAASURBVJjYwZf2DkckxLEaW1SAeg0as2JfxHjxMJiYmqEDO8ktbB3xKat9GaxA5/H9Hu/oqSKuDx45iJDgs+hnHYcGAaR1NBinwiUkZELGEnabS2Vb7CSz/BilbVyED4uHILHYCC3ot36k/W+xcgfCiA4LSVHVwsc6eOC7oGs4E5YAf4si2NCa8frQxpw85KBgxaPQmjnAoSQWgwrm43oG2c8Ur9ZGFXzoGcHT0Rp+tvrIigrGZy57kN5sJgZuKmfFkCKNYnnPM+0Y/KKPAm7PlF8uEPtWCj+rCrzYwwNeiGNE+Kco1RghT98el9wnKDGk44nLQ1UE4Yd7mNDISmBPH1M4VqRgVXRVQ5XQQF4ZymAcqWSKN/rcTzAIXqosKfktZmJtUQtYEb8gMec3q530AOtf3YQDifQMX3VmwmMuelnG4OVRXYiga4gIWlaSyFNuyv0mITRbt2/CftoppFFysPEF9HMrJh/bBhuySNBws8ewEeOUl12TR3xaOTGFbFbUEVBWnI5X/GYJx3l7oB8yY6+hjpsnvNycqrB5rGYbbXqcfmRnhKWRiGE6BSbGJni6uRGcwWqzfQO1olFxfjlsYneroI/yeoNg1G6Kslnl0pu7f/dGWBmUo0t/srnN7DB33WVi6IwUZu41g5/gpF+A/c5TEGHIAJfKY/CM3YB4rQ2Mu86FjXt95W+evzlUTbiEEe1tb4bJrR2wlwEikXkGSNN3YlWzDp7v46eCW2SI+Px62Qpcz9aiLs+1uTYHkUg/9/t5/VBq64tm5tmYWbSY+4HR8oFTcDVVyybBNjibVEyvdBatHfaK1CJc5u/3S+CQBk5meniGLGcRwGdOH+M+1aBV607IJEIuPiEWvn4BbE61R8iFk/jhwFUmIFbC24oBPC1bIZkrBIfDkhRn+/Hh/ZUA1vI7ii1ERjiZ0d9IgArP24ENHdC790DVj7AxOJmiuhIz+reEX/3Gt9y2pDnx2417uV8q8fjADhTZ9RTz+iIbdlnYxpSu0hh8dyuHLlVR7kHSuPx3Dll503mnZZVHUJsiqKWQ8CCr07KaohtyPYqAls/z8uI1cJ+jc+fOippR03v8fb79/5mX1QroWgH9rzhZawX0vQW03PRkSVHsFuLJ+yN+5zt9gvjzpJFQPNQPapw4cULxPu/3pi8VP/Fyy01cmnVu/72aCGjZhkqGoohwEz/ooqXLEcfgDEFbzejTFP584C5ft5YWgGJWdd3RuWsvVXGU1+rE2rpN63D4ep5Ccc0Z3pXLlPZ4b9kG5DKVzpEe1C7Nm6hwGu+iS3BM2AV9pwCc938KS8+kwp0V4KkU0NJ49fa2UFjkXye9QYv3xndWVb2IsEvq8+R75OfnsIpzDA6VmWidRjYurPFG7gDYeTZR1oePH2qolvVXszlMGNJjWrkx4phWD5pHxSby4/E4LGOFThqkPA2z0MbDAvMm9GcluYBpb1tQSaLEVP98vJXVk/9WCKOyPDzjeAFNzVgtd3gCcUkp6FQShLGO8ciz8EbfkK5c7tcqLvWup9tx+6uIBRk5BWQah6B9Q2+4ulD856fAaO/LRKzlo7zlFEaE91YUAlnNEAEgx09inNddzUceq5HPlS/G5TxzPJ8+UInUNx0OoA+r3pWuzVW10/AUvdUSHd5gOBZk91ECSR7M4h0X20P1IdaQDaSRiO9X9odMJGSIeP6GEyHxnU/v4oXy3DQs3baXNAotHq0TijpliZgfQeHJCijzHjFnbH8lrsT7Hc8/UsmXZjsZc9deUvaXYvrXB3tqYWTjhCCeD8LwnseGzG0XU3H54nmM0BxAs8asNjeaqCrwuv118/uShGJw/DOUlRQjxnM0Ugo1qmJnQb/9eaKwzbQ56O9WBAP3lth0KR37aflpwGCdaY30kJxdiA/OlNGKoQeH7GC8ZrWNCphs5CazUerUDF459K2f20m/dVs0adsdga7WrMxewpfbzyCjwgLRxaxIuzqhm68VrDNDVLjNoF592GhHkU7vsKOjM8zYGBmVmo2Pk5pSMxvBvywUc4w3IjyzEp9ntSM0xBIzB7YhJ7rhLccgPTUJn6/ZpTzMMsnp1XuASv5bf0FCY4DxbT3RvmN35XUWjJzZjfCWddu2Ij2vGA/17KhWg1ZvWMO48Fwldju46nMS3xQmPK/jKLw9aN0S+4XEdIuwDGAIizQArmCw0Zn4QhVC83AHH/Kfu+DUiUNYdyqSkfYmmMQAGH1OjOSKlgmSjG07NmPPtUxVyX5qYFt4Mcr8TkOKE9KQXdN00wd136z+PnK/Fw+2LmJcKuG66rTEjf/ZoatO6xq15T0lkvx+vdOdOnVSNrtaAX2bn+nPHpj/sd+v9UD/TQe0VkDffUeLV05m+1KJEK/yg7xpyTKtxGKLKH9QQ7jN8hC6nwqOVNelu1+8dHfbNuFKSzDL/XSYywNBBJ9hUSos7F2QEB+LjUEn4GpnjsH9ByEtKQ7vrzuEOib0nNIL/d4z9Fpy+fn48cNKQLdvz4om3yOMnFlbsX3U9VW/8/YqijEtq6AUQO/PmkqvZQR++HWNFFDxmNVpgLHUlt4tYZ9+AvrpV5HrOxTvnCpXZAapDs6mrUO3JC37eUI7b7Rp37Vql4uV4MAbXKkvx1LTiTin9VPYMGmI200iiFSc5TYttIWhTVwUIkyqjtI4tuJ4FLSlRehtEYGn+reCQ0BH9TvSQKZPwdW5vjPaMfDlm4MMvog6h77m4RjqkIzi/p8pfq3TibdYsc5GOa0CwQZNcTgyA71ItRCqhAx5jeARZYXilrh3JiKinH9uCziR35GJkDz4zY++C9PsMFgSAae1rsumSCtUGJjBx7yEjOYQYvHcUUlvrYY2C7FvaN3a4LnELtgTwyZPVjLFbzuWIlmOx4moLEWakEZKEbu3jx+PxRBxlqkmGhPbuKMfhd2Z2Gwm/cWriPUpDfWwaslnOM1gFGvaFv4z/XHl65UESNmf3mz+fK6VEfQvrcaJ8gC8G2oPSw2bTkc1w/ztUZywGKimzCdpD1lxJl5VuQVp+N6wQPX9QhLYiMhSaTPaBu4Y7nLjC8u+WXX8Ov3hCTApSMDDFqdVw6Fhlzmc5FXC5Ebcu0wQ3tsVTpsNI61tKzDbaBOuaOviy8wWIg3xaNFPaGfLmHDyusv6f0qvtItKOPxm1TpcyebKgqELQ0js0N02FceuJbH6qkfh7oAurZqif4M6iI0K5TXHCieTF08yMTGBwUDdnEpgc/x9bIozxaGKRkqA9qhni0EDhirr047Dx+FmZ8VKcH9l05BmPWdXT2Xb2LtnGzZd5KyAY3QrTky79FJ+a2GSi2Vk1vihinJTfYScP4GfD4VWpXxS2Dq5erFCvhzh2VyV4FY+3CmADYiNYMnVDeGxS6BKZkYK1u2m9YSTvBGDBqhkxVcZMa7PinRWKZMNB7eDl2+AClUJZUhU48BAkkI8EEYLiTk50MJ2v9OQla/U1FR137rfif+Dul/ez/tUjxiX/hddxLhck/dzX7zbZ4hVRd5b8KdyHutWOuX1d/NOy+ukAl0roNU+qtWI9ziBa3fO/VzdD+A1tQL67jtRblRyw5SAlAc95OYp1d/mzbmk/oDG2bNnVdLUvSLE5aOkmi7eUvHe3SvIRbx2EuV9r6q77uZ/MT4bP27dD6PiDNoi0uDan41h5OrqhoiMz35Zw2og0NrDDOMfGo19fNCvp0iVMaGNJzp06q6WuzMuB8FOLx85No2x/cABpJXoo1/bJmjQqAUtApux73ICLQIl6GuXgtaDpyP68inEh+yFn0m+CtrI7PUJUsT6oKUAMzbE3pAYbLyURsHIyl2gPX2ggyGWjI3BKWhkU4YpgayCuzZV6DapQE9bHoI4+pnrUoA7kaAgwrAtEwMXMQlRfM/CL27laU2BmoC+fmbQc2qoHqYivr49EsMI6FLVRCbl9VxaMRxMKmBanof/9PRBXa8bTaP8/lTgpGv8VpRKRVkesHejEAhtA+QcK5pGNeKJ2pF8yBqtGUeBzHS+rFhkWTVAolkjuBRcgm3+NVbDKf5MbRnVbUf6hZ9iQwv+LrWClgK9qbB29cPsrnWhn3Aas4/oISimRCH5xAe+ZWab34jUoLB0/MSKvDzOnu3mjkZmmXhmXxFKaDSW1D2pZvsUnEfc1TOwa9wLVh6NkUbbztsMZJGGO3NWPt81+gEpqWn4OLUlUk35+UPaoqG7nYrX3sSquD8jrJ/p4o5PD7M5kkEszRjt/RipFedJ2vj+aKyaTA0jxUQXbCLC3Ihlz9sFtfjDfz0aCr2cGDxqdQYt7cpw0WMSexnNkFJuBk8XezTxsFO8Z6msN2QKoqwKiM9+/flkHmOgh/YYRusfwLUSByzNbQ5XrnxMGjGUyYsmKKfAgkGVd/fi+WP0EUcgvNiGh8gKlpyotjFNQFQyySZcYXl2VE8KzCqrkFRfpQrrZJCLb2kNquQxnTG4C9w8fbHwp2WIpvVD7BRP9WsOf1aLRUTHsZHP3cNbVbYPHjqgKuadu3RXPmMJNuFpB6aMY2bf5rQ/NYWI5iMXI9A+0AfNyZAWy4VU5QVdJ+Nz8p+jslle5ni8J1fFSAbZduAQYooMEUDyyePjx9E6dWsFdt2m9TjC0BU7CvW5E0eoydfr369TExKisvHGExNgQNuSWLDymDIqFJ3qPGjBZErvxZ1Wvx7QLfGBvo1Up3UhLlKlFr+0rjp9v55tuV/KtS0TOrlXV9eB1avTOkEtr5eJhbxO/oiAlnv3/++jVkDf+wyoFdB/0xVSK6DvvqOre6Af9OGQrnBpSJRUqAc1RPBLR/e9PNqy1C+IKHloCSf1XuP3Kto68Sw3+9WsDp45ugel+qYYZXERncfMRUj4dRy8EIa2AXW55NtV+ZCzM1LhwMqUVNn27t2OjSHCfgZtAVXVs6XLfsDZeC7b62dgrEcO7Ed8eEtDUdiVC1i8h0uYxMo90YvWkEYt8eai7+l9zWf1TIu5PlwO9h4Ny7SzsE85rEI28lrMwPrgNOXzHNGzEyzruOH5DaEUbxS9bOp6gX5Vd+LgzlGQ7bicip38I2QJaUj8cERDhciTh9drW0KV1UJCM+R3RFQuPhytfMCj2Swm/736LMkbpDaEkwedwzAWCR0RYdHO2wbzyX6WhjvxbEt0uAjI24fYesQPKuL55koCLRu6EBRNRnhVMAqr3BK0oprdbht6JKIYsKKrZQiLVlIH+XMVOEFhrrlCDzCTAUsCRsA1aSdMovYpNEolfdta/75sAJ2LgmPfYfnpRCzPb4Es2hJEVgmjePOM3wpoOQeus5lOmsd8zr0DTWYkFuZ1xzH9VjDn5OVdJkYKIk7/ygboX9+HctpFpKHwZHQmJyP5ZEnXgd/FT7HnUgJ+zW8GPZfGaOTljBmsOMuEZNvRs/BK2IqeNsnI7vAyUg2cFbrPkPvuGKvjy07Gq2PVi5SN4cTIyeqAxKTLsZvDCYtUrHWjlP6io2G0wUTuRieja5zJPc5QGS+m/kXgKJsLpUFydH1jNPZyrApFIpJRhHhOkVaJ+VJaHia2rAPH0jh8uuUUkjgZLCxn1HzPhmjYpLVaMbkSFgp/H1+4kId89dI5rAktwpVcE+L2GD5TEsZVF04uaGt6ojdJFTx316/7Fceis9HF2wwPlW3jxJA2KDagVnaaq772L4zOPhHH/Uvx/uxDXZjy54mPfliGBM6DHEkifH7yOMVhrj5O01qx6uR1Ra+ZPnY49w+53d+uhjHfQz77rakPqXRAEdHp6anw9WefQFYmjnIFy4PBPi1ad1RV7nk/bISTaaVC3I1v508rhxGiY68Tm0d/e9f2tOL4IZXbLLYhqUhL3PjrP65TJA7OO7DgifGkxuTh05VbiLCUySsJJExRVM2i7CeRVTixsP2ZSu6DunfW9H1kG6QQoQtxEfynLmJcVvXuVCDViWe59wv7+V5FVB3ZQ5eKKN9P/i5YUbEU/v8+agV0rYD+V1wDtQL67odBborVGz8e5AGT95aKsVgkHtQQS4ag9SwZ+3unIRUfwefdb5f7vSra1cWzPAhi6WddvPkQTPKi8GQzQ1i2mYAXv1mlHvzFfGgveKxqKVkYuPLglKZAqdgdORJEHyhDRDp2VV7LOZ8uYWJgIlKZNPd6k0xY9p2PLTu3IZXe1GH0cDq7eTOooWrJ2saW3Fzx9n79EzIK2QRF1sD88X1UZPMHq3Ygl8vO/YwvIdDbCxUNBqNu2n5YxO5n81sD/GI+GUejc+BsZawsC6lk7H3A5rsiVi8vM+5bUu4kZntIE2cV+y1CTDzOIrAD6JftSeEnwvEzNjHaUiCKSC3OyyLuKw6RJTYo0Rgrj6m8vxE9zUJREFH36lbywynCO/vZKxa0+Hsbu1kpURHOpW9dZermcjab+Iy2z4YmPxkVjOnW1hugGNasmTNmuw3K2j+jglJgYKp+Bj0qFxlSlmUYi0LT6f7txkkhD/Cc62fhsH8OyjSGMC9hM5Nff+g3HQPDsK14/IIPgosckV9prEJfXO2tsGBwwM2muDueXKSlGG94jPhCO5LgsnGo8Xs4Hl8CXwdzDPM3gtmmKYwSJ3+XjYAlY35lhbOqUUwJcNJasqPP49sUP1xiMIj4qbsSC2dKVR4TcUUlIc62P4l67QapbdSLpK3nws8odmiGbVZjQby4Ct8xp2r7iMcwUzWVaumJr8vmRmtcu3weJy9dQ6sGfghs8tsJ69eHonGFx1wmCk90dIe9HmkXFOZnEotIYmHDnhWjvPvWQ7O6/7VC7Ni5lcE/6Sry+j8jezLS2gWvL/4FmVxYsKJmf21CD5jyvMk1rIODoSlwc7CFbUkC1gSdVsSWhwYPQSTDihZtP8lAHn3aVMrxruM+2BhrcLXSE3GMoW/etIWK3b7CECI7O3vaIALUJPSFb1YzpIQpfLROLJgyVLGcl69fj7D0Eoxux+/JCrOkBYonWSq+8ve3vluBzKJK2LJaPG/qWCWQ31+xA4W8Nlu7soo+Zuwth1V81Gulwhydj87eFnhoyAjVR/DZ1jNqompjUIYxvbuqCmxhHi08/Ay/eo0QxeN18Vo4mhO1WNe7Hsk5F/DVrgtsomV4CycjL097hNtzEUdOn4Ihv/eIvj1hY//gV/ge1D31ft9H7ue6RkSxX0lzry7ERSbCOs+zFGXEllVTB4I8h+bMmaMmHvv2cdL7//moFdC1AvpfcQnUCuh/RkBLhUEsEkLNeFBDPLPu7u6/YYTKZ129elVNBmpS8RH/t0D+b0c7Kb8zu/2/W7+TTXuVmDqwo0JbSaOZRv7woS1WjHe+XYZUYoBtqJXmTxmDRPo5P2PlThqrBjtloh89npX2/8X4yUNo5aplOJ1QjLZ2eRg35mFcjY7H13svK4qAv60hZpI5KySE8MOrYRu/H65ElCU698Tp4BDU86pLRF4zCuA8fHUgDDaF0UTiVeI/o3ohgwg02x1PoFBjDrOKPOR2fRPl9vVhZ2Gi6BfS1PYBkWzy3j6sOI+nbUOW8cWeIAJ6dg/fW5Li5JhJw+LH5CCnsVLaO6AOoo5vwO5MZ2QxddDVzhKdAtxwUCLAKc2cyUme1NYDiyjWRFDL54lv2Ijv/cXoRihKiYI0FO1PNsQG2hb6M+76me7e0MtLIht6JipNbKEpzlbiU5/BIRoiA8ubjod+xB4YXF2v7CBlLVlRbTBUnU4qeZGV1graNMp6v3NTsN481+ilNt5IbB3fv9CxJcL8HocTUxMtS5IwNvVRJFcypIQCbN7gRujV0PU3DOKb78PjrZcczDAQQ+ilh0E/fLtqblwQX3UcZGLxfA+uQJx7XqUrSix56cAv1cRHzssrVxg1ToHh710Xy/ccY9S6BskFnLCQWuLlwLhulME4KxzPu1+Fe99ZynOsUgL5eRLuUtbjTZ5D/01lu70CTWMFXl68SvHHxQbx1tSRqvoqaXnZmRkUef7ITk/GrigiDG0tVJiJBLbMXcsmOk50LlFYu5qz0Y7x7f51jJELMwxrUReedSwRHxvJSaG1skEIDWPeNysVcaWCeL73XQ9BjySSDzI7IanMAkMaO6FXrypcn1wncj2K7WL3yTOIyNKCfah4trUJMhIi8NY1F5RW8jPt9fH0ow+r3xELlFxTZhZWOH70AIIux6BDPWLnuvVRTYyfbzujkv+EevPqjEfVa88TNSehL63adEBBbg57LsI5wfaj2HdWTYKfbT1NkU9MN6/PV6Y/qvbJd+t3oIDYjKkDOsHd0w9aXpO6FEHB0r336141IW7pbIgRAwYg+NwJrDrNVFXu4f71rVVjo9wvdAJRvve3q9crG8q49j60sjgSrXeB+7tE+ae7+pgTeTfqQd0C/xXvI/dHKRLouNPy3zLE5iErfzWtuMt1MnfuXLVfP/nkkxr//r9ipzzgL1EroGsF9AM+pf7Y29UK6H9GQMun1pRy8XtHWB7K4tcW37Zu6IJfpBoiuKSaVD6koi0+6epRuvIwEKF79PB+NnWxIUu/Ai1cTfHw6LGQ+OHT14mFM9ciwMsDOTkZuB5xjcEs5DPzoX321BH8cDgCRqVZaGqcjCc8k3HWexp+IdHC3UoPLf284O3rD2dug84rGUds3Scbj6GU5cHuPhYYOWwk1p+Jxr6DBxQW7gW7g3AZ+QGfTgyxuLaVqjYN+X5D8M2ZXFUVf4QcZPHMytC/sBT6YdtRbOWDSO+HEUcSQnqZARp7OsLH3RmhacVIpGhuT2SY2A5+PhFHn22OqhiPa+3GhLs6uEB+tSTPtfGyQVf+t1gyBKEnMdLaoA/w3cVynCqpCyOnehhOobVi7wlGIGuRq2ETGIWoSdJJ7Ep3QJ7GEsYS/sJK96MNWHENdIct99GARSeV51jiwzd0SYXT9bUkZrCSyP2ubTwG2vqDiPmrwFtkPV9NzsOz3jHoErtIJQxW2niidPAi5W02XvWQCrPRFKahvP5gGIRtozWgM8rbz67CxnE/6ZGXXWleB5V1Alil1of+8YUMh9mFs4XO+LB8DDzYAPpYWxe4OjvdIooUAu/KOuglnkMFmxQNInZy72pQRnyhBKPI+Ip+8UO0RYgP+bWB9Yn7IzaQ9pMKou/E9y3nkJxfBfqWKDG2QevMLSgP24vnUvrgapkjqSsF6O2Qi+bdhqk4bPG2V8WL8zie/QEGtINUmDuioPsCLL+QxQlJMcbzGPmx4l3dAy2V0TcWL1dMb5lMvc7qa14eq68rSbOgT7inXRrGmJxiU6Y9I9BZ2WfCo5zjy9kEKXSOpOwiOHIVYUJrD/qg45FTIOdICerb0h7R3ok8Z5JZTE3oV/ZTQvb4hctoZV+KJqS7hBXZ4JPUFrBhfLswx99xO0Z/sxmCnUfCpA7Pda4WCSkkOTEWTi7uMDY1V4EkH2w4qgS/OyO6n398EhIp1D9n2EkZfeWP96rqBag+cknc+HD5VjBUkVaQqmtEGme/PxSuJjBDAu3Qv/8Q9SsipA2NDFUQz8atmxCZmodhHZlaSJ+0RH+L/UU82i15TU8cPUYJ91OnjsHC3AzNW7ZHIrGSaUz1DBByh5m5ug/8ciqOpI0KNHfQQ4vGTVXj48HwNJJaDDBt1EBi4Rw4aaigdYwefE6WSkipWbyP5x6/z0P0rnfvUTWx+F8cci7JfVlWlsRzLsJaVgh11enf4znrKs/yOx9//HGteL5xktQK6HtfLbUe6L/pblIroO++o+XmJQ/6v2o8aAEtTYkinnUhL+J7FZHyR4NfLl26hLp16yqv9O2WDem2/2LrCeV3fJiVpVbEWn28KxSRoRdgqC3E/PbGcGg/QVXmCoiNs7ah2CR1Y/WmjciOD8WEOpFwZsnszfSuXFquQHZxJZ7oVh8t23amf7hA2SVaslFPfMWxUWEU41kKqSV+zy8OXEfE1XPEAudjpm8mGg5+BqsPnMKJkCvoTyqGECPKO8whzksLvTRaAGhjkMqnsjWU0jxKK4GWWcYLKEKTcpgaqKfFaD/qMz7kdWmIVnmRiAveh0UZLWBm50YKhKdiOc/dGKEimgup6N+irUGEdgJFlgRkSMVQwwa/w5m2MLB2QgfHMpxc+RYWZPWGv34ytHUaoH/JdqzMa8YoZS7bG7ux0l6C5+tegxV9k6UBw/HYyquqOu1kaYRVlp/CwKIO7RupN4gPVRzr49cz8PI6xnZz+xysLbHR+UfoZTJi3MgU5W1mKJuD/oVlMKDIrXBuCr3YY/wZS5zc9tJh31NY28J43SMKYScs59KBC6tOcVax9RLOkLPshA3XSvDh/lhYG5TixU72rJTrKz6unFu2pYkw2UmPrjQwsioO2jbIMERm4yko9O2vjplUb0/Soyx/l2a86kMsJNIIZengivcOpanX+ldE4SPzZYxWL8bREi9klBqit+YkjDo9DW1zftfqg8dJw8q5bMeltHI2d0Yr24czrRbCX5ZVBKFziMe8MT87nZXTsMgw+Pn4kTjhycCe8/hyVzDMDCphX5KIV/zJEmf6yLeWM4g8dMRjPrmok3wI+R5doefcWAm9TE4Ohc4Rmpyv3t+OXXLd7fNwMfI6q72VGNLAFq147ooP1qCcNJojH6A4Nx2fpLRAfLExRjokoIfRRRSQalHQ6GHYdpgE8bMbhLBqXYeYv0aj1cRGrBMn6WGOTk5Fj/Zt2WjoiaADu7GGHmyxQ7V2M8V4BghlpiVj6/6DsGPQSr8+/ZXQzc5KJ6aOqxacDJ08FsTVkxgK8Ur09rfCcFowzlNUL+Fk1Zy2k7m0nUgvQvURHXEVC7eeVBHdk8hhl+1ZT7Tk7nB68PlEfrJnAzRq1uYGJi+DdA0rphYW49dt29kwWo4x/XvAgXSRH1csRwg56+IP7+VhoCLFs7PSWJFNQxNaO+oFNFF2kDJauAIaNb+Jvfur7rP/1PvKPVPuyTJkJU+KF/JvYvHQeaelGq3zTusSWHXfVyee5f770Ucf1YrnageyVkDXNYGIVAAAIABJREFUCuh/6rq+9VmkW1/6V3ybf9eX+L8moCPoqZRKhVShBQ0l/y3NaNUryDXZw7K8LoxSQTZJJW/nru1IysrFoK4d4cQmqSxWosrLSvggrqIJvLfxNBKuX2Q10wjzXc/AYsCb+PSX9Uhms1X/BnYYeKMKJsJBhFqFe1usDTqFPRF5sDHRxwvjySs2s8Vr9AlLldWFgkiqlzIKWM2WBjUzRx8kcEl89Zk4OBmVYCSbm/KZMjh/zSk4ZV9AmtYMCzsRlNtmGk7vXYuSmFPobJUCvd5voNLWu2rzKSSLhZO8h6xc+mxFDL8/PBDFJaX4dM81bmM+Zhd/hQCTLNo39FE+4geYnPsOmpijeKNkHGItmsDG3BivkE0s3OIvKeDiSG6oS4Pp20MDYcOFfr3US4z4DoDhic+xL7IA6yu6oCm77oclL8Tr8S2QaeSKHj5MU6zDmPGwdeprlbeahjzfQaoBUSqp1me/hH78STa6eaKs55s3bRiJV4/jkQ3c90SkdXEsxpvDmypfdCWr8GXdmPCnQ9zRPy1x2Ya7nlM2C6mylgz7EZoCNtIxkEQJYIrwkkk7fnNajP9sM2Lz9ZQAe5m24T5cmhdiQlZSNFxPvA7bvKuoMGK11qMN9BihHVNihXlJHblSoIdpneuq6vydhjRe6dI8i9Ou47m92dAztYYFw0G+8z2iquaV9HMbHf1ACUsNkX0lI5ZxAsAqLicnmrxEVUnX0UskiKcKO1eBHvSlj2zhin2kZvzKQBYRfVNI62jD9Ed12BlRLROwMlorVqzfgGgalsfV10fjjK3YoO2CLRUd+KpKDCtcj6HWESioMMLplh/A0caSkdX6iEhMx47IUoX1M+bKQU9GtZ+ITKdJhDH0nMh0bMRGO9pYDoXT82xthPHDhnDiaKtEpmEyJ3z73oExm+30+r1D24kfDLfPgR697dIQWtpzASod7sxJTkmMwefrD/CakBCT1ozkboQfmaZ5NrGUbmRgOqPlmzGkpJRJhTFR4UxudGNTnwWCgvZS2JaiV/eeSux+s+wXRGSWKWH7SAdvtCXOMToyFHtPnEOAhxM6koKTRRuHXNMi3GWsXLcah6MLlUVjWlc/Ejw6Ysv2jdgZmkNrSxV9w9T81gmSWExWnIpRTYtPD26PtMw87Dx+BjGFBuxTqMRjDFURUW1paaHix60ZPKNjR9fk/vRvfq08VqVZWwSyFDDutvInk0mdd1quDbHNiWCWyO433nhD3Xs//PDDWvF828GuFdD3PvtrK9B/092htgJ99x39f01AS4OJ+OzkpiwVjvtlQt9tD8gDQCqyUnkUosAXO85Dn9U1f5NcPDPjKTaFWammIUtLKyWiU7LycGTnKvgUX0XLjr0Qjrr4ZOtZ2LJyK1W8t5+arAIeNu/epxrEGgcEckmzEI51bMiarQMLKxtFqBABLQ8gqe6+PaQBrktQxcaDqkI6y/UKPEe+y0rhfwWaeFaleSw+KRkNrUsxY1B7priV4btNbLYpK8AQi2sYPIANaG5tkX/oC1iH/AgjNjAd9HkWQdqm6ORni46+9jhFLu+PxKKZstTnn74PTxtv45J3JvZrm8NJLxvtNFdQSIEYWm8GXLpNxcIDUTh6PRNFJWXQaEv4e4aY3MkHnSM/wqLE+vR+U/A88ghsDPnzHNIi8shldm3DRs5ERNAc3qpFM5hHbFFR2UpAt32yqhFQNyhu9UOW45fT9OiWNcX4bs3Rh95ovcSzSNr1GeI4kWgRGAC9TrN+ewgL2UAoApnVdhCZp0nnPqUQF4uCVOINziyGXswRxmzTL+vb6ze//+vGjVh4ieEjeiVYOsIVTgFV1gwRsQakgGhpJyinj/p8g5cU1zm8yAzrGeAi2EBpinyut5+yt4jYlEmKWF6k8iaTMvHhW7Hyq9n5IuYnd8FVeGPu4LZoX9+l6ntwuw33v0pP9TXVOFnW7VVOnmj92fOSOgcqPDqgrMuLN7+z0DqyibcT77owxTcEJ2HnJUZjczvH0NbRk3ztoAO7SNJIgicjrp+eQAsF7Qc3Byva5+NzFRKP5VXMLP8FLfQj8VVuR5y06MnKbyVeM14O97JolDUYhXDXwWwqpRgkx/unTTsRxBUHDc9HcxNj+DEUJY8YQy5IYGh9S9g5ulNelxFdFoHmAT4IYPy2OgYcMunR4wRJjlNpv4/o73a9+ZVEhG6/EIOWda0xdOBQRZARX7MuDnvNxnXYG5kPQ/qIn+lfhar7mgJZKvJy3r386ENKNFcfVUmGl8DFDcwe1U/Zql5dtAS5bEYs44rMvFGdVdCK2DwSmVboQeuVTJz3BB2AtZkp/da9VLrjS18soTVHoxomnx3SWgW+CCbv2KVIdGzsj8asUqcmxfC1xoiJS2R4jCOWb9+LeC7+yH1gumDy9Iyx8/BhhOcZc+WGJJOJxOQxJvx/YehsG4L/FCrS/drmxOt85MgRrFmzBvv371c9As888wwGDhx4s4L9v7B/HsQ21Aroe+/FWgH9IM6y+3iPWgF9950kNzDpmv6rxoO2cIiAFgSaVKGl07umzSq3b6fgknR+PaFnfLSamDpWwTqaxuCR4YOx7WoOtlCoGFWW4rkBDeHWqEuVTYIiRDy1Qgz4cvlaROdUsjLoohqeVm9YiwPXCyiu2Ejob44hbCAqKS5AbHQk3Ny9lIgOTshBKBFnnfzsSCwgPm0rm/Muklcsy9FmDCQZNwMRcMfuXVvQpDwYnTp0Q4lvPzbzlZCYYKx8t8cpbH88eA36uXHo61KIUe5Z2H5di02JlnCoSMc803Uw926D0kGs8hLtpqHVI86tPz4MMVXVzLENzdAjbzN+OJ2OY6V+0KMt5XmDNfA2yka2dSAuNX8DCw6mK7JGVGIaLDRFcDHIx8SujRB3ejMul7mhiM1WDw/ug05OZWwEfFIJ2WybRrjqNfm/qZYUhPoRu7i/6KEWIVudmMHXZ6yagVFxD0GPFgmtiR32zO5Av6kGetGHlL9Z60f/qHFV+Ipu6IfvgOHRj8mCNuP20RMt9pUajgOs4p4muWJYoKUSZ+q4SkmXtA3Dfa/RMhKBMtpFKvz60JpTivDYZHwUFEt0XzmmtrRHWza47YwsvJluOLV1HVgVJatJnTRLihA/sPknvJTaEyWVhvAyLcaKp/so6oQaTLUU8og0Dco+0aRcIr7vVfWjCodAlPV665YtKi7MZ2NrMldGPFWT2yYG2ojIG0qKinC75335k9qGrDI9zBnQQlVAr1w8iwvXItChWWMVAhJPH7Vso4eG/vDkC3g33B2xBQbQFuXiBc3P8LfSYklmIxwx66mitSWCXsTR8+uvKL+97J7ulvEIjstSPuIXR/dgxdmaBIyVbCw1grleOSZ1a0bEnQfspU+BkzvTzKuotGJojW51hFslNo5nPl8KS1pMcihuXx9fZbeIpz86Jj4ODQMb05NuwUCNM7BiFbc+j4/0DMz97Cf1uSKI543uolB6m7ZtwumYHAxoVpcV5h7KRqXP/alrDPz4h6UqQMWUv/fqxH4w5/X33g+rkFykgRcLy89NefgWdrPs9H37dzCVMhU+Nho8OX4kGw21ePG7ddzf7I/gBPODJ5hKyP6EE0cPcUKvr7zTWRnJOHjyNLydHZXdS5B3zy5eDyeTMuIANeTA+3BSU0WukD+32xlqePr+Yy/XiWfxNvv5kbNew7wPKdqIaJZ9IP+/a9cubN++XYVuTZ48GbNm3WGy/I9t7T/3wbUCulZA/3NnX7VPrhXQ/5yArknS3++dLFJ1FqqHLP8Jpu7PDnkQhLDD/jIbYNzdPVmN8kFJ+H7kRRxDMzt25vddgC/W7UVEchaKKw0w3fEKmj76GTZfycCxyCz0Y6VUGL8iBmTJXFc5285433VkMguB4MlegWjSrDU+JNeWeQxwZErhvMfH3nytbhsSKN4Xrt+vrBezmlXCtfcsvLDmHEoSQlCqMcWbLkdQZ+zXTELMQ2bILgaqZEPbcBQOMASkiGK4jynT346/h5fS+qlmxJxyAzxrsQu+A+fiYIohLp/YgwEVQahnXoj0vl+j0C4QzoVh1FsV+G7DLpwpcCCqwBlz2bDXQEsiRN4o7I8pVz+n8wTdDC5jgvEhlDO8JHDUazhxKRzLz6bC0MoB/xneGXWLrykbRXFxCYrN3WA8Yfn9TW54DIp3vYaR55uhECZwpP945ZRWv/tQNtxBa4B4vynAyzs9x6o2rTHVB73PmhySE4RecQMnV/3HMQyRmbmSMdT09oqv+JfmoTC4uBJaVn7l/VQz341JUvXf0/nkJWRCwmCWcR8EsxAuDYaDvfUwuW9raOn9Vql//Ncj+7Zg9jEjtT2OBoVY8pAb3K98q15f1v3VW4W/NC6ySVSTEwtt4IgqYX1jyETt/SWraRXSoAXpEFMnjP/N6b99xxZO+DLgTH0utgM5L1/+fqOqiArp41O3A8xAMUdm6/8gj9YNZ4rPpIwc7Ni3B14mhehL/3JRdiKeLpgKZzb8JZPq8hEj383pvRYv8i7adHo188eQ1n4QL/H1QhMciS2GG9JxOTJKbaP0C8wb2xO5eflYtesA4ouM0NfXHH3IRr5dMH7BAJWrmVrYE/E8b/IonjuFeGMpV0Rov/BmYfkl4uBkSFVacJBGrN6eOXkIm89cJ7rPEiMGDyf3Owmv/bKXFekK5NLmtHD2w8oqEXY1GBmZmQxxak1BXcJVgYtwc3VTJB1BRM5bsk39Tg4nG588OYbfXQ+/rCNJgyXnMV0aMeq71U07jAh3sY689u2vKpHQzpjXMKvfZ8+cxObz0VyxMURbNyM8MnbcLcdE9v/K9Wu5jwrRzs0ED48azftE+U1yhdgZhKesa7b7N6YU3n6SyfkvKyyyCvhHkmtFPD/99NPKgvfuu+/eco+QSaogSKUnpXbUJhH+3jlQW4H+vT30gH5eK6D/OQF96tQplUT4e53Yv3eoZWlcfKXS4CXvJd39f3ToRFBGSiLeWLFbVfN8rCoxoX9PJYq0eamwruMMJ3fymJOjsXzTFjjp52OyRzJy+i/CS1siFBdZltQXjm7MaikQcuEUcVoMD5GqH1F72vIi2NEWEkiagIjrOV+sUoQEqba9M3kAq5CmWLJmI9MEy/FI79bwoedTy6VkGbKELOO9HVcRdY0xwRX5eKN1OcpaPIa3fg1CUVoUOuECHnOOQsnoFap5To/kDcNTX+NQkTeWVQ6Ah7sHnukdgDwKhFfXnoJJajCMtAVYaMvwEVooYiopzujRFuGU1uZ57Es0Qh1HZ8Vuzikqx/DFp5Q9Qf7Mpw+6k3U64s7vxr7cuvAnRaSNvwsqSJqwMDWqip7mKkbKzg9hW54Ks65PM6HlRhrh/RwkcpMT4yJxKd8arf2cuG+r+Mn3GtI0aMiIcmmeLBn4BcV/VdqcDC2r/YdX0AJDEd2D4q2iD/9+24hnNXU6BbRsX12GlizTe+UG0SODlI+v7ruiHZ9ZgA+2XWSEdyn6+xhjX2w5LmRo0LyuDV7sF6Ca/D5fu4eBKDno71nB5r18GF3bqL5NeYMR0LacrP4uYks1nQlDt2Hz31REkxOi8OYqNtRRvOWIUJw1SaXhrSQlJovNf0LncCKrTWKpxdYgPmhJ85v//Xq1SmBTmY2PXI8gg82sC7J6oUBjhqEBFhhseIYNmEdVoEo5A2nK2ej3zeFYBF+PR1NHQzxttkeF5rwT04BNoXrws9bg2an8bFZkJy05g9KiIlagzfFcS+DslTC0ru+lPMRREZfxwaYztDbRf859/GivtsjJzUNoPgNXSOIY3soLpnoViGFsvbOru+KnS0jL6yv383pi7Dirxe8/M1lh5z5euQ3ZZFVP7VoPTVuKh/u/QyYWb/+wGunFGtQjNWT2Yw8rz/MHG0/SsgF0oLCdPK5K2IpVQ/azAa+vnbu24dj1dFJjSJ7hqpGwnD/bIU2XFRTWGrxCTJ689lLIadU30LxlO9UPER4ZDq+6XohLTCXzuRKLgxhWxP834U3grScfRUFeDpas38xjosWj/TvAvS4RixTwcjyqJxTK95HVv5ycHCWoJf1P7mu66vTtWM3fux7+jp/LfVMworK6IuSiP1J5fuqpp1TPyTvvvHN/E+y/Y8P+pZ9RW4G+94GpFdB/04lbK6DvvqP/aguHBJWIH/R+Y2Dv9E2lKiHLe7I0LtQNqdxI9eMPjaxo6Ae9rQgRsfUexYKtVxSrVUIQ3qJ/WcgYn+2PVGJ2pJ8BTCsK4ayXBefSKJg06I0yWz+8vSMMKZk58C8Px3OkbZ0t8yLSLFKRCjqRSjFq5DhVbRORYUgesnhWjxCftftiHDr4OqBvnwE4f/Y4Fh+MUIg8Hxt9zJpcJUrORmXAlmKngY8n8sr1cTE2HZ4UuW4eXghLLcTHm0/AIj0EVqCocdiFmI7Eyh2Lh3lBHGbYnYV5m4dR4tVDxQvLAy6HIv9VpgsWZqfAt+QqXjNchuBKfyzM7qDsD1NtzqF1n3GoYKKfbsiDcvYa4squZ9EXaojvJ3L5nD98ceNV5FCspdJG0qCOESYF6MGWGC9pApKJh6enp3o4/m1DYsLFDkKfsl4iyRq2PvRA18WqQxfxFVnU4jeYbXMEI2ZSQN9hmfk0/eCXGVsunmuL01/gTEQSGtXRh+MwWiduxFXfa1u0FECTfziBlIJyOJOv/PW4Jpi67AJDRipV9fbxhvrwdakixojHXuxG0lhqePBt9bZlXeehwq0q9OTihZNYtC9UMZbHtnBGjx59b/loqcIup2/0XFIxg29ciUXrw0TCLHzPWHUDcrabeVhjemev33zdWJJkQhmr3NS+EnXDluBcrg2+yOnAqrIGLhXJmG+5FVlMuPxJ2wf6bJQcN3YSrK+tRv7lXbAuo82D1JNYrT1JMt2YwGmGJnZazG6mQUaJIWacd0cZmyHt2Gz6xRhe4wZcqrgxigrz8PGydUz406Af2clDBg3DCVqOvuZ1IpOEhjZaDPCvsjOAjaASAy6safFFX4pORK+2zZTv+BRpHT8eiaJIrYCHtT5m8zqR9969by8M+Xm9uvdWFeakxDgVIV8VynIOC3ddVOdsgK0Gsx6bhATGgn9KTJ6QaWYNagMvP2bbVxtijXmXoSsF5cQteplh7EOjcIHX6FcHiCXkMRnRyAYD2CBcxAnDubOn4V+vPi0q9viVPu1r9PqP6hCo6B0njgXhh2MxMKHVoxEnIE9MnKA40xe40iUV5ibN2ZDKCvmdhry3jqssq206IoxcX3/WqvZnr0l5Toh4FmH/R+69Unl+8skn4ebmhrfffvsf354/uz/+jt+vFdD33su1AvrvOAv5GbUC+u47WsSSLJ39VeNuQSX383ny3SL58JcqjZA2pEIjQk1ICdL1XdOhtvXIV0gLPQhXwyLoMZXuYK4TQq/HoJ9HJTwadcAv0RY4EsHUMT4whjVxQf+GDgiJSsHey4lwNSpGQxcLWNiQPXzuJ/gUBoO8A+y3fgg/XNYqu0NfPwuMHTkae0NTsfpULDzNSzF3gHhiqzV08Ysnxl3H+2sPKbvFYDJs5eG87GQcgk6chmFZDl7wjYX30HlK6EsFz5iWAC2//0q+JuLySUwsW4+Gbrb4znYOTjDxTKptk6zOo+vwacgw9WY4Rh587Izhbk0EHWOKY0jQaOhsDseNY7Al1w9rcwKgYfNdbzdOFEaMxoXkEoZFJKCekzke8SYejQzla2ZNYWdloTjRPx2JRERGqRLlBUwyNKfvc2pHTwyvb66WdK0qmUxWwMlJ3baw86gHK3NGUZ9fojy+Qt4Qy4LB0Y9YXjdEWcdnFS3j9iFV4fNkULclUcLR8tboZvVa8VJfZ8oiLRkVXl2VB12GInCkkIxCe0nJ0MVYeCJHxTxr6DGeQJE/c+S9GbxyXoz74SxSiPszZYPgr1Nbw5INdPcaIgjOBV/E/EN5sGZQTREP5I+TmpGjnEQ2dCYCnCzwfG8fpuHl3DxnRXyImHYwYaMcz+VKyypkn4wD+3fREkOSCidzPRh5LQLuChvivmVDnKs5fbhjhtG7W9WYpxuCQvxkXyRDe4iYa+KEwfRCVx9iYdFkRxPz17zKQ86my0IKs283sNktT4vHbYPRxCAavyY5YXtZS1SQZjKqqT0GaY6iLOkSLmcbwdG4jPxyA1xwGIJEOLHJ9BIsYvahlCI4o9PruGwQgECiDd0K6HPm5CXf1AVpTLyUKPIKrrxIFdxarhdOHs7FZquJjQjSAQ0dMSDARjU+rr+USXJFhcLKBTZuoWwNuupmOleJPvx1l6LQTLpB1diybSNtVDmKmjGxlRO6de+rqsVJbAq0srZVQSy79+xAIskYg7p1JG2jLrZt34QtV7LUZLabtzlGjxiJHGLn9gSxqs9zvBuFeE6mVILT4MU0RPFPC/95CTnp8qDu6WOGIf0HYt+urdh1PZ/BLBqVzqij8+j2e3TkVU5yicljA+rIpo7o2as/9u3diZXnU1V/wxQmR7br0P13b11yfklVWugVcr+Tc0dXnf4zxYjf/eA7vEDEs+A+pVfkj6z8ybbMnDkTHh4eeOutt2rF830ehFoBfe8dVSug7/NE+rMvqxXQd9+Df7WA/r3o7bt9M7npimXDxMTklu5seaCIiA4IYDDGnQbDNjTpoagkG7i6SJPtLC4qxAffLkFcrhaBRimYNeEhwLUZjLbMZEhHvFrGDmn7MRYez2KzEH2kvZjMRyEgiW3FeTS6slI2f0ADigeK5WNfwiDrGtxNKxBWfzqXg9NUSMSQPn1YTbPDC+tCoGG1MbtUD8/VT4Pv4OcYsnIYoTFJ6N6ulSIBiDjIZ+CFxBeLwFjEatfFs0dQwe59qZw2GPMmvj2TjTMXL6GrWQwmDmZV0uHGdgu+jU15R6OysTToEgxIv5jTuBS+3R7Gq9vClXiwzL6Cd2y3waLjNJSzeU+ElklaMPLOb8S3BZ1QauWFqb6M+k5kuEd8RxQa2rLxKQfzKr9FPTKdo9yGItKLk4zT5xEWm4ScChMYWjtTfDFdkE1rszo6w60yjaQRhsjsJrGkiIEsRna40vglGMQeQb3YldTLTNPz6gQN/bz61zarJjexCmib3OoXlcTDkYsOoZAealtzE6x7qhtXBriJEbursG5MH9Tn3w0u/CJaHGVkYFf49FRngNGaCapZTQSz8J4zTTxILIlUPxNShjWr5GEUmyKKXRktfvsQ5nGvhccpriRBD1g+ucXN10miXhDDRmQS05NJjJKwKBXUiKMb4ZsZhN0GXbE2y48/c8BEJjvKEGuP2FrEvqEbV1npjkjOhh8nVPk5meqflSAiPs6K8df5+jb4de9RBtpUYMyAXrCjheij739GAvd1AS0Y04lXa9G6I5I48TpHMRPo76sqtOLlLmCkt0Svizi8OSiWjaWps7QAew27YWVFb8WLfryzp2pAlaHJjmXi4xocSjXBz5EWqkgvn9PcxwVLlv+EYwX0srPKO7+ffxWhhFX5vJ1vwTRmP8zMLVDe/RVW0FvDcO8rnMDwvNKzxuyKWciknaKTrx2e6narzUquwdMx2er7dvAlp5vv/f3y5biQUqZsVCNZ5fWg5SGKCYJnYjlJdrLEQ8NGKC+6VJnF5iFj9+6tWB0s+7BSRdFL4+BWYue2UFRbsPr/8vi+sGfsePURTZKOJIRKlPnT/ZqrUJUfVqzAiQTaprjhT/esx+pwO+W3To6PVtVwIUxs2cUocBJoenVoj+i4BIQwiv5SegVtMXp4uJUzunbvg7SUBOw/egweTnWYutqV13U8Csis9vQmopD7euOWDdh6jYmVPLfGNXdgWmP/O9667vaPst9k1U1XnRZBq+MqSz9ITa0UNfnwPyueJWNAxLOsTi1YsKBWPNdg59cK6HvvrFoBXYOT6c+8tFZA333v/dUCWpb9ZNlOliHvd0iilVSupWIhsd3VhzRvJSYmIjDw1iVY9RqKBYNNTzAOmtUpK1eUD/mmKrhBRBtv5Jn0ML68dDfqELmWUWqAL2aNVUEHK797H0VsXHrUkYzphxai0IgVM16dphSJ8rsv/XoSmXHXYKJhbHHzDOQ1nIh3Vu3hg1WLTnY58Alspx628lCTCqM81Lafvooth07BxbgELzvQe9rpDbz+62HFuHIwrcQC+iVlyMNXBQ3wgS+osq18YDtnnkY/EgWyAx/FcyuPwyXvIpK0ZNw2CiOseAGr22nIpUjr19AJFqwES0KdRHG7UBzq7BfFOawgp+TBE8l40mw/tnvMQWIpk9faVKUNqkHvsfGaKiH7UXo77KPQcjVm45jmc1V1eyF/LPJt6sEuPwzFBeRYawowp7sPlmYF4nJcBqvXrEQ7eaKipBBDQp9VceES1FIyZg00qZehv/MFNn8VI8GO/F4rb/gkrKe1hCSObhReTPPTiJ2GAk5SApPrtMeoxcdvHupdc3vANDuMNIxXlICq8GiPCit3GDDiWxottQ1HE4k3Ux1foV3oBy9DhWsrJhmO/Y1dQ1LkfjwWpwTmQkaKB7rcyvSVD5V9+guT+XpRJE9s81+ix+4r9OCyyivCWnzG4xpZ4HLwOTRPXgWTSop2VllLScu4G99Y3ls42rNWX1Lcb6muvz6ovlr1EUFkdvhtmHIixiQb5Pf+CLZORMLdELh792zD2hC+hn7gl8b0hL2TK174YhmyWY0VosQ7U4Ypokv1IB+dz1aTFQWjHbOZ8GiMJ5P6w9CzDbLyi/G6/V54V8QiNOApXCm2Uwg5ZzLfwq9dVJ/r699Qib63vvkJKWSbywrJc64X0bAyHD8VtENQliN6OeZhdBcG5fh0U/vaaD193CSXRBSZ4/mSKbA0Z4gPd9iPk1j5/p0hwvbr7WwMNmaVfdQAJVznfUnsXEklr0lgVCNbbreHQkLmc3JXr34gLCytcfz4IVpXDNC2XWdVLZbvm8E5pVgwnu5Vn5i5trRgHMWOsxFo7SOidYCiYlS8sxqVAAAgAElEQVTyfzr03bLVqxAUw1UNfsfZfQMR2KQV5N+OxJWwsbEC8yaNUFV/6b+Q+5hEVIu4/+ZAKPnPlXj2oS5qIiwTnTBm7ahrZkhL1c8gfuuUhFjUcXJR95hNuzj54+RrSL++5Ff/9vz7vf1U/ecygdNxlcXSVpPUv5p8johnKWLIioCXl1dNflW9Vu65M2bMUFVrEc9/pdCv8Zf7P/ALtQL63gepVkD/TSdxrYC+944Wv91fNSTiVRipIi7vZ4hAloeVCGTxAN4+5GEWExOjHma/GYVcCt7wmKqUaVhJKh3NBDQSauVBoG7eFMPiWTwWU4B+AVW2CUlAW3oqEfrE1HVzKceER2aqxLNQdvE7O7uQVOCN1OshuLh3GQKM0tlA5InT1n2xaD8je/k7zowifmXmVAgCb/mOg8qr2bR+PfojWV1MOQzHvBBlFUkx8cVrK/ZSROkRnaXF/OmTcZmNh1/uu6o24+k+DVXnf/Uh1c+FbGy6ciUEbUziMa2DG07aDany91Kw9DAOxSNt3Yh568s45kJYlafDws4F4bRaCN4uNOwanElIkCanHKt6TMXzULzit8idlorvjotJsDq3GJ0NLmJU8iTkGDrB3sIQm1qGqES1l4lfMzA2hYk2H18aLkSCngteKRqPk3H5bIikcGJkMYvxSrRP9C3CDLN90AYMo9htqzZDhC2KMumvZnWbKW65ESeQSYpIvokr6vB88DvzKgyLUpU1o6z7G1i3/wi2ZbpjvGMsekyap2wZhvsYmiJ8YAaLlLWfBcM9LzN45QQqaQEp6zr/Fu+2IP4+3XedQl6D8a3c8dKmqyry2pnYv6j0QorgSsxpQsuKA1nV9UntkHTBakOl5h39hHSPywzAIYe55+vKXvDVwaq0u77ehngy+RVOWuhltvOqCggh37ik/6dsYnS66+ktFphX6EOXCqQHg2i+Gc/VkRvDaPVYWlKMoS3IRFij/2BztD5yyw0xjPHPDeo6s4kuRQk+C1ZfpTr6n4XLUMzJnh4F3LuPMb7cwAgfLKXXmHSO/vUkjW941TsL0YOTE72k8/iuciiOppnCsTIDb2oXQqtngjk5I1Fi40cPuyE+GBGorg9pqCymD1+q5yJs1wWdhpdFOcaWbURamSHmJvZGsUkdFQ/+47RuTAR1oN/4LOLCQ9BB7yrMPVvgk7RWKiFxYlt39Gnw38ZO3fbKNvy8eg3OJJZgWKM66N3nNnoKX/j10l9wPlV7EzsnvuYFbBRMK6bnnqmRU/p3YpCKy01fuby3MJp/PBhKBjbjx8cNV17opz9dxhUDOle4v95+uDfFrCvSU5MQz6hu//qNeEw1OH7iCGysLNGiVYebmDzhTmez+falYW1gU8cFO1ndjszlCkRjb7Tr2F0xpEW06zjbC5csRXB6JXnVwMsj2qGuT318tXQZLqRWwM2ck58pv6Xu3M+98H5eI9fe7al/OquHOScyf1S0yj1TVg/lHizV45oOEc/Tp09Xfuk333zzD3+Pmn7u/9LrawX0vY9mrYD+m872WgF97x39Vwpo4SzrmmF+73AnJCQgNjZWIeqk0/tOIz8/X6UP3g1jp4nYC72oIAq5IQz0aEm+MhPFruWgk6cpxtH3eHsn/OXgU/h8D/2b/LCxzao8i/IAP5tSwQd4BV6b0Id0ChfoXd+rsGja+oMpVovx3drNyKwwxbSejVm5ao2vfmZzXhpxdmxSms5lcv/6TXA9PgVX4jPgbc+udXeKoYxEBqGkoGXzFqrivJZifndEvvrsQfWtMJRYrkuJudh0IRFNHDQY1NKfHmgNctMSFEUBTHE7n5CvYr6Rykhvs2uYaH0B633fxcZT12BZlo5X/WNgM/B1pBZW4I31p1GYch3j7K9hv+VwZFAEjWzugr5smltFesNOVldRVoyxbhn48Aq5YWzIK+cDec0U7reLKRDbgauNCYY1dYGXvRm+OxKNbRfiaCvQwsTIQNEy8imM5fsLi/g/tLzcz5AKWvHJJbA58zkMSsn2o5e53K4eygcthH5hKioYva3sN/wuciw1+bRwCKaOxA2Dk4ugH7ZNiery1oz0Dhx28yPFD7yZbGTVPOZsqTy3IiDEupDCND97w1J8ofkIdcpTUGHrhdIhi1Xgh1TCpcotzX1CpNBUlLPa7Yayvh+i0Kklm8JikZlbgIEVB9E2axM09BNXSjR1g+FqpaOSlfF7DRHuPx2PQ1hKvvLA+jv+l2mtF32QUderiM9jxdRxuJoAiJ+XlDYM9WS9VFQ3kwptbe3hW5+WjeuhOHb+IprV91ETrkiSO97fXBXkU85z7+NZjyohLEErMnkY3sxFBaIk5XD7i6JgHTRficM5RVMYZ+7C46iPT0c2RDabQ9/ZGa6aTidQ/Ha7sUqhpS1n/88LiKMzxp7ShggvtSOHGXh9WDMEWhI7x1UVOefr21TihcersHMyAZXGuds92/KzZPqUX1l5iBVeLZFwevhmzsPqd4LPHUdaVg7at+2geh1Cr15UE1iJJRcf9X++2aAIGYWsML8yphuy2BexNegIoguNMLyRA7r17HdLo7Lsw7e/XYrYPD1O9rR4c8pIVX1+hVQSIdP4WFXgpSce/c1hO8xm39Vn49lMaoDhfXvj2tUrWHY6RkWiF/GzP5tRlUooxJDEpATUJ3VH8HsnibRz5epT4+Zt1URnxie/qCp2eoke3p7A+G8yrg+QLX0iIgX9eV03a9nxfi6VGr9GFzAlqxuFhXLe2N4MirpfTJ5OPNuR4/1HkHIinp944gkVsCJJg39UxNd44//HfqFWQNcK6H/FKV0roO99GGQ5WT2o/4IhTYBSCXF2vrXBqfpHyWeL0JYbvlSWxQ5xtyGd6lLVbtGC+Iu7DB2mTh7kTy9aizomVQ+y9x/tC1t7J5ylsMqkYOhIn6Y5haCkAMpDsIG3FzQWDpi36Gfi5khBY7X4xaEt4MmO/W8Px+CSEBu8TeCqyVZNjeLP1g3lcwxl8x3tpc8Pbom6voGYvzlU2TJsTfUwo4UlMjPS1ctVIxn/5LK6+MWmg8p7+/Sw7io6fNavwahIoeea6Kw3W5XApfsTiuiQkkvyBUWhWDUkTbDw6LfoVn6U38EY803mISPiNPI1FvROH0ajsW8iKEGDg+EZ6EyvaQ+m1JVySb2IgsqaFUcZ684nUmymKLE5vYsnkvj+33Ebjcn8FUSfoNEkpEOio2d08cZPx6Kx4kQ0Pd0aeFJMd/W3x+DGzkqoCYd6BgkQkqp4v0Ma/0S4Cj2j3NQRZfr0n/s+CT0bD7iYlMDKuzmTrW9NmVPvXZBOXB8xc4Jdo4CuHrCy8nS8ErsyRDhK1LWIpmcp7IdyEqCXeA5G22dV8aHZiKitz+TGhiOZCPia+h2paksyoIb4u4o6DVAy/EeFx5PgHln1aOrrAsuDTAwszmJKIAka7q3vuLkJ2UUIpVhu6WFTo30iVfJ3doaxqk+aCwN2pEnzBKkU3x2NVpOJwb7sByDiTkf1EEEkGLfPlq1BZA7tDk2qKrqHwtNV4qBYVnrQkjKprYe6vqWR1Lw0lTzqIoSUuCKYk7VOTKeUydEZepM/339dNar68L/fGtpALcHvPHYev1xlSA7tTKX0KRcUlyqB+0wPX/gaZWLB2uNqAlWXlVZBv0lz7AfrDvHa0WAG47ebMH5bzt+8Yi2j2xl6Q57yOz+uVhXzFo76mDFpIsK52vP+1gsqtr29q4bkiolqvwptQ1DcZhaWbOjbh6ArcejeyBMdWAWOoOXk/S3nYKkvSyAVGE9LiYj2rIwkNUnu0qUntNpyhIddRl3y3WXCKqJ33nL6tynEZSVoEcV7CaPPv165FjH0mkv8tvigZUifhZB/GgY2wNs/rSMmTw+O7Hd4Y/pENoZm4dWft6vKdhMHPTzzaNUkoPrYuXMLNl/ORFt3Y/KfR/F7peKln3cr6k4ZGwwXzZ7IeeO9G1Xv91q62+tECOt45dKIKM2Huur03QoU0nsilWd5nVjoajrknJk2bZrqW3n99ddrxXNNd2C119cK6HvvvNoK9J84uWryq7UC+t57668U0NHR0eqBKz7oOw254coNW3x895NqJd81ODgYrVvfWbyIUJCHgJoQiAXi5+W4nFkJTwumpk2dQOQUPb57I+jRBEWgHSuCXJ6kF7hkxzyY5F6Hfr2+uGrZAesOn2cTkxWGDR5K4VGCt3bQslGYTKZzBRY/0QcVpGMcI5ZLnyKlvQ+tAKw6SRS4BbfDy7fKIiG+V7FMSCXwizGMay7IxherNiONjNhBgk6zqbK2iCDSkQc+YDUx7NolYsaA9x33IH/Ij3h1EwV+RgxaW2VjxqhBjPhm6AmtEfpxJ1Bh74cLRU74YdsR1C0JxTMtDFHYYjqeZXKceLil+e1DLtHL90hgY2Fh1CkEOhqj1K0jDkVmqAS7Dvz+cjOatiIENhTYUimVSqSQNhq7WsGS/tRrcakoqqTVgCzgp7p6U5g5YOflVKbwJaEL2dHj6A++n0qTTsjZ516F/dlPSOWoom2IJ7qs6SPQ3zwTFVkxyDFyRljAM3Cg/Uf2j0zCfm9IpfcwJw2CDmzvY4sErhTI9vs6VP2uXiJj2s/9CH1WtWFqgwo7P2UvMQhhYyL3QLl/P+VlVpQPd9pQTG3VioiIKR0FRik6HmuhiUiIi2DpRHhX3mjuFA7ztOUhKKg0goe9pULb1WRc476XSZd4k+XYrF6/Brv/H3tnAV7VtXXtkXNO3J0IEEISnODu7m7FaaGFUipQAVraAqVeLoVipcWLuwR3JwECBALESEiIu/s/5grhC5RLS+1+3/2z7tOnvXB073X2HmuuMd/BtEOakDCgpgVaNG8Df78LOEgkogsju/t37UqLlKNahEnQiAxZIP5wMqwEv0YriCweDt6OZWU1Wi3AZnT1VKK57Eig/WXQj36KsCI7JqtGkmceQF+0hQN+uJSk/NterJzXcTFX80rsGdIkeZ4CX6Leuzf1Rm0vD2WJWuMXQ8ZzMbwddejUtR8+4vyNS0xGcyIePx7RmXSOQhWAUoGJisJkFtrId4cYisNRj1N7ytjRiiP97R5f9Wdvq1TFJ49jOhsx564hb5kLunZuRhgxaCibdM9yd4YISn7xZrbZaN+qrRKCJsaG6hokQUeHj/jALywBPRuXVIFvXLuEhUfvUlQXcqGth4+5CIiOfqgIHHZ29mjB18hiBTyU/Gf3ql70aNsrzvRnOy4pi4nwqr95a5yydSzevJNIQ/6OutRDtZpPBj1ls4fgQyYZprH67WrKna2Jo3+1G/Yi8+SPPFYKFKWNiLILJBVmOT5y7RH/u1w35doqlrune09+z/vJtXzChAkqIfaTTz75XdeD3/O6/78+plxAP//Mlwvof+iXUS6gn3+g/04B/eABq30UNs/aCpQLulywpUHl9/KD5SItbOmmTUt8tmWHvM/diIc4fngP6mnD0KzbCORZeyKWlScHRxclMPzpR11w5A5tAbFoUoFVskE9cMY/EGuP+alksk9sT8Bs5LonXjctKxfTVx0kiSMB7c0iMKZrc+zPrY8NtEGIN3Zc80pMJLRXW+/S6GTCJiHxSJ5kJfA0CQ6SVigBJefOHsdPZDbLjbe6DZumRo+gHzMcFy+d47a4Fh7V6sCczZZJfozTTr8C2/p9ccexJ77czkpzRjgsNWxibKNDuOcYLDoZqsTQm+3cYV+KfJNFAwW98KRn7r7DKjIbpPj/xWYh1WSJxdZlxmCQeQB60f9d5MZY8jLj4K1YVpRjEBKXgfRs+pKpFV0sDWGsx5utpYSmGCpLx+tt3JR4GrnqqqrgZ3Cx8AOb8yTiWvyzEjX+78YKcou3sfptwucto7h84rFCjtg+moEmVtDLTkb6wE3c1k9XAlYaS7N05ojMMUC3uhXhwPTAFxl68YEwODiNfmtaTuhXLraqjIIGbH4jC1s1KlIU53ec8zhAReaSWIVkx6N2rVrQFLFPgMzjsjxpHYNrtAywETGd1/kLph564frmTzEzjLsTDAmRePHtrzX9Q0JCbADCC46LDsfy3UwQ5M7Gq/27sZJaAR8vXqVIFxKQMqZxBZiY27IqmoQsirRatesyUbMqfcjp9DMXKSEuCwqpLt+KTlMLiglcNLbifBShvZ3YPW9XC/Ss7YBXyLCW9MwCiuU3apJUU81DCSzxNAvtoxUXJdZkPpcdS0+H4QTnuGAWv+pfE7qsWHy95YTySb/RpTbiDN0we+cVCvMixnznY15bM4rSDqpaHHH/HmkjDmy6tcHJk4cRk5SGLm3bqO+4c88O7Ce5Qm6SnaqaYOiAwSrGfO+xE7C3MEE3Vtpl1yiFlV2nilXUsfJlSqH41WXXoW1FffTv3l2xnH/h75TtwBjfrjpqsVGwbPVVSDifMUxJSCdio2rcsCnOUzzvC+f5k0VLDTNlrZIhUeoa/q716TvfuXcXAmPS0L85m1L5msKrXn7mvjrvVVTYzBhOqQL++RnlvW/CZseUxHjuZISqRkgh9fwnh2qqJiZPBLVgQgWTJ9djuQ7/kYZBEeQinmvxt/Lxx9yleQZ3/T/5ff8vvne5gC4X0P8r5m25gP7PCWjxNcvF9emLsly8xYohIStSAfm9Q7YlJc67efPm6il6Iceguf4LCl1Zwaw3FtPWEYUWx+obK8Rf1giHba+PVXRvChmvldzJjmYF9cTWxepm3Mv8Hsw6vIs51y0QG3odWdk5eL2RKRp2GIRrfudw+c59tKrjRewWK9gZV4HwM3DVpaLIewS2F7XDzvNkD1OIj6qUjE6DJ2Lz7t2MO86GB/2V7477deNQ5P0gfEExnFekwfCGjgzD6IoV63/B2Simo7Fi90Z7D5hZ2rM6F0+UnT4quzrBlgJm72lfBN2+gmHmN+DVaiDWpNbFsTsJqsI4kFaFPt4VkJSZpwSRm60pPbamSOT/F0vATn82TdFSEEc2r0FeCuwL2DiooRi19IQnFy6RrNJWoEgW5JiIYRkDiJMLSsxVW/P6rH16soJrZ22Bdzq4P/bvKjoJm/RC+R62pga0K1hg9cVIJayXs0muGhcIIQ8ewrooGfaadDYBtlLNnWN+OodE+rPz9XT4uEc1ZaN5PKTx7dpq4uoO0V/cr4So8WgkpjNAZBnTHqnqLRhUuKCLzePm1N+TcqmJvPTIqqFHLnJd5Hf56t9OOZljwraW1xXeuP657/iZDiLVoRlymr4BK9sSO5L+sU/Y6HijRHy3nYGjGe74aucFZDLauRobTif0ao1mNd1/79RWjxN6w5J1m1RT2qA61ujerfevnr9m00aceZCnqp+fDO8EaztHTF+8XqXxWXCRNaQZQz4oTEX8igdWLFFCAllOi44NtzYmcQFkZqjDlM03ldjMyi3Cp11cEBGXrJom7XKITOzQEM6V3LHwRBhuUkCPs7uLzonrUEj+dknUeUn9Z+o2Vpc5t8R3PZO4Owl0ke9QRIEmC1ZZvL3x0xEEJTMIRT8N0ztVZuW3BdZs3oTTEXkw1+d7jy6hb5Qd4vX+bjebRTkJp/ZprJB9S9ib4BcjwhZ4q6OHeh0R4g/4u5I+BWnqO3L0AFIzc9C9Ywfyp+2wlu8jVA2xTXRz08HTozqFbAzucKHtam+Dnj360GOdivTUZDD2CAnEZKaRYLPKV7jNQHcPIyXepeF30dFALnTp9R5UQt8oOwQvOG/raeTwty3nrVvX3jh96ghWXopWQnyEt7WKM5ch1jJZYEs64f+GUVqUEIuHXKtllGLyZGfwt8SwPGf8+PHKfjdr1qzffPz/hu/8f+EzlAvo55+l8gr0PzSLywX08w+0XABFNPwdQ1IEHycHsqqoOzwDOclRCHQdAc9W/Z7wEf/e9z9//jxatGByHu+uuo0DUSyVQfpW83oswqyjsYgIuwMTIue+am+BvIotMecXCWLQoHNVNhIyoEJ3fgG0IUdKKoedPsf5jAr4mZ5RGxMtZvaoDk1uKqb95AON4NPYUPb5y31Y9TJGysV1yOUN0rHFCGQxCvng6rlMF9Ohr+FV6HX/Eq+uugBLCoLEPC0+HdycMb5VcYpNSWHRCejWujmcGA0uccDZ2Zlwot9ZvJrSwe8fX/LNp3ZhKIV3YyxktdAvPBl17HXoUCFfeYxtNWmoyi10Q7emuBKZhqUkcRAah3c6spmMWDZJGwyjSJJt/y/oX7VjrLOMs8GJitphwj+vbs/vG3MHfimmsLF1IOYuS4ltWm4xua0bmhCx9jA1Bz5szlpxPYdVO3qmkc2kcEtkaS1hxma01USTlfqos4ngkDAPN275v/rLdYTGZ7HiXYT3qlOExIRhVXw1BmTkY43jFrjVacHmwDo4eXgnvkxqiyoVbPH1iFa0ifw+H2gE/buDf/Lj9jy5KhRvh17zVp5ywXmJF1j5yq3NYRp/jZXfSqwGe/zPdCIzWy/hHu0WvoqcUVB/zL9t/Cu1FMn2tlr0CepvfS+EFLvi82jGshtYYnJ7CkXGVYuXWnd1FYrMnVHI1/zi6H0cDYhEUV42xtQgFrFfCe9XvNd6bPosqtqR4SnPT2qMCLuH2dsuwoaNb+lsWls2jZ+V3/ksdy/SMjLRrlU7Rmeb0AMcoESyPXdWxCv81pKd0Gf1UxZn/3q1Dz3HBUzUDEVIQjZ6eRqjUy1ndYzKhnDMPxqCm/RBW2gL8LWgC2kLmhbXA2kaC9oMGNU9cCBm7bvH3QINtFworPNgQycDdvL6/ayq+Npb2xFw5zaWZ7aDeyVXeundFCdbRiybBcO5u1KzpjeFtBF8L5+HqbERvOkxlnn//sLVZD+Tb8y0zQ96ecOLXOZTJ48wsCiKOzaO6MBm3jwiEGWI9UKGiO7jxM4RsoJ3u9dGjdoN8CMXoBejC1Vk+Oxx/RXWr+y4R3/1Ah9/HptivNe/JVzdPPHdz2twk+0Isggc4GUId8/aSognxkWhafNW6vP6HDrIxVo+enXqopohl6/7BddiC5RAHt3QHh3YtCieap/T52jVsVSLYQlmySQqT8S1fMfDh/fjF/9EJcT7MTa9X58BuEnLyCImTgoZZ/oQ9j2wSfI/OcS24e/vryrPzs7O6qPIjmQpJk+atqXAIYsx+U083Z9SKp4lJfbDDz/8S8SzfKZGjRop29++ffueODzSJDl69Gi1Cykif/PmzX+oYv6fPOa/973LBfTzj1S5gP69M+lPPq5cQD//AP6dArpscqDerR0oPP6Fqg4beLRBUbevSz4YRYrylEos8+8YpQJaMawPzlJx1y7EVzn0/xJJJE34Bz+Auxmr3sRJ3bp5RfkrTdhsZEn02rw36HGkH3P1kSuwMDPBuC5NlT84h2JQtrqlgipd/+8t20a/oh4cyWz+5s0xCCVk9qvDQSqM5OUWFWnJsIPOdzm0QQeUKMrr+h227feBT3AWvCyLMXXsUETeD8a83VdVlU882J/QX1kqLjT0for4SaQXdP/xU3Ci+OvYqRttEIV4Z+stlcQn5IhZPbwwc+ct1YhVi4lvAz00qORIz62xJSzJm65gWeJ7lUpgGkWTVKXn9amumNClQ/zY8t1E3Mgxk+bGYEaWi1dUBKwIpI+6V1PHYOyaa0o4VNHEogfOobVlHKbmTWSMs7ESrquGesKe4R/qfD0au29E46tDwer9K2oSsdnmR0xIegkRRQyjKM7HTNtT6EMBUWxREdrAHRSE9Kl7D1ei80XGSjYIHgmM5/F3RVeTYM4XIgq585DDm6rMM7Oz82CRRBsCGwwzuv8AU1fi2fgGBnsnquZA4UjnSWMgPc7PGiIcRExI85Qjm14l8MOMx8bg5BwcuB6B9VnNWTU0QDMXA7wy/MkgGHm9oOAgTD8UrQJ1xHfuYmXMEJhoGOwjr5q8aLGN5PVeUvLWjB+n0lZkkbJDbALzVm1lk50WrWlDGDvsJdoQzmPBIxZ1h8o69Wcy0ui31nIeCebOjxaCkwFhaFOrMpo0b4fbbHj9+kiwInAIm/udppaI4zGS0BIDEzP0IGfcwtyM8yALril+sLv4BSKzdJiUMgJRxXbkHBdiw8S2mH0gWPnhW+tu4T3dNhTbVEVet29VwqTBnklcvBIZyYOcO2x7CTWFFJP0mBB8cLaItghGmQuycRKtMk8Nv0tn8MuFEHjZ6DB+2GAlYN9YvJ2/U3keFwETesKCCYZC7YiMiqQQr6t8upcuX4C1pQXqcKEpInXKfO5YEDuXRiH+cf9GKqL7BH3YJwMfomMtV7Rp2wl5tHrIXCkV4svXrcf5h1x8U1RP71WPFBEGphw/iVvpjCUnqWVSr1Zwca2sfPel1ddnVaC/XrEGgcm0RvH7f9CzrvI9y/eIYjXanvxnwgax7/BBtejr1aWrOk+LSeu5SVpPNoX4uMaSosgglphIHDx9lhVxa7Rr2/kf80bLYlHmuwjVf2ehk8KKYPLk9yW7hiKgS3tQJMzq5ZdfVg3dM2fO/EvEs0yT+fPnw8/PT73v0wJ6yZIlqmdm2bJl2LRpE3bu3KlE9H/jKBfQzz+r5QL6H5r15QL6+Qf67xTQctEVioE0CN47sxM17i1SCWSFTSehqM5QaIIOQ3vqc9WIVdCXwSfSIFd2sAIsiWkq9ph+VblJ3937PWq4WiHPqxfmn4nF9fvxMCL2bl7/OrA3e3JbNI9d9ss2bUNocgHGNbSDd8uuWHruIS6FkaTAm4P4Qdt52SmRIM1z7nYmSE+IJpnjFmjjRD1uS0oU8NHAOKLIImBIJnLjShaY2LUBgvj4DefZXORoheHNSnzB0kxkbMZUOHoyo8iG/mTLeVYF2a1vS1sHfZG+F05hGX3ActN/lxHfXk81G4lfUvyq/qwyt6DntLKNMb5hqp6k20nz1gg26w2qaYa4uDiExqZSzJqhiosjCRwmOEYvqlSjhazwrCHe6P0BcSpJ0YtR0x60ZiTzdc0pom1ow1h4PBiriFuT4URhvn14pZIgjUNxqtI8pMClnNoAACAASURBVGIq3s5g45+JPXJ7L37MUZ534B5fN1ZVSscZnYCdJgPfpbRFarEJqhqlY713ACyaU0TRPqM7/SUSC42x1ngkbK2sMbih0+NkvGd9ZmFJSyhLkXuHx9Vb7Z09xNmVCFGVSOjJhEYOAzLA9VIjUZCfh5CaUxCtcYaOgjfw1CawSI7++r7Ie2nrr+cYnyv+T7kx69tWxM9+Cazms7GUtgSJnBaKR1zYdczdfQMpZDTP6l0bXsSXqcHzpRd/m0mWD6F/fj4RePlshmTSYv3R6q8l4dJg3xsUy7QecA7n9f1RVa4VhYQs7/wW0/BA44qdJ86jsr05enbvTa2dhxRWM+0ZqqIisH3P4XuiC8XO0K6SFi+/NJyNhOeYXBmsKqvTB7RApSpPRtun5eTjU1aPxQffjd9haEMXnGPT6JJT93n+89DCSYtm9lxUsrpoDCLuLn1BzF8uBiRMQGy2lo13RpjTn4l93KGI40LO3caI/nnaEVh5FlzeuZNcON45gPbm4dC381AJkHqxATA4/D7Fvw7vJ/ZitdtAicslY9sgMzUR8w8F4GEmiTQdqivcW9khwvPjZesQzYWDUHM+mzgMWempmLmaSYAU1DWti/H+I0xe2eedJZ1js+8D1HHQx8vDhiCX9og3l+9RC2YR8D9M6q8oHlIRj3oYhRq16tJeUgRfNmLa0N5iZGqtbAuLDvop8Z7C3aM3O3pCT2eCmzeu4HZSPtpXd2ZFvAfySRARD3SpEF+0ei18Y/XUOfiof0NlM1lK/rNvTDEcGNf+yfhBvwpNkcXQEp43QWTOGNJWcea/+nENbidzP0k40r3rqmr83z1KxbM0Cz6PkPT055BehBUrVmDv3r0ICwtT1V9pGGzbtu0Tuxt/9PNHRkZizJgxqpotQvppAd2VTbNC9xALn3wH+ewi7n/LZvJHP89/8nnlAvr5R79cQP9Ds7NcQD//QMuFSLbN/o4hDSpyoRWBIlB9R2MKYibJScOV3DF0uyaUcHi5zV7YjsEYj8RQ6WfRHv2YW++X1ZZ7Qe8foBdzAzk734apiZHyY76d2J9VW0Y4FxTTU+uFShScIhKEpzyC0coijsWjanDgHeglBaOIlIWdLu9i6+UwaJlY+G57V1SvURszdgWSlUvbAj/HW6zW1a1V44nYWREiCzfuRmZKPN62uwyXPp/iwzPZiq+bz6arD7p4ohZ5w9KU9IBBDV5MI5OtXwmaeBgTi8aNmihP5uqNG3E6Mg8FFNUv1bVCdzbzXWej025ynBtWtkYP8byqxj9WP0nBSKCXefLGm9yKz2RF0wgD6jtjbLOKOMCGv03EtOnTMvGKtyk0/C4SbCLb9LLdWhaxhxyJSdNif1AWNjBtT8bgBs4M63BSFemH/A4iHnaeuY4NdwtoU2GDI7fjhzV2VXgzaViUSnWF+AuYZ7NPVWZ3ub4PY6capDHYIeb8Bky/pA+duT2+bl5IakMyTqZWIMNai9fIxB5FjFqJ1iymFzcbG/0iieIjo5l/1oY4PMHttSQJZFrnqk/EUavq7ZaXWO2MVrHleQPWMDq6oSJpCDtZYh0L6o9lNZtR3iJWaZPQ+S1XJI2CRq8q7+nsPbdw4nYkdIXZmOISgkadhsKOx6js8ZE5Kp5n8eNP3R2K61GpipwiDY4iWo++1Vx5yl9ee41V+iK0dtHDXJMtbMpMpJ+6DrRkOYu1oZhNYxLOUuRMq0fX//FYayLOq1CYQq8eqrEw4fpBfH/0HoyKMjDN4hi+yRuMsBwT7h7o4YMetZQ1QWwZD9hw5sIGOWN6e0/S3pCanoVO7durSGupovrFFKpzNaoB8XWdeyAi9C72nrkMTycbdKYFQiwSsjB05G6GCAzB24kPWv67B5sGhzV0hmAmo6NJ56Df24geWL8UQxwIylS+9m8G1HoSwyeLBSYcnrhyAz9dTVepmkPdMtG7/3DiBC2QFXQWJuc+Z8BQAXwKGsKvuBp6e5miwYNVuJhqg+8zmC7JRaCEi3w0cazySp8/d1LNixYt2qqmwNDgO9w58lS/FbGzfEo7i6T+GdKesuCdcWyWJG5vwy7EsKg8qVNJA1/ZIamMHy7bwNAVLUUsWdCvj0A6K/Uz1xxSQtzbpghTuZCV97xzh83EPBaCXBN6yDb2C9R31Me4oUN5vUqnEN/LBtoCxZ4e34K+cdpDtHo85jmZqF2nIYk8eezHuABHe1uVfCjj1W/XwIyYvJR8LeaIjYuWEWFLn7wViQ51KqnYcaF6CH2klJry/cq1uBLPayEX1SLE3ZkG+XcOWTBI5Vkaux0d/30A0L/7DLJTI5VnYfE3adIEPj4+OH36tEocfPPNN9Gec/SPjkGDBmHGjBmQhMVvv/32VwJafqMHDx58TAmRe4r0xMg1779tlAvocgH9v2JOlwvo/5yAFgyYMJ6FmiENKU8PTeAuaM8xyY034Px+PyohrQk/h2KXRiqsQn9td9oViFljymCe/H1qFFJ2z+BNOlc1DgZ5vwefMxdQszgU/bp0QLDOE3N97qmta6nmLh7GhrHUWFxa84Ha2m9tHIa8oZsQvOVDmKWFwF0bR9rDBkw4kIW8bHJnKfqWjm4CfQquhRt2smImN2qmBDIsRZ8iXEMBISSH/A6fYmmoHc6GJMGIBII5vavTS5qHGSt2IJU3T3cmuH3y+q+3rh+QPPD97vOKxPHm4C7KxjGRN12qfMXO/fyllnCqRHLIw3BW7mMo7uuyimqIi2Q/Z7LZS/jAIkI+Y9X3AX3BWawmj6Gglsrznahkpgs+RA3zPAZBsJLHm4pzwQM8OLMGS1OaocixFuLyjFSlSxYXPRgF/gsFtU8A2bm0FHzG76Ale1mQaGI/kCELh9n776kK+Bjnh+gW+S+szm2PvdpOynIjTZedfF8r2covZEDKuGMIis9WyXuCwfuyX43HuwJSRd1+NVpRQmzp0TbiToRYU8QaIp9pxYh6DED5n5ARvRRyqTcNpjhl4Itwm1mFzpN4di4WxD4jFe2Cxq9x7vz7aGSpjktMt4Zfamq7SqhtRYQayQOyYJTjI1vS0uhaGt4jn/s4Hy84N5lDEjrzYXcvXA1PwvQdARRQRENnR2Kv4Ycl9gsKe2FSS1VZFinivc7rsUDNXRnSRCfnS3YnSscPh2/i8FVaSlgJfsXSDw8LzHA2rxor9kZ4uZUH+reohbnL1+F+BsWmcSE+fW34rxrO7t72xwKmVEoj4fTB7RRDfCYjsGNYwZVuho/7NVCR0tKwFklLgSt9uTo29R2+HU9PfSG689zHR0eqbflatVlNZ6U7n7s1cmxCo+LUwszJwU4tyK7F5pLWEYPWRiEYkfwjDqWxSp9JDzhPWv/qphjQdwAunT+J5WcjYK6XjY/rpcO2OSvwZGhrGb0u5yom3wQfJXall94MQ2qXLByPHTuIVaz2yxhZz4qNdyVNdmKhEquM0C72+uzGzchUHpMSsXzpwkksOfNA0S7cLNjI+ioXUCwAXGS0dxGtKs0pxEVkh4Xeg7tHNSXE74cEYvZ2PzYAloQjfUdL1rWrvth3wZ/hQoaY1KWuWrSUHeK/nrF0IxJztXCkEP/89ZGIpdVi9objymLiZZqNET0ZssQ5ZEErVWkF9Mij+PWGRPi9MmwoF0IZmLJsj+I/5xZpsXhyP1WVlkTEh4z69mIiorzXeQpxJ3vukJGb/XeOv0o8i3D+4IMPHn9vRUC6yznNnRZJkf0jQ6rNIsbFpnHy5MlyAf3fWFb/IxPj3zynvAL9Fx7M571UuYD+5wW04v0yfEKqW1IZbdiw4bM/RF6mqipL1VCEkG7zUIUwE7tGPqO4Nbd3UmB/i2JDSyWeDvjdwyZ23TloM/Fa18YoTIuF281/UV8ZQ2dmi7S+q/DJvrtIZHBAm8pGeKVLY16Ud2ODfxItBoyXtbyMdm3aQ3dtFTITo9hsyOp19b5Ym9cZIfQsdzC+hw7tuuBCshkWn4pQN76K9C9LxSw39i4uHtsDC7Jg63UewfY4LW49TKdf2UAJTkGOfUAKiDG3j/MYCrFi6kgVoLBgywEix8i37cWtdvqynx5zl/yM4GRWnCk+vmtAfFv9CZi17iiy6JO0MjVGvo2nCjep52qpUgENKNhvskq65HQ4yRm0ipCkIRSEfAp7l/wI5ObmYGF3G6TbNULi6WWYH8JGs2J95Brao1vT2oqLLE2GF2hjOR8UT5xxFvQMTPAhGyhrUMAeu5ugLC6CNqvHMJCyEc/IzcDG60nYE0BRyi8yuWUFtPedyPAR0kms3ekxXqW+njZwpxKVBXVZnXxkyxmw3FcxjospdKT6LfxpwdqJD1e+09YJDVW6YdmhJWFFrBHFTAyU5L+CZlNe6KohCXu/MGBFKqpSdS8VsiIkBFMn9iKZn6VMXGNzS37/RFRg1bYq7Qs2PO5yHys6Nhdz/U1xI98Zb5mfQte8I+RF61PUd4ImlVXdpBBlbyisORAFTSerz7juXDDWnw9GJZN8LBjTnh7YksXBHqICfz4bAk16FD60Po66VV3x1v0WCE4T64QxPupcCYt3HGZDaiEXYzosGN9NVZ037dyOWyy9vtSqprJAiFVFj4sIITrI+GbFalxP0qlq7WcvtYZDhYqYTSEekalj0AktBa+NVI+V36ZUngXRZ1/JAx/tvctKdQHe5w5AYzaSypDjI41kYhWafoyLRM4zqbIvd9gB++J47DHqizyTCuhduQjmAWswL64lgoqcOM81eLW5M1oxyEQqyIfOnEfNgttob5+JxHqTkAET2hZKGmh9GDay4ToTYDgG1zRVuLjLjyxO5qzifvRSJ9hXeDLlUYJa5m45w+q6HoZyB6dbtxIhvvKREB9NId71KdqFVHt3EDt3i7tSA7k4KdQzpE85GBsDMtXvu8ojIS7oQMHOFfLfTZu1YeU6iWEqQfDwpBC3Jv85OBCf7vBT4t2A/3w4ogeDY8Kx66wfEth7MbKZOxo3b/tEo52I4w+WbEISrSH2hgX4cvJIVYGeuXIvm0S1qGVd9ExrygtN8t/54FLxLNHcwnp+0SGV53HjxqFZs2Z4//33/3LbhFSe161bp46fWEXEAz1gwACsXy+c9pJRbuF40bP23/v4cgH9D53bcgH9/AP9V1s4SjFg8q6yxSbb488U0BS0ul2vlnicWbkr6Pk99FlxLObWqIiWfFaK9Ugw0BEXVpzL6jAbmN6J7cY0tHzG8RZhuuNV1OgzFVf2LsWVdCs0tctDVlUSM9JuwjjiGNwMM1DYdia2+sdgRyAbFQtzMNbkHHpbRWC12SvwCcqGl34cRrhlwLl2G1hcWchqoqny2kbUfRtzNp1UjXWDXCgmR7ytkFSH2cSm0gY7e5Cfa6l8v7nxYTAi9UNsKfsP7cPlsCT0aVgVjXgTPnx4H9ZcTeYNl9vUzlpMGDlC+aR9r1zk1q8dK18NkRV+Hff2fYvK5sWoYJCNm94fY97eG8onfTvXAVb0qT6kSDagZK9ukop/jWj+WFhIdVUsKwYsjSalZ8CJAtpWk40FFXxwv/sGfLrLHxGMD5fPWUGXgTEUGFVYdf/kmjHyNPRAa6zhamcBDxI+REQJ7qyATX7ClpYK/ooR3k/YKuScyjE5TpEtzZfS6KbNz4QmKQhFTqzicRGkuX8GBkc+YFGdzYKViBfszh0Gjr03Y1SzoYR4LBteV1Wd5XUy2XzYllabso2PT8zYDCLFMvkd7FnZorf8zw5lJWHAj6S0SUCKXIizAw8jnZHp9w28YK2XBo8HW5FcbIrPcgajyNgOn2TNg7MBaR556Qxc6crmQMaBE81XyPAVJuRA/wwbYul/Lmj6JnF9rEobWGDIosP0M+dCztwXLWkfaDeQj6GFKeoKrmVYM91Ph9rGYgPxxsc+oSp6XCrln/ashtjbp3EgMAnt3C3Qv3c/hATdogfbnwElhTAmwWE+I7uvkmkeSyHoZJiLurQQZGWm4eo1PzjTFyrBI1KJnbxsL6wpxJO4K7JkYm/2Cpjip3VrcD+1CKM71McD/cqK0mJEtEUN/Vh8br1PLXrKMsLf3R6AYPr9jQvT8YP+IlJZrJDeciZsnNxguXOE2rXxTdDHwqxORAzq4cOXWJl1dMYHC1chjlYKwc59NqTEziA9CQ/pR3amiJaF1L7Dh1i1LEavrl1UZfYrLgJCU4VxrcFrLZzRsnVH9hKE4NC5S/BydaAw70QkZRwyucXvTHuLCPH9B7hAvlFiKRlU0wT9Sbu46nuWYTKhyk4xa1hHFaVdmrIn9AYdrRlzGEOeQwvMoNoW6NWjH06dOIIfL3Oe8XVGelugB6vkMkQEa7nbIk2MW3fvoD0sA0Na1kTtek3gx/CWhQytMeTrVTAktYOBMsLSTkmOoS3GgKmJ7RQiLzjkHrwoxK2YhCq7ULO2SBCL2Ob0sJSkldJejTD2arzSjq/9lEf8z855Ec/Xrl1TNgvZVXjRIeJ57NixaNmyJd59992/XDw//Xn+XQV68eLFuHnz5uMmwh07dmDLli0v+nX+Tzy+3MLx/NNULqD/oWlcLqCff6DlxiIi+q8YpSQDqXBIpUNe++rVq8or96tBD6n+piGsLjI4Q+KRR+5VHkvNvQO8gbdFcUU+J/4O9Nf35d+Lj1cP++xfxbqHTnDSS8Ics+3IqNQFbxO9pZedCDPivRaNa4eCs4uQevuoEt1GdpWR0HAaLgTchVGcPwYYXGBctT5eKpwDo+JsxNNC8NWwJqhqpcH5bf9iJDJ5sa2awqF+T6Qf+hxZ931R0SATBe1mYGF4ZaYPsjrO8VZ7dzSpbIkVa37GmahiNDcMxRud66CoXokft3TIVvvX+28oVNz45i5oRUGwYOUaXI4jiYSievagxqhMYaElWq8g8gq0jcYi362Dqjbejs3GfZ07orN1SEhnAxOxco7aDLxWm/itvgNJYWBQi+9V7Hpgihw9Y0xsRu/z2a9RM+0MbIyZlFhtBr6LqAqDpLuwLErFLKvDyGr2FhYySOZSphOs9DJgwBCOL3tXQ3S+Mb4/HcGGKA2i6AUXL7kLSR69WIUWQdCMDY1itVCDglZLJrZe2gNSSA4qukaeiGRDVlhZoTbc+pLiI8tipNCrJ/K7ffP4eIh4Ld2ZfHtrAK5RBErIy+ox9VHRusQ2omHCovbuPhR6MPHxqbCXPztHS7eaZdu/hkdlaIwo+GkZ0hydhbXpjfDAqjFGWlxH5ai9WJ3eGBsKOiLfyAYDKmXj7bxl9GA3Rn57Rn8/ixgjQTC7JyAhLQuncz0RkG2NE3k14cyFy+LeTjCu3RM6YUqXhq/0Xopi6yrqK/n6X8enB0JIgcjH/FGtae0pQYqVjiRyyz9cW+LjbcjiYeX6nbHsxB3V4Cds8pdr6z8O/Cj7PAkkORqcjk4e5ujbqx+OH+GC7loyRTgUg/md0cMwnf7/lIwsDMEhvGxzC1qGxuSOJD6M51sTQa51fDhumrVQzarSpCv9DNK4JXYP1+D1cEzzh4Z2jazuC7gLJLaYEkLLp0tWISiN3mpWeb8Y2ZYBKS74bMV6hKQ/onNMKKmIlx3PqkDPWLQKUWxMFBfMnEFN1C6OeJ1jH0awyu6qbAO7D/oo4dunazfVNPjtT2twl5eMHB6vCc0qqPjvs6eO4l5kNGpWqai8yMKHl+AjV1bhRYgf5OJ37TV68/k+fb2MMKT/IMV/ns/fiymF+IdDf42di44Mw+xNpxVVo6/YWSjeJXZ88bko6RtFR8cctG3dTlk9zFVzsUb9s41C/FpkBgY280DDxq1UIuK3R+5xgURkpSEtI1N+bf/6o3O/9Jr8R8WzoONEPLdq1eofEc/yPcsKaAlmEaxdnz59VGV61KhRajEgu0ZC4nB3fzHW+h89jv/088oF9POPeLmA/odmZLmAfv6B/qsEtDR+CMlAwidKqxxPB5888UkEe3VZUHA+3PrujyJJhuPQCz0B7aWlFCsNcNfjNWzY8DPcc25htD7/3JFeUe/xMD89F7rcFCSauOHN3EnI5oXVVZuCb3u746Z+HXyzkz5qirl3zI+jahV3BFboD/2CDFQuCCHerDYWBejjXEQW6lSyo8e1GiKSs8nfvUQ2WBSqGqZg9uieKtAjOYCUEPG9dp6OBOv62MFGI7ED9K7ryI7/DExctAOORXGILbbCsjpk5vb+WmG0YpPT0K1dWxVyER8dobbEncmFljFn6Wq1XS9jRs+aJHE0UJQFadjrRs/taHqaS4c0gUmC3NFLN3CRtgp7WlfeIRVCQiQ+W7YagSlahRz7ckQ7OLCqpwnYDr0Li2gvMEQuFyErtC8hitHErxZuhAdpIfP1RuG8/y1k0+bRwDQFg3r1VNXpY7djcDiM0dQUNJ0Z013fzU4J6Y2+TFvk95/Y2k35gUVsGux6RaHRpIJY5FgHegXZyO/8JSvQ9ZQdRzVsstIqfvacUUzqI2HlWUNZOticJ2mJ3w6sydQ8eor5HMPNXFSJL5pb6bmDNxKvYYYI/2O4HBJPL31LYuYq/aErh8zzgIAAmJsYotqdhdDGBaCgFnc8bD1x+fBGzE2l357v5W1biK8zZ+FMujPezufcgiGamcVhFMWOzaPoddkVMLi6gnP3EApqD0F0FW41H72Mig/2IDDLEnfyHWHAhrNZFvtQpREr1k0mIi09BXYnP4Qm7b6qROd3mMsqdkv1XQRv5hdbrDjj4xqyCZBNgckJMbjo54tKzk4qQU+4wzFsUq3G6vJPl2Kw0zcUCYyFr6BLR9+K2Zg4aiTpMQFYsM8P5gbFmDa0O2yY6iejNKbZgJ7pRUcCVIW3sWOxis2WefcdxZs2ORjDTPzQ1okVbsOJbLJNwdS0z2FN44VaOHT58vFxF+Eu1JoaDsQlxt5WEdayg1HKDJYqbxpJIn7XrqKSi7NCvKWnJeP1pftha0DmMi0NSyf1oq3FErv30eccxbnYWrzI3JEhS1l5oB8Fjcxeshr3+HuREJN5w1opC8iXK9biNue+OzF5H7/6ayEutJslbJiUCvR0Bp88jE3ErvPcjckxUtajT0gYEY+4LKRi+fu0s3dSQnzXgf1sDizCAKYYShOwkDb844t5vLR4pbEtOnbsrkKYDp86DRdi51pzQZzMinga7R6V3asrIX6ClpIVvglqZ6OLmxY9OnbCLcaVr/Vl0y/ffHKnOqheu56yDpUOuUbM2nAC2QV66OJuiBGDh/6hOf70k0rFs4jMP9JoJ+JZqBht2rTBtGnT/vbK81/ypf9LXqRcQD//RJYL6H9oopcL6Ocf6L9CQIuXVHyVsiVu9sjrWfquj4NPfuf51l9LWkE+QxQooGaYz0NoSiGKEoIx3WQPvNsORILnIERtnIKaScdhYkRMmcsgBIUyulvvprI2/FJjGbZfCoIuLRxdje5gbANL3Ko2hQSKCLgQL+WpS1BVIEveNCs7O9IiYcGo4mx8su4QUVVZqKtPbyr9wBcNmuKHQzdVWMqMvg3h6fhks5oIz4Wr1qh0tHoGkZg6qj8CorPJi76niApNHArx9sslrGO56RoaGqlOfvFx7lbYMgt0p18zPjMf75DjLNU9ESZrWI0V+8bx44eQlpmNru078mZupbB4coMuTUGbtoCRzmzyE/bz59XC4NBvHuYfvotLt0PY6MRGQAd7zOnnDddHlV0R8SsPX8HRB0UwYeFvZlcPVKvogOk7byOCr22Um4g3a7LSTWuChN+ci9fHSabFSVDJcDYdCgrNkFQMqRBL02Mxfepidym2Jhu4tAJNprfBgankLt9BfsPxjwkZzzr1Itx+OBWGui4WqqKv/MkUlhLnDVZzpUkvd+AaZZHptfIuMooMVNV037s9lGf6RYZ8d+HXCvaqojFF+u7xylevx12KnNEHcOfEL5hx3R4FrDZ3qOGIaZXvI91/B8bebQYS3JCQZ4CJ3ZuggS4ce+5rEJqUi4lpC+BqpgeDomy8Z7MQl8NJV8hmVbbwAbI15GbTUzCPPWHObUbjX6s3wD9BgyY2WZhqcxHpll74JqcfRWYc3nH0x30ys5ffIK+b531m35IGQFloBaaS1sCq5BdsLpXzLnNOPLSZxYZYdCIEYfdDUZO2ngm929KmQO80hbgvhbgEqpQKcale7zvgA88qldGcgk+QbtEx0US6ecPQyAQnaKNZfvY+md2FaGGfQ5CIMzaz2TOJlfSqmij8aL8dNhVZ9X1kxRGuuJBh0tggKbsUCxnjLrsKUt0XoolUp8U/LaEtItpkMS3UE/nsm3duw9HQHHR2Z8LfwCH0Fd/GrO1X1Hc0EXE/daw6rQ8jQpCckozqFN6p3Gm56HsZbhTi0kgohJIJi3bDjpaJhFwdfpjQVTULHjrsgyvhCejXtCZq0V4hVimxj9y+c1fh1lbs8KHoZgIgd35KK9nfr+TChUFGlU2J0Xv1pceIutK5deXyGVJowlRl+KPB5ENX9qDNZA2uJ7IxVM5VzxJqiny3+NhIWNErLdz37WyIy87Lx6AeJZ9t5YYNOPWAiZX8QD0qFaOaZw3kZmcg9EEEKtjZoBMxeVIRT2TPRFUvRsf/BVYlEc9SqRWEqCxoXnSUhpa0a9cOU6dOLRfPL3oA/+TjywV0uYD+k1Por3l6uYB+/nGUyktphOuLHnG5aYaGhqpufiEZPCtW+UUEdDEblQxWMUyAAkrE2UKPn3EyLJtBIHqY080VDrwRvLf5KlIjb5OgkYAvTTcgd8ROGK2nX5EWAqm83u+2Fl+fTUJhShQ+8HgIl+YD8PbeSFXRE/Hxfkc31KfQDw+4iLQLK1FZPwVJjaYhLrMAKTd90MY6EeY9PsMy/xyyc5MUpu4lIt361K2A29d9sefCDTR0NkTn3sPVtrHc+Cxt7NRNTypNXxwIpGVDDy0rMJ577CiFsVpxIVptZX88qIXygpYdBTz+n5EcIqzlZlWsMYVi8vLFU1hw8gFlqh7YU8bgjhJriCQZGtGqkgsj/HjgAsLv/DWqEgAAIABJREFU+qO/eSB6FRxHqGMnvJc5Ekm5eohns15FYu8EITegvhObBWOxlAlojdxs0aOBm8LSORPTJuXlCWsuoygmAPkaIyywoVgau5FhNzpExCTgm6OhKp1wTF0LNPVygsu91TC4u1tZNfJbvstPxECKGxtQVLE5rQ0fl1gb5KAUMiSEZI6nh6Dp9I9/oqp9N2p9ABs2ut2JyVAiRRoYJd7bMDsWmuhrKnJb8IXpD++g20o26fHF9HiMT9Q6CPO0e8hvM7MkIvw3hmz7iniWLWzVPFWQq8JNNInBKKjWqySamsOfdhI5bvUZS56cVYAqVM7Lf9mA49H6iCm2hjnPX2O9QIQVUSSxYbJqlj/mGm9CmkEFvF/0Jlm+xTA21MfU5paIDr4OD1oeWrYWq0Ac3lhxGA6GeYjLNcDyyX1w8n42fiAPWJfxkHSLMMxyPI+gFvNxkOLSkojGAZ46fLLhGCLEusDPNmdQI1SuUg0L16zH5VgNmnNuTR494lehG2doU/iJXn1BookQd6E9Yd7SlbiXY6GIHfOGNFPzT3n3iY0TAZ1NBOTK8+EqCOflFpVUdPfcXdfAdR0qcFfnLZd76DqQC45HKYqyyJu08QZ57qSgcPW28WWiBctQRkpPh1g9xOYhglosYiLiREyXpVbIwnK6IObYUFfHpgDTSdUQUT2bzXr5bMTt7WmoorSfHpu2b8XBkBxysXUYM2SoClx5fwN3RyiORdj++O4YNtPm4tzpY1zQmyibhAjxs5cuolIFNsc+igEf890m2BmwYTJPh29HtVHJgPJ7PXcnEt0alCROSuVcGtvEoy1D7CFXE0oE9Kw+JdzmVcRTHosohLMx+dsvD1I2krLjxtWL+BfRhbLum96nAUVybSxZsxanH3LRyN/LEE+Nqr6XJv7JovXPDPnugqr7M+JZrBIdOnTAO+9wR6nUvvVnPlT5c1/oCJQL6OcfrvIK9AtNpz/+4HIB/fxj90cFdOmWuGxFCktVqrrPGr9XQIsYzwk6Dd9D61UYRx3bYmQMWIfrFDbS1CbNZ/G8eb+z7SbMUu4hKzcP6xvcRVLL2Vi0hXzi+Pt4x9YXFbpORbFr4yc+ypyt53A7KFgFLMz3vKWitz/4aQ8yMrNQ3+ABXm/pjHDLZtyOTeAN1wIO5KOmFRvju+NsECSGbDqrtRUsjDDhm9XUhrQsFGsxvxEtFd0+QBJtCJIaKKETctu7wO3jhKRUtOe2p7mlDb7jDfcWE8vEj/lqU3umj3VlpO9FHPS7ixbVXNGSxAIR0ckkRtjRHiI3q8tMlltwks2VfL3ODql4ZfBAHPf1x8/cGk4soufZgGmEJDCYFaXhE91atNYGIMeI1eTiybhdSNFJMeRMAT27V3UKt0KMW3sVWkNjVqs1+IJouepR2xBw+QQuGbeGS4Pu8D+zF40RgM4exAl2mqeEdWJMBIatuo7UQpIodEb4orMjzPNTYJ5NXJmzF2wqVYfV1gGKmKLHKPVc8fSWjdB+xmTQXlsNHckai1JbYUtuMz7VUpFE8hhSUZCVgnn1UlC/y0iFqCs7fE6cwq47mRhYtRh9I77gQsmAgs75EfWDR+kZ6YJyDCZu8EdYfDre6+CG/lxI8CCo7yaVbmTTJCv2kjLiQJ4zaeN1Vvbz0aKKDT7s5oHjtx/i6+MR0GTFwUUvkYQVLXLNKqJBZSvMaKTFiiASW+h5ZQ0WPavoowe37Usrr/fZ2yaLo8yUOFgUpaCtcxEmspHUPyodn+69jWIGv4w29cUIx/v4sdK3WH8xTCEbp1ieRaNqbvCJt4GniwMT9TorAfj68gNwoOCLpxBf+npPRec4S5EYFBVL734zOLFKHc0dDmEMGxFJKA1Xuy7fQmQ25xX/9wl3JKqSM7yCFdGTRII3dSzCm2NGPhbiEoai9V+PVbHu2PXQEuaaXMzoVZKyV3bsvh6NM8FJ6E+aSsuqNr95cRYBLVVplUyaGM9/R8OZ8dGN2WgryMbIqAfE6dVXaX0Xz5/EwtORCqVX3YqBI6+NVdi3H7Yx1Y+n+o1+9CLTxlF2SIz2ez/7qGhwd3OmX748DOdOHWdzIaPHmTTYqbL2cYJj2edtpxd5N+cVbdK0wAxX6Y5TVhxSVWrZRVrx9hBlJUlJjEVMzEMeu5rE7KXi+JkzcLa3Ia2jrTp2E75ZoxYoiv88sIEKVbnO0JQj14LQumZlNG3RTvUsaLjALI0bX7Z2PU5RQMu8mcb5WYUpirLgkGKEVO+fyXT/zSPNtS3Fs1SexUonPuEXHfJ8Ec+dOnXCW2+9VS6eX/QA/kWPLxfQ5QL6L5pKf+5lygX0Xy+gpapXGgMr0cfPG79HQIt4FkG+5FggTl8LIIc5F592sINHk+7qpSV2Wqpc8ridxICdD05AX08DtK7jgYOBCVh56g6b5e6hrfY6ppifRHL/zbgSEo0KFMJmlvaICDiPYvpVK+sSlaf0btOv8NGWCzDNkGAJ4McxzZBg6sFt8VBGQ+dhgBdDNCjopPLkwKqZg60lDE0tMXPBcsXnNdXLwSKX48gatBHvswlLgjdESExuW9IUVnaoRiRaQaykka9JMczbvInx/6K3V4JAKMYWvtKJXukKqkKeSHFRtQKbKuPu4FhIJtJDL6Gn/hU2SBrjw5Q+CMwwxt08WzJyiaXjNr1g1hrY5GFk1mo0NYxAZssZSHRiKhipChLfncXqmVhrDsRZEIFGbBcXAwsH16LPeDBeTiCKj8fVzKEy1oyuD42QLixcHjfIJZxfh4HHLZFAwS63+RpkTW+d0Fg18ogQkn8q3v0JDmkB0LN0QWH/n6BnaPrsqcCKtPb6BmjYFKqJ9ceYmCEI1VZROwY1HE0QGhZCwFkufnbcAques1FMMsWzhhBblAeb86PArT20sdc5OYgi7ExRzYq1GuRH627vwJ4EJ8y57agsOM76GdhrOk9VtZXd5BnVcXnqXfp6xU4j7Gapru56jd5f/nvBsVBERD3ENM0G5OnM8DAxFS2NSa/o9TW6bOPxUHg+qGr/9M7uOHozAj9diKLHu0AFukjl/I3WzhjYqIQcUfpembEMdym6iWI2S357KhrrFdatmKL6Mj6oEsLwmNWPD4NUjResXsfQDS0aMUXwLe5u3LwTiM/23ICODaZupvmPm8+iyRi+fTsATZq1RlpSLPacuqgCVjp27EYLRCbGL95dIsTz9PHDK51xJUEPVyJSMTRmPqqBrHP628MafAidXRU4mvB3F+kHfw2DVRxc1UL2z4wfiSU7Rmy2EKtH1DKBk6u7Eos2NtaMzzZT7OqftmxHdEYhxndrosTojj3bsfV2tvIV96iiw8ihw1QQyxXf8zAzNUFNVm+loS8s4j48qvIbhHN1QJb7ojNR9E6z+ZYs5y/YmCdkkqWbdyOVTPWJjOwurcaXnhPxX09dtkNFgzsYFWD+m6OUqJ6+0gfphTo0U77xUb/6+vt9dmHjTS76rQvwzthhikDz6sJt6lzKbtSSiVzscDEtjOuHDFqqzOTIXC4aD504AVsLU7QjOrP0M8iLP6t6L4sy8Zg/rxpcel2WgoY1kxZfdJQ26XXp0kWFopRXnl/0CP51jy8X0M8/luUV6L9urj33lcoF9PMP9ItWoMXnKM1YNWrU+F0Vjt8S0CKKSykgnxNzJmxlaVB7j+l+DSpaKp/suZBkhj/YMzTk1w1k8vgv9/jRqBqEV3U+6GIciHmG7+ByMrnSRL9NqZ6Nht1GwCDupqJ6FLm3R5GVG9ZeisR1IvZGao+hiXcdbCzsiG1+odCyAtjLwwAj+nRHUkw4And8Sb4y6SBViKSqxC35cz/BK/sa+dB68G/4BebctKIw1bCSqsOioXXohYzC8p1HFDVg0sBuShzrryEphFVcvYIsVal9e+0pxObos8mpAAsm9ieCLB0zyX7OZOpZN60fXiWvuoiEBkltZMQdbQd5OF9pEub7ZiMkzwo5xawospplQW6yxH0X0Xu8rIcNzFxqKMtAOj+jfX4M7lboixqNWtOSoSV+K51+aCNVSU8/9BnGX62CfK0RzB3c8C6xfCcZBd6aQS3CfpahifLFtp1bMC+pI2kJBqjlao1VFNoyLoQmMQQlFx09LJEffQuZEddhHOOLLHc2X3m2UvNC7Ujw3GpvblK0Dk18IFWTDgVVu+KCw1B8fjYNFfnZv7A9gOgbx+BcFA1rKxvkDV6vrBu/GmSGG/i8TesF7Rt1KFJ0xtD3X4NiHodCj67IZSz2x7+w2ZDe6td1e9DY8CHGFM5Enp4BhmlOYKrdRXU8c8kTV9zxZwyx68w7GKSQckIFCaS9pL2XrQpTKaWQ6E6ygfXefhXPXVB/DOYkdcYuLuq0tBkJ9k/CYDr86wItEfnKn25hpGF1Ug/jqxfALC+RAs8Tbgz5eCItkp9lF5vpFl8vpBc5D30NruH1gZ0Ra+KFdftPwJo7EyP692U11AhpjMW2sLTF/aQcTN18DRFJGbDnjk1TqzTMnjxO2YiE/FKgp49JLZwU+q3sECH+PYW4L0kwYpsYMWgw3tx6S2HgLLPCsNGKITUMh8ntv5LJitb0vQ/Firjq2JXNRZaNG3cwasLTkoV72k/EyvI0kSSQ6ZvX74agZcN6qOj2ZMS4fI4vf1yNm+RVS+DLu6y81mSq3969O7EzuACeJhkY0a0dKji5PGH1uMY48/mMuJcxqaULWpCisWXHVuy4J02ojPkmw9q7QXNSNTJU1V0S6wxpp/lxw1Yi+2hNaS9BLI1x4vhBLLtM+g/fvSltMNJEKcfjBhe5ghCszceIHSQoJJiBIHVg5+CEoDs3MJsx7oIQlMr0kmljFXZu5ZZtiOBrv0IevVgypCFR5rwIYfnvtxauV9YQC10hvn99oPq76cu28HevQw2rAnz46uhfWXCeNSdLq/dSnRY2sgRSyYJD4fjKUExKxXP16twZsir5Db/IkOePHDmSbO1umDJlSrl4fpGD9zc8tlxAP/+glgvov2HSPeslywX08w+0CFhpOPk9Q4JRhKHr7e0NE3pxf8+4cOGCSiJ8lsVDqs7JmXT0suJnTAEqcdqb/aLgRPvBIMZWS5PclM03GfxhyCpfLtaNaQAdxcgpir10NjF1IjFCeMRRFBEFl36E58O9KKzeG+9ftUZ4OgUc2byfWvnQX2uB+TazcPnGLQzVHMNAL31FjjD8helnFJdgRfNc48VY4HNVJQ1OsTyHZkPfx1ebDuFqElPzyHn9zvkEcrvOh/6lRbCNOsaKuBbp9V7B6uw2uBd8F+PcklG//SCs370H+0JKKo+DqxtiUL9BKNj/Pm5EJqMSQ1nsBi1AQkoabt4isaSqh2pMEozVl4eCYFyUCeuiJCw2WYE4oypYVDQAhjkJeK2RFczavomCuHvYs2k5lma0hhkrtmlmlWBLZJ2FfgF+GN6IfGySPdZSiHO7uKeBP0a39kRR09d/fZrYoHnjXggus5pJeAL23IyjfYRx3KxaL3uprvJIy5AwlIvhGbiTZcbkQgdlpblCcTl12y21Y9C+qjnmdqvExEAyjrnoKWRd8VrTRYhNSoO9pSlc9WLhdOUbaPJSVUBOMUNVCuqOeBw2Iu+hL02HjLrWo0DObzkVhbUGUbxfge7CAmUNKag/jpSWfqp5Uf/oTD6BVW7SMvKIkzM4RB82v0t+p88QoOeFV1edJUc8n77hIly2m4PYjgsRb82EwzuLoU/RW8Qo7by+K/j8589dYV13/+Eik/WymPaoh/WvNEYFG6pGOSa0Oejvfws+ObWR7tIavXN9EOnUCbaNBsPckHPu2By0u1QfqTBXleePSHlpUsUKb/10CPeziAckdm56W0fioo0fWz2k8TYh5gG+2HxMETLe681IZ4qyhavW4kJsSbrgGy0c0ZpiOJ9c4qBb13CHv8PV4fbKTuRgkIv5Q7z5OB0OMaBkbyTnLD3b3rRBTX1ljFpUbdh7mL8xDV7q20d5nyXkx9LaDklM+Xl90w3uojDdz0qHZY1jUEQyiXDNkU+f9Ib++CChO27nOSLfqgoTHSuiy00SGTKZ6EgPuqRylg55H/meeeQrW3FxuGRqiUgUlnJWeqriIMdEhWHz4TOoYGmMQX36K5Td+G/WUpwWsfKr4+u7wcjMWgWxRCcmoUGtGoq5LI2FEnbiRquDDGmYPButpyq8k5uTHMMUvwM+O+ETrgd3i0K8N+rXXuTAgKv4fP8t1Vswgr5+YT0fp6hecVkSEfUwqXmJXabsEDH808bNuBmfTxKLm7JjCP/5u+P3laCuwtTR2Y9SR4MCryMrm3Qfft5ELqQDAm+zYdBLNYAKaePttacpqAuQxoCcte8O+xXG77eup3KtFhEtYlosMeKVVog8impJfP0z4nnEiBHo0aMH3njjjXLx/Fsn4h/4+3IBXS6g/4Fp9ttvUS6g/7yAlgu3JLcJqk5IG2UrH791Bi5duqSCVMo+R15PKt+Hb8di5YUHsDTSx2d9qiuBVnaIN3j2vntMq8tkZdRCBZgIzm0+t9Rly1yq0q+0rKyeIrHJ0thURAF1ijdF35CHqJl9BUOsgxHDuOTJ2lmwTbqKZFhiu92PyBn8Cy7sXsFk6Hh0sIpmHNpqPNgzD8VJoayEZTI6fCXFgA8Ffj7r2BrMrZ8Gt+5TsfjILVy5fRcD7R7Aq05zGIYdRZWY/YpnXFR/NE5mu2PZhVhlDXmrjSuaNG+HeT6BuBEeD2PSCL4dXE8lAZYdUtH6Ye0vCIlLwyTdPjQ2CMdykwnwSamogiZGOtxHXzJms/WtcHXDJ9iUUQ9ZBnYY160lcs8tRi2EwMXDGxfdJmHejouwyn0IO10O5vchi7tab/VWZ4ITseNaNNp62qokQBkn7yWQGhKE2LQ8mDF625OBKouH1VELmseDaDlt2AmKX0cUOTdQ0dhzdl6lcyIX9bShWOEdBD1W9vUotqIYzPFq3lQubgoxkUEYzfRD4HDuY2iKuaAwp9G0Rl9o67F6TPFYOiSyW+f3E82bqdASg1dkTxxYyn2SPO4qL7SI3twRe+hZTobh3kkU2vSg1x+FwgYvM+WC/DQKdwlwkdjxgT+cop86B3UNuAvQnemFUqmWEyH86QxaVEzoCX2GX/rpOSzzc+rKQwhg8l9lbSKWd2TiX+NXHj/saGAcvj4SDKTHYIj5DbxhdpLIvQ3KTmKwfQyuFHlhdXJtNO80EAMbuJDykoX+i88q20IBfeh7RrkpH++q00E4F5pCa0ARK912sGNVUar3pXzkDVs3Yw8XY1Jlnd7Vk8KsKb5fuRaXYgpJ/8hRMfKp5p6Y0a8Rq9CM7Y6MREVnB3y19ThSiYp7twdj6GlvWLVxAw6Gi68XmNDQEl269FJi9P6Ns7C/xcCTAmMEVH0NLbwZvf7Ub1ATcR6h/vQlJ7dg1dMejokXoSMCcLhjOJcI2cglxaR0iIB+kwK6kALajJXXZVNHqSa8Wav2soFSh2G1ShIHnx4/b/gFxyOKabXIx9zxAxXGbvL3m5WVwphpoRNausPY1Bw2tCWYEkNoRzxfAgXq+gPHYWmsj57t25NIEo6tF2+r9MYsYufe71xFNQsK/u8ScXpeVdxUw58I8yzaRKrxv0Xcb9y2BbuC89X1ZGhNIwwkY70kKt0fNobFeG94T1jZPJncFxF6F7O2XVYLha70vI8d9hL7GkoWwbLYGUZrSt/e7A8oM6TSvXbLZpyLzEO/WtaPg1p+6/r5vL+XqnFpUUN6UUq991KB/nc9KU+/niRSinju1asXJk+eXC6e/8wJ+QufWy6gn38wyyvQf+Fke95LlQvo5x/o36pAyxaibItKxVkaU17UF+fn54c6deqoxhgZpeJZBLTECAvlIZse4jdJnxAfsV94Ms6SfiHV5drObGrjtrpEQDvwxi4+6LMUgsJNliGPeY2M4kO347DqQgQsWQEcXCkX9WuRRZ14mYl40xWqLLPuOLyXOgAPw4PQLJ/+UssjONZoORZc4Y2Twm+AtwOGt65FFR6LwgMzYJgRieIWbyGwyBWbTjLx0M4AgwYMw4PUPLy/8xYsizOQlRyNjS2iUGhZBZeObKJwy0Mj03gE0V8tqC9LK0uFuJIh1IIsispcfhdZKLjbkqLxy0aFwBtWzw6dyP3VXl0Ffd9lbCJLoIisAR+H1/DTVVZuyVmeZnYMLWxSMTdnCK4l6mCiycfXoxjQQB+rwX7GW7MiW0TxdsrzY+yN0DIgJgOTvPW5cCFHjQJSFiJDVlxRNJM8foblw73hkPcAc/cHYk+Uuar+e9trMK16InwLPJGlMVE7AFKJ1p3+Arq7e9VWfV6Phcizr43lCz5FeK4pphrshJtJHnL7/Uw/8g3sK2iMby+Q48v3qUKv7BJWs4WoUfjgChK19riY4YQ1AdkqdfDDbl70ltPv/aiJz3AjBQetKpLsB9pdNIlBSviKaM/ttRiG8j2zk1BUqWVJmEmZ5j+ZS4GBgcggR1fP1BrelWxhWIazW/YXEMBI52+OcMHBXY6PaM2QHYxnjSL/jYi+sEnxxUX0FzSZ9Phh+5iq+D0tBWnpaXDUpGKx0wFUHP6DSko0FI82eeKFFZnCyIZMbcBWZGdmYOjlKniQXggP8wJsnNIdcRn5eIthMrJwkcXfor5VkJSYgICIBMWeblWtAuxZ9Q64SQ88vcHCgpYx8bvVxC3mqfCOz633wr3z69h8IxGnwzLQo3YFdGdVVcSajFJf7U56iDfeylG2orfbuKBavRaYu86HC9Mc2CMR39nvh11NhhC1fh9gZVn/8hIEF9gj2q0/Grg7MOmyxLe9e+8OrA8QxGQ+hhr7YmjX9ihgxHoUq8NGJmbK8iANstfuhqFNY2+4Va35eHfFTFtAwQ8sfGes8i/v2b9H7T4N7NZJod5io8OJgXPg65jSIpGF1+ghzmd1Wc7Oksl91Y7HF6u3ITjTCK1t+V07dlaCUa5PsrgXCtBun73YfS8X5hTvn4/pwvAWJwju8QGbKCWCe/64TuozyvHJyWZPAJMZpTlz1a4DyqIzrn8PWPCzCKouIEmj+gwmNbVF+w7dlH/64uXzxM7ZqYq4YCUTkxJpQeGuGHsSjh87gKWXSexg82MrsrQnjxml7CDfbjuhjt20ge3o9/51j8SfuQ2K+BXCjNjpZBcjOTlZVafl36ampur4yD9lmdNl369UPPfu3Ruvv/76C1/by76WiHnhRUsTopyTQYMGYfbs2U98vdWrV+O9996Diwt7LTik2j1+/Pg/cwj+a59bLqCff2rLBfQ/NPXLBfRvH2i56D1ryAVWmgUlVdDZ+cl0tN9+1ZJHSEe4NLWIAC9tFixNpJNkv8X0OEs4ydze1ZVAfm0DG8M4xJO4chQDB3jzTiEVIYvb6s4UXtJQ6BMQy+CGfPT1doI578rvbr+F6JQMpDCx7/2u1dC2hhNu7F+Gi/ei0JksaI+mPZFVdxQSGZFc+TzDLPiaRww6YWFuT/Ve3V2yMaGBOQ5H6OHnEwFw0s/EF3aHYThmuxJxmoizCn+W6dqaTYP3kHCfDVoGYZhBIX681pdYcDxYVfeGmV1jLHBfRGtdERMdRayfoSJ6xBUYYde5G6hbHIih7ZsgPN8KH2xh4AVFRXaRFus+IAmBtgV/fuasIn006TpM8ZhvXzsPo8vfo6YuhlVWU7wSP4zVNT3e2HWY278uPMiT1T9FasaDy7hj3RGWzUc/MzBBjvfkTTfVYkWO17Ih1RG/6XW8E9OVTGEj6MztsdtqPk6nVcC/MjorZJlg+2RxIgJd8/AKjxLFd4fZKKraCbqTn0GfRA3xZ0sYSX6Xr5SgjaUv+g1abuTcvEtfapcaDtBjRd9g32SFtpuQ8xZ80yyhZaz6FMfb/Py1YWrnojydjkEboH9nF8kY9EEzZES9p1YfhVWJNUx/CIODtGuIfYM+6tyh/xPfK1vsN25ch7WNrZqnv7XAe4PHISie4SA8X9M6uiOcITr5xDuMa15R+dgfD6m8kxiix89dUI887zK2D1mEfOZzVy3cTGmVEN/zkpGPyC9ckAmur9iqMrQhR6HPBYiwgVM9BiC8+nhUsTNRczqb83karTBC/KjKP5OFlfDIZ+4ORG5+Abwd9NHdVeKeoY6P/CO/IUnrW3uB/GyjOMZdu+CWpiYXQhTi+sXkf2vx0+u9VQiI0DgeREVy8Vof+mSQX750VqVwNmjUAjP33MXRgAi1u1FJLw5zrA/Au8cE9gd04ILpS4Tfvoy3kwYiz8QRHb3d8WZLNmOGHseROwlYdoe7Jzx2Y+ubo0e3PrSMMN3QP0XZGWYPaPjYYlF6HIXHPGf1DjzI0seY+lboSva5pPUtOMtdGr5QO5JJXqfYlCH9A3rcdRCRe4d2izP+gWhRt5paPISH3sF0/masaVeSyvT8cV3JLw/HDS4wMmhD6tKiGb3INRHHirOlNfsBSCiRMenb1UhjA6B85vmjWsGBvGzZ7TkTrUWLCvQql6GQlH7mw0wlXM1UQuFTfzqgkfpOgq+7SDa6/Nm8gfVVc6MMSUUUAS19DCu3lTQoTujdTu0wbNi2GbuCJOVVD308NBg5mDsif9GQRkMJrqpZs6byi5cd8nsXlnspk1v+v3impbFQGhGlOi3X9uHDh6Nv376YNIk7O38SVVf6niLkBYsqyYXff/89mjXjIv7REAEtBZUffuBis3w89wiUC+jnT5ByAf0P/YDKBfRvH+hnCWipYtxmk12tWuy+/wNNKaXvKhd5YfDKhVUsCqto2XC1NsFYChYREnlM/hJfs1SAhGYhfswM4sSsSZhYOrwuIpNzMGvvHfW4V1pWUqLs6ZvFpjOB2OBPKoS9FT7vW5M3CFbq1voSE/aASX3AivHtoG/piAzyo4sOvA8HvRRkVe2B7ZZjkXXvNF5KWAjBIk/WzUZKwkMlRD7wikX9AdNw69IR+F04jvZG91ClWV+k1RyOpINfokocfdBEXO2rvRDLztCCZGuDAAAgAElEQVRykBWPHjYxGDduIs7Q9730QgwqcEv6NTYZ5aXEosa1j+l7NVRWlpQBmzD95z1sMqKgsSvAe+PHKGvKd4cClbAb1LgSXmpU0kinxy10w4PTlNf3stMI/BJugToVjDGczV/Cnk5JSUHQTT84pV7FjqSKqFKnBXrVq6RuiFK9/5xNcbci4vGK0XHeaC1Rtf0YVc1PWTsSE+MHIL3IEBkG9vAoCkVX43tYl9EQhWziG0Cbx/jGjGY++y20D86jkMmGiplMUav2uyVeXQYDT8pWg+U98woKYRHCaHb6hYvtvKDv96Nq9puXNRC7UqtCw6r6QtvtaMz0wdSKHeFfyDCWjBQ4MlXPysUDlqQ9BCfmspHPiPOAgo0iVp/NexpaPPKbTkYRY76VeEm8j6Ltr8GYpIXint/9W3pH2fkiC7Y9N2JoudGgQzVbpktycUJ1NdSjGO+4s3LsRfKLfKffGIEx6ZA4clnQtfW0w6wev26Y0wQfgcGpz0oWjrUGoqD5W0+8agoXGuGJWfByNFPkD4k2/4I2AElnlAr+50QORkWE4putJ4hBLObWv63CnYmYFiEkvldZQKw4egWxufpwZLjId1NGIDU5AdNWHVV+am8bYt2Igis75HPfpKUoNTsPHa1iMYd8aEPHks8vdprLDBCZk9KdEd2OjPB2wEIrNoKGnWRjogHOuL6KQmNbNKcXWKwmX0lTYDJRhGWqteIFXn/iKqoT7Th0AP3xHHmsUEp1WYbfpTP4+gQFPCvMPd2AcS8Nh7/fOXLHSQDhUHaV+k2f+Mzio/5sxUbcTTcgLlCDru064ApfZ83tXPWb8TTORN/m3opFb8qAJVPyn10ruat0xgMX/FG/qrNqPsygpeTlJT6wZ2y6UEhWTOxCwW0Pf2LnrgdHoF3jeqjE5kepqottxPZRmuOsxatVNLmgQORc12LDoVTkN3BHpaZlHmYQnSf4wLLjyiOvtPzZ1PaV0Khpm9+aVr/r70Ucy3VVrs1Pi+dnvYAIWqlMHzlyBN98843qYYmJicHQoUP/FtqGiHsR0EuXLlX9L6WjXED/rtOrHlQuoJ9/rMoF9O+fS3/qkeUC+rcPnzQRyk2+dIiXUv6RC62x8ZM3hd9+tScfcevWLTiR+SqNLp/uv4s7zP0t4nu918kDTRkcIrSC0PgsxVEWy8B9CgoJc2hQyZLb7MbKc7vs9H2VPleHlo4Z3TzxgFXDtRcfsCJtiEYWGWprunJVLxhxO16EUSa3xCf+P/bOAyyqa+3CCxg6ShdsoKBir9iN3dhb7L0kGjVqmtEYoymmGRNj7BoTe+9dY2/YxYK9IKBUaSJlYGb417dxDIJKoiZ/7r2zn4cn9+LMmTP7HGbW/vb63iW2CQpyJwrxebQs3EtIw6ebWd3j9vCQshloVJcxyvTQ2vzWiA1ucUoYri81CYvCPOCedBWTCuyGoekXeHtDKPQPomHLjfVFbktY6voKDwsQb3Y3EE4eXkizL4Q1Z8KRkqZFt+pFGYRhjY9+XqBilkXAjKqQAv8W/RC8bCQCEt1QxY7CpcJg+qEtWcBNV1vA1vzi3U1f7WzGD8tmeZPSbhhaP2u7VzyoYkXJpK1BvL7abmtgceY3lfYXxQjpm4kaVE8/ilEBFoyQ9oS5LRcR3WqhAhP+JBxkLCuaVimRZEYnYZ3HQqQ3GKcqjVLhDTu/D7MTauJ4tIZV4VS0cbiJkhb3uIDQoHXbLrCPoN/17K/ycQ49iRM6pgs+d6gQFS3MGFJivYXNi6xQG1iJzRSiCL3OKXU+wsGrUfC4vgz+eu400L88J6M15qc3gx3vM6mMm5HPPHHPXVyK1dFewWarPhXUwijneEgRcX37LPjHbmSFlSQSrzrIaPJlnren3HsyL9KYKr7wWby3hAvd13If3s23l9YLNsY1Z0X9Twy5TyMepJFe4qoEcK7BRY+F2F9oI9KXpUXF6umYP0G3yT0gzW1LToSpSnRfhuBItXr9pnVYTpEo1oBG3Pnu1LIFoqMZH880wSIPz6Ogiz20JJuE3mMMPekeYkG4RdE4bv15xokbYE87w2ySI8SC8OOyDYhOMUP3+uVxJomMaf7NSXOoqj6Kl1z427QC6W/sw6yrNrijc8OQ+t4od3IMzKMvqcbYDCIDDbSnGMe1y4GYsv0CXK0NGN2rDf3C7nh/6kJEkzahE/Y0WeTiw5YEwZvXL8PL20dRRI6zkp7Ea1i/XiMlrBetXIHtwVnWkw4lLdGjc1dWk0OweNsB7lBZolenN1SlV1BwDx4kM00xkhQaDSZsvkRfuRkqO6fj0yH9cfPaRUykR18sLh28daheo97jBYdKTKR9Y/KvxAHSClWFi4sxb/VFLAOK3v1trzqOEyvc4t1WzY/sTUhi86OLawFE0I6xbu8ReLvlQ1vuMsm/D/h+sZpjYaV/1bECSvhVhPijAwLPo3LpkihdropqfpTPVmkWfhXDKJ6FNCKfqX91CEWpf//+6mnSiOjBHbLWrVurH9nBeZkhNhvpdxFLjfipJ0168u9IBPTYsWPV9RA74E8//YS8MKgvcz7/yc81CejnXz2TgP6H7m6TgM57oo0CWj7or127pli/4lt+2UQsOd7Vq1fVF4h8UC45E02hGKMYxRO5Ze1FjJlUw8TjLMl5kzsxxjbHVqI0h32144YKLPmITYRlySP+bOtVhbuTSseQWgXQtmZpJZbvxKYq0SG+Vkn2O3c3ETWLOavX+UOIW/AYDsr/GhVyFSvXrYKnLhy9bY4iY/BRpJzfCIfzv/KLUY+EYi3xZmhzZDDV0CEtEovclyPazAUfWn+mXu/tet4Uu+65Jnjb5tVYeuEBHM1SMdl9OzS9VmPQ8ouc1xRuw+fDvD7VkMwv5pjgi7ANWsbtZhek+A/FLjZSpTLvt3fNIlmVVxms9FpvHMQmuAhk+L+NzAJlGZf9IdJZVUq2LgDLPmugDVyBnrs1iNLnhyuF4ZQeNVEmI4iBG5YYtJcBNUlxaGR+Fp86kZDQYgoy6Ss2juPBcWp+RfuOKXYTr9/5AZkUeiJIDYWrw/L4NPVQqfyqprxnDYnx3vy2wtXpSneA5tbvSkwbyHROb0c0mnEoS8xR2iOWqqbBtveHIcK8IDF/1pjwelG0sDyHBtuJ6qMAkpN6z98OXnZ/JNlJ5TWRJIKhyxiBncR0QPMbmOO2GroGTCbkwuCvDLFirCT1RR8Xik5h3+BAGqkoDMio1oMe679hrAsMx5qz4WhU0gWDee8IpUMa/LbfAcVcOsa82YtVXVY5sw2VbskmVBHXI+oVZlNqfeV79dZehefFWaxAZyDcvQHu+XRjk50TBZGnWvSuJObtQkQKetQtg4okVBw+uBvTApj0yfvaz5HR1UMHZL2KXDfucDwkk/pE8XdQwv915VHPPsziGfV9Zr5CK+qr8nk5gm5yTtXk+QtxKsaKuz96TOpZFwVpZ5gwaxGuP7SCCwXqlCFvqOpu9iHC81s2wJqxYXJc56zY7B9/pW0imgtNvvd367jjtQZNcSc4WDX5VfWvAXePwjjF0KGw6PtozAWxUD7EizyLXmRbcx1xcQa8RV/z3bAQ7D9xSs13h2aNUKSoNx4mxvPx7moXJ5bBLiNEQLMpUM5vNgX0QwamjJu/CVGsUnekoO/O6PGcYwEDaeRvtiB3mr5m86OkhA7+cRkSSROR9z7z7ZbK3/2qhlE8y2ez7Oj91SGfl927d0eXLl0wePBgtXCSJNlt27Zhx44dWLNmjfJOv+yQXbGOHTti+vTpCiloHCLY5bylH2bu3LlYtWoVKSj7Xvbl/iufbxLQz7+sJgH9D932JgGd90SLgJYf2RYUgeLr6/tKPHHS3CX2EKmYiR8vLT0DkXoH+BZyR8Vi7pAt7MHLLjxqpNJj6YAq0HGretr+YMRSMA9vWPypwQ1Td1/HzqBwVi2t8R0rPyKaPxQfND2+XrSHTO5EG0cOIS7H+3zrNfWaIsQrskL71Y7rZNbeRCYr0aPruaFGnUbICDuL8PWfwDudVVSXIjjfdDlOhyWh8eVP4YO7yjs9Nb0dK47m8HW3V2l/cmwRYuLl7ly1IFm+OiQtH4B86dGwonUkoc1vGLTiIjJoQ7HW0KfapxIexkfjk/kbkaC3whDb/ShfrQFu21ZUW9ASOS1VGmPjpVQFBSkGG0dkkndttrY/vbkZsCjBJi5WSxcfu4Plx24yEpnR3+WL4HOv89CcnK2CJ8JrTsA9xyqoGDge1pFnkcltecX4zWZTCGXFM/NhDPx2EztGAoY08aVTkOor9iTDmUJYAiFKNs/F/M1+Z2mOT4cl0XOZtiRdMJ0w/fXvVCVaWSLscogIVmQ1AT/CnAEda6w6YlJoKXjQQ7PEczXcoo9hVWoN/JTREZWKOqtFlQVf35hkJ0ltCWTvfRVorirUgpzbMbAknNyyyCIvNCjUxy3agaOR3MGwtsPUbpVUA+vThqD9Mvn+VIqhDFZuRWAKok92CJ462JinexCFNmsfMISHDYAP7mNpkY0MjfkS3eYdo50gHfd1lvi5V22VJijRz+dv3kED/yrw8vFTCLQMWjXcGX3+OMDo4Tnlr5ahK90Om5NI/ghMgrf1Q3SoUQYeZClnD9+4c+sKyRGnmcxnju5lbNGxfRYlwjz8LDRckA2J70FvvjPsCvhgXvcycD7Hhtake9DVGqn83HkNQcQl0u9cjR5rXUY6zgaeQmHuPBXzLaOIHz2/X0m/uI5+ZQ1+7luX5+eFDeQ/H7iVhPYV6bVu2jJX8+NiVqU309VhwSrvp0yFzOfkgQ07d+FYvANTRVlJZiOte8Eng5zuR4Xjy2W7EE8ax0fNSqrFwwZW8ZdcElRnJloWIqWlTLksKhB97gU8CpBXXRJBZEGfvyHNj1XV/7904RS+3HZd9SlY0N89d1R/9T62kNd9LyEZXZo1gJtHEUUDERyg2DfETvPmlOWqr0Hu2VmDX89F8MhrHp/170bG9cuK565du2LQIC7IX9LznNf7+PLLL5Vnf9Qo9i48ZUi1WogzUhE3jdwzYBLQz78rTAL6H/qrMQnovCda/M7yxezj4wNPT+LGXnLkbBY0flgbvXgipqUaIh+gx6PNcSwsBe0qeKBleQ/svRaDmQfuqIbCarRxiB9SfLXiD3WhQHWx0CLo8lWk5CsKrwJOqiItovitpefoY9YoPvQi8qIFHDCb2/PS2CbNcJKgJuclRhWjuBY/7F42RokH+/PWfqoZ7OONl3Hn2gV4WdzHVKe1MLT4jlvWtRUTWXBtMS5VMX7XPRW9/QGb0Kqzwj1l7y3SQWgD4Xifv5MtfV1yHO7dvgyPYuVgk88ZlyOSEMAAEvk3P3peA47sw9SDd2GbmYJC5vGY1KseEj1qY8WJOyzcMmLcSUvhACWCRFBLZchIRPEEY6VZlTXQl5zEJsA3+d5vRD+EE5Fesjhol7gUmqubVFVZV/1t6Cv1gvVS4uxYbTRLZRx1k4kw+LVRAtc87BgsQtgkmcqo4YfRKiLcjCQMXZWB/OmfJzNZvWkKRJtl7VSVXOwQGf5DoGs47pl3kcVZRnoHUsSLNaRSH6RUHqiuge3aXgDjreV+0baelsvTLMiusLAweBcrhk+23sKFyDSUc+f2ectiTy44XuD+FVKK+JrFfywNrXUkopri2OIaQ1NIRhEPs/iALQNYwScKL73NDMVK1hz9gXO9BZlckGjfWMDwkSfjk4XIYbWR1hfO/eD093D7oQZu+lgscl0Ii1pDSILR4nC4OUrROjOxmhZxFfpjxIJDSui60Kc795GdICkxAWfPnqYdopJ6r7KosriwPIuVXbkv3p6xkRVUkvVov/m0uS88mfB3lbzooJu3UbqYF8pXqq4Cd8QC4cM478fJd9zhsFr/JtqGMOzDJj/SGQk/p04Sip/6XHnb9YX8kdFyynNn9DKr5F/QniWWjbbFzZ4am713zw6sOx+Nel426NGpC4kjURg6fx9FtV5h55Z82Im0CBsm9d2mfSwM5YVuYWXJWPujcMxPwZzPTX1miN87gYi+NIrUT14XVF1teqoPYdXxW6he1AFdOmR5ruUvXarLMvbs3o45p7M8+wMq2aM1LRi7f9+GX07H84wN6FPOVsWVy9+a9HvI/ZfKpsAvfl2L28lW6M/ntGrVAYH0aX+zO0R9hhgtI3JMifrW0u4hjYNiITlw+gKql/ZBJZ7bqxhG8SwI0RepEEvlWirP8iPUi79DPMtnuiz+Zf6kQVHSDMeMGaPweMYhf79i55OxYcMGZfE4fvz4q5ii/7pjmAT08y+pSUD/Q7e8SUDnPdHSGS3+tz/TkJLX0bInCz6PRSrVaWNVUaoQUvkWYRCdboUvaSmQ5qyu1QrzpxDmHQlRxANhPPf1M0fLupVzJbmtOHWXNo37RHkVQCci2A7diMVPRI0Jn7l8Ido+KJDF/yq+1fz0H0vVWqqXRylq3SjMKxVxVN7pvovobdbFqgjfRT57YdX+Zyw8chNh187gTe/78Go+EgZyjHUp8bCJPk/kXDnMPZeCHUHRSvSPpeD393Zi9eoaLtxmw6SG2LRutEK4sFImZIdLjPg1t8R9j7r4lOmDsVpzDCunQ/12AzA/IBRbL0apKX6nQTE08HVSzT9SwRfxIAuQIkWKqIWO8UtQUvOkUVCip6UqPub1Egi4ehcWtEm42+jRukNPAjycYHF5o9qqF9SaJDFqOy+B9XpWsinwzNISyUh2YwIgSSv0ZQszWeKuRUBnx7c989qLl3wF+b4Uc0pI9qbofCRenngOX0eoIeax1xjEEUshSp9szRFKnMowI/tZc/oXGDwqQE9RaGxOlHsqhMQFWeiJiLCUCO/oy4grTGoEK4nmh76HLjEcd4r1RL6i5dR9JELjWULBSIHJfm7Capb7TJr3BtbxUoss8zsH6T/nQoA7CrqSTJNk5Vy842aGdIa+jIK+TAcGjbSnOCbFho2RGS1+pO3FX3nUNUErmJDYgv+/Bqz2fqpEd7IdqRnF+6P0xckM1GCzZaupMLiUxMMVA+FMdrcFieOR/mPwzvb7CuEmftx5FNAR4WEYv3Q3Hhhs0a+ygyK95BzLVq/Eplt6hTb87s02sHNwxGBGxgsX2YZ2go9blkdyqpYih+l49taqUm3lUTJrdyA9BceuhWLlFdITuMDr6hnFe+UDvs8MVrfbZzWPPmccObQHPx2J4Zxlqmj5sWxaFArIt2sOMeiETYGd6uRKJdQSI/furLWIY1qfF1GIk0f0o5UiEh8sZJgMxXGlR55muVY3bvD+ZnVXcG2SSjj30C2UoC3+3d5dVeW3zyT2JnBoGSrzY3d/9Vry93vzxhXlC5cY7eMBBxV7vnadBsomM5U8bQmpkYXKm5XsUKN6bVy/fB7bzt6Ah70FveYtlT84kz5+CZ6RIQuFz1mVlmvTwDMd7w1kb8PNSxi/7iyPY4Eh1Z3RuAl3XF7hEPa+JL++rHgW4sbAgQP/FvEsb1d2L/v166dwgzLPUumeMGGC+vH390e7du2U/3nz5s3qb1aKJ9JkKOEvppF7BkwC2iSg/xV/FyYBnfdlEGEmH3ovO4wfniJc/kqVQ74kRUSLUJQt+kSSIawpAOqULqIYpuPZ/HcuJFbxjMe1LssveTeIYN5xOUaFqRiJFdnP/3rUQ3Kmryoh3pbV7f61vdRz1jJMRITuF238mFCYe8tdHrONYrhZKSf0re2NM7RvfLt6PyxYlS1hGYNJ7f2gY3R08NIRsE0JR7F8bCLquJxb0Ylw1kWjRhkf6K3yodvsI3BJomVEb405BTbApd8yrF8yDVejGZnrcAq+NdogjWEguuAAOJ7/BfqClbHAohurdIL3Iq+3sQ8aMFxDhnyJCotbqjcipCWNzLjgsLDNh3FbriMmSYuOlTyx/HQ4/eJaeqkNKua7T62i6ESiho5V7Xwr2rKoqleosLSOC2CzcSDtKykwF+wag050/oOUPcHymPieGbFebRB/l1U9tbi9lzaFAjAUqfHU20RsDMJ8lmq9Ck2RwetqcXUzq/ehTCCkHYQNdZYniLCSXkP6sPUVurGK3vDpYvvRq8i9EXloAZxCdsGuOivUharAei2xZ1yMGEj40JfvSlH+DSvoFORW+XG34VSEpzuoKph8SRuJFbKYE7yeUF7CGIM9rkkhtHQOh6EAY72NVWOxylDkK3uGCGi+Z6u9E1QlOt2nKQxlO8KaaYiZ/Pf0llMB2jbk/VkG/MTjlKe/fLI6a5sFTZBpnV9Fh6d1WqJ85OZxN5FRbwwM3mxeTYnNopnwMTI0B78l8o5WGQtrBvj8gnM3w2jhCEGD6lXg4l4YO7dvxOpb5oo24sJmvanv9c91De5yATB33xX4eDqiX11fFqjTMfCn1YplLEEsc4e0UKzmL+YuxxU2nrbWnEI9h3DE1vgYFcqUVt5UM+4eqPPiMI84x52FGF4fkiO4mHrakCY7S5JoBOW2YO06poUyNrt1fZW8t5IIt9XXDUpUt/TKxJsM6xCSRsDRgwxDsYV/de64kMEcfPsGG8rKEb3npGKzx224CEvV/Ehe+Yd9GbMdiPWHTyEy3QbDm/iRzvFHA6PxnMbNWIDrSdbKIvLz4FZ8L054j1HakVoruFulY+oIEjJY3c4+pNFy8uYzsCf+b2z312nHKIQvZi/AxQRrRfUYWN4KBTy91D2cxt2k4sVLoIi3L86eDkB0bDzq131NnfMuVrLnnH6gPM9VXHUYMyj3tXnRz1X5O5cm7JcRz0LakKCUv1M8v+j7Mz3v2TNgEtDPvztMFeh/6K/HJKDznuiXFdDZw1H+qnjOeXZyLNmylC1Bqb5KI2MoUXZ7wy1QxrsABtUrpirH/RfRsmFjQYqHHov7V6GPWgMJyYhlQ2ItH2flNb7FBEOxWkiKodA5vqbnWawgUq0d0ag4mvi5Y8elqMcJfb1qFMkl/G/fT8bYpQdpQU5AE9sbGN6jA3bEuOHXrQcodGn9cNyKsn2nwvLoZFjcO60quVqK01XHrmL90SDUNwvEhzbbcMFvBMadc4Y5q3oeZvGYl38BUwJb414kw1vSHqB45j0kNf8ZOx8Whx0jvZvkDwMKVqG/WqcqcOJ9FDyXNHDJFnLa2dVIibmD2/lqwNzeFQ5Orop/O3DZxSxuNpscBVcn85JGrJz4r0dVzUSb9J30M7dik2BtCGbN4vYeGPg6OlpiTmaWhgujwUvH7FTYPFUZph9aQxSb5upWRdVIb/49DMUb5X1TsZJtxeZHizsHKMoZ9FKiKXSlWsNq3+eirJkm2F95rJ/pG+ajZFF3+fxpVDo2nNv5NjDj62tbz4D19pFK1IqfO6P+WDYvDmFFm/YTCmh5nfRWP6tKmCzG5D6SxZkQC65QZE0LyKrwF9bfw0a32bxe7kwRXJaVIkirhfmDu0gv1xX6Wow0FgtH0CqcvpuM96+WISXGklHnpIK4PBkFLosHsXYY8hcmqu49xb02j73OhUQhaDstfnr6IRcAMseKzMHXNo+gP52Pz2TyonFIM5Y04Rb3KoyvVu4lqs4KgxnrLsE7OcdH6y/h/F3uADCKfkyTImhasTib7QKx/3QQapX1QWX/uiqF78OVZCnr4xBioMdeoBtcBPSt7IT6UUtQOPYIMrzqwawV49e5O/C8Ic2PW4LNUN1Vi9Fv9s4VSy1Yum930xvOb7pRDaT5sSGWskq+7iatFfzdmIaF+LsG6iWEjCGWEvnvciYDno8ko7iOH2+9/AgJvorfgnht2PxY1I4BQiMHqMddOHcCySmpqFHrNWi5qAyiXaWYd3F4FPJGysMk9Ju+hYFDOnLVNZg/pJkifyxfuwaHQ9PQuZL7U+fwl6XLsDOMCw7aOia2L6dsHTMWLMKBCDYFMhFxYDXxS5d4YlGmPNfLf2eln+jLVmUVceRVDBHPghEV8Sxe4r865DNULBu9e/dW4tk0/rNmwCSgTQL6X3HHmgR03pdBtkdFcLzIMIpneb5U+f5K5Tmv1xMaiHizZTtemhHltaSi6Ozqhs923iEjOpWsYFv8wEaz6/QAf7o5q+LclBi44Q19ch1eEHnie5Yo7RH8d0nM6zafVShSO5IpyucwOU9EZ/B9xlInpCorhsRa34h6gJjb9DUWd4WlZxk2Od7GwYu3oSdybWAZhiS064TA2QOwIKkmaugDMbAAt3lZSRRygcWVjUqIhXh1xMhrFZgEyG1uXMNXrjtxMr04JmZQRNKHOtpyDeoWy4d0NvhZr+5OW0UCUq1ccbr0WFSqXAU2sZcYasKGLloBpFKsKrkiclkNj68xSglF+bkWb2A1jpU3ZwdsDrqvqtlRSekkK1jDM78N/eFVnpwXMUqz8jjryD1sOBehGNpTOpVHOdpejENe1/zmTnqj2WzoUBBpvSmmHZ7kcWc/qASJmEuICCuzZuRjs54Jfem2rNKSsiJVahdfWhzEysItdPprDZ6VH3utzW/shNXhSdDRX3yqYF/4PjwFj/PTyZEmjcHRi7Hem2Bx83daKU5DV6k3OdN+Ku3P8vB3qoKro99bR2JIljIT4kcABZcOiXbeCD21A8Mv+XKrn6EelnswwvW0CnXRtpujkIbC275kKI5hMfRzU8xO71ZexZtLg6pwuuXeGkqsW79arExmG2p+7p1Sv8lo9Dn0xRvQX06yiTV9BlKNf1TVNT5FvOfyHKGUSFphdiyc8TGH9u/CljM36XU3oDW53j7VW9HCk/6YpZzz5hbL0O4gLsJoQ/K2JLLujTJwKeKHfdfuowSbXSsXdWRaZio+m7cS18kzzm+eimiLgjCQ6dzbvyDeDOqFDMv8yEyJw+myn8LCqShKcCHlHEUGeGVGp5fv8vglpVmuy/dr4Mbmxzg2P07rXUtVnSX85MyVG6hbpYIKH4m8F6zCWuTfZMxYuIQLYY2iaoys6ajsDseO7MfUw+EUx2zyHdBBBaDIwkl2XMRSZsXK7piVx1hJtyRB+YgAACAASURBVEA7H3P06dZdcaS/2xdGe4gZupYyJ/KuW66/9Z07t2Db5VjuJDmiXZuOKhVw+OIAimriJXmslR91VaL/7p0bCLkbyiRD2qy423X61DG4MnBExLOM4VMWIp6ea7GHfNqsGOkgJXEi4AC2X4tHWWa1dGrdhtHi7vTwW/zhK8/rgy2Pf5cFnyRrvihGVMSzVJ779u1LLv0j2spLnpPp6f/sDJgE9PPn21SB/ofuR5OAznuiX1RAP6tZMO9XzPsR8iUiFRjxPRqDXIQUYvQEJz5MRZqVIyr5eMLD1VkJnEm/31S2WSFsCB1DGve+YzCFsKDFAy2UjOxDzn/UejYNUlhLg+L0ruUVUeN9JsRJcIsg8IQ7nXMIh1oaB+3oOR7VsDCc6d/uM/N3GBLuqi/aqY6rUax6c4T7DcDdFSNRKSOQ1WMbBFUej/Bzu1Hn4e/IZ3iA3wp8jJVJlWGReAdt7C5jmN0+XGy6BAvWbUVxi2gMMt8Ks8bjkFmhCyz3fcZt/t1K7OpZAba4y+YbCg29bxPyjydmicXIc4wLN0NkpqsS0z+dfIhwcn/jWKV3IRZP8Hi1yN4uQr62JBJKuqLV9vdgHnURw/AxzidnNcCNYiNiS/KBHwu+hFBYL2HVU8S2tQNFLy0LxNw9bZjJY1d1yfJR81zFypDp4MkgloZE27GyzUNk0hJglhqvXl+SBcF/17amSHYvTU9xRxi4MEknNzi1Yj+4BrKZkJYYeaK2w3wi+P6o8Eml/fideMUHL6ILoViPfSRGuTfAaHFpjtScYwWYw0BBbM4mxwQzR9ypOREF4s7C7uZmviUzOKTzXCl0LVjJ//pOKWxMr6nOsUvVQmwK9VW7FN/uIq2F79/XzV5hESVpUbz0MiS9b3fgTZXiqGdVvGUlLwy33gGbi0vpKy+idiRk3oxDEg4lLlsWQwbv1xS/WonqveMVQjC0/EiMXHWeWEIHJIIYP4t4/NTOGx7eZRDGYBXfEmVyhXZIHPiouRsRmpSpqrVvVrTB78m+uHg3nvjEVAwokYJBXSTmOxNJDBNJoJ/6m123FF99QsuSKHyMojnsBAxcuGjbzmZPaSjybaDtIlMY4Wm403oVsXEFVTVUFsk/ETF3hIi5EvZaTBzSQzGTB83appr78tNK8euH3RW3WcR2Cq9lPgrjOHqcl2z9nfOmQc+O9I/TW/wBo7ajtNwlYSPh6EaF4F/jNYrqA7hzLxyVy/qp2OwYpgvGx8eiZOmKSqTuZlPgjFMPuCxjkmFBRqIP6KuitSeuOaruk3Gdc3uupSr97pz1pHNYwpfn/N3wfrhPfN27CyWkxgIVndLw+bDcYlM81/MO0WbiZIZ3+nRTVpC+3y9BBpF3Eh7zYT0PVsrzqZ0yaUI0Jkbm/Qn39Ee8KvEsfmQj7/lFz8X0vP+/GTAJaJOA/v+7+7K9sklA530ZXkRA/9lmwbxfPfcjoqKicOfOHWVbeNb2pVS8pQlRfNPiEc7n6IQD4WC1iAEH9DsXYWXaaNmQqq9UDluWY6w2vcIn7yQo4oZU5sTqIH5paSp0JMXiApsMBXcnFA8PVqNndK+oqtHSqCeNZSKoJVJcsHJiHTCn8MlgRfiTUH9cuhIEe/0D/GI/DxntZ2PoQQ1Som+jDILxo/N6hY+Tqqx5JJvgmMwX2nA6vg60hOH+TUywWgrPKq0w4nYNBPO9m6c/wJe2K1DdlvxnNqxl0h4ggSowYzWMBAjhLZuRmqGr3Ft5eC0urkbasXk4pC2JgnV7Ee/lhVkb9yOJ29y9rQ9BV6ASlqQ3QHCcFm6aVMzoQksCw1Uk8ERE29U0Z3xlOxqerFSPa1FKsbSzD4vr21jlpX2DVWSpGou142lD+Ya30v5AW4qiOLiUgLkg+NhkpywLbDLUky9tEXqYmDQKV85DJqvZQguRoBbD/m9hFrQOlvR2a9LieBwKbVbwDZ4Voe2x/vHryv3X+ZfTiCRlxYYicN3g6tBy0SM7EZsPn0bH5DVojJNZr2lpw/f4yOPL6qeuVCslxA0e5dXCIMPchg9jJHip93DZwg8zz2nVbsqkDmVV2I+8VhTvGwn0uXAvSVmAhtYv9scigwuB138+iuhUBo2wlUAWJ5PzrURTGzZL8n2nkyhiyCb8Vbz5tuFqAWGsQFvS2iI+cx19wncKd8Q3NwvhTLI72wotSGlhIE7jQlgScJvpeVYokz8NE4f1y1XxFJTc19suE/Gmx5c9GuDjvfEqhTKdYq+wBZtNWxQmteKPhY+E2zBOU0W3KxwfI9Mz7T2yKubcbbBe00MtSnRsOr1e6VNs239AVYcb166NQoWL0HnChac7sY0UyuJnHjxnl2Ip2xAxt+jDbvRG02s+by2CU2zQpaQ5enbJXSleu3Edmxe1cKDo/rbHawiPjsOSg+dwO9WeFhODqm4L2k+GhCCJgJX/Lli7Qdm3BrZtolB2C4m823RbBQWiXfFM9Ge6oXiuj1KM29pYo2atBuoc7wTfQim/8myyzKc812M3XKJHXM/X1+PXj/pBQm1+XLwat5Is2MhbHNUo6HOOz2YuQNADG2URmf4WUXXkT8tumSzuZeEqu2XivzdSPZ7XTJ392EbLzstUnqV5T6rOIqBN4z93BkwC2iSg/xV3r0lA530Z/qqAftFmwbzORISKCGehLYh4FizSnxnypS7PkS8v+a/4XaUSFBiTiV8CwhSJ46t2ZSiYGXSw/DwiE7VKIM7tVUmh32QIoUMEsmzTLzoeSiGWjP7cqhehPf9oCLZciFJoLCF89GNjXkrIWZzePBte1snws45FYrOpuLbxG3hZPURBepyvddyuQmJoKlDV1lVtLBFfuBEmM7UtMSoUo/wt4V299ZMx2GzmHLfqJC5RM9rr4jHN4icU08RRXA5RFVFp7NIxETCTnuWcQ7P/S3x6yoa2EG8m89mhUr5EXIgljZZV4Pcd9qCCVQR6ZXwK15RbSDZYYooLA2PaTkKRox+zMhsJfZGaKihFCT1pAr17ClaHvlG2ifRmbNJ7Roqe+e19EHGtL9dFVX8lvttq2wgmJYqFgd5n/s6c1WDpzMp0LqaQa8KUttzDiicRcWYZDylw7ZFRYyjul+6Dq9euk4hiD8fj32fh9egZz7Rxhrb7GhUiYxx6og3r/Xj0cYq4LICEZ53EGHi2tZHFrcU+x68xjczug/pyGFijALoZaEMh6cOcP7IQkfOTSrlZehJDQnyQ/tonxBRWw93A3bALOwDr4nVxxq42Zh6LQcH8VmhRwhbrryQrcf0FdzSy21yGEYN3jLsgEs7iZKvBjIp3UPvOTBJPirMxcL6qxotglSq7iNaEBw9pIcqkPSnLKmN+eQNwkAsUMbi3m4ZY66LYdeQEToVnoGxhR7Sq6osRy07QepGBB0y+Wz26szqPxQyjuHpfi36NKqFM+aqKVSzefKnU3mQPwGhSLeK0mXC1SMZ3HcqhZJlK6vUsrm3lgohJcZwHRQNhE2uuwftW5kqoKCs3b8NyNgWKQO3ma0CVilVUjLxYX0rG7YGnIRKB7u0QEJKMRv4VUYqvIxi9cZuuIp+G6Yas9C8Z00f5l/fs3YmwmAS0a9JQRWWLvcKGAUM3b99RgUtfkOMsfm8JVfmxaxXFkhZ/8tZQC1R3ScPYt3J7riU2e9LeUNUfMKZxERWbvXQ1GxnFc83ffVTfHXXrNVFvURpps6Q2lC/6QmQKetYtrbBzcpyv94SppkA3KwrkD/qrx106fxJx8QkU4vVIBNGTjBEI76JeCl2Xc+T030uDpohp+XnWZ5p8bkmIVeXKuQlDuS9M7t9IEUFsG+J3FuuGafxnz4BJQD//+pksHP/Q/W0S0HlPtHzgi4jOa7zKZsGcr6UaxmjZEMSRxLz+2apNzuPIOUoDjrEJMYlisWABN5TyKqi+vHr8dlZxpcWNMKdnRVadNfhsyzVcYRV6UF1vtCGxI+c4RtTd5N23lFgTTFwNWjs+23QR565cg7UhDT/XeoCCDehLJqHBgl5YSQzUUYwuPXlXVbt7VC+MOj4u2B4UpaKjRdBLZVOQd0IWOcXH2LLalhZJz6tXMYQ90MHr+HiUTKT/tGBVenqHs/o8JqtxzpkeXiLoZAiCTv2OjWdinRg2ZyvDMBwpDTLxmk0wAtJ92bSYjgGWezHb0BGJGjYbZtxHO9vzGOlwENcazkV8bAw840+iePBytQ2tq/MefcW0UqxmtZCNbiJexSKiL5MbnQYKLJtFr6vmQkHzpXVfB5s1TCvM4PNoich47WPlbxZ0nYRyZDQkzo1C1eLiSvKnT1AgH1ICTCgPmbp0xDhVgVXX+bCxz6+41WZs6DNjlTa98Wf04GarXkrDH0X6ltsG/Ir2qFamFLZfYmiNxgzhCaxIcy4dzFIw33oqBqa+R/sEkxXNrXC0lwNsBN2nJbZPgmSk+q2xJYWElVf+F1Z2rO7PZJPiu0pkiRjrlPkDwhIpyDOS8IntBhT1JTGi/jvKxpF9pNJDLyzwYDad+pHu0qAkSR5aLg54TMHEWa/rrSLjDQWrYVeJcfiWOxrWrJxP7VIePhT/19gsaJV4Gz5+5QAuNHLd17xP5i9fgcP3DOhczkH5eiX8Y8L2WypopADxddM/6Iejt+IQHXkPpR0ZE88o6RT6YY8cOwxPd1dUqvoHl1gtYIL3Z3G7eX+Jz/l5Y+Pm9aqZT+6tQZVtFUpPrBSzmfpnY0jBN/Yr4eHkgJim07NsDOn3kZoYjbHrLiAk1QadSpijV9duuBh4AhN2sH+AR6rilIovaJsQa9apk8dQkAx6H2LnJPRl08FTKO/tjib0SeuIr+z0/TrunJCTrbPCrD41VVX6+pXzOHnxCmpXLg/fUuURRSEuwyhqxXP9ezgXyLyQw/0d8HrzNooZPZn+6QLWGZjYr6WqHmcfcowPlhxBGq1YLYoaMKh3L4aqnMaErdd5zuZoUSQDQ/o+f66yH08+j0TcyueR7JjJ55rR6mFkOr8K8SyVZ2E89+nz588tr89707///82ASUCbBPT/392X7ZVNAjrvy/BnBPTf2SxoTEEU7qpUoF7lkBABY4OdeDcTzPPjaLgOr5V0R2NSOIQLPZ64O2kkNKewXdKfgpViZR+Z0lKNblLGHVb0c0h1U+gBYg2RIcEbUUw+NJAR/E378ijDQJfpB4JxkPxpwcn1rpn7fUj8+ATGkMtx+9cuig6VCuI3sp/Xn72rqsDfuu1Ahab8AmSFUpjNUnUGhV16q58Y502cHMWkVHSFMmEedhxWv49WvuT0xl+oGOvQJUOxINQdpc3D0N0uEAEWVZE/MxEh6c74Ib0DzQBABXczTC9Ev7Z3feiJZROqh+H4bFifnMlKbDJS7ApCW7guXIOJnyO6T6wP2m6rcoWaqElg6InNUlbRaX+APekj7edRKMoXOCeK5572JgVyjmFxeT0T9FjR5nnrfSm+2UhofmEFhTKpFPRLZ7z+reIrSyXb8tQctYDIio/+o+YgVWTrDaQx0BstqLjkN4/gfVb7z4bEoW7mWZTSRKBB/mh46YLRNnYEUjX54cP0y+WOTGdkfLg5bSE636aKNW1xaZ1K4xNxK4I6vc10WO2iVYYWGjmf2aXmY/EJvs+0aPzitBhFMsNxssZsuLq6qoAbhX97dG4xD7X4eMMVhcv7nJhEY5qhWdytrPMlIlDe5/sus3Ga/G4dF3JDGfJTxjpOxW//1QTQ8NBbeH/ZccUyrkEaRoU6LfDDrquKPONqnowh5TLQteMfzX/ZL4UZOdrq/uH1FU+7snHkGFLNv5eQBh/u3Ejy5f4DuxUCsVGjZsq28fmsBbiUYKkaY0fa70bT8l447dQS24+eRrn0C+hkdx7JlQcgg4sfSeuTIQl/47fehI4VaX9Wk0cP6I5D+3/HgnOJ7B/Q4P26WZHdOccP8xchINoKJRzS8PUQsWdo8eaMLUilf1nsHws+6KzsHVKBF7+zAxFz8fcjsXgL+w2sLdDrDSII6bkeO30Bw1EsVVPie7Vd0LBRcyTExeDg0SMo6umOqsTrSbR3bEwUSpSuoMJYjh7eg+8Pk3PNk6rsnIbPjDHoL/BBJfYO4+JebB9y3UVgV6tWTf3vvzqkWCDiWaK5hbhhGv8dM2AS0M+/jqYK9D90n5sEdN4TnZeA/jubBaVjXIICSpQooSozf+fIHisuFXcRQbb5XTB+Z4hqHmzJEJa3icnbFhTJFEP6Qzn6sPGuGwNdZEhjoZA7RDBJ8p9UmEt75EN3/0L0Vqdj0LJzykctyYjrBlVXDVqnQxJwn8eWiqQtiR4S2JGs1ZNBnSW8Pl57DoHBUbBOj8Po/LvRxDEC68rPwqo9AahjcUX5MA3+b2YFeERfysK10RYg1gPNuUVKAOtIuNDV/0QlJVptYtIY/83g25yINnqjWWWMS07DB0m9mV/ogone51DVEKSqsCJgpYFNkvasl7WHOQVxJuOoE3zawfrOPpjTvxtZaQSsK3dW3OmchBWrVd0Urk2q4NqOC2ktYUNk4AKi6+i59h/81EZDEaxZEdTkTJPhfMO9FQofHoX8yXdUo53yBNNnLQQTg2tJou7IfjaKZ9k2oGCW96yQc4wdl7CSDFao5R5NvXkQLnspCsVsQ1uInFeUvR8uVxiDSqWKwTFwHjQXiKyjUNa2m5tlp+BIiwlGxtlljAP35PthRZdeZPFHCyLPQA93aEwi3A+MhktcoLKgpFYb8th/Lws0Z1IbpOp6IESbtcPAe8TfywlftydjWgbPQ8P3LJYUXbU3cdSuMX3211XwzZDy5ihd1F0FGf2Z8fBBAs6fPwOfYsVVFfbOzctEIUagWtWaWHEuDvPZ8JaUThuJeQqausZhAsWeCMJpq3cSzgaM7Pw6mwGz7ufnDQkVGrH6Iu8dwUA6qqTOJwbn+9yZAIWqc2Zl+OvGTnCt1BofzVyO6w9pv6CQ/TrfOhR3d0RgMfLEtcko5lMKhQsXxdGA/QiPiUdDeqlDwsIRGRmGXy8x5p62iUpM4BzPcxYv8pqtW0gHMqBLWwbDkGEtsdnOtHyIeE/mPAyYuV2FmohXevF7XAyyujt+zgpcfcgKubceg8g/zjm2bduIX8+nKqb25B70cnv54gsuBE7F27H50oBJb9DmwmZF9fdOD7WlxooIyHQsXrMekfTBD2xFzjWf8yqGoubQtiFN0iKipSIt99HzrB7ZX1fEc5cuXTBkyBDFen6ZIWK+fv36yr8tn42dO3fGF1988cQh5d/EHnLmzBn12bmK9qFiTAU1jVc/AyYB/fw5NQnoV3/PPfWIJgGd90SLfUJY0E8b2cXzi9oqnnUG0nRz8+ZNlC9fXlXy/smRPVY8PikZFnaOKOvtqcTQeuLcfqN3WkaXqgVVCMvvTEKcSXFUmA2E33Us85jAYDxn8b5KFVQqdhLQ8k370uRSJ6kwFx0rdE2I1vuARAcZMqcyJJb6UkgUDkWyyStsK4bbEf1W1B+tw3oqcZWi5bZ898rKLiCkkDu7Z6P2/XVwpKc0o+4HWSg4eoTTmYCXSbH5eEjTnlgSuD2vvK6kO6hmPFaG17gNw8YoN7S0vYpejheQ1n+PeprmxEwlWkWcKhQbfcqqUTMha/s5e3iLx63VsGQl2SyZTYA2jsrCoe3KKrXTnxCBEkFNCgWY6nfVsgIKBq+GE/nVsigQNJ6wsZU4ZgVaYe5YbTeGt1juZ6Pdlc2KWy1R2oL6E8LHY4FNfJ40OoqwFoycVLkzXYpDz2q7vP+MWu+qSn8mmy4znbJQdHK93lxyjkzhZIzSrEL3TApNBrSYcQ5VBZ1iW7B8ZlxcGNwpIh+Fn0gFVxYhukLVEZ+QmIUQvHoZM246qp2DYWwyfKNqkWfe0vdj7+ObBWsRnmGP9xqQjlLn+WztOC7CHrAiPGPpKtxItlUNbLMHs4HN5Q9ailS+p/x+BWevBaMgGw9Ht62MEn4VsZgNdqtvyf4DPfw+Bgzo0SPPPzW5397l/Sw7M2nsjFz/NqPAKYrFc33tXiwGW+2EX6nSSGv6DW8Zy8cNjRNnL8SJOFtY04M+pcAOFGv/CX7cchaHoqzgbJGGAbW82fDrrBB1kZGR6m8/9WEcPl52GA/p7R5LhrU07q3btBYLgrLQmt15a/em/UOGkDw0kqbo5KYsLIcvXEfDqmWV/1usH++TXpLfQkufuBXWf9xNnVfAkX24EhqBlq9RMHPRIZ5re4f8KqFQxuifF+AaRbes075q5aPIHxs2rcPCSxnws0/Fl4O6PhMfmOdEPuMBYueQz74qVWhbIj4vJ/8+u9XDSD7JfiijeB46dCgkZfBlh7y+LAblc1g+G+vVq4eff/4ZtWr9EVwza9YslTg4Z84crFy5UsVxi4g2jVc/AyYB/fw5NQnoV3/PPfWIJgGd90Q/S0D/Xc2CckYiHoW2IUEB8gXy/zlyNv2IB/dolBnhDbboXaMoAzQ0eJvNh4JNEzEhJA7Bwd1go+Hx4Dj+bxfygu2Z/qdXgkwEr9g+AuhH/ZYYPZHLVVjFm9i2NK5EJuELMnsl/nlIVQfU95dtYvKzE8NgFk9uLpP+xm0Phtg9nInfm9G9AlJZURyy4jy08RHwM9zEDKcVSKdwkZQ4ixs76Od1zEr0y2ZzeDyfJHVIzLbEdSfbeKB9+lewT73HY+qwpIUV8ld9I+uhImzlWBTeBtob1LEk4IOR4LK9L3gzaRrTXtgA75Of0VPMpkY+RJrPMsmiVomF2V5fbDBzD4dAkH/D6hd/wjMs8y1fxKVCl8EthLHfFPYZtUY8jg232somxLBjVPVWRKrNoX2EFUGKN5s5/lmCnVVobbe1KhnRjGI507WEqrpbryd5gBYJQebJe5FYctDmEcJkwmMZvGalCsGzzfgnbrUtFyPxveAPOT8+5hFYZfWV8kdLWIxYZ8Rnbr1OjpuqEih1jSYo5rPg/xRar/JAxJfvB5fQPbA6OBEROgfcLMlER0dv5SmXiqL8yPa8NIGaX90EbdEG2HAmDEtuasg5NsCDftwZbFaTBruTZBynMEWxXr1GKuVPhuxavLc6iIhCJiImRMKF9owMenR/7l4FXj5+WL5mFXbcTkebEtbo1qlrrj+lA7RITD1GiwrHiBr50aRp7iCWnE+SptqfyTs/GZwACRiS3oAL9C+P3xEMc/KrC5kn4Ff3VQyKWYh7Gi9lWynt4YCHSQk4EnAYhWhvqVQ1S3x1/26ZCidJZqjJZFZ4nd0KYe+uLTgTmYbKnlmEDBcXZ9iRlmFty50Djq3bN2FuIL30vDf6lTVDF1pRTrByPelApEpW/Lp9WZR6xGo2nrug9D6Zu1ItMJrTqzyMXmWp0L+/+jznyxzFbVMfNwVKdTk1OYnWEneIFWb1niPwLZBfebtFdEs8uDQNJ1OIf9XGF+UqVn9lH1FSOLh9+7ZqGHzWZ59Ue41UD6kOi7CVButmzZop4ofYNoYNG4Yef2Ix9FdPXNJORUBL1HbNmjUfP7158+b4/PPPUZs7B1Kl9qRnXRaOr5L9/1fP9b/18SYB/fwraxLQ/9CdbxLQeU90TgH9dzcLXr9+XX0Aly1b9oWbBfN+Vy/2CHnvIhTli0GS7KT6o7bnwzKw8kykYkr/1Lmconj0WRjIKrGOjGcNvdOMmGb6ofibpRotdg0RkctP3kM4vdJ9Se4Q/N0kCuq9l9m0Rkfl4Po+6EJ7iFQXxTstWL0KZFiLVUQICkWcbVSlW4JdhOjBo8OWzVkrG9AWUrIrPl+8jecajwn5t6Jkq5F/JASyuivWCoM7LQTiu2W11Dw6COleDfDO1kieD1F29kzVI4VEhL5xSMiJ5e9jVMJfOrnMlgFTVfy2sjyQZZzJ49nMI2mDTXfCoNbm88LxqlNglxGHwvQG25Z5HTZuWVVoCfD4cssl1bBZycsFs3pk0R/E737+/Hlu5ReGV8gaaE7PU9SIdNol9AxBUYPNiRKRnelM+4pEST8alrvGZCUn8jzS285SwlaqwyLixQ5itYfMbEGwkfmsq9BDpful5PdFy50OSM60UqmM2z58/Yn3LFjDgaxAJyYxiMdqBdo53kJGs2/VHOiu7wNBf/C8MAcGMw2mpLXCNtRHO49YvB/3BT27VhiiHYEb8EJHxxv4MI3hNmJNYcqihLmI0DH673UMMal5/iNYSJojr+/tBtMwng2AqRSVHX0y0a97D1Up/e4Q47MlIKSEAX0ZGiJjz9UY/MAmVrGGOLE50l0bgppF7dCtY2c8SIxF39l7YW+WTrFngVWNEmFTZwjCyEW+FRyMqlX8FYP5ctAZVZEvW8H/mYEf4k+etfsSfBzNMKI355MLyOxDQkfeW3GK55+J2ppr+LxYEC41mIfRW4LVvd61WiG14Mw5tmzbgIUXUtk0qMXQzm1w5eoVTDl8Vz1MuB7fd6xABGEm4uPuc0MlRVko5G9u/8E9ahekaZPmyt/8I9nTh1nJFjHcv4w5urzRBfejI7B8226GI1nT7/2GupeSHsTBkRVqEcJZVelz6jk+timY9sEAJMRG4YPfdiE2wwoDK1ihfdtHi8hsJ/7bsmXYHGLB5kxW0ge3UwEvr2LI/RDM6/I88ZzzdWQO5DlfffUVTp8+rQRry5YtlcVCrBSvasjriBdbKuPvvPMOJk0ipSXbkN2CnTt3okiRrJ0V8eyfOHHib7fevar39590HJOAfv7VMgnof+huNgnovCc6u4D+O5sFZWtQEsbEJiHeuX975cK4rSqsadlyTdabq0ajooUYDEJB1XvBWdUIpqEIXTawqhJGo5haJ2ziIdzCb13+yQ5/qSot2XMGG25nwsaala12pZXdQ6wfQgERnvGMbhUeNyoa0XpyHmvOhuNMaCJ6kuhRqYgjfdokemw/CUvSIXwsYvBZC3p8K5OUwUZD65WdVEVWiBfariuULcM4pDHsGl+rpJsNXO6w+kvBolLmyHW2YqNbcNhdRndQYDdmfDbRatKw4vVXtAAAIABJREFUJz2BGax46xn6Yb2wCcwZdCIhIGnCZaaFwnpRcxi0D6Bls96pKpOZzOaBqPsx+HQ3GdYULo3cyLQe2geprKyKeH7sd2eF2OISbSg8lt6vLf3a+5R3WcJFclbTxf+tubgKeiLVDGUplKQyzMAWWSBIRTqt325FKjEnYzm9wTguJhqqt5yQQm/7tCNqi9yMr7P73dpKSGcfIv5EFNqBjYx8jHCQHyzogq73uuBBpj2GFr6Njpqj6Hj/bTjY2ROVl4GtJTdzIZKOodEdFWdYq03HPg+GvnCxkdHiB8Xtlgq4xe39rJS7I921DCwXtYSBSX8GCxvcbDCTgI58FIgZ8C1ZlpfIAjt2bMGMs+RlU4Q3K6jFewP74tb1IIxffx4hOicV2PNZ23KoTgqMceiYTjhy2nKEp1qgqFkM5riuQUz9rzB4UxTFuTlKWjOEZUDTJy0+z/hIGDllAcLSbBRy7tMmBRmT3UA15F28eAZeRb1RsEhx3Lp2EeEREahewhM2HiWw51Yyftp7G5bcjihT0AHfkp39gPMzbX+wYqy/28gHHvmzKulG2kSFCuUxfOZ6xGQwal5CV4a1oVi3wXvTV6jX97VJQpfaZekJdnjsCZZK7WXSMGT3RjzP33SrhSLFSuK7eQtxOIaLRM7ZmHoubEBspir5keEhauEgzYSSdng1LBIt6mXRO04cO4Bv90cynlsHZ0smkI7qp+wp2zj/kfEP0al5U6adFkBMVBjtRWwiZvPhqxhG8Sy2jT+L6Mz+urKwF29yhw4dlM1ix44dilrUunVrRd+QivCrGPI6HTt2xPTp05XFxjhMAvpVzO6fO4ZJQJsE9J+7U/7mR5kEdN4TLOJCKoN/Z7OgiCfZthfhLLSN/8Qh70G+BEVQy1zFIh8ucme8eflCKv1QcHcKT8bqs9gv5rHCK6J604VIhkpo4UVWbhm/UtBZOqhmREk/lPHW0nNKdIsl4kfGaPuSevAdk++O3IpFu4qeGEJSQ84h4S8fr7/IL/wHrEwz4tzFCfN6V4V7ZhwRcCRjSNCJ+HgHMZ1NRGaOoeKviZeTBjdVMaWnev26ZZh9xQYa1gWndOC2tas5LA9MZCNdcTYbfqUqvMJ9FmGY3nwyDAwkAYW6zeIW9AOzuY+JdSmv/4SoAvWQcWE97p3/namIzmjhFgtrt2JIj7gMfePPYVeyXq7z0RyfAU3gb/w9PdjkTutLkNCRbVgvbMbXSMo6X782tJk0IX96p2r4E1KIpAzqyKLOUBYLVukYNKMv2VLRQTaej+BPJDpXKUgrAkWGML/FIkLRaihc46nWlwMzh+LTuJZqp6AAky7XDKmNYSsuKjuFpBGKtUaurfiEb8WkoF0lD4yU+HgGj0h4iiQQSkKhhlHusoCJbfgtbt2NQTmbCFgUr4+HcZFsXKXlh9hBKytLFUySz8EeSzdtpkA3YGC7ZnDzKIRpCxZjdzgTC7mz0cfxHHr0HowUmwI4dJgNk075UZ284+QHiQjdMB6lkk/Bnt75a/5fYuSOGGgMTJokE3tDwSVI6LAE367ay4AQDUbWL4oatRvmugbTF2a9ljTT/dTDH0WLlcK4GQtwMdGWaEA9Zr/VmNzmJ2kdkoD49Y4bKmhmVFNflCWNZi0Xe7+SLiNVouZlC+Ddxj5qAXqcQtbX1wel6VeOjgjB2fMXUJbISrGh3I8Kx8D5h+lfTkcibROr3uNig4uvTVvWIzA8Ba8VZ+ooMXwuXHzbc54sJMGSYwbPeftdGwYfZWJ8YxH99bFq/Rosu0qUIZnZU/u9hgIFn/TmJ8bH4KNftyMq3RqDieRrTdvGyWMHMXEfeeg86zquyfh0SO5Uwpf5zJLPjJCQEFV5flHxLA2D7777rrJvGIfY4LZv364sFyVL5k5NfdFz/vLLL9Xu26hRox4fwmTheNHZ/OvPMwno58+ZqQL91++pF3qGSUDnPW0iBqU6Klt4qlInQRpP89PmfainPkIqGleuXFGWDaE5/DeM7LHislWvOucdnDFhVwji6JXuR4xdZ0ZBrzx9F78xiCWDlcI363ijd52sVLVkepCFA6zhNvMt2jVWnbmn7BttWLUWMfLW0vNwpDUknt7SjW/XUEQPEegRD9LQtLS7snbcZUJi3zmHkEncnDUFxLddq6NKiaLQHPkeGjYP6ir2fOwrziWgKVglTlqwZLoKTI1rOB4fsXp+NiSGFUhzjGhckqExT4ola1I3zOIl7o2WixZTWCnOEsKaIz/A8jirr4qlbI+0YWeVeLfcMYopi9cR4VQDHiEbYaWX5kYbpLJybe7xRyiKHMNyNxnaDGQRzJuudHvi7CTk44+PSetl7bKa+YRCQsHMqEImE27ga3zACOoAddxMDWvnXVYQ+TeQYp7IP1ar0zsvzXW7WbCSbXn0B/X7jIYToCfFJOeICz6HvmvCcF9vj+GNS6kY9DR63EOIMwyliJ5+4A5K0ffejdc4nRXPur6uSrRbbxqsvOMZr4ndZC/M755Utp6r3r1RuMnbsGGlVXNyDjRnfyXKzQIfa/vjLCPUW3kkoUbFLD+80TctAubokb2YfDCKPO8MfJNvLSr6FMH392vh9whbaOgFntjCK4vvTA+3RL3LroOe7O3VTPg7c/U2+tgdR3W7SBwuMRoTj6XDkql7woyezaqrjAuBx5H4IAm1arPRkvN9gY15BbiDINVdGT2/W0rkGxc1PNcf3yitgli2cEG4NjCCGEhX9OV9nvOzwuj9l+f3I66xQRFL7KLneXWIVIpJnmlYALXrPtk0KVXj2QxL2XfPAu196UHu2l3Fcw9ddlotEC0p6qf2a5QVlkQLBm96lKtQXVX/9x/eD5f8+VCHxxTbxogpCxGRRv88z3nMa66oV7+psnKs3HtCMbo7kKGtZ8VZS8+0NBPKkACVz/fcU9X3+u4p+Hhw/1f2MSUiNzQ09KXEs1Se33//fUXd+DuGzKsIeyGCSKHg9ddfx5gxY9CmTZvHLzdz5ky1g2hsIly/fj1Wr179d5zO//wxTQL6+beASUD/Q38iJgGd90QfOnRICVzx1b1qlFwEt3ulYVCaBUU8/DcOWXgYG37iEh/AxsEJvkU8lFVl3r4rWHUuBtbW1or93N2/iKqI/nIkVG1tT6Gf2piGaJwb8Q1/SDF7m97nKrRrfNnWD5cikvDxxiuK6FHHl0K9lR+WEaM39/dAJBpsUFkTgl+7+0Hjkzt6OOecrzh8CfuOBqCrxQG0KcDo4W78EmTjnMSYTyA1xNnOis1eZekrZYWcfGSNkC/YqJdp66yEp4FBKzrGi0sFVw1WXW0Yia2CV9z8so73aMj1j7tyBNUufa6oGeIljnOujOtVP38sFGVuRBxbrempCBqZrNALXk9xqh8NabKUxkDNaZJCKI6NKDrrzW+rpEf5ndA2Mup/TAH9pmo6zKQXWttHmhQ54kNgve0dWj/CmbZYVVWppUSqqzoQulojn3pbLjwWiiVkQEu8+eweFR+TV7pKhDgXOfH0rssxJLpbAnbewH7Oz4/q3KQZNKPOB9Dt/hLxBnvkb/etsmzIsGJQizlRf8EZThicNBj5NTpWXa2xeWwnLrR0OLB3B26HR6F08WIo6u0LTQxtT2dnwEPzEDoysj8N8lTYNfkS+fiRQHzaGxBWuAh1mZe7rnXx7tJjKiCkVVGGgXDL/9zpo5jwe5haMHUolvFU7NtJ2h0WBtxBNU9L0ju6K35zxzmn2ANgzqZZA37rUxkFGHkvFeRr16+gXLkKqjFP7iWp0Be2TsO9u3dx6vIVbGOlWAA0PUsZSNXIEsg/bzwMJ2szvNuzI+zzP7m4Fo7z4F/2IYU+8WI2KZj5YX/E8XfD5+9Bkl6DWk6JaFy1omqwk0WH+IFFBB46uBtTjt5HERstvhnYlsQOVwynqL6TykZOTtR3bVkpr+ivbBv32EDo6lYQtrTm7N/PBETu6LRq2kR5qF/FeFnxLLYXEc1/p3iW9ym7gxL/bWwclyr3hAkT1I+/vz/atWunPP1iFQkMDFRR5ULi8PHJKgiYxqudAZOAfv58mgT0q73fnnk0k4DOe6Klu3vJkiXYtm2b2rZr27at+sAUT92LVqKlkn3r1i0I51m8c+LV+18Yxlhx2bKVH2oMXNe5qXjxrv6FVaOhYNOE6CFUhXEketRmSqH4kg9ev68qmRIRLY2I0bR1iHiTKrXwpD/bylhlzqvYRSZ1LEsRHoJ1J8hhpif5bbeL6DjgI2LWskTas4aEfQz4NQA2yXdVE9wWr+WEXW965uOtmNxnQbGZKUSMNxYjk3zkpw1JDTRns6K+aB3Fc5Yh95U0Ysriyfr6JiY1koBB5Jm+fGck1vjwcYOd3CsigIpfmg6bG2xapKdZSBjanhuUIM8+lBf6/HLoaYMw+DaDFSvQ5sEHSN5oQO/xZHV8i3NLYBFxhomQgxn/XQ4qyGQFfeEpMSrMJNShEq5Ylkct+wjkz4hWBA5VUc8RZ91t/mnuFOhVI+SXbUqr9EgZX++8rmwKIhCFsGLDdURX/6IYW8eBHO7BCm8naMEQQxaloGJZLmzk/pdgHA5B7FkxCTDNygUjb9dAcJo9GhZIwahB/XHj6gUunq6ocJSKdnH4qFtzijraYxj24myZDqsyrRSfeOnOQ/DkAqwXK5PCRVaDNhrNmV+Uj1t408rGk22IyL1/P4ox2xVVQMjePdsx5QSPzVH7kW0h8l4wPl95kPetGca/UUPFaGcfcq3eWXURYazEG21Ksmvw1rT1SGBKoIdVGuZ92Fsd/969ewpVV6lSJVo2QvHdmkPKavFJtyZwL+iFb+fSv3zfjqLaDCP9rdGyRTslai+dP02B5orC3iUUReP67WBUr1qN9A5Pha4buy0YNvQv21iQ/zy6NxIoMpdtWIfgeD0tIx60iFSjmHaBnS0XGfzbkTF22gIEPnBQrOmpXSugeIlymPrbYuyNsIarpRbTh7RVnulXOeS93+XiQWwbL/L5J+JZKs9io+jUqdOrPDXTsf7lM2AS0M+/QCYB/Q/dwCYB/ecnWr4cRfQI33PTpk2qUUUaVERQ/5WUNKliXLp0SaG7pGHsRUX4nz/zf9cjRURLRV/ed6FChVR1Wn6kAi/pdYfvkad7MpwVXkv83KWCInp0/+0M0XJ6ZeuQhkR7K43a+hc0njS9iXBeFxhO+0CaaiQsSKKHNAQuPhGmmqp61/SCDb20eQ2tTo83FwciIUYEoI4Nic4Y2a4Wij5KWMz5fGtB4MXezErpI/nCUPSPOOhnvZbcR0JakfsnO2lFKB9mxOrpmZoojXrGIXYYEZoJd6+j3PH3YJ2RCDOKzYzXRkMvQjCvwcZJozh92kOF6GG591MK6DjEmTmireFHaM2Z/JdxA6s0DGEh6s7gVQfpHcWDnTXi2Xy47NRdbDwXpYTqrB4V4BRDOwGPlV6qLSYGaLHrxkOw9RM+VvGY/nZb1fx5h1Heo5lGqGf4xrDKNmjibQ6bbcOVHUXL+buntcPmAwEMTymAhg0ZZEMxHM8kPDeGm4joFFrGmE03lcWgJLF6s0ueRDptKYJzW33iNo7cuI/aBfQo62Gn7iXZMTKi0DQBUxiuQ8sKXyujzvukmjw9mU7sEiIstanJmLtyHWJT9Hi7XQPFSF6yaiWW3WA6JO0hLQunYUT/vnwvOhwLOMBdFCv4M6kvhavCK5EPFTVGqDRSFe479yCb8miLYIV73QdtEBkdg9XbduBikgP6VnNF06eg85avWYnl181UVfiL5kVQxb8ufl2+DBuDNcqe8kOncvD1q/DEJZXFw6RfVyAowQpv13BF4yYtlP1iwu57qiIvleoxXZuqvzepYFvy76l8JSLoaPk4HBAA78KejyPNu31LHjlnNsVgie/bl1Qs6Vc1ZOdFFhAvK54/+ugjvPFGbkrIqzpP03H+nTNgEtAmAf2vuDNNAvrFLoOIIKmgbty4Uf2IwBEGafv27VVF+VmhKuKlNmLKBFX2vzaMpBHZ4pR0ueyLh+yx4gx4Q9GCBVDIswCLplbo/usZaClMxOu8bEDWF/l7ay/hLjnKkobYs/qzQzlyzrF4qncy+KUmaQ3+3k65LoFg8yRFcQMDY+T8qvMxUtF+2pBqqeWJGUTHlVXpgk9lTWd7oiweZPEki4UXWjzdIE1jJ60PZpY4W2YcrAqWUdVpmU/hKhuHWDA09F2LoNdVH6LOS0P7hCZwIRMWmykSxmP6CC0e1psGkbUdistlP0S/k7wvM1JhkfEQJ6zfUeI7o95HyKg+9HHK5BBGtWfQLvNWHS/0rFEYGjYG2iwkH5vhNLKYSO24GEFrJ8JZH4fiTAXMaE7PNqvbQonYciFCNSr2q+2N9y1WQcP0RYW3q9Adb59wx61UewpEA2Y5LUMpy2hoW81ArHURFXctf1e7tq3FzUsn0T3/ZRQxj0bawIMISyb28Dc2hPK8benb/a13RWzfuZUBMKko51dWNSF6hW2AXZB4vimg+X709LZnHyKcpy1agt/DbdGySBre6dM7F9JOxOgXFKMsCuPD2s6Mun4dq9atxsKrInQzMbqOExrwdzmHBI/8fiMJHSq6oVTJcgi+cRlTTj1kQ6KejXlsBvwkC8kXduc6Qu+GoWrVGipa+8ypoyqBryyrxjJGTWWoCTnO8pzRdRxV1LbQN2bvCUJJZzMM7dX9MR/beA5CKvmAzZzpfE49VtLHsQEw5PZVvL8yUFXyW3smonLZCiq8xWj1kHtp0+b1+OViBio5puCzt7rnwva96GdXeHg4RECLeM5+z/7Z48mujVSexYMsNAzT+N+bAZOAfv41N1Wg/6G/CZOAfjUTLY2AW7duVWL6xo0brJ41VDaPGjVqPP6SOH78uNqylUhYETz/a0M8grJ4+DOkkZyx4glm+RAUb4YmZQsqTF1gWCI+3XxVJRJKFW3FwGqKtbuZNAmxFbzBBj+pUuccsvDpTI+uBFuIGF/UrwrcycjNOcQS8skmVkr5+LYkU7xHUsLLDmF7y/sXkeLllZX0l2vQUy00jeemFkqSoviI6ZdOuXUMtoe/QaLGFffKD4dbwaKq6ppvEavYjCAXy4a2M0MvKPBtZ5QnXs8GZpk6pPXexoa6Yk+dn2kHgnH0ShiGpS9AC8tAPKw8CO/cqYegiIcY0bCYssz8tO+2oqKUI1ViTk8yrHlONsT1ib3knFlpnK78jQrrKLqDzXh6HQyeFZDWfj5mbj+D5ZdS1N/EF2380CxfCD3P4rFm4yXTE99hIM6NFHtYQodZ9vNQktXrr9K6YG9qKZRxeIhJw3rSx2sFVU0mg1tXriuZ0sNw/+4NDFh0hh5mS3hZJqJDeRfMDMxQlemeJbRo+lpD3I9k1HXIdtgR3aap2puCnI2N2RoxE+Ki0XP2QTiapyGBvvnVw5uoNL4bV87j8s3bqO1fVRErxJus43vy9smKOp9OEsi2e7bKrjKonBk6kz8tzOhvdlyDOxsSP+/XhomI7qoBWWxb8ndQlJXeIXN30qtsibL5UvD9yAGIYgLg0EXHVJW6mlMyvnwnN+lCKvA/7QhCYXsDPurbSTX5DfmBYS1aBvzw9b9oVhj+NeopG8vlC2dUNLjYQa7weRFR0ahVsx7sHPLhAP3M3wckKqKML9MEp7zbH9FRkVi0YTPupxjQunJxVrfLw5WfU7a0rb2qYbStmMTzq5rR/83jmAS0SUD/K+58k4B+9ZdBurR37doF6cI+e/asSqaS7eS1a9di6dKlbCQq9+pf9F9+xKSkJAQFBaFMmTKqk/2vjOyx4pICJosP2/wu+Gx3GCIYetKDlg2hHey8FIUpZO6KkOlYyRPDGhR/voAmn3oRA16eJqDliWdDExQxpH5J1yfCRf7KuRsfa9x5kKr7szCFUs22XsMYadobpHFPpRfmMaxWMxCF3mpRs0l1xyMsXxVkXtmKMlemsN5ID7K1I9L7bFWJiVb7PlOYOxHnIqCF1PGUCVLx5+ITNiQSKUcheyqBLO61QVygMHuOkyss7q+JIxQbx9dkdYsvXYZQNiIuHUWnkyVI3jBHMUdzbDH7QIl9qTAfrzFbXfsHli6wjr+G8nF7KOjZYOf5GiPFS6imUhGR2w8FwM/RgMah01TTVpP4MXAivi3JYKVQhOL9PccF1GbSLsSm08jPDa29M3F78TAEad1Q3y0Ze/K/gXlBWZHwXYqT2tIrK4RGxa8TGWeMX89edZU39+H0pbiZYseI6mRMHtkXibSPDJh3QDXqFbJKwYJRf1SljVYP8U7PWr8LthpWgLt1UGzlT6YvwIUHdmwqNMf71W1IbWiDoIvnGZIShPJlSqvAltiYCITcuYWy5SozCttBie4xDF0x43VzYhz9kjF9SMJIweSFq3E7MRMfFL6i7BXZm0flPU0i6/kQWc9C4pj2KH1x4uwFOB5nD1uJNB/YAO60wGQfSQ/i8cWCjeRjW2J00+KoTHvI7t3b8eOJZNX4WcspCQPaNFFWD5kzaUCUzzBpSHxRy5mIZ2kaFM/3i1Se5bpJ5Xns2LGK9Wwa/7szYBLQz7/2pgr0P/S3YRLQf+9Ei391xIgRSlCLeBDPq1SmmzZtqhoS/xeGfAlLepc0y73se84eKx4bn0AqXH74FPZQonrXlfuYysqoyKb25EMPb5hbQMt8S4qhiO0atHDIz989xJoieCs/Pz8lEp81LIJWw3L/l8pukelemrSONXmemuXeCVlpiBS96c0mweDXGjbz6yEz7YGyM9wq8RYi3OqgzknSOOirtuDj0nptYXCIL8wiLxCNt101NepJr8i0dWV6YR+YRV3GB/ZfY0+sqwq7kbCPbr+epl0mjU1uoOfZBjuHM8JYsG53H6jdgNfJMy7sZIPLpKG8SW632DucbDU4UOUAmxgP4ZpbC1hV7qISFpFMv/sSsrGTInFSXwqf6NjM6OzF4JxyqMxI98eDFXQzVnqnrt2FnffsUCHfQ3zzTm+k6lhVpideYtCp6Xk+VpjZvRJKMcbdPOoiDD5NkWaZH6s2blLNpj3atYF9vtx4SKkIR9wLxY69exXmsCyjr+U+yuDcefv6qXS/iLDbeGsxudm8q4T/vO7jbqq6O37uKlx6aI9hVawVJznnWLNhDRZdzlRWlMkdyxBzZ8k47MM4/sBF/e6nR8i77M+TBsF5S5fjYoweb9UviSrV6+LY0f2YeCCG1y0dhc1isdBtCXcUluFGrBaxtDJU42MM3Nk4ffoY7U6eKFYiy2okeL0UJi8ygB6TWhdD+co1cJxR34uPMaWxsDX6diVy8VEDofEczp46gvG/k8JCf0oHby3epoVFhixgjYsOaXqWzzGjbehZVrWc8yHNgmJ5e1nx/MknnyibnGn8b8+ASUCbBPS/4i/AJKD/vssg4nnYsGGqw1xSq+TL5uTJk1i3bh327NmjrAzCERU83vOE1d93hn//keWLU2wrIp6NzVyv6lVzxopLtPLpOEuYsbLak5HJ9jkS9V7V6/6V4xgZ3xUqVFDVu+cONhBar2OFk+ErQqkw+NJTnNcgU9lyyzBYsMKMRyQQy5MzFV8ZrO6m9WKzq5UTrBe3hDkZ0RnmNrjR+FcGy+RHwQ0kbySTGcyRma8I0lv9BKstQxGd6Yjm8aNhaU/SR0Ym0wlrQSK9e/12VjVr2jAI58D7dSHEkk7zTitvutBQtg6rqWwKC4+F4fideAyu543yHrb4YvVxnIo2oFXFQnivaSmGujDlbklrvs9I/KjrjM36etDnK4hOVYuqhMqcQyq9yQ8fKOuBNBJKOElPnsvduGRaKfQoaEvhObAevF3t85qtXP8uSX17o/MpUTuunhOKeJdUVVddhpYVV08UYKhRwNEDCLgVg051yqJC5ZpkQ5/A2O3E/pF0YUnhverjrOp2ILF34dH30aDe/7F3HfBRVV9z0hNCAqH33nvvICBdQTqC0vmDAgqIBcWCioINUVCKKFWaiAoiiPTem/TeO6SR3r4zNy5fCG2z2YQNnOuPHwhv37s792523nlzZuqJtCIDThzbD2+x5rsRGGI0798u2iDyFLlplhuPEQ2zorqEtaxdvRzfbbmGUhki8U6fzoa0JxzURL8ye5e5IWnmuhNv+K3Dnkoj8cY//ibUpGUeif/u3vWu97VJ/LEnbRTv9EyxGNzzBeNE0u7TOULkneSZgjPGdSiFwsXKIDz0Fg4d3IuCBYsgY+bsxrovQJ4W1apd/6658CLU8HNPG79pccFgIzTJdMJmzcSToU0nMeXPgORUnocPH26KDzoUASXQD94DWoFOpc+IEuiUA3rkyJGGNDEdK/FjT34RUdJAMs3IWVZ1SKb5i4/4bX1MmnLvJmlnJpFi1ZlyFkpWbPniTMoVE8eK86aFX+x87Ewf5UcxSDJOnjxpqm5We3xTI8EaeoJ48YfN3X1eR5FxHDCviXr6Y0kpbCo+zttFFlE4PjKbQxoFXeTvorOXw40ICaA5dwQl1vSGuzh68Jl9nIcvwnuuhOeCFxEdchOdo0fgZExWFM+eHlNeLC8KEScTj77y8DV0FrtBxmWfvhFqKsEkd9Sif9yqpMRTR5sgGzcpVXPtN2/fiZHrb8InLgQhzt745dUm8EsvyXhHl4qd3gwcueWF14OlgU48tNmoSeeK+41rl84ZeYSXtyRcio/yyvnjjLd2A4+j8Hh6GALTFZB5ZRRpSRTmbL+AHD5u8PP/Fycu3UDrRncn7vE6H30/FRtuCjEXV4t36/qZUJElS//AuJ1S8XW/hX51i4nW3MVUprmfGHQUFHAdL09ejiBJBGySKwyDenbH4f27MFTcQSJFv1wnUxA+6N/TkE0+eaBMpGBBifmWZr7Jy7ajoJ8b+nTuZEgtK8Uh4tkcJaT202Z5UKFyLQTK+Xfs2IbC8hra5F0UL+arZ4+igsspOOepiJXHAvHZ5mDRssehjI9ITQb1lDndwOiZi3AzQpoLW1VGISHHicfgr6VrcTmsAAAgAElEQVQBMTQ9vIT4T/lfA2TKmgNDzN95I4NIZKb0b3mX1/SD9h4/c5bGXxJkDguZZuMjf4YxIMVi1WhttTrhNXleyjbee+8943akQxEgAkqglUA7xCdBCXTKLYMltfBhV7A0F1EzvWjRInM4iTS/MFilTmtk2hFs+hLHilvS6/jFnhrDUnknebYlmvj2HEXG4L7kVdNYGNl8jEgv7o4jdhYPZLd/3kZchnxSRR5r0g7vO0QD7eQvYSw+OeB8YhWcJXExWiQLp3O2hH++Zsjm54NsUiSNk3jy8wHS7CbWcyTD5ksr6IJ4VQ83+ujIRp8C6TLh17XbsfaiC0rnzSLBNeJOIf+RYHernNWQx5KFcuPtnxbjhHg+F3C+hu8GtMaC5Wtx9GooXmhUFe5ZCkvQiMRjS0Ons5BhJ3m/jPlO7GYy55d5mHHEGRlcxZO4ZwOj6XX/tZtINvZjW2xxDI7sL84YLsbC8JQQe8a8x0WLgCEy0DQklvYOxtgh8U15lGBEydMhNuBdv3oJc/76R0J7vNC+dVtT4e7++Qzj2Uwd9wdSKWYc+Ikj+7F6y3Zk9fESn+jySJ/OQ6QTESKZKGles33rOry/4oqRlJQQ/fSYV7uKZGKdVONP4Xq0F95rnA+VRG6ReHzxwzSsvpoO6RJolZkUeFRILePBp/Sue5d+mVXjMTN/wSWRKw96pjKKFC+HP//6A9/sYm05FtX9bt1uQDx8YDfCw0KNdjrkViB279qOwoUKI1e+wsZT+plPF8p1xHM9zhWTpBk0b8E7fcWT8lmxpI/yxpGfP94082dbpUqVbPJ55nkYksKwkoSJf0mZkx77eCKgBFoJtEPsbCXQDrEMtydhdJli8UQ3D/pN83EpJR58dFmiRIn72uM5yrvglyhTuxgykyeP9dZyKTl/i48yv5AtseIk1KwM2vvmhOvHqrMlICe5lXfXHZMlvU+Is1TzGIwS+cy394SKemLXzWOFGOcUVwqxnjONe3cPRnu7HluGuHSZEc4UQqk8WwYbNKlTjdu/EFmub0FY6S7wLtXY2KhxUJ/tcmCB8ROOYoOjEG9X8X2mzd3U4hMwbqu/aTKsVygDWucKMY/s+dqY1aNwbs8qFHALwL9ZmuONE2WNzjbCSZ4MeEmgh/h8D66WHpV3v4M8MWdFj90WQXWG48dNZxEp8pDetfNhyLg5uEFSKxXed+tlQu26T8v1A+AiITG/XMuHr7eHiTd0LApkTme02FtFQmIItIS2uEl9t4zzaYyvch3nS7+EV2dtMtXjN2qkF5/k5neBNHM+/ZddhKxH4rveDZE5a070+3I6ToRL0IjYzo1pU1zuIbyNLthVgn+yZ88hFWo//Lp4EU7eCEe3xtVxMyhMPOOPYdIh8WwWUlsyfQi+GtxTejhjjWd0mDhx1K3X0JBvunxkz5HHVIQ52o2ajXDRL3PNLVKLhXsumhuUekUy45UGBc0TgYSDkeNv/3VWruSEF4vG4gXROG/bvBYfrJL1lAP7iDS6fZu7Y66XCPH+eV8waueMRf972PbZ+rnkZ4DVYz6BCwwMvCsN8WHn5WeVlecRI0YYr/3kDEpIunXrZhoY+Xnv27eveSqYcKxZs8Zoq/mkgIPe0iTuOhwTASXQD14XlXCk0r5VAp1KQNt4GT7+XLx4sSHTDHF5+umnTWWa8bG2PBK1cRpWvYwEjOSZ/sb2jjy3agJWHJQwVpzOINSek0zz9+TiyUf2hw8fNl/SvNmxBzl3Pr3WVKCNT3L1V8SZ43/3fJfuf/SDy+nVxrYustEnpinQDLHFg7tor6VqzOE5vqw8+qfhmRDYdtMltjveX9gynIIvip9zE8SJtjpWzrWt7nSER0QZF4Z819cgw54J5rX0UXbdNdXEj9PZw7/h5/jiWC6cOHsObkFn0Tgv8KLbajilz4rIp0fKOYXwSlPjkaisePlWHyHCbrgBkU6IbpuR1y6i6M2GAAzx+gvtMx7BtIrzMVmSJDnaVMiBIuH78e2OCOTyCMWY/z1zR5Q0nTiG/X4QG0/cFH22uH+ki0CD8NXI7eMMj9xlcHr/JnTIcBg5Yq/gjwLvYsxu4fxCNYt4h+IbqUozCOXPpYsREh6J1nKz6iWOGNeunJPkPXF7EbkIx4ujZ+KqVJJdROrxXYeSRiLx48+zMOeUF6qmv4k2tRho4mykHiSOdFsJFynM4Hnx/su9aW/Xuj02SIz2x+sDjeVcpwTuIAnXYIdUs2duPIFqedKhS/sOhkg3HbdFZDIuYNDPlBcrmCcDN69dxt5/96C0ONvQXo8SkeDgIJSrWN0Q8wW/LcDE/U6mmN8wazDe7tdDnD8u4/M5f0nKpxPeav8Ucko4jL3HqVOnZB7Bt/3weVPJ/ycp5k0HbyotUo97NRXzOCYLfvjhh8kmz3xvLEjwFyvhnEflypVNgYIN3ZZBAv3ll18aK1Idjo+AEugHr5ES6FTaw0qgUwloO1yGVc1ly5YZMk0/4Tp16pjKdO3atZMnE7DD3CzNcgyRYSx3WhiWWHFLQxTnbfliT2rlmMQ8od7VHuT5NqkVmYKT+CvH5ol3vrjXcF86xDhqxAnpjZIGxJiiTeG6fRLcNn8j7hp+CO8iceTeWcQ/eSzYZBibo7xxc7groVAcMrymiYe0kF26coT33SwEU/yU/3odbuc241LmavCNDYLflc3xNwjSsMlqdnSlnriQvRH6/rhGCKOkKAqp/indOBRyu4mop4abuRmdthD5LeU+xqLjUdga5Iez/pHydmiPJ3Hl8EcVl+P4ukkm/ObRCmNXi6OKlE9frJYHvSSwJTIiDK7iAU1ymHgcluS/frP3IigkVKzjnNDAZS++85XQlEYfwOXgQiP1iJWY9bPVR+DVmZvFf9kdr1VLh8ZNnpHP1GJ8uSPSeEa3zRuCAf815VHqwcHGvuNH/sUva3aiYv5MaPZfpHbTT3+Hj3hGh9Jer0s5ZM6eB2tXLsNZaSTMny0LComPspukYFJfbXHHWPTn7/h2T4w5b+NswXirbw+jcX5n7kYjGRnZtsI99cuvzv8XR6+EIIM4m/zUrYKxzOv2xWxci/KCj+iXZw5qKcT/zs8dfa0/+3kJgsWVcFjbOshToKgkKc7BtGMeRj/9TO5bGNJLfLrtOBKT53udmk+B+JnjjQafDrFfgT8/6J1vsar76KOP0KJFCzvO7P9PxUrzwIEDTfCVEugUgTjFT6oEWgl0im8yay6gBNoalBzvGH7xrFq1ypDpjRs3omLFioZMN2zY0HTGp+bgo1FWx5PULJeaE7TiWiRwQUFBt7/YLbHiD3IXsJyWa8EbGsaSP7J0yQiRU+ydhTjv7OITLNHGQm49pjY0jh6mubDJZ4gp9h8hkepywqhwl3/nCan+HtFFmyO67ltgpDh9o3k8GxGdL+2BhzQXSllaeLGQP+qoJTglVtIQoyXmm1VZ6o93FOiPPnsKIFSqy1mdgvCn72fI4iqEtngrmYLUfLOVQmzuarjonAPdpksZmNRZcC+R2RXHzoq+Oi4SH5a6iprRWxBZuhOWxtWQOPUYNBcrPff/dNj0TubNjXM6Id83w0yTIzXaPM/3a07gh/UnkcMpgA7YmJ1xMrJ2mYjdIZmx+t8zaFS+AMpKNDu9lSPCw+CbMd6/eslfi/D1LrlJEOLdKs8taQrsBmqH3/z9iCHVnz9XRGKs76zU83UjpAFxy830yCNV8a/+10oSJvfji7XnEBjjKcRa5B9dayA4JMyQQ0oZeHPmnc4TUxb8IU4isXipdSMJOcmLqRLPPeuEl7HKa5HrFl7r3d3okzeL+wf1MjVr1Rc7Pph48IJZ0ok9oITjyHto9eVf4v0cI84aLvi5b21kyZYTs0UrvuhEFFoVdkWXDvHphgnH+jXL8clGaRyVG5OXK7jiuWftl+THkBg+hWLTsLVPcxguxBvPzz77zPzOm7IXxLN72LBht6VDVnx8rT6EP6cYZMUGbkq4EhJoVr0pO+PnmNXoJ9Gv32ogH/GBSqCVQD/iLRh/eSXQDrEMyZoEq58k0STTK8XTtmjRokbm0axZszu+JJJ1kXu8mKTlzJkzt7vsWUl6XAbdBagHZpWMX+p08yABSnxzwmYpkufChQubf0+N4RQg6X1iXccR2fL7+6YWuu6YArdNX0mFOAvCO/9mKtB3DSFqXuP4KFuYmhDt8Bf/FNKc6LF+yDWTMugUE4lYOZdT6DWRbsS7d8SKFjhW9h/3wjyfnvjiZi0J3ohFTl83LGkSBKcbx+G2Y5IkmEQipmADRLaeggBxyegydac4dsQgu48H5vYWcspSs5zT66en+FPJnDv8fxvhcmaDND2elJjvTli3Yy/eW3tLCHusWOwJEZZKdyXxjR7T/v8dJ76aMh1LL4ue2vsGRvVogdB0OdBBkifpB+0pjYoL+1WFh+iWY8VfOijQX6QgmRElwTUL/iCpjULnli1M+uB3Eun929l4n/ZWeULwqpBqktY/l/0FL3c3NJXKtZOE17B6nD5DFhw+chQF8udFzx83GXkGnxPMH9jAyEA+nzIDK66mR/MsN1G7YnxTqaWplTdqpgHxnyvmXQ+r7WviuX9b9Cu+32d+QmNwJbd7ek3/s3wJFuy7jqZF06Ptc+0QHHgTbcetMi4b4dIU+MuApyRtMasJbDl06IBIKspJImI2HNi7Td5zNMpXrHGXF7Qt+9ei+7c47tjy9IU34WwY7NKli7mJ/ecfaewUNyIWBTp27GgXm08+wXvqqadAOzxqnBMO3jyT9PNG56+//jIaaSbK6nBMBJRAP3hdVMKRSvtWCXQqAZ1Kl6EsYc+ePSYFkXIPVlD5JcRGHP7Zli+3e02d1zly5Iix6mK6oLUVp1SCwa6XsTxy5hc7K2aWVDYShwMHDhgtJe3NUmu4rZFmvr2zzeViynVGVANJGLzfINF1EyIoISr3HPIePGY0g3PQOcS5eoqVneioPRO9FyHQzpd2CSsU4pmrClwl8MXp2kFpRvxb5B0Rhvw6S1X4Qowfno98F8FOvngu+3W8WDkbsuM6MqwR5w4JcInJXxeRbaeZaWw9dVMCWILwnCRG5swQ733Mm5bA6Z1QMPoMnDzTGy9s9z8HCHGX1+atjueOt8TB0HiZAoNP/HzSGSLYzu8UsiAQXSrngFOZ1ggJC5fAHknME0IUIp7RHabsEB23uG7EBOL3RrekQt8aQ76bh8OhvngmZ7Cp+CYee3dJU97Ss+avLfZyUyRFdM7pdKZSPLSyuzT3tjRz3rNnF0qXKoOMoqPftnkN/tx1Ck3K5jWWeLTe6/LjNng7RSA4zhOLBzcWGF2xT85/4NhxFJRgmXyFigs8oSIVcbsdDz5xxkzMPyvNm8KqXygcht5dXsCp4wfwwa+75L3HYmSXp5A9d4E7ph0tUpteX83F1ShPZHULx09DOppKdrevpRk5xgPZ3MIwbWhnuNjxRtfiIMSkTX4ObPn5QvLMhsFPP5X496YSB//fYCMi+z+YOkhNeXIGw2Do5MHzv/aapGM+ZND9aMeOHQ7by/Gw+T/u/64E+sErrAQ6lT4BSqBTCehHcBl+uR09etSQaX4RMciERJqEmo8qbfmy49uwPHald3VatNlLzlJYYsUZS0x3AbqN8JEvsbAVz6TOx+XIn2Jb944pc0Y1FN/nkslMZhOSzSAW6qJv+0b/Nyk2FXrMloZEEmVpRqQkJLrs84gs3xXuPz9nGhKdRE7hHHpDJhOKYGdf+PuWQN5ocdOQm6swie12jbiJ0CwVEVlvGHxzFcWRqyGiV94n/x6HV0qGosf593DTrzy6+fdGYFgkmmUNwOvPlINT4HlpoBwodwlRmO/ZHh9cfUqa34Ss09XC9SL8PfMhZ5w4a4Q6w0XkJe96LUCjmlUQLQ2OCQc9ozf+9j2aRK1GKY+rOFLlQ/xveRTSOUk8eJwHVrzT2pDtzRtWY//pi3imXg1j80a/Zw7fjPGV+3FTp+O380LgBfdXysahUcMmWP7X75hyzNM4doztWgs5ct+ZfhkVGYH+387FmXBvlKSV3qDuxuf5xQmrERbrJqRWmiK7NcQ1edJBMm5paoUkD347f5nRTw96/llTOWZk999XfI3TRs9i4ejeqbOppG/ZvE6kIV7Gqo5zPnz4gDSxljbzZqNhp0kS4y5V6UipSv8xuIkJpLHHsHi98zPBm2hb9j9Dllh5HjVqlMSdN7HHtO46B+fZvXt30+A5dqzYPN5jcB4W/32GXZHQ8+maLe8pRd6EnvQOBJRAK4F2iI+EEmiHWIYUnwS/ROhNTJnHH/K4ml/WtMej1IMR09Z+UbAaS6eNvHnzImfOnCk+b0e8AL9sGRDBdEE+FmZlmmSaVWhLxHFSmxCT+j6dpCmOI04a41JyOJ9eJyT2FakgS+6dhLHAU8iXENqtdX9GdomWzuUWJNXhmjBNjKxSu3gizk3s6aRa7RRxK143Lfrns/naYmPWzsjiHILtN9ww92CoeWpREYcw1etb7I4uhEGxg+Hm6Y3QqBghyUCZnD6o4nwUZ/xDsDwovxBHFwSGRqK6y2FM9J2GdLlKYOSNhlgqpNI1Lhofec3GU2WLSOX6y7sgcZ8vldcr+xAnTYzBz07GoF8O4EiYL5rnCMbrfbrjzMnD6Dt7v/ghuyC/RzCmv9nNnIMV3Gghwe6e6Qw5nf7bEpFwuKJVo6dx4uQpLNx2CHuDfaVx0RmvlBfHkFZtTWriitUrkMUvA2rVEtmKNCOeP3NCPJaLmobEyxdOoZtIWFjJFhUIlgxrYxQsn0yeia03vdEuXwhKFi1hNMCWplbKPpYuFa22BLyI4hsfNcqGajWewsz5czDjaLzDyof1M6JWHXE7STTm/Toff50IR7tSPmhlJ80zf55Q4sCb6eSQZxLV0aNHpxh5JhQbNmxA3bp1zefV8qSM1W5+hjleeukljB8/HhMmTDANjZRpjRkzRtauVkp+tPTcyUBACbQS6GRsH/u9VAm0/bBMS2eitpdEmnZOrKY2atTIVKYrVKhwXzkGySKbb0i4H9fo8YetIatSdAqgx3FCzTcJBZvFqJum9WBi8vOw8zravztdPwKX4yLRyFPTNBg6X40n7BA3kCDPPLja/CfkkZuo2yM2Gq47fjDezLG5q4r2WryrRRLiIue5HuuDlhEfG9/nar4BeK18NF7aJp4bYdH4OPMKNA+VuHEXbwzyG4f910S/K7Z2bAykZZuLMEz+YqWVQSvp3Jwww/1z8WOOhF+1zggs0QWLlv2JzIEH0SKHkPn6w01ITOJx8cI5LFy1ASXyZEGjBo3/00DfNHZ4rD6fFnlE37mHDBHO5RaCWcO64lZQAF6ZuAhnI9NjQNlY0Rm3N6dlhDXlS2yaXSO2dF+Lg4e7NPONbS9JisXL4pOJ0/DPtQzS4BeLUY2zoUr1unfN50+pXK855o9O1Qqhas2ncOzwPvRfcMxUiqOFxC8b3s7cnP0rseEnpPGtkERt581fCMH+VyQAxlsSCuMt2EZOnIqV1zKaPw8oEyNez+2Nnd3I33fBzz0GH3R/1uig7TksT7Yo37LVrpE3oSTPbB5M6IZhz3nquR5fBJRAK4F2iN2tBNohluGRToINNGycYXX60KFDplpDMl2zZs3bJJESEA66fKRWmt8jBSXRxS0VNzpuUOv5IM03jyX5IZmOD9t49LHiScJSKsyek6pJBTlIqsne0sy3wQSuRIYG4dgW0dWXqIXsuawLyWGk+PYL4XhllbhciDWep7T+bcn0ISKeFSu9fLUREnANt05sxeVw8a/2yGw0p5N3h2Dz6UC4CnGOESxvhEjzolSCu4uv9DOee/Gm8+sIj45D5ezO2HHdDfWKZsZ7LYrdFS6S8D33nrkHx6+FCDF3wvhO5VAih3hjywgRkuwlkgZa461auRR7Tl9F26eqGtu5raJnfm+lrJ94VPu4RGHe2y+Y9VyxfDGinT3wbJNGhpxevXQGHlKhthDVN7+Zim1BGeEqBPrd2t7SFNgM69b8g9Eb/ZFPHDu+6PucNBf63bEkJOs9v/tLHDw8UMk3CKNf7WnO2+OnrSYlsLhXIN7uKJpqedpByQR1+KxO3xL8vli4HhmkCD30hVbGWWT4+KnY5J/BOIgMKh9nquL2GtzbvHngSMqTq4TXt8g2SJ55465DEUgqAkqglUAndc+kyPFKoFME1jR7Uko06ORB3fTWrVtRtWpVQ5jXrl2LX3/91WHSBVMTYFba2CxIxwSGxFgrd7HM8VHHiicZK9E7e02oZJwzmGgY1mc9wpy8jdsIHV5I3qwdV4Ii0GvaNokFD4MXwjHcbQ46uq4TZ5BsJnLcKeg8omoORnStwcYT+NKVqzhw+hKCg4JRNF8OrL8ETN96XjTOUfB1CsNQCVr5At3gGn4DV2N9kVmivaM9MmJGj0omhfB+I55A3xJfZmB8m4IokT83Js2chbmnvVHUKwjf9m8Pz3R3RqD7X7+Cfj+shL+Q2ucLhqOl+AZv3rAS4w66G+u4Whn9MeqV+HhwDqYMspp96dxJ/PDnWuTydUePTh3lBsoNvSQe/HxkOqNffrd2euO0QfK+TuK+8+XMgdLlq4lE5AYunDuFwuIfTanHkYO7MXCheGHLfz4St/3bO51FMhGFTyfPwt4Ad3QsHIt8+YoY/b1FOsQbu59/mYtpR9yMROSzZjlRscrdEeLWrl/C4yzkmfu/WLFiSf4c8FwMNKGrxueff25CoXQoArYgoARaCbQt+8bur1ECbXdIH5sTstLVu3dvQ6SZGEbyxBACPnKl3dOTMKjxpOabldF8+fIl+y2nZqx4cibLBETXPbOMp3RgrrrGo9datxFnsZ4zPtJlOuKPc174bNlhOEujYmHni5jn8YnxjHYSyzz6SYt9B+KESIcP/Nc0Ffafuw/Hzl1GqZjDaJL+NK7nfhozD0SAtetWrpvRu3El9N+WBUH+V+GHYFyNyygyjEyY06+OiQRPOMJCg83/MmDkQkA4flu1GWVP/4imngcQ+dxkNJl2Woh5rAS/uOKbVvlRqlwVnD15BCu37kTlEoUk0a8GwkNDxB7uhsgqXHFepE7RUpV/d3Wg1KSdUM47AN++1tM06g3+6R9ckVCTD+pnEh2yBNEkGlMktXCepBZ6ikRjUtcqpklx2LdTsTUwvlI9oUNRkX+Uu+NVJOTT5s3FjouR6F2vCCpVrQNGdr+25IKowWORzjkavw7rZKRDh/fvxulzZ1G8WEnkzJUXFy+cRMYMGY2kxB6D5Jkpm9T28+dAUm8iLeSZDYP0WOaTLB2KgK0IKIFWAm3r3rHr65RAWw8nq7M04adlE4kVNXyMm2X61vPPP28e7zImdubMmcbxgsd169YNO3fuNFW7efPmGdeKtDA49z59+hjiyC88fmHyfbAKvXz5cuM8wQZEpoUlpSKZFt67ZY7EgFVXEme6bdh7pGSsuL3myuZIynqYMHmvmybnizvhfHo9Yoo/i7jMReAsumkPelSL5CLONxeOtV+JXlL9DRMiOiTbLnQs7Q337ROMb3S00MCwqDikK9cS/rXfR2B4DF6Ytgc+IedwKTYj3IXaukjTYgf3zbgQ5oZOWc8ionQXeHl6oPjxSfA+tRwH4gqisFcI3Hv9KWmHi+FyYSeiqg/Avxdv4fU/zxgZw5fP5EVZibd2+/stcwyJe3SlXvjyaHYsuuCDvK7+mNzACe5VXkS7z3/F9Zh4ojv7f7WQJXsu0yNw8eJ5CSuqLFIPJ8z9dQFO3QhFzxb1DBFeKkmGn2+XdyM66GJet/D90B6mGr1l81r4SyX96QaNTEX51PGD4qaRBZmyxO+lHlKVPhMh8hGZ5egmWVC1ej2sWfU3xm7xRymfUIz4X2dpXrwzFOnalQvoOWWD8XmumTEQHw/shYtS8e41Xd63VMUr+/rjpZYNjH85q9EWv+l7RWZbu0e4VtwDbGS05QkMr3Px4kVTef7qq6/QoEEDay+txykC90RACbQSaIf4aCiBtn4Z+EVC9woSCVZnGaX9zTffmI5tGvOTRLOjm81FL7/8Mr7//ntTvZw4cSLmzp1rNMYk0Wlh8MaAjYKvvvrqXdMlDgcPHjQyjyVLlpjqND1WqZumM4ct1SlHw4TrzKorH1XT/iqlhz1jxe01V94Q0mmB+/me6ZaM/WbwiYn9lmCTttPhOa+DaSRkKEucdzaE99+NkMhohEXGIkv6eLcIJ4n0Dl89Bs+faooLcVlRP7f4Qp8JlFiUGJQrnAc7zwbAO8ofN+PE8UP8oJ3kPw8pWHt5uOHPAdURKmtz7eplFF3UCs7iL+0kEonQxl/CZ9XbQlwlkts3Lz6P64qF55k0F4fWuYIwRLyeI8/uxMJfphsf5VZd+sM5awkEL/0AmY4tNNroiKfeQ/PFThLN7WaqwrN6VZFGRifM+uNPLAvIhfqZbmLEy93vihI/feKQVM7/FZs4F/QpEYPn23eUFMHVeHeVv6lUt5Lr38tr+sjBPZjw926TxPi/LvH+zB1GzRbPZnepLztjVKPMxmkj9FYwtm3fiAJ58xlt9rVLZ3FWqs1ly1U2BHvPjo0YuuyywTaTSwR+ebuL+TNv+EmkqZvmzSBvhkmomcBn7WfU8ln38PAwYUHWvi7hHiR5ZuWZPyeVPNvr0/lkn0cJtBJoh/gEKIG2bRkYWUsCTesjeiuzMYbNYps3b8aIESPw999/G9N+/pnNeKxYs4rJLzNbvoRsm6Xtr+IXpzXz5HGMx7XY4/HGglVpVqdtrVbZPmv7vJJVV94gsOrq42Mfz9ykzIyYsrHT0oSYlFjxpFznQccy3IKOI3Rl4dOUew2noAvwnCY6VkaDi+NGRLMx8FgmIRXiB00HjsgOcxCbs8JdL3XZMxPbV/6CV0N6I9bZXaqpLkgXFyZk0xn9i4egixDQS5cv4suNN5He0w2bT/lLpHcs/NK544+Xqt7el87ntsBp51Rcz1JdKgSsZWgAACAASURBVNaZUHbXOyLJiEZs1pLYVfodvLGENmVO+OKZPEaO8f3aU5i744J5/asNCqJdxVxwW/EOnA78bqLPY556G/ucSmDhpn9Rt1hO5C9YHDdFBz1EyGl6CUIJi3PH7J4VkDNPQSP12LbvX1QtV8aEnwTcuILg4EDkLVDMvN+lyxbhs+1ShZfrW7TSrB6/NX0FAqPd8fGzRY1kJPH4RFw1Vl/3FZeRGPzUo5oJS3lDmhJ3BsW7ekztXgm58t6ZFBkjP1vGTvsZe284Y2C9vKhWs/5d5+XPH94Q8edPcHCwVZaLlqAg3jwVKlTIqp8HiS/M6j0rz19//TXq1797Xvbar3qeJwsBJdBKoB1ixyuBTtoy8LE7ZRrHjx/HgAED8MYbb6BGjRrm/znOnTtn/JVp90YCxjRAhpZwsIJDPTErQY/j4BcuSR+t8fiLf2Y4AnXTxCItpBWSYDABjTZ196y6PoKFszZW3F5To184CTQrzw+LZ3c5+LvIIpaIJKJnvH3dyvfhfP2QSUeMzVnxnlOivjri99fQ/tZruOyUFXVyxmHHhTAhjaIPlqf7BWu1M4SWIS5xkqK455oTtp0JQJOSWR/YKBh7ci3CT2/HGZ8qCIj2QPp0nsiUOZPRBHPvjV11Ar/uvmQq2v2fKoDnq+TG9qPn8PZv++HtGofve9RB7sy+Rl5y4sQJU8EtWaIEXh83E3tDMqCAezAmDX7eOIK0+2oxgmI8xZ0jAgtfewYeXnc2IDL2e8LsX3AlJBavtH7KkN4Fv/2Cb/a7myCYmhn8xWmjl8Fnt1SQQ0LDULNWfdMwePDfnciZIzey5oy3CWwnVWn/aE9CgjEtcprAlI3SzPjdhkuokDkaQ3u+INXr+yRN3mMF+LSDN4nc67RcvNcNWkLyzJ9btgwLeWZ4CSO0dSgC9kJACbQSaHvtpWSdRwm0bfCxcadNmzb4+OOP0aNHDyXQ94CRGFHiweo0ExH5+JYyj2rVqplmJEcb/MKnSwCJI/WejjgSxoqz2s+bsWzZshlZkTVPDB70nixPE0iuGDqRkmvE6nH0resIyN0QmXzTIXTfH/BeNRyezjHGlSPO3Qfua0ea4JOITvMQl6V4kpaDJJHk8PLlSwjwvykx25nhLRZvi4+FwtPNFd1r5IGHqwveWHgA208HSJNgHAbUKyikOhf2/7sXuySeu2C+PKgrcdwxQpjPnzmOXFINpmQiJCgQLb9ZyZRthhLij1frI71PRqkCz8Syi95omz8M/bp2vWu+bAAcKg2AlHX0L03P5g7YsG4F3l8bbM7VrUgYenaOl18kHDu2rsd3Uj0vn1mSG7uTLLui9adzhcDLkwFh1V+3yGFItS3DIksjmabcg4N7ip9dBgOx8mzL4E1Yp06djMSNfSM6FAF7IqAEWgm0PfeTzedSAm0zdPjoo49MlZJ+po+bhMN2VO79Slq5sfmQTYi7du0yshbKPPjlej+JgL3ncL/zkUSwEZSyiZQmjvZ8T5ZYcZIfSoqo1abG1ZZYcYvPtSWWObWfFrhu/V7CV74SeOIQU1DK0JJi6HJ5r/n/qNpvILpKnyRDF3DzKl6evBwXo9JjUOlIWduKRsZAPS9vOojVqmMB+Gz5cbiKBvrbDmUQ538Ov65cj+UBOcSbIxYj6/uidt277dbWrlmOP/ZcQMuyOdHg6WagPKPD5O1SRY8SSYoblgwSUu2b0TT4/XvwACpXqBzfkChEPEQaKouKOwYt75gSOP6gJDfKaJT5Jj7oH+/q8cHMpbgV7YIP2okndeGSd73318dOxa7gjCLriMGMnlWM1MMeg59T9m3wSRv3gMVvmmTa2hs0PoUjeR43bpzxlE/O4LnYiM0nIrx+3759MWjQoDtOyb3Lv6OXPfsxpk2bhkqVxIZRx2OLgBJoJdAOsbmVQFu/DCQqrEySoPCLhvKEt956C9OnT0e7du1uNxHy8X///v3x3XffmUY0SxMhm+7mz59v/QUf0yNJ0iy+0uvXrzdyCZJphiqkdkiLxZ6LvzNVLbWJo72WmISHFVfKZngjkJRYcVZrLS4LtlqUJfd9RARcwsTpMxAU5YQB7ZogS8w1eCwZaJIPIWEuEa1/QGyBpMkA1qxehg83hBnJRDa3MMwZ9qKZ5hoJTDlz6SoK588vASjecPH2Q/asWXDz8jlDwH5Ysg4bAjOJR0gc3q7qgmbNWmLblrUYseIKcnmE4cvezcVNQ3ysE4woifvuMWY+LkVLSqBIPaa8/qKxwOvwzTKESFNiZpcwzH+zo6keJxzBgTcxesYfCJT3/U77usbV4+f5czHhsHhaO8Wh8X+kmq85dmivkZWUKV8VlIjs2LEFBfLlR54CRZMLv3k99wF/XnHv0C2Ie8qim+aeYvMhbzpIqu/3dMKe5Jlz4hMh/iIhpnab8jnKw2ipaBkkziTr/J0SOZJp/q7j8UVACbQSaIfY3UqgrV8GVma6d+9uvlj4ZcPmmPfff99oZunAQQJTsWJFzJo1y1S5+GXXVR7l7t6921QH6cRh6yNR62eZto4kltu2bTOV6RUrViC/kBqSaerIUzounNemVp2NggULFrS6wuboCPNmwNpYcQsGJEckTdZWGe2NwbydF0SjfFI+V0CzUlnxYcsScF03Gm7bJwqRdEFMkcaIrvoS3P4ZhriMBRDZfIwQ6/sHp3B+V8WtovdPmxAc64EeIo/oIfKInds2YOjf14yFXv0M1/Be3xdwTaQL1DzzvRsXmZgITF+5Ddm9XdG3S0djQdf3y2k4EpZBzuqEYVWd0LzZc4bErt+wBjmFfDMIJeRWkFjVHUaRYqUklCW9uGWcQ4cpO0ygSZzQ+L/faGLONfnnn7H8vAteKOUh8eCi9040Nom++d3VkgIpf9+vVBSebxfv6vHOqgDzdwPLiIWmyD/sOSzkmcUBfgYTD+4pi246YRWfx1tues+ePWt+Do4fP940WKfEYD/FwIED74j/7tevn2lQ7Ny5s7kkExLXrJF1kbXU8XgioARaCbRD7Gwl0A6xDDoJQYBf4iS0rNSzmsRKGMk0LfKyZ89uV3LHKjg9numMYmnyfBwXgcTHEitOjSufoLCKSAkDq4jEgNg+agyW7L+CT5ceRaxINzq5iy1by6pClKVCvOAF4ykd8cw4uG37Hs5X9yPO2Q1RjUaakJfE49TxA9i8ez+qly+NwsXKGFJ7S6q8FonDmtV/4wOpSkfHOaGy8zFMKH0IqzO9gMmbz+FqdDoMq+ktUot8ptqZMOFvmtz8zjzhZeztJnYoJmmBZTFywlT8c93P+DiPfy4PSperetd85i/8BX8dD0Pn8n7iytPSpBR2nrZP6HuMCXBZ+VZTQ6pviGzj2LFDKFumErx9M+Dg/p0Il6dcFSvXMlKP6XPnYPJRaVQU0XXjzDcwQqQe9hr83LE4wJt8a8OC2NjKJ3KjRo0ye6h27drmqdLkyZNTjDzT7YeSL/6M4A2fZfDnw7Bhw25flwmHlNVVqXK3y4m9MNPzPFoElEArgX60O/C/qyuBdohl0EkkQsDihMAGxEWLFpl/pV0gCXVyK6UWnSefBpBMPkmD750yD2pKSaz5/olDaktnEmMeK0R/2apVCN85B+1c1sPD2xfhL20HwgLgtuFzcfY4IvHfmRB6ZhdGhbZGeP4GeP25asbazjJYEW715RIEx4k7htjO/f5aU5NCmHDESBT2j7Nm4Jw0jL6SbjnyxF7EjFzv47vjfqZSXMorABNf72Fu5jatX4nLglXOHHmlSVDmE+ovNxr5kTtffGNd3y+m41B4RiP1+KCWh2ihmxtP5lH/nEZB7wh80KfDXdcPFULf6RvRN8e6I5fbLcx68wUJmbmF5+XvguXv8on8Y9obLxrSnHBQYz185gqExjjjozYVUUhuDuwx+ATCkrSZN2+860dSx/bt2w2BZS8DpR4ksGwWrlWr1kNdXKy9FvcqnTyGDx9uPPcTDiXQ1qL4+BynBPrBa8nmZh2pgIAS6FQAWS+RLARIptmkSTJN/aO/v7+ReJBMlyxZMkm6ZVYWWcHi61hhfBIHSTSrhhadKyuJlBvZErRhT/ycAs/Bc0YzU3GOKdQQkS2l4nxqDTwW9YNkaCMuQ158m/Et/HhIHFxEbtGuQg682aQoXI4sFsu7y7jllgnNlvmI4tnJVIX/7Fkc3rlK4PMpM7DsSga0yxuMgT26mfO7/dIFTud3IDx3LZwo9zpeXnhcqtIu6F0sDF07dcbWzWvw1ooAOZfYyOUORK8ObW/7crNyzwp+0M3LGPfPAeQXjj60eyfj0NHtsxk4FZEBzqJfHvEfqSZp37ljkxDxnMYn+vqVizhy9CDKla8MH18/01jYZcZ+U5WOkqr06rdbCPF0A6vXy06Eomul7KZR0d7DQp55E2XrEwhWhbt06WL6PGjnyX20cuVKc9PLmzR+XpM7+LSIJJm++q+9Jj7jiYZKOJKLcNp7vRJoJdAOsWuVQDvEMugkkoAAteaLFy82X850z2jYsKGpePGR7YOaAPk62unRaeNRV1yT8HbteigreZYbCEpkLCNx0Ab15yRW/D01Gyvp/ezkf9p4SsPFzaQWes6RiqOQ3thclfBzbBOMOZbdTLtP3ot4KfMuuBxfbgg2HTtWR1fAr2iANq5b8HS6Yzjb5Ae0nXdFYsFjEC5Zh8sH1YWbZzos37Adt5zToVHlUsji4yF66TNG41tEKrus/v6+aCG+3Cs+HCL1qOl7HV8N7omAm9fw7rQl8I90wcDaueCeLqPph7DceNBK8LMfpmHpFT8hw7GY1KEIipYoh9GTp97+uymdit1VPWbs93czZuKfC+7oln4bni/pgXMleqPT9APiSS1vS8pJq4YJqXa7d6CNLRuE8+ZNFG8EkkOeqTueNGmSIc8pMXjzzL4TykvoJ32vQatM6q4tTYRMT2VfhY7HFwEl0EqgHWJ3K4F2iGXQSdiIAAkhUx9Znd6zZ4/RYrLRiL8n9HLesGGDecRMj2c2eD6Jw5KwyBsIkr37DUeLFadntPONo4gu8Rxw5C/8s3yJqdQ2r1cTG3b/i4+u1UNhp4v4zu0bSQyMhDB+Id+yxtHhiPDJh47+L+NydHoUcL6Kn2pcx1r3+hi5Uww+YuKQ2dsdC/tVlYrxnQ89KbUYPX0BrodL02DjwshXtg5++X0hvv7XwzTy1fqPVBstvVSXr0gV3y9zTnmqkQFXLp817hgFi5Y2EL84eibORPrGV6Vre6JBw2Y4fGA3xi7diyJyDzO4RxdDjj3mdoDzpV3mxuFG7RFovdRV0g/dkMUlFAuHdbpL1mHrHraQZ2rfc+eWHHUbBivPJM/UPFevXt2GM1j3En5uaYXHPWu5kfv000/BhkWOl156yQTfsLGQoVV0UZk6darqn62DN80epQRaCbRDbF4l0A6xDDoJOyAQGRmJVaKjJZneuHGjcURhZZq+03ysvHTpUodJF7TD203SKeiccOzYMXMDkZSExdSMFY+IjsGbvx3CoUvBeKtJETxd4h76dCFLzidXwik2Wpw5mqDjxI24dCNQJBsx+MR9Oho770BQiU5Yf+gcCsWcQknXKwgq+TxOnT6OYmH/wtU5Fsfqfotu6+K10XEir9jk+zbcYiPxtXtf/HMtA7qX8UDrVlL1jomEx8+t4Ox/CjH562BTzh4YuvyGeV23wiHo3eUFbN+6Dq8vv2kiu/sUDUWLRo2N1IM3K3R3YYX39IlDGL36Igp5h+Pj/7U3umhKPY5F+Jl47pF1vVCvfhO4LRmM00d2I7NzKNK1/QanozNj76FDqFGlKrJmt43oJt4kJM+80aRDRa5cuZK0hywH86kPZRs//PCDCUXSoQikNgJKoJVAp/aeu+f1lEA7xDLoJOyMAIkCSfTQoUONvWCFChWMZrpZs2Z3dPDb+bIOeTpqUc+cOWOX6ntKxopvOH4Dw34/hOjYOGRJ744Jncth8C/7ERkdi6/alUax7P9VzaNC4b7oJThfO4RPs4zG72c94SZBKNO7VkCeDK547bej2HbiMlwjgzHbYxQKeYYgJn0OQIiwi6skG3ZeiJmnfPD3ph3oEfEznnXeiLOx2dE2coRpJIwR27y1bzeHW+AZhM7ohMOxeVDB6SicBu3DkSP7EUQ/4qq1pSLqgjkL5uPbg15m3etkuI4vBvU0zh9fTP8V/hFx6FKjsLiGeNwR3sInIe+Mm4p1AfFe0xNb50HJslXw3aqjmLv9LNwlIXFarxrI6xd/XnsNynQo2yBxttXijZadL7zwAqZMmYKqVe92HbHXXPU8isCDEFACrQTaIT4hSqAdYhlSfBJs7qEFVEREBPhF2r59e3z44Ycmhpz2UxY9LFO8SDbTeroXH6336dPH6HhHjx5tAiLoNc3HvNSssjJNVw/++VF5H6f4ossFGE/OBkyG1dg7njxhrDj3VEItsC2YXggIQ5efdkl0dhzqFc2M3Bk9MWPreQOT8YZ+toT5s8vRv+C+dIjRPcf45MWeln8hq487sqaPl+a0lUTAS4HhcI0Jx1jnsajjvA8r46rjK9feKJvdA++2rQZXD294TqoGp1CJrxapxy3nDHg2/EOExnkgj1uwcccIjYhEh7FMBHRCEY9ATGufB7GF7kwlZGrgsGl/wz/aFSNbFkfxMlXwy28LMMZIPZzQMP1ZfNq/C0Ji3HBCGgevXr2MDJlywNcnHQ4f/hdFbqxGJZeTxte64+IInA8IZ38k3mteDE1L3RnWkpz9wvVh5Zl6Z1o32jKUPNuCmr4mJRBQAq0EOiX2VZLPqQQ6yZClyReQELN6SO0rySWDDr755hvTPc8OdxLqhCOtp3sxGZLvccgQIVoJBnFgIyG9ptmISFLJ909CTXJhC/Fz1A1BnSoDVVIjntwSK075AmPFLRHQSY0VJ/E97x+GCnkzYPvpAFORZgwJJR3Plo0nfk43jsFzVkv5k1SLCzdG5LPj71iC3ecCMWblCZTOGI13T3aFc1wUmkZ9iRvwg2tUIL51G4+arkcQXqQ59h47i3wZXeH37Me4iiw4dPggKhXOjvQ5iuJUkBO6TtsFp/AAQ+p3+r6BqE5zMXfTUaw4GYbu1fOgdj0h1CIncf+1O1zObUJ02efxj+tTeG+DuIbIXuvsthZDs+7AzipfYsDiSyI0ccaQshGoVqUmnHfPRIGjP0jgYCyic1bE0oqTMHLpMeTx8zTV9wxebnbZWiTPDHOixzN1z7aM48ePm1CoH3/8UfXFtgCor7ErAkqglUDbdUPZejIl0LYil3ZfR4JDcjlhwgTz614EOq1bQzH+92GPqUlwWKElmf7jjz+MLzLt8UimmWaWVsk03xcJD582MPI4NV00+KlITqx44k/VmZuhiJJmvyJZJUQkwXASOYZTgLh15KuDS7di8N7iw2a9PmlVAtnEVYODdofndq9EKak6v3EgP3YcvwDX6FDMd/8I+ZyvYUjsEKx3qwl3F2fM7lUZ2X094LZiOFwPLECcuw/Cui7F6I0BWLdjH3q7/ImuXptwosan6LTcFTFxzhKqEoO1/cvCRRoc4/56AxeiJcUv5jRQtAnWpH8GYbvnoZnrHrg5x+DHXB/hmyNibyekv7rPdYwd0hOxZzZh6tx5uB7ri44FQnG5QPs7wlvssW68sWHlOTnkmdp5kmc25zFKW4ci8KgRUAKtBPpR70FzfSXQDrEMqTIJEht+AZJcDRgwwKR1UcKxefNmo9FkAALlDvzzkxhOwKQ++teyCZHEmnjQ0YOSFnuQmdRYZJLnQ9J4Rq/iYsWKPfKbgKTEituKz+i/j2Hhnkvm5Z2r5MaQpwuDa7l2zzGUKlkCJXP7ITwqBlu2bUKJLcNQUJoL6dJRP3ocgpwzGtMOaqyrFfDDkW+fw/jgBqjsdhI927dBXKEGcBKttdv6zxGbszyuFnke7SZuRnicK7K7BGOZ53uIEHu8duHDcTnGF9WcD2NC+imIbPoFnCT8hWQ8umIPnM3VHC/N2GZixb9okgVVqtfFon2XMXrpYalux6JhyRyG/POJAX25qdun1SIlSJTG2CK/sZBnRnOzmdGWoeTZFtT0NSmNgBJoJdApvcesOr8SaKtgeqwO4pd0mzZtMG7cOPOonZpIOlj07dsXhQsXxvvvv/9EEuiEi8zAFcpYWJ0mIaWVFivTNWvWtFu6mr03Fe3nqPWm+0PBggUfOXlO/P7uFStOYkeSmBxrwQW7LmLsqpPGXu4NsZyrldNFZBbHMO+YRKpIVXqkENP6xbLETycyFIgIEFlGIP666oevV51CmZw+GN2mlKlEt/xqGa6GSNCKs8Rzd6mCCoVyGCnGBdEmZ5bGRi83Fxw7vA/7Dh/FU+lOIe++cTgekwOdoj6Ai9jUhcc4YY/Pa4h6fh7W3MqDVUduoF3FnCib2xdxcgPrtmoEXI/8gegK3bDYrxs+/uuIkYc0L50dI54tfhuyhFjRQcXV1dXgxF+enp4P3Tokz5RtcB/YmrZJqVO3bt3AvohKlSo99Jp6gCKQWggogVYCnVp77YHXUQLtEMuQ6pP46KOPjGfq66+/fvvaa9aswZdffok///wTaV3CYU9AKYVYsWKFIdNbt2417gMk0/Xr108W8bPnHC0OCySktkYy23M+1pzLEivOiisJo4UgWhNycy04AtduRaJkjnhnjq2il3aW5rs87mHm6cHiS95YdkgaBGVYqtL+oZH4asUJcexwxtBGhZHew/X/pxl6A86ShNh1eSwOXwqCe/QtzMsyBXkrNsYnN57CogP+RpM854WiyBR+FrHZJHAl9Jrxbo7xP4cBka9gM8qgSzEnDK6XC1e9i6P1pO3GQSSduwtWDZZY65DL8PihLsRDBN4S6xIyYB9+PxSEGyFRZo53zCcRgMSKOPFX4vCWxFIj3gxTtpFc8swAE5Jn2kHqUAQcCQEl0EqgHWI/KoF2iGVI8Unwi5ePgdnUxS/jJk2a4K233jKSDmqFSWDYcMfqFmUcmu517yUhUWW4Ax09eMPBSHCS6caNG5vK76MYFsJEnautDguPYt4Jr8n3wD3KJkTesDwoVpy66K7TdpvKbVuJ8x7aqIg51fnz5018NL2uT/tHYMiC/VJJdsY3HcsYS7hRIvX4bbdIPYRo966VD/3qFjCvC7h6Dt6zn4MvgnGlQGssCyqAMpd+RWWnQ3KsK+pEjkOIRxY4x0bhW5exqO28H6cy1MCM6MYom80NbU+8AyfxjI4WXXTkkKOAu7eQ+wi0mbgd4UKgfT1dsWJQTcRFhePVMVOxPbIAWqQ7hBFDpcHVSfQjSRyJGzaZ0scbJzrpWNw2ChUqZDC0ZRw5csSk/82YMcPIl3QoAo6GgBJoJdAOsSeVQDvEMqT4JPbt22e+FFm94qP+jh07GqkGY7AtFUB+WdKVg04dmu718CUhjjt37jSVaaYh0l+X2nHa41EakxqDVnKsNhYpUsRmwpQa80zKNR4WK77s4FV8tITSB6k4i2PFr32r4rT4XE/bchGhbr4YUL8g8mdKd9clJ64/jWmbz5E/Y3DDQugkVd/14j391q974Rx5C5Pdx6JS+puIqvc23Fe8A4jfNMcPTu0wLrotCsecxCy3kfB2ikCriI9xIi4XPJyiMTX7ApQPWIGY4i0R8uwEuF/cDmdx7tjsUgXrTvijVbkcxsP6nLiLdPxhO1ziYhAhZHvD63XgIZ7PyRmWhk1+hinN4o0In0AUKFDA6OCTOg4fPmz6IpQ8JxU5PT41EVACrQQ6Nffbfa+lBNohlkEnkcYRsDTvkUxTAkN5jMUejxX+lHD0oC0hNc8lSpQwTxYex2GJFWdlmgSRVX4v30wYseoyzt4Mw/stiqGQxy2sOXodP+wLN/HcZXL5YFq3eNkBJRSh0kCYUeQXUcK4F/97xYSutBDNsYtoPt5ddAh/H7gqiYTh6Oa6AkNaVEBIqefx8z+b4H5hK7o7/QU0eAcxJ9fBa880sZyLkrM6oVXUKJyIEe22EOgfnsspzYplMHvPDYxdcRQFYs7gZ++vka5iR8TkqQ735W8iLlMR3HpuKnrMPYoT10JQNX9GfCuVcXvtC1btqXnmTRz/TN00nyZZZDEMb3nYsJDnmTNnmip+ckevXr3MZ4HV8f379991Oj7BYZMupSYcbdu2NTf1OhSBhyGgBFoJ9MP2SKr8uxLoVIFZL/IEIUAyzeQ/unn8/vvvxne7RYsWJgmRlWJ7kKagoCAcOHDAeDzzicGTMBLHirPxkH/HBrtwnzwYvOCAsbyrXjAjxncqh8tB4Xhx6i4Eh0fj1QYF8UK1vHfBtPNsAAbN32/I9MQu5URT7YNvV0uledt5oclOeKlefvSsmQ9O/qfhvrCHeD7HILLtTzgbHIc5yzehbL5MaN6slTlv03GbERh8Cy5ilfeV+2Q8VUhEIQHXsORmLhRyvYFKz/ZDeNFncTU4EjkzeIhmm7Xw5A8SZj6FKFpU9Nki57AM3mBZdNPcc5R0kMzy5i7xYKNsz549YS/yzPOvW7fO7E02It6PQFt6LpKPgp7hSUJACbQSaIfY70qgHWIZdBKPKQIkeKye0meahJqEhnpp6qZJfm2xx6PFGR0SWCX08rJv3HNaWQbiSlJGT3OSQ+J4ItwbgbHu6Fg1n6k4L9l/RYJJjhqtdJ6MXljYLz56evmhqzh5PRSdKueCXzp3U6Uml2VzIccYaTScs/OCkXr0qZ0ffevkx8FLweg/d58h1STaxS2x4gkA+/Kf4/h190Wkj/bHwmxT4NvqMwyQ12wP8BHP6Fj80L6gqVTbc1gkPPQt9/Pzu++pSbItZJp/Zh8EMaMfPPcSyfOsWbNMYqU9B8N8+CRGCbQ9UdVzKYFWAu0QnwIl0A6xDDqJJwQByhDYoEkyTeLSoEEDU5muXr26VZpVknGSEpLn5Fi/pWW4SZ4PHjxommJZdSWBvlesOLwyoN8vRxEYFoXXxBv6edE8bzvtj0G/7DekTQgGDAAAH6hJREFUmTKKiV3uliqERERj0vozsh5O6Cfk2VOs6z4UzfUfey8b2NpXyol3mhUz1e/VR28gVn5vWFwi4eXfGMWdydsN3u7xDh/tJVb81PVbcHd1xmdtypiIcnsNa8lz4utRY75+/Xp89913xqKR///uu+8aEm2N1CMp838YgWZiKBNAKT1hNbp06dJJOb0e+4QioARaCbRDbH0l0A6xDDqJJxABVgGXL19uHD127dqFGjVqmMp0vXr17klkLl68CP4iebYlWONxgJiaaFYzaXVHp4l7yWESulQE3QqBd4ZMKJg7u9GJrzt+E8N+Oyha6ViUFv/nGT0q4ZYQ5n6z9+H0jVC827yo8WROPFYfuYZ3Fh02f/2FeEbXKZIZ86RK/fXKk+bv+tcrgG417paIHLocLLHiJ1FK7PZebVDISEXsMSzkOTn6d96E9O7dG6+88orR0lOTzORK6pL5yx5PNx5EoClDYhWcMg96rg8aNAgMbtGhCDwMASXQSqAftkdS5d+VQKcKzHoRReCBCJD0rV271jh6UDtKeQfJdKNGjQxZ/PDDDw2hGTp0qFWV6scRbjpOkOiRCNNlwpqROFbcx9cXKy844VJInLh1FDL2dn+Lq8eIP48gSsh5rgyeWPRydXNqkt/TN8LQoFhmU4VmmAr5b045hoNSj5+3nzd/ZlgKq9L0p3594UGTfPiZEO0Cme/WG1sz7wcdwxuvvXv3Jqt5lOSZTX6zZ89GmTLxshJW1Hleyo0GDhxoFyeZBxHoxO+Ra7pjx47Hxk0mueusr78/AkqglUA7xOdDCbRDLINOQhG4jQBJ37Zt2wyZZoWaTXJs/Jo+fXqa9XlO7vISE5I7ukrYGhRzv1jxcBdpdJu5F9HSgPhc+RwY1rQojl0NQbfpu0SeAVSnY0ansne9hZshkfhAiHeMEM8PJUUwa3oPjF9zCj9tPitsFGhWOhs+fa5kct/6Ha+3kGf6j9P32ZbB5lNWnufMmZPikokHEejLly8je/bs5ikC93v79u1N8609mmxtwUVfk3YQUAKtBNohdqsSaIdYBp2EInAXAiSNL7/8Mm7dumW0vkuXLjWkiZppNmZZyMfjDp0lHIQ6Wf6yx0gcKx4a6wKndBlRo3geY/+29pj4Q/8n9cgtFefF/aubZsRPpClx34Ugk2RYs9D/O15Y5sRqNkk1x/1kHbbOnw2T9HOnzMJXKum2DMpf+vTpkyrkuXPnzkYWcv36dbNX+RSFT1o4XnrpJYwfPx4TJkwwN4h8ujJmzBjUqlXLlrelr3nCEFACrQTaIba8EmiHWAadhJUIkFRWqVIFuXPnNh6zp06dwvPPP298b5mqSBsuNkLRaYD2WQw6YajJvHnzrH7sb+VUUvQwzr9r167m8fp7771nqnIkfSdPnjSV6UWLFpn/Z2gLCTW9dB/Hyh0JF/2N8+fPb0hYSo3EseJ+mbNgyp4QHL8ehreaFEHVAn7YfPKmpBseMA2IWdK7Y/mrNc102KRIeQedOahx3n0uEBFyTPUCGe22JvYkz3PnzjUkXIcikFYRUAKtBNoh9q4SaIdYBp2ElQiwSkWdJBuQSKCZqMgABpJoVrXYYMeq7ffff2+qdUxWJGGg6wVJdFoZJP5btmzBgAED7jllkmc+Ard4Tfv7+6NZs2ZGN83H+7bY4zkaNhZ/YzYLUrqRWuN+seI3o1zR5SfKOuJQLo8vfnihAvxDI9Fm0naERcaidmE/jGlvX5s6vmf6OXMv82bK1rh4asf/97//mc8A94cORSAtI6AEWgm0Q+xfJdAOsQw6CSsQOH/+vIkjHz58uHncu3jxYkOsSCT5GHjz5s0YMWKEidVu2rSp+XPNmjWNTVeOHDmMD+7jWKUldPSGJh4MbmFVnhHtJNOsytsS6WzFcqToIRaXiWLFit0RDpKiF73HyS2x4rQPpJQm0Ck9AuO88EzF/Ejv6YYdZwIwcN6/iJKKs4c0Gm56o45dp2gP8kzy3bdvX8yfP980HupQBNI6AkqglUA7xB5WAu0Qy6CTsAIBNhm9/fbbCA4ONp6x06ZNM9Zvx48fN68+d+4cmjdvbmzOWK1btmyZ8ZjlKFy4MLZu3fpEdPiT6LH5kFIPJtTVrl3b2JLx97Rgf2eRKyTHos2K7ZTkQ+4VK54hUxa8v+IS9l8MxsD6BdH9HlZ2Sb7Qfy/gOrJynJy0STZe8skMK89Knm1dCX2doyGgBFoJtEPsSSXQDrEMOomHIEC5Br1iKc1gY5ISaOu2DOUIq1evNmR648aNqFixotFMP/3003bx+bVuFtYfZSGNDNSwtVHO+qvZfmTiWHE2HjImm3HZ9ggjsRd57tevH3755RcwqVCHIvC4IKAEWgm0Q+xlJdAOsQw6iYcgwMozGwQp1eDjfWqg27RpY+QaKuGwbvuwAXPTpk2GTK9atQpFihQxbh7UTttqiWbdla07ik8W+PQgORVX665k/6MotaDMgzIh6s9JpikvsiWMxIIDY7XpAW7L4JMHVp6VPNuCnr7G0RFQAq0E2iH2qBJoh1gGnUQSELBUoFmV7tChAxgHbGkiJOno37+/iSnm429LEyFJIzWgOuIRoByBj/eZgkipCyunrEzT1YPEL7W14ow4Z6w0m0DpeZ2Wx71ixYkpE/cehqs9yDNdS9hIu2DBAlBDrkMReNwQUAKtBNoh9rQSaIdYBp1EEhBISKBp60byzCY6yhNmzZoFDw8PU6WmDRzJRKZMmYwTB90cdNyNAOUIjFC22ONRJ00iTd00NeQPI33JxZRrd/ToUUOebanYJvf6Kfn6hLHi1HbTUpHVaVb8E+PKpypMCORNoK03EdzvvIFk5VnJc0qurJ77USKgBFoJ9KPcf7evrQTaIZZBJ6EIOAQCJNMXLly4bY9HLS4bM+noQR2tvck0QzZOnDiBChUqmBufx3kkjhUniWZlmqSalWdW4JNDnnft2mVsD1l5ZvCODkXgcUVACbQSaIfY20qgHWIZdBKKgEMiQILL0Bb6TZNYs/mQlWkS3uR6TVMzzKhnnssejXcOCeB9JpUwVpy6aVaq6RSTM2dOm5xS6Bs+cOBAI8mhtl2HIvA4I6AEWgm0Q+xvJdAOsQw6CUXA4RFglZROKJR6UGpQr149o5tm/DKbO5MyLl26ZAg5ZRtpwVovKe8tKcdatN8kvZRw8IaFeFiaEK2pyjNY6JVXXrEbee7Vq5cJKeIc2NSZeJD8Dxo0yOwFSk1oJ1mpUqWkvG09VhFIFgJKoJVAJ2sD2evFSqDthaSeRxF4chBgSuCKFStMZZqJiVWrVjVkun79+qCl24MGA3GuXLliKs9pMeTFXqtM8nz48GGDQ0LMEseKU+bBX/dy5LCQZ97UsIJtj7Fu3TrT8NitW7d7EmgS53HjxhkCTW91kmn+rkMRSC0ElEArgU6tvfbA6yiBdohl0EkoAmkWAab1bdiwwVSm6TnNwA7KPBo3bnxX9DSdP+gAQq3vk0yeGb1+5MiRu8hz4k2QOFacDZckt3Xq1AFlG6+++qq5ibF3gyylNbQ4vFcFmt7SvFHq3LmzmS618WzspfxEhyKQGggogVYCnRr77KHXUAL9UIj0AEVAEbASAZJjNrNRi0uPbpIqVqbZiMjwm4sXL2L69OnJ1k9bOR2HPMziOkLXGGskGpY3wRuVlStXYvLkyaZyTd30Z599ho4dO9pdBvMgAk1iPWzYMEPiOaiL5zyqVKnikHjrpB4/BJRAK4F2iF2tBNohlkEnoQg8dghQK0tnCZLpKVOmwM/PDy+++CJat25tiLW9HT3SAoAkz7QMTI7ryLZt2zBkyBC89tprRj6zfv16cz4GC7Vo0SJJpPx+mCmBTgu76cmdoxJoJdAOsfuVQDvEMugknhAEaGXGSl3u3LlNo1aPHj2wdu3a20mAbMgiGXpcGrVYkR48eDD4vocOHYo//vjD/KKGml7TrE6zge5JINM3btzA8ePHjV+5ra4j1BqTPP/+++8oUKCA+dQQY2qh+XdM7PTx8Un2p0klHMmGUE+QgggogVYCnYLby/pTK4G2His9UhFILgJjxowxZIeOCxYCzUfi7du3v+PUj0OjFklz3759TQPcqFGjbpNk3hzQwo5EmqSPDYXUS1M3zRjv5NrjJXeNUuL1Fr/r5JBnVptZdSZu+fPnT4lp3j7ngwj0kiVLMH78+NtNhNRhsyquQxFILQSUQCuBTq299sDrKIF2iGXQSTwBCNB9onv37hg+fDhIpB9EoB+HRi0S6MWLFxti/KAKM90oSMpIptlYxwY1BrdUr179sWg0JHlmYmZy/K43b958u4Kf0uSZzYFsCuS8s2fPjg8//NDorTleeukl83SEntOMgKeN3dSpU1X//AT8/HKkt6gEWgm0Q+xHJdAOsQw6iScAAVaZ+YidfspsqLMQaJIjNpOxGWv06NHmz09qoxYt3JYvX24cPegyUaNGDUOm6Tltq+zhUW4thqScOnXKyDZs9bvetGkT3njjDVN5zpcv36N8O3ptRcAhEFACrQTaITaiEmiHWAadxGOOAMkyZRnff/+9qe5ZCDQDRXLkyAHalVHuQC/f999//4kl0Am3Aaue9CRmEyJ/p7yDZLpRo0b39ER2tC1kSVq0B3lmGmTevHkd7S3qfBSBR4KAEmgl0I9k4yW+qBJoh1gGncRjjgArzzNnzjSJfeHh4UYD3bZtW8yaNev2O09IrB8HCYc9l5SNctTZkkz/888/RgPMKj1dJ+ju4WiD5PnMmTNGtmFr5Xnjxo148803TZS6kmdHW2Gdz6NEQAm0EuhHuf9uX1sJtEMsg07iCUIgcQWalm7UldJdgYl0lHFoo9b9NwTJ9IEDBwyZZlU/Q4YMhkzT0YOa3Uft6MGmyLNnzyaLPDOY5q233lLy/AT9XNC3aj0CSqCVQFu/W1LwSCXQKQiunloRuAcCCQl0w4YNQZ0sCTSrlRMnTjRJc9qoZd3WIU5s0KNmmpVa/r/FHq9gwYKpTqYvX74MNotyLfm0wZZBX2c+seD7yZMnjy2n0NcoAo81AkqglUA7xAZXAu0Qy6CTUAQUgWQiQPJMAks3D8ZbMy67adOmxgWkZMmSKW6PRz37hQsXkkWeqfV+5513lDwncy/oyx9vBJRAK4F2iB2uBNohlkEnoQgoAnZGgASaNnok03TCYLWfMg8G2bi4uNj1aiTPjCln5dnWc1vIM+fMoB0dioAicG8ElEArgXaIz4YSaIdYBp2EIqAIpCACoaGhxreYUo89e/agdu3axtGjTp06Njf5WaZL4kwCnVzyTH9wkudcuXKlIBJ6akUg7SOgBFoJtEPsYiXQDrEMOglFQBFIJQRoGbh69WpDpul0QeJLMk0fbi8vryTNgpINNg2WL1/e5sozo9zfffddJc9JQl4PfpIRUAKtBNoh9r8SaIdYBp2EIqAIPAIEmJbIoBLKPFauXGl8uCnzaNasmXH3eNBgsyDt6pJDntlQ+t5775lQHbqx6FAEFIGHI6AEWgn0w3dJKhyhBDoVQNZLKAKKgMMjQHu8vXv3mso05R6ZMmUylWm6emTNmvUORw+mJDo7O6NcuXI2V55ZBWdojj3JM+c9aNAg8MagT58+GDZs2B24T5s2zaQaWjTWjOTmcToUgbSEgBJoJdAOsV+VQDvEMugkFAFFwIEQoKPHsWPHbtvj0ZKOXtN09GD4DePX6fZBEm3LWLVqFUaMGGFkG/aqPJM0FytWzATN0P6uatWqmDNnDkqVKnV7iiTQO3bswPjx422Ztr5GEXAIBJRAK4F2iI2oBNohlkEnoQgoAg6KAMk0tc6UeZB48v87deqE1q1bo0SJEkn2mraQZ1aeGeNur0FST1L+999/m1OOGjXK/E5PactQAm0vtPU8jxIBJdBKoB/l/rt9bSXQDrEMOglFIM0gUKBAAfj4+BjpAiuzrGjevHnTkMrTp0+D/z5//nwTsU2ySUkBEwPTpUsHErhKlSqlmfeacKJfffWV0UuPGzfOSDxYgT537hwaNWpkpB4VK1Z8aEWaOuuPPvrIyDaYmmjPsWDBAjOvKVOmmNMyOn7r1q13VJuJPwk1JSmsVn/99dcaE27PRdBzpQoCSqCVQKfKRnvYRZRAPwwh/XdFQBFIiAAJMklzlixZbv/1m2++aTTD1NwyipwezJ999pkhziSc/J1kjmSav6e18fnnn2P79u2YPXv2HbZ3wcHB5r2xOs148bp16xoyXatWrbuSCFesWIGPP/44Rcgz8bSGQN+4ccMkXXp4eGDSpEmYN28eWBHXoQikJQSUQCuBdoj9qgTaIZZBJ6EIpBkE7kWgixcvDjpKUM9LT+T69evjyJEj6Nevn/lz586dzftLeFyaecP/kVPqn93c3O477YiICOPkwSbELVu2mMAWkmm+f8Zzjxw5MsXIMydljYQj4eSpmeZNT2BgYFpaCp2rIkDZlJPCcH8EFJxU2h1KoFMJaL2MIvCYIFCwYEEjz+B3GAly3759kTFjRgQEBJh3SNkG/53/z8Y7VqUZWMJBr2VWpkkuH+cRHR2NDRs23Hb0oPf0tm3bkC1bthR727wmZRkk8XTZYBMhK+alS5e+fU3e3FiaFlk151qQ7OtQBNISAkqgH7xaSqBTaTcrgU4loPUyisBjggAb6kjQ6IHcuHFjI9FgpdVCoPk2SaAp43hSCXTCpWall2ErqZEwSDnJ4MGDjY1dr169wHRDWuVZquHUPy9atMjIS1h9njBhgmmE1KEIpCUElEArgXaI/aoE2iGWQSehCKRJBOj6QE3tDz/88FhLONLk4uikFYHHFAEl0EqgHWJrK4F2iGXQSSgCaQKBkJAQMHCELhz8MyvQrHBSNpA5c+bbTYR05WDj3ZIlS4wLhKWJ8NVXXzVSBh2KgCKgCNiKgBJoJdC27h27vk4JtF3h1JMpAo81AidPnkSbNm3Me6TmtkuXLkYmQHeHjh074uzZs8ifP7+xsaNEgHpopt3RXo02dlOnTn3s9c+P9QbQN6cIOAACSqCVQDvANjQNP3EOMRGdhCKgCCgCioAioAgoAg9BQAm0EmiH+JAogXaIZdBJKAKKgCKgCCgCioAVCCiBVgJtxTZJ+UOUQKc8xnoFRUARUAQUAUVAEbAPAkqglUDbZycl8yxKoJMJoL5cEVAEFAFFQBFQBFINASXQSqBTbbM96EJKoB1iGXQSioAioAgoAoqAImAFAkqglUBbsU1S/hAl0CmPsV5BEVAEFAFFQBFQBOyDgBJoJdD22UnJPIsS6GQCqC9XBBQBRUARUAQUgVRDQAm0EuhU22wPupASaIdYBp2EIqAIKAKKgCKgCFiBgBJoJdBWbJOUP0QJdMpjrFdQBBQBx0OgQIECJlHRxcUFrq6u2LFjBxhNzljyrFmzmgl/+umnaNGihfnzqFGj8OOPP5rjv/32WzRt2tTx3pTOSBF4AhBQAq0E2iG2uRJoh1gGnYQioAikMgIk0CTNWbJkuX1lEuj06dPj9ddfv2M2Bw8eROfOnU0M+cWLF9GoUSMcPXrUkGkdioAikLoIKIFWAp26O+4+V1MC7RDLoJNQBBSBVEYgKQSa1WeOt99+2/zO6jPJds2aNVN51no5RUARUAKtBNohPgVKoB1iGXQSioAikMoIFCxYEH5+fpAvY/Tr1w99+/Y1pHjatGnw9fVFlSpV8NVXX5ljBg4ciBo1auDFF180s+zduzeaN2+O9u3bp/Ks9XKKgCKgBFoJtEN8CpRAO8Qy6CQUAUUglRG4cOECcufOjatXr6Jx48YYN24cihcvbiQdJNXvvfceLl26hJ9++kkJdCqvjV5OEXgQAkqglUA7xCdECbRDLINOQhFQBB4hAvfSPp8+fRrPPvss9u/fbxoIOVTC8QgXSS+tCPyHgBJoJdAO8WFQAu0Qy6CTUAQUgVREICQkBLGxscaFg39mBfr9999H+fLlkTNnTjOTr7/+Glu3bsXcuXNx4MABdOnS5XYT4dNPP41jx45pE2EqrpleShGwIKAEWgm0Q3walEA7xDLoJBQBRSAVETh58iTatGljrhgdHW3I8fDhw9G1a1fs2bPHSDjYZDhp0qTbhPqTTz4xcg5a3o0dO9ZooHUoAopA6iOgBFoJdOrvuntcUQm0QyyDTkIRUAQUAUVAEVAErEBACbQSaCu2ScofogQ65THWKygCioAioAgoAoqAfRBQAq0E2j47KZlnUQKdTAD15YqAIqAIKAKKgCKQaggogVYCnWqb7UEXUgLtEMugk1AEFAFFQBFQBBQBKxBQAq0E2optkvKHKIFOeYz1CoqAIqAIKAKKgCJgHwSUQCuBts9OSuZZlEAnE0B9uSKgCCgCioAioAikGgJKoJVAp9pme9CFlEA7xDLoJBQBRUARUAQUAUXACgSUQCuBtmKbpPwhSqBTHmO9giKgCCgCioAioAjYBwEl0Eqg7bOTknkWJdDJBFBfrggoAoqAIqAIKAKphoASaCXQqbbZHnQhJdAOsQw6CUVAEVAEFAFFQBGwAgEl0EqgrdgmKX+IEuiUx1ivoAgoAoqAIqAIKAL2QUAJtBJo++ykZJ5FCXQyAdSXKwKKgCKgCCgCikCqIaAEWgl0qm22B11ICbRDLINOQhFQBBQBRUARUASsQEAJtBJoK7aJHqIIKAKKgCKgCCgCioAioAhYh4CTdYfpUYqAIqAIKAKKgCKgCCgCioAiQASUQOs+UAQUAUVAEVAEFAFFQBFQBJKAgBLoJIClhyoCioAioAgoAoqAIqAIKAJKoHUPKAKKgCKgCCgCioAioAgoAklAQAl0EsDSQxUBRUARUAQUAUVAEVAEFAEl0LoHFAFFQBFQBBQBRUARUAQUgSQgoAQ6CWDpoYqAIqAIKAKKgCKgCCgCioASaN0DioAioAgoAoqAIqAIKAKKQBIQUAKdBLD0UEVAEVAEFAFFQBFQBBQBRUAJtO4BRUARUAQUAUVAEVAEFAFFIAkIKIFOAlh6qCKgCCgCioAioAgoAoqAIqAEWveAIqAIKAKKgCKgCCgCioAikAQElEAnASw9VBFQBBQBRUARUAQUAUVAEVACrXtAEVAEFAFFQBFQBBQBRUARSAICSqCTAJYeqggoAoqAIqAIKAKKgCKgCCiB1j2gCCgCioAioAgoAoqAIqAIJAEBJdBJAEsPVQQUAUVAEVAEFAFFQBFQBJRA6x5QBBQBRUARUAQUAUVAEVAEkoCAEugkgKWHKgKKgCKgCCgCioAioAgoAkqgdQ8oAoqAIqAIKAKKgCKgCCgCSUBACXQSwNJDFQFFQBFQBBQBRUARUAQUASXQugcUAUVAEVAEFAFFQBFQBBSBJCCgBDoJYOmhioAioAgoAoqAIqAIKAKKgBJo3QOKgCKgCCgCioAioAgoAopAEhBQAp0EsPRQRUARUAQUAUVAEVAEFAFFQAm07gFFQBFQBBQBRUARUAQUAUUgCQgogU4CWHqoIqAIKAKKgCKgCCgCioAioARa94AioAgoAoqAIqAIKAKKgCKQBASUQCcBLD1UEVAEFAFFQBFQBBQBRUARUAKte0ARUAQUAUVAEVAEFAFFQBFIAgJKoJMAlh6qCCgCioAioAgoAoqAIqAIKIHWPaAIKAKKgCKgCCgCioAioAgkAQEl0EkASw9VBBQBRUARUAQUAUVAEVAElEDrHlAEFAFFQBFQBBQBRUARUASSgIAS6CSApYcqAoqAIqAIKAKKgCKgCCgCSqB1DygCioAioAgoAoqAIqAIKAJJQEAJdBLA0kMVAUVAEVAEFAFFQBFQBBQBJdC6BxQBRUARUAQUAUVAEfi/duuQBgAAgGGYf9fTMF5+1ByMAIEhIKAHlikBAgQIECBAgAABAe0DBAgQIECAAAECBIaAgB5YpgQIECBAgAABAgQEtA8QIECAAAECBAgQGAICemCZEiBAgAABAgQIEBDQPkCAAAECBAgQIEBgCAjogWVKgAABAgQIECBAQED7AAECBAgQIECAAIEhIKAHlikBAgQIECBAgAABAe0DBAgQIECAAAECBIaAgB5YpgQIECBAgAABAgQEtA8QIECAAAECBAgQGAICemCZEiBAgAABAgQIEBDQPkCAAAECBAgQIEBgCAjogWVKgAABAgQIECBAQED7AAECBAgQIECAAIEhIKAHlikBAgQIECBAgAABAe0DBAgQIECAAAECBIaAgB5YpgQIECBAgAABAgQEtA8QIECAAAECBAgQGAICemCZEiBAgAABAgQIEBDQPkCAAAECBAgQIEBgCAjogWVKgAABAgQIECBAQED7AAECBAgQIECAAIEhIKAHlikBAgQIECBAgAABAe0DBAgQIECAAAECBIaAgB5YpgQIECBAgAABAgQEtA8QIECAAAECBAgQGAICemCZEiBAgAABAgQIEBDQPkCAAAECBAgQIEBgCAjogWVKgAABAgQIECBAQED7AAECBAgQIECAAIEhIKAHlikBAgQIECBAgAABAe0DBAgQIECAAAECBIaAgB5YpgQIECBAgAABAgQEtA8QIECAAAECBAgQGAICemCZEiBAgAABAgQIEBDQPkCAAAECBAgQIEBgCAjogWVKgAABAgQIECBAQED7AAECBAgQIECAAIEhIKAHlikBAgQIECBAgAABAe0DBAgQIECAAAECBIaAgB5YpgQIECBAgAABAgQEtA8QIECAAAECBAgQGAICemCZEiBAgAABAgQIEBDQPkCAAAECBAgQIEBgCAjogWVKgAABAgQIECBAQED7AAECBAgQIECAAIEhIKAHlikBAgQIECBAgAABAe0DBAgQIECAAAECBIaAgB5YpgQIECBAgAABAgQCn1lJynz94RoAAAAASUVORK5CYII=\" width=\"720\">"
      ],
      "text/plain": [
       "<IPython.core.display.HTML object>"
      ]
     },
     "metadata": {},
     "output_type": "display_data"
    }
   ],
   "source": [
    "#%matplotlib notebook\n",
    "table=load_pickle(\"scaletable\")\n",
    "table=table[\"table\"]\n",
    "from mpl_toolkits.mplot3d import Axes3D\n",
    "Xdata=np.array(table)[1:,0].astype(float)\n",
    "print(Xdata)\n",
    "Ydata=np.array(table)[1:,1].astype(float)\n",
    "print(Ydata)\n",
    "Zdata=np.array(table)[1:,2].astype(float)\n",
    "print(Zdata)\n",
    "Zdata2=np.array(table)[1:,3].astype(float)\n",
    "print(Zdata2)\n",
    "\n",
    "%matplotlib inline\n",
    "%matplotlib notebook\n",
    "fig = plt.figure(figsize=(12,12))\n",
    "ax = fig.add_subplot(111, projection='3d')\n",
    "surf = ax.scatter(Xdata, Ydata,Zdata,s=5)\n",
    "surf2 = ax.scatter(Xdata, Ydata,Zdata2,s=5)"
   ]
  },
  {
   "cell_type": "code",
   "execution_count": 185,
   "metadata": {
    "scrolled": false
   },
   "outputs": [
    {
     "data": {
      "application/javascript": [
       "/* Put everything inside the global mpl namespace */\n",
       "window.mpl = {};\n",
       "\n",
       "\n",
       "mpl.get_websocket_type = function() {\n",
       "    if (typeof(WebSocket) !== 'undefined') {\n",
       "        return WebSocket;\n",
       "    } else if (typeof(MozWebSocket) !== 'undefined') {\n",
       "        return MozWebSocket;\n",
       "    } else {\n",
       "        alert('Your browser does not have WebSocket support.' +\n",
       "              'Please try Chrome, Safari or Firefox ≥ 6. ' +\n",
       "              'Firefox 4 and 5 are also supported but you ' +\n",
       "              'have to enable WebSockets in about:config.');\n",
       "    };\n",
       "}\n",
       "\n",
       "mpl.figure = function(figure_id, websocket, ondownload, parent_element) {\n",
       "    this.id = figure_id;\n",
       "\n",
       "    this.ws = websocket;\n",
       "\n",
       "    this.supports_binary = (this.ws.binaryType != undefined);\n",
       "\n",
       "    if (!this.supports_binary) {\n",
       "        var warnings = document.getElementById(\"mpl-warnings\");\n",
       "        if (warnings) {\n",
       "            warnings.style.display = 'block';\n",
       "            warnings.textContent = (\n",
       "                \"This browser does not support binary websocket messages. \" +\n",
       "                    \"Performance may be slow.\");\n",
       "        }\n",
       "    }\n",
       "\n",
       "    this.imageObj = new Image();\n",
       "\n",
       "    this.context = undefined;\n",
       "    this.message = undefined;\n",
       "    this.canvas = undefined;\n",
       "    this.rubberband_canvas = undefined;\n",
       "    this.rubberband_context = undefined;\n",
       "    this.format_dropdown = undefined;\n",
       "\n",
       "    this.image_mode = 'full';\n",
       "\n",
       "    this.root = $('<div/>');\n",
       "    this._root_extra_style(this.root)\n",
       "    this.root.attr('style', 'display: inline-block');\n",
       "\n",
       "    $(parent_element).append(this.root);\n",
       "\n",
       "    this._init_header(this);\n",
       "    this._init_canvas(this);\n",
       "    this._init_toolbar(this);\n",
       "\n",
       "    var fig = this;\n",
       "\n",
       "    this.waiting = false;\n",
       "\n",
       "    this.ws.onopen =  function () {\n",
       "            fig.send_message(\"supports_binary\", {value: fig.supports_binary});\n",
       "            fig.send_message(\"send_image_mode\", {});\n",
       "            if (mpl.ratio != 1) {\n",
       "                fig.send_message(\"set_dpi_ratio\", {'dpi_ratio': mpl.ratio});\n",
       "            }\n",
       "            fig.send_message(\"refresh\", {});\n",
       "        }\n",
       "\n",
       "    this.imageObj.onload = function() {\n",
       "            if (fig.image_mode == 'full') {\n",
       "                // Full images could contain transparency (where diff images\n",
       "                // almost always do), so we need to clear the canvas so that\n",
       "                // there is no ghosting.\n",
       "                fig.context.clearRect(0, 0, fig.canvas.width, fig.canvas.height);\n",
       "            }\n",
       "            fig.context.drawImage(fig.imageObj, 0, 0);\n",
       "        };\n",
       "\n",
       "    this.imageObj.onunload = function() {\n",
       "        fig.ws.close();\n",
       "    }\n",
       "\n",
       "    this.ws.onmessage = this._make_on_message_function(this);\n",
       "\n",
       "    this.ondownload = ondownload;\n",
       "}\n",
       "\n",
       "mpl.figure.prototype._init_header = function() {\n",
       "    var titlebar = $(\n",
       "        '<div class=\"ui-dialog-titlebar ui-widget-header ui-corner-all ' +\n",
       "        'ui-helper-clearfix\"/>');\n",
       "    var titletext = $(\n",
       "        '<div class=\"ui-dialog-title\" style=\"width: 100%; ' +\n",
       "        'text-align: center; padding: 3px;\"/>');\n",
       "    titlebar.append(titletext)\n",
       "    this.root.append(titlebar);\n",
       "    this.header = titletext[0];\n",
       "}\n",
       "\n",
       "\n",
       "\n",
       "mpl.figure.prototype._canvas_extra_style = function(canvas_div) {\n",
       "\n",
       "}\n",
       "\n",
       "\n",
       "mpl.figure.prototype._root_extra_style = function(canvas_div) {\n",
       "\n",
       "}\n",
       "\n",
       "mpl.figure.prototype._init_canvas = function() {\n",
       "    var fig = this;\n",
       "\n",
       "    var canvas_div = $('<div/>');\n",
       "\n",
       "    canvas_div.attr('style', 'position: relative; clear: both; outline: 0');\n",
       "\n",
       "    function canvas_keyboard_event(event) {\n",
       "        return fig.key_event(event, event['data']);\n",
       "    }\n",
       "\n",
       "    canvas_div.keydown('key_press', canvas_keyboard_event);\n",
       "    canvas_div.keyup('key_release', canvas_keyboard_event);\n",
       "    this.canvas_div = canvas_div\n",
       "    this._canvas_extra_style(canvas_div)\n",
       "    this.root.append(canvas_div);\n",
       "\n",
       "    var canvas = $('<canvas/>');\n",
       "    canvas.addClass('mpl-canvas');\n",
       "    canvas.attr('style', \"left: 0; top: 0; z-index: 0; outline: 0\")\n",
       "\n",
       "    this.canvas = canvas[0];\n",
       "    this.context = canvas[0].getContext(\"2d\");\n",
       "\n",
       "    var backingStore = this.context.backingStorePixelRatio ||\n",
       "\tthis.context.webkitBackingStorePixelRatio ||\n",
       "\tthis.context.mozBackingStorePixelRatio ||\n",
       "\tthis.context.msBackingStorePixelRatio ||\n",
       "\tthis.context.oBackingStorePixelRatio ||\n",
       "\tthis.context.backingStorePixelRatio || 1;\n",
       "\n",
       "    mpl.ratio = (window.devicePixelRatio || 1) / backingStore;\n",
       "\n",
       "    var rubberband = $('<canvas/>');\n",
       "    rubberband.attr('style', \"position: absolute; left: 0; top: 0; z-index: 1;\")\n",
       "\n",
       "    var pass_mouse_events = true;\n",
       "\n",
       "    canvas_div.resizable({\n",
       "        start: function(event, ui) {\n",
       "            pass_mouse_events = false;\n",
       "        },\n",
       "        resize: function(event, ui) {\n",
       "            fig.request_resize(ui.size.width, ui.size.height);\n",
       "        },\n",
       "        stop: function(event, ui) {\n",
       "            pass_mouse_events = true;\n",
       "            fig.request_resize(ui.size.width, ui.size.height);\n",
       "        },\n",
       "    });\n",
       "\n",
       "    function mouse_event_fn(event) {\n",
       "        if (pass_mouse_events)\n",
       "            return fig.mouse_event(event, event['data']);\n",
       "    }\n",
       "\n",
       "    rubberband.mousedown('button_press', mouse_event_fn);\n",
       "    rubberband.mouseup('button_release', mouse_event_fn);\n",
       "    // Throttle sequential mouse events to 1 every 20ms.\n",
       "    rubberband.mousemove('motion_notify', mouse_event_fn);\n",
       "\n",
       "    rubberband.mouseenter('figure_enter', mouse_event_fn);\n",
       "    rubberband.mouseleave('figure_leave', mouse_event_fn);\n",
       "\n",
       "    canvas_div.on(\"wheel\", function (event) {\n",
       "        event = event.originalEvent;\n",
       "        event['data'] = 'scroll'\n",
       "        if (event.deltaY < 0) {\n",
       "            event.step = 1;\n",
       "        } else {\n",
       "            event.step = -1;\n",
       "        }\n",
       "        mouse_event_fn(event);\n",
       "    });\n",
       "\n",
       "    canvas_div.append(canvas);\n",
       "    canvas_div.append(rubberband);\n",
       "\n",
       "    this.rubberband = rubberband;\n",
       "    this.rubberband_canvas = rubberband[0];\n",
       "    this.rubberband_context = rubberband[0].getContext(\"2d\");\n",
       "    this.rubberband_context.strokeStyle = \"#000000\";\n",
       "\n",
       "    this._resize_canvas = function(width, height) {\n",
       "        // Keep the size of the canvas, canvas container, and rubber band\n",
       "        // canvas in synch.\n",
       "        canvas_div.css('width', width)\n",
       "        canvas_div.css('height', height)\n",
       "\n",
       "        canvas.attr('width', width * mpl.ratio);\n",
       "        canvas.attr('height', height * mpl.ratio);\n",
       "        canvas.attr('style', 'width: ' + width + 'px; height: ' + height + 'px;');\n",
       "\n",
       "        rubberband.attr('width', width);\n",
       "        rubberband.attr('height', height);\n",
       "    }\n",
       "\n",
       "    // Set the figure to an initial 600x600px, this will subsequently be updated\n",
       "    // upon first draw.\n",
       "    this._resize_canvas(600, 600);\n",
       "\n",
       "    // Disable right mouse context menu.\n",
       "    $(this.rubberband_canvas).bind(\"contextmenu\",function(e){\n",
       "        return false;\n",
       "    });\n",
       "\n",
       "    function set_focus () {\n",
       "        canvas.focus();\n",
       "        canvas_div.focus();\n",
       "    }\n",
       "\n",
       "    window.setTimeout(set_focus, 100);\n",
       "}\n",
       "\n",
       "mpl.figure.prototype._init_toolbar = function() {\n",
       "    var fig = this;\n",
       "\n",
       "    var nav_element = $('<div/>')\n",
       "    nav_element.attr('style', 'width: 100%');\n",
       "    this.root.append(nav_element);\n",
       "\n",
       "    // Define a callback function for later on.\n",
       "    function toolbar_event(event) {\n",
       "        return fig.toolbar_button_onclick(event['data']);\n",
       "    }\n",
       "    function toolbar_mouse_event(event) {\n",
       "        return fig.toolbar_button_onmouseover(event['data']);\n",
       "    }\n",
       "\n",
       "    for(var toolbar_ind in mpl.toolbar_items) {\n",
       "        var name = mpl.toolbar_items[toolbar_ind][0];\n",
       "        var tooltip = mpl.toolbar_items[toolbar_ind][1];\n",
       "        var image = mpl.toolbar_items[toolbar_ind][2];\n",
       "        var method_name = mpl.toolbar_items[toolbar_ind][3];\n",
       "\n",
       "        if (!name) {\n",
       "            // put a spacer in here.\n",
       "            continue;\n",
       "        }\n",
       "        var button = $('<button/>');\n",
       "        button.addClass('ui-button ui-widget ui-state-default ui-corner-all ' +\n",
       "                        'ui-button-icon-only');\n",
       "        button.attr('role', 'button');\n",
       "        button.attr('aria-disabled', 'false');\n",
       "        button.click(method_name, toolbar_event);\n",
       "        button.mouseover(tooltip, toolbar_mouse_event);\n",
       "\n",
       "        var icon_img = $('<span/>');\n",
       "        icon_img.addClass('ui-button-icon-primary ui-icon');\n",
       "        icon_img.addClass(image);\n",
       "        icon_img.addClass('ui-corner-all');\n",
       "\n",
       "        var tooltip_span = $('<span/>');\n",
       "        tooltip_span.addClass('ui-button-text');\n",
       "        tooltip_span.html(tooltip);\n",
       "\n",
       "        button.append(icon_img);\n",
       "        button.append(tooltip_span);\n",
       "\n",
       "        nav_element.append(button);\n",
       "    }\n",
       "\n",
       "    var fmt_picker_span = $('<span/>');\n",
       "\n",
       "    var fmt_picker = $('<select/>');\n",
       "    fmt_picker.addClass('mpl-toolbar-option ui-widget ui-widget-content');\n",
       "    fmt_picker_span.append(fmt_picker);\n",
       "    nav_element.append(fmt_picker_span);\n",
       "    this.format_dropdown = fmt_picker[0];\n",
       "\n",
       "    for (var ind in mpl.extensions) {\n",
       "        var fmt = mpl.extensions[ind];\n",
       "        var option = $(\n",
       "            '<option/>', {selected: fmt === mpl.default_extension}).html(fmt);\n",
       "        fmt_picker.append(option)\n",
       "    }\n",
       "\n",
       "    // Add hover states to the ui-buttons\n",
       "    $( \".ui-button\" ).hover(\n",
       "        function() { $(this).addClass(\"ui-state-hover\");},\n",
       "        function() { $(this).removeClass(\"ui-state-hover\");}\n",
       "    );\n",
       "\n",
       "    var status_bar = $('<span class=\"mpl-message\"/>');\n",
       "    nav_element.append(status_bar);\n",
       "    this.message = status_bar[0];\n",
       "}\n",
       "\n",
       "mpl.figure.prototype.request_resize = function(x_pixels, y_pixels) {\n",
       "    // Request matplotlib to resize the figure. Matplotlib will then trigger a resize in the client,\n",
       "    // which will in turn request a refresh of the image.\n",
       "    this.send_message('resize', {'width': x_pixels, 'height': y_pixels});\n",
       "}\n",
       "\n",
       "mpl.figure.prototype.send_message = function(type, properties) {\n",
       "    properties['type'] = type;\n",
       "    properties['figure_id'] = this.id;\n",
       "    this.ws.send(JSON.stringify(properties));\n",
       "}\n",
       "\n",
       "mpl.figure.prototype.send_draw_message = function() {\n",
       "    if (!this.waiting) {\n",
       "        this.waiting = true;\n",
       "        this.ws.send(JSON.stringify({type: \"draw\", figure_id: this.id}));\n",
       "    }\n",
       "}\n",
       "\n",
       "\n",
       "mpl.figure.prototype.handle_save = function(fig, msg) {\n",
       "    var format_dropdown = fig.format_dropdown;\n",
       "    var format = format_dropdown.options[format_dropdown.selectedIndex].value;\n",
       "    fig.ondownload(fig, format);\n",
       "}\n",
       "\n",
       "\n",
       "mpl.figure.prototype.handle_resize = function(fig, msg) {\n",
       "    var size = msg['size'];\n",
       "    if (size[0] != fig.canvas.width || size[1] != fig.canvas.height) {\n",
       "        fig._resize_canvas(size[0], size[1]);\n",
       "        fig.send_message(\"refresh\", {});\n",
       "    };\n",
       "}\n",
       "\n",
       "mpl.figure.prototype.handle_rubberband = function(fig, msg) {\n",
       "    var x0 = msg['x0'] / mpl.ratio;\n",
       "    var y0 = (fig.canvas.height - msg['y0']) / mpl.ratio;\n",
       "    var x1 = msg['x1'] / mpl.ratio;\n",
       "    var y1 = (fig.canvas.height - msg['y1']) / mpl.ratio;\n",
       "    x0 = Math.floor(x0) + 0.5;\n",
       "    y0 = Math.floor(y0) + 0.5;\n",
       "    x1 = Math.floor(x1) + 0.5;\n",
       "    y1 = Math.floor(y1) + 0.5;\n",
       "    var min_x = Math.min(x0, x1);\n",
       "    var min_y = Math.min(y0, y1);\n",
       "    var width = Math.abs(x1 - x0);\n",
       "    var height = Math.abs(y1 - y0);\n",
       "\n",
       "    fig.rubberband_context.clearRect(\n",
       "        0, 0, fig.canvas.width, fig.canvas.height);\n",
       "\n",
       "    fig.rubberband_context.strokeRect(min_x, min_y, width, height);\n",
       "}\n",
       "\n",
       "mpl.figure.prototype.handle_figure_label = function(fig, msg) {\n",
       "    // Updates the figure title.\n",
       "    fig.header.textContent = msg['label'];\n",
       "}\n",
       "\n",
       "mpl.figure.prototype.handle_cursor = function(fig, msg) {\n",
       "    var cursor = msg['cursor'];\n",
       "    switch(cursor)\n",
       "    {\n",
       "    case 0:\n",
       "        cursor = 'pointer';\n",
       "        break;\n",
       "    case 1:\n",
       "        cursor = 'default';\n",
       "        break;\n",
       "    case 2:\n",
       "        cursor = 'crosshair';\n",
       "        break;\n",
       "    case 3:\n",
       "        cursor = 'move';\n",
       "        break;\n",
       "    }\n",
       "    fig.rubberband_canvas.style.cursor = cursor;\n",
       "}\n",
       "\n",
       "mpl.figure.prototype.handle_message = function(fig, msg) {\n",
       "    fig.message.textContent = msg['message'];\n",
       "}\n",
       "\n",
       "mpl.figure.prototype.handle_draw = function(fig, msg) {\n",
       "    // Request the server to send over a new figure.\n",
       "    fig.send_draw_message();\n",
       "}\n",
       "\n",
       "mpl.figure.prototype.handle_image_mode = function(fig, msg) {\n",
       "    fig.image_mode = msg['mode'];\n",
       "}\n",
       "\n",
       "mpl.figure.prototype.updated_canvas_event = function() {\n",
       "    // Called whenever the canvas gets updated.\n",
       "    this.send_message(\"ack\", {});\n",
       "}\n",
       "\n",
       "// A function to construct a web socket function for onmessage handling.\n",
       "// Called in the figure constructor.\n",
       "mpl.figure.prototype._make_on_message_function = function(fig) {\n",
       "    return function socket_on_message(evt) {\n",
       "        if (evt.data instanceof Blob) {\n",
       "            /* FIXME: We get \"Resource interpreted as Image but\n",
       "             * transferred with MIME type text/plain:\" errors on\n",
       "             * Chrome.  But how to set the MIME type?  It doesn't seem\n",
       "             * to be part of the websocket stream */\n",
       "            evt.data.type = \"image/png\";\n",
       "\n",
       "            /* Free the memory for the previous frames */\n",
       "            if (fig.imageObj.src) {\n",
       "                (window.URL || window.webkitURL).revokeObjectURL(\n",
       "                    fig.imageObj.src);\n",
       "            }\n",
       "\n",
       "            fig.imageObj.src = (window.URL || window.webkitURL).createObjectURL(\n",
       "                evt.data);\n",
       "            fig.updated_canvas_event();\n",
       "            fig.waiting = false;\n",
       "            return;\n",
       "        }\n",
       "        else if (typeof evt.data === 'string' && evt.data.slice(0, 21) == \"data:image/png;base64\") {\n",
       "            fig.imageObj.src = evt.data;\n",
       "            fig.updated_canvas_event();\n",
       "            fig.waiting = false;\n",
       "            return;\n",
       "        }\n",
       "\n",
       "        var msg = JSON.parse(evt.data);\n",
       "        var msg_type = msg['type'];\n",
       "\n",
       "        // Call the  \"handle_{type}\" callback, which takes\n",
       "        // the figure and JSON message as its only arguments.\n",
       "        try {\n",
       "            var callback = fig[\"handle_\" + msg_type];\n",
       "        } catch (e) {\n",
       "            console.log(\"No handler for the '\" + msg_type + \"' message type: \", msg);\n",
       "            return;\n",
       "        }\n",
       "\n",
       "        if (callback) {\n",
       "            try {\n",
       "                // console.log(\"Handling '\" + msg_type + \"' message: \", msg);\n",
       "                callback(fig, msg);\n",
       "            } catch (e) {\n",
       "                console.log(\"Exception inside the 'handler_\" + msg_type + \"' callback:\", e, e.stack, msg);\n",
       "            }\n",
       "        }\n",
       "    };\n",
       "}\n",
       "\n",
       "// from http://stackoverflow.com/questions/1114465/getting-mouse-location-in-canvas\n",
       "mpl.findpos = function(e) {\n",
       "    //this section is from http://www.quirksmode.org/js/events_properties.html\n",
       "    var targ;\n",
       "    if (!e)\n",
       "        e = window.event;\n",
       "    if (e.target)\n",
       "        targ = e.target;\n",
       "    else if (e.srcElement)\n",
       "        targ = e.srcElement;\n",
       "    if (targ.nodeType == 3) // defeat Safari bug\n",
       "        targ = targ.parentNode;\n",
       "\n",
       "    // jQuery normalizes the pageX and pageY\n",
       "    // pageX,Y are the mouse positions relative to the document\n",
       "    // offset() returns the position of the element relative to the document\n",
       "    var x = e.pageX - $(targ).offset().left;\n",
       "    var y = e.pageY - $(targ).offset().top;\n",
       "\n",
       "    return {\"x\": x, \"y\": y};\n",
       "};\n",
       "\n",
       "/*\n",
       " * return a copy of an object with only non-object keys\n",
       " * we need this to avoid circular references\n",
       " * http://stackoverflow.com/a/24161582/3208463\n",
       " */\n",
       "function simpleKeys (original) {\n",
       "  return Object.keys(original).reduce(function (obj, key) {\n",
       "    if (typeof original[key] !== 'object')\n",
       "        obj[key] = original[key]\n",
       "    return obj;\n",
       "  }, {});\n",
       "}\n",
       "\n",
       "mpl.figure.prototype.mouse_event = function(event, name) {\n",
       "    var canvas_pos = mpl.findpos(event)\n",
       "\n",
       "    if (name === 'button_press')\n",
       "    {\n",
       "        this.canvas.focus();\n",
       "        this.canvas_div.focus();\n",
       "    }\n",
       "\n",
       "    var x = canvas_pos.x * mpl.ratio;\n",
       "    var y = canvas_pos.y * mpl.ratio;\n",
       "\n",
       "    this.send_message(name, {x: x, y: y, button: event.button,\n",
       "                             step: event.step,\n",
       "                             guiEvent: simpleKeys(event)});\n",
       "\n",
       "    /* This prevents the web browser from automatically changing to\n",
       "     * the text insertion cursor when the button is pressed.  We want\n",
       "     * to control all of the cursor setting manually through the\n",
       "     * 'cursor' event from matplotlib */\n",
       "    event.preventDefault();\n",
       "    return false;\n",
       "}\n",
       "\n",
       "mpl.figure.prototype._key_event_extra = function(event, name) {\n",
       "    // Handle any extra behaviour associated with a key event\n",
       "}\n",
       "\n",
       "mpl.figure.prototype.key_event = function(event, name) {\n",
       "\n",
       "    // Prevent repeat events\n",
       "    if (name == 'key_press')\n",
       "    {\n",
       "        if (event.which === this._key)\n",
       "            return;\n",
       "        else\n",
       "            this._key = event.which;\n",
       "    }\n",
       "    if (name == 'key_release')\n",
       "        this._key = null;\n",
       "\n",
       "    var value = '';\n",
       "    if (event.ctrlKey && event.which != 17)\n",
       "        value += \"ctrl+\";\n",
       "    if (event.altKey && event.which != 18)\n",
       "        value += \"alt+\";\n",
       "    if (event.shiftKey && event.which != 16)\n",
       "        value += \"shift+\";\n",
       "\n",
       "    value += 'k';\n",
       "    value += event.which.toString();\n",
       "\n",
       "    this._key_event_extra(event, name);\n",
       "\n",
       "    this.send_message(name, {key: value,\n",
       "                             guiEvent: simpleKeys(event)});\n",
       "    return false;\n",
       "}\n",
       "\n",
       "mpl.figure.prototype.toolbar_button_onclick = function(name) {\n",
       "    if (name == 'download') {\n",
       "        this.handle_save(this, null);\n",
       "    } else {\n",
       "        this.send_message(\"toolbar_button\", {name: name});\n",
       "    }\n",
       "};\n",
       "\n",
       "mpl.figure.prototype.toolbar_button_onmouseover = function(tooltip) {\n",
       "    this.message.textContent = tooltip;\n",
       "};\n",
       "mpl.toolbar_items = [[\"Home\", \"Reset original view\", \"fa fa-home icon-home\", \"home\"], [\"Back\", \"Back to  previous view\", \"fa fa-arrow-left icon-arrow-left\", \"back\"], [\"Forward\", \"Forward to next view\", \"fa fa-arrow-right icon-arrow-right\", \"forward\"], [\"\", \"\", \"\", \"\"], [\"Pan\", \"Pan axes with left mouse, zoom with right\", \"fa fa-arrows icon-move\", \"pan\"], [\"Zoom\", \"Zoom to rectangle\", \"fa fa-square-o icon-check-empty\", \"zoom\"], [\"\", \"\", \"\", \"\"], [\"Download\", \"Download plot\", \"fa fa-floppy-o icon-save\", \"download\"]];\n",
       "\n",
       "mpl.extensions = [\"eps\", \"jpeg\", \"pdf\", \"png\", \"ps\", \"raw\", \"svg\", \"tif\"];\n",
       "\n",
       "mpl.default_extension = \"png\";var comm_websocket_adapter = function(comm) {\n",
       "    // Create a \"websocket\"-like object which calls the given IPython comm\n",
       "    // object with the appropriate methods. Currently this is a non binary\n",
       "    // socket, so there is still some room for performance tuning.\n",
       "    var ws = {};\n",
       "\n",
       "    ws.close = function() {\n",
       "        comm.close()\n",
       "    };\n",
       "    ws.send = function(m) {\n",
       "        //console.log('sending', m);\n",
       "        comm.send(m);\n",
       "    };\n",
       "    // Register the callback with on_msg.\n",
       "    comm.on_msg(function(msg) {\n",
       "        //console.log('receiving', msg['content']['data'], msg);\n",
       "        // Pass the mpl event to the overriden (by mpl) onmessage function.\n",
       "        ws.onmessage(msg['content']['data'])\n",
       "    });\n",
       "    return ws;\n",
       "}\n",
       "\n",
       "mpl.mpl_figure_comm = function(comm, msg) {\n",
       "    // This is the function which gets called when the mpl process\n",
       "    // starts-up an IPython Comm through the \"matplotlib\" channel.\n",
       "\n",
       "    var id = msg.content.data.id;\n",
       "    // Get hold of the div created by the display call when the Comm\n",
       "    // socket was opened in Python.\n",
       "    var element = $(\"#\" + id);\n",
       "    var ws_proxy = comm_websocket_adapter(comm)\n",
       "\n",
       "    function ondownload(figure, format) {\n",
       "        window.open(figure.imageObj.src);\n",
       "    }\n",
       "\n",
       "    var fig = new mpl.figure(id, ws_proxy,\n",
       "                           ondownload,\n",
       "                           element.get(0));\n",
       "\n",
       "    // Call onopen now - mpl needs it, as it is assuming we've passed it a real\n",
       "    // web socket which is closed, not our websocket->open comm proxy.\n",
       "    ws_proxy.onopen();\n",
       "\n",
       "    fig.parent_element = element.get(0);\n",
       "    fig.cell_info = mpl.find_output_cell(\"<div id='\" + id + \"'></div>\");\n",
       "    if (!fig.cell_info) {\n",
       "        console.error(\"Failed to find cell for figure\", id, fig);\n",
       "        return;\n",
       "    }\n",
       "\n",
       "    var output_index = fig.cell_info[2]\n",
       "    var cell = fig.cell_info[0];\n",
       "\n",
       "};\n",
       "\n",
       "mpl.figure.prototype.handle_close = function(fig, msg) {\n",
       "    var width = fig.canvas.width/mpl.ratio\n",
       "    fig.root.unbind('remove')\n",
       "\n",
       "    // Update the output cell to use the data from the current canvas.\n",
       "    fig.push_to_output();\n",
       "    var dataURL = fig.canvas.toDataURL();\n",
       "    // Re-enable the keyboard manager in IPython - without this line, in FF,\n",
       "    // the notebook keyboard shortcuts fail.\n",
       "    IPython.keyboard_manager.enable()\n",
       "    $(fig.parent_element).html('<img src=\"' + dataURL + '\" width=\"' + width + '\">');\n",
       "    fig.close_ws(fig, msg);\n",
       "}\n",
       "\n",
       "mpl.figure.prototype.close_ws = function(fig, msg){\n",
       "    fig.send_message('closing', msg);\n",
       "    // fig.ws.close()\n",
       "}\n",
       "\n",
       "mpl.figure.prototype.push_to_output = function(remove_interactive) {\n",
       "    // Turn the data on the canvas into data in the output cell.\n",
       "    var width = this.canvas.width/mpl.ratio\n",
       "    var dataURL = this.canvas.toDataURL();\n",
       "    this.cell_info[1]['text/html'] = '<img src=\"' + dataURL + '\" width=\"' + width + '\">';\n",
       "}\n",
       "\n",
       "mpl.figure.prototype.updated_canvas_event = function() {\n",
       "    // Tell IPython that the notebook contents must change.\n",
       "    IPython.notebook.set_dirty(true);\n",
       "    this.send_message(\"ack\", {});\n",
       "    var fig = this;\n",
       "    // Wait a second, then push the new image to the DOM so\n",
       "    // that it is saved nicely (might be nice to debounce this).\n",
       "    setTimeout(function () { fig.push_to_output() }, 1000);\n",
       "}\n",
       "\n",
       "mpl.figure.prototype._init_toolbar = function() {\n",
       "    var fig = this;\n",
       "\n",
       "    var nav_element = $('<div/>')\n",
       "    nav_element.attr('style', 'width: 100%');\n",
       "    this.root.append(nav_element);\n",
       "\n",
       "    // Define a callback function for later on.\n",
       "    function toolbar_event(event) {\n",
       "        return fig.toolbar_button_onclick(event['data']);\n",
       "    }\n",
       "    function toolbar_mouse_event(event) {\n",
       "        return fig.toolbar_button_onmouseover(event['data']);\n",
       "    }\n",
       "\n",
       "    for(var toolbar_ind in mpl.toolbar_items){\n",
       "        var name = mpl.toolbar_items[toolbar_ind][0];\n",
       "        var tooltip = mpl.toolbar_items[toolbar_ind][1];\n",
       "        var image = mpl.toolbar_items[toolbar_ind][2];\n",
       "        var method_name = mpl.toolbar_items[toolbar_ind][3];\n",
       "\n",
       "        if (!name) { continue; };\n",
       "\n",
       "        var button = $('<button class=\"btn btn-default\" href=\"#\" title=\"' + name + '\"><i class=\"fa ' + image + ' fa-lg\"></i></button>');\n",
       "        button.click(method_name, toolbar_event);\n",
       "        button.mouseover(tooltip, toolbar_mouse_event);\n",
       "        nav_element.append(button);\n",
       "    }\n",
       "\n",
       "    // Add the status bar.\n",
       "    var status_bar = $('<span class=\"mpl-message\" style=\"text-align:right; float: right;\"/>');\n",
       "    nav_element.append(status_bar);\n",
       "    this.message = status_bar[0];\n",
       "\n",
       "    // Add the close button to the window.\n",
       "    var buttongrp = $('<div class=\"btn-group inline pull-right\"></div>');\n",
       "    var button = $('<button class=\"btn btn-mini btn-primary\" href=\"#\" title=\"Stop Interaction\"><i class=\"fa fa-power-off icon-remove icon-large\"></i></button>');\n",
       "    button.click(function (evt) { fig.handle_close(fig, {}); } );\n",
       "    button.mouseover('Stop Interaction', toolbar_mouse_event);\n",
       "    buttongrp.append(button);\n",
       "    var titlebar = this.root.find($('.ui-dialog-titlebar'));\n",
       "    titlebar.prepend(buttongrp);\n",
       "}\n",
       "\n",
       "mpl.figure.prototype._root_extra_style = function(el){\n",
       "    var fig = this\n",
       "    el.on(\"remove\", function(){\n",
       "\tfig.close_ws(fig, {});\n",
       "    });\n",
       "}\n",
       "\n",
       "mpl.figure.prototype._canvas_extra_style = function(el){\n",
       "    // this is important to make the div 'focusable\n",
       "    el.attr('tabindex', 0)\n",
       "    // reach out to IPython and tell the keyboard manager to turn it's self\n",
       "    // off when our div gets focus\n",
       "\n",
       "    // location in version 3\n",
       "    if (IPython.notebook.keyboard_manager) {\n",
       "        IPython.notebook.keyboard_manager.register_events(el);\n",
       "    }\n",
       "    else {\n",
       "        // location in version 2\n",
       "        IPython.keyboard_manager.register_events(el);\n",
       "    }\n",
       "\n",
       "}\n",
       "\n",
       "mpl.figure.prototype._key_event_extra = function(event, name) {\n",
       "    var manager = IPython.notebook.keyboard_manager;\n",
       "    if (!manager)\n",
       "        manager = IPython.keyboard_manager;\n",
       "\n",
       "    // Check for shift+enter\n",
       "    if (event.shiftKey && event.which == 13) {\n",
       "        this.canvas_div.blur();\n",
       "        event.shiftKey = false;\n",
       "        // Send a \"J\" for go to next cell\n",
       "        event.which = 74;\n",
       "        event.keyCode = 74;\n",
       "        manager.command_mode();\n",
       "        manager.handle_keydown(event);\n",
       "    }\n",
       "}\n",
       "\n",
       "mpl.figure.prototype.handle_save = function(fig, msg) {\n",
       "    fig.ondownload(fig, null);\n",
       "}\n",
       "\n",
       "\n",
       "mpl.find_output_cell = function(html_output) {\n",
       "    // Return the cell and output element which can be found *uniquely* in the notebook.\n",
       "    // Note - this is a bit hacky, but it is done because the \"notebook_saving.Notebook\"\n",
       "    // IPython event is triggered only after the cells have been serialised, which for\n",
       "    // our purposes (turning an active figure into a static one), is too late.\n",
       "    var cells = IPython.notebook.get_cells();\n",
       "    var ncells = cells.length;\n",
       "    for (var i=0; i<ncells; i++) {\n",
       "        var cell = cells[i];\n",
       "        if (cell.cell_type === 'code'){\n",
       "            for (var j=0; j<cell.output_area.outputs.length; j++) {\n",
       "                var data = cell.output_area.outputs[j];\n",
       "                if (data.data) {\n",
       "                    // IPython >= 3 moved mimebundle to data attribute of output\n",
       "                    data = data.data;\n",
       "                }\n",
       "                if (data['text/html'] == html_output) {\n",
       "                    return [cell, data, j];\n",
       "                }\n",
       "            }\n",
       "        }\n",
       "    }\n",
       "}\n",
       "\n",
       "// Register the function which deals with the matplotlib target/channel.\n",
       "// The kernel may be null if the page has been refreshed.\n",
       "if (IPython.notebook.kernel != null) {\n",
       "    IPython.notebook.kernel.comm_manager.register_target('matplotlib', mpl.mpl_figure_comm);\n",
       "}\n"
      ],
      "text/plain": [
       "<IPython.core.display.Javascript object>"
      ]
     },
     "metadata": {},
     "output_type": "display_data"
    },
    {
     "data": {
      "text/html": [
       "<img src=\"data:image/png;base64,iVBORw0KGgoAAAANSUhEUgAAAbAAAAEgCAYAAADVKCZpAAAK20lEQVR4Xu3VgQkAAAgCwdx/6eZ4uCaQM3DnCBAgQIBAUGDBzCITIECAAIEzYJ6AAAECBJICBixZm9AECBAgYMD8AAECBAgkBQxYsjahCRAgQMCA+QECBAgQSAoYsGRtQhMgQICAAfMDBAgQIJAUMGDJ2oQmQIAAAQPmBwgQIEAgKWDAkrUJTYAAAQIGzA8QIECAQFLAgCVrE5oAAQIEDJgfIECAAIGkgAFL1iY0AQIECBgwP0CAAAECSQEDlqxNaAIECBAwYH6AAAECBJICBixZm9AECBAgYMD8AAECBAgkBQxYsjahCRAgQMCA+QECBAgQSAoYsGRtQhMgQICAAfMDBAgQIJAUMGDJ2oQmQIAAAQPmBwgQIEAgKWDAkrUJTYAAAQIGzA8QIECAQFLAgCVrE5oAAQIEDJgfIECAAIGkgAFL1iY0AQIECBgwP0CAAAECSQEDlqxNaAIECBAwYH6AAAECBJICBixZm9AECBAgYMD8AAECBAgkBQxYsjahCRAgQMCA+QECBAgQSAoYsGRtQhMgQICAAfMDBAgQIJAUMGDJ2oQmQIAAAQPmBwgQIEAgKWDAkrUJTYAAAQIGzA8QIECAQFLAgCVrE5oAAQIEDJgfIECAAIGkgAFL1iY0AQIECBgwP0CAAAECSQEDlqxNaAIECBAwYH6AAAECBJICBixZm9AECBAgYMD8AAECBAgkBQxYsjahCRAgQMCA+QECBAgQSAoYsGRtQhMgQICAAfMDBAgQIJAUMGDJ2oQmQIAAAQPmBwgQIEAgKWDAkrUJTYAAAQIGzA8QIECAQFLAgCVrE5oAAQIEDJgfIECAAIGkgAFL1iY0AQIECBgwP0CAAAECSQEDlqxNaAIECBAwYH6AAAECBJICBixZm9AECBAgYMD8AAECBAgkBQxYsjahCRAgQMCA+QECBAgQSAoYsGRtQhMgQICAAfMDBAgQIJAUMGDJ2oQmQIAAAQPmBwgQIEAgKWDAkrUJTYAAAQIGzA8QIECAQFLAgCVrE5oAAQIEDJgfIECAAIGkgAFL1iY0AQIECBgwP0CAAAECSQEDlqxNaAIECBAwYH6AAAECBJICBixZm9AECBAgYMD8AAECBAgkBQxYsjahCRAgQMCA+QECBAgQSAoYsGRtQhMgQICAAfMDBAgQIJAUMGDJ2oQmQIAAAQPmBwgQIEAgKWDAkrUJTYAAAQIGzA8QIECAQFLAgCVrE5oAAQIEDJgfIECAAIGkgAFL1iY0AQIECBgwP0CAAAECSQEDlqxNaAIECBAwYH6AAAECBJICBixZm9AECBAgYMD8AAECBAgkBQxYsjahCRAgQMCA+QECBAgQSAoYsGRtQhMgQICAAfMDBAgQIJAUMGDJ2oQmQIAAAQPmBwgQIEAgKWDAkrUJTYAAAQIGzA8QIECAQFLAgCVrE5oAAQIEDJgfIECAAIGkgAFL1iY0AQIECBgwP0CAAAECSQEDlqxNaAIECBAwYH6AAAECBJICBixZm9AECBAgYMD8AAECBAgkBQxYsjahCRAgQMCA+QECBAgQSAoYsGRtQhMgQICAAfMDBAgQIJAUMGDJ2oQmQIAAAQPmBwgQIEAgKWDAkrUJTYAAAQIGzA8QIECAQFLAgCVrE5oAAQIEDJgfIECAAIGkgAFL1iY0AQIECBgwP0CAAAECSQEDlqxNaAIECBAwYH6AAAECBJICBixZm9AECBAgYMD8AAECBAgkBQxYsjahCRAgQMCA+QECBAgQSAoYsGRtQhMgQICAAfMDBAgQIJAUMGDJ2oQmQIAAAQPmBwgQIEAgKWDAkrUJTYAAAQIGzA8QIECAQFLAgCVrE5oAAQIEDJgfIECAAIGkgAFL1iY0AQIECBgwP0CAAAECSQEDlqxNaAIECBAwYH6AAAECBJICBixZm9AECBAgYMD8AAECBAgkBQxYsjahCRAgQMCA+QECBAgQSAoYsGRtQhMgQICAAfMDBAgQIJAUMGDJ2oQmQIAAAQPmBwgQIEAgKWDAkrUJTYAAAQIGzA8QIECAQFLAgCVrE5oAAQIEDJgfIECAAIGkgAFL1iY0AQIECBgwP0CAAAECSQEDlqxNaAIECBAwYH6AAAECBJICBixZm9AECBAgYMD8AAECBAgkBQxYsjahCRAgQMCA+QECBAgQSAoYsGRtQhMgQICAAfMDBAgQIJAUMGDJ2oQmQIAAAQPmBwgQIEAgKWDAkrUJTYAAAQIGzA8QIECAQFLAgCVrE5oAAQIEDJgfIECAAIGkgAFL1iY0AQIECBgwP0CAAAECSQEDlqxNaAIECBAwYH6AAAECBJICBixZm9AECBAgYMD8AAECBAgkBQxYsjahCRAgQMCA+QECBAgQSAoYsGRtQhMgQICAAfMDBAgQIJAUMGDJ2oQmQIAAAQPmBwgQIEAgKWDAkrUJTYAAAQIGzA8QIECAQFLAgCVrE5oAAQIEDJgfIECAAIGkgAFL1iY0AQIECBgwP0CAAAECSQEDlqxNaAIECBAwYH6AAAECBJICBixZm9AECBAgYMD8AAECBAgkBQxYsjahCRAgQMCA+QECBAgQSAoYsGRtQhMgQICAAfMDBAgQIJAUMGDJ2oQmQIAAAQPmBwgQIEAgKWDAkrUJTYAAAQIGzA8QIECAQFLAgCVrE5oAAQIEDJgfIECAAIGkgAFL1iY0AQIECBgwP0CAAAECSQEDlqxNaAIECBAwYH6AAAECBJICBixZm9AECBAgYMD8AAECBAgkBQxYsjahCRAgQMCA+QECBAgQSAoYsGRtQhMgQICAAfMDBAgQIJAUMGDJ2oQmQIAAAQPmBwgQIEAgKWDAkrUJTYAAAQIGzA8QIECAQFLAgCVrE5oAAQIEDJgfIECAAIGkgAFL1iY0AQIECBgwP0CAAAECSQEDlqxNaAIECBAwYH6AAAECBJICBixZm9AECBAgYMD8AAECBAgkBQxYsjahCRAgQMCA+QECBAgQSAoYsGRtQhMgQICAAfMDBAgQIJAUMGDJ2oQmQIAAAQPmBwgQIEAgKWDAkrUJTYAAAQIGzA8QIECAQFLAgCVrE5oAAQIEDJgfIECAAIGkgAFL1iY0AQIECBgwP0CAAAECSQEDlqxNaAIECBAwYH6AAAECBJICBixZm9AECBAgYMD8AAECBAgkBQxYsjahCRAgQMCA+QECBAgQSAoYsGRtQhMgQICAAfMDBAgQIJAUMGDJ2oQmQIAAAQPmBwgQIEAgKWDAkrUJTYAAAQIGzA8QIECAQFLAgCVrE5oAAQIEDJgfIECAAIGkgAFL1iY0AQIECBgwP0CAAAECSQEDlqxNaAIECBAwYH6AAAECBJICBixZm9AECBAgYMD8AAECBAgkBQxYsjahCRAgQMCA+QECBAgQSAoYsGRtQhMgQICAAfMDBAgQIJAUMGDJ2oQmQIAAAQPmBwgQIEAgKWDAkrUJTYAAAQIGzA8QIECAQFLAgCVrE5oAAQIEDJgfIECAAIGkgAFL1iY0AQIECBgwP0CAAAECSQEDlqxNaAIECBAwYH6AAAECBJICBixZm9AECBAgYMD8AAECBAgkBQxYsjahCRAgQMCA+QECBAgQSAoYsGRtQhMgQICAAfMDBAgQIJAUMGDJ2oQmQIAAAQPmBwgQIEAgKWDAkrUJTYAAAQIGzA8QIECAQFLAgCVrE5oAAQIEDJgfIECAAIGkgAFL1iY0AQIECDzIbwEhPy/9RgAAAABJRU5ErkJggg==\" width=\"432\">"
      ],
      "text/plain": [
       "<IPython.core.display.HTML object>"
      ]
     },
     "metadata": {},
     "output_type": "display_data"
    },
    {
     "data": {
      "application/javascript": [
       "/* Put everything inside the global mpl namespace */\n",
       "window.mpl = {};\n",
       "\n",
       "\n",
       "mpl.get_websocket_type = function() {\n",
       "    if (typeof(WebSocket) !== 'undefined') {\n",
       "        return WebSocket;\n",
       "    } else if (typeof(MozWebSocket) !== 'undefined') {\n",
       "        return MozWebSocket;\n",
       "    } else {\n",
       "        alert('Your browser does not have WebSocket support.' +\n",
       "              'Please try Chrome, Safari or Firefox ≥ 6. ' +\n",
       "              'Firefox 4 and 5 are also supported but you ' +\n",
       "              'have to enable WebSockets in about:config.');\n",
       "    };\n",
       "}\n",
       "\n",
       "mpl.figure = function(figure_id, websocket, ondownload, parent_element) {\n",
       "    this.id = figure_id;\n",
       "\n",
       "    this.ws = websocket;\n",
       "\n",
       "    this.supports_binary = (this.ws.binaryType != undefined);\n",
       "\n",
       "    if (!this.supports_binary) {\n",
       "        var warnings = document.getElementById(\"mpl-warnings\");\n",
       "        if (warnings) {\n",
       "            warnings.style.display = 'block';\n",
       "            warnings.textContent = (\n",
       "                \"This browser does not support binary websocket messages. \" +\n",
       "                    \"Performance may be slow.\");\n",
       "        }\n",
       "    }\n",
       "\n",
       "    this.imageObj = new Image();\n",
       "\n",
       "    this.context = undefined;\n",
       "    this.message = undefined;\n",
       "    this.canvas = undefined;\n",
       "    this.rubberband_canvas = undefined;\n",
       "    this.rubberband_context = undefined;\n",
       "    this.format_dropdown = undefined;\n",
       "\n",
       "    this.image_mode = 'full';\n",
       "\n",
       "    this.root = $('<div/>');\n",
       "    this._root_extra_style(this.root)\n",
       "    this.root.attr('style', 'display: inline-block');\n",
       "\n",
       "    $(parent_element).append(this.root);\n",
       "\n",
       "    this._init_header(this);\n",
       "    this._init_canvas(this);\n",
       "    this._init_toolbar(this);\n",
       "\n",
       "    var fig = this;\n",
       "\n",
       "    this.waiting = false;\n",
       "\n",
       "    this.ws.onopen =  function () {\n",
       "            fig.send_message(\"supports_binary\", {value: fig.supports_binary});\n",
       "            fig.send_message(\"send_image_mode\", {});\n",
       "            if (mpl.ratio != 1) {\n",
       "                fig.send_message(\"set_dpi_ratio\", {'dpi_ratio': mpl.ratio});\n",
       "            }\n",
       "            fig.send_message(\"refresh\", {});\n",
       "        }\n",
       "\n",
       "    this.imageObj.onload = function() {\n",
       "            if (fig.image_mode == 'full') {\n",
       "                // Full images could contain transparency (where diff images\n",
       "                // almost always do), so we need to clear the canvas so that\n",
       "                // there is no ghosting.\n",
       "                fig.context.clearRect(0, 0, fig.canvas.width, fig.canvas.height);\n",
       "            }\n",
       "            fig.context.drawImage(fig.imageObj, 0, 0);\n",
       "        };\n",
       "\n",
       "    this.imageObj.onunload = function() {\n",
       "        fig.ws.close();\n",
       "    }\n",
       "\n",
       "    this.ws.onmessage = this._make_on_message_function(this);\n",
       "\n",
       "    this.ondownload = ondownload;\n",
       "}\n",
       "\n",
       "mpl.figure.prototype._init_header = function() {\n",
       "    var titlebar = $(\n",
       "        '<div class=\"ui-dialog-titlebar ui-widget-header ui-corner-all ' +\n",
       "        'ui-helper-clearfix\"/>');\n",
       "    var titletext = $(\n",
       "        '<div class=\"ui-dialog-title\" style=\"width: 100%; ' +\n",
       "        'text-align: center; padding: 3px;\"/>');\n",
       "    titlebar.append(titletext)\n",
       "    this.root.append(titlebar);\n",
       "    this.header = titletext[0];\n",
       "}\n",
       "\n",
       "\n",
       "\n",
       "mpl.figure.prototype._canvas_extra_style = function(canvas_div) {\n",
       "\n",
       "}\n",
       "\n",
       "\n",
       "mpl.figure.prototype._root_extra_style = function(canvas_div) {\n",
       "\n",
       "}\n",
       "\n",
       "mpl.figure.prototype._init_canvas = function() {\n",
       "    var fig = this;\n",
       "\n",
       "    var canvas_div = $('<div/>');\n",
       "\n",
       "    canvas_div.attr('style', 'position: relative; clear: both; outline: 0');\n",
       "\n",
       "    function canvas_keyboard_event(event) {\n",
       "        return fig.key_event(event, event['data']);\n",
       "    }\n",
       "\n",
       "    canvas_div.keydown('key_press', canvas_keyboard_event);\n",
       "    canvas_div.keyup('key_release', canvas_keyboard_event);\n",
       "    this.canvas_div = canvas_div\n",
       "    this._canvas_extra_style(canvas_div)\n",
       "    this.root.append(canvas_div);\n",
       "\n",
       "    var canvas = $('<canvas/>');\n",
       "    canvas.addClass('mpl-canvas');\n",
       "    canvas.attr('style', \"left: 0; top: 0; z-index: 0; outline: 0\")\n",
       "\n",
       "    this.canvas = canvas[0];\n",
       "    this.context = canvas[0].getContext(\"2d\");\n",
       "\n",
       "    var backingStore = this.context.backingStorePixelRatio ||\n",
       "\tthis.context.webkitBackingStorePixelRatio ||\n",
       "\tthis.context.mozBackingStorePixelRatio ||\n",
       "\tthis.context.msBackingStorePixelRatio ||\n",
       "\tthis.context.oBackingStorePixelRatio ||\n",
       "\tthis.context.backingStorePixelRatio || 1;\n",
       "\n",
       "    mpl.ratio = (window.devicePixelRatio || 1) / backingStore;\n",
       "\n",
       "    var rubberband = $('<canvas/>');\n",
       "    rubberband.attr('style', \"position: absolute; left: 0; top: 0; z-index: 1;\")\n",
       "\n",
       "    var pass_mouse_events = true;\n",
       "\n",
       "    canvas_div.resizable({\n",
       "        start: function(event, ui) {\n",
       "            pass_mouse_events = false;\n",
       "        },\n",
       "        resize: function(event, ui) {\n",
       "            fig.request_resize(ui.size.width, ui.size.height);\n",
       "        },\n",
       "        stop: function(event, ui) {\n",
       "            pass_mouse_events = true;\n",
       "            fig.request_resize(ui.size.width, ui.size.height);\n",
       "        },\n",
       "    });\n",
       "\n",
       "    function mouse_event_fn(event) {\n",
       "        if (pass_mouse_events)\n",
       "            return fig.mouse_event(event, event['data']);\n",
       "    }\n",
       "\n",
       "    rubberband.mousedown('button_press', mouse_event_fn);\n",
       "    rubberband.mouseup('button_release', mouse_event_fn);\n",
       "    // Throttle sequential mouse events to 1 every 20ms.\n",
       "    rubberband.mousemove('motion_notify', mouse_event_fn);\n",
       "\n",
       "    rubberband.mouseenter('figure_enter', mouse_event_fn);\n",
       "    rubberband.mouseleave('figure_leave', mouse_event_fn);\n",
       "\n",
       "    canvas_div.on(\"wheel\", function (event) {\n",
       "        event = event.originalEvent;\n",
       "        event['data'] = 'scroll'\n",
       "        if (event.deltaY < 0) {\n",
       "            event.step = 1;\n",
       "        } else {\n",
       "            event.step = -1;\n",
       "        }\n",
       "        mouse_event_fn(event);\n",
       "    });\n",
       "\n",
       "    canvas_div.append(canvas);\n",
       "    canvas_div.append(rubberband);\n",
       "\n",
       "    this.rubberband = rubberband;\n",
       "    this.rubberband_canvas = rubberband[0];\n",
       "    this.rubberband_context = rubberband[0].getContext(\"2d\");\n",
       "    this.rubberband_context.strokeStyle = \"#000000\";\n",
       "\n",
       "    this._resize_canvas = function(width, height) {\n",
       "        // Keep the size of the canvas, canvas container, and rubber band\n",
       "        // canvas in synch.\n",
       "        canvas_div.css('width', width)\n",
       "        canvas_div.css('height', height)\n",
       "\n",
       "        canvas.attr('width', width * mpl.ratio);\n",
       "        canvas.attr('height', height * mpl.ratio);\n",
       "        canvas.attr('style', 'width: ' + width + 'px; height: ' + height + 'px;');\n",
       "\n",
       "        rubberband.attr('width', width);\n",
       "        rubberband.attr('height', height);\n",
       "    }\n",
       "\n",
       "    // Set the figure to an initial 600x600px, this will subsequently be updated\n",
       "    // upon first draw.\n",
       "    this._resize_canvas(600, 600);\n",
       "\n",
       "    // Disable right mouse context menu.\n",
       "    $(this.rubberband_canvas).bind(\"contextmenu\",function(e){\n",
       "        return false;\n",
       "    });\n",
       "\n",
       "    function set_focus () {\n",
       "        canvas.focus();\n",
       "        canvas_div.focus();\n",
       "    }\n",
       "\n",
       "    window.setTimeout(set_focus, 100);\n",
       "}\n",
       "\n",
       "mpl.figure.prototype._init_toolbar = function() {\n",
       "    var fig = this;\n",
       "\n",
       "    var nav_element = $('<div/>')\n",
       "    nav_element.attr('style', 'width: 100%');\n",
       "    this.root.append(nav_element);\n",
       "\n",
       "    // Define a callback function for later on.\n",
       "    function toolbar_event(event) {\n",
       "        return fig.toolbar_button_onclick(event['data']);\n",
       "    }\n",
       "    function toolbar_mouse_event(event) {\n",
       "        return fig.toolbar_button_onmouseover(event['data']);\n",
       "    }\n",
       "\n",
       "    for(var toolbar_ind in mpl.toolbar_items) {\n",
       "        var name = mpl.toolbar_items[toolbar_ind][0];\n",
       "        var tooltip = mpl.toolbar_items[toolbar_ind][1];\n",
       "        var image = mpl.toolbar_items[toolbar_ind][2];\n",
       "        var method_name = mpl.toolbar_items[toolbar_ind][3];\n",
       "\n",
       "        if (!name) {\n",
       "            // put a spacer in here.\n",
       "            continue;\n",
       "        }\n",
       "        var button = $('<button/>');\n",
       "        button.addClass('ui-button ui-widget ui-state-default ui-corner-all ' +\n",
       "                        'ui-button-icon-only');\n",
       "        button.attr('role', 'button');\n",
       "        button.attr('aria-disabled', 'false');\n",
       "        button.click(method_name, toolbar_event);\n",
       "        button.mouseover(tooltip, toolbar_mouse_event);\n",
       "\n",
       "        var icon_img = $('<span/>');\n",
       "        icon_img.addClass('ui-button-icon-primary ui-icon');\n",
       "        icon_img.addClass(image);\n",
       "        icon_img.addClass('ui-corner-all');\n",
       "\n",
       "        var tooltip_span = $('<span/>');\n",
       "        tooltip_span.addClass('ui-button-text');\n",
       "        tooltip_span.html(tooltip);\n",
       "\n",
       "        button.append(icon_img);\n",
       "        button.append(tooltip_span);\n",
       "\n",
       "        nav_element.append(button);\n",
       "    }\n",
       "\n",
       "    var fmt_picker_span = $('<span/>');\n",
       "\n",
       "    var fmt_picker = $('<select/>');\n",
       "    fmt_picker.addClass('mpl-toolbar-option ui-widget ui-widget-content');\n",
       "    fmt_picker_span.append(fmt_picker);\n",
       "    nav_element.append(fmt_picker_span);\n",
       "    this.format_dropdown = fmt_picker[0];\n",
       "\n",
       "    for (var ind in mpl.extensions) {\n",
       "        var fmt = mpl.extensions[ind];\n",
       "        var option = $(\n",
       "            '<option/>', {selected: fmt === mpl.default_extension}).html(fmt);\n",
       "        fmt_picker.append(option)\n",
       "    }\n",
       "\n",
       "    // Add hover states to the ui-buttons\n",
       "    $( \".ui-button\" ).hover(\n",
       "        function() { $(this).addClass(\"ui-state-hover\");},\n",
       "        function() { $(this).removeClass(\"ui-state-hover\");}\n",
       "    );\n",
       "\n",
       "    var status_bar = $('<span class=\"mpl-message\"/>');\n",
       "    nav_element.append(status_bar);\n",
       "    this.message = status_bar[0];\n",
       "}\n",
       "\n",
       "mpl.figure.prototype.request_resize = function(x_pixels, y_pixels) {\n",
       "    // Request matplotlib to resize the figure. Matplotlib will then trigger a resize in the client,\n",
       "    // which will in turn request a refresh of the image.\n",
       "    this.send_message('resize', {'width': x_pixels, 'height': y_pixels});\n",
       "}\n",
       "\n",
       "mpl.figure.prototype.send_message = function(type, properties) {\n",
       "    properties['type'] = type;\n",
       "    properties['figure_id'] = this.id;\n",
       "    this.ws.send(JSON.stringify(properties));\n",
       "}\n",
       "\n",
       "mpl.figure.prototype.send_draw_message = function() {\n",
       "    if (!this.waiting) {\n",
       "        this.waiting = true;\n",
       "        this.ws.send(JSON.stringify({type: \"draw\", figure_id: this.id}));\n",
       "    }\n",
       "}\n",
       "\n",
       "\n",
       "mpl.figure.prototype.handle_save = function(fig, msg) {\n",
       "    var format_dropdown = fig.format_dropdown;\n",
       "    var format = format_dropdown.options[format_dropdown.selectedIndex].value;\n",
       "    fig.ondownload(fig, format);\n",
       "}\n",
       "\n",
       "\n",
       "mpl.figure.prototype.handle_resize = function(fig, msg) {\n",
       "    var size = msg['size'];\n",
       "    if (size[0] != fig.canvas.width || size[1] != fig.canvas.height) {\n",
       "        fig._resize_canvas(size[0], size[1]);\n",
       "        fig.send_message(\"refresh\", {});\n",
       "    };\n",
       "}\n",
       "\n",
       "mpl.figure.prototype.handle_rubberband = function(fig, msg) {\n",
       "    var x0 = msg['x0'] / mpl.ratio;\n",
       "    var y0 = (fig.canvas.height - msg['y0']) / mpl.ratio;\n",
       "    var x1 = msg['x1'] / mpl.ratio;\n",
       "    var y1 = (fig.canvas.height - msg['y1']) / mpl.ratio;\n",
       "    x0 = Math.floor(x0) + 0.5;\n",
       "    y0 = Math.floor(y0) + 0.5;\n",
       "    x1 = Math.floor(x1) + 0.5;\n",
       "    y1 = Math.floor(y1) + 0.5;\n",
       "    var min_x = Math.min(x0, x1);\n",
       "    var min_y = Math.min(y0, y1);\n",
       "    var width = Math.abs(x1 - x0);\n",
       "    var height = Math.abs(y1 - y0);\n",
       "\n",
       "    fig.rubberband_context.clearRect(\n",
       "        0, 0, fig.canvas.width, fig.canvas.height);\n",
       "\n",
       "    fig.rubberband_context.strokeRect(min_x, min_y, width, height);\n",
       "}\n",
       "\n",
       "mpl.figure.prototype.handle_figure_label = function(fig, msg) {\n",
       "    // Updates the figure title.\n",
       "    fig.header.textContent = msg['label'];\n",
       "}\n",
       "\n",
       "mpl.figure.prototype.handle_cursor = function(fig, msg) {\n",
       "    var cursor = msg['cursor'];\n",
       "    switch(cursor)\n",
       "    {\n",
       "    case 0:\n",
       "        cursor = 'pointer';\n",
       "        break;\n",
       "    case 1:\n",
       "        cursor = 'default';\n",
       "        break;\n",
       "    case 2:\n",
       "        cursor = 'crosshair';\n",
       "        break;\n",
       "    case 3:\n",
       "        cursor = 'move';\n",
       "        break;\n",
       "    }\n",
       "    fig.rubberband_canvas.style.cursor = cursor;\n",
       "}\n",
       "\n",
       "mpl.figure.prototype.handle_message = function(fig, msg) {\n",
       "    fig.message.textContent = msg['message'];\n",
       "}\n",
       "\n",
       "mpl.figure.prototype.handle_draw = function(fig, msg) {\n",
       "    // Request the server to send over a new figure.\n",
       "    fig.send_draw_message();\n",
       "}\n",
       "\n",
       "mpl.figure.prototype.handle_image_mode = function(fig, msg) {\n",
       "    fig.image_mode = msg['mode'];\n",
       "}\n",
       "\n",
       "mpl.figure.prototype.updated_canvas_event = function() {\n",
       "    // Called whenever the canvas gets updated.\n",
       "    this.send_message(\"ack\", {});\n",
       "}\n",
       "\n",
       "// A function to construct a web socket function for onmessage handling.\n",
       "// Called in the figure constructor.\n",
       "mpl.figure.prototype._make_on_message_function = function(fig) {\n",
       "    return function socket_on_message(evt) {\n",
       "        if (evt.data instanceof Blob) {\n",
       "            /* FIXME: We get \"Resource interpreted as Image but\n",
       "             * transferred with MIME type text/plain:\" errors on\n",
       "             * Chrome.  But how to set the MIME type?  It doesn't seem\n",
       "             * to be part of the websocket stream */\n",
       "            evt.data.type = \"image/png\";\n",
       "\n",
       "            /* Free the memory for the previous frames */\n",
       "            if (fig.imageObj.src) {\n",
       "                (window.URL || window.webkitURL).revokeObjectURL(\n",
       "                    fig.imageObj.src);\n",
       "            }\n",
       "\n",
       "            fig.imageObj.src = (window.URL || window.webkitURL).createObjectURL(\n",
       "                evt.data);\n",
       "            fig.updated_canvas_event();\n",
       "            fig.waiting = false;\n",
       "            return;\n",
       "        }\n",
       "        else if (typeof evt.data === 'string' && evt.data.slice(0, 21) == \"data:image/png;base64\") {\n",
       "            fig.imageObj.src = evt.data;\n",
       "            fig.updated_canvas_event();\n",
       "            fig.waiting = false;\n",
       "            return;\n",
       "        }\n",
       "\n",
       "        var msg = JSON.parse(evt.data);\n",
       "        var msg_type = msg['type'];\n",
       "\n",
       "        // Call the  \"handle_{type}\" callback, which takes\n",
       "        // the figure and JSON message as its only arguments.\n",
       "        try {\n",
       "            var callback = fig[\"handle_\" + msg_type];\n",
       "        } catch (e) {\n",
       "            console.log(\"No handler for the '\" + msg_type + \"' message type: \", msg);\n",
       "            return;\n",
       "        }\n",
       "\n",
       "        if (callback) {\n",
       "            try {\n",
       "                // console.log(\"Handling '\" + msg_type + \"' message: \", msg);\n",
       "                callback(fig, msg);\n",
       "            } catch (e) {\n",
       "                console.log(\"Exception inside the 'handler_\" + msg_type + \"' callback:\", e, e.stack, msg);\n",
       "            }\n",
       "        }\n",
       "    };\n",
       "}\n",
       "\n",
       "// from http://stackoverflow.com/questions/1114465/getting-mouse-location-in-canvas\n",
       "mpl.findpos = function(e) {\n",
       "    //this section is from http://www.quirksmode.org/js/events_properties.html\n",
       "    var targ;\n",
       "    if (!e)\n",
       "        e = window.event;\n",
       "    if (e.target)\n",
       "        targ = e.target;\n",
       "    else if (e.srcElement)\n",
       "        targ = e.srcElement;\n",
       "    if (targ.nodeType == 3) // defeat Safari bug\n",
       "        targ = targ.parentNode;\n",
       "\n",
       "    // jQuery normalizes the pageX and pageY\n",
       "    // pageX,Y are the mouse positions relative to the document\n",
       "    // offset() returns the position of the element relative to the document\n",
       "    var x = e.pageX - $(targ).offset().left;\n",
       "    var y = e.pageY - $(targ).offset().top;\n",
       "\n",
       "    return {\"x\": x, \"y\": y};\n",
       "};\n",
       "\n",
       "/*\n",
       " * return a copy of an object with only non-object keys\n",
       " * we need this to avoid circular references\n",
       " * http://stackoverflow.com/a/24161582/3208463\n",
       " */\n",
       "function simpleKeys (original) {\n",
       "  return Object.keys(original).reduce(function (obj, key) {\n",
       "    if (typeof original[key] !== 'object')\n",
       "        obj[key] = original[key]\n",
       "    return obj;\n",
       "  }, {});\n",
       "}\n",
       "\n",
       "mpl.figure.prototype.mouse_event = function(event, name) {\n",
       "    var canvas_pos = mpl.findpos(event)\n",
       "\n",
       "    if (name === 'button_press')\n",
       "    {\n",
       "        this.canvas.focus();\n",
       "        this.canvas_div.focus();\n",
       "    }\n",
       "\n",
       "    var x = canvas_pos.x * mpl.ratio;\n",
       "    var y = canvas_pos.y * mpl.ratio;\n",
       "\n",
       "    this.send_message(name, {x: x, y: y, button: event.button,\n",
       "                             step: event.step,\n",
       "                             guiEvent: simpleKeys(event)});\n",
       "\n",
       "    /* This prevents the web browser from automatically changing to\n",
       "     * the text insertion cursor when the button is pressed.  We want\n",
       "     * to control all of the cursor setting manually through the\n",
       "     * 'cursor' event from matplotlib */\n",
       "    event.preventDefault();\n",
       "    return false;\n",
       "}\n",
       "\n",
       "mpl.figure.prototype._key_event_extra = function(event, name) {\n",
       "    // Handle any extra behaviour associated with a key event\n",
       "}\n",
       "\n",
       "mpl.figure.prototype.key_event = function(event, name) {\n",
       "\n",
       "    // Prevent repeat events\n",
       "    if (name == 'key_press')\n",
       "    {\n",
       "        if (event.which === this._key)\n",
       "            return;\n",
       "        else\n",
       "            this._key = event.which;\n",
       "    }\n",
       "    if (name == 'key_release')\n",
       "        this._key = null;\n",
       "\n",
       "    var value = '';\n",
       "    if (event.ctrlKey && event.which != 17)\n",
       "        value += \"ctrl+\";\n",
       "    if (event.altKey && event.which != 18)\n",
       "        value += \"alt+\";\n",
       "    if (event.shiftKey && event.which != 16)\n",
       "        value += \"shift+\";\n",
       "\n",
       "    value += 'k';\n",
       "    value += event.which.toString();\n",
       "\n",
       "    this._key_event_extra(event, name);\n",
       "\n",
       "    this.send_message(name, {key: value,\n",
       "                             guiEvent: simpleKeys(event)});\n",
       "    return false;\n",
       "}\n",
       "\n",
       "mpl.figure.prototype.toolbar_button_onclick = function(name) {\n",
       "    if (name == 'download') {\n",
       "        this.handle_save(this, null);\n",
       "    } else {\n",
       "        this.send_message(\"toolbar_button\", {name: name});\n",
       "    }\n",
       "};\n",
       "\n",
       "mpl.figure.prototype.toolbar_button_onmouseover = function(tooltip) {\n",
       "    this.message.textContent = tooltip;\n",
       "};\n",
       "mpl.toolbar_items = [[\"Home\", \"Reset original view\", \"fa fa-home icon-home\", \"home\"], [\"Back\", \"Back to  previous view\", \"fa fa-arrow-left icon-arrow-left\", \"back\"], [\"Forward\", \"Forward to next view\", \"fa fa-arrow-right icon-arrow-right\", \"forward\"], [\"\", \"\", \"\", \"\"], [\"Pan\", \"Pan axes with left mouse, zoom with right\", \"fa fa-arrows icon-move\", \"pan\"], [\"Zoom\", \"Zoom to rectangle\", \"fa fa-square-o icon-check-empty\", \"zoom\"], [\"\", \"\", \"\", \"\"], [\"Download\", \"Download plot\", \"fa fa-floppy-o icon-save\", \"download\"]];\n",
       "\n",
       "mpl.extensions = [\"eps\", \"jpeg\", \"pdf\", \"png\", \"ps\", \"raw\", \"svg\", \"tif\"];\n",
       "\n",
       "mpl.default_extension = \"png\";var comm_websocket_adapter = function(comm) {\n",
       "    // Create a \"websocket\"-like object which calls the given IPython comm\n",
       "    // object with the appropriate methods. Currently this is a non binary\n",
       "    // socket, so there is still some room for performance tuning.\n",
       "    var ws = {};\n",
       "\n",
       "    ws.close = function() {\n",
       "        comm.close()\n",
       "    };\n",
       "    ws.send = function(m) {\n",
       "        //console.log('sending', m);\n",
       "        comm.send(m);\n",
       "    };\n",
       "    // Register the callback with on_msg.\n",
       "    comm.on_msg(function(msg) {\n",
       "        //console.log('receiving', msg['content']['data'], msg);\n",
       "        // Pass the mpl event to the overriden (by mpl) onmessage function.\n",
       "        ws.onmessage(msg['content']['data'])\n",
       "    });\n",
       "    return ws;\n",
       "}\n",
       "\n",
       "mpl.mpl_figure_comm = function(comm, msg) {\n",
       "    // This is the function which gets called when the mpl process\n",
       "    // starts-up an IPython Comm through the \"matplotlib\" channel.\n",
       "\n",
       "    var id = msg.content.data.id;\n",
       "    // Get hold of the div created by the display call when the Comm\n",
       "    // socket was opened in Python.\n",
       "    var element = $(\"#\" + id);\n",
       "    var ws_proxy = comm_websocket_adapter(comm)\n",
       "\n",
       "    function ondownload(figure, format) {\n",
       "        window.open(figure.imageObj.src);\n",
       "    }\n",
       "\n",
       "    var fig = new mpl.figure(id, ws_proxy,\n",
       "                           ondownload,\n",
       "                           element.get(0));\n",
       "\n",
       "    // Call onopen now - mpl needs it, as it is assuming we've passed it a real\n",
       "    // web socket which is closed, not our websocket->open comm proxy.\n",
       "    ws_proxy.onopen();\n",
       "\n",
       "    fig.parent_element = element.get(0);\n",
       "    fig.cell_info = mpl.find_output_cell(\"<div id='\" + id + \"'></div>\");\n",
       "    if (!fig.cell_info) {\n",
       "        console.error(\"Failed to find cell for figure\", id, fig);\n",
       "        return;\n",
       "    }\n",
       "\n",
       "    var output_index = fig.cell_info[2]\n",
       "    var cell = fig.cell_info[0];\n",
       "\n",
       "};\n",
       "\n",
       "mpl.figure.prototype.handle_close = function(fig, msg) {\n",
       "    var width = fig.canvas.width/mpl.ratio\n",
       "    fig.root.unbind('remove')\n",
       "\n",
       "    // Update the output cell to use the data from the current canvas.\n",
       "    fig.push_to_output();\n",
       "    var dataURL = fig.canvas.toDataURL();\n",
       "    // Re-enable the keyboard manager in IPython - without this line, in FF,\n",
       "    // the notebook keyboard shortcuts fail.\n",
       "    IPython.keyboard_manager.enable()\n",
       "    $(fig.parent_element).html('<img src=\"' + dataURL + '\" width=\"' + width + '\">');\n",
       "    fig.close_ws(fig, msg);\n",
       "}\n",
       "\n",
       "mpl.figure.prototype.close_ws = function(fig, msg){\n",
       "    fig.send_message('closing', msg);\n",
       "    // fig.ws.close()\n",
       "}\n",
       "\n",
       "mpl.figure.prototype.push_to_output = function(remove_interactive) {\n",
       "    // Turn the data on the canvas into data in the output cell.\n",
       "    var width = this.canvas.width/mpl.ratio\n",
       "    var dataURL = this.canvas.toDataURL();\n",
       "    this.cell_info[1]['text/html'] = '<img src=\"' + dataURL + '\" width=\"' + width + '\">';\n",
       "}\n",
       "\n",
       "mpl.figure.prototype.updated_canvas_event = function() {\n",
       "    // Tell IPython that the notebook contents must change.\n",
       "    IPython.notebook.set_dirty(true);\n",
       "    this.send_message(\"ack\", {});\n",
       "    var fig = this;\n",
       "    // Wait a second, then push the new image to the DOM so\n",
       "    // that it is saved nicely (might be nice to debounce this).\n",
       "    setTimeout(function () { fig.push_to_output() }, 1000);\n",
       "}\n",
       "\n",
       "mpl.figure.prototype._init_toolbar = function() {\n",
       "    var fig = this;\n",
       "\n",
       "    var nav_element = $('<div/>')\n",
       "    nav_element.attr('style', 'width: 100%');\n",
       "    this.root.append(nav_element);\n",
       "\n",
       "    // Define a callback function for later on.\n",
       "    function toolbar_event(event) {\n",
       "        return fig.toolbar_button_onclick(event['data']);\n",
       "    }\n",
       "    function toolbar_mouse_event(event) {\n",
       "        return fig.toolbar_button_onmouseover(event['data']);\n",
       "    }\n",
       "\n",
       "    for(var toolbar_ind in mpl.toolbar_items){\n",
       "        var name = mpl.toolbar_items[toolbar_ind][0];\n",
       "        var tooltip = mpl.toolbar_items[toolbar_ind][1];\n",
       "        var image = mpl.toolbar_items[toolbar_ind][2];\n",
       "        var method_name = mpl.toolbar_items[toolbar_ind][3];\n",
       "\n",
       "        if (!name) { continue; };\n",
       "\n",
       "        var button = $('<button class=\"btn btn-default\" href=\"#\" title=\"' + name + '\"><i class=\"fa ' + image + ' fa-lg\"></i></button>');\n",
       "        button.click(method_name, toolbar_event);\n",
       "        button.mouseover(tooltip, toolbar_mouse_event);\n",
       "        nav_element.append(button);\n",
       "    }\n",
       "\n",
       "    // Add the status bar.\n",
       "    var status_bar = $('<span class=\"mpl-message\" style=\"text-align:right; float: right;\"/>');\n",
       "    nav_element.append(status_bar);\n",
       "    this.message = status_bar[0];\n",
       "\n",
       "    // Add the close button to the window.\n",
       "    var buttongrp = $('<div class=\"btn-group inline pull-right\"></div>');\n",
       "    var button = $('<button class=\"btn btn-mini btn-primary\" href=\"#\" title=\"Stop Interaction\"><i class=\"fa fa-power-off icon-remove icon-large\"></i></button>');\n",
       "    button.click(function (evt) { fig.handle_close(fig, {}); } );\n",
       "    button.mouseover('Stop Interaction', toolbar_mouse_event);\n",
       "    buttongrp.append(button);\n",
       "    var titlebar = this.root.find($('.ui-dialog-titlebar'));\n",
       "    titlebar.prepend(buttongrp);\n",
       "}\n",
       "\n",
       "mpl.figure.prototype._root_extra_style = function(el){\n",
       "    var fig = this\n",
       "    el.on(\"remove\", function(){\n",
       "\tfig.close_ws(fig, {});\n",
       "    });\n",
       "}\n",
       "\n",
       "mpl.figure.prototype._canvas_extra_style = function(el){\n",
       "    // this is important to make the div 'focusable\n",
       "    el.attr('tabindex', 0)\n",
       "    // reach out to IPython and tell the keyboard manager to turn it's self\n",
       "    // off when our div gets focus\n",
       "\n",
       "    // location in version 3\n",
       "    if (IPython.notebook.keyboard_manager) {\n",
       "        IPython.notebook.keyboard_manager.register_events(el);\n",
       "    }\n",
       "    else {\n",
       "        // location in version 2\n",
       "        IPython.keyboard_manager.register_events(el);\n",
       "    }\n",
       "\n",
       "}\n",
       "\n",
       "mpl.figure.prototype._key_event_extra = function(event, name) {\n",
       "    var manager = IPython.notebook.keyboard_manager;\n",
       "    if (!manager)\n",
       "        manager = IPython.keyboard_manager;\n",
       "\n",
       "    // Check for shift+enter\n",
       "    if (event.shiftKey && event.which == 13) {\n",
       "        this.canvas_div.blur();\n",
       "        event.shiftKey = false;\n",
       "        // Send a \"J\" for go to next cell\n",
       "        event.which = 74;\n",
       "        event.keyCode = 74;\n",
       "        manager.command_mode();\n",
       "        manager.handle_keydown(event);\n",
       "    }\n",
       "}\n",
       "\n",
       "mpl.figure.prototype.handle_save = function(fig, msg) {\n",
       "    fig.ondownload(fig, null);\n",
       "}\n",
       "\n",
       "\n",
       "mpl.find_output_cell = function(html_output) {\n",
       "    // Return the cell and output element which can be found *uniquely* in the notebook.\n",
       "    // Note - this is a bit hacky, but it is done because the \"notebook_saving.Notebook\"\n",
       "    // IPython event is triggered only after the cells have been serialised, which for\n",
       "    // our purposes (turning an active figure into a static one), is too late.\n",
       "    var cells = IPython.notebook.get_cells();\n",
       "    var ncells = cells.length;\n",
       "    for (var i=0; i<ncells; i++) {\n",
       "        var cell = cells[i];\n",
       "        if (cell.cell_type === 'code'){\n",
       "            for (var j=0; j<cell.output_area.outputs.length; j++) {\n",
       "                var data = cell.output_area.outputs[j];\n",
       "                if (data.data) {\n",
       "                    // IPython >= 3 moved mimebundle to data attribute of output\n",
       "                    data = data.data;\n",
       "                }\n",
       "                if (data['text/html'] == html_output) {\n",
       "                    return [cell, data, j];\n",
       "                }\n",
       "            }\n",
       "        }\n",
       "    }\n",
       "}\n",
       "\n",
       "// Register the function which deals with the matplotlib target/channel.\n",
       "// The kernel may be null if the page has been refreshed.\n",
       "if (IPython.notebook.kernel != null) {\n",
       "    IPython.notebook.kernel.comm_manager.register_target('matplotlib', mpl.mpl_figure_comm);\n",
       "}\n"
      ],
      "text/plain": [
       "<IPython.core.display.Javascript object>"
      ]
     },
     "metadata": {},
     "output_type": "display_data"
    },
    {
     "data": {
      "text/html": [
       "<img src=\"data:image/png;base64,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\" width=\"432\">"
      ],
      "text/plain": [
       "<IPython.core.display.HTML object>"
      ]
     },
     "metadata": {},
     "output_type": "display_data"
    }
   ],
   "source": [
    "from matplotlib.mlab import griddata\n",
    "xi = np.linspace(Xdata.min()-10, Xdata.max()+10, 1000)\n",
    "yi = np.linspace(Ydata.min()-1, Ydata.max()-1, 1000)\n",
    "zi = griddata(Xdata, Ydata, Zdata, xi, yi, interp='linear')\n",
    "%matplotlib notebook\n",
    "fig = plt.figure()\n",
    "\n",
    "ax = fig.add_subplot(111, projection='3d')\n",
    "surf = ax.plot_surface(xi, yi,zi)\n"
   ]
  },
  {
   "cell_type": "code",
   "execution_count": 12,
   "metadata": {},
   "outputs": [
    {
     "ename": "ModuleNotFoundError",
     "evalue": "No module named 'mayavi2'",
     "output_type": "error",
     "traceback": [
      "\u001b[0;31m---------------------------------------------------------------------------\u001b[0m",
      "\u001b[0;31mModuleNotFoundError\u001b[0m                       Traceback (most recent call last)",
      "\u001b[0;32m<ipython-input-12-e9e27e4dfb9b>\u001b[0m in \u001b[0;36m<module>\u001b[0;34m()\u001b[0m\n\u001b[1;32m      1\u001b[0m \u001b[0;32mimport\u001b[0m \u001b[0mnumpy\u001b[0m \u001b[0;32mas\u001b[0m \u001b[0mnp\u001b[0m\u001b[0;34m\u001b[0m\u001b[0m\n\u001b[0;32m----> 2\u001b[0;31m \u001b[0;32mfrom\u001b[0m \u001b[0mmayavi2\u001b[0m \u001b[0;32mimport\u001b[0m \u001b[0mmlab\u001b[0m\u001b[0;34m\u001b[0m\u001b[0m\n\u001b[0m\u001b[1;32m      3\u001b[0m \u001b[0;34m\u001b[0m\u001b[0m\n\u001b[1;32m      4\u001b[0m \u001b[0mX\u001b[0m \u001b[0;34m=\u001b[0m \u001b[0mnp\u001b[0m\u001b[0;34m.\u001b[0m\u001b[0marray\u001b[0m\u001b[0;34m(\u001b[0m\u001b[0;34m[\u001b[0m\u001b[0;36m0\u001b[0m\u001b[0;34m,\u001b[0m \u001b[0;36m1\u001b[0m\u001b[0;34m,\u001b[0m \u001b[0;36m0\u001b[0m\u001b[0;34m,\u001b[0m \u001b[0;36m1\u001b[0m\u001b[0;34m,\u001b[0m \u001b[0;36m0.75\u001b[0m\u001b[0;34m]\u001b[0m\u001b[0;34m)\u001b[0m\u001b[0;34m\u001b[0m\u001b[0m\n\u001b[1;32m      5\u001b[0m \u001b[0mY\u001b[0m \u001b[0;34m=\u001b[0m \u001b[0mnp\u001b[0m\u001b[0;34m.\u001b[0m\u001b[0marray\u001b[0m\u001b[0;34m(\u001b[0m\u001b[0;34m[\u001b[0m\u001b[0;36m0\u001b[0m\u001b[0;34m,\u001b[0m \u001b[0;36m0\u001b[0m\u001b[0;34m,\u001b[0m \u001b[0;36m1\u001b[0m\u001b[0;34m,\u001b[0m \u001b[0;36m1\u001b[0m\u001b[0;34m,\u001b[0m \u001b[0;36m0.75\u001b[0m\u001b[0;34m]\u001b[0m\u001b[0;34m)\u001b[0m\u001b[0;34m\u001b[0m\u001b[0m\n",
      "\u001b[0;31mModuleNotFoundError\u001b[0m: No module named 'mayavi2'"
     ]
    }
   ],
   "source": [
    "import numpy as np\n",
    "from mayavi import mlab\n",
    "\n",
    "X = np.array([0, 1, 0, 1, 0.75])\n",
    "Y = np.array([0, 0, 1, 1, 0.75])\n",
    "Z = np.array([1, 1, 1, 1, 2])\n",
    "\n",
    "# Define the points in 3D space\n",
    "# including color code based on Z coordinate.\n",
    "pts = mlab.points3d(X, Y, Z, Z)\n",
    "\n",
    "# Triangulate based on X, Y with Delaunay 2D algorithm.\n",
    "# Save resulting triangulation.\n",
    "mesh = mlab.pipeline.delaunay2d(pts)\n",
    "\n",
    "# Remove the point representation from the plot\n",
    "pts.remove()\n",
    "\n",
    "# Draw a surface based on the triangulation\n",
    "surf = mlab.pipeline.surface(mesh)\n",
    "\n",
    "# Simple plot.\n",
    "mlab.xlabel(\"x\")\n",
    "mlab.ylabel(\"y\")\n",
    "mlab.zlabel(\"z\")\n",
    "mlab.show()"
   ]
  },
  {
   "cell_type": "code",
   "execution_count": 156,
   "metadata": {},
   "outputs": [],
   "source": [
    "def add_text(img, strings):\n",
    "    for i, string in enumerate(strings):\n",
    "        cv2.putText(img, string,(50,50+i*50),cv2.FONT_HERSHEY_COMPLEX,0.5,(255,255,255),2)\n",
    "    return img\n",
    "\n",
    "def process_image(input_image,dist_pickle,heatmap,car_tracker,cnt):\n",
    "    t1 = time.time()\n",
    "    svc = dist_pickle[\"svc\"]\n",
    "    X_scaler = dist_pickle[\"X_scaler\"]\n",
    "    orient = dist_pickle[\"orient\"]\n",
    "    pix_per_cell = dist_pickle[\"pix_per_cell\"]\n",
    "    cell_per_block = dist_pickle[\"cell_per_block\"]\n",
    "    spatial_size = dist_pickle[\"spatial_size\"]\n",
    "    hist_bins = dist_pickle[\"hist_bins\"]\n",
    "    hog_channel = dist_pickle[\"hog_channel\"]\n",
    "    color_space = dist_pickle[\"color_space\"]\n",
    "    #find hot windows:\n",
    "    y_start_stop = [350,450]\n",
    "    hot_windows = []\n",
    "    t2 = time.time()\n",
    "    for i,scale in enumerate([0.8,1,1.2,1.3,1.4,1.5,1.6]):\n",
    "        hw=find_cars(input_image, y_start_stop[0], y_start_stop[1], scale, svc, X_scaler, orient, \n",
    "              pix_per_cell, cell_per_block, spatial_size, hist_bins,color_space,hog_channel)\n",
    "        if hw:\n",
    "            #cnt[i]+= len(hw)\n",
    "            #print(cnt)\n",
    "            hot_windows.append(hw)\n",
    "    t3 = time.time()\n",
    "    if hot_windows:\n",
    "        hot_windows=np.concatenate(hot_windows)\n",
    "    heatmap = add_heat(heatmap, hot_windows,2)\n",
    "    deno=sum(sum(heatmap))/(heatmap.shape[0]*heatmap.shape[1])\n",
    "    #print(deno)\n",
    "    if deno>0:\n",
    "        heatmap = decrease_threshold(heatmap,3/deno) #This will decay the heatmap\n",
    "    heatmap_img = apply_threshold(np.copy(heatmap),50)\n",
    "    #output_img = draw_boxes(input_image, hot_windows, color=(0, 0, 255), thick=6) \n",
    "    x_offset=800\n",
    "    y_offset=100\n",
    "    #heatmap = np.zeros_like(image[:,:,0])\n",
    "    labels = label(heatmap_img)\n",
    "    \n",
    "    t4 = time.time()\n",
    "    result_image, all_bbox = draw_labeled_bboxes(np.copy(input_image), labels)\n",
    "    \n",
    "    car_tracker.reduce_car_p()\n",
    "    for bbox in all_bbox:\n",
    "        car_tracker.update_cars(bbox)\n",
    "    t5 = time.time()\n",
    "    car_boxes = car_tracker.get_car_boxes()\n",
    "    #result_image=draw_boxes(result_image, car_boxes, color=(255, 255, 255), thick=6)\n",
    "    for box in car_boxes:\n",
    "        cv2.circle(result_image, (int(box[0][0]),int(box[0][1])), int(box[1]), color=(255, 255, 255))\n",
    "    t6 = time.time()\n",
    "    tmp = cv2.cvtColor(heatmap, cv2.COLOR_GRAY2RGB)\n",
    "    binary_image = cv2.resize(tmp, (400,200))\n",
    "    result_image[y_offset:y_offset+200, x_offset:x_offset+400] = binary_image\n",
    "    t7 = time.time()\n",
    "    #add text:\n",
    "    result_image=add_text(result_image, car_tracker.get_text())\n",
    "    print(f\"t7 {t7-t6} t6 {t6-t5} t5 {t5-t4} t4 {t4-t3} t3 {t3-t2} t2 {t2-t1}\")\n",
    "    return result_image"
   ]
  },
  {
   "cell_type": "code",
   "execution_count": 159,
   "metadata": {},
   "outputs": [],
   "source": [
    "class carTracker:\n",
    "    def __init__(self):\n",
    "        #print(\"intit track\")\n",
    "        self.tot_item_found=0\n",
    "        self.current_car_count=0\n",
    "        self.cars={}\n",
    "    \n",
    "    class car:\n",
    "        def __init__(self,new_id,bbox):\n",
    "            #print(\"initcar\")\n",
    "            \n",
    "            # size is the avrage distance to borders\n",
    "            \n",
    "            self.id=new_id\n",
    "            self.pos=((bbox[1][0]+bbox[0][0])/2,(bbox[1][1]+bbox[0][1])/2)\n",
    "            self.size=((bbox[1][0]-bbox[0][0]+bbox[1][1]-bbox[0][1])/2)\n",
    "            self.carbox=bbox\n",
    "            self.probability=0.2 #probability it really is a car\n",
    "            self.rel_speed=(0,0)\n",
    "            self.alive_frame_counter=0\n",
    "            self.car_taken=True\n",
    "            \n",
    "        def update(self,bbox):\n",
    "            \n",
    "            newpos=((bbox[1][0]+bbox[0][0])/2,(bbox[1][1]+bbox[0][1])/2)\n",
    "            dist=(newpos[0]-self.pos[0],newpos[1]-self.pos[1])\n",
    "            phi=0.8\n",
    "            self.rel_speed=(self.rel_speed[0]*phi+dist[0]*(1-phi),\n",
    "                            self.rel_speed[1]*phi+dist[1]*(1-phi))#avg.pixels per frame \n",
    "            #todo add size!\n",
    "            self.pos=((bbox[1][0]+bbox[0][0])/2,(bbox[1][1]+bbox[0][1])/2)\n",
    "            self.alive_frame_counter+=1\n",
    "            self.probability+=0.2\n",
    "            #print(f\"hi, my name is {self.id}. speed: {self.rel_speed} , pos {self.pos}\"+\n",
    "            #      f\"Iam {self. alive_frame_counter} frames old, and my probs is {self.probability}\")\n",
    "            if self.probability >= 1:\n",
    "                self.probability=1\n",
    "        \n",
    "        def who_are_you_mr_car(self):\n",
    "            return (f\"hi, my name is {self.id}. speed: {self.rel_speed} , pos {self.pos}\"+\n",
    "                  f\"Iam {self. alive_frame_counter} frames old, and my probs is {self.probability}\")\n",
    "        \n",
    "        def update_pos(self):\n",
    "            self.pos=(self.pos[0]+self.rel_speed[0],self.pos[1]+self.rel_speed[1])\n",
    "            #self.carbox[0][0]+=self.rel_speed[0]\n",
    "            #self.carbox[1][0]+=self.rel_speed[0]\n",
    "            #self.carbox[0][1]+=self.rel_speed[1]\n",
    "            #self.carbox[1][1]+=self.rel_speed[1]\n",
    "            \n",
    "    def add_car(self,bbox):\n",
    "        # pos is in (x,y)\n",
    "        \n",
    "        #print(bbox)\n",
    "        self.tot_item_found +=1\n",
    "        new_id= self.tot_item_found\n",
    "        #print(f\"new car {new_id}\")\n",
    "        self.cars[new_id]=self.car(new_id, bbox)\n",
    "        \n",
    "    def reduce_car_p(self):\n",
    "        #This will do more than just reduce p\n",
    "        delete_items=[]\n",
    "        for carid, data in self.cars.items():\n",
    "            data.probability-=0.1\n",
    "            if data.probability <= 0:\n",
    "                delete_items.append(carid)\n",
    "            data.update_pos()\n",
    "            data.car_taken=False\n",
    "        for carid in delete_items:\n",
    "            #print(f\"delete {self.cars[carid].id}\")\n",
    "            del self.cars[carid]\n",
    "            \n",
    "    def update_cars(self,bbox):\n",
    "        #print(\"get car\")\n",
    "        '''Returns all car candidates in the box with a distance'''\n",
    "        #found_cars=[]\n",
    "        best_car=None\n",
    "        best_car_dist=10000000\n",
    "        bboxpos=((bbox[1][0]+bbox[0][0])/2,(bbox[1][1]+bbox[0][1])/2)\n",
    "        #size=((bbox[1][0]-bbox[0][0]+bbox[1][1]-bbox[0][1])/2)\n",
    "        for carid, data in self.cars.items():\n",
    "            dist=abs(bboxpos[0]-data.pos[0])+abs(bboxpos[1]-data.pos[1])\n",
    "            #Todo, make size smaller and move in direction of movement.\n",
    "            if not data.car_taken and dist < data.size/2 and dist < best_car_dist:\n",
    "                #print(\"insidebox\")\n",
    "                best_car=(carid,bbox)\n",
    "                #found_cars.append(carid,dist)\n",
    "            #if bbox[1][0] > data.pos[0] > bbox[0][0] and bbox[1][1] > data.pos[1] > bbox[0][1]:\n",
    "            #    \n",
    "        if best_car:\n",
    "            self.cars[best_car[0]].update(best_car[1])\n",
    "        else:\n",
    "            self.add_car(bbox)\n",
    "        return best_car\n",
    "    \n",
    "    def get_text(self):\n",
    "        output=[]\n",
    "        for _, data in self.cars.items():\n",
    "            output.append(data.who_are_you_mr_car())\n",
    "        return output\n",
    "    \n",
    "    def get_car_boxes(self):\n",
    "        boxes=[]\n",
    "        for _, data in self.cars.items():\n",
    "            if data.probability > 0.8:\n",
    "                boxes.append((data.pos,data.size))#data.carbox)\n",
    "        return boxes\n",
    "        "
   ]
  },
  {
   "cell_type": "code",
   "execution_count": 160,
   "metadata": {},
   "outputs": [
    {
     "name": "stdout",
     "output_type": "stream",
     "text": [
      "intit track\n"
     ]
    },
    {
     "name": "stderr",
     "output_type": "stream",
     "text": [
      "WARNING:py.warnings:/usr/local/lib/python3.6/dist-packages/skimage/feature/_hog.py:119: skimage_deprecation: Default value of `block_norm`==`L1` is deprecated and will be changed to `L2-Hys` in v0.15\n",
      "  'be changed to `L2-Hys` in v0.15', skimage_deprecation)\n",
      "\n"
     ]
    },
    {
     "name": "stdout",
     "output_type": "stream",
     "text": [
      "get car\n",
      "((870, 398), (997, 502))\n",
      "new car 1\n",
      "initcar\n",
      "get car\n",
      "((358, 426), (379, 444))\n",
      "new car 2\n",
      "initcar\n",
      "[MoviePy] >>>> Building video test_videos_output/project_video_short.mp4\n",
      "[MoviePy] Writing video test_videos_output/project_video_short.mp4\n"
     ]
    },
    {
     "name": "stderr",
     "output_type": "stream",
     "text": [
      "\n",
      "  0%|          | 0/376 [00:00<?, ?it/s]\u001b[AWARNING:py.warnings:/usr/local/lib/python3.6/dist-packages/skimage/feature/_hog.py:119: skimage_deprecation: Default value of `block_norm`==`L1` is deprecated and will be changed to `L2-Hys` in v0.15\n",
      "  'be changed to `L2-Hys` in v0.15', skimage_deprecation)\n",
      "\n",
      "\n",
      "  0%|          | 1/376 [00:02<17:40,  2.83s/it]"
     ]
    },
    {
     "name": "stdout",
     "output_type": "stream",
     "text": [
      "get car\n",
      "insidebox\n",
      "hi, my name is 1. speed: (0.0, 0.0) , pos (933.5, 450.0)Iam 1 frames old, and my probs is 0.30000000000000004\n",
      "get car\n",
      "insidebox\n",
      "hi, my name is 2. speed: (0.0, 0.0) , pos (368.5, 435.0)Iam 1 frames old, and my probs is 0.30000000000000004\n"
     ]
    },
    {
     "name": "stderr",
     "output_type": "stream",
     "text": [
      "\u001b[A\n",
      "  1%|          | 2/376 [00:05<17:49,  2.86s/it]"
     ]
    },
    {
     "name": "stdout",
     "output_type": "stream",
     "text": [
      "get car\n",
      "insidebox\n",
      "hi, my name is 1. speed: (0.0, 0.0) , pos (933.5, 450.0)Iam 2 frames old, and my probs is 0.4\n"
     ]
    },
    {
     "name": "stderr",
     "output_type": "stream",
     "text": [
      "\u001b[A\n",
      "  1%|          | 3/376 [00:08<17:57,  2.89s/it]"
     ]
    },
    {
     "name": "stdout",
     "output_type": "stream",
     "text": [
      "get car\n",
      "insidebox\n",
      "hi, my name is 1. speed: (0.0, -0.099999999999999978) , pos (933.5, 449.5)Iam 3 frames old, and my probs is 0.5\n"
     ]
    },
    {
     "name": "stderr",
     "output_type": "stream",
     "text": [
      "\u001b[A\n",
      "  1%|          | 4/376 [00:11<18:02,  2.91s/it]"
     ]
    },
    {
     "name": "stdout",
     "output_type": "stream",
     "text": [
      "get car\n",
      "insidebox\n",
      "hi, my name is 1. speed: (0.0, -0.059999999999995446) , pos (933.5, 449.5)Iam 4 frames old, and my probs is 0.6000000000000001\n",
      "get car\n",
      "((336, 401), (343, 438))\n",
      "new car 3\n",
      "initcar\n"
     ]
    },
    {
     "name": "stderr",
     "output_type": "stream",
     "text": [
      "\u001b[A\n",
      "  1%|▏         | 5/376 [00:14<17:57,  2.90s/it]"
     ]
    },
    {
     "name": "stdout",
     "output_type": "stream",
     "text": [
      "delete 2\n",
      "get car\n",
      "insidebox\n",
      "hi, my name is 1. speed: (0.0, -0.03599999999999591) , pos (933.5, 449.5)Iam 5 frames old, and my probs is 0.7000000000000002\n",
      "get car\n",
      "((320, 401), (324, 438))\n",
      "new car 4\n",
      "initcar\n"
     ]
    },
    {
     "name": "stderr",
     "output_type": "stream",
     "text": [
      "\u001b[A\n",
      "  2%|▏         | 6/376 [00:17<17:53,  2.90s/it]"
     ]
    },
    {
     "name": "stdout",
     "output_type": "stream",
     "text": [
      "delete 3\n",
      "get car\n",
      "insidebox\n",
      "hi, my name is 1. speed: (0.0, -0.021599999999996459) , pos (933.5, 449.5)Iam 6 frames old, and my probs is 0.8000000000000003\n"
     ]
    },
    {
     "name": "stderr",
     "output_type": "stream",
     "text": [
      "\u001b[A\n",
      "  2%|▏         | 7/376 [00:20<17:45,  2.89s/it]"
     ]
    },
    {
     "name": "stdout",
     "output_type": "stream",
     "text": [
      "delete 4\n",
      "get car\n",
      "insidebox\n",
      "hi, my name is 1. speed: (0.0, -0.41296000000000149) , pos (933.5, 447.5)Iam 7 frames old, and my probs is 0.9000000000000004\n"
     ]
    },
    {
     "name": "stderr",
     "output_type": "stream",
     "text": [
      "\u001b[A\n",
      "  2%|▏         | 8/376 [00:23<17:41,  2.88s/it]"
     ]
    },
    {
     "name": "stdout",
     "output_type": "stream",
     "text": [
      "get car\n",
      "insidebox\n",
      "hi, my name is 1. speed: (-0.099999999999999978, -0.24777600000000161) , pos (933.0, 447.5)Iam 8 frames old, and my probs is 1.0000000000000004\n"
     ]
    },
    {
     "name": "stderr",
     "output_type": "stream",
     "text": [
      "\u001b[A\n",
      "  2%|▏         | 9/376 [00:26<17:38,  2.88s/it]"
     ]
    },
    {
     "name": "stdout",
     "output_type": "stream",
     "text": [
      "get car\n",
      "insidebox\n",
      "hi, my name is 1. speed: (-0.059999999999995446, -0.14866560000000381) , pos (933.0, 447.5)Iam 9 frames old, and my probs is 1.1\n"
     ]
    },
    {
     "name": "stderr",
     "output_type": "stream",
     "text": [
      "\u001b[A\n",
      "  3%|▎         | 10/376 [00:29<17:54,  2.94s/it]"
     ]
    },
    {
     "name": "stdout",
     "output_type": "stream",
     "text": [
      "get car\n",
      "insidebox\n",
      "hi, my name is 1. speed: (-0.036000000000007276, -0.089199360000000005) , pos (933.0, 447.5)Iam 10 frames old, and my probs is 1.1\n"
     ]
    },
    {
     "name": "stderr",
     "output_type": "stream",
     "text": [
      "\u001b[A\n",
      "  3%|▎         | 11/376 [00:32<17:50,  2.93s/it]"
     ]
    },
    {
     "name": "stdout",
     "output_type": "stream",
     "text": [
      "get car\n",
      "insidebox\n",
      "hi, my name is 1. speed: (-0.92159999999999398, 0.3464803840000017) , pos (928.5, 449.5)Iam 11 frames old, and my probs is 1.1\n"
     ]
    },
    {
     "name": "stderr",
     "output_type": "stream",
     "text": [
      "\u001b[A\n",
      "  3%|▎         | 12/376 [00:34<17:37,  2.91s/it]"
     ]
    },
    {
     "name": "stdout",
     "output_type": "stream",
     "text": [
      "get car\n",
      "insidebox\n",
      "hi, my name is 1. speed: (-0.85295999999999284, 0.20788823039999793) , pos (927.0, 449.5)Iam 12 frames old, and my probs is 1.1\n"
     ]
    },
    {
     "name": "stderr",
     "output_type": "stream",
     "text": [
      "\u001b[A\n",
      "  3%|▎         | 13/376 [00:37<17:30,  2.89s/it]"
     ]
    },
    {
     "name": "stdout",
     "output_type": "stream",
     "text": [
      "get car\n",
      "insidebox\n",
      "hi, my name is 1. speed: (-0.51177600000000656, 0.12473293824000084) , pos (927.0, 449.5)Iam 13 frames old, and my probs is 1.1\n"
     ]
    },
    {
     "name": "stderr",
     "output_type": "stream",
     "text": [
      "\u001b[A\n",
      "  4%|▎         | 14/376 [00:40<17:22,  2.88s/it]"
     ]
    },
    {
     "name": "stdout",
     "output_type": "stream",
     "text": [
      "get car\n",
      "insidebox\n",
      "hi, my name is 1. speed: (-0.30706559999999439, 0.074839762943997634) , pos (927.0, 449.5)Iam 14 frames old, and my probs is 1.1\n"
     ]
    },
    {
     "name": "stderr",
     "output_type": "stream",
     "text": [
      "\u001b[A\n",
      "  4%|▍         | 15/376 [00:43<17:13,  2.86s/it]"
     ]
    },
    {
     "name": "stdout",
     "output_type": "stream",
     "text": [
      "get car\n",
      "insidebox\n",
      "hi, my name is 1. speed: (-0.18423935999999808, 0.14490385776639625) , pos (927.0, 450.0)Iam 15 frames old, and my probs is 1.1\n"
     ]
    },
    {
     "name": "stderr",
     "output_type": "stream",
     "text": [
      "\u001b[A\n",
      "  4%|▍         | 16/376 [00:46<17:09,  2.86s/it]"
     ]
    },
    {
     "name": "stdout",
     "output_type": "stream",
     "text": [
      "get car\n",
      "insidebox\n",
      "hi, my name is 1. speed: (-0.11054361600000001, -0.013057685340161801) , pos (927.0, 449.5)Iam 16 frames old, and my probs is 1.1\n"
     ]
    },
    {
     "name": "stderr",
     "output_type": "stream",
     "text": [
      "\u001b[A\n",
      "  5%|▍         | 17/376 [00:49<17:03,  2.85s/it]"
     ]
    },
    {
     "name": "stdout",
     "output_type": "stream",
     "text": [
      "get car\n",
      "insidebox\n",
      "hi, my name is 1. speed: (-0.06632616960000548, -0.40783461120409209) , pos (927.0, 447.5)Iam 17 frames old, and my probs is 1.1\n"
     ]
    },
    {
     "name": "stderr",
     "output_type": "stream",
     "text": [
      "\u001b[A\n",
      "  5%|▍         | 18/376 [00:52<17:04,  2.86s/it]"
     ]
    },
    {
     "name": "stdout",
     "output_type": "stream",
     "text": [
      "get car\n",
      "insidebox\n",
      "hi, my name is 1. speed: (-0.039795701760012223, -0.24470076672246044) , pos (927.0, 447.5)Iam 18 frames old, and my probs is 1.1\n"
     ]
    },
    {
     "name": "stderr",
     "output_type": "stream",
     "text": [
      "\u001b[A\n",
      "  5%|▌         | 19/376 [00:54<17:04,  2.87s/it]"
     ]
    },
    {
     "name": "stdout",
     "output_type": "stream",
     "text": [
      "get car\n",
      "insidebox\n",
      "hi, my name is 1. speed: (-0.023877421056009929, -0.1468204600334736) , pos (927.0, 447.5)Iam 19 frames old, and my probs is 1.1\n"
     ]
    },
    {
     "name": "stderr",
     "output_type": "stream",
     "text": [
      "\u001b[A\n",
      "  5%|▌         | 20/376 [00:57<16:58,  2.86s/it]"
     ]
    },
    {
     "name": "stdout",
     "output_type": "stream",
     "text": [
      "get car\n",
      "insidebox\n",
      "hi, my name is 1. speed: (-0.014326452633608038, -0.088092276020079754) , pos (927.0, 447.5)Iam 20 frames old, and my probs is 1.1\n"
     ]
    },
    {
     "name": "stderr",
     "output_type": "stream",
     "text": [
      "\u001b[A\n",
      "  6%|▌         | 21/376 [01:00<16:53,  2.85s/it]"
     ]
    },
    {
     "name": "stdout",
     "output_type": "stream",
     "text": [
      "get car\n",
      "insidebox\n",
      "hi, my name is 1. speed: (-0.0085958715801755809, -0.052855365612051147) , pos (927.0, 447.5)Iam 21 frames old, and my probs is 1.1\n"
     ]
    },
    {
     "name": "stderr",
     "output_type": "stream",
     "text": [
      "\u001b[A\n",
      "  6%|▌         | 22/376 [01:03<16:55,  2.87s/it]"
     ]
    },
    {
     "name": "stdout",
     "output_type": "stream",
     "text": [
      "get car\n",
      "insidebox\n",
      "hi, my name is 1. speed: (-0.0051575229481094073, -0.031713219367228776) , pos (927.0, 447.5)Iam 22 frames old, and my probs is 1.1\n"
     ]
    },
    {
     "name": "stderr",
     "output_type": "stream",
     "text": [
      "\u001b[A\n",
      "  6%|▌         | 23/376 [01:06<16:50,  2.86s/it]"
     ]
    },
    {
     "name": "stdout",
     "output_type": "stream",
     "text": [
      "get car\n",
      "insidebox\n",
      "hi, my name is 1. speed: (-0.0030945137688597963, -0.019027931620333463) , pos (927.0, 447.5)Iam 23 frames old, and my probs is 1.1\n"
     ]
    },
    {
     "name": "stderr",
     "output_type": "stream",
     "text": [
      "\u001b[A\n",
      "  6%|▋         | 24/376 [01:09<16:56,  2.89s/it]"
     ]
    },
    {
     "name": "stdout",
     "output_type": "stream",
     "text": [
      "get car\n",
      "((665, 388), (702, 432))\n",
      "new car 5\n",
      "initcar\n",
      "get car\n",
      "insidebox\n",
      "hi, my name is 1. speed: (-0.0018567082613248419, -0.011416758972203858) , pos (927.0, 447.5)Iam 24 frames old, and my probs is 1.1\n"
     ]
    },
    {
     "name": "stderr",
     "output_type": "stream",
     "text": [
      "\u001b[A\n",
      "  7%|▋         | 25/376 [01:12<16:53,  2.89s/it]"
     ]
    },
    {
     "name": "stdout",
     "output_type": "stream",
     "text": [
      "get car\n",
      "insidebox\n",
      "hi, my name is 5. speed: (0.0, 0.0) , pos (683.5, 410.0)Iam 1 frames old, and my probs is 0.30000000000000004\n",
      "get car\n",
      "insidebox\n",
      "hi, my name is 1. speed: (-0.70111402495678821, -0.70685005538332524) , pos (923.5, 444.0)Iam 25 frames old, and my probs is 1.1\n"
     ]
    },
    {
     "name": "stderr",
     "output_type": "stream",
     "text": [
      "\u001b[A\n",
      "  7%|▋         | 26/376 [01:14<16:45,  2.87s/it]"
     ]
    },
    {
     "name": "stdout",
     "output_type": "stream",
     "text": [
      "get car\n",
      "insidebox\n",
      "hi, my name is 5. speed: (-1.2999999999999998, 0.59999999999999987) , pos (677.0, 413.0)Iam 2 frames old, and my probs is 0.4\n",
      "get car\n",
      "insidebox\n",
      "hi, my name is 1. speed: (-0.42066841497406315, -0.42411003322999763) , pos (923.5, 444.0)Iam 26 frames old, and my probs is 1.1\n"
     ]
    },
    {
     "name": "stderr",
     "output_type": "stream",
     "text": [
      "\u001b[A\n",
      "  7%|▋         | 27/376 [01:17<16:39,  2.86s/it]"
     ]
    },
    {
     "name": "stdout",
     "output_type": "stream",
     "text": [
      "get car\n",
      "insidebox\n",
      "hi, my name is 5. speed: (-0.38000000000000911, 0.35999999999999543) , pos (679.0, 413.0)Iam 3 frames old, and my probs is 0.5\n",
      "get car\n",
      "insidebox\n",
      "hi, my name is 1. speed: (-0.25240104898443011, 0.14553398006200613) , pos (923.5, 446.0)Iam 27 frames old, and my probs is 1.1\n"
     ]
    },
    {
     "name": "stderr",
     "output_type": "stream",
     "text": [
      "\u001b[A\n",
      "  7%|▋         | 28/376 [01:20<16:35,  2.86s/it]"
     ]
    },
    {
     "name": "stdout",
     "output_type": "stream",
     "text": [
      "get car\n",
      "insidebox\n",
      "hi, my name is 5. speed: (-0.62800000000000811, 0.21599999999999364) , pos (677.0, 413.0)Iam 4 frames old, and my probs is 0.6000000000000001\n",
      "get car\n",
      "insidebox\n",
      "hi, my name is 1. speed: (-0.15144062939065639, -0.31267961196279465) , pos (923.5, 444.0)Iam 28 frames old, and my probs is 1.1\n"
     ]
    },
    {
     "name": "stderr",
     "output_type": "stream",
     "text": [
      "\u001b[A\n",
      "  8%|▊         | 29/376 [01:23<16:32,  2.86s/it]"
     ]
    },
    {
     "name": "stdout",
     "output_type": "stream",
     "text": [
      "get car\n",
      "insidebox\n",
      "hi, my name is 5. speed: (0.92320000000000169, -1.1704000000000063) , pos (683.5, 406.5)Iam 5 frames old, and my probs is 0.7000000000000002\n",
      "get car\n",
      "insidebox\n",
      "hi, my name is 1. speed: (0.50913562236560739, -0.18760776717768007) , pos (926.5, 444.0)Iam 29 frames old, and my probs is 1.1\n"
     ]
    },
    {
     "name": "stderr",
     "output_type": "stream",
     "text": [
      "\u001b[A\n",
      "  8%|▊         | 30/376 [01:26<16:30,  2.86s/it]"
     ]
    },
    {
     "name": "stdout",
     "output_type": "stream",
     "text": [
      "get car\n",
      "insidebox\n",
      "hi, my name is 5. speed: (0.65392000000001116, -3.2022399999999989) , pos (684.0, 394.0)Iam 6 frames old, and my probs is 0.8000000000000003\n",
      "get car\n",
      "insidebox\n",
      "hi, my name is 5. speed: (3.3231360000000083, -2.5617919999999992) , pos (698.0, 394.0)Iam 7 frames old, and my probs is 1.0000000000000002\n",
      "get car\n",
      "insidebox\n",
      "hi, my name is 1. speed: (0.30548137341935644, 0.58743533969338924) , pos (926.5, 447.5)Iam 30 frames old, and my probs is 1.1\n"
     ]
    },
    {
     "name": "stderr",
     "output_type": "stream",
     "text": [
      "\u001b[A\n",
      "  8%|▊         | 31/376 [01:29<16:33,  2.88s/it]"
     ]
    },
    {
     "name": "stdout",
     "output_type": "stream",
     "text": [
      "get car\n",
      "insidebox\n",
      "hi, my name is 1. speed: (-1.0167111759483969, 0.35246120381603152) , pos (920.5, 447.5)Iam 31 frames old, and my probs is 1.1\n"
     ]
    },
    {
     "name": "stderr",
     "output_type": "stream",
     "text": [
      "\u001b[A\n",
      "  9%|▊         | 32/376 [01:32<16:30,  2.88s/it]"
     ]
    },
    {
     "name": "stdout",
     "output_type": "stream",
     "text": [
      "get car\n",
      "insidebox\n",
      "hi, my name is 1. speed: (-0.61002670556902872, 0.21147672228962405) , pos (920.5, 447.5)Iam 32 frames old, and my probs is 1.1\n"
     ]
    },
    {
     "name": "stderr",
     "output_type": "stream",
     "text": [
      "\u001b[A\n",
      "  9%|▉         | 33/376 [01:35<16:30,  2.89s/it]"
     ]
    },
    {
     "name": "stdout",
     "output_type": "stream",
     "text": [
      "get car\n",
      "insidebox\n",
      "hi, my name is 1. speed: (-0.46601602334142334, 0.12688603337377857) , pos (920.0, 447.5)Iam 33 frames old, and my probs is 1.1\n"
     ]
    },
    {
     "name": "stderr",
     "output_type": "stream",
     "text": [
      "\u001b[A\n",
      "  9%|▉         | 34/376 [01:37<16:22,  2.87s/it]"
     ]
    },
    {
     "name": "stdout",
     "output_type": "stream",
     "text": [
      "get car\n",
      "insidebox\n",
      "hi, my name is 1. speed: (-0.2796096140048453, 0.076131620024272734) , pos (920.0, 447.5)Iam 34 frames old, and my probs is 1.1\n"
     ]
    },
    {
     "name": "stderr",
     "output_type": "stream",
     "text": [
      "\u001b[A\n",
      "  9%|▉         | 35/376 [01:40<16:18,  2.87s/it]"
     ]
    },
    {
     "name": "stdout",
     "output_type": "stream",
     "text": [
      "get car\n",
      "insidebox\n",
      "hi, my name is 1. speed: (-0.16776576840291385, 0.045678972014561281) , pos (920.0, 447.5)Iam 35 frames old, and my probs is 1.1\n"
     ]
    },
    {
     "name": "stderr",
     "output_type": "stream",
     "text": [
      "\u001b[A\n",
      " 10%|▉         | 36/376 [01:43<16:06,  2.84s/it]"
     ]
    },
    {
     "name": "stdout",
     "output_type": "stream",
     "text": [
      "get car\n",
      "insidebox\n",
      "hi, my name is 1. speed: (-0.10065946104175365, 0.027407383208734884) , pos (920.0, 447.5)Iam 36 frames old, and my probs is 1.1\n"
     ]
    },
    {
     "name": "stderr",
     "output_type": "stream",
     "text": [
      "\u001b[A\n",
      " 10%|▉         | 37/376 [01:46<15:57,  2.83s/it]"
     ]
    },
    {
     "name": "stdout",
     "output_type": "stream",
     "text": [
      "get car\n",
      "insidebox\n",
      "hi, my name is 1. speed: (-0.060395676625042818, -0.68355557007476275) , pos (920.0, 444.0)Iam 37 frames old, and my probs is 1.1\n"
     ]
    },
    {
     "name": "stderr",
     "output_type": "stream",
     "text": [
      "\u001b[A\n",
      " 10%|█         | 38/376 [01:49<15:52,  2.82s/it]"
     ]
    },
    {
     "name": "stdout",
     "output_type": "stream",
     "text": [
      "get car\n",
      "insidebox\n",
      "hi, my name is 1. speed: (-0.036237405975027288, -0.41013334204485846) , pos (920.0, 444.0)Iam 38 frames old, and my probs is 1.1\n"
     ]
    },
    {
     "name": "stderr",
     "output_type": "stream",
     "text": [
      "\u001b[A\n",
      " 10%|█         | 39/376 [01:52<15:50,  2.82s/it]"
     ]
    },
    {
     "name": "stdout",
     "output_type": "stream",
     "text": [
      "get car\n",
      "insidebox\n",
      "hi, my name is 1. speed: (-0.021742443585013101, -0.246080005226918) , pos (920.0, 444.0)Iam 39 frames old, and my probs is 1.1\n"
     ]
    },
    {
     "name": "stderr",
     "output_type": "stream",
     "text": [
      "\u001b[A\n",
      " 11%|█         | 40/376 [01:54<15:55,  2.84s/it]"
     ]
    },
    {
     "name": "stdout",
     "output_type": "stream",
     "text": [
      "get car\n",
      "insidebox\n",
      "hi, my name is 1. speed: (-0.013045466151005245, -0.14764800313614856) , pos (920.0, 444.0)Iam 40 frames old, and my probs is 1.1\n"
     ]
    },
    {
     "name": "stderr",
     "output_type": "stream",
     "text": [
      "\u001b[A\n",
      " 11%|█         | 41/376 [01:57<15:48,  2.83s/it]"
     ]
    },
    {
     "name": "stdout",
     "output_type": "stream",
     "text": [
      "delete 5\n",
      "get car\n",
      "insidebox\n",
      "hi, my name is 1. speed: (-0.0078272796906101484, -0.088588801881685095) , pos (920.0, 444.0)Iam 41 frames old, and my probs is 1.1\n",
      "get car\n",
      "((744, 401), (754, 412))\n",
      "new car 6\n",
      "initcar\n"
     ]
    },
    {
     "name": "stderr",
     "output_type": "stream",
     "text": [
      "\u001b[A\n",
      " 11%|█         | 42/376 [02:00<15:44,  2.83s/it]"
     ]
    },
    {
     "name": "stdout",
     "output_type": "stream",
     "text": [
      "get car\n",
      "insidebox\n",
      "hi, my name is 1. speed: (-0.0046963678143762382, -0.053153281129005539) , pos (920.0, 444.0)Iam 42 frames old, and my probs is 1.1\n",
      "get car\n",
      "((729, 401), (737, 412))\n",
      "new car 7\n",
      "initcar\n",
      "get car\n",
      "insidebox\n",
      "hi, my name is 6. speed: (-0.19999999999999996, 0.0) , pos (748.0, 406.5)Iam 1 frames old, and my probs is 0.30000000000000004\n",
      "get car\n",
      "((744, 422), (754, 425))\n",
      "new car 8\n",
      "initcar\n"
     ]
    },
    {
     "name": "stderr",
     "output_type": "stream",
     "text": [
      "\u001b[A\n",
      " 11%|█▏        | 43/376 [02:03<15:41,  2.83s/it]"
     ]
    },
    {
     "name": "stdout",
     "output_type": "stream",
     "text": [
      "get car\n",
      "insidebox\n",
      "hi, my name is 1. speed: (-0.0028178206886202198, -0.031891968677398914) , pos (920.0, 444.0)Iam 43 frames old, and my probs is 1.1\n",
      "get car\n",
      "((729, 398), (760, 432))\n",
      "new car 9\n",
      "initcar\n"
     ]
    },
    {
     "name": "stderr",
     "output_type": "stream",
     "text": [
      "\u001b[A\n",
      " 12%|█▏        | 44/376 [02:06<15:38,  2.83s/it]"
     ]
    },
    {
     "name": "stdout",
     "output_type": "stream",
     "text": [
      "delete 7\n",
      "delete 8\n",
      "get car\n",
      "insidebox\n",
      "hi, my name is 9. speed: (1.2999999999999998, -0.99999999999999978) , pos (751.0, 410.0)Iam 1 frames old, and my probs is 0.30000000000000004\n",
      "get car\n",
      "insidebox\n",
      "hi, my name is 1. speed: (-0.0016906924131722609, -0.019135181206444918) , pos (920.0, 444.0)Iam 44 frames old, and my probs is 1.1\n",
      "get car\n",
      "((729, 401), (737, 412))\n",
      "new car 10\n",
      "initcar\n"
     ]
    },
    {
     "name": "stderr",
     "output_type": "stream",
     "text": [
      "\u001b[A\n",
      " 12%|█▏        | 45/376 [02:09<15:34,  2.82s/it]"
     ]
    },
    {
     "name": "stdout",
     "output_type": "stream",
     "text": [
      "get car\n",
      "insidebox\n",
      "hi, my name is 9. speed: (0.98000000000000886, -0.59999999999999987) , pos (752.0, 410.0)Iam 2 frames old, and my probs is 0.4\n",
      "get car\n",
      "insidebox\n",
      "hi, my name is 1. speed: (-0.001014415447908007, -0.011481108723871404) , pos (920.0, 444.0)Iam 45 frames old, and my probs is 1.1\n"
     ]
    },
    {
     "name": "stderr",
     "output_type": "stream",
     "text": [
      "\u001b[A\n",
      " 12%|█▏        | 46/376 [02:11<15:30,  2.82s/it]"
     ]
    },
    {
     "name": "stdout",
     "output_type": "stream",
     "text": [
      "delete 6\n",
      "delete 10\n",
      "get car\n",
      "insidebox\n",
      "hi, my name is 9. speed: (-0.011999999999996347, -2.359999999999995) , pos (749.0, 400.0)Iam 3 frames old, and my probs is 0.5\n",
      "get car\n",
      "insidebox\n",
      "hi, my name is 1. speed: (-0.00060864926874397722, -0.30688866523431724) , pos (920.0, 442.5)Iam 46 frames old, and my probs is 1.1\n"
     ]
    },
    {
     "name": "stderr",
     "output_type": "stream",
     "text": [
      "\u001b[A\n",
      " 12%|█▎        | 47/376 [02:14<15:26,  2.82s/it]"
     ]
    },
    {
     "name": "stdout",
     "output_type": "stream",
     "text": [
      "get car\n",
      "insidebox\n",
      "hi, my name is 1. speed: (-0.00036518956124117726, 0.11586680085941403) , pos (920.0, 444.0)Iam 47 frames old, and my probs is 1.1\n"
     ]
    },
    {
     "name": "stderr",
     "output_type": "stream",
     "text": [
      "\u001b[A\n",
      " 13%|█▎        | 48/376 [02:17<15:23,  2.82s/it]"
     ]
    },
    {
     "name": "stdout",
     "output_type": "stream",
     "text": [
      "get car\n",
      "insidebox\n",
      "hi, my name is 1. speed: (-0.00021911373675418154, 0.069520080515649688) , pos (920.0, 444.0)Iam 48 frames old, and my probs is 1.1\n",
      "get car\n",
      "insidebox\n",
      "hi, my name is 9. speed: (-0.004800000000019634, 0.35600000000000898) , pos (749.0, 406.5)Iam 4 frames old, and my probs is 0.5\n"
     ]
    },
    {
     "name": "stderr",
     "output_type": "stream",
     "text": [
      "\u001b[A\n",
      " 13%|█▎        | 49/376 [02:20<15:21,  2.82s/it]"
     ]
    },
    {
     "name": "stdout",
     "output_type": "stream",
     "text": [
      "get car\n",
      "insidebox\n",
      "hi, my name is 9. speed: (0.59711999999999332, 0.91360000000000818) , pos (752.0, 410.0)Iam 5 frames old, and my probs is 0.6000000000000001\n",
      "get car\n",
      "insidebox\n",
      "hi, my name is 1. speed: (-0.10013146824205098, 0.041712048309390834) , pos (919.5, 444.0)Iam 49 frames old, and my probs is 1.1\n"
     ]
    },
    {
     "name": "stderr",
     "output_type": "stream",
     "text": [
      "\u001b[A\n",
      " 13%|█▎        | 50/376 [02:23<15:19,  2.82s/it]"
     ]
    },
    {
     "name": "stdout",
     "output_type": "stream",
     "text": [
      "get car\n",
      "insidebox\n",
      "hi, my name is 9. speed: (0.3582719999999911, 0.54816000000000054) , pos (752.0, 410.0)Iam 6 frames old, and my probs is 0.7000000000000002\n",
      "get car\n",
      "insidebox\n",
      "hi, my name is 1. speed: (-0.46007888094523841, 0.025027228985639863) , pos (917.5, 444.0)Iam 50 frames old, and my probs is 1.1\n",
      "get car\n",
      "insidebox\n",
      "hi, my name is 9. speed: (-2.1133824000000065, -0.26147199999999937) , pos (740.0, 406.5)Iam 7 frames old, and my probs is 0.9000000000000001\n"
     ]
    },
    {
     "name": "stderr",
     "output_type": "stream",
     "text": [
      "\u001b[A\n",
      " 14%|█▎        | 51/376 [02:25<15:17,  2.82s/it]"
     ]
    },
    {
     "name": "stdout",
     "output_type": "stream",
     "text": [
      "get car\n",
      "insidebox\n",
      "hi, my name is 9. speed: (0.53197055999998977, 0.54311680000000551) , pos (749.0, 410.0)Iam 8 frames old, and my probs is 1.0000000000000002\n",
      "get car\n",
      "insidebox\n",
      "hi, my name is 1. speed: (-0.27604732856713576, 0.015016337391379114) , pos (917.5, 444.0)Iam 51 frames old, and my probs is 1.1\n",
      "get car\n",
      "((729, 401), (741, 412))\n",
      "new car 11\n",
      "initcar\n"
     ]
    },
    {
     "name": "stderr",
     "output_type": "stream",
     "text": [
      "\u001b[A\n",
      " 14%|█▍        | 52/376 [02:28<15:27,  2.86s/it]"
     ]
    },
    {
     "name": "stdout",
     "output_type": "stream",
     "text": [
      "get car\n",
      "((729, 388), (741, 412))\n",
      "new car 12\n",
      "initcar\n",
      "get car\n",
      "insidebox\n",
      "hi, my name is 9. speed: (-0.38081766400000616, -0.37412991999999679) , pos (745.5, 406.5)Iam 9 frames old, and my probs is 1.1\n",
      "get car\n",
      "insidebox\n",
      "hi, my name is 1. speed: (-0.16562839714027108, 0.0090098024348258983) , pos (917.5, 444.0)Iam 52 frames old, and my probs is 1.1\n"
     ]
    },
    {
     "name": "stderr",
     "output_type": "stream",
     "text": [
      "\u001b[A\n",
      " 14%|█▍        | 53/376 [02:31<15:24,  2.86s/it]"
     ]
    },
    {
     "name": "stdout",
     "output_type": "stream",
     "text": [
      "delete 11\n",
      "get car\n",
      "insidebox\n",
      "hi, my name is 1. speed: (0.30062296171583647, 0.0054058814608942832) , pos (919.5, 444.0)Iam 53 frames old, and my probs is 1.1\n",
      "get car\n",
      "insidebox\n",
      "hi, my name is 9. speed: (-1.3284905984000037, -0.22447795200000287) , pos (740.0, 406.5)Iam 10 frames old, and my probs is 1.1\n",
      "get car\n",
      "insidebox\n",
      "hi, my name is 9. speed: (0.037207521279996714, -0.17958236160000229) , pos (745.5, 406.5)Iam 11 frames old, and my probs is 1.2\n"
     ]
    },
    {
     "name": "stderr",
     "output_type": "stream",
     "text": [
      "\u001b[A\n",
      " 14%|█▍        | 54/376 [02:34<15:19,  2.86s/it]"
     ]
    },
    {
     "name": "stdout",
     "output_type": "stream",
     "text": [
      "delete 12\n",
      "get car\n",
      "insidebox\n",
      "hi, my name is 1. speed: (-0.21962622297049408, 0.0032435288765378391) , pos (917.5, 444.0)Iam 54 frames old, and my probs is 1.1\n"
     ]
    },
    {
     "name": "stderr",
     "output_type": "stream",
     "text": [
      "\u001b[A\n",
      " 15%|█▍        | 55/376 [02:37<15:16,  2.86s/it]"
     ]
    },
    {
     "name": "stdout",
     "output_type": "stream",
     "text": [
      "get car\n",
      "insidebox\n",
      "hi, my name is 1. speed: (-0.13177573378228877, 0.0019461173259282664) , pos (917.5, 444.0)Iam 55 frames old, and my probs is 1.1\n",
      "get car\n",
      "insidebox\n",
      "hi, my name is 9. speed: (-2.0851169914880177, -0.071832944639997037) , pos (735.0, 406.5)Iam 12 frames old, and my probs is 1.0\n"
     ]
    },
    {
     "name": "stderr",
     "output_type": "stream",
     "text": [
      "\u001b[A\n",
      " 15%|█▍        | 56/376 [02:40<15:13,  2.85s/it]"
     ]
    },
    {
     "name": "stdout",
     "output_type": "stream",
     "text": [
      "get car\n",
      "insidebox\n",
      "hi, my name is 9. speed: (-2.5510701948928123, -1.3430997667839988) , pos (728.5, 400.0)Iam 13 frames old, and my probs is 1.1\n",
      "get car\n",
      "insidebox\n",
      "hi, my name is 1. speed: (-0.079065440269367113, 0.0011676703955568626) , pos (917.5, 444.0)Iam 56 frames old, and my probs is 1.1\n"
     ]
    },
    {
     "name": "stderr",
     "output_type": "stream",
     "text": [
      "\u001b[A\n",
      " 15%|█▌        | 57/376 [02:43<15:11,  2.86s/it]"
     ]
    },
    {
     "name": "stdout",
     "output_type": "stream",
     "text": [
      "get car\n",
      "((672, 388), (692, 412))\n",
      "new car 13\n",
      "initcar\n",
      "get car\n",
      "((694, 388), (695, 400))\n",
      "new car 14\n",
      "initcar\n",
      "get car\n",
      "insidebox\n",
      "hi, my name is 9. speed: (-1.5306421169356981, -0.80585986007039767) , pos (728.5, 400.0)Iam 14 frames old, and my probs is 1.1\n",
      "get car\n",
      "insidebox\n",
      "hi, my name is 1. speed: (-0.047439264161624445, 0.00070060223733631351) , pos (917.5, 444.0)Iam 57 frames old, and my probs is 1.1\n",
      "get car\n",
      "((729, 422), (735, 425))\n",
      "new car 15\n",
      "initcar\n"
     ]
    },
    {
     "name": "stderr",
     "output_type": "stream",
     "text": [
      "\u001b[A\n",
      " 15%|█▌        | 58/376 [02:46<15:08,  2.86s/it]"
     ]
    },
    {
     "name": "stdout",
     "output_type": "stream",
     "text": [
      "get car\n",
      "insidebox\n",
      "hi, my name is 13. speed: (-0.19999999999999996, -1.1999999999999997) , pos (681.0, 394.0)Iam 1 frames old, and my probs is 0.30000000000000004\n",
      "get car\n",
      "insidebox\n",
      "hi, my name is 9. speed: (-0.018385270161414002, -0.48351591604224409) , pos (733.0, 400.0)Iam 15 frames old, and my probs is 1.1\n",
      "get car\n",
      "insidebox\n",
      "hi, my name is 1. speed: (-0.72846355849696875, 0.00042036134240581861) , pos (914.0, 444.0)Iam 58 frames old, and my probs is 1.1\n"
     ]
    },
    {
     "name": "stderr",
     "output_type": "stream",
     "text": [
      "\u001b[A\n",
      " 16%|█▌        | 59/376 [02:48<15:07,  2.86s/it]"
     ]
    },
    {
     "name": "stdout",
     "output_type": "stream",
     "text": [
      "delete 14\n",
      "delete 15\n",
      "get car\n",
      "insidebox\n",
      "hi, my name is 13. speed: (0.080000000000009064, 0.47999999999999765) , pos (682.0, 400.0)Iam 2 frames old, and my probs is 0.4\n",
      "get car\n",
      "((694, 388), (695, 412))\n",
      "new car 16\n",
      "initcar\n",
      "get car\n",
      "((704, 388), (706, 412))\n",
      "new car 17\n",
      "initcar\n",
      "get car\n",
      "insidebox\n",
      "hi, my name is 9. speed: (-1.3110311620968531, 1.0098904503746489) , pos (726.5, 406.5)Iam 16 frames old, and my probs is 1.1\n",
      "get car\n",
      "insidebox\n",
      "hi, my name is 1. speed: (-0.43707813509818128, 0.00025221680544898928) , pos (914.0, 444.0)Iam 59 frames old, and my probs is 1.1\n"
     ]
    },
    {
     "name": "stderr",
     "output_type": "stream",
     "text": [
      "\u001b[A\n",
      " 16%|█▌        | 60/376 [02:51<15:04,  2.86s/it]"
     ]
    },
    {
     "name": "stdout",
     "output_type": "stream",
     "text": [
      "get car\n",
      "insidebox\n",
      "hi, my name is 13. speed: (0.44799999999999901, -0.91200000000000525) , pos (684.0, 394.0)Iam 3 frames old, and my probs is 0.5\n",
      "get car\n",
      "insidebox\n",
      "hi, my name is 1. speed: (-1.7622468810589038, 0.00015133008326924461) , pos (906.5, 444.0)Iam 60 frames old, and my probs is 1.1\n",
      "get car\n",
      "insidebox\n",
      "hi, my name is 9. speed: (0.31338130274187925, 0.60593427022478807) , pos (732.0, 406.5)Iam 17 frames old, and my probs is 1.1\n"
     ]
    },
    {
     "name": "stderr",
     "output_type": "stream",
     "text": [
      "\u001b[A\n",
      " 16%|█▌        | 61/376 [02:54<15:13,  2.90s/it]"
     ]
    },
    {
     "name": "stdout",
     "output_type": "stream",
     "text": [
      "delete 16\n",
      "delete 17\n",
      "get car\n",
      "((704, 388), (706, 412))\n",
      "new car 18\n",
      "initcar\n",
      "get car\n",
      "insidebox\n",
      "hi, my name is 9. speed: (-1.1119712183548653, -0.93643943786512795) , pos (725.5, 400.0)Iam 18 frames old, and my probs is 1.1\n",
      "get car\n",
      "insidebox\n",
      "hi, my name is 1. speed: (-1.0573481286353432, 9.0798049961427594e-05) , pos (906.5, 444.0)Iam 61 frames old, and my probs is 1.1\n"
     ]
    },
    {
     "name": "stderr",
     "output_type": "stream",
     "text": [
      "\u001b[A\n",
      " 16%|█▋        | 62/376 [02:57<15:09,  2.90s/it]"
     ]
    },
    {
     "name": "stdout",
     "output_type": "stream",
     "text": [
      "get car\n",
      "((691, 388), (692, 412))\n",
      "new car 19\n",
      "initcar\n",
      "get car\n",
      "((694, 388), (695, 412))\n",
      "new car 20\n",
      "initcar\n",
      "get car\n",
      "insidebox\n",
      "hi, my name is 9. speed: (-1.6671827310129272, -0.56186366271907318) , pos (720.5, 400.0)Iam 19 frames old, and my probs is 1.1\n",
      "get car\n",
      "insidebox\n",
      "hi, my name is 1. speed: (-0.63440887718120664, -0.29994552117001866) , pos (906.5, 442.5)Iam 62 frames old, and my probs is 1.1\n",
      "get car\n",
      "((704, 422), (706, 425))\n",
      "new car 21\n",
      "initcar\n",
      "get car\n",
      "((716, 422), (737, 425))\n",
      "new car 22\n",
      "initcar\n"
     ]
    },
    {
     "name": "stderr",
     "output_type": "stream",
     "text": [
      "\u001b[A\n",
      " 17%|█▋        | 63/376 [03:00<15:03,  2.89s/it]"
     ]
    },
    {
     "name": "stdout",
     "output_type": "stream",
     "text": [
      "delete 18\n",
      "get car\n",
      "insidebox\n",
      "hi, my name is 9. speed: (-2.300309638607767, -0.33711819763144324) , pos (714.0, 400.0)Iam 20 frames old, and my probs is 1.1\n",
      "get car\n",
      "insidebox\n",
      "hi, my name is 1. speed: (-0.3806453263087336, -0.17996731270201446) , pos (906.5, 442.5)Iam 63 frames old, and my probs is 1.1\n"
     ]
    },
    {
     "name": "stderr",
     "output_type": "stream",
     "text": [
      "\u001b[A\n",
      " 17%|█▋        | 64/376 [03:03<14:58,  2.88s/it]"
     ]
    },
    {
     "name": "stdout",
     "output_type": "stream",
     "text": [
      "delete 19\n",
      "delete 20\n",
      "delete 21\n",
      "delete 22\n",
      "get car\n",
      "insidebox\n",
      "hi, my name is 9. speed: (-1.5801857831646509, -0.20227091857886084) , pos (713.0, 400.0)Iam 21 frames old, and my probs is 1.1\n",
      "get car\n",
      "insidebox\n",
      "hi, my name is 1. speed: (-0.22838719578524791, -0.10798038762121356) , pos (906.5, 442.5)Iam 64 frames old, and my probs is 1.1\n"
     ]
    },
    {
     "name": "stderr",
     "output_type": "stream",
     "text": [
      "\u001b[A\n",
      " 17%|█▋        | 65/376 [03:06<14:54,  2.87s/it]"
     ]
    },
    {
     "name": "stdout",
     "output_type": "stream",
     "text": [
      "get car\n",
      "insidebox\n",
      "hi, my name is 9. speed: (-1.7481114698987876, 1.1786374488526805) , pos (709.0, 406.5)Iam 22 frames old, and my probs is 1.1\n",
      "get car\n",
      "insidebox\n",
      "hi, my name is 1. speed: (-0.13703231747115494, -0.36478823257272286) , pos (906.5, 441.0)Iam 65 frames old, and my probs is 1.1\n"
     ]
    },
    {
     "name": "stderr",
     "output_type": "stream",
     "text": [
      "\u001b[A\n",
      " 18%|█▊        | 66/376 [03:09<14:52,  2.88s/it]"
     ]
    },
    {
     "name": "stdout",
     "output_type": "stream",
     "text": [
      "delete 13\n",
      "get car\n",
      "insidebox\n",
      "hi, my name is 9. speed: (-1.0488668819392839, 0.70718246931161077) , pos (709.0, 406.5)Iam 23 frames old, and my probs is 1.1\n",
      "get car\n",
      "insidebox\n",
      "hi, my name is 1. speed: (-0.082219390482693361, -0.21887293954363413) , pos (906.5, 441.0)Iam 66 frames old, and my probs is 1.1\n"
     ]
    },
    {
     "name": "stderr",
     "output_type": "stream",
     "text": [
      "\u001b[A\n",
      " 18%|█▊        | 67/376 [03:11<14:46,  2.87s/it]"
     ]
    },
    {
     "name": "stdout",
     "output_type": "stream",
     "text": [
      "get car\n",
      "insidebox\n",
      "hi, my name is 9. speed: (-0.62932012916357483, -0.87569051841302903) , pos (709.0, 400.0)Iam 24 frames old, and my probs is 1.1\n",
      "get car\n",
      "insidebox\n",
      "hi, my name is 1. speed: (0.95066836571038349, 0.16867623627382142) , pos (911.5, 442.5)Iam 67 frames old, and my probs is 1.1\n"
     ]
    },
    {
     "name": "stderr",
     "output_type": "stream",
     "text": [
      "\u001b[A\n",
      " 18%|█▊        | 68/376 [03:14<14:40,  2.86s/it]"
     ]
    },
    {
     "name": "stdout",
     "output_type": "stream",
     "text": [
      "get car\n",
      "insidebox\n",
      "hi, my name is 9. speed: (-0.27759207749813947, -0.52541431104781866) , pos (709.5, 400.0)Iam 25 frames old, and my probs is 1.1\n",
      "get car\n",
      "insidebox\n",
      "hi, my name is 1. speed: (0.57040101942622989, 0.10120574176429215) , pos (911.5, 442.5)Iam 68 frames old, and my probs is 1.1\n"
     ]
    },
    {
     "name": "stderr",
     "output_type": "stream",
     "text": [
      "\u001b[A\n",
      " 18%|█▊        | 69/376 [03:17<14:39,  2.86s/it]"
     ]
    },
    {
     "name": "stdout",
     "output_type": "stream",
     "text": [
      "get car\n",
      "insidebox\n",
      "hi, my name is 9. speed: (-0.26655524649887474, -0.31524858662868993) , pos (709.0, 400.0)Iam 26 frames old, and my probs is 1.1\n",
      "get car\n",
      "insidebox\n",
      "hi, my name is 1. speed: (0.34224061165574682, 0.060723445058570177) , pos (911.5, 442.5)Iam 69 frames old, and my probs is 1.1\n"
     ]
    },
    {
     "name": "stderr",
     "output_type": "stream",
     "text": [
      "\u001b[A\n",
      " 19%|█▊        | 70/376 [03:20<14:33,  2.85s/it]"
     ]
    },
    {
     "name": "stdout",
     "output_type": "stream",
     "text": [
      "get car\n",
      "insidebox\n",
      "hi, my name is 9. speed: (-0.25993314789931771, 1.1108508480227846) , pos (708.5, 406.5)Iam 27 frames old, and my probs is 1.1\n",
      "get car\n",
      "insidebox\n",
      "hi, my name is 1. speed: (0.20534436699345526, 0.036434067035144839) , pos (911.5, 442.5)Iam 70 frames old, and my probs is 1.1\n"
     ]
    },
    {
     "name": "stderr",
     "output_type": "stream",
     "text": [
      "\u001b[A\n",
      " 19%|█▉        | 71/376 [03:23<14:31,  2.86s/it]"
     ]
    },
    {
     "name": "stdout",
     "output_type": "stream",
     "text": [
      "get car\n",
      "((691, 388), (692, 412))\n",
      "new car 23\n",
      "initcar\n",
      "get car\n",
      "((694, 388), (702, 412))\n",
      "new car 24\n",
      "initcar\n",
      "get car\n",
      "insidebox\n",
      "hi, my name is 9. speed: (-0.65595988873958477, -0.63348949118632758) , pos (706.0, 400.0)Iam 28 frames old, and my probs is 1.1\n",
      "get car\n",
      "insidebox\n",
      "hi, my name is 9. speed: (2.4752320890083315, -0.50679159294906206) , pos (721.0, 400.0)Iam 29 frames old, and my probs is 1.2\n",
      "get car\n",
      "insidebox\n",
      "hi, my name is 1. speed: (0.12320662019606979, 0.021860440221086817) , pos (911.5, 442.5)Iam 71 frames old, and my probs is 1.1\n"
     ]
    },
    {
     "name": "stderr",
     "output_type": "stream",
     "text": [
      "\u001b[A\n",
      " 19%|█▉        | 72/376 [03:26<14:27,  2.85s/it]"
     ]
    },
    {
     "name": "stdout",
     "output_type": "stream",
     "text": [
      "get car\n",
      "insidebox\n",
      "insidebox\n",
      "hi, my name is 24. speed: (-1.2999999999999998, 0.0) , pos (691.5, 400.0)Iam 1 frames old, and my probs is 0.30000000000000004\n",
      "get car\n",
      "insidebox\n",
      "insidebox\n",
      "hi, my name is 24. speed: (-0.43999999999999995, 0.0) , pos (694.5, 400.0)Iam 2 frames old, and my probs is 0.5\n",
      "get car\n",
      "((704, 388), (708, 412))\n",
      "new car 25\n",
      "initcar\n",
      "get car\n",
      "insidebox\n",
      "hi, my name is 1. speed: (0.073923972117652809, 0.013116264132654296) , pos (911.5, 442.5)Iam 72 frames old, and my probs is 1.1\n",
      "get car\n",
      "insidebox\n",
      "hi, my name is 9. speed: (1.4851392534049881, 0.99592504423056427) , pos (721.0, 406.5)Iam 30 frames old, and my probs is 1.1\n"
     ]
    },
    {
     "name": "stderr",
     "output_type": "stream",
     "text": [
      "\u001b[A\n",
      " 19%|█▉        | 73/376 [03:29<14:28,  2.87s/it]"
     ]
    },
    {
     "name": "stdout",
     "output_type": "stream",
     "text": [
      "delete 23\n",
      "get car\n",
      "insidebox\n",
      "hi, my name is 25. speed: (0.49999999999999989, 0.0) , pos (708.5, 400.0)Iam 1 frames old, and my probs is 0.30000000000000004\n",
      "get car\n",
      "insidebox\n",
      "hi, my name is 1. speed: (-0.05564561672940864, 0.0078697584795966152) , pos (911.0, 442.5)Iam 73 frames old, and my probs is 1.1\n"
     ]
    },
    {
     "name": "stderr",
     "output_type": "stream",
     "text": [
      "\u001b[A\n",
      " 20%|█▉        | 74/376 [03:31<14:25,  2.87s/it]"
     ]
    },
    {
     "name": "stdout",
     "output_type": "stream",
     "text": [
      "get car\n",
      "((678, 375), (726, 425))\n",
      "new car 26\n",
      "initcar\n",
      "get car\n",
      "insidebox\n",
      "hi, my name is 1. speed: (-0.033387370037645463, 0.004721855087754378) , pos (911.0, 442.5)Iam 74 frames old, and my probs is 1.1\n"
     ]
    },
    {
     "name": "stderr",
     "output_type": "stream",
     "text": [
      "\u001b[A\n",
      " 20%|█▉        | 75/376 [03:34<14:25,  2.88s/it]"
     ]
    },
    {
     "name": "stdout",
     "output_type": "stream",
     "text": [
      "get car\n",
      "insidebox\n",
      "hi, my name is 26. speed: (0.0, 0.0) , pos (702.0, 400.0)Iam 1 frames old, and my probs is 0.30000000000000004\n",
      "get car\n",
      "insidebox\n",
      "hi, my name is 1. speed: (-0.020032422022587502, 0.0028331130526474801) , pos (911.0, 442.5)Iam 75 frames old, and my probs is 1.1\n"
     ]
    },
    {
     "name": "stderr",
     "output_type": "stream",
     "text": [
      "\u001b[A\n",
      " 20%|██        | 76/376 [03:37<14:22,  2.87s/it]"
     ]
    },
    {
     "name": "stdout",
     "output_type": "stream",
     "text": [
      "get car\n",
      "insidebox\n",
      "hi, my name is 26. speed: (0.0, 0.0) , pos (702.0, 400.0)Iam 2 frames old, and my probs is 0.4\n",
      "get car\n",
      "insidebox\n",
      "hi, my name is 1. speed: (-1.0120194532135478, 0.30169986783158881) , pos (906.0, 444.0)Iam 76 frames old, and my probs is 1.1\n"
     ]
    },
    {
     "name": "stderr",
     "output_type": "stream",
     "text": [
      "\u001b[A\n",
      " 20%|██        | 77/376 [03:40<14:18,  2.87s/it]"
     ]
    },
    {
     "name": "stdout",
     "output_type": "stream",
     "text": [
      "delete 25\n",
      "get car\n",
      "insidebox\n",
      "insidebox\n",
      "hi, my name is 26. speed: (-1.0999999999999996, 0.0) , pos (696.5, 400.0)Iam 3 frames old, and my probs is 0.5\n",
      "get car\n",
      "insidebox\n",
      "hi, my name is 1. speed: (-0.60721167192813885, 0.18101992069895362) , pos (906.0, 444.0)Iam 77 frames old, and my probs is 1.1\n"
     ]
    },
    {
     "name": "stderr",
     "output_type": "stream",
     "text": [
      "\u001b[A\n",
      " 21%|██        | 78/376 [03:43<14:14,  2.87s/it]"
     ]
    },
    {
     "name": "stdout",
     "output_type": "stream",
     "text": [
      "delete 24\n",
      "get car\n",
      "insidebox\n",
      "hi, my name is 26. speed: (-0.65999999999999526, 0.0) , pos (696.5, 400.0)Iam 4 frames old, and my probs is 0.6000000000000001\n",
      "get car\n",
      "insidebox\n",
      "hi, my name is 1. speed: (-0.36432700315689148, 0.10861195241937699) , pos (906.0, 444.0)Iam 78 frames old, and my probs is 1.1\n",
      "get car\n",
      "((696, 422), (702, 425))\n",
      "new car 27\n",
      "initcar\n"
     ]
    },
    {
     "name": "stderr",
     "output_type": "stream",
     "text": [
      "\u001b[A\n",
      " 21%|██        | 79/376 [03:46<14:12,  2.87s/it]"
     ]
    },
    {
     "name": "stdout",
     "output_type": "stream",
     "text": [
      "get car\n",
      "insidebox\n",
      "hi, my name is 26. speed: (-0.39600000000000268, 0.0) , pos (696.5, 400.0)Iam 5 frames old, and my probs is 0.7000000000000002\n",
      "get car\n",
      "insidebox\n",
      "hi, my name is 1. speed: (-0.21859620189414136, 0.065167171451625511) , pos (906.0, 444.0)Iam 79 frames old, and my probs is 1.1\n"
     ]
    },
    {
     "name": "stderr",
     "output_type": "stream",
     "text": [
      "\u001b[A\n",
      " 21%|██▏       | 80/376 [03:49<14:09,  2.87s/it]"
     ]
    },
    {
     "name": "stdout",
     "output_type": "stream",
     "text": [
      "delete 27\n",
      "get car\n",
      "insidebox\n",
      "hi, my name is 26. speed: (-1.2376000000000102, 0.0) , pos (691.5, 400.0)Iam 6 frames old, and my probs is 0.8000000000000003\n",
      "get car\n",
      "insidebox\n",
      "hi, my name is 26. speed: (-0.39008000000000842, -1.1999999999999997) , pos (694.5, 394.0)Iam 7 frames old, and my probs is 1.0000000000000002\n",
      "get car\n",
      "insidebox\n",
      "hi, my name is 1. speed: (0.86884227886350984, 0.43910030287097923) , pos (911.0, 446.0)Iam 80 frames old, and my probs is 1.1\n"
     ]
    },
    {
     "name": "stderr",
     "output_type": "stream",
     "text": [
      "\u001b[A\n",
      " 22%|██▏       | 81/376 [03:52<14:07,  2.87s/it]"
     ]
    },
    {
     "name": "stdout",
     "output_type": "stream",
     "text": [
      "get car\n",
      "insidebox\n",
      "hi, my name is 1. speed: (0.52130536731809718, 0.2634601817225839) , pos (911.0, 446.0)Iam 81 frames old, and my probs is 1.1\n",
      "get car\n",
      "((1216, 426), (1240, 451))\n",
      "new car 28\n",
      "initcar\n",
      "get car\n",
      "((1203, 430), (1208, 451))\n",
      "new car 29\n",
      "initcar\n"
     ]
    },
    {
     "name": "stderr",
     "output_type": "stream",
     "text": [
      "\u001b[A\n",
      " 22%|██▏       | 82/376 [03:55<14:10,  2.89s/it]"
     ]
    },
    {
     "name": "stdout",
     "output_type": "stream",
     "text": [
      "get car\n",
      "insidebox\n",
      "hi, my name is 1. speed: (-0.68721677960913463, 0.15807610903355426) , pos (906.0, 446.0)Iam 82 frames old, and my probs is 1.1\n",
      "get car\n",
      "((1190, 422), (1246, 461))\n",
      "new car 30\n",
      "initcar\n"
     ]
    },
    {
     "name": "stderr",
     "output_type": "stream",
     "text": [
      "\u001b[A\n",
      " 22%|██▏       | 83/376 [03:57<14:09,  2.90s/it]"
     ]
    },
    {
     "name": "stdout",
     "output_type": "stream",
     "text": [
      "delete 9\n",
      "delete 28\n",
      "delete 29\n",
      "get car\n",
      "insidebox\n",
      "hi, my name is 1. speed: (-0.61233006776548449, 0.0948456654201289) , pos (905.0, 446.0)Iam 83 frames old, and my probs is 1.1\n",
      "get car\n",
      "insidebox\n",
      "hi, my name is 30. speed: (-1.7999999999999996, -0.59999999999999987) , pos (1209.0, 438.5)Iam 1 frames old, and my probs is 0.30000000000000004\n"
     ]
    },
    {
     "name": "stderr",
     "output_type": "stream",
     "text": [
      "\u001b[A\n",
      " 22%|██▏       | 84/376 [04:00<14:04,  2.89s/it]"
     ]
    },
    {
     "name": "stdout",
     "output_type": "stream",
     "text": [
      "get car\n",
      "insidebox\n",
      "hi, my name is 1. speed: (-0.36739804065929371, 0.056907399252081228) , pos (905.0, 446.0)Iam 84 frames old, and my probs is 1.1\n",
      "get car\n",
      "insidebox\n",
      "hi, my name is 30. speed: (-1.7800000000000087, -0.35999999999999543) , pos (1205.5, 438.5)Iam 2 frames old, and my probs is 0.4\n"
     ]
    },
    {
     "name": "stderr",
     "output_type": "stream",
     "text": [
      "\u001b[A\n",
      " 23%|██▎       | 85/376 [04:03<13:59,  2.89s/it]"
     ]
    },
    {
     "name": "stdout",
     "output_type": "stream",
     "text": [
      "get car\n",
      "insidebox\n",
      "hi, my name is 1. speed: (-0.32043882439557864, 0.034144439551254117) , pos (904.5, 446.0)Iam 85 frames old, and my probs is 1.1\n",
      "get car\n",
      "insidebox\n",
      "hi, my name is 30. speed: (-2.2680000000000122, 0.084000000000006292) , pos (1199.5, 440.0)Iam 3 frames old, and my probs is 0.5\n"
     ]
    },
    {
     "name": "stderr",
     "output_type": "stream",
     "text": [
      "\u001b[A\n",
      " 23%|██▎       | 86/376 [04:06<13:54,  2.88s/it]"
     ]
    },
    {
     "name": "stdout",
     "output_type": "stream",
     "text": [
      "get car\n",
      "insidebox\n",
      "hi, my name is 1. speed: (-0.1922632946373582, -0.079513336269247739) , pos (904.5, 445.5)Iam 86 frames old, and my probs is 1.1\n",
      "get car\n",
      "insidebox\n",
      "hi, my name is 30. speed: (-1.4608000000000041, 1.1504000000000041) , pos (1199.0, 445.5)Iam 4 frames old, and my probs is 0.6000000000000001\n"
     ]
    },
    {
     "name": "stderr",
     "output_type": "stream",
     "text": [
      "\u001b[A\n",
      " 23%|██▎       | 87/376 [04:09<13:49,  2.87s/it]"
     ]
    },
    {
     "name": "stdout",
     "output_type": "stream",
     "text": [
      "get car\n",
      "insidebox\n",
      "hi, my name is 1. speed: (-0.11535797678242374, -0.047708001761546562) , pos (904.5, 445.5)Iam 87 frames old, and my probs is 1.1\n",
      "get car\n",
      "insidebox\n",
      "hi, my name is 30. speed: (-1.6764799999999904, 0.69024000000000529) , pos (1195.0, 445.5)Iam 5 frames old, and my probs is 0.7000000000000002\n"
     ]
    },
    {
     "name": "stderr",
     "output_type": "stream",
     "text": [
      "\u001b[A\n",
      " 23%|██▎       | 88/376 [04:12<13:46,  2.87s/it]"
     ]
    },
    {
     "name": "stdout",
     "output_type": "stream",
     "text": [
      "get car\n",
      "insidebox\n",
      "hi, my name is 1. speed: (0.03078521393054777, -0.028624801056933095) , pos (905.0, 445.5)Iam 88 frames old, and my probs is 1.1\n",
      "get car\n",
      "insidebox\n",
      "hi, my name is 30. speed: (-1.8058879999999755, 0.51414400000000082) , pos (1191.0, 446.0)Iam 6 frames old, and my probs is 0.8000000000000003\n"
     ]
    },
    {
     "name": "stderr",
     "output_type": "stream",
     "text": [
      "\u001b[A\n",
      " 24%|██▎       | 89/376 [04:15<13:41,  2.86s/it]"
     ]
    },
    {
     "name": "stdout",
     "output_type": "stream",
     "text": [
      "get car\n",
      "insidebox\n",
      "hi, my name is 1. speed: (0.21847112835832116, -0.017174880634159437) , pos (906.0, 445.5)Iam 89 frames old, and my probs is 1.1\n",
      "get car\n",
      "insidebox\n",
      "hi, my name is 30. speed: (-3.4835328000000065, 1.0084864000000029) , pos (1179.0, 449.5)Iam 7 frames old, and my probs is 0.9000000000000004\n"
     ]
    },
    {
     "name": "stderr",
     "output_type": "stream",
     "text": [
      "\u001b[A\n",
      " 24%|██▍       | 90/376 [04:17<13:39,  2.87s/it]"
     ]
    },
    {
     "name": "stdout",
     "output_type": "stream",
     "text": [
      "get car\n",
      "insidebox\n",
      "hi, my name is 30. speed: (-2.8901196800000211, 0.60509184000000615) , pos (1175.0, 449.5)Iam 8 frames old, and my probs is 1.0000000000000004\n",
      "get car\n",
      "insidebox\n",
      "hi, my name is 1. speed: (0.13108267701498219, 0.28969507161950692) , pos (906.0, 447.0)Iam 90 frames old, and my probs is 1.1\n"
     ]
    },
    {
     "name": "stderr",
     "output_type": "stream",
     "text": [
      "\u001b[A\n",
      " 24%|██▍       | 91/376 [04:20<13:34,  2.86s/it]"
     ]
    },
    {
     "name": "stdout",
     "output_type": "stream",
     "text": [
      "delete 26\n",
      "get car\n",
      "insidebox\n",
      "hi, my name is 30. speed: (-2.0340718080000175, 0.36305510400000496) , pos (1173.5, 449.5)Iam 9 frames old, and my probs is 1.1\n",
      "get car\n",
      "insidebox\n",
      "hi, my name is 1. speed: (0.77864960620898538, 0.17381704297170172) , pos (909.5, 447.0)Iam 91 frames old, and my probs is 1.1\n"
     ]
    },
    {
     "name": "stderr",
     "output_type": "stream",
     "text": [
      "\u001b[A\n",
      " 24%|██▍       | 92/376 [04:23<13:31,  2.86s/it]"
     ]
    },
    {
     "name": "stdout",
     "output_type": "stream",
     "text": [
      "get car\n",
      "insidebox\n",
      "hi, my name is 30. speed: (-3.2204430848000323, 0.21783306240000172) , pos (1163.5, 449.5)Iam 10 frames old, and my probs is 1.1\n",
      "get car\n",
      "insidebox\n",
      "hi, my name is 1. speed: (-0.23281023627461173, 0.10429022578302589) , pos (906.0, 447.0)Iam 92 frames old, and my probs is 1.1\n"
     ]
    },
    {
     "name": "stderr",
     "output_type": "stream",
     "text": [
      "\u001b[A\n",
      " 25%|██▍       | 93/376 [04:26<13:28,  2.86s/it]"
     ]
    },
    {
     "name": "stdout",
     "output_type": "stream",
     "text": [
      "get car\n",
      "insidebox\n",
      "hi, my name is 1. speed: (-0.13968614176476041, -1.3374258645301826) , pos (906.0, 440.0)Iam 93 frames old, and my probs is 1.1\n",
      "get car\n",
      "insidebox\n",
      "hi, my name is 30. speed: (-3.6322658508800094, 0.13069983743999777) , pos (1155.0, 449.5)Iam 11 frames old, and my probs is 1.1\n"
     ]
    },
    {
     "name": "stderr",
     "output_type": "stream",
     "text": [
      "\u001b[A\n",
      " 25%|██▌       | 94/376 [04:29<13:31,  2.88s/it]"
     ]
    },
    {
     "name": "stdout",
     "output_type": "stream",
     "text": [
      "get car\n",
      "insidebox\n",
      "hi, my name is 1. speed: (0.61618831494113979, -0.80245551871810827) , pos (909.5, 440.0)Iam 94 frames old, and my probs is 1.1\n",
      "get car\n",
      "insidebox\n",
      "hi, my name is 30. speed: (-2.6793595105280072, 0.078419902464002877) , pos (1152.5, 449.5)Iam 12 frames old, and my probs is 1.1\n"
     ]
    },
    {
     "name": "stderr",
     "output_type": "stream",
     "text": [
      "\u001b[A\n",
      " 25%|██▌       | 95/376 [04:32<13:26,  2.87s/it]"
     ]
    },
    {
     "name": "stdout",
     "output_type": "stream",
     "text": [
      "get car\n",
      "insidebox\n",
      "hi, my name is 1. speed: (-0.53028701103531883, 0.61852668876913131) , pos (905.0, 445.5)Iam 95 frames old, and my probs is 1.1\n",
      "get car\n",
      "insidebox\n",
      "hi, my name is 30. speed: (-2.6076157063168051, 0.047051941478398265) , pos (1147.5, 449.5)Iam 13 frames old, and my probs is 1.1\n"
     ]
    },
    {
     "name": "stderr",
     "output_type": "stream",
     "text": [
      "\u001b[A\n",
      " 26%|██▌       | 96/376 [04:35<13:20,  2.86s/it]"
     ]
    },
    {
     "name": "stdout",
     "output_type": "stream",
     "text": [
      "get car\n",
      "insidebox\n",
      "hi, my name is 30. speed: (-3.0645694237900658, -0.37176883511296144) , pos (1140.0, 447.5)Iam 14 frames old, and my probs is 1.1\n",
      "get car\n",
      "insidebox\n",
      "hi, my name is 1. speed: (0.88182779337880146, -0.72888398673851928) , pos (911.0, 440.0)Iam 96 frames old, and my probs is 1.1\n"
     ]
    },
    {
     "name": "stderr",
     "output_type": "stream",
     "text": [
      "\u001b[A\n",
      " 26%|██▌       | 97/376 [04:37<13:16,  2.85s/it]"
     ]
    },
    {
     "name": "stdout",
     "output_type": "stream",
     "text": [
      "get car\n",
      "insidebox\n",
      "hi, my name is 30. speed: (-1.9387416542740352, -0.22306130106777727) , pos (1139.5, 447.5)Iam 15 frames old, and my probs is 1.1\n",
      "get car\n",
      "insidebox\n",
      "hi, my name is 1. speed: (0.52909667602728905, -0.43733039204310786) , pos (911.0, 440.0)Iam 97 frames old, and my probs is 1.1\n"
     ]
    },
    {
     "name": "stderr",
     "output_type": "stream",
     "text": [
      "\u001b[A\n",
      " 26%|██▌       | 98/376 [04:40<13:13,  2.86s/it]"
     ]
    },
    {
     "name": "stdout",
     "output_type": "stream",
     "text": [
      "get car\n",
      "insidebox\n",
      "hi, my name is 1. speed: (0.31745800561637538, -0.26239823522586181) , pos (911.0, 440.0)Iam 98 frames old, and my probs is 1.1\n",
      "get car\n",
      "insidebox\n",
      "hi, my name is 30. speed: (-2.2632449925644176, 0.26616321935933551) , pos (1134.0, 449.5)Iam 16 frames old, and my probs is 1.1\n"
     ]
    },
    {
     "name": "stderr",
     "output_type": "stream",
     "text": [
      "\u001b[A\n",
      " 26%|██▋       | 99/376 [04:43<13:11,  2.86s/it]"
     ]
    },
    {
     "name": "stdout",
     "output_type": "stream",
     "text": [
      "get car\n",
      "insidebox\n",
      "hi, my name is 1. speed: (0.19047480336983136, -0.15743894113551476) , pos (911.0, 440.0)Iam 99 frames old, and my probs is 1.1\n",
      "get car\n",
      "insidebox\n",
      "hi, my name is 30. speed: (-2.1579469955386292, 0.15969793161560286) , pos (1130.0, 449.5)Iam 17 frames old, and my probs is 1.1\n"
     ]
    },
    {
     "name": "stderr",
     "output_type": "stream",
     "text": [
      "\u001b[A\n",
      " 27%|██▋       | 100/376 [04:46<13:09,  2.86s/it]"
     ]
    },
    {
     "name": "stdout",
     "output_type": "stream",
     "text": [
      "get car\n",
      "insidebox\n",
      "hi, my name is 1. speed: (0.11428488202189463, -0.094463364681307005) , pos (911.0, 440.0)Iam 100 frames old, and my probs is 1.1\n",
      "get car\n",
      "insidebox\n",
      "hi, my name is 30. speed: (-1.3947681973231789, 0.095818758969362955) , pos (1129.5, 449.5)Iam 18 frames old, and my probs is 1.1\n"
     ]
    },
    {
     "name": "stderr",
     "output_type": "stream",
     "text": [
      "\u001b[A\n",
      " 27%|██▋       | 101/376 [04:49<13:06,  2.86s/it]"
     ]
    },
    {
     "name": "stdout",
     "output_type": "stream",
     "text": [
      "get car\n",
      "insidebox\n",
      "hi, my name is 1. speed: (0.068570929213128878, -0.05667801880878498) , pos (911.0, 440.0)Iam 101 frames old, and my probs is 1.1\n",
      "get car\n",
      "insidebox\n",
      "hi, my name is 30. speed: (-0.83686091839390853, 0.057491255381618776) , pos (1129.5, 449.5)Iam 19 frames old, and my probs is 1.1\n"
     ]
    },
    {
     "name": "stderr",
     "output_type": "stream",
     "text": [
      "\u001b[A\n",
      " 27%|██▋       | 102/376 [04:52<13:04,  2.86s/it]"
     ]
    },
    {
     "name": "stdout",
     "output_type": "stream",
     "text": [
      "get car\n",
      "insidebox\n",
      "hi, my name is 30. speed: (-1.6021165510363276, -0.36550524677102331) , pos (1124.0, 447.5)Iam 20 frames old, and my probs is 1.1\n",
      "get car\n",
      "insidebox\n",
      "hi, my name is 1. speed: (-0.25885744247212439, -0.034006811285271617) , pos (909.5, 440.0)Iam 102 frames old, and my probs is 1.1\n"
     ]
    },
    {
     "name": "stderr",
     "output_type": "stream",
     "text": [
      "\u001b[A\n",
      " 27%|██▋       | 103/376 [04:55<13:07,  2.88s/it]"
     ]
    },
    {
     "name": "stdout",
     "output_type": "stream",
     "text": [
      "get car\n",
      "insidebox\n",
      "hi, my name is 30. speed: (-1.3612699306218101, -0.51930314806261424) , pos (1122.0, 446.0)Iam 21 frames old, and my probs is 1.1\n",
      "get car\n",
      "insidebox\n",
      "hi, my name is 1. speed: (0.14468553451673294, -0.020404086771161199) , pos (911.0, 440.0)Iam 103 frames old, and my probs is 1.1\n"
     ]
    },
    {
     "name": "stderr",
     "output_type": "stream",
     "text": [
      "\u001b[A\n",
      " 28%|██▊       | 104/376 [04:58<13:07,  2.90s/it]"
     ]
    },
    {
     "name": "stdout",
     "output_type": "stream",
     "text": [
      "get car\n",
      "insidebox\n",
      "hi, my name is 30. speed: (1.7832380416269116, -0.61158188883757325) , pos (1135.0, 444.5)Iam 22 frames old, and my probs is 1.1\n",
      "get car\n",
      "insidebox\n",
      "hi, my name is 1. speed: (0.38681132071004132, -0.012242452062693029) , pos (912.5, 440.0)Iam 104 frames old, and my probs is 1.1\n",
      "get car\n",
      "((1216, 426), (1223, 438))\n",
      "new car 31\n",
      "initcar\n"
     ]
    },
    {
     "name": "stderr",
     "output_type": "stream",
     "text": [
      "\u001b[A\n",
      " 28%|██▊       | 105/376 [05:01<13:01,  2.89s/it]"
     ]
    },
    {
     "name": "stdout",
     "output_type": "stream",
     "text": [
      "get car\n",
      "insidebox\n",
      "hi, my name is 30. speed: (1.8699428249761545, -0.066949133302543318) , pos (1139.0, 446.0)Iam 23 frames old, and my probs is 1.1\n",
      "get car\n",
      "insidebox\n",
      "hi, my name is 1. speed: (0.23208679242601699, -0.0073454712376128644) , pos (912.5, 440.0)Iam 105 frames old, and my probs is 1.1\n"
     ]
    },
    {
     "name": "stderr",
     "output_type": "stream",
     "text": [
      "\u001b[A\n",
      " 28%|██▊       | 106/376 [05:03<12:57,  2.88s/it]"
     ]
    },
    {
     "name": "stdout",
     "output_type": "stream",
     "text": [
      "delete 31\n",
      "get car\n",
      "insidebox\n",
      "hi, my name is 30. speed: (0.92196569498570813, 0.25983052001847678) , pos (1138.0, 447.5)Iam 24 frames old, and my probs is 1.1\n",
      "get car\n",
      "insidebox\n",
      "hi, my name is 1. speed: (0.13925207545561302, -0.00440728274256763) , pos (912.5, 440.0)Iam 106 frames old, and my probs is 1.1\n"
     ]
    },
    {
     "name": "stderr",
     "output_type": "stream",
     "text": [
      "\u001b[A\n",
      " 28%|██▊       | 107/376 [05:06<12:53,  2.88s/it]"
     ]
    },
    {
     "name": "stdout",
     "output_type": "stream",
     "text": [
      "get car\n",
      "insidebox\n",
      "hi, my name is 30. speed: (1.8531794169914457, -0.54410168798890923) , pos (1144.5, 444.0)Iam 25 frames old, and my probs is 1.1\n",
      "get car\n",
      "insidebox\n",
      "hi, my name is 1. speed: (0.083551245273370087, -0.0026443696455359595) , pos (912.5, 440.0)Iam 107 frames old, and my probs is 1.1\n"
     ]
    },
    {
     "name": "stderr",
     "output_type": "stream",
     "text": [
      "\u001b[A\n",
      " 29%|██▊       | 108/376 [05:09<12:54,  2.89s/it]"
     ]
    },
    {
     "name": "stdout",
     "output_type": "stream",
     "text": [
      "get car\n",
      "((1040, 398), (1150, 494))\n",
      "new car 32\n",
      "initcar\n",
      "get car\n",
      "insidebox\n",
      "hi, my name is 1. speed: (0.050130747164019329, 0.29841337821267294) , pos (912.5, 441.5)Iam 108 frames old, and my probs is 1.1\n",
      "get car\n",
      "((1164, 401), (1246, 461))\n",
      "new car 33\n",
      "initcar\n"
     ]
    },
    {
     "name": "stderr",
     "output_type": "stream",
     "text": [
      "\u001b[A\n",
      " 29%|██▉       | 109/376 [05:12<12:53,  2.90s/it]"
     ]
    },
    {
     "name": "stdout",
     "output_type": "stream",
     "text": [
      "get car\n",
      "insidebox\n",
      "hi, my name is 32. speed: (-0.79999999999999982, 0.0) , pos (1091.0, 446.0)Iam 1 frames old, and my probs is 0.30000000000000004\n",
      "get car\n",
      "insidebox\n",
      "hi, my name is 33. speed: (0.099999999999999978, -0.099999999999999978) , pos (1205.5, 430.5)Iam 1 frames old, and my probs is 0.30000000000000004\n",
      "get car\n",
      "insidebox\n",
      "hi, my name is 1. speed: (0.33007844829840027, 0.77904802692760389) , pos (914.0, 444.5)Iam 109 frames old, and my probs is 1.1\n",
      "get car\n",
      "insidebox\n",
      "hi, my name is 30. speed: (1.241271766796576, -2.6176406751955561) , pos (1147.0, 432.0)Iam 26 frames old, and my probs is 1.0\n"
     ]
    },
    {
     "name": "stderr",
     "output_type": "stream",
     "text": [
      "\u001b[A\n",
      " 29%|██▉       | 110/376 [05:15<12:48,  2.89s/it]"
     ]
    },
    {
     "name": "stdout",
     "output_type": "stream",
     "text": [
      "get car\n",
      "insidebox\n",
      "hi, my name is 32. speed: (-1.9800000000000086, -0.099999999999999978) , pos (1083.5, 445.5)Iam 2 frames old, and my probs is 0.4\n",
      "get car\n",
      "insidebox\n",
      "hi, my name is 33. speed: (0.060000000000018178, -0.059999999999995446) , pos (1205.5, 430.5)Iam 2 frames old, and my probs is 0.4\n",
      "get car\n",
      "insidebox\n",
      "hi, my name is 1. speed: (0.19804706897903573, 0.46742881615655807) , pos (914.0, 444.5)Iam 110 frames old, and my probs is 1.1\n"
     ]
    },
    {
     "name": "stderr",
     "output_type": "stream",
     "text": [
      "\u001b[A\n",
      " 30%|██▉       | 111/376 [05:18<12:45,  2.89s/it]"
     ]
    },
    {
     "name": "stdout",
     "output_type": "stream",
     "text": [
      "get car\n",
      "insidebox\n",
      "hi, my name is 33. speed: (-1.1639999999999744, 0.56400000000000394) , pos (1199.5, 433.5)Iam 3 frames old, and my probs is 0.5\n",
      "get car\n",
      "insidebox\n",
      "hi, my name is 32. speed: (-1.1880000000000033, -0.059999999999995446) , pos (1083.5, 445.5)Iam 3 frames old, and my probs is 0.5\n",
      "get car\n",
      "insidebox\n",
      "hi, my name is 1. speed: (0.11882824138742698, -0.21954271030606171) , pos (914.0, 442.0)Iam 111 frames old, and my probs is 1.1\n"
     ]
    },
    {
     "name": "stderr",
     "output_type": "stream",
     "text": [
      "\u001b[A\n",
      " 30%|██▉       | 112/376 [05:21<12:42,  2.89s/it]"
     ]
    },
    {
     "name": "stdout",
     "output_type": "stream",
     "text": [
      "get car\n",
      "insidebox\n",
      "hi, my name is 33. speed: (-0.79839999999998224, -0.061600000000000987) , pos (1199.0, 431.5)Iam 4 frames old, and my probs is 0.6000000000000001\n",
      "get car\n",
      "insidebox\n",
      "hi, my name is 32. speed: (-1.6127999999999822, 0.26400000000000401) , pos (1079.0, 447.0)Iam 4 frames old, and my probs is 0.6000000000000001\n",
      "get car\n",
      "insidebox\n",
      "hi, my name is 1. speed: (0.37129694483246056, -0.13172562618363207) , pos (915.5, 442.0)Iam 112 frames old, and my probs is 1.1\n"
     ]
    },
    {
     "name": "stderr",
     "output_type": "stream",
     "text": [
      "\u001b[A\n",
      " 30%|███       | 113/376 [05:24<12:38,  2.88s/it]"
     ]
    },
    {
     "name": "stdout",
     "output_type": "stream",
     "text": [
      "get car\n",
      "insidebox\n",
      "hi, my name is 33. speed: (-0.47904000000000557, 0.063039999999998889) , pos (1199.0, 432.0)Iam 5 frames old, and my probs is 0.7000000000000002\n",
      "get car\n",
      "insidebox\n",
      "hi, my name is 32. speed: (-1.36768000000001, 0.15840000000000123) , pos (1077.0, 447.0)Iam 5 frames old, and my probs is 0.7000000000000002\n",
      "get car\n",
      "insidebox\n",
      "hi, my name is 1. speed: (0.22277816689947536, -0.079035375710175271) , pos (915.5, 442.0)Iam 113 frames old, and my probs is 1.1\n",
      "get car\n",
      "insidebox\n",
      "hi, my name is 30. speed: (-7.6272321791748254e-14, 2.2204460492503131e-15) , pos (1147.0, 432.0)Iam 27 frames old, and my probs is 0.8\n"
     ]
    },
    {
     "name": "stderr",
     "output_type": "stream",
     "text": [
      "\u001b[A\n",
      " 30%|███       | 114/376 [05:27<12:38,  2.90s/it]"
     ]
    },
    {
     "name": "stdout",
     "output_type": "stream",
     "text": [
      "get car\n",
      "insidebox\n",
      "hi, my name is 33. speed: (-1.2874240000000161, 0.3378239999999989) , pos (1194.0, 433.5)Iam 6 frames old, and my probs is 0.8000000000000003\n",
      "get car\n",
      "((1144, 398), (1150, 412))\n",
      "new car 34\n",
      "initcar\n",
      "get car\n",
      "insidebox\n",
      "hi, my name is 32. speed: (-1.920607999999995, 0.095039999999995267) , pos (1071.5, 447.0)Iam 6 frames old, and my probs is 0.8000000000000003\n",
      "get car\n",
      "insidebox\n",
      "hi, my name is 1. speed: (0.13366690013967986, -0.047421225426101991) , pos (915.5, 442.0)Iam 114 frames old, and my probs is 1.1\n",
      "get car\n",
      "((1142, 412), (1142, 412))\n",
      "new car 35\n",
      "initcar\n"
     ]
    },
    {
     "name": "stderr",
     "output_type": "stream",
     "text": [
      "\u001b[A\n",
      " 31%|███       | 115/376 [05:30<12:57,  2.98s/it]"
     ]
    },
    {
     "name": "stdout",
     "output_type": "stream",
     "text": [
      "get car\n",
      "insidebox\n",
      "hi, my name is 33. speed: (-0.77245439999999288, 0.30269439999999675) , pos (1194.0, 434.0)Iam 7 frames old, and my probs is 0.9000000000000004\n",
      "get car\n",
      "insidebox\n",
      "hi, my name is 32. speed: (-2.1523648000000155, 0.057023999999999589) , pos (1066.5, 447.0)Iam 7 frames old, and my probs is 0.9000000000000004\n",
      "get car\n",
      "insidebox\n",
      "hi, my name is 1. speed: (0.080200140083803648, 0.47154726474433667) , pos (915.5, 444.5)Iam 115 frames old, and my probs is 1.1\n"
     ]
    },
    {
     "name": "stderr",
     "output_type": "stream",
     "text": [
      "\u001b[A\n",
      " 31%|███       | 116/376 [05:33<12:55,  2.98s/it]"
     ]
    },
    {
     "name": "stdout",
     "output_type": "stream",
     "text": [
      "delete 34\n",
      "delete 35\n",
      "get car\n",
      "insidebox\n",
      "hi, my name is 33. speed: (-1.4634726399999911, 0.68161663999999589) , pos (1189.0, 436.5)Iam 8 frames old, and my probs is 1.0000000000000004\n",
      "get car\n",
      "insidebox\n",
      "hi, my name is 32. speed: (-1.2914188800000153, 0.034214399999997147) , pos (1066.5, 447.0)Iam 8 frames old, and my probs is 1.0000000000000004\n",
      "get car\n",
      "insidebox\n",
      "hi, my name is 1. speed: (0.048120084050287865, 0.28292835884660039) , pos (915.5, 444.5)Iam 116 frames old, and my probs is 1.1\n"
     ]
    },
    {
     "name": "stderr",
     "output_type": "stream",
     "text": [
      "\u001b[A\n",
      " 31%|███       | 117/376 [05:36<12:59,  3.01s/it]"
     ]
    },
    {
     "name": "stdout",
     "output_type": "stream",
     "text": [
      "get car\n",
      "insidebox\n",
      "hi, my name is 33. speed: (-1.0780835840000003, 0.40896998399999362) , pos (1188.0, 436.5)Iam 9 frames old, and my probs is 1.1\n",
      "get car\n",
      "insidebox\n",
      "hi, my name is 1. speed: (0.028872050430168168, 0.1697570153079567) , pos (915.5, 444.5)Iam 117 frames old, and my probs is 1.1\n",
      "get car\n",
      "insidebox\n",
      "hi, my name is 32. speed: (-0.97485132800000485, 1.1205286399999983) , pos (1065.5, 452.5)Iam 9 frames old, and my probs is 1.1\n"
     ]
    },
    {
     "name": "stderr",
     "output_type": "stream",
     "text": [
      "\u001b[A\n",
      " 31%|███▏      | 118/376 [05:39<12:57,  3.01s/it]"
     ]
    },
    {
     "name": "stdout",
     "output_type": "stream",
     "text": [
      "get car\n",
      "insidebox\n",
      "hi, my name is 33. speed: (-1.9468501503999862, 0.54538199039999302) , pos (1181.5, 438.0)Iam 10 frames old, and my probs is 1.1\n",
      "get car\n",
      "insidebox\n",
      "hi, my name is 1. speed: (0.017323230258092712, 0.101854209184778) , pos (915.5, 444.5)Iam 118 frames old, and my probs is 1.1\n",
      "get car\n",
      "insidebox\n",
      "hi, my name is 32. speed: (-1.7849107967999809, 0.67231718400000373) , pos (1059.5, 452.5)Iam 10 frames old, and my probs is 1.1\n",
      "get car\n",
      "insidebox\n",
      "hi, my name is 32. speed: (6.2720713625600135, -1.8621462527999966) , pos (1098.0, 440.5)Iam 11 frames old, and my probs is 1.2\n"
     ]
    },
    {
     "name": "stderr",
     "output_type": "stream",
     "text": [
      "\u001b[A\n",
      " 32%|███▏      | 119/376 [05:42<12:45,  2.98s/it]"
     ]
    },
    {
     "name": "stdout",
     "output_type": "stream",
     "text": [
      "get car\n",
      "insidebox\n",
      "hi, my name is 33. speed: (-1.26811009023999, 0.32722919423999108) , pos (1181.0, 438.0)Iam 11 frames old, and my probs is 1.1\n",
      "get car\n",
      "insidebox\n",
      "hi, my name is 1. speed: (0.010393938154862718, 0.56111252551087221) , pos (915.5, 447.0)Iam 119 frames old, and my probs is 1.1\n",
      "get car\n",
      "((1024, 417), (1092, 493))\n",
      "new car 36\n",
      "initcar\n"
     ]
    },
    {
     "name": "stderr",
     "output_type": "stream",
     "text": [
      "\u001b[A\n",
      " 32%|███▏      | 120/376 [05:45<12:37,  2.96s/it]"
     ]
    },
    {
     "name": "stdout",
     "output_type": "stream",
     "text": [
      "get car\n",
      "insidebox\n",
      "hi, my name is 33. speed: (-1.4608660541439833, 0.19633751654399767) , pos (1177.5, 438.0)Iam 12 frames old, and my probs is 1.1\n",
      "get car\n",
      "insidebox\n",
      "hi, my name is 1. speed: (0.0062363628929233035, 0.33666751530652772) , pos (915.5, 447.0)Iam 120 frames old, and my probs is 1.1\n",
      "get car\n",
      "insidebox\n",
      "hi, my name is 36. speed: (-0.49999999999999989, 0.0) , pos (1055.5, 455.0)Iam 1 frames old, and my probs is 0.30000000000000004\n"
     ]
    },
    {
     "name": "stderr",
     "output_type": "stream",
     "text": [
      "\u001b[A\n",
      " 32%|███▏      | 121/376 [05:48<12:30,  2.94s/it]"
     ]
    },
    {
     "name": "stdout",
     "output_type": "stream",
     "text": [
      "get car\n",
      "insidebox\n",
      "hi, my name is 33. speed: (-1.0765196324863997, -0.38219749007360565) , pos (1176.5, 435.5)Iam 13 frames old, and my probs is 1.1\n",
      "get car\n",
      "insidebox\n",
      "hi, my name is 1. speed: (0.0037418177357630682, 0.20200050918391332) , pos (915.5, 447.0)Iam 121 frames old, and my probs is 1.1\n",
      "get car\n",
      "insidebox\n",
      "hi, my name is 36. speed: (-0.29999999999999993, 0.0) , pos (1055.5, 455.0)Iam 2 frames old, and my probs is 0.4\n"
     ]
    },
    {
     "name": "stderr",
     "output_type": "stream",
     "text": [
      "\u001b[A\n",
      " 32%|███▏      | 122/376 [05:50<12:23,  2.93s/it]"
     ]
    },
    {
     "name": "stdout",
     "output_type": "stream",
     "text": [
      "delete 30\n",
      "get car\n",
      "insidebox\n",
      "hi, my name is 33. speed: (-0.74591177949182941, 0.07068150595583983) , pos (1176.0, 437.0)Iam 14 frames old, and my probs is 1.1\n",
      "get car\n",
      "insidebox\n",
      "hi, my name is 1. speed: (0.002245090641456015, 0.12120030551034988) , pos (915.5, 447.0)Iam 122 frames old, and my probs is 1.1\n",
      "get car\n",
      "insidebox\n",
      "hi, my name is 36. speed: (-1.5800000000000087, 0.0) , pos (1048.5, 455.0)Iam 3 frames old, and my probs is 0.5\n"
     ]
    },
    {
     "name": "stderr",
     "output_type": "stream",
     "text": [
      "\u001b[A\n",
      " 33%|███▎      | 123/376 [05:53<12:26,  2.95s/it]"
     ]
    },
    {
     "name": "stdout",
     "output_type": "stream",
     "text": [
      "get car\n",
      "insidebox\n",
      "insidebox\n",
      "hi, my name is 33. speed: (-2.1475470676951165, -0.25759109642650024) , pos (1167.5, 435.5)Iam 15 frames old, and my probs is 1.1\n",
      "get car\n",
      "insidebox\n",
      "hi, my name is 1. speed: (0.10134705438486304, 0.072720183306211453) , pos (916.0, 447.0)Iam 123 frames old, and my probs is 1.1\n",
      "get car\n",
      "insidebox\n",
      "hi, my name is 36. speed: (-1.9480000000000215, 0.0) , pos (1043.5, 455.0)Iam 4 frames old, and my probs is 0.6000000000000001\n",
      "get car\n",
      "insidebox\n",
      "hi, my name is 32. speed: (-2.8544142725119137, -1.3275707494399807) , pos (1090.0, 432.0)Iam 12 frames old, and my probs is 0.7000000000000002\n"
     ]
    },
    {
     "name": "stderr",
     "output_type": "stream",
     "text": [
      "\u001b[A\n",
      " 33%|███▎      | 124/376 [05:56<12:29,  2.97s/it]"
     ]
    },
    {
     "name": "stdout",
     "output_type": "stream",
     "text": [
      "get car\n",
      "insidebox\n",
      "hi, my name is 33. speed: (-2.0885282406170758, 0.74544534214409852) , pos (1163.5, 440.0)Iam 16 frames old, and my probs is 1.1\n",
      "get car\n",
      "insidebox\n",
      "hi, my name is 1. speed: (0.76080823263091824, 0.043632109983725818) , pos (919.5, 447.0)Iam 124 frames old, and my probs is 1.1\n",
      "get car\n",
      "insidebox\n",
      "hi, my name is 36. speed: (-1.7687999999999988, 0.0) , pos (1040.5, 455.0)Iam 5 frames old, and my probs is 0.7000000000000002\n"
     ]
    },
    {
     "name": "stderr",
     "output_type": "stream",
     "text": [
      "\u001b[A\n",
      " 33%|███▎      | 125/376 [05:59<12:23,  2.96s/it]"
     ]
    },
    {
     "name": "stdout",
     "output_type": "stream",
     "text": [
      "get car\n",
      "insidebox\n",
      "hi, my name is 33. speed: (-2.9531169443702501, 0.44726720528646285) , pos (1155.0, 440.0)Iam 17 frames old, and my probs is 1.1\n",
      "get car\n",
      "insidebox\n",
      "hi, my name is 1. speed: (0.95648493957855596, 0.02617926599023692) , pos (922.0, 447.0)Iam 125 frames old, and my probs is 1.1\n",
      "get car\n",
      "insidebox\n",
      "hi, my name is 36. speed: (-1.061279999999988, 0.0) , pos (1040.5, 455.0)Iam 6 frames old, and my probs is 0.8000000000000003\n"
     ]
    },
    {
     "name": "stderr",
     "output_type": "stream",
     "text": [
      "\u001b[A\n",
      " 34%|███▎      | 126/376 [06:02<12:14,  2.94s/it]"
     ]
    },
    {
     "name": "stdout",
     "output_type": "stream",
     "text": [
      "get car\n",
      "insidebox\n",
      "hi, my name is 33. speed: (-2.0718701666221362, -0.13163967682811695) , pos (1153.5, 438.0)Iam 18 frames old, and my probs is 1.1\n",
      "get car\n",
      "insidebox\n",
      "hi, my name is 1. speed: (0.27389096374713318, 0.015707559594136476) , pos (920.5, 447.0)Iam 126 frames old, and my probs is 1.1\n",
      "get car\n",
      "insidebox\n",
      "hi, my name is 36. speed: (-0.73676800000001108, 0.0) , pos (1040.0, 455.0)Iam 7 frames old, and my probs is 0.9000000000000004\n",
      "get car\n",
      "insidebox\n",
      "hi, my name is 32. speed: (-0.57088285450244913, -0.2655141498879936) , pos (1090.0, 432.0)Iam 13 frames old, and my probs is 0.6000000000000003\n",
      "get car\n",
      "insidebox\n",
      "hi, my name is 32. speed: (0.44329371639804049, -0.21241131991039489) , pos (1094.5, 432.0)Iam 14 frames old, and my probs is 0.8000000000000003\n"
     ]
    },
    {
     "name": "stderr",
     "output_type": "stream",
     "text": [
      "\u001b[A\n",
      " 34%|███▍      | 127/376 [06:05<12:07,  2.92s/it]"
     ]
    },
    {
     "name": "stdout",
     "output_type": "stream",
     "text": [
      "get car\n",
      "insidebox\n",
      "hi, my name is 33. speed: (-1.7431220999732795, -0.37898380609687049) , pos (1151.0, 436.5)Iam 19 frames old, and my probs is 1.1\n",
      "get car\n",
      "insidebox\n",
      "hi, my name is 1. speed: (0.26433457824827949, 0.0094245357564796163) , pos (921.0, 447.0)Iam 127 frames old, and my probs is 1.1\n",
      "get car\n",
      "insidebox\n",
      "hi, my name is 36. speed: (-0.44206080000001219, 0.0) , pos (1040.0, 455.0)Iam 8 frames old, and my probs is 1.0000000000000004\n",
      "get car\n",
      "insidebox\n",
      "hi, my name is 32. speed: (-1.0340237701611878, 0.77255320805376715) , pos (1088.0, 436.5)Iam 15 frames old, and my probs is 0.9000000000000004\n"
     ]
    },
    {
     "name": "stderr",
     "output_type": "stream",
     "text": [
      "\u001b[A\n",
      " 34%|███▍      | 128/376 [06:08<12:03,  2.92s/it]"
     ]
    },
    {
     "name": "stdout",
     "output_type": "stream",
     "text": [
      "get car\n",
      "insidebox\n",
      "hi, my name is 33. speed: (-3.0458732599839564, -0.22739028365812264) , pos (1141.0, 436.5)Iam 20 frames old, and my probs is 1.1\n",
      "get car\n",
      "insidebox\n",
      "hi, my name is 1. speed: (0.058600746948967414, 0.005654721453890503) , pos (920.5, 447.0)Iam 128 frames old, and my probs is 1.1\n",
      "get car\n",
      "insidebox\n",
      "hi, my name is 36. speed: (-0.26523648000000266, 0.49999999999999989) , pos (1040.0, 457.5)Iam 9 frames old, and my probs is 1.1\n"
     ]
    },
    {
     "name": "stderr",
     "output_type": "stream",
     "text": [
      "\u001b[A\n",
      " 34%|███▍      | 129/376 [06:11<11:58,  2.91s/it]"
     ]
    },
    {
     "name": "stdout",
     "output_type": "stream",
     "text": [
      "get car\n",
      "insidebox\n",
      "hi, my name is 33. speed: (-1.9275239559903925, -0.13643417019487611) , pos (1140.5, 436.5)Iam 21 frames old, and my probs is 1.1\n",
      "get car\n",
      "insidebox\n",
      "hi, my name is 1. speed: (0.035160448169380201, 0.0033928328723364879) , pos (920.5, 447.0)Iam 129 frames old, and my probs is 1.1\n",
      "get car\n",
      "insidebox\n",
      "hi, my name is 36. speed: (-0.15914188799997969, 0.29999999999999993) , pos (1040.0, 457.5)Iam 10 frames old, and my probs is 1.1\n"
     ]
    },
    {
     "name": "stderr",
     "output_type": "stream",
     "text": [
      "\u001b[A\n",
      " 35%|███▍      | 130/376 [06:14<11:54,  2.90s/it]"
     ]
    },
    {
     "name": "stdout",
     "output_type": "stream",
     "text": [
      "get car\n",
      "insidebox\n",
      "hi, my name is 33. speed: (-0.55651437359423239, 0.21813949788307679) , pos (1143.5, 438.0)Iam 22 frames old, and my probs is 1.1\n",
      "get car\n",
      "insidebox\n",
      "hi, my name is 1. speed: (0.32109626890163695, 0.0020356997233990943) , pos (922.0, 447.0)Iam 130 frames old, and my probs is 1.1\n",
      "get car\n",
      "insidebox\n",
      "hi, my name is 36. speed: (-2.1954851327999787, 0.17999999999999772) , pos (1029.5, 457.5)Iam 11 frames old, and my probs is 1.1\n"
     ]
    },
    {
     "name": "stderr",
     "output_type": "stream",
     "text": [
      "\u001b[A\n",
      " 35%|███▍      | 131/376 [06:17<11:48,  2.89s/it]"
     ]
    },
    {
     "name": "stdout",
     "output_type": "stream",
     "text": [
      "get car\n",
      "insidebox\n",
      "hi, my name is 33. speed: (-0.33390862415655498, 0.13088369872984129) , pos (1143.5, 438.0)Iam 23 frames old, and my probs is 1.1\n",
      "get car\n",
      "insidebox\n",
      "hi, my name is 1. speed: (0.59265776134097559, 0.60122141983403476) , pos (924.0, 450.0)Iam 131 frames old, and my probs is 1.1\n",
      "get car\n",
      "insidebox\n",
      "hi, my name is 36. speed: (-1.5172910796799715, 0.10799999999999682) , pos (1028.5, 457.5)Iam 12 frames old, and my probs is 1.1\n",
      "get car\n",
      "((985, 426), (996, 476))\n",
      "new car 37\n",
      "initcar\n"
     ]
    },
    {
     "name": "stderr",
     "output_type": "stream",
     "text": [
      "\u001b[A\n",
      " 35%|███▌      | 132/376 [06:20<11:44,  2.89s/it]"
     ]
    },
    {
     "name": "stdout",
     "output_type": "stream",
     "text": [
      "get car\n",
      "insidebox\n",
      "hi, my name is 33. speed: (-2.100345174493945, 0.078530219237900947) , pos (1134.0, 438.0)Iam 24 frames old, and my probs is 1.1\n",
      "get car\n",
      "insidebox\n",
      "hi, my name is 1. speed: (0.0555946568045802, 0.36073285190042409) , pos (922.5, 450.0)Iam 132 frames old, and my probs is 1.1\n",
      "get car\n",
      "insidebox\n",
      "hi, my name is 36. speed: (-0.91037464780797028, 0.064799999999996652) , pos (1028.5, 457.5)Iam 13 frames old, and my probs is 1.1\n"
     ]
    },
    {
     "name": "stderr",
     "output_type": "stream",
     "text": [
      "\u001b[A\n",
      " 35%|███▌      | 133/376 [06:22<11:44,  2.90s/it]"
     ]
    },
    {
     "name": "stdout",
     "output_type": "stream",
     "text": [
      "delete 37\n",
      "get car\n",
      "insidebox\n",
      "hi, my name is 33. speed: (-1.7602071046963768, 0.047118131542739777) , pos (1131.5, 438.0)Iam 25 frames old, and my probs is 1.1\n",
      "get car\n",
      "insidebox\n",
      "hi, my name is 1. speed: (-1.9666432059172556, 0.21643971114025473) , pos (912.5, 450.0)Iam 133 frames old, and my probs is 1.1\n",
      "get car\n",
      "insidebox\n",
      "hi, my name is 36. speed: (-0.5462247886847994, -1.0611200000000007) , pos (1028.5, 452.0)Iam 14 frames old, and my probs is 1.1\n",
      "get car\n",
      "insidebox\n",
      "hi, my name is 32. speed: (-2.686390491935529, -1.2090212832214864) , pos (1072.5, 432.0)Iam 16 frames old, and my probs is 0.5000000000000004\n"
     ]
    },
    {
     "name": "stderr",
     "output_type": "stream",
     "text": [
      "\u001b[A\n",
      " 36%|███▌      | 134/376 [06:25<11:44,  2.91s/it]"
     ]
    },
    {
     "name": "stdout",
     "output_type": "stream",
     "text": [
      "get car\n",
      "insidebox\n",
      "hi, my name is 33. speed: (-1.3561242628178432, 0.42827087892564542) , pos (1130.0, 440.0)Iam 26 frames old, and my probs is 1.1\n",
      "get car\n",
      "insidebox\n",
      "hi, my name is 1. speed: (-1.1799859235503432, -0.47013617331584684) , pos (912.5, 447.0)Iam 134 frames old, and my probs is 1.1\n",
      "get car\n",
      "insidebox\n",
      "hi, my name is 36. speed: (-0.32773487321086614, -0.63667199999999735) , pos (1028.5, 452.0)Iam 15 frames old, and my probs is 1.1\n",
      "get car\n",
      "insidebox\n",
      "hi, my name is 32. speed: (-1.611834295161318, -0.72541276993289139) , pos (1072.5, 432.0)Iam 17 frames old, and my probs is 0.6000000000000005\n"
     ]
    },
    {
     "name": "stderr",
     "output_type": "stream",
     "text": [
      "\u001b[A\n",
      " 36%|███▌      | 135/376 [06:28<11:45,  2.93s/it]"
     ]
    },
    {
     "name": "stdout",
     "output_type": "stream",
     "text": [
      "get car\n",
      "insidebox\n",
      "hi, my name is 33. speed: (-0.91367455769072869, -0.14303747264461814) , pos (1129.5, 438.0)Iam 27 frames old, and my probs is 1.1\n",
      "get car\n",
      "insidebox\n",
      "hi, my name is 1. speed: (-0.70799155413020221, -0.28208170398951021) , pos (912.5, 447.0)Iam 135 frames old, and my probs is 1.1\n",
      "get car\n",
      "insidebox\n",
      "hi, my name is 36. speed: (1.2033590760734727, -0.38200320000000276) , pos (1035.5, 452.0)Iam 16 frames old, and my probs is 1.1\n"
     ]
    },
    {
     "name": "stderr",
     "output_type": "stream",
     "text": [
      "\u001b[A\n",
      " 36%|███▌      | 136/376 [06:31<11:42,  2.93s/it]"
     ]
    },
    {
     "name": "stdout",
     "output_type": "stream",
     "text": [
      "get car\n",
      "insidebox\n",
      "hi, my name is 33. speed: (-0.54820473461444641, -0.38582248358677296) , pos (1129.5, 436.5)Iam 28 frames old, and my probs is 1.1\n",
      "get car\n",
      "insidebox\n",
      "hi, my name is 1. speed: (-0.42479493247811839, 0.43075097760628972) , pos (912.5, 450.0)Iam 136 frames old, and my probs is 1.1\n",
      "get car\n",
      "insidebox\n",
      "hi, my name is 36. speed: (-0.67798455435590377, -0.22920192000000517) , pos (1028.5, 452.0)Iam 17 frames old, and my probs is 1.1\n",
      "get car\n",
      "insidebox\n",
      "hi, my name is 32. speed: (-0.64473371806452839, -0.29016510797314682) , pos (1072.5, 432.0)Iam 18 frames old, and my probs is 0.6000000000000005\n"
     ]
    },
    {
     "name": "stderr",
     "output_type": "stream",
     "text": [
      "\u001b[A\n",
      " 36%|███▋      | 137/376 [06:34<11:38,  2.92s/it]"
     ]
    },
    {
     "name": "stdout",
     "output_type": "stream",
     "text": [
      "get car\n",
      "insidebox\n",
      "hi, my name is 33. speed: (-1.1289228407686567, 0.068506509847934438) , pos (1125.5, 438.0)Iam 29 frames old, and my probs is 1.1\n",
      "get car\n",
      "insidebox\n",
      "hi, my name is 1. speed: (0.34512304051312664, -0.84154941343622669) , pos (915.5, 444.5)Iam 137 frames old, and my probs is 1.1\n",
      "get car\n",
      "insidebox\n",
      "hi, my name is 36. speed: (0.99320926738643989, -0.13752115200000817) , pos (1035.5, 452.0)Iam 18 frames old, and my probs is 1.1\n"
     ]
    },
    {
     "name": "stderr",
     "output_type": "stream",
     "text": [
      "\u001b[A\n",
      " 37%|███▋      | 138/376 [06:37<11:32,  2.91s/it]"
     ]
    },
    {
     "name": "stdout",
     "output_type": "stream",
     "text": [
      "get car\n",
      "insidebox\n",
      "hi, my name is 33. speed: (-0.67735370446120358, -0.25889609409123382) , pos (1125.5, 436.5)Iam 30 frames old, and my probs is 1.1\n",
      "get car\n",
      "insidebox\n",
      "hi, my name is 1. speed: (0.20707382430786969, -0.50492964806173901) , pos (915.5, 444.5)Iam 138 frames old, and my probs is 1.1\n",
      "get car\n",
      "insidebox\n",
      "hi, my name is 36. speed: (-1.3040744395681312, -0.082512691199999849) , pos (1026.0, 452.0)Iam 19 frames old, and my probs is 1.1\n",
      "get car\n",
      "insidebox\n",
      "hi, my name is 32. speed: (-1.8578934872257937, 3.3839339568107487) , pos (1064.5, 449.5)Iam 19 frames old, and my probs is 0.6000000000000005\n"
     ]
    },
    {
     "name": "stderr",
     "output_type": "stream",
     "text": [
      "\u001b[A\n",
      " 37%|███▋      | 139/376 [06:40<11:28,  2.91s/it]"
     ]
    },
    {
     "name": "stdout",
     "output_type": "stream",
     "text": [
      "get car\n",
      "insidebox\n",
      "hi, my name is 33. speed: (-0.5064122226767207, -0.15533765645473593) , pos (1125.0, 436.5)Iam 31 frames old, and my probs is 1.1\n",
      "get car\n",
      "insidebox\n",
      "hi, my name is 1. speed: (0.4242442945847304, -0.302957788837039) , pos (917.0, 444.5)Iam 139 frames old, and my probs is 1.1\n",
      "get car\n",
      "insidebox\n",
      "insidebox\n",
      "hi, my name is 36. speed: (-0.18244466374085722, -0.54950761471999798) , pos (1029.0, 449.5)Iam 20 frames old, and my probs is 1.1\n",
      "get car\n",
      "insidebox\n",
      "hi, my name is 1. speed: (10.339395435667782, -0.14236623106963123) , pos (967.0, 445.0)Iam 140 frames old, and my probs is 1.2\n"
     ]
    },
    {
     "name": "stderr",
     "output_type": "stream",
     "text": [
      "\u001b[A\n",
      " 37%|███▋      | 140/376 [06:43<11:24,  2.90s/it]"
     ]
    },
    {
     "name": "stdout",
     "output_type": "stream",
     "text": [
      "get car\n",
      "insidebox\n",
      "hi, my name is 33. speed: (-0.30384733360602212, -0.39320259387284484) , pos (1125.0, 435.0)Iam 32 frames old, and my probs is 1.1\n",
      "get car\n",
      "insidebox\n",
      "hi, my name is 1. speed: (-2.2963627385993366, -0.18541973864178179) , pos (924.5, 444.5)Iam 141 frames old, and my probs is 1.1\n",
      "get car\n",
      "insidebox\n",
      "insidebox\n",
      "hi, my name is 36. speed: (-0.10946679824451522, -0.62970456883200421) , pos (1029.0, 448.0)Iam 21 frames old, and my probs is 1.1\n"
     ]
    },
    {
     "name": "stderr",
     "output_type": "stream",
     "text": [
      "\u001b[A\n",
      " 38%|███▊      | 141/376 [06:46<11:18,  2.89s/it]"
     ]
    },
    {
     "name": "stdout",
     "output_type": "stream",
     "text": [
      "get car\n",
      "insidebox\n",
      "hi, my name is 32. speed: (2.1284213025548064, -0.8232132086378332) , pos (1077.0, 442.0)Iam 20 frames old, and my probs is 0.5000000000000007\n",
      "get car\n",
      "insidebox\n",
      "hi, my name is 1. speed: (-1.3778176431596041, 0.38874815681492836) , pos (924.5, 447.0)Iam 142 frames old, and my probs is 1.1\n"
     ]
    },
    {
     "name": "stderr",
     "output_type": "stream",
     "text": [
      "\u001b[A\n",
      " 38%|███▊      | 142/376 [06:49<11:14,  2.88s/it]"
     ]
    },
    {
     "name": "stdout",
     "output_type": "stream",
     "text": [
      "get car\n",
      "insidebox\n",
      "hi, my name is 32. speed: (1.1770527815328657, -0.49392792518270462) , pos (1076.5, 442.0)Iam 21 frames old, and my probs is 0.6000000000000008\n",
      "get car\n",
      "insidebox\n",
      "hi, my name is 1. speed: (-0.82669058589576871, 0.23324889408895738) , pos (924.5, 447.0)Iam 143 frames old, and my probs is 1.1\n"
     ]
    },
    {
     "name": "stderr",
     "output_type": "stream",
     "text": [
      "\u001b[A\n",
      " 38%|███▊      | 143/376 [06:52<11:14,  2.89s/it]"
     ]
    },
    {
     "name": "stdout",
     "output_type": "stream",
     "text": [
      "get car\n",
      "insidebox\n",
      "hi, my name is 32. speed: (0.0062316689197141617, 0.10364324489038246) , pos (1073.0, 444.0)Iam 22 frames old, and my probs is 0.7000000000000008\n",
      "get car\n",
      "insidebox\n",
      "hi, my name is 1. speed: (-0.69601435153745705, 0.13994933645337695) , pos (923.5, 447.0)Iam 144 frames old, and my probs is 1.1\n"
     ]
    },
    {
     "name": "stderr",
     "output_type": "stream",
     "text": [
      "\u001b[A\n",
      " 38%|███▊      | 144/376 [06:54<11:10,  2.89s/it]"
     ]
    },
    {
     "name": "stdout",
     "output_type": "stream",
     "text": [
      "get car\n",
      "insidebox\n",
      "hi, my name is 36. speed: (-2.5000000000000022, -0.40000000000001729) , pos (1016.5, 446.0)Iam 22 frames old, and my probs is 0.8\n"
     ]
    },
    {
     "name": "stderr",
     "output_type": "stream",
     "text": [
      "\u001b[A\n",
      " 39%|███▊      | 145/376 [06:57<11:14,  2.92s/it]"
     ]
    },
    {
     "name": "stdout",
     "output_type": "stream",
     "text": [
      "get car\n",
      "insidebox\n",
      "hi, my name is 36. speed: (-1.5000000000000018, -0.24000000000000704) , pos (1016.5, 446.0)Iam 23 frames old, and my probs is 0.9000000000000001\n"
     ]
    },
    {
     "name": "stderr",
     "output_type": "stream",
     "text": [
      "\u001b[A\n",
      " 39%|███▉      | 146/376 [07:00<11:11,  2.92s/it]"
     ]
    },
    {
     "name": "stdout",
     "output_type": "stream",
     "text": [
      "get car\n",
      "insidebox\n",
      "hi, my name is 36. speed: (-0.60000000000000164, -0.24400000000000382) , pos (1018.0, 445.5)Iam 24 frames old, and my probs is 1.0000000000000002\n"
     ]
    },
    {
     "name": "stderr",
     "output_type": "stream",
     "text": [
      "\u001b[A\n",
      " 39%|███▉      | 147/376 [07:03<11:06,  2.91s/it]"
     ]
    },
    {
     "name": "stdout",
     "output_type": "stream",
     "text": [
      "get car\n",
      "insidebox\n",
      "hi, my name is 36. speed: (-1.8599999999999965, -0.14639999999999742) , pos (1010.5, 445.5)Iam 25 frames old, and my probs is 1.1\n"
     ]
    },
    {
     "name": "stderr",
     "output_type": "stream",
     "text": [
      "\u001b[A\n",
      " 39%|███▉      | 148/376 [07:06<11:03,  2.91s/it]"
     ]
    },
    {
     "name": "stdout",
     "output_type": "stream",
     "text": [
      "get car\n",
      "insidebox\n",
      "hi, my name is 36. speed: (-1.1159999999999948, -0.087840000000003665) , pos (1010.5, 445.5)Iam 26 frames old, and my probs is 1.1\n"
     ]
    },
    {
     "name": "stderr",
     "output_type": "stream",
     "text": [
      "\u001b[A\n",
      " 40%|███▉      | 149/376 [07:09<11:04,  2.93s/it]"
     ]
    },
    {
     "name": "stdout",
     "output_type": "stream",
     "text": [
      "get car\n",
      "insidebox\n",
      "hi, my name is 36. speed: (-0.66959999999999875, -0.35270399999999719) , pos (1010.5, 444.0)Iam 27 frames old, and my probs is 1.1\n"
     ]
    },
    {
     "name": "stderr",
     "output_type": "stream",
     "text": [
      "\u001b[A\n",
      " 40%|███▉      | 150/376 [07:12<10:58,  2.91s/it]"
     ]
    },
    {
     "name": "stdout",
     "output_type": "stream",
     "text": [
      "get car\n",
      "insidebox\n",
      "hi, my name is 36. speed: (-0.50176000000000986, -0.21162239999999438) , pos (1010.0, 444.0)Iam 28 frames old, and my probs is 1.1\n"
     ]
    },
    {
     "name": "stderr",
     "output_type": "stream",
     "text": [
      "\u001b[A\n",
      " 40%|████      | 151/376 [07:15<10:58,  2.93s/it]"
     ]
    },
    {
     "name": "stdout",
     "output_type": "stream",
     "text": [
      "delete 32\n",
      "delete 33\n",
      "get car\n",
      "((963, 394), (1150, 494))\n",
      "new car 38\n",
      "initcar\n",
      "get car\n",
      "insidebox\n",
      "hi, my name is 1. speed: (-1.04318851877008, -0.41195946916266718) , pos (915.5, 445.5)Iam 145 frames old, and my probs is 0.40000000000000013\n",
      "get car\n",
      "insidebox\n",
      "hi, my name is 1. speed: (8.1654491849839346, 0.47043242466986607) , pos (960.5, 449.5)Iam 146 frames old, and my probs is 0.6000000000000001\n"
     ]
    },
    {
     "name": "stderr",
     "output_type": "stream",
     "text": [
      "\u001b[A\n",
      " 40%|████      | 152/376 [07:18<10:57,  2.93s/it]"
     ]
    },
    {
     "name": "stdout",
     "output_type": "stream",
     "text": [
      "get car\n",
      "insidebox\n",
      "hi, my name is 38. speed: (0.0, 0.39999999999999991) , pos (1056.5, 446.0)Iam 1 frames old, and my probs is 0.30000000000000004\n",
      "get car\n",
      "((870, 414), (958, 477))\n",
      "new car 39\n",
      "initcar\n",
      "get car\n",
      "insidebox\n",
      "hi, my name is 1. speed: (4.8992695109903659, 0.58225945480191954) , pos (960.5, 451.0)Iam 147 frames old, and my probs is 0.7000000000000002\n"
     ]
    },
    {
     "name": "stderr",
     "output_type": "stream",
     "text": [
      "\u001b[A\n",
      " 41%|████      | 153/376 [07:21<10:59,  2.96s/it]"
     ]
    },
    {
     "name": "stdout",
     "output_type": "stream",
     "text": [
      "get car\n",
      "insidebox\n",
      "hi, my name is 38. speed: (-0.29999999999999993, -0.25999999999999535) , pos (1055.0, 443.5)Iam 2 frames old, and my probs is 0.4\n",
      "get car\n",
      "insidebox\n",
      "insidebox\n",
      "hi, my name is 39. speed: (0.29999999999999993, 0.0) , pos (915.5, 445.5)Iam 1 frames old, and my probs is 0.30000000000000004\n"
     ]
    },
    {
     "name": "stderr",
     "output_type": "stream",
     "text": [
      "\u001b[A\n",
      " 41%|████      | 154/376 [07:24<10:55,  2.95s/it]"
     ]
    },
    {
     "name": "stdout",
     "output_type": "stream",
     "text": [
      "get car\n",
      "insidebox\n",
      "hi, my name is 38. speed: (-0.18000000000000907, -0.055999999999998162) , pos (1055.0, 444.0)Iam 3 frames old, and my probs is 0.5\n",
      "get car\n",
      "insidebox\n",
      "hi, my name is 39. speed: (0.18000000000000907, 0.0) , pos (915.5, 445.5)Iam 2 frames old, and my probs is 0.4\n"
     ]
    },
    {
     "name": "stderr",
     "output_type": "stream",
     "text": [
      "\u001b[A\n",
      " 41%|████      | 155/376 [07:27<10:56,  2.97s/it]"
     ]
    },
    {
     "name": "stdout",
     "output_type": "stream",
     "text": [
      "get car\n",
      "insidebox\n",
      "hi, my name is 38. speed: (0.19200000000000542, -0.033600000000001906) , pos (1056.5, 444.0)Iam 4 frames old, and my probs is 0.6000000000000001\n",
      "get car\n",
      "((1011, 412), (1015, 412))\n",
      "new car 40\n",
      "initcar\n",
      "get car\n",
      "insidebox\n",
      "hi, my name is 39. speed: (-1.7920000000000051, 0.0) , pos (906.0, 445.5)Iam 3 frames old, and my probs is 0.5\n"
     ]
    },
    {
     "name": "stderr",
     "output_type": "stream",
     "text": [
      "\u001b[A\n",
      " 41%|████▏     | 156/376 [07:30<10:55,  2.98s/it]"
     ]
    },
    {
     "name": "stdout",
     "output_type": "stream",
     "text": [
      "get car\n",
      "insidebox\n",
      "hi, my name is 38. speed: (-0.18479999999999702, -0.020160000000005823) , pos (1055.0, 444.0)Iam 5 frames old, and my probs is 0.7000000000000002\n",
      "get car\n",
      "insidebox\n",
      "hi, my name is 39. speed: (0.82480000000000109, 0.0) , pos (915.5, 445.5)Iam 4 frames old, and my probs is 0.6000000000000001\n"
     ]
    },
    {
     "name": "stderr",
     "output_type": "stream",
     "text": [
      "\u001b[A\n",
      " 42%|████▏     | 157/376 [07:33<10:51,  2.97s/it]"
     ]
    },
    {
     "name": "stdout",
     "output_type": "stream",
     "text": [
      "delete 40\n",
      "get car\n",
      "insidebox\n",
      "hi, my name is 38. speed: (-0.11087999999999849, 0.68790400000000163) , pos (1055.0, 447.5)Iam 6 frames old, and my probs is 0.8000000000000003\n",
      "get car\n",
      "insidebox\n",
      "hi, my name is 39. speed: (1.4948800000000042, 0.49999999999999989) , pos (920.5, 448.0)Iam 5 frames old, and my probs is 0.7000000000000002\n"
     ]
    },
    {
     "name": "stderr",
     "output_type": "stream",
     "text": [
      "\u001b[A\n",
      " 42%|████▏     | 158/376 [07:36<10:44,  2.96s/it]"
     ]
    },
    {
     "name": "stdout",
     "output_type": "stream",
     "text": [
      "get car\n",
      "insidebox\n",
      "hi, my name is 38. speed: (-0.86652800000000818, 0.41274240000000073) , pos (1051.0, 447.5)Iam 7 frames old, and my probs is 0.9000000000000004\n",
      "get car\n",
      "insidebox\n",
      "hi, my name is 39. speed: (0.89692800000001016, -0.19999999999999996) , pos (920.5, 445.5)Iam 6 frames old, and my probs is 0.8000000000000003\n"
     ]
    },
    {
     "name": "stderr",
     "output_type": "stream",
     "text": [
      "\u001b[A\n",
      " 42%|████▏     | 159/376 [07:39<10:40,  2.95s/it]"
     ]
    },
    {
     "name": "stdout",
     "output_type": "stream",
     "text": [
      "get car\n",
      "insidebox\n",
      "hi, my name is 38. speed: (-1.2199168000000031, 0.24764543999999794) , pos (1047.5, 447.5)Iam 8 frames old, and my probs is 1.0000000000000004\n",
      "get car\n",
      "insidebox\n",
      "hi, my name is 39. speed: (0.23815680000000772, -0.12000000000000226) , pos (919.0, 445.5)Iam 7 frames old, and my probs is 0.9000000000000004\n"
     ]
    },
    {
     "name": "stderr",
     "output_type": "stream",
     "text": [
      "\u001b[A\n",
      " 43%|████▎     | 160/376 [07:42<10:40,  2.97s/it]"
     ]
    },
    {
     "name": "stdout",
     "output_type": "stream",
     "text": [
      "delete 1\n",
      "get car\n",
      "insidebox\n",
      "insidebox\n",
      "hi, my name is 38. speed: (-10.231950080000008, -0.55141273599999852) , pos (1000.0, 444.0)Iam 9 frames old, and my probs is 1.1\n"
     ]
    },
    {
     "name": "stderr",
     "output_type": "stream",
     "text": [
      "\u001b[A\n",
      " 43%|████▎     | 161/376 [07:45<10:38,  2.97s/it]"
     ]
    },
    {
     "name": "stdout",
     "output_type": "stream",
     "text": [
      "delete 36\n",
      "get car\n",
      "insidebox\n",
      "hi, my name is 38. speed: (-6.1391700479999969, -0.63084764160000384) , pos (1000.0, 442.5)Iam 10 frames old, and my probs is 1.1\n"
     ]
    },
    {
     "name": "stderr",
     "output_type": "stream",
     "text": [
      "\u001b[A\n",
      " 43%|████▎     | 162/376 [07:48<10:32,  2.95s/it]"
     ]
    },
    {
     "name": "stdout",
     "output_type": "stream",
     "text": [
      "get car\n",
      "insidebox\n",
      "hi, my name is 38. speed: (-3.8835020288000019, -0.47850858496000614) , pos (999.0, 442.0)Iam 11 frames old, and my probs is 1.1\n"
     ]
    },
    {
     "name": "stderr",
     "output_type": "stream",
     "text": [
      "\u001b[A\n",
      " 43%|████▎     | 163/376 [07:50<10:22,  2.92s/it]"
     ]
    },
    {
     "name": "stdout",
     "output_type": "stream",
     "text": [
      "get car\n",
      "insidebox\n",
      "hi, my name is 38. speed: (-2.3301012172800086, -0.58710515097599991) , pos (999.0, 440.5)Iam 12 frames old, and my probs is 1.1\n"
     ]
    },
    {
     "name": "stderr",
     "output_type": "stream",
     "text": [
      "\u001b[A\n",
      " 44%|████▎     | 164/376 [07:53<10:14,  2.90s/it]"
     ]
    },
    {
     "name": "stdout",
     "output_type": "stream",
     "text": [
      "get car\n",
      "insidebox\n",
      "hi, my name is 38. speed: (-1.3980607303680066, -0.052263090585597027) , pos (999.0, 442.0)Iam 13 frames old, and my probs is 1.1\n"
     ]
    },
    {
     "name": "stderr",
     "output_type": "stream",
     "text": [
      "\u001b[A\n",
      " 44%|████▍     | 165/376 [07:56<10:09,  2.89s/it]"
     ]
    },
    {
     "name": "stdout",
     "output_type": "stream",
     "text": [
      "get car\n",
      "insidebox\n",
      "hi, my name is 38. speed: (-1.438836438220805, 0.26864214564864181) , pos (996.0, 443.5)Iam 14 frames old, and my probs is 1.1\n"
     ]
    },
    {
     "name": "stderr",
     "output_type": "stream",
     "text": [
      "\u001b[A\n",
      " 44%|████▍     | 166/376 [07:59<10:14,  2.92s/it]"
     ]
    },
    {
     "name": "stdout",
     "output_type": "stream",
     "text": [
      "get car\n",
      "insidebox\n",
      "hi, my name is 38. speed: (-0.86330186293247468, 0.66118528738918503) , pos (996.0, 446.0)Iam 15 frames old, and my probs is 1.1\n"
     ]
    },
    {
     "name": "stderr",
     "output_type": "stream",
     "text": [
      "\u001b[A\n",
      " 44%|████▍     | 167/376 [08:02<10:06,  2.90s/it]"
     ]
    },
    {
     "name": "stdout",
     "output_type": "stream",
     "text": [
      "get car\n",
      "insidebox\n",
      "hi, my name is 38. speed: (-1.2179811177594735, 0.29671117243351341) , pos (992.5, 445.5)Iam 16 frames old, and my probs is 1.1\n"
     ]
    },
    {
     "name": "stderr",
     "output_type": "stream",
     "text": [
      "\u001b[A\n",
      " 45%|████▍     | 168/376 [08:05<10:00,  2.89s/it]"
     ]
    },
    {
     "name": "stdout",
     "output_type": "stream",
     "text": [
      "get car\n",
      "insidebox\n",
      "hi, my name is 38. speed: (-0.83078867065568884, 0.17802670346010993) , pos (992.0, 445.5)Iam 17 frames old, and my probs is 1.1\n"
     ]
    },
    {
     "name": "stderr",
     "output_type": "stream",
     "text": [
      "\u001b[A\n",
      " 45%|████▍     | 169/376 [08:08<09:56,  2.88s/it]"
     ]
    },
    {
     "name": "stdout",
     "output_type": "stream",
     "text": [
      "delete 39\n",
      "get car\n",
      "insidebox\n",
      "hi, my name is 38. speed: (-0.59847320239341251, 0.10681602207606974) , pos (991.5, 445.5)Iam 18 frames old, and my probs is 1.1\n",
      "get car\n",
      "((870, 422), (872, 451))\n",
      "new car 41\n",
      "initcar\n"
     ]
    },
    {
     "name": "stderr",
     "output_type": "stream",
     "text": [
      "\u001b[A\n",
      " 45%|████▌     | 170/376 [08:11<09:51,  2.87s/it]"
     ]
    },
    {
     "name": "stdout",
     "output_type": "stream",
     "text": [
      "get car\n",
      "insidebox\n",
      "hi, my name is 38. speed: (-0.25908392143605147, 0.16408961324563803) , pos (992.0, 446.0)Iam 19 frames old, and my probs is 1.1\n"
     ]
    },
    {
     "name": "stderr",
     "output_type": "stream",
     "text": [
      "\u001b[A\n",
      " 45%|████▌     | 171/376 [08:13<09:47,  2.87s/it]"
     ]
    },
    {
     "name": "stdout",
     "output_type": "stream",
     "text": [
      "delete 41\n",
      "get car\n",
      "insidebox\n",
      "hi, my name is 38. speed: (-0.1554503528616295, 0.098453767947377507) , pos (992.0, 446.0)Iam 20 frames old, and my probs is 1.1\n"
     ]
    },
    {
     "name": "stderr",
     "output_type": "stream",
     "text": [
      "\u001b[A\n",
      " 46%|████▌     | 172/376 [08:16<09:44,  2.86s/it]"
     ]
    },
    {
     "name": "stdout",
     "output_type": "stream",
     "text": [
      "get car\n",
      "insidebox\n",
      "hi, my name is 38. speed: (1.0067297882830233, 0.059072260768426803) , pos (997.5, 446.0)Iam 21 frames old, and my probs is 1.1\n",
      "get car\n",
      "((883, 414), (894, 464))\n",
      "new car 42\n",
      "initcar\n"
     ]
    },
    {
     "name": "stderr",
     "output_type": "stream",
     "text": [
      "\u001b[A\n",
      " 46%|████▌     | 173/376 [08:19<09:41,  2.86s/it]"
     ]
    },
    {
     "name": "stdout",
     "output_type": "stream",
     "text": [
      "get car\n",
      "insidebox\n",
      "hi, my name is 38. speed: (0.20403787296981957, 0.33544335646106077) , pos (995.5, 447.5)Iam 22 frames old, and my probs is 1.1\n",
      "get car\n",
      "insidebox\n",
      "hi, my name is 42. speed: (0.0, 0.49999999999999989) , pos (888.5, 441.5)Iam 1 frames old, and my probs is 0.30000000000000004\n"
     ]
    },
    {
     "name": "stderr",
     "output_type": "stream",
     "text": [
      "\u001b[A\n",
      " 46%|████▋     | 174/376 [08:22<09:37,  2.86s/it]"
     ]
    },
    {
     "name": "stdout",
     "output_type": "stream",
     "text": [
      "get car\n",
      "insidebox\n",
      "hi, my name is 38. speed: (-1.4775772762181081, -0.098733986123359652) , pos (987.5, 446.0)Iam 23 frames old, and my probs is 1.1\n"
     ]
    },
    {
     "name": "stderr",
     "output_type": "stream",
     "text": [
      "\u001b[A\n",
      " 47%|████▋     | 175/376 [08:25<09:34,  2.86s/it]"
     ]
    },
    {
     "name": "stdout",
     "output_type": "stream",
     "text": [
      "get car\n",
      "insidebox\n",
      "hi, my name is 38. speed: (-0.88654636573086942, -0.15924039167401499) , pos (987.5, 445.5)Iam 24 frames old, and my probs is 1.1\n",
      "get car\n",
      "((880, 426), (881, 438))\n",
      "new car 43\n",
      "initcar\n"
     ]
    },
    {
     "name": "stderr",
     "output_type": "stream",
     "text": [
      "\u001b[A\n",
      " 47%|████▋     | 176/376 [08:28<09:35,  2.88s/it]"
     ]
    },
    {
     "name": "stdout",
     "output_type": "stream",
     "text": [
      "get car\n",
      "((537, 388), (549, 400))\n",
      "new car 44\n",
      "initcar\n",
      "get car\n",
      "insidebox\n",
      "hi, my name is 38. speed: (-0.53192781943852541, -0.39554423500440827) , pos (987.5, 444.0)Iam 25 frames old, and my probs is 1.1\n",
      "get car\n",
      "insidebox\n",
      "hi, my name is 42. speed: (-1.5999999999999996, -0.89999999999999991) , pos (880.5, 436.5)Iam 2 frames old, and my probs is 0.20000000000000004\n"
     ]
    },
    {
     "name": "stderr",
     "output_type": "stream",
     "text": [
      "\u001b[A\n",
      " 47%|████▋     | 177/376 [08:31<09:34,  2.88s/it]"
     ]
    },
    {
     "name": "stdout",
     "output_type": "stream",
     "text": [
      "delete 43\n",
      "get car\n",
      "((537, 375), (549, 400))\n",
      "new car 45\n",
      "initcar\n",
      "get car\n",
      "insidebox\n",
      "hi, my name is 38. speed: (0.98084330833689504, -0.23732654100264222) , pos (994.0, 444.0)Iam 26 frames old, and my probs is 1.1\n",
      "get car\n",
      "insidebox\n",
      "hi, my name is 42. speed: (-0.9599999999999953, -1.0400000000000045) , pos (880.5, 434.0)Iam 3 frames old, and my probs is 0.30000000000000004\n",
      "get car\n",
      "insidebox\n",
      "hi, my name is 42. speed: (0.8320000000000034, 0.4679999999999962) , pos (888.5, 440.5)Iam 4 frames old, and my probs is 0.5\n"
     ]
    },
    {
     "name": "stderr",
     "output_type": "stream",
     "text": [
      "\u001b[A\n",
      " 47%|████▋     | 178/376 [08:34<09:32,  2.89s/it]"
     ]
    },
    {
     "name": "stdout",
     "output_type": "stream",
     "text": [
      "delete 44\n",
      "get car\n",
      "((528, 375), (549, 412))\n",
      "new car 46\n",
      "initcar\n",
      "get car\n",
      "insidebox\n",
      "hi, my name is 38. speed: (0.088505985002127474, -0.14239592460158768) , pos (991.5, 444.0)Iam 27 frames old, and my probs is 1.1\n",
      "get car\n",
      "((880, 422), (881, 445))\n",
      "new car 47\n",
      "initcar\n",
      "get car\n",
      "insidebox\n",
      "hi, my name is 42. speed: (0.49920000000000408, 1.1807999999999932) , pos (888.5, 445.0)Iam 5 frames old, and my probs is 0.6000000000000001\n"
     ]
    },
    {
     "name": "stderr",
     "output_type": "stream",
     "text": [
      "\u001b[A\n",
      " 48%|████▊     | 179/376 [08:36<09:27,  2.88s/it]"
     ]
    },
    {
     "name": "stdout",
     "output_type": "stream",
     "text": [
      "delete 45\n",
      "get car\n",
      "insidebox\n",
      "hi, my name is 46. speed: (0.59999999999999987, 0.0) , pos (541.5, 393.5)Iam 1 frames old, and my probs is 0.30000000000000004\n",
      "get car\n",
      "insidebox\n",
      "hi, my name is 38. speed: (0.053103591001273293, -0.085437554760949927) , pos (991.5, 444.0)Iam 28 frames old, and my probs is 1.1\n",
      "get car\n",
      "insidebox\n",
      "hi, my name is 42. speed: (0.79952000000000845, -0.59152000000000027) , pos (891.0, 438.5)Iam 6 frames old, and my probs is 0.7000000000000002\n"
     ]
    },
    {
     "name": "stderr",
     "output_type": "stream",
     "text": [
      "\u001b[A\n",
      " 48%|████▊     | 180/376 [08:39<09:23,  2.88s/it]"
     ]
    },
    {
     "name": "stdout",
     "output_type": "stream",
     "text": [
      "delete 47\n",
      "get car\n",
      "insidebox\n",
      "hi, my name is 46. speed: (-0.24000000000000449, 0.099999999999999978) , pos (538.5, 394.0)Iam 2 frames old, and my probs is 0.4\n",
      "get car\n",
      "insidebox\n",
      "hi, my name is 38. speed: (-0.068137845399224906, 0.34873746714343434) , pos (991.0, 446.0)Iam 29 frames old, and my probs is 1.1\n",
      "get car\n",
      "insidebox\n",
      "hi, my name is 42. speed: (1.0797120000000009, -0.35491199999999973) , pos (894.0, 438.5)Iam 7 frames old, and my probs is 0.8000000000000003\n",
      "get car\n",
      "insidebox\n",
      "hi, my name is 42. speed: (1.6637696000000006, 0.7160704) , pos (898.0, 443.5)Iam 8 frames old, and my probs is 1.0000000000000002\n"
     ]
    },
    {
     "name": "stderr",
     "output_type": "stream",
     "text": [
      "\u001b[A\n",
      " 48%|████▊     | 181/376 [08:42<09:21,  2.88s/it]"
     ]
    },
    {
     "name": "stdout",
     "output_type": "stream",
     "text": [
      "get car\n",
      "insidebox\n",
      "hi, my name is 46. speed: (0.15599999999999814, 1.2599999999999953) , pos (540.0, 400.0)Iam 3 frames old, and my probs is 0.5\n",
      "get car\n",
      "insidebox\n",
      "hi, my name is 38. speed: (-0.74088270723954408, 0.20924248028605733) , pos (987.5, 446.0)Iam 30 frames old, and my probs is 1.1\n",
      "get car\n",
      "insidebox\n",
      "hi, my name is 42. speed: (-0.40173824000000358, 0.72964224000000433) , pos (891.0, 445.0)Iam 9 frames old, and my probs is 1.1\n"
     ]
    },
    {
     "name": "stderr",
     "output_type": "stream",
     "text": [
      "\u001b[A\n",
      " 48%|████▊     | 182/376 [08:45<09:16,  2.87s/it]"
     ]
    },
    {
     "name": "stdout",
     "output_type": "stream",
     "text": [
      "get car\n",
      "insidebox\n",
      "hi, my name is 46. speed: (-0.2063999999999912, 0.75599999999999812) , pos (538.5, 400.0)Iam 4 frames old, and my probs is 0.6000000000000001\n",
      "get car\n",
      "((512, 388), (513, 400))\n",
      "new car 48\n",
      "initcar\n",
      "get car\n",
      "insidebox\n",
      "hi, my name is 38. speed: (-0.94452962434373378, -0.27445451182836128) , pos (985.0, 444.0)Iam 31 frames old, and my probs is 1.1\n"
     ]
    },
    {
     "name": "stderr",
     "output_type": "stream",
     "text": [
      "\u001b[A\n",
      " 49%|████▊     | 183/376 [08:48<09:12,  2.86s/it]"
     ]
    },
    {
     "name": "stdout",
     "output_type": "stream",
     "text": [
      "get car\n",
      "insidebox\n",
      "hi, my name is 46. speed: (-0.72383999999998672, 0.45360000000000422) , pos (535.5, 400.0)Iam 5 frames old, and my probs is 0.7000000000000002\n",
      "get car\n",
      "insidebox\n",
      "hi, my name is 38. speed: (-0.6667177746062326, -0.1646727070970157) , pos (984.5, 444.0)Iam 32 frames old, and my probs is 1.1\n",
      "get car\n",
      "insidebox\n",
      "hi, my name is 42. speed: (0.43930470399999133, 0.2918568959999906) , pos (894.0, 445.0)Iam 10 frames old, and my probs is 1.0\n"
     ]
    },
    {
     "name": "stderr",
     "output_type": "stream",
     "text": [
      "\u001b[A\n",
      " 49%|████▉     | 184/376 [08:51<09:08,  2.86s/it]"
     ]
    },
    {
     "name": "stdout",
     "output_type": "stream",
     "text": [
      "delete 48\n",
      "get car\n",
      "insidebox\n",
      "hi, my name is 46. speed: (-1.13430399999999, -0.92783999999999511) , pos (532.0, 394.0)Iam 6 frames old, and my probs is 0.8000000000000003\n",
      "get car\n",
      "insidebox\n",
      "hi, my name is 38. speed: (-0.400030664763738, -0.09880362425821311) , pos (984.5, 444.0)Iam 33 frames old, and my probs is 1.1\n",
      "get car\n",
      "insidebox\n",
      "hi, my name is 42. speed: (0.26358282240000563, 0.17511413759998992) , pos (894.0, 445.0)Iam 11 frames old, and my probs is 1.1\n"
     ]
    },
    {
     "name": "stderr",
     "output_type": "stream",
     "text": [
      "\u001b[A\n",
      " 49%|████▉     | 185/376 [08:54<09:05,  2.86s/it]"
     ]
    },
    {
     "name": "stdout",
     "output_type": "stream",
     "text": [
      "get car\n",
      "insidebox\n",
      "hi, my name is 46. speed: (-0.98058239999998342, -0.55670399999999554) , pos (530.5, 394.0)Iam 7 frames old, and my probs is 0.9000000000000004\n",
      "get car\n",
      "insidebox\n",
      "hi, my name is 38. speed: (-0.24001839885823248, 0.34071782544507134) , pos (984.5, 446.0)Iam 34 frames old, and my probs is 1.1\n",
      "get car\n",
      "insidebox\n",
      "hi, my name is 42. speed: (0.15814969343999385, 0.10506848255999951) , pos (894.0, 445.0)Iam 12 frames old, and my probs is 1.1\n"
     ]
    },
    {
     "name": "stderr",
     "output_type": "stream",
     "text": [
      "\u001b[A\n",
      " 49%|████▉     | 186/376 [08:56<09:01,  2.85s/it]"
     ]
    },
    {
     "name": "stdout",
     "output_type": "stream",
     "text": [
      "get car\n",
      "insidebox\n",
      "hi, my name is 46. speed: (-0.58834943999998623, -0.33402240000000294) , pos (530.5, 394.0)Iam 8 frames old, and my probs is 1.0000000000000004\n",
      "get car\n",
      "insidebox\n",
      "hi, my name is 38. speed: (-0.14401103931494941, 0.50443069526703765) , pos (984.5, 447.5)Iam 35 frames old, and my probs is 1.1\n",
      "get car\n",
      "insidebox\n",
      "hi, my name is 42. speed: (0.094889816063993243, 0.063041089535999587) , pos (894.0, 445.0)Iam 13 frames old, and my probs is 1.1\n"
     ]
    },
    {
     "name": "stderr",
     "output_type": "stream",
     "text": [
      "\u001b[A\n",
      " 50%|████▉     | 187/376 [08:59<09:02,  2.87s/it]"
     ]
    },
    {
     "name": "stdout",
     "output_type": "stream",
     "text": [
      "get car\n",
      "insidebox\n",
      "hi, my name is 46. speed: (-1.3530096639999885, -0.30041344000000625) , pos (525.5, 393.5)Iam 9 frames old, and my probs is 1.1\n",
      "get car\n",
      "insidebox\n",
      "hi, my name is 38. speed: (-0.086406623588973039, 0.30265841716022085) , pos (984.5, 447.5)Iam 36 frames old, and my probs is 1.1\n",
      "get car\n",
      "insidebox\n",
      "hi, my name is 42. speed: (0.056933889638398044, 0.5378246537215996) , pos (894.0, 447.5)Iam 14 frames old, and my probs is 1.1\n"
     ]
    },
    {
     "name": "stderr",
     "output_type": "stream",
     "text": [
      "\u001b[A\n",
      " 50%|█████     | 188/376 [09:02<08:58,  2.87s/it]"
     ]
    },
    {
     "name": "stdout",
     "output_type": "stream",
     "text": [
      "get car\n",
      "insidebox\n",
      "hi, my name is 38. speed: (-1.3518439741533725, 0.18159505029613338) , pos (978.0, 447.5)Iam 37 frames old, and my probs is 1.1\n"
     ]
    },
    {
     "name": "stderr",
     "output_type": "stream",
     "text": [
      "\u001b[A\n",
      " 50%|█████     | 189/376 [09:05<08:55,  2.86s/it]"
     ]
    },
    {
     "name": "stdout",
     "output_type": "stream",
     "text": [
      "get car\n",
      "insidebox\n",
      "hi, my name is 38. speed: (-0.31110638449203298, 0.20895703017767614) , pos (980.5, 448.0)Iam 38 frames old, and my probs is 1.1\n"
     ]
    },
    {
     "name": "stderr",
     "output_type": "stream",
     "text": [
      "\u001b[A\n",
      " 51%|█████     | 190/376 [09:08<08:53,  2.87s/it]"
     ]
    },
    {
     "name": "stdout",
     "output_type": "stream",
     "text": [
      "get car\n",
      "insidebox\n",
      "hi, my name is 38. speed: (0.41333616930478623, 0.12537421810660943) , pos (983.5, 448.0)Iam 39 frames old, and my probs is 1.1\n"
     ]
    },
    {
     "name": "stderr",
     "output_type": "stream",
     "text": [
      "\u001b[A\n",
      " 51%|█████     | 191/376 [09:11<08:50,  2.87s/it]"
     ]
    },
    {
     "name": "stdout",
     "output_type": "stream",
     "text": [
      "get car\n",
      "insidebox\n",
      "hi, my name is 38. speed: (0.44800170158287211, 0.07522453086396183) , pos (984.5, 448.0)Iam 40 frames old, and my probs is 1.1\n"
     ]
    },
    {
     "name": "stderr",
     "output_type": "stream",
     "text": [
      "\u001b[A\n",
      " 51%|█████     | 192/376 [09:14<08:47,  2.87s/it]"
     ]
    },
    {
     "name": "stdout",
     "output_type": "stream",
     "text": [
      "get car\n",
      "insidebox\n",
      "hi, my name is 38. speed: (0.26880102094973268, 0.045134718518374035) , pos (984.5, 448.0)Iam 41 frames old, and my probs is 1.1\n"
     ]
    },
    {
     "name": "stderr",
     "output_type": "stream",
     "text": [
      "\u001b[A\n",
      " 51%|█████▏    | 193/376 [09:16<08:43,  2.86s/it]"
     ]
    },
    {
     "name": "stdout",
     "output_type": "stream",
     "text": [
      "get car\n",
      "insidebox\n",
      "hi, my name is 38. speed: (0.16128061256984713, 0.027080831111019693) , pos (984.5, 448.0)Iam 42 frames old, and my probs is 1.1\n"
     ]
    },
    {
     "name": "stderr",
     "output_type": "stream",
     "text": [
      "\u001b[A\n",
      " 52%|█████▏    | 194/376 [09:19<08:41,  2.87s/it]"
     ]
    },
    {
     "name": "stdout",
     "output_type": "stream",
     "text": [
      "get car\n",
      "insidebox\n",
      "hi, my name is 38. speed: (-0.70323163245809006, 0.41624849866661701) , pos (980.5, 450.0)Iam 43 frames old, and my probs is 1.1\n"
     ]
    },
    {
     "name": "stderr",
     "output_type": "stream",
     "text": [
      "\u001b[A\n",
      " 52%|█████▏    | 195/376 [09:22<08:38,  2.86s/it]"
     ]
    },
    {
     "name": "stdout",
     "output_type": "stream",
     "text": [
      "get car\n",
      "insidebox\n",
      "hi, my name is 38. speed: (-1.6219389794748436, 0.24974909919996996) , pos (974.5, 450.0)Iam 44 frames old, and my probs is 1.1\n"
     ]
    },
    {
     "name": "stderr",
     "output_type": "stream",
     "text": [
      "\u001b[A\n",
      " 52%|█████▏    | 196/376 [09:25<08:34,  2.86s/it]"
     ]
    },
    {
     "name": "stdout",
     "output_type": "stream",
     "text": [
      "get car\n",
      "insidebox\n",
      "hi, my name is 38. speed: (-2.6731633876849021, 0.14984945951998405) , pos (966.0, 450.0)Iam 45 frames old, and my probs is 1.1\n"
     ]
    },
    {
     "name": "stderr",
     "output_type": "stream",
     "text": [
      "\u001b[A\n",
      " 52%|█████▏    | 197/376 [09:28<08:36,  2.88s/it]"
     ]
    },
    {
     "name": "stdout",
     "output_type": "stream",
     "text": [
      "get car\n",
      "insidebox\n",
      "hi, my name is 38. speed: (-1.6038980326109429, 0.089909675711987519) , pos (966.0, 450.0)Iam 46 frames old, and my probs is 1.1\n"
     ]
    },
    {
     "name": "stderr",
     "output_type": "stream",
     "text": [
      "\u001b[A\n",
      " 53%|█████▎    | 198/376 [09:31<08:32,  2.88s/it]"
     ]
    },
    {
     "name": "stdout",
     "output_type": "stream",
     "text": [
      "delete 42\n",
      "delete 46\n",
      "get car\n",
      "insidebox\n",
      "hi, my name is 38. speed: (-0.36233881956657188, 0.053945805427197013) , pos (969.0, 450.0)Iam 47 frames old, and my probs is 1.1\n"
     ]
    },
    {
     "name": "stderr",
     "output_type": "stream",
     "text": [
      "\u001b[A\n",
      " 53%|█████▎    | 199/376 [09:34<08:28,  2.87s/it]"
     ]
    },
    {
     "name": "stdout",
     "output_type": "stream",
     "text": [
      "get car\n",
      "insidebox\n",
      "hi, my name is 38. speed: (-0.21740329173993417, 0.032367483256319537) , pos (969.0, 450.0)Iam 48 frames old, and my probs is 1.1\n"
     ]
    },
    {
     "name": "stderr",
     "output_type": "stream",
     "text": [
      "\u001b[A\n",
      " 53%|█████▎    | 200/376 [09:37<08:24,  2.87s/it]"
     ]
    },
    {
     "name": "stdout",
     "output_type": "stream",
     "text": [
      "get car\n",
      "insidebox\n",
      "hi, my name is 38. speed: (0.26955802495604653, 0.019420489953788235) , pos (971.0, 450.0)Iam 49 frames old, and my probs is 1.1\n"
     ]
    },
    {
     "name": "stderr",
     "output_type": "stream",
     "text": [
      "\u001b[A\n",
      " 53%|█████▎    | 201/376 [09:39<08:22,  2.87s/it]"
     ]
    },
    {
     "name": "stdout",
     "output_type": "stream",
     "text": [
      "get car\n",
      "insidebox\n",
      "hi, my name is 38. speed: (0.76173481497362894, 0.011652293972270153) , pos (974.0, 450.0)Iam 50 frames old, and my probs is 1.1\n"
     ]
    },
    {
     "name": "stderr",
     "output_type": "stream",
     "text": [
      "\u001b[A\n",
      " 54%|█████▎    | 202/376 [09:42<08:19,  2.87s/it]"
     ]
    },
    {
     "name": "stdout",
     "output_type": "stream",
     "text": [
      "get car\n",
      "insidebox\n",
      "hi, my name is 38. speed: (0.45704088898418749, 0.0069913763833666809) , pos (974.0, 450.0)Iam 51 frames old, and my probs is 1.1\n"
     ]
    },
    {
     "name": "stderr",
     "output_type": "stream",
     "text": [
      "\u001b[A\n",
      " 54%|█████▍    | 203/376 [09:45<08:16,  2.87s/it]"
     ]
    },
    {
     "name": "stdout",
     "output_type": "stream",
     "text": [
      "get car\n",
      "insidebox\n",
      "hi, my name is 38. speed: (-0.32577546660949747, -0.095805174169983132) , pos (971.0, 449.5)Iam 52 frames old, and my probs is 1.1\n"
     ]
    },
    {
     "name": "stderr",
     "output_type": "stream",
     "text": [
      "\u001b[A\n",
      " 54%|█████▍    | 204/376 [09:48<08:12,  2.86s/it]"
     ]
    },
    {
     "name": "stdout",
     "output_type": "stream",
     "text": [
      "get car\n",
      "insidebox\n",
      "hi, my name is 38. speed: (-0.19546527996570656, -0.057483104501990137) , pos (971.0, 449.5)Iam 53 frames old, and my probs is 1.1\n",
      "get car\n",
      "((880, 426), (881, 438))\n",
      "new car 49\n",
      "initcar\n"
     ]
    },
    {
     "name": "stderr",
     "output_type": "stream",
     "text": [
      "\u001b[A\n",
      " 55%|█████▍    | 205/376 [09:51<08:10,  2.87s/it]"
     ]
    },
    {
     "name": "stdout",
     "output_type": "stream",
     "text": [
      "get car\n",
      "insidebox\n",
      "hi, my name is 38. speed: (-0.41727916797943032, -0.034489862701189734) , pos (969.5, 449.5)Iam 54 frames old, and my probs is 1.1\n"
     ]
    },
    {
     "name": "stderr",
     "output_type": "stream",
     "text": [
      "\u001b[A\n",
      " 55%|█████▍    | 206/376 [09:54<08:07,  2.87s/it]"
     ]
    },
    {
     "name": "stdout",
     "output_type": "stream",
     "text": [
      "delete 49\n",
      "get car\n",
      "insidebox\n",
      "hi, my name is 38. speed: (-0.25036750078764974, -0.020693917620710364) , pos (969.5, 449.5)Iam 55 frames old, and my probs is 1.1\n",
      "get car\n",
      "((153, 401), (171, 425))\n",
      "new car 50\n",
      "initcar\n"
     ]
    },
    {
     "name": "stderr",
     "output_type": "stream",
     "text": [
      "\u001b[A\n",
      " 55%|█████▌    | 207/376 [09:57<08:03,  2.86s/it]"
     ]
    },
    {
     "name": "stdout",
     "output_type": "stream",
     "text": [
      "get car\n",
      "((134, 388), (171, 444))\n",
      "new car 51\n",
      "initcar\n",
      "get car\n",
      "insidebox\n",
      "hi, my name is 38. speed: (0.34977949952741227, -0.012416350572430257) , pos (972.0, 449.5)Iam 56 frames old, and my probs is 1.1\n"
     ]
    },
    {
     "name": "stderr",
     "output_type": "stream",
     "text": [
      "\u001b[A\n",
      " 55%|█████▌    | 208/376 [10:00<08:02,  2.87s/it]"
     ]
    },
    {
     "name": "stdout",
     "output_type": "stream",
     "text": [
      "delete 50\n",
      "get car\n",
      "insidebox\n",
      "hi, my name is 51. speed: (-1.8999999999999995, 0.0) , pos (143.0, 416.0)Iam 1 frames old, and my probs is 0.30000000000000004\n",
      "get car\n",
      "insidebox\n",
      "hi, my name is 38. speed: (0.20986769971645824, -0.40744981034345679) , pos (972.0, 447.5)Iam 57 frames old, and my probs is 1.1\n"
     ]
    },
    {
     "name": "stderr",
     "output_type": "stream",
     "text": [
      "\u001b[A\n",
      " 56%|█████▌    | 209/376 [10:02<08:02,  2.89s/it]"
     ]
    },
    {
     "name": "stdout",
     "output_type": "stream",
     "text": [
      "get car\n",
      "insidebox\n",
      "hi, my name is 51. speed: (-2.8399999999999981, -1.1999999999999997) , pos (134.5, 410.0)Iam 2 frames old, and my probs is 0.4\n",
      "get car\n",
      "insidebox\n",
      "hi, my name is 38. speed: (-0.87407938017012976, -0.24446988620607529) , pos (967.0, 447.5)Iam 58 frames old, and my probs is 1.1\n"
     ]
    },
    {
     "name": "stderr",
     "output_type": "stream",
     "text": [
      "\u001b[A\n",
      " 56%|█████▌    | 210/376 [10:05<07:57,  2.87s/it]"
     ]
    },
    {
     "name": "stdout",
     "output_type": "stream",
     "text": [
      "get car\n",
      "insidebox\n",
      "hi, my name is 51. speed: (-1.9039999999999979, -0.020000000000002349) , pos (133.5, 413.5)Iam 3 frames old, and my probs is 0.5\n",
      "get car\n",
      "insidebox\n",
      "hi, my name is 38. speed: (-0.72444762810208629, -0.14668193172365071) , pos (966.0, 447.5)Iam 59 frames old, and my probs is 1.1\n"
     ]
    },
    {
     "name": "stderr",
     "output_type": "stream",
     "text": [
      "\u001b[A\n",
      " 56%|█████▌    | 211/376 [10:08<07:53,  2.87s/it]"
     ]
    },
    {
     "name": "stdout",
     "output_type": "stream",
     "text": [
      "get car\n",
      "insidebox\n",
      "hi, my name is 51. speed: (-3.0423999999999989, 1.1879999999999944) , pos (124.0, 419.5)Iam 4 frames old, and my probs is 0.6000000000000001\n",
      "get car\n",
      "insidebox\n",
      "hi, my name is 38. speed: (-0.43466857686124949, -0.088009159034188031) , pos (966.0, 447.5)Iam 60 frames old, and my probs is 1.1\n"
     ]
    },
    {
     "name": "stderr",
     "output_type": "stream",
     "text": [
      "\u001b[A\n",
      " 56%|█████▋    | 212/376 [10:11<07:49,  2.86s/it]"
     ]
    },
    {
     "name": "stdout",
     "output_type": "stream",
     "text": [
      "get car\n",
      "insidebox\n",
      "hi, my name is 51. speed: (-3.9254399999999987, -0.58720000000000161) , pos (113.5, 413.0)Iam 5 frames old, and my probs is 0.7000000000000002\n",
      "get car\n",
      "insidebox\n",
      "hi, my name is 38. speed: (-0.86080114611675684, -0.052805495420513174) , pos (963.0, 447.5)Iam 61 frames old, and my probs is 1.1\n"
     ]
    },
    {
     "name": "stderr",
     "output_type": "stream",
     "text": [
      "\u001b[A\n",
      " 57%|█████▋    | 213/376 [10:14<07:46,  2.86s/it]"
     ]
    },
    {
     "name": "stdout",
     "output_type": "stream",
     "text": [
      "get car\n",
      "insidebox\n",
      "hi, my name is 51. speed: (-3.1552640000000003, -0.95232000000000205) , pos (109.5, 410.0)Iam 6 frames old, and my probs is 0.8000000000000003\n",
      "get car\n",
      "insidebox\n",
      "hi, my name is 38. speed: (-1.3164806876700599, 0.068316702747689514) , pos (959.0, 448.0)Iam 62 frames old, and my probs is 1.1\n"
     ]
    },
    {
     "name": "stderr",
     "output_type": "stream",
     "text": [
      "\u001b[A\n",
      " 57%|█████▋    | 214/376 [10:17<07:44,  2.87s/it]"
     ]
    },
    {
     "name": "stdout",
     "output_type": "stream",
     "text": [
      "get car\n",
      "insidebox\n",
      "hi, my name is 51. speed: (-2.2931583999999998, -0.67139200000000443) , pos (107.5, 409.5)Iam 7 frames old, and my probs is 0.9000000000000004\n",
      "get car\n",
      "insidebox\n",
      "hi, my name is 38. speed: (-0.78988841260204068, 0.040990021648618487) , pos (959.0, 448.0)Iam 63 frames old, and my probs is 1.1\n"
     ]
    },
    {
     "name": "stderr",
     "output_type": "stream",
     "text": [
      "\u001b[A\n",
      " 57%|█████▋    | 215/376 [10:20<07:42,  2.87s/it]"
     ]
    },
    {
     "name": "stdout",
     "output_type": "stream",
     "text": [
      "get car\n",
      "insidebox\n",
      "hi, my name is 51. speed: (-2.0758950400000007, 0.29716480000000145) , pos (104.0, 413.0)Iam 8 frames old, and my probs is 1.0000000000000004\n",
      "get car\n",
      "insidebox\n",
      "hi, my name is 38. speed: (-0.87393304756121903, 0.42459401298917254) , pos (957.0, 450.0)Iam 64 frames old, and my probs is 1.1\n"
     ]
    },
    {
     "name": "stderr",
     "output_type": "stream",
     "text": [
      "\u001b[A\n",
      " 57%|█████▋    | 216/376 [10:23<07:39,  2.87s/it]"
     ]
    },
    {
     "name": "stdout",
     "output_type": "stream",
     "text": [
      "get car\n",
      "insidebox\n",
      "hi, my name is 38. speed: (-0.42435982853673632, 0.25475640779350028) , pos (957.5, 450.0)Iam 65 frames old, and my probs is 1.1\n",
      "get car\n",
      "insidebox\n",
      "hi, my name is 51. speed: (-2.2455370239999994, -1.1217011200000022) , pos (99.0, 406.5)Iam 9 frames old, and my probs is 1.1\n",
      "get car\n",
      "insidebox\n",
      "hi, my name is 51. speed: (-0.19642961919999991, -0.8973608960000018) , pos (107.0, 406.5)Iam 10 frames old, and my probs is 1.2\n",
      "get car\n",
      "insidebox\n",
      "hi, my name is 51. speed: (0.9428563046399997, -0.11788871680000157) , pos (112.5, 409.5)Iam 11 frames old, and my probs is 1.2\n",
      "get car\n",
      "((89, 414), (94, 425))\n",
      "new car 52\n",
      "initcar\n",
      "get car\n",
      "((96, 414), (102, 425))\n",
      "new car 53\n",
      "initcar\n"
     ]
    },
    {
     "name": "stderr",
     "output_type": "stream",
     "text": [
      "\u001b[A\n",
      " 58%|█████▊    | 217/376 [10:25<07:35,  2.86s/it]"
     ]
    },
    {
     "name": "stdout",
     "output_type": "stream",
     "text": [
      "get car\n",
      "insidebox\n",
      "hi, my name is 38. speed: (-0.95461589712205019, -0.24714615532389556) , pos (954.0, 448.0)Iam 66 frames old, and my probs is 1.1\n"
     ]
    },
    {
     "name": "stderr",
     "output_type": "stream",
     "text": [
      "\u001b[A\n",
      " 58%|█████▊    | 218/376 [10:28<07:34,  2.87s/it]"
     ]
    },
    {
     "name": "stdout",
     "output_type": "stream",
     "text": [
      "delete 52\n",
      "delete 53\n",
      "get car\n",
      "insidebox\n",
      "hi, my name is 38. speed: (-0.5727695382732324, -0.14828769319433854) , pos (954.0, 448.0)Iam 67 frames old, and my probs is 1.1\n"
     ]
    },
    {
     "name": "stderr",
     "output_type": "stream",
     "text": [
      "\u001b[A\n",
      " 58%|█████▊    | 219/376 [10:31<07:31,  2.88s/it]"
     ]
    },
    {
     "name": "stdout",
     "output_type": "stream",
     "text": [
      "get car\n",
      "insidebox\n",
      "hi, my name is 38. speed: (-0.34366172296395037, -0.088972615916604089) , pos (954.0, 448.0)Iam 68 frames old, and my probs is 1.1\n"
     ]
    },
    {
     "name": "stderr",
     "output_type": "stream",
     "text": [
      "\u001b[A\n",
      " 59%|█████▊    | 220/376 [10:34<07:27,  2.87s/it]"
     ]
    },
    {
     "name": "stdout",
     "output_type": "stream",
     "text": [
      "get car\n",
      "insidebox\n",
      "hi, my name is 38. speed: (-0.20619703377837442, -0.053383569549965509) , pos (954.0, 448.0)Iam 69 frames old, and my probs is 1.1\n"
     ]
    },
    {
     "name": "stderr",
     "output_type": "stream",
     "text": [
      "\u001b[A\n",
      " 59%|█████▉    | 221/376 [10:37<07:23,  2.86s/it]"
     ]
    },
    {
     "name": "stdout",
     "output_type": "stream",
     "text": [
      "get car\n",
      "insidebox\n",
      "hi, my name is 38. speed: (-0.42371822026702338, -0.13203014172997946) , pos (952.5, 447.5)Iam 70 frames old, and my probs is 1.1\n"
     ]
    },
    {
     "name": "stderr",
     "output_type": "stream",
     "text": [
      "\u001b[A\n",
      " 59%|█████▉    | 222/376 [10:40<07:20,  2.86s/it]"
     ]
    },
    {
     "name": "stdout",
     "output_type": "stream",
     "text": [
      "get car\n",
      "insidebox\n",
      "hi, my name is 38. speed: (-1.2542309321602174, -0.079218085037992353) , pos (947.5, 447.5)Iam 71 frames old, and my probs is 1.1\n"
     ]
    },
    {
     "name": "stderr",
     "output_type": "stream",
     "text": [
      "\u001b[A\n",
      " 59%|█████▉    | 223/376 [10:43<07:19,  2.88s/it]"
     ]
    },
    {
     "name": "stdout",
     "output_type": "stream",
     "text": [
      "get car\n",
      "insidebox\n",
      "hi, my name is 38. speed: (-0.75253855929612878, -0.047530851022792336) , pos (947.5, 447.5)Iam 72 frames old, and my probs is 1.1\n"
     ]
    },
    {
     "name": "stderr",
     "output_type": "stream",
     "text": [
      "\u001b[A\n",
      " 60%|█████▉    | 224/376 [10:46<07:20,  2.90s/it]"
     ]
    },
    {
     "name": "stdout",
     "output_type": "stream",
     "text": [
      "get car\n",
      "insidebox\n",
      "hi, my name is 38. speed: (-0.45152313557768053, -0.028518510613679767) , pos (947.5, 447.5)Iam 73 frames old, and my probs is 1.1\n"
     ]
    },
    {
     "name": "stderr",
     "output_type": "stream",
     "text": [
      "\u001b[A\n",
      " 60%|█████▉    | 225/376 [10:48<07:15,  2.88s/it]"
     ]
    },
    {
     "name": "stdout",
     "output_type": "stream",
     "text": [
      "get car\n",
      "insidebox\n",
      "hi, my name is 38. speed: (-0.27091388134661543, -0.017111106368202254) , pos (947.5, 447.5)Iam 74 frames old, and my probs is 1.1\n"
     ]
    },
    {
     "name": "stderr",
     "output_type": "stream",
     "text": [
      "\u001b[A\n",
      " 60%|██████    | 226/376 [10:51<07:11,  2.88s/it]"
     ]
    },
    {
     "name": "stdout",
     "output_type": "stream",
     "text": [
      "get car\n",
      "insidebox\n",
      "hi, my name is 38. speed: (-0.16254832880797496, -0.010266663820923689) , pos (947.5, 447.5)Iam 75 frames old, and my probs is 1.1\n"
     ]
    },
    {
     "name": "stderr",
     "output_type": "stream",
     "text": [
      "\u001b[A\n",
      " 60%|██████    | 227/376 [10:54<07:07,  2.87s/it]"
     ]
    },
    {
     "name": "stdout",
     "output_type": "stream",
     "text": [
      "delete 51\n",
      "get car\n",
      "insidebox\n",
      "hi, my name is 38. speed: (-0.097528997284794097, -0.0061599982925560825) , pos (947.5, 447.5)Iam 76 frames old, and my probs is 1.1\n"
     ]
    },
    {
     "name": "stderr",
     "output_type": "stream",
     "text": [
      "\u001b[A\n",
      " 61%|██████    | 228/376 [10:57<07:03,  2.86s/it]"
     ]
    },
    {
     "name": "stdout",
     "output_type": "stream",
     "text": [
      "get car\n",
      "insidebox\n",
      "hi, my name is 38. speed: (0.3414826016291298, -0.0036959989755328713) , pos (949.5, 447.5)Iam 77 frames old, and my probs is 1.1\n"
     ]
    },
    {
     "name": "stderr",
     "output_type": "stream",
     "text": [
      "\u001b[A\n",
      " 61%|██████    | 229/376 [11:00<07:02,  2.87s/it]"
     ]
    },
    {
     "name": "stdout",
     "output_type": "stream",
     "text": [
      "get car\n",
      "insidebox\n",
      "hi, my name is 38. speed: (0.20488956097748751, -0.0022175993853145526) , pos (949.5, 447.5)Iam 78 frames old, and my probs is 1.1\n"
     ]
    },
    {
     "name": "stderr",
     "output_type": "stream",
     "text": [
      "\u001b[A\n",
      " 61%|██████    | 230/376 [11:03<07:01,  2.88s/it]"
     ]
    },
    {
     "name": "stdout",
     "output_type": "stream",
     "text": [
      "get car\n",
      "insidebox\n",
      "hi, my name is 38. speed: (0.42293373658650013, -0.0013305596311936905) , pos (951.0, 447.5)Iam 79 frames old, and my probs is 1.1\n"
     ]
    },
    {
     "name": "stderr",
     "output_type": "stream",
     "text": [
      "\u001b[A\n",
      " 61%|██████▏   | 231/376 [11:06<06:56,  2.87s/it]"
     ]
    },
    {
     "name": "stdout",
     "output_type": "stream",
     "text": [
      "get car\n",
      "insidebox\n",
      "hi, my name is 38. speed: (0.053760241951897214, 0.399201664221282) , pos (950.0, 449.5)Iam 80 frames old, and my probs is 1.1\n"
     ]
    },
    {
     "name": "stderr",
     "output_type": "stream",
     "text": [
      "\u001b[A\n",
      " 62%|██████▏   | 232/376 [11:09<06:55,  2.88s/it]"
     ]
    },
    {
     "name": "stdout",
     "output_type": "stream",
     "text": [
      "get car\n",
      "insidebox\n",
      "hi, my name is 38. speed: (0.032256145171145084, 0.23952099853277239) , pos (950.0, 449.5)Iam 81 frames old, and my probs is 1.1\n"
     ]
    },
    {
     "name": "stderr",
     "output_type": "stream",
     "text": [
      "\u001b[A\n",
      " 62%|██████▏   | 233/376 [11:11<06:50,  2.87s/it]"
     ]
    },
    {
     "name": "stdout",
     "output_type": "stream",
     "text": [
      "get car\n",
      "insidebox\n",
      "hi, my name is 38. speed: (0.51935368710269236, 0.14371259911966144) , pos (952.5, 449.5)Iam 82 frames old, and my probs is 1.1\n"
     ]
    },
    {
     "name": "stderr",
     "output_type": "stream",
     "text": [
      "\u001b[A\n",
      " 62%|██████▏   | 234/376 [11:14<06:46,  2.86s/it]"
     ]
    },
    {
     "name": "stdout",
     "output_type": "stream",
     "text": [
      "get car\n",
      "insidebox\n",
      "hi, my name is 38. speed: (-0.28838778773838458, 0.086227559471793003) , pos (949.5, 449.5)Iam 83 frames old, and my probs is 1.1\n"
     ]
    },
    {
     "name": "stderr",
     "output_type": "stream",
     "text": [
      "\u001b[A\n",
      " 62%|██████▎   | 235/376 [11:17<06:44,  2.87s/it]"
     ]
    },
    {
     "name": "stdout",
     "output_type": "stream",
     "text": [
      "get car\n",
      "insidebox\n",
      "hi, my name is 38. speed: (0.22696732735697805, -0.34826346431692717) , pos (951.5, 447.5)Iam 84 frames old, and my probs is 1.1\n"
     ]
    },
    {
     "name": "stderr",
     "output_type": "stream",
     "text": [
      "\u001b[A\n",
      " 63%|██████▎   | 236/376 [11:20<06:40,  2.86s/it]"
     ]
    },
    {
     "name": "stdout",
     "output_type": "stream",
     "text": [
      "get car\n",
      "insidebox\n",
      "hi, my name is 38. speed: (0.63618039641418478, -0.20895807859015877) , pos (954.0, 447.5)Iam 85 frames old, and my probs is 1.1\n"
     ]
    },
    {
     "name": "stderr",
     "output_type": "stream",
     "text": [
      "\u001b[A\n",
      " 63%|██████▎   | 237/376 [11:23<06:37,  2.86s/it]"
     ]
    },
    {
     "name": "stdout",
     "output_type": "stream",
     "text": [
      "get car\n",
      "insidebox\n",
      "hi, my name is 38. speed: (-0.21829176215148149, -0.12537484715409269) , pos (951.0, 447.5)Iam 86 frames old, and my probs is 1.1\n"
     ]
    },
    {
     "name": "stderr",
     "output_type": "stream",
     "text": [
      "\u001b[A\n",
      " 63%|██████▎   | 238/376 [11:26<06:34,  2.86s/it]"
     ]
    },
    {
     "name": "stdout",
     "output_type": "stream",
     "text": [
      "get car\n",
      "insidebox\n",
      "hi, my name is 38. speed: (0.16902494270910792, -0.075224908292455844) , pos (952.5, 447.5)Iam 87 frames old, and my probs is 1.1\n"
     ]
    },
    {
     "name": "stderr",
     "output_type": "stream",
     "text": [
      "\u001b[A\n",
      " 64%|██████▎   | 239/376 [11:29<06:34,  2.88s/it]"
     ]
    },
    {
     "name": "stdout",
     "output_type": "stream",
     "text": [
      "get car\n",
      "insidebox\n",
      "hi, my name is 38. speed: (0.10141496562545776, -0.045134944975473684) , pos (952.5, 447.5)Iam 88 frames old, and my probs is 1.1\n"
     ]
    },
    {
     "name": "stderr",
     "output_type": "stream",
     "text": [
      "\u001b[A\n",
      " 64%|██████▍   | 240/376 [11:31<06:32,  2.89s/it]"
     ]
    },
    {
     "name": "stdout",
     "output_type": "stream",
     "text": [
      "get car\n",
      "insidebox\n",
      "hi, my name is 38. speed: (0.16084897937526449, 0.37291903301471552) , pos (953.0, 449.5)Iam 89 frames old, and my probs is 1.1\n"
     ]
    },
    {
     "name": "stderr",
     "output_type": "stream",
     "text": [
      "\u001b[A\n",
      " 64%|██████▍   | 241/376 [11:34<06:28,  2.88s/it]"
     ]
    },
    {
     "name": "stdout",
     "output_type": "stream",
     "text": [
      "get car\n",
      "insidebox\n",
      "hi, my name is 38. speed: (0.19650938762515965, 0.22375141980882463) , pos (953.5, 449.5)Iam 90 frames old, and my probs is 1.1\n"
     ]
    },
    {
     "name": "stderr",
     "output_type": "stream",
     "text": [
      "\u001b[A\n",
      " 64%|██████▍   | 242/376 [11:37<06:24,  2.87s/it]"
     ]
    },
    {
     "name": "stdout",
     "output_type": "stream",
     "text": [
      "get car\n",
      "insidebox\n",
      "hi, my name is 38. speed: (0.51790563257509648, 0.13425085188529559) , pos (955.5, 449.5)Iam 91 frames old, and my probs is 1.1\n"
     ]
    },
    {
     "name": "stderr",
     "output_type": "stream",
     "text": [
      "\u001b[A\n",
      " 65%|██████▍   | 243/376 [11:40<06:21,  2.87s/it]"
     ]
    },
    {
     "name": "stdout",
     "output_type": "stream",
     "text": [
      "get car\n",
      "insidebox\n",
      "hi, my name is 38. speed: (0.31074337954505854, 0.080550511131182556) , pos (955.5, 449.5)Iam 92 frames old, and my probs is 1.1\n"
     ]
    },
    {
     "name": "stderr",
     "output_type": "stream",
     "text": [
      "\u001b[A\n",
      " 65%|██████▍   | 244/376 [11:43<06:17,  2.86s/it]"
     ]
    },
    {
     "name": "stdout",
     "output_type": "stream",
     "text": [
      "get car\n",
      "insidebox\n",
      "hi, my name is 38. speed: (-0.21355397227297335, 0.04833030667870461) , pos (953.5, 449.5)Iam 93 frames old, and my probs is 1.1\n"
     ]
    },
    {
     "name": "stderr",
     "output_type": "stream",
     "text": [
      "\u001b[A\n",
      " 65%|██████▌   | 245/376 [11:46<06:14,  2.86s/it]"
     ]
    },
    {
     "name": "stdout",
     "output_type": "stream",
     "text": [
      "get car\n",
      "insidebox\n",
      "hi, my name is 38. speed: (-0.12813238336378632, -0.37100181599277199) , pos (953.5, 447.5)Iam 94 frames old, and my probs is 1.1\n"
     ]
    },
    {
     "name": "stderr",
     "output_type": "stream",
     "text": [
      "\u001b[A\n",
      " 65%|██████▌   | 246/376 [11:49<06:11,  2.86s/it]"
     ]
    },
    {
     "name": "stdout",
     "output_type": "stream",
     "text": [
      "get car\n",
      "insidebox\n",
      "hi, my name is 38. speed: (-0.17687943001827361, -0.22260108959566363) , pos (953.0, 447.5)Iam 95 frames old, and my probs is 1.1\n"
     ]
    },
    {
     "name": "stderr",
     "output_type": "stream",
     "text": [
      "\u001b[A\n",
      " 66%|██████▌   | 247/376 [11:51<06:07,  2.85s/it]"
     ]
    },
    {
     "name": "stdout",
     "output_type": "stream",
     "text": [
      "get car\n",
      "insidebox\n",
      "hi, my name is 38. speed: (-0.0061276580109611289, -0.033560653757394004) , pos (953.5, 448.0)Iam 96 frames old, and my probs is 1.1\n"
     ]
    },
    {
     "name": "stderr",
     "output_type": "stream",
     "text": [
      "\u001b[A\n",
      " 66%|██████▌   | 248/376 [11:54<06:05,  2.85s/it]"
     ]
    },
    {
     "name": "stdout",
     "output_type": "stream",
     "text": [
      "get car\n",
      "insidebox\n",
      "hi, my name is 38. speed: (-0.0036765948065696783, -0.12013639225443984) , pos (953.5, 447.5)Iam 97 frames old, and my probs is 1.1\n"
     ]
    },
    {
     "name": "stderr",
     "output_type": "stream",
     "text": [
      "\u001b[A\n",
      " 66%|██████▌   | 249/376 [11:57<06:02,  2.85s/it]"
     ]
    },
    {
     "name": "stdout",
     "output_type": "stream",
     "text": [
      "get car\n",
      "insidebox\n",
      "hi, my name is 38. speed: (-0.40220595688393157, -0.37208183535266431) , pos (951.5, 446.0)Iam 98 frames old, and my probs is 1.1\n"
     ]
    },
    {
     "name": "stderr",
     "output_type": "stream",
     "text": [
      "\u001b[A\n",
      " 66%|██████▋   | 250/376 [12:00<05:58,  2.85s/it]"
     ]
    },
    {
     "name": "stdout",
     "output_type": "stream",
     "text": [
      "get car\n",
      "insidebox\n",
      "hi, my name is 38. speed: (-0.24132357413036448, -0.22324910121159675) , pos (951.5, 446.0)Iam 99 frames old, and my probs is 1.1\n"
     ]
    },
    {
     "name": "stderr",
     "output_type": "stream",
     "text": [
      "\u001b[A\n",
      " 67%|██████▋   | 251/376 [12:03<06:01,  2.89s/it]"
     ]
    },
    {
     "name": "stdout",
     "output_type": "stream",
     "text": [
      "get car\n",
      "insidebox\n",
      "hi, my name is 38. speed: (0.05520585552177229, 0.16605053927304109) , pos (952.5, 447.5)Iam 100 frames old, and my probs is 1.1\n"
     ]
    },
    {
     "name": "stderr",
     "output_type": "stream",
     "text": [
      "\u001b[A\n",
      " 67%|██████▋   | 252/376 [12:06<05:57,  2.88s/it]"
     ]
    },
    {
     "name": "stdout",
     "output_type": "stream",
     "text": [
      "get car\n",
      "insidebox\n",
      "hi, my name is 38. speed: (0.033123513313065289, -0.20036967643617587) , pos (952.5, 446.0)Iam 101 frames old, and my probs is 1.1\n"
     ]
    },
    {
     "name": "stderr",
     "output_type": "stream",
     "text": [
      "\u001b[A\n",
      " 67%|██████▋   | 253/376 [12:09<05:53,  2.87s/it]"
     ]
    },
    {
     "name": "stdout",
     "output_type": "stream",
     "text": [
      "get car\n",
      "insidebox\n",
      "hi, my name is 38. speed: (0.019874107987840707, -0.12022180586170148) , pos (952.5, 446.0)Iam 102 frames old, and my probs is 1.1\n"
     ]
    },
    {
     "name": "stderr",
     "output_type": "stream",
     "text": [
      "\u001b[A\n",
      " 68%|██████▊   | 254/376 [12:12<05:49,  2.86s/it]"
     ]
    },
    {
     "name": "stdout",
     "output_type": "stream",
     "text": [
      "get car\n",
      "insidebox\n",
      "hi, my name is 38. speed: (0.011924464792714747, -0.072133083517017638) , pos (952.5, 446.0)Iam 103 frames old, and my probs is 1.1\n"
     ]
    },
    {
     "name": "stderr",
     "output_type": "stream",
     "text": [
      "\u001b[A\n",
      " 68%|██████▊   | 255/376 [12:14<05:45,  2.85s/it]"
     ]
    },
    {
     "name": "stdout",
     "output_type": "stream",
     "text": [
      "get car\n",
      "insidebox\n",
      "hi, my name is 38. speed: (1.0071546788756232, -0.04327985011020799) , pos (957.5, 446.0)Iam 104 frames old, and my probs is 1.1\n"
     ]
    },
    {
     "name": "stderr",
     "output_type": "stream",
     "text": [
      "\u001b[A\n",
      " 68%|██████▊   | 256/376 [12:17<05:41,  2.85s/it]"
     ]
    },
    {
     "name": "stdout",
     "output_type": "stream",
     "text": [
      "get car\n",
      "insidebox\n",
      "hi, my name is 38. speed: (0.60429280732537416, -0.025967910066127267) , pos (957.5, 446.0)Iam 105 frames old, and my probs is 1.1\n"
     ]
    },
    {
     "name": "stderr",
     "output_type": "stream",
     "text": [
      "\u001b[A\n",
      " 68%|██████▊   | 257/376 [12:20<05:39,  2.85s/it]"
     ]
    },
    {
     "name": "stdout",
     "output_type": "stream",
     "text": [
      "get car\n",
      "insidebox\n",
      "hi, my name is 38. speed: (-0.037424315604770664, -0.015580746039676067) , pos (955.5, 446.0)Iam 106 frames old, and my probs is 1.1\n"
     ]
    },
    {
     "name": "stderr",
     "output_type": "stream",
     "text": [
      "\u001b[A\n",
      " 69%|██████▊   | 258/376 [12:23<05:36,  2.85s/it]"
     ]
    },
    {
     "name": "stdout",
     "output_type": "stream",
     "text": [
      "get car\n",
      "insidebox\n",
      "hi, my name is 38. speed: (0.1775454106371368, -0.30934844762380304) , pos (956.5, 444.5)Iam 107 frames old, and my probs is 1.1\n"
     ]
    },
    {
     "name": "stderr",
     "output_type": "stream",
     "text": [
      "\u001b[A\n",
      " 69%|██████▉   | 259/376 [12:26<05:34,  2.86s/it]"
     ]
    },
    {
     "name": "stdout",
     "output_type": "stream",
     "text": [
      "get car\n",
      "insidebox\n",
      "hi, my name is 38. speed: (0.10652724638229058, -0.18560906857428436) , pos (956.5, 444.5)Iam 108 frames old, and my probs is 1.1\n"
     ]
    },
    {
     "name": "stderr",
     "output_type": "stream",
     "text": [
      "\u001b[A\n",
      " 69%|██████▉   | 260/376 [12:29<05:38,  2.92s/it]"
     ]
    },
    {
     "name": "stdout",
     "output_type": "stream",
     "text": [
      "get car\n",
      "insidebox\n",
      "hi, my name is 38. speed: (0.063916347829381145, -0.11136544114456581) , pos (956.5, 444.5)Iam 109 frames old, and my probs is 1.1\n"
     ]
    },
    {
     "name": "stderr",
     "output_type": "stream",
     "text": [
      "\u001b[A\n",
      " 69%|██████▉   | 261/376 [12:32<05:35,  2.92s/it]"
     ]
    },
    {
     "name": "stdout",
     "output_type": "stream",
     "text": [
      "get car\n",
      "insidebox\n",
      "hi, my name is 38. speed: (0.038349808697629578, -0.76681926468673545) , pos (956.5, 441.0)Iam 110 frames old, and my probs is 1.1\n"
     ]
    },
    {
     "name": "stderr",
     "output_type": "stream",
     "text": [
      "\u001b[A\n",
      " 70%|██████▉   | 262/376 [12:35<05:34,  2.94s/it]"
     ]
    },
    {
     "name": "stdout",
     "output_type": "stream",
     "text": [
      "get car\n",
      "insidebox\n",
      "hi, my name is 38. speed: (0.023009885218583007, -0.46009155881204511) , pos (956.5, 441.0)Iam 111 frames old, and my probs is 1.1\n"
     ]
    },
    {
     "name": "stderr",
     "output_type": "stream",
     "text": [
      "\u001b[A\n",
      " 70%|██████▉   | 263/376 [12:38<05:38,  3.00s/it]"
     ]
    },
    {
     "name": "stdout",
     "output_type": "stream",
     "text": [
      "get car\n",
      "insidebox\n",
      "hi, my name is 38. speed: (0.013805931131149465, 0.42394506471277432) , pos (956.5, 444.5)Iam 112 frames old, and my probs is 1.1\n"
     ]
    },
    {
     "name": "stderr",
     "output_type": "stream",
     "text": [
      "\u001b[A\n",
      " 70%|███████   | 264/376 [12:41<05:43,  3.06s/it]"
     ]
    },
    {
     "name": "stdout",
     "output_type": "stream",
     "text": [
      "get car\n",
      "insidebox\n",
      "hi, my name is 38. speed: (0.0082835586786848599, 0.5543670388276658) , pos (956.5, 446.0)Iam 113 frames old, and my probs is 1.1\n"
     ]
    },
    {
     "name": "stderr",
     "output_type": "stream",
     "text": [
      "\u001b[A\n",
      " 70%|███████   | 265/376 [12:44<05:39,  3.06s/it]"
     ]
    },
    {
     "name": "stdout",
     "output_type": "stream",
     "text": [
      "get car\n",
      "insidebox\n",
      "hi, my name is 38. speed: (0.0049701352072025135, -0.36737977670339705) , pos (956.5, 442.5)Iam 114 frames old, and my probs is 1.1\n"
     ]
    },
    {
     "name": "stderr",
     "output_type": "stream",
     "text": [
      "\u001b[A\n",
      " 71%|███████   | 266/376 [12:47<05:41,  3.10s/it]"
     ]
    },
    {
     "name": "stdout",
     "output_type": "stream",
     "text": [
      "get car\n",
      "insidebox\n",
      "hi, my name is 38. speed: (-0.69701791887568965, -0.22042786602204018) , pos (953.0, 442.5)Iam 115 frames old, and my probs is 1.1\n"
     ]
    },
    {
     "name": "stderr",
     "output_type": "stream",
     "text": [
      "\u001b[A\n",
      " 71%|███████   | 267/376 [12:50<05:33,  3.06s/it]"
     ]
    },
    {
     "name": "stdout",
     "output_type": "stream",
     "text": [
      "get car\n",
      "insidebox\n",
      "hi, my name is 38. speed: (-0.41821075132542279, 0.56774328038677191) , pos (953.0, 446.0)Iam 116 frames old, and my probs is 1.1\n"
     ]
    },
    {
     "name": "stderr",
     "output_type": "stream",
     "text": [
      "\u001b[A\n",
      " 71%|███████▏  | 268/376 [12:53<05:26,  3.02s/it]"
     ]
    },
    {
     "name": "stdout",
     "output_type": "stream",
     "text": [
      "get car\n",
      "insidebox\n",
      "hi, my name is 38. speed: (-0.25092645079525183, -0.35935403176793518) , pos (953.0, 442.5)Iam 117 frames old, and my probs is 1.1\n"
     ]
    },
    {
     "name": "stderr",
     "output_type": "stream",
     "text": [
      "\u001b[A\n",
      " 72%|███████▏  | 269/376 [12:56<05:23,  3.02s/it]"
     ]
    },
    {
     "name": "stdout",
     "output_type": "stream",
     "text": [
      "get car\n",
      "insidebox\n",
      "hi, my name is 38. speed: (0.64944412952285924, 0.48438758093923312) , pos (957.0, 446.0)Iam 118 frames old, and my probs is 1.1\n"
     ]
    },
    {
     "name": "stderr",
     "output_type": "stream",
     "text": [
      "\u001b[A\n",
      " 72%|███████▏  | 270/376 [12:59<05:18,  3.00s/it]"
     ]
    },
    {
     "name": "stdout",
     "output_type": "stream",
     "text": [
      "get car\n",
      "insidebox\n",
      "hi, my name is 38. speed: (0.38966647771371488, 0.29063254856353538) , pos (957.0, 446.0)Iam 119 frames old, and my probs is 1.1\n"
     ]
    },
    {
     "name": "stderr",
     "output_type": "stream",
     "text": [
      "\u001b[A\n",
      " 72%|███████▏  | 271/376 [13:02<05:16,  3.01s/it]"
     ]
    },
    {
     "name": "stdout",
     "output_type": "stream",
     "text": [
      "get car\n",
      "insidebox\n",
      "hi, my name is 38. speed: (0.73379988662822826, -0.12562047086187317) , pos (959.5, 444.5)Iam 120 frames old, and my probs is 1.1\n"
     ]
    },
    {
     "name": "stderr",
     "output_type": "stream",
     "text": [
      "\u001b[A\n",
      " 72%|███████▏  | 272/376 [13:05<05:12,  3.00s/it]"
     ]
    },
    {
     "name": "stdout",
     "output_type": "stream",
     "text": [
      "get car\n",
      "insidebox\n",
      "hi, my name is 38. speed: (0.94027993197692739, -0.075372282517126327) , pos (962.0, 444.5)Iam 121 frames old, and my probs is 1.1\n"
     ]
    },
    {
     "name": "stderr",
     "output_type": "stream",
     "text": [
      "\u001b[A\n",
      " 73%|███████▎  | 273/376 [13:08<05:07,  2.99s/it]"
     ]
    },
    {
     "name": "stdout",
     "output_type": "stream",
     "text": [
      "get car\n",
      "insidebox\n",
      "hi, my name is 38. speed: (0.56416795918616702, 0.25477663048972898) , pos (962.0, 446.0)Iam 122 frames old, and my probs is 1.1\n"
     ]
    },
    {
     "name": "stderr",
     "output_type": "stream",
     "text": [
      "\u001b[A\n",
      " 73%|███████▎  | 274/376 [13:11<05:02,  2.96s/it]"
     ]
    },
    {
     "name": "stdout",
     "output_type": "stream",
     "text": [
      "get car\n",
      "insidebox\n",
      "hi, my name is 38. speed: (1.0385007755116948, 0.15286597829383447) , pos (965.5, 446.0)Iam 123 frames old, and my probs is 1.1\n"
     ]
    },
    {
     "name": "stderr",
     "output_type": "stream",
     "text": [
      "\u001b[A\n",
      " 73%|███████▎  | 275/376 [13:14<04:56,  2.94s/it]"
     ]
    },
    {
     "name": "stdout",
     "output_type": "stream",
     "text": [
      "get car\n",
      "insidebox\n",
      "hi, my name is 38. speed: (1.1231004653070171, 0.091719586976298353) , pos (968.0, 446.0)Iam 124 frames old, and my probs is 1.1\n"
     ]
    },
    {
     "name": "stderr",
     "output_type": "stream",
     "text": [
      "\u001b[A\n",
      " 73%|███████▎  | 276/376 [13:17<04:54,  2.95s/it]"
     ]
    },
    {
     "name": "stdout",
     "output_type": "stream",
     "text": [
      "get car\n",
      "insidebox\n",
      "hi, my name is 38. speed: (0.27386027918420164, 0.055031752185779416) , pos (966.0, 446.0)Iam 125 frames old, and my probs is 1.1\n"
     ]
    },
    {
     "name": "stderr",
     "output_type": "stream",
     "text": [
      "\u001b[A\n",
      " 74%|███████▎  | 277/376 [13:20<04:49,  2.92s/it]"
     ]
    },
    {
     "name": "stdout",
     "output_type": "stream",
     "text": [
      "get car\n",
      "insidebox\n",
      "hi, my name is 38. speed: (0.46431616751052301, 0.033019051311472522) , pos (967.5, 446.0)Iam 126 frames old, and my probs is 1.1\n"
     ]
    },
    {
     "name": "stderr",
     "output_type": "stream",
     "text": [
      "\u001b[A\n",
      " 74%|███████▍  | 278/376 [13:23<04:43,  2.89s/it]"
     ]
    },
    {
     "name": "stdout",
     "output_type": "stream",
     "text": [
      "get car\n",
      "insidebox\n",
      "hi, my name is 38. speed: (0.6785897005063064, -0.68018856921312154) , pos (969.5, 442.5)Iam 127 frames old, and my probs is 1.1\n"
     ]
    },
    {
     "name": "stderr",
     "output_type": "stream",
     "text": [
      "\u001b[A\n",
      " 74%|███████▍  | 279/376 [13:26<04:39,  2.89s/it]"
     ]
    },
    {
     "name": "stdout",
     "output_type": "stream",
     "text": [
      "get car\n",
      "insidebox\n",
      "hi, my name is 38. speed: (0.40715382030377795, -0.40811314152787709) , pos (969.5, 442.5)Iam 128 frames old, and my probs is 1.1\n"
     ]
    },
    {
     "name": "stderr",
     "output_type": "stream",
     "text": [
      "\u001b[A\n",
      " 74%|███████▍  | 280/376 [13:29<04:40,  2.93s/it]"
     ]
    },
    {
     "name": "stdout",
     "output_type": "stream",
     "text": [
      "get car\n",
      "insidebox\n",
      "hi, my name is 38. speed: (-0.55570770781772416, -0.24486788491673189) , pos (965.5, 442.5)Iam 129 frames old, and my probs is 1.1\n"
     ]
    },
    {
     "name": "stderr",
     "output_type": "stream",
     "text": [
      "\u001b[A\n",
      " 75%|███████▍  | 281/376 [13:31<04:36,  2.91s/it]"
     ]
    },
    {
     "name": "stdout",
     "output_type": "stream",
     "text": [
      "get car\n",
      "insidebox\n",
      "hi, my name is 38. speed: (-0.33342462469062739, -0.14692073095003683) , pos (965.5, 442.5)Iam 130 frames old, and my probs is 1.1\n"
     ]
    },
    {
     "name": "stderr",
     "output_type": "stream",
     "text": [
      "\u001b[A\n",
      " 75%|███████▌  | 282/376 [13:34<04:35,  2.94s/it]"
     ]
    },
    {
     "name": "stdout",
     "output_type": "stream",
     "text": [
      "get car\n",
      "insidebox\n",
      "hi, my name is 38. speed: (-5.4774814366276292e-05, -0.088152438570017977) , pos (966.5, 442.5)Iam 131 frames old, and my probs is 1.1\n"
     ]
    },
    {
     "name": "stderr",
     "output_type": "stream",
     "text": [
      "\u001b[A\n",
      " 75%|███████▌  | 283/376 [13:38<04:39,  3.01s/it]"
     ]
    },
    {
     "name": "stdout",
     "output_type": "stream",
     "text": [
      "get car\n",
      "insidebox\n",
      "hi, my name is 38. speed: (-3.2864888629768893e-05, -0.052891463142007489) , pos (966.5, 442.5)Iam 132 frames old, and my probs is 1.1\n"
     ]
    },
    {
     "name": "stderr",
     "output_type": "stream",
     "text": [
      "\u001b[A\n",
      " 76%|███████▌  | 284/376 [13:41<04:41,  3.06s/it]"
     ]
    },
    {
     "name": "stdout",
     "output_type": "stream",
     "text": [
      "get car\n",
      "insidebox\n",
      "hi, my name is 38. speed: (-1.9718933167673932e-05, 0.26826512211480036) , pos (966.5, 444.0)Iam 133 frames old, and my probs is 1.1\n"
     ]
    },
    {
     "name": "stderr",
     "output_type": "stream",
     "text": [
      "\u001b[A\n",
      " 76%|███████▌  | 285/376 [13:44<04:37,  3.04s/it]"
     ]
    },
    {
     "name": "stdout",
     "output_type": "stream",
     "text": [
      "get car\n",
      "insidebox\n",
      "hi, my name is 38. speed: (0.19998816864008931, 0.16095907326887507) , pos (967.5, 444.0)Iam 134 frames old, and my probs is 1.1\n"
     ]
    },
    {
     "name": "stderr",
     "output_type": "stream",
     "text": [
      "\u001b[A\n",
      " 76%|███████▌  | 286/376 [13:47<04:29,  2.99s/it]"
     ]
    },
    {
     "name": "stdout",
     "output_type": "stream",
     "text": [
      "get car\n",
      "insidebox\n",
      "hi, my name is 38. speed: (0.91999290118405908, 0.49657544396132314) , pos (971.5, 446.0)Iam 135 frames old, and my probs is 1.1\n"
     ]
    },
    {
     "name": "stderr",
     "output_type": "stream",
     "text": [
      "\u001b[A\n",
      " 76%|███████▋  | 287/376 [13:50<04:23,  2.96s/it]"
     ]
    },
    {
     "name": "stdout",
     "output_type": "stream",
     "text": [
      "get car\n",
      "insidebox\n",
      "hi, my name is 38. speed: (-0.24800425928956438, -0.10205473362320516) , pos (967.5, 444.0)Iam 136 frames old, and my probs is 1.1\n"
     ]
    },
    {
     "name": "stderr",
     "output_type": "stream",
     "text": [
      "\u001b[A\n",
      " 77%|███████▋  | 288/376 [13:52<04:19,  2.95s/it]"
     ]
    },
    {
     "name": "stdout",
     "output_type": "stream",
     "text": [
      "get car\n",
      "insidebox\n",
      "hi, my name is 38. speed: (-0.14880255557373412, -0.061232840173920181) , pos (967.5, 444.0)Iam 137 frames old, and my probs is 1.1\n"
     ]
    },
    {
     "name": "stderr",
     "output_type": "stream",
     "text": [
      "\u001b[A\n",
      " 77%|███████▋  | 289/376 [13:55<04:14,  2.93s/it]"
     ]
    },
    {
     "name": "stdout",
     "output_type": "stream",
     "text": [
      "get car\n",
      "insidebox\n",
      "hi, my name is 38. speed: (-0.089281533344236871, -0.036739704104347494) , pos (967.5, 444.0)Iam 138 frames old, and my probs is 1.1\n"
     ]
    },
    {
     "name": "stderr",
     "output_type": "stream",
     "text": [
      "\u001b[A\n",
      " 77%|███████▋  | 290/376 [13:58<04:10,  2.91s/it]"
     ]
    },
    {
     "name": "stdout",
     "output_type": "stream",
     "text": [
      "get car\n",
      "insidebox\n",
      "hi, my name is 38. speed: (-0.053568920006548337, -0.022043822462613903) , pos (967.5, 444.0)Iam 139 frames old, and my probs is 1.1\n"
     ]
    },
    {
     "name": "stderr",
     "output_type": "stream",
     "text": [
      "\u001b[A\n",
      " 77%|███████▋  | 291/376 [14:01<04:07,  2.91s/it]"
     ]
    },
    {
     "name": "stdout",
     "output_type": "stream",
     "text": [
      "get car\n",
      "insidebox\n",
      "hi, my name is 38. speed: (1.5678586479960748, -0.013226293477572669) , pos (975.5, 444.0)Iam 140 frames old, and my probs is 1.1\n"
     ]
    },
    {
     "name": "stderr",
     "output_type": "stream",
     "text": [
      "\u001b[A\n",
      " 78%|███████▊  | 292/376 [14:04<04:06,  2.93s/it]"
     ]
    },
    {
     "name": "stdout",
     "output_type": "stream",
     "text": [
      "get car\n",
      "((832, 394), (958, 494))\n",
      "new car 54\n",
      "initcar\n",
      "get car\n",
      "insidebox\n",
      "hi, my name is 38. speed: (14.540715188797636, 0.39206422391346196) , pos (1043.5, 446.0)Iam 141 frames old, and my probs is 1.1\n",
      "get car\n",
      "((960, 426), (961, 476))\n",
      "new car 55\n",
      "initcar\n"
     ]
    },
    {
     "name": "stderr",
     "output_type": "stream",
     "text": [
      "\u001b[A\n",
      " 78%|███████▊  | 293/376 [14:07<04:03,  2.93s/it]"
     ]
    },
    {
     "name": "stdout",
     "output_type": "stream",
     "text": [
      "get car\n",
      "insidebox\n",
      "hi, my name is 54. speed: (0.0, 0.0) , pos (895.0, 444.0)Iam 1 frames old, and my probs is 0.30000000000000004\n",
      "get car\n",
      "insidebox\n",
      "hi, my name is 38. speed: (9.1244291132786, 0.13523853434807945) , pos (1045.5, 445.5)Iam 142 frames old, and my probs is 1.1\n"
     ]
    },
    {
     "name": "stderr",
     "output_type": "stream",
     "text": [
      "\u001b[A\n",
      " 78%|███████▊  | 294/376 [14:10<03:59,  2.93s/it]"
     ]
    },
    {
     "name": "stdout",
     "output_type": "stream",
     "text": [
      "delete 55\n",
      "get car\n",
      "insidebox\n",
      "hi, my name is 54. speed: (0.0, 0.0) , pos (895.0, 444.0)Iam 2 frames old, and my probs is 0.4\n",
      "get car\n",
      "insidebox\n",
      "hi, my name is 38. speed: (6.574657467967147, 0.081143120608842642) , pos (1051.0, 445.5)Iam 143 frames old, and my probs is 1.1\n"
     ]
    },
    {
     "name": "stderr",
     "output_type": "stream",
     "text": [
      "\u001b[A\n",
      " 78%|███████▊  | 295/376 [14:13<03:56,  2.92s/it]"
     ]
    },
    {
     "name": "stdout",
     "output_type": "stream",
     "text": [
      "get car\n",
      "insidebox\n",
      "hi, my name is 54. speed: (0.0, 0.0) , pos (895.0, 444.0)Iam 3 frames old, and my probs is 0.5\n",
      "get car\n",
      "insidebox\n",
      "hi, my name is 38. speed: (4.0447944807802783, 0.048685872365308386) , pos (1051.5, 445.5)Iam 144 frames old, and my probs is 1.1\n"
     ]
    },
    {
     "name": "stderr",
     "output_type": "stream",
     "text": [
      "\u001b[A\n",
      " 79%|███████▊  | 296/376 [14:16<03:51,  2.90s/it]"
     ]
    },
    {
     "name": "stdout",
     "output_type": "stream",
     "text": [
      "get car\n",
      "insidebox\n",
      "hi, my name is 54. speed: (0.0, -0.099999999999999978) , pos (895.0, 443.5)Iam 4 frames old, and my probs is 0.6000000000000001\n",
      "get car\n",
      "insidebox\n",
      "hi, my name is 38. speed: (2.426876688468186, 0.029211523419187271) , pos (1051.5, 445.5)Iam 145 frames old, and my probs is 1.1\n"
     ]
    },
    {
     "name": "stderr",
     "output_type": "stream",
     "text": [
      "\u001b[A\n",
      " 79%|███████▉  | 297/376 [14:19<03:48,  2.89s/it]"
     ]
    },
    {
     "name": "stdout",
     "output_type": "stream",
     "text": [
      "get car\n",
      "insidebox\n",
      "hi, my name is 54. speed: (0.0, -0.35999999999999532) , pos (895.0, 442.0)Iam 5 frames old, and my probs is 0.7000000000000002\n",
      "get car\n",
      "insidebox\n",
      "hi, my name is 38. speed: (1.4561260130809179, 0.017526914051514159) , pos (1051.5, 445.5)Iam 146 frames old, and my probs is 1.1\n"
     ]
    },
    {
     "name": "stderr",
     "output_type": "stream",
     "text": [
      "\u001b[A\n",
      " 79%|███████▉  | 298/376 [14:22<03:47,  2.91s/it]"
     ]
    },
    {
     "name": "stdout",
     "output_type": "stream",
     "text": [
      "get car\n",
      "insidebox\n",
      "hi, my name is 54. speed: (0.0, -0.21599999999999353) , pos (895.0, 442.0)Iam 6 frames old, and my probs is 0.8000000000000003\n",
      "get car\n",
      "insidebox\n",
      "hi, my name is 38. speed: (0.97367560784856499, 0.010516148430905382) , pos (1052.0, 445.5)Iam 147 frames old, and my probs is 1.1\n",
      "get car\n",
      "((977, 430), (977, 461))\n",
      "new car 56\n",
      "initcar\n"
     ]
    },
    {
     "name": "stderr",
     "output_type": "stream",
     "text": [
      "\u001b[A\n",
      " 80%|███████▉  | 299/376 [14:24<03:44,  2.91s/it]"
     ]
    },
    {
     "name": "stdout",
     "output_type": "stream",
     "text": [
      "get car\n",
      "insidebox\n",
      "hi, my name is 54. speed: (0.0, -0.12959999999999322) , pos (895.0, 442.0)Iam 7 frames old, and my probs is 0.9000000000000004\n",
      "get car\n",
      "insidebox\n",
      "hi, my name is 38. speed: (-0.015794635290840464, 0.0063096890585452869) , pos (1049.0, 445.5)Iam 148 frames old, and my probs is 1.1\n",
      "get car\n",
      "((960, 426), (961, 460))\n",
      "new car 57\n",
      "initcar\n"
     ]
    },
    {
     "name": "stderr",
     "output_type": "stream",
     "text": [
      "\u001b[A\n",
      " 80%|███████▉  | 300/376 [14:27<03:41,  2.92s/it]"
     ]
    },
    {
     "name": "stdout",
     "output_type": "stream",
     "text": [
      "delete 56\n",
      "get car\n",
      "insidebox\n",
      "hi, my name is 54. speed: (0.0, -0.07775999999999815) , pos (895.0, 442.0)Iam 8 frames old, and my probs is 1.0000000000000004\n",
      "get car\n",
      "insidebox\n",
      "hi, my name is 38. speed: (-1.3094767811745061, 0.303785813435131) , pos (1042.5, 447.0)Iam 149 frames old, and my probs is 1.1\n",
      "get car\n",
      "insidebox\n",
      "hi, my name is 38. speed: (-4.3475814249396043, -6.7569713492518932) , pos (1026.0, 412.0)Iam 150 frames old, and my probs is 1.2\n",
      "get car\n",
      "insidebox\n",
      "hi, my name is 57. speed: (0.0, 1.5999999999999996) , pos (960.5, 451.0)Iam 1 frames old, and my probs is 0.30000000000000004\n"
     ]
    },
    {
     "name": "stderr",
     "output_type": "stream",
     "text": [
      "\u001b[A\n",
      " 80%|████████  | 301/376 [14:30<03:40,  2.93s/it]"
     ]
    },
    {
     "name": "stdout",
     "output_type": "stream",
     "text": [
      "get car\n",
      "insidebox\n",
      "hi, my name is 54. speed: (0.29999999999999993, 0.053344000000003867) , pos (896.5, 442.5)Iam 9 frames old, and my probs is 1.1\n",
      "get car\n",
      "insidebox\n",
      "hi, my name is 38. speed: (0.99145114503622755, 2.9458171904488628) , pos (1044.0, 447.0)Iam 151 frames old, and my probs is 1.1\n"
     ]
    },
    {
     "name": "stderr",
     "output_type": "stream",
     "text": [
      "\u001b[A\n",
      " 80%|████████  | 302/376 [14:33<03:37,  2.94s/it]"
     ]
    },
    {
     "name": "stdout",
     "output_type": "stream",
     "text": [
      "get car\n",
      "insidebox\n",
      "hi, my name is 54. speed: (0.18000000000000907, 0.33200640000000675) , pos (896.5, 444.0)Iam 10 frames old, and my probs is 1.1\n",
      "get car\n",
      "insidebox\n",
      "hi, my name is 38. speed: (2.3948706870217205, 1.8674903142693204) , pos (1053.0, 447.5)Iam 152 frames old, and my probs is 1.1\n",
      "get car\n",
      "((963, 426), (977, 476))\n",
      "new car 58\n",
      "initcar\n"
     ]
    },
    {
     "name": "stderr",
     "output_type": "stream",
     "text": [
      "\u001b[A\n",
      " 81%|████████  | 303/376 [14:36<03:32,  2.92s/it]"
     ]
    },
    {
     "name": "stdout",
     "output_type": "stream",
     "text": [
      "get car\n",
      "insidebox\n",
      "hi, my name is 54. speed: (-0.19200000000000542, 0.19920384000000313) , pos (895.0, 444.0)Iam 11 frames old, and my probs is 1.1\n",
      "get car\n",
      "insidebox\n",
      "hi, my name is 38. speed: (1.436922412213038, 1.12049418856159) , pos (1053.0, 447.5)Iam 153 frames old, and my probs is 1.1\n",
      "get car\n",
      "insidebox\n",
      "insidebox\n",
      "hi, my name is 58. speed: (-1.8999999999999995, 0.0) , pos (960.5, 451.0)Iam 1 frames old, and my probs is 0.30000000000000004\n",
      "get car\n",
      "((976, 430), (977, 473))\n",
      "new car 59\n",
      "initcar\n"
     ]
    },
    {
     "name": "stderr",
     "output_type": "stream",
     "text": [
      "\u001b[A\n",
      " 81%|████████  | 304/376 [14:39<03:29,  2.91s/it]"
     ]
    },
    {
     "name": "stdout",
     "output_type": "stream",
     "text": [
      "delete 57\n",
      "get car\n",
      "insidebox\n",
      "hi, my name is 54. speed: (-0.51520000000000277, 0.11952230400000341) , pos (893.0, 444.0)Iam 12 frames old, and my probs is 1.1\n",
      "get car\n",
      "insidebox\n",
      "hi, my name is 38. speed: (0.86215344732780907, 1.2722965131369588) , pos (1053.0, 450.5)Iam 154 frames old, and my probs is 1.1\n",
      "get car\n",
      "insidebox\n",
      "hi, my name is 58. speed: (-1.1400000000000041, -1.1999999999999997) , pos (960.5, 445.0)Iam 2 frames old, and my probs is 0.4\n",
      "get car\n",
      "insidebox\n",
      "hi, my name is 59. speed: (0.0, -0.8999999999999998) , pos (976.5, 447.0)Iam 1 frames old, and my probs is 0.30000000000000004\n"
     ]
    },
    {
     "name": "stderr",
     "output_type": "stream",
     "text": [
      "\u001b[A\n",
      " 81%|████████  | 305/376 [14:42<03:27,  2.92s/it]"
     ]
    },
    {
     "name": "stdout",
     "output_type": "stream",
     "text": [
      "get car\n",
      "insidebox\n",
      "hi, my name is 54. speed: (-0.60911999999999222, 0.071713382400005549) , pos (891.5, 444.0)Iam 13 frames old, and my probs is 1.1\n",
      "get car\n",
      "insidebox\n",
      "hi, my name is 38. speed: (1.0172920683967017, 0.66337790788217688) , pos (1055.5, 450.0)Iam 155 frames old, and my probs is 1.1\n"
     ]
    },
    {
     "name": "stderr",
     "output_type": "stream",
     "text": [
      "\u001b[A\n",
      " 81%|████████▏ | 306/376 [14:45<03:23,  2.91s/it]"
     ]
    },
    {
     "name": "stdout",
     "output_type": "stream",
     "text": [
      "get car\n",
      "insidebox\n",
      "hi, my name is 54. speed: (-0.065472000000001529, 0.043028029440006124) , pos (893.0, 444.0)Iam 14 frames old, and my probs is 1.1\n",
      "get car\n",
      "insidebox\n",
      "hi, my name is 38. speed: (0.51037524103801601, 0.49802674472930292) , pos (1055.0, 450.5)Iam 156 frames old, and my probs is 1.1\n",
      "get car\n",
      "insidebox\n",
      "hi, my name is 59. speed: (0.0, -0.36000000000000903) , pos (976.5, 447.0)Iam 2 frames old, and my probs is 0.30000000000000004\n"
     ]
    },
    {
     "name": "stderr",
     "output_type": "stream",
     "text": [
      "\u001b[A\n",
      " 82%|████████▏ | 307/376 [14:48<03:19,  2.90s/it]"
     ]
    },
    {
     "name": "stdout",
     "output_type": "stream",
     "text": [
      "get car\n",
      "insidebox\n",
      "hi, my name is 54. speed: (-0.039283200000001281, 0.025816817664005912) , pos (893.0, 444.0)Iam 15 frames old, and my probs is 1.1\n",
      "get car\n",
      "insidebox\n",
      "hi, my name is 38. speed: (0.30622514462281464, 0.29881604683757923) , pos (1055.0, 450.5)Iam 157 frames old, and my probs is 1.1\n",
      "get car\n",
      "insidebox\n",
      "hi, my name is 59. speed: (0.099999999999999978, -0.21600000000000452) , pos (977.0, 447.0)Iam 3 frames old, and my probs is 0.4\n"
     ]
    },
    {
     "name": "stderr",
     "output_type": "stream",
     "text": [
      "\u001b[A\n",
      " 82%|████████▏ | 308/376 [14:51<03:18,  2.91s/it]"
     ]
    },
    {
     "name": "stdout",
     "output_type": "stream",
     "text": [
      "get car\n",
      "insidebox\n",
      "hi, my name is 54. speed: (0.37643007999999883, 0.015490090598403061) , pos (895.0, 444.0)Iam 16 frames old, and my probs is 1.1\n",
      "get car\n",
      "insidebox\n",
      "hi, my name is 38. speed: (0.18373508677367462, 0.17928962810254323) , pos (1055.0, 450.5)Iam 158 frames old, and my probs is 1.1\n"
     ]
    },
    {
     "name": "stderr",
     "output_type": "stream",
     "text": [
      "\u001b[A\n",
      " 82%|████████▏ | 309/376 [14:54<03:14,  2.91s/it]"
     ]
    },
    {
     "name": "stdout",
     "output_type": "stream",
     "text": [
      "delete 58\n",
      "get car\n",
      "insidebox\n",
      "hi, my name is 54. speed: (-0.17414195199999627, -0.29070594564095853) , pos (893.0, 442.5)Iam 17 frames old, and my probs is 1.1\n",
      "get car\n",
      "insidebox\n",
      "hi, my name is 38. speed: (0.51024105206422066, 0.60757377686152692) , pos (1057.0, 453.0)Iam 159 frames old, and my probs is 1.1\n",
      "get car\n",
      "insidebox\n",
      "hi, my name is 59. speed: (0.039999999999990904, -0.086400000000000365) , pos (977.0, 447.0)Iam 4 frames old, and my probs is 0.4\n"
     ]
    },
    {
     "name": "stderr",
     "output_type": "stream",
     "text": [
      "\u001b[A\n",
      " 82%|████████▏ | 310/376 [14:56<03:10,  2.89s/it]"
     ]
    },
    {
     "name": "stdout",
     "output_type": "stream",
     "text": [
      "get car\n",
      "insidebox\n",
      "hi, my name is 54. speed: (-0.10448517119999431, 0.12557643261542903) , pos (893.0, 444.0)Iam 18 frames old, and my probs is 1.1\n",
      "get car\n",
      "insidebox\n",
      "hi, my name is 38. speed: (0.60614463123853601, 0.56454426611692154) , pos (1058.5, 454.0)Iam 160 frames old, and my probs is 1.1\n"
     ]
    },
    {
     "name": "stderr",
     "output_type": "stream",
     "text": [
      "\u001b[A\n",
      " 83%|████████▎ | 311/376 [14:59<03:08,  2.90s/it]"
     ]
    },
    {
     "name": "stdout",
     "output_type": "stream",
     "text": [
      "get car\n",
      "insidebox\n",
      "hi, my name is 54. speed: (-0.36269110272000737, 0.075345859569253992) , pos (891.5, 444.0)Iam 19 frames old, and my probs is 1.1\n",
      "get car\n",
      "insidebox\n",
      "hi, my name is 38. speed: (0.56368677874312456, 0.33872655967015503) , pos (1059.5, 454.0)Iam 161 frames old, and my probs is 1.1\n"
     ]
    },
    {
     "name": "stderr",
     "output_type": "stream",
     "text": [
      "\u001b[A\n",
      " 83%|████████▎ | 312/376 [15:02<03:06,  2.91s/it]"
     ]
    },
    {
     "name": "stdout",
     "output_type": "stream",
     "text": [
      "get car\n",
      "insidebox\n",
      "hi, my name is 54. speed: (-0.51761466163201308, 0.045207515741549652) , pos (890.0, 444.0)Iam 20 frames old, and my probs is 1.1\n",
      "get car\n",
      "insidebox\n",
      "hi, my name is 38. speed: (0.33821206724585895, 0.003235935802097023) , pos (1059.5, 453.0)Iam 162 frames old, and my probs is 1.1\n",
      "get car\n",
      "insidebox\n",
      "hi, my name is 59. speed: (0.0080000000000145545, -0.017279999999984696) , pos (977.0, 447.0)Iam 5 frames old, and my probs is 0.30000000000000004\n"
     ]
    },
    {
     "name": "stderr",
     "output_type": "stream",
     "text": [
      "\u001b[A\n",
      " 83%|████████▎ | 313/376 [15:05<03:04,  2.93s/it]"
     ]
    },
    {
     "name": "stdout",
     "output_type": "stream",
     "text": [
      "get car\n",
      "insidebox\n",
      "hi, my name is 54. speed: (-1.3105687969792055, 0.027124509444932145) , pos (885.0, 444.0)Iam 21 frames old, and my probs is 1.1\n",
      "get car\n",
      "insidebox\n",
      "hi, my name is 38. speed: (0.20292724034751183, 0.0019415614812613672) , pos (1059.5, 453.0)Iam 163 frames old, and my probs is 1.1\n",
      "get car\n",
      "insidebox\n",
      "hi, my name is 38. speed: (6.2623417922780078, -8.1984467508149876) , pos (1090.0, 412.0)Iam 164 frames old, and my probs is 1.2\n"
     ]
    },
    {
     "name": "stderr",
     "output_type": "stream",
     "text": [
      "\u001b[A\n",
      " 84%|████████▎ | 314/376 [15:08<03:02,  2.94s/it]"
     ]
    },
    {
     "name": "stdout",
     "output_type": "stream",
     "text": [
      "get car\n",
      "insidebox\n",
      "hi, my name is 54. speed: (-1.3863412781875306, 0.016274705666956619) , pos (882.0, 444.0)Iam 22 frames old, and my probs is 1.1\n",
      "get car\n",
      "((985, 412), (1142, 494))\n",
      "new car 60\n",
      "initcar\n"
     ]
    },
    {
     "name": "stderr",
     "output_type": "stream",
     "text": [
      "\u001b[A\n",
      " 84%|████████▍ | 315/376 [15:11<02:59,  2.95s/it]"
     ]
    },
    {
     "name": "stdout",
     "output_type": "stream",
     "text": [
      "get car\n",
      "insidebox\n",
      "hi, my name is 54. speed: (-0.83180476691252436, 0.0097648234001763857) , pos (882.0, 444.0)Iam 23 frames old, and my probs is 1.1\n",
      "get car\n",
      "insidebox\n",
      "insidebox\n",
      "hi, my name is 60. speed: (-2.0999999999999996, -8.1999999999999975) , pos (1053.0, 412.0)Iam 1 frames old, and my probs is 0.30000000000000004\n",
      "get car\n",
      "insidebox\n",
      "insidebox\n",
      "hi, my name is 60. speed: (-0.58000000000000007, -6.5599999999999987) , pos (1058.5, 412.0)Iam 2 frames old, and my probs is 0.5\n",
      "get car\n",
      "insidebox\n",
      "insidebox\n",
      "hi, my name is 60. speed: (2.3359999999999994, -5.2479999999999993) , pos (1072.5, 412.0)Iam 3 frames old, and my probs is 0.7\n",
      "get car\n",
      "insidebox\n",
      "hi, my name is 60. speed: (1.3687999999999998, 4.001599999999998) , pos (1070.0, 453.0)Iam 4 frames old, and my probs is 0.8999999999999999\n"
     ]
    },
    {
     "name": "stderr",
     "output_type": "stream",
     "text": [
      "\u001b[A\n",
      " 84%|████████▍ | 316/376 [15:14<02:56,  2.94s/it]"
     ]
    },
    {
     "name": "stdout",
     "output_type": "stream",
     "text": [
      "delete 59\n",
      "get car\n",
      "insidebox\n",
      "hi, my name is 54. speed: (-0.4990828601475058, 0.0058588940401032149) , pos (882.0, 444.0)Iam 24 frames old, and my probs is 1.1\n",
      "get car\n",
      "insidebox\n",
      "hi, my name is 60. speed: (0.82128000000000689, 2.4009599999999995) , pos (1070.0, 453.0)Iam 5 frames old, and my probs is 1.0\n"
     ]
    },
    {
     "name": "stderr",
     "output_type": "stream",
     "text": [
      "\u001b[A\n",
      " 84%|████████▍ | 317/376 [15:17<02:52,  2.93s/it]"
     ]
    },
    {
     "name": "stdout",
     "output_type": "stream",
     "text": [
      "get car\n",
      "insidebox\n",
      "hi, my name is 54. speed: (-0.29944971608850551, 0.0035153364240621101) , pos (882.0, 444.0)Iam 25 frames old, and my probs is 1.1\n",
      "get car\n",
      "insidebox\n",
      "hi, my name is 60. speed: (0.49276799999998255, 1.4405760000000003) , pos (1070.0, 453.0)Iam 6 frames old, and my probs is 1.1\n"
     ]
    },
    {
     "name": "stderr",
     "output_type": "stream",
     "text": [
      "\u001b[A\n",
      " 85%|████████▍ | 318/376 [15:20<02:49,  2.92s/it]"
     ]
    },
    {
     "name": "stdout",
     "output_type": "stream",
     "text": [
      "get car\n",
      "insidebox\n",
      "hi, my name is 54. speed: (-0.37966982965310947, 0.002109201854435137) , pos (881.0, 444.0)Iam 26 frames old, and my probs is 1.1\n",
      "get car\n",
      "insidebox\n",
      "hi, my name is 60. speed: (1.0956607999999721, 0.86434559999999605) , pos (1074.0, 453.0)Iam 7 frames old, and my probs is 1.1\n"
     ]
    },
    {
     "name": "stderr",
     "output_type": "stream",
     "text": [
      "\u001b[A\n",
      " 85%|████████▍ | 319/376 [15:23<02:46,  2.93s/it]"
     ]
    },
    {
     "name": "stdout",
     "output_type": "stream",
     "text": [
      "get car\n",
      "insidebox\n",
      "hi, my name is 54. speed: (-0.227801897791857, 0.0012655211126662001) , pos (881.0, 444.0)Iam 27 frames old, and my probs is 1.1\n",
      "get car\n",
      "insidebox\n",
      "hi, my name is 60. speed: (0.65739647999999684, 0.018607360000001294) , pos (1074.0, 450.5)Iam 8 frames old, and my probs is 1.1\n"
     ]
    },
    {
     "name": "stderr",
     "output_type": "stream",
     "text": [
      "\u001b[A\n",
      " 85%|████████▌ | 320/376 [15:26<02:42,  2.91s/it]"
     ]
    },
    {
     "name": "stdout",
     "output_type": "stream",
     "text": [
      "get car\n",
      "insidebox\n",
      "hi, my name is 54. speed: (0.46331886132489258, 0.40075931266760145) , pos (884.0, 446.0)Iam 28 frames old, and my probs is 1.1\n",
      "get car\n",
      "insidebox\n",
      "hi, my name is 60. speed: (0.3944378879999999, 0.71116441600000568) , pos (1074.0, 454.0)Iam 9 frames old, and my probs is 1.1\n"
     ]
    },
    {
     "name": "stderr",
     "output_type": "stream",
     "text": [
      "\u001b[A\n",
      " 85%|████████▌ | 321/376 [15:29<02:41,  2.94s/it]"
     ]
    },
    {
     "name": "stdout",
     "output_type": "stream",
     "text": [
      "get car\n",
      "insidebox\n",
      "hi, my name is 54. speed: (0.2779913167949411, 0.24045558760055782) , pos (884.0, 446.0)Iam 29 frames old, and my probs is 1.1\n",
      "get car\n",
      "insidebox\n",
      "hi, my name is 60. speed: (0.23666273279998312, 0.42669864959999837) , pos (1074.0, 454.0)Iam 10 frames old, and my probs is 1.1\n",
      "get car\n",
      "insidebox\n",
      "hi, my name is 60. speed: (0.78933018623998641, -8.0586410803199993) , pos (1077.0, 412.0)Iam 11 frames old, and my probs is 1.2\n"
     ]
    },
    {
     "name": "stderr",
     "output_type": "stream",
     "text": [
      "\u001b[A\n",
      " 86%|████████▌ | 322/376 [15:32<02:38,  2.94s/it]"
     ]
    },
    {
     "name": "stdout",
     "output_type": "stream",
     "text": [
      "get car\n",
      "insidebox\n",
      "hi, my name is 54. speed: (-0.23320520992302624, 0.14427335256033907) , pos (882.0, 446.0)Iam 30 frames old, and my probs is 1.1\n",
      "get car\n",
      "insidebox\n",
      "hi, my name is 60. speed: (-0.12640188825601506, 3.364815351807998) , pos (1074.0, 453.0)Iam 12 frames old, and my probs is 1.1\n"
     ]
    },
    {
     "name": "stderr",
     "output_type": "stream",
     "text": [
      "\u001b[A\n",
      " 86%|████████▌ | 323/376 [15:35<02:34,  2.92s/it]"
     ]
    },
    {
     "name": "stdout",
     "output_type": "stream",
     "text": [
      "get car\n",
      "insidebox\n",
      "hi, my name is 54. speed: (-0.73992312595382659, 0.086564011536204674) , pos (879.0, 446.0)Iam 31 frames old, and my probs is 1.1\n",
      "get car\n",
      "insidebox\n",
      "hi, my name is 60. speed: (-0.57584113295362371, 2.7188892110848033) , pos (1071.5, 456.5)Iam 13 frames old, and my probs is 1.1\n"
     ]
    },
    {
     "name": "stderr",
     "output_type": "stream",
     "text": [
      "\u001b[A\n",
      " 86%|████████▌ | 324/376 [15:37<02:31,  2.91s/it]"
     ]
    },
    {
     "name": "stdout",
     "output_type": "stream",
     "text": [
      "delete 38\n",
      "get car\n",
      "insidebox\n",
      "hi, my name is 54. speed: (0.15604612442770871, 0.051938406921721511) , pos (882.0, 446.0)Iam 32 frames old, and my probs is 1.1\n",
      "get car\n",
      "insidebox\n",
      "hi, my name is 60. speed: (0.254495320227832, 1.6313335266508857) , pos (1074.5, 456.5)Iam 14 frames old, and my probs is 1.1\n"
     ]
    },
    {
     "name": "stderr",
     "output_type": "stream",
     "text": [
      "\u001b[A\n",
      " 86%|████████▋ | 325/376 [15:40<02:27,  2.90s/it]"
     ]
    },
    {
     "name": "stdout",
     "output_type": "stream",
     "text": [
      "get car\n",
      "insidebox\n",
      "hi, my name is 54. speed: (-0.50637232534337073, 0.031163044153027321) , pos (879.0, 446.0)Iam 33 frames old, and my probs is 1.1\n",
      "get car\n",
      "insidebox\n",
      "hi, my name is 60. speed: (0.1526971921367134, 0.97880011599052752) , pos (1074.5, 456.5)Iam 15 frames old, and my probs is 1.1\n",
      "get car\n",
      "((992, 430), (996, 438))\n",
      "new car 61\n",
      "initcar\n"
     ]
    },
    {
     "name": "stderr",
     "output_type": "stream",
     "text": [
      "\u001b[A\n",
      " 87%|████████▋ | 326/376 [15:43<02:24,  2.89s/it]"
     ]
    },
    {
     "name": "stdout",
     "output_type": "stream",
     "text": [
      "get car\n",
      "insidebox\n",
      "hi, my name is 54. speed: (0.69617660479397592, 0.018697826491821022) , pos (884.0, 446.0)Iam 34 frames old, and my probs is 1.1\n",
      "get car\n",
      "insidebox\n",
      "hi, my name is 60. speed: (1.2916183152820391, 0.58728006959432022) , pos (1080.5, 456.5)Iam 16 frames old, and my probs is 1.1\n",
      "get car\n",
      "((992, 430), (996, 464))\n",
      "new car 62\n",
      "initcar\n"
     ]
    },
    {
     "name": "stderr",
     "output_type": "stream",
     "text": [
      "\u001b[A\n",
      " 87%|████████▋ | 327/376 [15:46<02:21,  2.89s/it]"
     ]
    },
    {
     "name": "stdout",
     "output_type": "stream",
     "text": [
      "delete 61\n",
      "get car\n",
      "insidebox\n",
      "hi, my name is 54. speed: (0.31770596287637987, 0.011218695895096317) , pos (883.5, 446.0)Iam 35 frames old, and my probs is 1.1\n",
      "get car\n",
      "insidebox\n",
      "hi, my name is 60. speed: (0.77497098916923246, 0.35236804175659059) , pos (1080.5, 456.5)Iam 17 frames old, and my probs is 1.1\n"
     ]
    },
    {
     "name": "stderr",
     "output_type": "stream",
     "text": [
      "\u001b[A\n",
      " 87%|████████▋ | 328/376 [15:49<02:18,  2.89s/it]"
     ]
    },
    {
     "name": "stdout",
     "output_type": "stream",
     "text": [
      "delete 62\n",
      "get car\n",
      "insidebox\n",
      "hi, my name is 54. speed: (0.19062357772582339, 0.0067312175370607529) , pos (883.5, 446.0)Iam 36 frames old, and my probs is 1.1\n",
      "get car\n",
      "insidebox\n",
      "hi, my name is 60. speed: (0.46498259350151944, -0.28857917494603996) , pos (1080.5, 454.0)Iam 18 frames old, and my probs is 1.1\n"
     ]
    },
    {
     "name": "stderr",
     "output_type": "stream",
     "text": [
      "\u001b[A\n",
      " 88%|████████▊ | 329/376 [15:52<02:15,  2.89s/it]"
     ]
    },
    {
     "name": "stdout",
     "output_type": "stream",
     "text": [
      "get car\n",
      "insidebox\n",
      "hi, my name is 54. speed: (0.11437414663550405, -0.39596126947775884) , pos (883.5, 444.0)Iam 37 frames old, and my probs is 1.1\n",
      "get car\n",
      "insidebox\n",
      "hi, my name is 60. speed: (0.27898955610093207, -0.37314750496762172) , pos (1080.5, 453.0)Iam 19 frames old, and my probs is 1.1\n"
     ]
    },
    {
     "name": "stderr",
     "output_type": "stream",
     "text": [
      "\u001b[A\n",
      " 88%|████████▊ | 330/376 [15:55<02:12,  2.88s/it]"
     ]
    },
    {
     "name": "stdout",
     "output_type": "stream",
     "text": [
      "get car\n",
      "insidebox\n",
      "hi, my name is 54. speed: (0.66862448798129204, -0.2375767616866539) , pos (886.5, 444.0)Iam 38 frames old, and my probs is 1.1\n",
      "get car\n",
      "insidebox\n",
      "hi, my name is 60. speed: (0.16739373366056645, -0.22388850298057356) , pos (1080.5, 453.0)Iam 20 frames old, and my probs is 1.1\n"
     ]
    },
    {
     "name": "stderr",
     "output_type": "stream",
     "text": [
      "\u001b[A\n",
      " 88%|████████▊ | 331/376 [15:58<02:09,  2.88s/it]"
     ]
    },
    {
     "name": "stdout",
     "output_type": "stream",
     "text": [
      "get car\n",
      "insidebox\n",
      "hi, my name is 54. speed: (0.10117469278876717, -0.14254605701199805) , pos (885.0, 444.0)Iam 39 frames old, and my probs is 1.1\n",
      "get car\n",
      "insidebox\n",
      "hi, my name is 60. speed: (0.10043624019631835, -0.13433310178834457) , pos (1080.5, 453.0)Iam 21 frames old, and my probs is 1.1\n"
     ]
    },
    {
     "name": "stderr",
     "output_type": "stream",
     "text": [
      "\u001b[A\n",
      " 88%|████████▊ | 332/376 [16:00<02:06,  2.88s/it]"
     ]
    },
    {
     "name": "stdout",
     "output_type": "stream",
     "text": [
      "get car\n",
      "insidebox\n",
      "hi, my name is 54. speed: (0.36070481567326734, -0.085527634207198833) , pos (886.5, 444.0)Iam 40 frames old, and my probs is 1.1\n",
      "get car\n",
      "insidebox\n",
      "hi, my name is 60. speed: (0.66026174411778282, -0.080599861073007095) , pos (1083.5, 453.0)Iam 22 frames old, and my probs is 1.1\n"
     ]
    },
    {
     "name": "stderr",
     "output_type": "stream",
     "text": [
      "\u001b[A\n",
      " 89%|████████▊ | 333/376 [16:03<02:03,  2.88s/it]"
     ]
    },
    {
     "name": "stdout",
     "output_type": "stream",
     "text": [
      "get car\n",
      "insidebox\n",
      "hi, my name is 54. speed: (-0.083577110596029291, 0.34868341947568293) , pos (885.0, 446.0)Iam 41 frames old, and my probs is 1.1\n",
      "get car\n",
      "insidebox\n",
      "hi, my name is 60. speed: (0.39615704647065414, -0.048359916643809078) , pos (1083.5, 453.0)Iam 23 frames old, and my probs is 1.1\n"
     ]
    },
    {
     "name": "stderr",
     "output_type": "stream",
     "text": [
      "\u001b[A\n",
      " 89%|████████▉ | 334/376 [16:06<02:01,  2.89s/it]"
     ]
    },
    {
     "name": "stdout",
     "output_type": "stream",
     "text": [
      "get car\n",
      "insidebox\n",
      "hi, my name is 54. speed: (-0.050146266357618471, 0.20921005168541384) , pos (885.0, 446.0)Iam 42 frames old, and my probs is 1.1\n",
      "get car\n",
      "insidebox\n",
      "hi, my name is 60. speed: (0.8376942278823708, 0.17098405001371064) , pos (1086.5, 454.0)Iam 24 frames old, and my probs is 1.1\n"
     ]
    },
    {
     "name": "stderr",
     "output_type": "stream",
     "text": [
      "\u001b[A\n",
      " 89%|████████▉ | 335/376 [16:09<01:59,  2.90s/it]"
     ]
    },
    {
     "name": "stdout",
     "output_type": "stream",
     "text": [
      "get car\n",
      "insidebox\n",
      "hi, my name is 54. speed: (-0.33008775981457172, 0.12552603101124477) , pos (883.5, 446.0)Iam 43 frames old, and my probs is 1.1\n",
      "get car\n",
      "insidebox\n",
      "hi, my name is 60. speed: (1.5026165367294233, -0.097409569991774386) , pos (1091.5, 453.0)Iam 25 frames old, and my probs is 1.1\n"
     ]
    },
    {
     "name": "stderr",
     "output_type": "stream",
     "text": [
      "\u001b[A\n",
      " 89%|████████▉ | 336/376 [16:12<01:55,  2.89s/it]"
     ]
    },
    {
     "name": "stdout",
     "output_type": "stream",
     "text": [
      "get car\n",
      "insidebox\n",
      "hi, my name is 54. speed: (-0.49805265588874814, 0.075315618606746307) , pos (882.0, 446.0)Iam 44 frames old, and my probs is 1.1\n",
      "get car\n",
      "insidebox\n",
      "hi, my name is 60. speed: (0.90156992203765474, -0.058445741995063014) , pos (1091.5, 453.0)Iam 26 frames old, and my probs is 1.1\n"
     ]
    },
    {
     "name": "stderr",
     "output_type": "stream",
     "text": [
      "\u001b[A\n",
      " 90%|████████▉ | 337/376 [16:15<01:52,  2.89s/it]"
     ]
    },
    {
     "name": "stdout",
     "output_type": "stream",
     "text": [
      "get car\n",
      "insidebox\n",
      "hi, my name is 54. speed: (-0.29883159353325306, -0.35481062883595027) , pos (882.0, 444.0)Iam 45 frames old, and my probs is 1.1\n",
      "get car\n",
      "insidebox\n",
      "hi, my name is 60. speed: (0.54094195322259353, 0.16493255480296118) , pos (1091.5, 454.0)Iam 27 frames old, and my probs is 1.1\n"
     ]
    },
    {
     "name": "stderr",
     "output_type": "stream",
     "text": [
      "\u001b[A\n",
      " 90%|████████▉ | 338/376 [16:18<01:49,  2.88s/it]"
     ]
    },
    {
     "name": "stdout",
     "output_type": "stream",
     "text": [
      "get car\n",
      "insidebox\n",
      "hi, my name is 54. speed: (0.2207010438800448, -0.21288637730157328) , pos (884.0, 444.0)Iam 46 frames old, and my probs is 1.1\n",
      "get car\n",
      "insidebox\n",
      "hi, my name is 60. speed: (1.2245651719335746, -0.0010404671182286107) , pos (1096.0, 453.5)Iam 28 frames old, and my probs is 1.1\n",
      "get car\n",
      "((1008, 430), (1015, 451))\n",
      "new car 63\n",
      "initcar\n"
     ]
    },
    {
     "name": "stderr",
     "output_type": "stream",
     "text": [
      "\u001b[A\n",
      " 90%|█████████ | 339/376 [16:21<01:46,  2.88s/it]"
     ]
    },
    {
     "name": "stdout",
     "output_type": "stream",
     "text": [
      "get car\n",
      "insidebox\n",
      "hi, my name is 54. speed: (0.13242062632803336, -0.12773182638094419) , pos (884.0, 444.0)Iam 47 frames old, and my probs is 1.1\n",
      "get car\n",
      "insidebox\n",
      "hi, my name is 60. speed: (1.0347391031601416, -0.00062428027093688334) , pos (1097.5, 453.5)Iam 29 frames old, and my probs is 1.1\n"
     ]
    },
    {
     "name": "stderr",
     "output_type": "stream",
     "text": [
      "\u001b[A\n",
      " 90%|█████████ | 340/376 [16:24<01:43,  2.88s/it]"
     ]
    },
    {
     "name": "stdout",
     "output_type": "stream",
     "text": [
      "delete 63\n",
      "get car\n",
      "insidebox\n",
      "hi, my name is 54. speed: (-0.52054762420317013, -0.076639095828562126) , pos (881.0, 444.0)Iam 48 frames old, and my probs is 1.1\n",
      "get car\n",
      "insidebox\n",
      "hi, my name is 60. speed: (1.1208434618961005, -0.00037456816256417733) , pos (1100.0, 453.5)Iam 30 frames old, and my probs is 1.1\n"
     ]
    },
    {
     "name": "stderr",
     "output_type": "stream",
     "text": [
      "\u001b[A\n",
      " 91%|█████████ | 341/376 [16:26<01:40,  2.88s/it]"
     ]
    },
    {
     "name": "stdout",
     "output_type": "stream",
     "text": [
      "get car\n",
      "insidebox\n",
      "hi, my name is 54. speed: (0.28767142547808738, -0.045983457497136046) , pos (884.0, 444.0)Iam 49 frames old, and my probs is 1.1\n",
      "get car\n",
      "insidebox\n",
      "hi, my name is 60. speed: (0.67250607713765465, -0.00022474089754014428) , pos (1100.0, 453.5)Iam 31 frames old, and my probs is 1.1\n"
     ]
    },
    {
     "name": "stderr",
     "output_type": "stream",
     "text": [
      "\u001b[A\n",
      " 91%|█████████ | 342/376 [16:29<01:38,  2.91s/it]"
     ]
    },
    {
     "name": "stdout",
     "output_type": "stream",
     "text": [
      "get car\n",
      "insidebox\n",
      "hi, my name is 54. speed: (-0.42739714471313761, -0.027590074498282914) , pos (881.0, 444.0)Iam 50 frames old, and my probs is 1.1\n",
      "get car\n",
      "insidebox\n",
      "hi, my name is 60. speed: (0.40350364628261559, -0.0001348445385276706) , pos (1100.0, 453.5)Iam 32 frames old, and my probs is 1.1\n"
     ]
    },
    {
     "name": "stderr",
     "output_type": "stream",
     "text": [
      "\u001b[A\n",
      " 91%|█████████ | 343/376 [16:32<01:35,  2.90s/it]"
     ]
    },
    {
     "name": "stdout",
     "output_type": "stream",
     "text": [
      "get car\n",
      "insidebox\n",
      "hi, my name is 54. speed: (0.34356171317212059, -0.016554044698970781) , pos (884.0, 444.0)Iam 51 frames old, and my probs is 1.1\n",
      "get car\n",
      "insidebox\n",
      "hi, my name is 60. speed: (1.742102187769569, -8.0906723114922109e-05) , pos (1107.5, 453.5)Iam 33 frames old, and my probs is 1.1\n",
      "get car\n",
      "((1024, 430), (1028, 451))\n",
      "new car 64\n",
      "initcar\n"
     ]
    },
    {
     "name": "stderr",
     "output_type": "stream",
     "text": [
      "\u001b[A\n",
      " 91%|█████████▏| 344/376 [16:35<01:32,  2.90s/it]"
     ]
    },
    {
     "name": "stdout",
     "output_type": "stream",
     "text": [
      "get car\n",
      "insidebox\n",
      "hi, my name is 54. speed: (0.20613702790327504, -0.009932426819381019) , pos (884.0, 444.0)Iam 52 frames old, and my probs is 1.1\n",
      "get car\n",
      "insidebox\n",
      "hi, my name is 60. speed: (1.0452613126617234, -0.20004854403387212) , pos (1107.5, 452.5)Iam 34 frames old, and my probs is 1.1\n"
     ]
    },
    {
     "name": "stderr",
     "output_type": "stream",
     "text": [
      "\u001b[A\n",
      " 92%|█████████▏| 345/376 [16:38<01:29,  2.89s/it]"
     ]
    },
    {
     "name": "stdout",
     "output_type": "stream",
     "text": [
      "delete 64\n",
      "get car\n",
      "insidebox\n",
      "hi, my name is 54. speed: (0.023682216741958112, 0.39404054390837018) , pos (883.5, 446.0)Iam 53 frames old, and my probs is 1.1\n",
      "get car\n",
      "insidebox\n",
      "hi, my name is 60. speed: (0.62715678759702864, -0.62002912642032804) , pos (1107.5, 450.0)Iam 35 frames old, and my probs is 1.1\n"
     ]
    },
    {
     "name": "stderr",
     "output_type": "stream",
     "text": [
      "\u001b[A\n",
      " 92%|█████████▏| 346/376 [16:41<01:26,  2.89s/it]"
     ]
    },
    {
     "name": "stdout",
     "output_type": "stream",
     "text": [
      "get car\n",
      "insidebox\n",
      "hi, my name is 54. speed: (-0.28579066995481694, 0.23642432634502125) , pos (882.0, 446.0)Iam 54 frames old, and my probs is 1.1\n",
      "get car\n",
      "insidebox\n",
      "hi, my name is 60. speed: (0.37629407255823111, 0.12798252414780142) , pos (1107.5, 452.5)Iam 36 frames old, and my probs is 1.1\n"
     ]
    },
    {
     "name": "stderr",
     "output_type": "stream",
     "text": [
      "\u001b[A\n",
      " 92%|█████████▏| 347/376 [16:44<01:23,  2.88s/it]"
     ]
    },
    {
     "name": "stdout",
     "output_type": "stream",
     "text": [
      "get car\n",
      "insidebox\n",
      "hi, my name is 54. speed: (-0.17147440197288372, 0.14185459580701659) , pos (882.0, 446.0)Iam 55 frames old, and my probs is 1.1\n",
      "get car\n",
      "insidebox\n",
      "hi, my name is 60. speed: (0.52577644353493158, 0.076789514488681848) , pos (1109.0, 452.5)Iam 37 frames old, and my probs is 1.1\n"
     ]
    },
    {
     "name": "stderr",
     "output_type": "stream",
     "text": [
      "\u001b[A\n",
      " 93%|█████████▎| 348/376 [16:47<01:20,  2.88s/it]"
     ]
    },
    {
     "name": "stdout",
     "output_type": "stream",
     "text": [
      "get car\n",
      "insidebox\n",
      "hi, my name is 54. speed: (0.19711535881627029, -0.014887242515784674) , pos (883.5, 445.5)Iam 56 frames old, and my probs is 1.1\n",
      "get car\n",
      "insidebox\n",
      "hi, my name is 60. speed: (-0.28453413387901927, 0.14607370869321215) , pos (1106.0, 453.0)Iam 38 frames old, and my probs is 1.1\n"
     ]
    },
    {
     "name": "stderr",
     "output_type": "stream",
     "text": [
      "\u001b[A\n",
      " 93%|█████████▎| 349/376 [16:50<01:17,  2.89s/it]"
     ]
    },
    {
     "name": "stdout",
     "output_type": "stream",
     "text": [
      "get car\n",
      "insidebox\n",
      "hi, my name is 54. speed: (-0.18173078471024179, -0.408932345509471) , pos (882.0, 443.5)Iam 57 frames old, and my probs is 1.1\n",
      "get car\n",
      "insidebox\n",
      "hi, my name is 60. speed: (0.42927951967260558, 0.087644225215925201) , pos (1109.0, 453.0)Iam 39 frames old, and my probs is 1.1\n"
     ]
    },
    {
     "name": "stderr",
     "output_type": "stream",
     "text": [
      "\u001b[A\n",
      " 93%|█████████▎| 350/376 [16:52<01:14,  2.88s/it]"
     ]
    },
    {
     "name": "stdout",
     "output_type": "stream",
     "text": [
      "get car\n",
      "insidebox\n",
      "hi, my name is 54. speed: (-0.70903847082614813, -0.24535940730568284) , pos (879.0, 443.5)Iam 58 frames old, and my probs is 1.1\n",
      "get car\n",
      "insidebox\n",
      "hi, my name is 60. speed: (0.3575677118035408, -0.44741346487044192) , pos (1109.5, 450.5)Iam 40 frames old, and my probs is 1.1\n"
     ]
    },
    {
     "name": "stderr",
     "output_type": "stream",
     "text": [
      "\u001b[A\n",
      " 93%|█████████▎| 351/376 [16:55<01:12,  2.88s/it]"
     ]
    },
    {
     "name": "stdout",
     "output_type": "stream",
     "text": [
      "get car\n",
      "insidebox\n",
      "hi, my name is 54. speed: (-0.42542308249568689, -0.14721564438341217) , pos (879.0, 443.5)Iam 59 frames old, and my probs is 1.1\n",
      "get car\n",
      "insidebox\n",
      "hi, my name is 60. speed: (1.4145406270821244, -0.36844807892226061) , pos (1115.5, 450.0)Iam 41 frames old, and my probs is 1.1\n"
     ]
    },
    {
     "name": "stderr",
     "output_type": "stream",
     "text": [
      "\u001b[A\n",
      " 94%|█████████▎| 352/376 [16:58<01:09,  2.88s/it]"
     ]
    },
    {
     "name": "stdout",
     "output_type": "stream",
     "text": [
      "get car\n",
      "insidebox\n",
      "hi, my name is 54. speed: (-0.25525384949740149, -0.088329386630042445) , pos (879.0, 443.5)Iam 60 frames old, and my probs is 1.1\n",
      "get car\n",
      "insidebox\n",
      "hi, my name is 60. speed: (1.248724376249293, -0.2210688473533573) , pos (1117.5, 450.0)Iam 42 frames old, and my probs is 1.1\n"
     ]
    },
    {
     "name": "stderr",
     "output_type": "stream",
     "text": [
      "\u001b[A\n",
      " 94%|█████████▍| 353/376 [17:01<01:06,  2.88s/it]"
     ]
    },
    {
     "name": "stdout",
     "output_type": "stream",
     "text": [
      "get car\n",
      "insidebox\n",
      "hi, my name is 54. speed: (0.24684769030156298, 0.047002368021976118) , pos (881.0, 444.0)Iam 61 frames old, and my probs is 1.1\n",
      "get car\n",
      "insidebox\n",
      "hi, my name is 60. speed: (0.74923462574956323, 0.36735869158798706) , pos (1117.5, 452.5)Iam 43 frames old, and my probs is 1.1\n"
     ]
    },
    {
     "name": "stderr",
     "output_type": "stream",
     "text": [
      "\u001b[A\n",
      " 94%|█████████▍| 354/376 [17:04<01:03,  2.87s/it]"
     ]
    },
    {
     "name": "stdout",
     "output_type": "stream",
     "text": [
      "get car\n",
      "insidebox\n",
      "hi, my name is 54. speed: (0.14810861418093191, 0.028201420813182415) , pos (881.0, 444.0)Iam 62 frames old, and my probs is 1.1\n",
      "get car\n",
      "insidebox\n",
      "hi, my name is 60. speed: (0.84954077544974593, 0.42041521495279344) , pos (1119.5, 453.5)Iam 44 frames old, and my probs is 1.1\n"
     ]
    },
    {
     "name": "stderr",
     "output_type": "stream",
     "text": [
      "\u001b[A\n",
      " 94%|█████████▍| 355/376 [17:07<01:00,  2.90s/it]"
     ]
    },
    {
     "name": "stdout",
     "output_type": "stream",
     "text": [
      "get car\n",
      "insidebox\n",
      "hi, my name is 54. speed: (0.088865168508554429, 0.016920852487913664) , pos (881.0, 444.0)Iam 63 frames old, and my probs is 1.1\n",
      "get car\n",
      "insidebox\n",
      "hi, my name is 60. speed: (0.7097244652698631, -0.84775087102832725) , pos (1120.5, 448.0)Iam 45 frames old, and my probs is 1.1\n"
     ]
    },
    {
     "name": "stderr",
     "output_type": "stream",
     "text": [
      "\u001b[A\n",
      " 95%|█████████▍| 356/376 [17:10<00:58,  2.91s/it]"
     ]
    },
    {
     "name": "stdout",
     "output_type": "stream",
     "text": [
      "get car\n",
      "insidebox\n",
      "hi, my name is 54. speed: (0.2533191011051425, 0.010152511492753844) , pos (882.0, 444.0)Iam 64 frames old, and my probs is 1.1\n",
      "get car\n",
      "insidebox\n",
      "hi, my name is 60. speed: (0.4258346791619303, -0.7086505226169969) , pos (1120.5, 447.0)Iam 46 frames old, and my probs is 1.1\n"
     ]
    },
    {
     "name": "stderr",
     "output_type": "stream",
     "text": [
      "\u001b[A\n",
      " 95%|█████████▍| 357/376 [17:13<00:54,  2.89s/it]"
     ]
    },
    {
     "name": "stdout",
     "output_type": "stream",
     "text": [
      "get car\n",
      "insidebox\n",
      "hi, my name is 54. speed: (0.7519914606630842, 0.0060915068956477279) , pos (885.0, 444.0)Iam 65 frames old, and my probs is 1.1\n",
      "get car\n",
      "insidebox\n",
      "hi, my name is 60. speed: (0.25550080749716814, 0.67480968642980355) , pos (1120.5, 452.5)Iam 47 frames old, and my probs is 1.1\n"
     ]
    },
    {
     "name": "stderr",
     "output_type": "stream",
     "text": [
      "\u001b[A\n",
      " 95%|█████████▌| 358/376 [17:16<00:51,  2.88s/it]"
     ]
    },
    {
     "name": "stdout",
     "output_type": "stream",
     "text": [
      "get car\n",
      "insidebox\n",
      "hi, my name is 54. speed: (-0.34880512360215932, 0.40365490413738947) , pos (881.0, 446.0)Iam 66 frames old, and my probs is 1.1\n",
      "get car\n",
      "insidebox\n",
      "hi, my name is 60. speed: (1.4533004844983086, 0.40488581185788358) , pos (1127.0, 452.5)Iam 48 frames old, and my probs is 1.1\n"
     ]
    },
    {
     "name": "stderr",
     "output_type": "stream",
     "text": [
      "\u001b[A\n",
      " 95%|█████████▌| 359/376 [17:18<00:48,  2.88s/it]"
     ]
    },
    {
     "name": "stdout",
     "output_type": "stream",
     "text": [
      "get car\n",
      "insidebox\n",
      "hi, my name is 54. speed: (-0.0092830741613036949, -0.15780705751756774) , pos (882.0, 444.0)Iam 67 frames old, and my probs is 1.1\n",
      "get car\n",
      "insidebox\n",
      "hi, my name is 60. speed: (1.0719802906989642, 0.24293148711473361) , pos (1128.0, 452.5)Iam 49 frames old, and my probs is 1.1\n"
     ]
    },
    {
     "name": "stderr",
     "output_type": "stream",
     "text": [
      "\u001b[A\n",
      " 96%|█████████▌| 360/376 [17:21<00:45,  2.87s/it]"
     ]
    },
    {
     "name": "stdout",
     "output_type": "stream",
     "text": [
      "get car\n",
      "insidebox\n",
      "hi, my name is 54. speed: (-0.0055698444967795524, -0.094684234510539617) , pos (882.0, 444.0)Iam 68 frames old, and my probs is 1.1\n",
      "get car\n",
      "insidebox\n",
      "hi, my name is 60. speed: (0.94318817441937086, 0.14575889226884067) , pos (1129.5, 452.5)Iam 50 frames old, and my probs is 1.1\n"
     ]
    },
    {
     "name": "stderr",
     "output_type": "stream",
     "text": [
      "\u001b[A\n",
      " 96%|█████████▌| 361/376 [17:24<00:43,  2.87s/it]"
     ]
    },
    {
     "name": "stdout",
     "output_type": "stream",
     "text": [
      "get car\n",
      "insidebox\n",
      "hi, my name is 54. speed: (-0.0033419066980656005, -0.056810540706318399) , pos (882.0, 444.0)Iam 69 frames old, and my probs is 1.1\n",
      "get car\n",
      "insidebox\n",
      "hi, my name is 60. speed: (0.56591290465160737, 0.087455335361309353) , pos (1129.5, 452.5)Iam 51 frames old, and my probs is 1.1\n"
     ]
    },
    {
     "name": "stderr",
     "output_type": "stream",
     "text": [
      "\u001b[A\n",
      " 96%|█████████▋| 362/376 [17:27<00:40,  2.89s/it]"
     ]
    },
    {
     "name": "stdout",
     "output_type": "stream",
     "text": [
      "get car\n",
      "insidebox\n",
      "hi, my name is 54. speed: (-0.0020051440188331082, -0.03408632442379584) , pos (882.0, 444.0)Iam 70 frames old, and my probs is 1.1\n",
      "get car\n",
      "insidebox\n",
      "hi, my name is 60. speed: (0.73954774279095226, 0.052473201216785031) , pos (1131.5, 452.5)Iam 52 frames old, and my probs is 1.1\n"
     ]
    },
    {
     "name": "stderr",
     "output_type": "stream",
     "text": [
      "\u001b[A\n",
      " 97%|█████████▋| 363/376 [17:30<00:38,  2.95s/it]"
     ]
    },
    {
     "name": "stdout",
     "output_type": "stream",
     "text": [
      "get car\n",
      "insidebox\n",
      "hi, my name is 54. speed: (-0.30120308641129023, -0.020451794654274522) , pos (880.5, 444.0)Iam 71 frames old, and my probs is 1.1\n",
      "get car\n",
      "insidebox\n",
      "hi, my name is 60. speed: (0.44372864567455261, -0.46851607926993166) , pos (1131.5, 450.0)Iam 53 frames old, and my probs is 1.1\n",
      "get car\n",
      "((1052, 430), (1054, 451))\n",
      "new car 65\n",
      "initcar\n"
     ]
    },
    {
     "name": "stderr",
     "output_type": "stream",
     "text": [
      "\u001b[A\n",
      " 97%|█████████▋| 364/376 [17:33<00:35,  2.95s/it]"
     ]
    },
    {
     "name": "stdout",
     "output_type": "stream",
     "text": [
      "get car\n",
      "insidebox\n",
      "hi, my name is 54. speed: (0.1192781481532289, -0.012271076792566876) , pos (882.0, 444.0)Iam 72 frames old, and my probs is 1.1\n",
      "get car\n",
      "insidebox\n",
      "hi, my name is 60. speed: (0.26623718740472563, -0.28110964756195894) , pos (1131.5, 450.0)Iam 54 frames old, and my probs is 1.1\n"
     ]
    },
    {
     "name": "stderr",
     "output_type": "stream",
     "text": [
      "\u001b[A\n",
      " 97%|█████████▋| 365/376 [17:36<00:32,  3.00s/it]"
     ]
    },
    {
     "name": "stdout",
     "output_type": "stream",
     "text": [
      "delete 65\n",
      "get car\n",
      "insidebox\n",
      "hi, my name is 54. speed: (-0.12843311110807376, -0.30736264607554181) , pos (881.0, 442.5)Iam 73 frames old, and my probs is 1.1\n",
      "get car\n",
      "insidebox\n",
      "hi, my name is 60. speed: (0.85974231244285781, -0.16866578853717762) , pos (1135.0, 450.0)Iam 55 frames old, and my probs is 1.1\n"
     ]
    },
    {
     "name": "stderr",
     "output_type": "stream",
     "text": [
      "\u001b[A\n",
      " 97%|█████████▋| 366/376 [17:39<00:30,  3.01s/it]"
     ]
    },
    {
     "name": "stdout",
     "output_type": "stream",
     "text": [
      "get car\n",
      "insidebox\n",
      "hi, my name is 54. speed: (0.72294013333515117, -0.18441758764532423) , pos (885.0, 442.5)Iam 74 frames old, and my probs is 1.1\n",
      "get car\n",
      "insidebox\n",
      "hi, my name is 60. speed: (-6.8841546125342923, -0.10119947312230837) , pos (1098.0, 450.0)Iam 56 frames old, and my probs is 1.1\n",
      "get car\n",
      "((1152, 422), (1208, 482))\n",
      "new car 66\n",
      "initcar\n",
      "get car\n",
      "insidebox\n",
      "hi, my name is 60. speed: (4.092676309972564, -1.0809595784978465) , pos (1146.0, 445.0)Iam 57 frames old, and my probs is 1.2\n"
     ]
    },
    {
     "name": "stderr",
     "output_type": "stream",
     "text": [
      "\u001b[A\n",
      " 98%|█████████▊| 367/376 [17:42<00:27,  3.01s/it]"
     ]
    },
    {
     "name": "stdout",
     "output_type": "stream",
     "text": [
      "get car\n",
      "insidebox\n",
      "hi, my name is 54. speed: (1.1337640800011006, -0.11065055258719383) , pos (888.5, 442.5)Iam 75 frames old, and my probs is 1.1\n",
      "get car\n",
      "insidebox\n",
      "hi, my name is 60. speed: (-6.1443942140164669, 0.35142425290129609) , pos (1103.0, 450.0)Iam 58 frames old, and my probs is 1.1\n",
      "get car\n",
      "insidebox\n",
      "hi, my name is 66. speed: (0.59999999999999987, 1.0999999999999996) , pos (1183.0, 457.5)Iam 1 frames old, and my probs is 0.30000000000000004\n"
     ]
    },
    {
     "name": "stderr",
     "output_type": "stream",
     "text": [
      "\u001b[A\n",
      " 98%|█████████▊| 368/376 [17:45<00:24,  3.03s/it]"
     ]
    },
    {
     "name": "stdout",
     "output_type": "stream",
     "text": [
      "get car\n",
      "insidebox\n",
      "hi, my name is 54. speed: (0.28025844800065491, 0.23360966844767966) , pos (886.5, 444.0)Iam 76 frames old, and my probs is 1.1\n",
      "get car\n",
      "insidebox\n",
      "hi, my name is 60. speed: (-3.6866365284098688, 0.210854551740772) , pos (1103.0, 450.0)Iam 59 frames old, and my probs is 1.1\n",
      "get car\n",
      "insidebox\n",
      "hi, my name is 66. speed: (0.36000000000001814, -0.040000000000004587) , pos (1183.0, 454.0)Iam 2 frames old, and my probs is 0.4\n"
     ]
    },
    {
     "name": "stderr",
     "output_type": "stream",
     "text": [
      "\u001b[A\n",
      " 98%|█████████▊| 369/376 [17:48<00:21,  3.06s/it]"
     ]
    },
    {
     "name": "stdout",
     "output_type": "stream",
     "text": [
      "get car\n",
      "insidebox\n",
      "hi, my name is 54. speed: (0.56815506880040201, 0.1401658010686069) , pos (888.5, 444.0)Iam 77 frames old, and my probs is 1.1\n",
      "get car\n",
      "insidebox\n",
      "hi, my name is 60. speed: (-3.2119819170459025, 0.62651273104445848) , pos (1098.0, 452.5)Iam 60 frames old, and my probs is 1.1\n",
      "get car\n",
      "insidebox\n",
      "hi, my name is 66. speed: (1.4159999999999888, -0.023999999999999581) , pos (1189.0, 454.0)Iam 3 frames old, and my probs is 0.5\n",
      "get car\n",
      "insidebox\n",
      "hi, my name is 60. speed: (-11.569585533636721, -0.59878981516443286) , pos (1053.0, 447.0)Iam 61 frames old, and my probs is 1.2\n",
      "get car\n",
      "((1142, 430), (1142, 444))\n",
      "new car 67\n",
      "initcar\n"
     ]
    },
    {
     "name": "stderr",
     "output_type": "stream",
     "text": [
      "\u001b[A\n",
      " 98%|█████████▊| 370/376 [17:52<00:18,  3.08s/it]"
     ]
    },
    {
     "name": "stdout",
     "output_type": "stream",
     "text": [
      "get car\n",
      "insidebox\n",
      "hi, my name is 54. speed: (0.34089304128024855, 0.48409948064115882) , pos (888.5, 446.0)Iam 78 frames old, and my probs is 1.1\n",
      "get car\n",
      "((1056, 412), (1150, 493))\n",
      "new car 68\n",
      "initcar\n",
      "get car\n",
      "insidebox\n",
      "hi, my name is 66. speed: (-0.35039999999999649, -0.014399999999999484) , pos (1183.0, 454.0)Iam 4 frames old, and my probs is 0.6000000000000001\n",
      "get car\n",
      "insidebox\n",
      "hi, my name is 60. speed: (-6.9417513201820462, -0.3592738890986617) , pos (1053.0, 447.0)Iam 62 frames old, and my probs is 1.1\n"
     ]
    },
    {
     "name": "stderr",
     "output_type": "stream",
     "text": [
      "\u001b[A\n",
      " 99%|█████████▊| 371/376 [17:55<00:15,  3.10s/it]"
     ]
    },
    {
     "name": "stdout",
     "output_type": "stream",
     "text": [
      "delete 67\n",
      "get car\n",
      "insidebox\n",
      "hi, my name is 54. speed: (0.0045358247681596131, 0.29045968838470021) , pos (887.5, 446.0)Iam 79 frames old, and my probs is 1.1\n",
      "get car\n",
      "insidebox\n",
      "hi, my name is 68. speed: (0.0, 0.0) , pos (1103.0, 452.5)Iam 1 frames old, and my probs is 0.30000000000000004\n",
      "get car\n",
      "insidebox\n",
      "hi, my name is 66. speed: (-0.21023999999998999, -0.40863999999999484) , pos (1183.0, 452.0)Iam 5 frames old, and my probs is 0.7000000000000002\n",
      "get car\n",
      "insidebox\n",
      "hi, my name is 60. speed: (-4.1650507921092395, -0.21556433345919179) , pos (1053.0, 447.0)Iam 63 frames old, and my probs is 1.1\n"
     ]
    },
    {
     "name": "stderr",
     "output_type": "stream",
     "text": [
      "\u001b[A\n",
      " 99%|█████████▉| 372/376 [17:58<00:12,  3.11s/it]"
     ]
    },
    {
     "name": "stdout",
     "output_type": "stream",
     "text": [
      "get car\n",
      "insidebox\n",
      "hi, my name is 54. speed: (-0.39727850513910035, 0.87427581303081703) , pos (885.5, 449.5)Iam 80 frames old, and my probs is 1.1\n",
      "get car\n",
      "insidebox\n",
      "hi, my name is 68. speed: (0.0, 0.0) , pos (1103.0, 452.5)Iam 2 frames old, and my probs is 0.4\n",
      "get car\n",
      "insidebox\n",
      "hi, my name is 66. speed: (-1.6261440000000147, -2.1451839999999973) , pos (1175.5, 442.5)Iam 6 frames old, and my probs is 0.8000000000000003\n",
      "get car\n",
      "insidebox\n",
      "hi, my name is 60. speed: (-2.4990304752655437, 0.67066139992448892) , pos (1053.0, 451.0)Iam 64 frames old, and my probs is 1.1\n"
     ]
    },
    {
     "name": "stderr",
     "output_type": "stream",
     "text": [
      "\u001b[A\n",
      " 99%|█████████▉| 373/376 [18:01<00:09,  3.09s/it]"
     ]
    },
    {
     "name": "stdout",
     "output_type": "stream",
     "text": [
      "get car\n",
      "insidebox\n",
      "hi, my name is 54. speed: (-0.53836710308346625, 0.52456548781849244) , pos (884.0, 449.5)Iam 81 frames old, and my probs is 1.1\n",
      "get car\n",
      "insidebox\n",
      "hi, my name is 68. speed: (5.1999999999999993, 0.0) , pos (1129.0, 452.5)Iam 3 frames old, and my probs is 0.5\n"
     ]
    },
    {
     "name": "stderr",
     "output_type": "stream",
     "text": [
      "\u001b[A\n",
      " 99%|█████████▉| 374/376 [18:04<00:06,  3.12s/it]"
     ]
    },
    {
     "name": "stdout",
     "output_type": "stream",
     "text": [
      "get car\n",
      "insidebox\n",
      "hi, my name is 54. speed: (-0.023020261850075607, 0.31473929269109269) , pos (885.5, 449.5)Iam 82 frames old, and my probs is 1.1\n",
      "get car\n",
      "insidebox\n",
      "hi, my name is 68. speed: (3.0199999999999907, 0.0) , pos (1128.5, 452.5)Iam 4 frames old, and my probs is 0.6000000000000001\n",
      "get car\n",
      "insidebox\n",
      "hi, my name is 60. speed: (-0.99961219010623548, 0.36826455996979773) , pos (1053.0, 451.5)Iam 65 frames old, and my probs is 1.0\n"
     ]
    },
    {
     "name": "stderr",
     "output_type": "stream",
     "text": [
      "\u001b[A\n",
      "100%|█████████▉| 375/376 [18:07<00:03,  3.12s/it]"
     ]
    },
    {
     "name": "stdout",
     "output_type": "stream",
     "text": [
      "get car\n",
      "insidebox\n",
      "hi, my name is 54. speed: (-0.013812157110041981, 0.18884357561465109) , pos (885.5, 449.5)Iam 83 frames old, and my probs is 1.1\n",
      "get car\n",
      "insidebox\n",
      "hi, my name is 68. speed: (2.2119999999999966, 0.0) , pos (1130.5, 452.5)Iam 5 frames old, and my probs is 0.7000000000000002\n"
     ]
    },
    {
     "name": "stderr",
     "output_type": "stream",
     "text": [
      "\u001b[A\n",
      "\u001b[A"
     ]
    },
    {
     "name": "stdout",
     "output_type": "stream",
     "text": [
      "[MoviePy] Done.\n",
      "[MoviePy] >>>> Video ready: test_videos_output/project_video_short.mp4 \n",
      "\n",
      "CPU times: user 18min 8s, sys: 2.21 s, total: 18min 10s\n",
      "Wall time: 18min 10s\n"
     ]
    }
   ],
   "source": [
    "car_tracker=carTracker()\n",
    "\n",
    "cnt=[0,0,0,0,0,0,0,0]\n",
    "dist_pickle=load_pickle(\"model\")\n",
    "heatmap = np.zeros_like(image[:,:,0])\n",
    "\n",
    "video_output = 'test_videos_output/project_video_short.mp4'\n",
    "video_input = VideoFileClip(\"project_video.mp4\").subclip(25,40)\n",
    "#clip1 = VideoFileClip(\"test_videos/solidWhiteRight.mp4\")\n",
    "video = video_input.fl_image(lambda img: process_image(img,dist_pickle,heatmap,car_tracker,cnt)) #NOTE: this function expects color images!!\n",
    "%time video.write_videofile(video_output, audio=False)\n",
    "\n",
    "#HTML(\"\"\"\n",
    "#<video width=\"960\" height=\"540\" controls>\n",
    "#  <source src=\"{0}\">\n",
    "#</video>\n",
    "#\"\"\".format(video))"
   ]
  },
  {
   "cell_type": "code",
   "execution_count": null,
   "metadata": {},
   "outputs": [],
   "source": []
  },
  {
   "cell_type": "code",
   "execution_count": null,
   "metadata": {},
   "outputs": [],
   "source": []
  },
  {
   "cell_type": "code",
   "execution_count": null,
   "metadata": {},
   "outputs": [],
   "source": []
  }
 ],
 "metadata": {
  "kernelspec": {
   "display_name": "Python 3",
   "language": "python",
   "name": "python3"
  },
  "language_info": {
   "codemirror_mode": {
    "name": "ipython",
    "version": 3
   },
   "file_extension": ".py",
   "mimetype": "text/x-python",
   "name": "python",
   "nbconvert_exporter": "python",
   "pygments_lexer": "ipython3",
   "version": "3.6.3"
  }
 },
 "nbformat": 4,
 "nbformat_minor": 2
}
