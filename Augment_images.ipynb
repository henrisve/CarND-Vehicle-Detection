{
 "cells": [
  {
   "cell_type": "code",
   "execution_count": 2,
   "metadata": {},
   "outputs": [],
   "source": [
    "import matplotlib.image as mpimg\n",
    "import matplotlib.pyplot as plt\n",
    "%matplotlib inline\n",
    "import numpy as np\n",
    "import cv2\n",
    "import os\n",
    "import glob\n",
    "\n",
    "\n",
    "\n",
    "def warp_image(image,angle):\n",
    "    shape=np.shape(image)\n",
    "    zoomx=np.random.uniform(0.8,1.2)\n",
    "    #zoomxy=np.random.uniform(-0.2,0.2)\n",
    "    zoomy=np.random.uniform(0.8,1.2)#zoomx-zoomxy\n",
    "    zoomxy=zoomx-zoomy\n",
    "    extrapixelsx=(shape[0]-shape[0]*zoomx)/2\n",
    "    extrapixelsy=(shape[1]-shape[1]*zoomy)/2\n",
    "    movex=np.random.uniform(-30,30)\n",
    "    movey=np.random.uniform(-15,15)\n",
    "    posx=extrapixelsx+movex/(zoomx*2) \n",
    "    posy=extrapixelsy+movey/(zoomy*2)\n",
    "    skewx=np.random.uniform(-0.1,0.1)\n",
    "    skewy=np.random.uniform(-0.05,0.05)  ##take it easy with this!\n",
    "    #print(f\"zoomx {zoomx},zoomy {zoomy},movex {movex}, movey {movey}, skewx {skewx}, skewy {skewy}\")\n",
    "    M = np.float32([[zoomx,skewx,posx],[skewy,zoomy,posy]])\n",
    "    image= cv2.warpAffine(image,M,(shape[1],shape[0]), borderMode=cv2.BORDER_REPLICATE)\n",
    "    return image\n",
    "\n",
    "def change_colors_image(image):\n",
    "    image = image.astype(np.int32)\n",
    "    sigma=30 ##difference between channels\n",
    "    mu=np.random.randint(-100,100) #brightness\n",
    "    rnds = np.round(np.random.normal(mu, sigma, 3)).astype(int)\n",
    "    for i,r in enumerate(rnds):\n",
    "        if np.random.rand() < 0.1:\n",
    "            image[:,:,i]=255-image[:,:,i]\n",
    "            \n",
    "        \n",
    "        image[:,:,i]= np.clip(image[:,:,i] + r,0,255)\n",
    "\n",
    "    return image.astype(np.uint8)"
   ]
  },
  {
   "cell_type": "code",
   "execution_count": 4,
   "metadata": {},
   "outputs": [
    {
     "name": "stdout",
     "output_type": "stream",
     "text": [
      "In our dataset we have 8792 car images and 8968\n"
     ]
    }
   ],
   "source": [
    "cars = glob.glob('data/vehicles/**/*.png')\n",
    "notcars = glob.glob('data/non-vehicles/**/*.png')\n",
    "print(f\"In our dataset we have {len(cars)} car images and {len(notcars)}\")\n",
    "#In our dataset we have 8792 car images and 8968\n",
    "# This is rather similar, but lets create more!"
   ]
  },
  {
   "cell_type": "code",
   "execution_count": null,
   "metadata": {},
   "outputs": [],
   "source": []
  }
 ],
 "metadata": {
  "kernelspec": {
   "display_name": "Python 3",
   "language": "python",
   "name": "python3"
  },
  "language_info": {
   "codemirror_mode": {
    "name": "ipython",
    "version": 3
   },
   "file_extension": ".py",
   "mimetype": "text/x-python",
   "name": "python",
   "nbconvert_exporter": "python",
   "pygments_lexer": "ipython3",
   "version": "3.6.3"
  }
 },
 "nbformat": 4,
 "nbformat_minor": 2
}
